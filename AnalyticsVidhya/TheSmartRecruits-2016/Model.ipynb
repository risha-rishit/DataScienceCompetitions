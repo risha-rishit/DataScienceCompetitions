{
 "cells": [
  {
   "cell_type": "markdown",
   "metadata": {
    "collapsed": true
   },
   "source": [
    "## The Smart Recruits\n",
    "### 23/07/2016\n",
    "Rui Mendes\n"
   ]
  },
  {
   "cell_type": "code",
   "execution_count": 4,
   "metadata": {
    "collapsed": true
   },
   "outputs": [],
   "source": [
    "import numpy as np # linear algebra\n",
    "import pandas as pd # data processing, CSV file I/O (e.g. pd.read_csv)\n",
    "from datetime import datetime"
   ]
  },
  {
   "cell_type": "code",
   "execution_count": 5,
   "metadata": {
    "collapsed": true
   },
   "outputs": [],
   "source": [
    "def loadTrainAndTestDatasets():\n",
    "    train_df = pd.read_csv(\"data/Train_pjb2QcD.csv\")\n",
    "    test_df = pd.read_csv(\"data/Test_wyCirpO.csv\")\n",
    "    return train_df, test_df\n"
   ]
  },
  {
   "cell_type": "code",
   "execution_count": 6,
   "metadata": {
    "collapsed": false
   },
   "outputs": [],
   "source": [
    "from datetime import date\n",
    "\n",
    "def calculate_age(born):\n",
    "    today = date.today()\n",
    "    date_object = datetime.strptime(born, \"%m/%d/%Y\")\n",
    "    born_year = date_object.year\n",
    "    born_month = date_object.month\n",
    "    born_day = date_object.day\n",
    "    \n",
    "    return today.year - born_year - ((today.month, today.day) < (born_month, born_day))\n"
   ]
  },
  {
   "cell_type": "code",
   "execution_count": 21,
   "metadata": {
    "collapsed": false
   },
   "outputs": [],
   "source": [
    "def prepareDatasets(train_df, test_df):\n",
    "    \n",
    "    print('-- Transformation step has begun --- ')\n",
    "    ## JOIN train and test datasets\n",
    "    all_data = pd.concat([train_df, test_df])\n",
    "    \n",
    "    train_length = train_df.shape[0]\n",
    "    \n",
    "    \n",
    "    #Separating target variable\n",
    "    train_outcome = train_df[\"Business_Sourced\"]\n",
    "    all_data.drop([\"Business_Sourced\"], axis=1, inplace=True)\n",
    "    \n",
    "    #Get Test IDs\n",
    "    test_IDS = test_df['ID']\n",
    "\n",
    "    # Drop columns\n",
    "    all_data.drop([\"ID\",\"Manager_DOJ\", \"Manager_DoB\"], axis=1, inplace=True)\n",
    "    \n",
    "    \n",
    "    # Fill NA values\n",
    "    all_data.loc[(all_data['Applicant_City_PIN'].isnull()),'Applicant_City_PIN'] = 'None'\n",
    "    all_data.loc[(all_data['Applicant_BirthDate'].isnull()),'Applicant_BirthDate'] = all_data['Applicant_BirthDate'].mode()[0]\n",
    "    all_data.loc[(all_data['Manager_Gender'].isnull()),'Manager_Gender'] = all_data['Manager_Gender'].mode()[0]\n",
    "    all_data.loc[(all_data['Applicant_Gender'].isnull()),'Applicant_Gender'] = all_data['Applicant_Gender'].mode()[0]\n",
    "    all_data.loc[(all_data['Applicant_Marital_Status'].isnull()),'Applicant_Marital_Status'] = 'None'\n",
    "    all_data.loc[(all_data['Manager_Status'].isnull()),'Manager_Status'] = 'None'\n",
    "    all_data.loc[(all_data['Applicant_Occupation'].isnull()),'Applicant_Occupation'] = 'Others'\n",
    "    all_data.loc[(all_data['Manager_Joining_Designation'].isnull()),'Manager_Joining_Designation'] = 'Other'\n",
    "    all_data.loc[(all_data['Manager_Current_Designation'].isnull()),'Manager_Current_Designation'] = 'Other'\n",
    "    all_data.loc[(all_data['Applicant_Qualification'].isnull()),'Applicant_Qualification'] = 'Others'\n",
    "    all_data.loc[(all_data['Manager_Business'].isnull()),'Manager_Business'] = all_data['Manager_Business'].mean()\n",
    "    all_data.loc[(all_data['Manager_Business2'].isnull()),'Manager_Business2'] = all_data['Manager_Business2'].mean()\n",
    "    all_data.loc[(all_data['Manager_Grade'].isnull()),'Manager_Grade'] = all_data['Manager_Grade'].mean()\n",
    "    all_data.loc[(all_data['Manager_Num_Application'].isnull()),'Manager_Num_Application'] = all_data['Manager_Num_Application'].mean()\n",
    "    all_data.loc[(all_data['Manager_Num_Coded'].isnull()),'Manager_Num_Coded'] = all_data['Manager_Num_Coded'].mean()\n",
    "    all_data.loc[(all_data['Manager_Num_Products'].isnull()),'Manager_Num_Products'] = all_data['Manager_Num_Products'].mean()\n",
    "    all_data.loc[(all_data['Manager_Num_Products2'].isnull()),'Manager_Num_Products2'] = all_data['Manager_Num_Products2'].mean()\n",
    "    print('  * FILL NA VALUES is completed! ')\n",
    "    \n",
    "    \n",
    "    # Application_Receipt_Date\n",
    "    all_data['Application_Receipt_Date_Year'] = pd.DatetimeIndex(all_data['Application_Receipt_Date']).year\n",
    "    all_data['Application_Receipt_Date_Month'] = pd.DatetimeIndex(all_data['Application_Receipt_Date']).month\n",
    "    all_data['Application_Receipt_Date_Day'] = pd.DatetimeIndex(all_data['Application_Receipt_Date']).day\n",
    "    all_data.drop([\"Application_Receipt_Date\"], axis=1, inplace=True)\n",
    "    print('  * Application_Receipt_Date is completed! ')\n",
    "    \n",
    "    # Applicant_BirthDate    \n",
    "    #all_data['Applicant_BirthDate_Year'] = pd.DatetimeIndex(all_data['Applicant_BirthDate']).year\n",
    "    #all_data['Applicant_BirthDate_Month'] = pd.DatetimeIndex(all_data['Applicant_BirthDate']).month\n",
    "    #all_data['Applicant_BirthDate_Day'] = pd.DatetimeIndex(all_data['Applicant_BirthDate']).day\n",
    "    all_data[\"Applicant_Age\"] = all_data['Applicant_BirthDate'].apply(calculate_age)\n",
    "    all_data.drop([\"Applicant_BirthDate\"], axis=1, inplace=True)\n",
    "    print('  * Applicant_BirthDate is completed! ')\n",
    "    \n",
    "    # Manager_Gender\n",
    "    all_data[\"Manager_Gender\"] = all_data['Manager_Gender'].apply(lambda e : 1 if \"M\" else 0 )\n",
    "    print('  * Manager_Gender is completed! ')\n",
    "    \n",
    "    \n",
    "    # Applicant_Gender\n",
    "    all_data[\"Applicant_Gender\"] = all_data['Applicant_Gender'].apply(lambda e : 1 if \"M\" else 0 )\n",
    "    print('  * Applicant_Gender is completed! ')\n",
    "    \n",
    "    ########################################################################################################\n",
    "    #all_data['is_holiday'] = all_data.DateTime.apply(is_holiday)\n",
    "    #print('       # IS HOLIDAY is completed! ')\n",
    "    #all_data['is_weekend'] = all_data.DateTime.apply(is_weekend)\n",
    "    #print('       # IS WEEKEND is completed! ')\n",
    "    #all_data['season'] = all_data.DateTime.apply(get_season)\n",
    "    #print('       # SEASON is completed! ')\n",
    "    \n",
    "    #all_data[\"is_mix\"] = all_data['Breed'].apply(lambda e : 1 if \"Mix\" in e else 0 )\n",
    "    #print('  * BREED is completed! ')\n",
    "    ########################################################################################################\n",
    "    \n",
    "    #Normalize columns\n",
    "    cols_to_norm = ['Manager_Grade', 'Manager_Business', 'Manager_Business2', 'Manager_Grade', \n",
    "                    'Manager_Num_Application', 'Manager_Num_Coded', 'Manager_Num_Products', \n",
    "                    'Manager_Num_Products2', 'Application_Receipt_Date_Year', \n",
    "                    'Application_Receipt_Date_Month', 'Application_Receipt_Date_Day',\n",
    "                    'Applicant_Age', \n",
    "                   #'Applicant_BirthDate_Year', 'Applicant_BirthDate_Month', 'Applicant_BirthDate_Day'\n",
    "                   ]\n",
    "    all_data[cols_to_norm] = all_data[cols_to_norm].apply(lambda x: (x - x.mean()) / (x.max() - x.min()))\n",
    "    \n",
    "    \n",
    "    # http://pandas.pydata.org/pandas-docs/stable/generated/pandas.get_dummies.html\n",
    "    #Encode the categorical data of all_data, column by column due memory restrictions\n",
    "    Office_PIN_Status_encoded = pd.get_dummies(all_data['Office_PIN'], columns='Office_PIN', prefix='Office_PIN')\n",
    "    Applicant_Marital_Status_encoded = pd.get_dummies(all_data['Applicant_Marital_Status'], columns='Applicant_Marital_Status', \n",
    "                                                      prefix='Applicant_Marital_Status')\n",
    "    Applicant_Occupation_encoded = pd.get_dummies(all_data['Applicant_Occupation'], columns='Applicant_Occupation'\n",
    "                                                 , prefix='Applicant_Occupation')\n",
    "    Manager_Status_encoded = pd.get_dummies(all_data['Manager_Status'], columns='Manager_Status', prefix='Manager_Status')\n",
    "    Applicant_City_PIN_encoded = pd.get_dummies(all_data['Applicant_City_PIN'], columns='Applicant_City_PIN', \n",
    "                                                prefix='Applicant_City_PIN')\n",
    "    \n",
    "    Applicant_Qualification_encoded = pd.get_dummies(all_data['Applicant_Qualification'], columns='Applicant_Qualification'\n",
    "                                                 , prefix='Applicant_Qualification')\n",
    "    Manager_Joining_Designation_encoded = pd.get_dummies(all_data['Manager_Joining_Designation'], columns='Manager_Joining_Designation'\n",
    "                                                 , prefix='Manager_Joining_Designation')\n",
    "    Manager_Current_Designation_encoded = pd.get_dummies(all_data['Manager_Current_Designation'], columns='Manager_Current_Designation'\n",
    "                                                 , prefix='Manager_Current_Designation')\n",
    "    \n",
    "    print('  * GET DUMMIES is completed! ')\n",
    "    \n",
    "    # http://pandas.pydata.org/pandas-docs/stable/merging.html\n",
    "    all_data.drop([\"Office_PIN\"], axis=1, inplace=True)\n",
    "    all_data.drop([\"Applicant_Marital_Status\"], axis=1, inplace=True)\n",
    "    all_data.drop([\"Applicant_Occupation\"], axis=1, inplace=True)\n",
    "    all_data.drop([\"Manager_Status\"], axis=1, inplace=True)\n",
    "    all_data.drop([\"Applicant_City_PIN\"], axis=1, inplace=True)\n",
    "    all_data.drop([\"Applicant_Qualification\"], axis=1, inplace=True)\n",
    "    all_data.drop([\"Manager_Joining_Designation\"], axis=1, inplace=True)\n",
    "    all_data.drop([\"Manager_Current_Designation\"], axis=1, inplace=True)\n",
    "    print('  * DROP GET DUMMIES is completed! ')\n",
    "    \n",
    "    all_data_encoded = pd.concat([all_data, Office_PIN_Status_encoded, Applicant_Marital_Status_encoded, \n",
    "                                  Applicant_Occupation_encoded, Manager_Status_encoded, \n",
    "                                  Applicant_City_PIN_encoded, Applicant_Qualification_encoded,\n",
    "                                  Manager_Joining_Designation_encoded, Manager_Current_Designation_encoded], axis=1)\n",
    "    \n",
    "    \n",
    "    #Split again for train and test\n",
    "    train = all_data_encoded[:train_length]\n",
    "    test = all_data_encoded[train_length:]\n",
    "    \n",
    "    print('-- Transformation step has finished --- ')\n",
    "    \n",
    "    return train_outcome, test_IDS, train, test"
   ]
  },
  {
   "cell_type": "markdown",
   "metadata": {},
   "source": [
    "## Cross-validation metrics"
   ]
  },
  {
   "cell_type": "code",
   "execution_count": 22,
   "metadata": {
    "collapsed": true
   },
   "outputs": [],
   "source": [
    "from sklearn import metrics\n",
    "from sklearn.cross_validation import train_test_split\n",
    "\n",
    "def calculateCVMetrics(train, train_outcome, model):\n",
    "    \n",
    "    #Training a RF to get some metrics\n",
    "    X_train, X_val, y_train, y_val = train_test_split(train, train_outcome, test_size=0.3)\n",
    "    y_pred_val = makePredictions(model, X_val)\n",
    "\n",
    "    print('ROC AUC score')\n",
    "    print(metrics.roc_auc_score(y_val, y_pred_val))\n"
   ]
  },
  {
   "cell_type": "markdown",
   "metadata": {},
   "source": [
    "## Create Model"
   ]
  },
  {
   "cell_type": "code",
   "execution_count": 46,
   "metadata": {
    "collapsed": true
   },
   "outputs": [],
   "source": [
    "from sklearn.ensemble import RandomForestClassifier\n",
    "\n",
    "def CreateFinalModel(train, train_outcome):\n",
    "    \n",
    "    model = RandomForestClassifier(n_estimators=5000,n_jobs=5)\n",
    "    model.fit(train, train_outcome)\n",
    "    \n",
    "    return model"
   ]
  },
  {
   "cell_type": "markdown",
   "metadata": {},
   "source": [
    "## Create predictions"
   ]
  },
  {
   "cell_type": "code",
   "execution_count": 24,
   "metadata": {
    "collapsed": true
   },
   "outputs": [],
   "source": [
    "def makePredictions(model, test):\n",
    "    \n",
    "    return model.predict(test) "
   ]
  },
  {
   "cell_type": "markdown",
   "metadata": {},
   "source": [
    "## Create Submission File"
   ]
  },
  {
   "cell_type": "code",
   "execution_count": 25,
   "metadata": {
    "collapsed": true
   },
   "outputs": [],
   "source": [
    "from datetime import datetime\n",
    "\n",
    "def createCSVSubmissionFile(predictions, ids):\n",
    "    \n",
    "    results = pd.read_csv(\"submissions/Sample_Submission_RHYDQa4.csv\")\n",
    "    results['ID'], results['Business_Sourced'] = ids.values, predictions\n",
    "    \n",
    "    now = datetime.now().strftime(\"%Y%m%d-%H%M%S\")\n",
    "    fileName = \"submission_\" + now + \".csv\"\n",
    "    results.to_csv(\"submissions/\" + fileName, index=False)\n"
   ]
  },
  {
   "cell_type": "markdown",
   "metadata": {},
   "source": [
    "# RUN ALL STEPS"
   ]
  },
  {
   "cell_type": "code",
   "execution_count": 26,
   "metadata": {
    "collapsed": true
   },
   "outputs": [],
   "source": [
    "train_df, test_df = loadTrainAndTestDatasets()"
   ]
  },
  {
   "cell_type": "code",
   "execution_count": 27,
   "metadata": {
    "collapsed": false
   },
   "outputs": [
    {
     "name": "stdout",
     "output_type": "stream",
     "text": [
      "-- Transformation step has begun --- \n",
      "  * FILL NA VALUES is completed! \n",
      "  * Application_Receipt_Date is completed! \n",
      "  * Applicant_BirthDate is completed! \n",
      "  * Manager_Gender is completed! \n",
      "  * Applicant_Gender is completed! \n",
      "  * GET DUMMIES is completed! \n",
      "  * DROP GET DUMMIES is completed! \n",
      "-- Transformation step has finished --- \n"
     ]
    }
   ],
   "source": [
    "train_outcome, test_IDS, train, test = prepareDatasets(train_df, test_df)"
   ]
  },
  {
   "cell_type": "code",
   "execution_count": 28,
   "metadata": {
    "collapsed": false
   },
   "outputs": [
    {
     "data": {
      "text/plain": [
       "3908"
      ]
     },
     "execution_count": 28,
     "metadata": {},
     "output_type": "execute_result"
    }
   ],
   "source": [
    "len(train.columns)"
   ]
  },
  {
   "cell_type": "code",
   "execution_count": 29,
   "metadata": {
    "collapsed": false
   },
   "outputs": [],
   "source": [
    "#train.head()"
   ]
  },
  {
   "cell_type": "code",
   "execution_count": 30,
   "metadata": {
    "collapsed": false
   },
   "outputs": [],
   "source": [
    "#test.head()"
   ]
  },
  {
   "cell_type": "code",
   "execution_count": 31,
   "metadata": {
    "collapsed": false
   },
   "outputs": [],
   "source": [
    "finalModel = CreateFinalModel(train, train_outcome)"
   ]
  },
  {
   "cell_type": "code",
   "execution_count": 32,
   "metadata": {
    "collapsed": false
   },
   "outputs": [
    {
     "name": "stdout",
     "output_type": "stream",
     "text": [
      "ROC AUC score\n",
      "0.999495459132\n"
     ]
    }
   ],
   "source": [
    "calculateCVMetrics(train, train_outcome, finalModel)"
   ]
  },
  {
   "cell_type": "code",
   "execution_count": 33,
   "metadata": {
    "collapsed": true
   },
   "outputs": [],
   "source": [
    "predictions = makePredictions(finalModel, test)"
   ]
  },
  {
   "cell_type": "code",
   "execution_count": 34,
   "metadata": {
    "collapsed": false
   },
   "outputs": [],
   "source": [
    "createCSVSubmissionFile(predictions, test_IDS)"
   ]
  },
  {
   "cell_type": "code",
   "execution_count": 35,
   "metadata": {
    "collapsed": false
   },
   "outputs": [
    {
     "name": "stdout",
     "output_type": "stream",
     "text": [
      "[(0.070699541886896131, 'Applicant_Age'), (0.061784388141541427, 'Application_Receipt_Date_Day'), (0.04242086090859095, 'Application_Receipt_Date_Month'), (0.035366896415048976, 'Manager_Business'), (0.035356065453950709, 'Manager_Business2'), (0.032106781221587985, 'Manager_Num_Application'), (0.026987026905159129, 'Manager_Num_Products'), (0.026949925593850187, 'Manager_Num_Products2'), (0.020274434791873019, 'Manager_Num_Coded'), (0.013674191102223504, 'Manager_Grade')]\n"
     ]
    }
   ],
   "source": [
    "print(sorted(zip(finalModel.feature_importances_, list(train.columns)), reverse=True)[:10])"
   ]
  },
  {
   "cell_type": "markdown",
   "metadata": {
    "collapsed": true
   },
   "source": [
    "# TESTING FEATURE SELECTION"
   ]
  },
  {
   "cell_type": "code",
   "execution_count": 47,
   "metadata": {
    "collapsed": true
   },
   "outputs": [],
   "source": [
    "from sklearn.feature_selection import SelectFromModel\n",
    "model = SelectFromModel(finalModel, prefit=True)\n",
    "X_new = model.transform(train)"
   ]
  },
  {
   "cell_type": "code",
   "execution_count": 48,
   "metadata": {
    "collapsed": true
   },
   "outputs": [],
   "source": [
    "newModel = CreateFinalModel(X_new, train_outcome)"
   ]
  },
  {
   "cell_type": "code",
   "execution_count": 49,
   "metadata": {
    "collapsed": false
   },
   "outputs": [
    {
     "name": "stdout",
     "output_type": "stream",
     "text": [
      "ROC AUC score\n",
      "0.998944033791\n"
     ]
    }
   ],
   "source": [
    "calculateCVMetrics(X_new, train_outcome, newModel)"
   ]
  },
  {
   "cell_type": "code",
   "execution_count": 50,
   "metadata": {
    "collapsed": false
   },
   "outputs": [],
   "source": [
    "Y_new = model.transform(test)\n",
    "new_predictions = makePredictions(newModel, Y_new)"
   ]
  },
  {
   "cell_type": "code",
   "execution_count": 51,
   "metadata": {
    "collapsed": true
   },
   "outputs": [],
   "source": [
    "createCSVSubmissionFile(new_predictions, test_IDS)"
   ]
  },
  {
   "cell_type": "code",
   "execution_count": null,
   "metadata": {
    "collapsed": true
   },
   "outputs": [],
   "source": []
  }
 ],
 "metadata": {
  "kernelspec": {
   "display_name": "Python 3",
   "language": "python",
   "name": "python3"
  },
  "language_info": {
   "codemirror_mode": {
    "name": "ipython",
    "version": 3
   },
   "file_extension": ".py",
   "mimetype": "text/x-python",
   "name": "python",
   "nbconvert_exporter": "python",
   "pygments_lexer": "ipython3",
   "version": "3.4.4"
  }
 },
 "nbformat": 4,
 "nbformat_minor": 0
}
