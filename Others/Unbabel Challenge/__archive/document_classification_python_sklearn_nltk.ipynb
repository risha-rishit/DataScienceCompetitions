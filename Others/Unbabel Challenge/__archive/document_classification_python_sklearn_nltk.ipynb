{
 "cells": [
  {
   "cell_type": "markdown",
   "metadata": {},
   "source": [
    "# Classifying Documents using Naive Bayes, Random Forest, Linear and Non-Linear SVM\n",
    "## by IRFAN ELAHI"
   ]
  },
  {
   "cell_type": "markdown",
   "metadata": {},
   "source": [
    "# Table of Contents:\n",
    "1. Introduction \n",
    "2. Data Profiling \n",
    "3. Tried and discarded approaches \n",
    "4. Data Pre-processing \n",
    "5. Feature Selection \n",
    "6. Learning and Applying different models \n",
    "7. Conclusion and recommendations."
   ]
  },
  {
   "cell_type": "markdown",
   "metadata": {},
   "source": [
    "## 1. Introduction\n",
    "\n",
    "In this task, a data-set is used that comprise of different jobs posted on a job portal. The data-set had the following basic properties:\n",
    "1. It was provided in .csv format.\n",
    "2. The data-set simulated the real life scenario of jobs posted on a job portal and comprised of Job's title, Job's description along with its category\n",
    "As the data was labeled so in the context of machine learning, it was a Supervised Machine learning problem i.e. I had access to the data that was already correctly labeled and I had to train a model using this historical data. The main goal was to build a model that could accurately classify new and unseen data when it was input to it i.e. to assign proper class/label/category to a job posting when its input to the model.\n",
    "As the nature of the data was \"text\" so this project also involved extensive usage of text mining techniques as well. Text in its basic form is unstructured and to develop predictive models, the data needs to be thoroughly pre-processed. So the pipeline of developing models that I followed was:\n",
    "Data Profiling -> Data Cleansing -> Exploratory Analysis -> Data Preprocessing -> Feature Extraction and Selection -> Model Development -> Model Evaluation \n",
    "\n",
    "When text data is pre-processed, the issue of curse of dimensionality usually appears i.e. data becomes highly multi-dimensional with lots of features ranging in thousands. Not all of those features are helpful and also it adversely affects the peformance of classifiers as well so following the best practices, I opted for best-in-class feature extraction methods and also applied feature selection techniques so as to compile only those features that will contribute in this prediction problem. \n",
    "For model development, I used and compared the following set of machine learning algorithms:\n",
    "1. Bernoulli Naive Bayes\n",
    "2. Multinomial Naive Bayes\n",
    "3. Random Forests\n",
    "4. Linear SVM\n",
    "5. SVM with non-linear kernel\n",
    "\n",
    "and compared these algorithms on different metrics like accuracy, F1-Score, training and testing time. As per my analysis, SVM outshines all of the other models when it comes to accuracy. Random Forests accuracy score was also quite good but took considerable time during training phase.\n",
    "For implementation, I used Python. Specifically, I used the following libraries/modules of Python for different set of tasks:\n",
    "pandas,\n",
    "numpy\n",
    "sklearn\n",
    "nltk\n",
    "matplotlib\n",
    "\n",
    "The following text will walk you through the process and steps that I followed to achieve the desired goal. As I was instructed to include reasoning that why I opted for a particular approach so I will also document my thought process accordingly as well.\n",
    "To run the code, please make sure that the latest version of Python, Jupyter and aforementioned libraries are installed in your system.\n",
    "\n",
    "\n",
    "\n",
    "\n",
    "\n",
    "\n",
    "\n",
    "\n"
   ]
  },
  {
   "cell_type": "markdown",
   "metadata": {},
   "source": [
    "## Data Profiling\n",
    "The preliminary step in any data science project should be to develop familiarity with the data at hand. Transitioning right away to model development without knowing the basic characteristics of data can cause issues. So in this step, I computed a series of profiles so as to identify issues, perform quality checks and to get an idea of how different features of the data are distributed. \n",
    "\n",
    "\n",
    "\n",
    "\n",
    "\n",
    "\n",
    "\n",
    "\n"
   ]
  },
  {
   "cell_type": "code",
   "execution_count": 33,
   "metadata": {
    "collapsed": true
   },
   "outputs": [],
   "source": [
    "#Loading all the important modules that will be used in this program at the start. Also assigning aliases to some of the loaded\n",
    "#so as to minimize typing strokes.\n",
    "import nltk\n",
    "import pandas as pd\n",
    "import numpy as np\n",
    "from sklearn.cross_validation import train_test_split\n",
    "from sklearn.metrics import classification_report\n",
    "import sklearn.metrics\n",
    "from pandas import DataFrame,Series\n",
    "from sklearn.feature_extraction.text import TfidfVectorizer\n",
    "from time import time\n",
    "import matplotlib.pyplot as plt\n",
    "\n",
    "#Once the cell is executed and assuming that all the aforementioned libraries are present in your systems, the modules would be \n",
    "#successfully loaded in the current environment."
   ]
  },
  {
   "cell_type": "code",
   "execution_count": 11,
   "metadata": {
    "collapsed": false
   },
   "outputs": [],
   "source": [
    "#Loading Data-set into python as Dataframe using Pandas, with the most basic parameters:\n",
    "\n",
    "import os\n",
    "\n",
    "os.chdir(os.getcwd()) #setting the current working directory to the project folder.\n"
   ]
  },
  {
   "cell_type": "code",
   "execution_count": 14,
   "metadata": {
    "collapsed": false
   },
   "outputs": [],
   "source": [
    "\n",
    "import zipfile as zf #to handle the provided zipfile.\n",
    "zipped_file=zf.ZipFile(os.getcwd()+'\\\\job_data_3.zip') #setting the path to the zipped file.\n",
    "\n",
    "df=pd.read_csv(zipped_file.open('job_data.csv'),sep=',') #opening the desired csv file within the zipped file and loading \n",
    "#it as desired data frame."
   ]
  },
  {
   "cell_type": "code",
   "execution_count": 15,
   "metadata": {
    "collapsed": false
   },
   "outputs": [
    {
     "data": {
      "text/html": [
       "<div>\n",
       "<table border=\"1\" class=\"dataframe\">\n",
       "  <thead>\n",
       "    <tr style=\"text-align: right;\">\n",
       "      <th></th>\n",
       "      <th>Unnamed: 0</th>\n",
       "      <th>title</th>\n",
       "      <th>text_description</th>\n",
       "      <th>category</th>\n",
       "    </tr>\n",
       "  </thead>\n",
       "  <tbody>\n",
       "    <tr>\n",
       "      <th>0</th>\n",
       "      <td>1</td>\n",
       "      <td>A Genuine Home Business Opportunity In Persona...</td>\n",
       "      <td>Are you looking for a way to get a huge result...</td>\n",
       "      <td>sales</td>\n",
       "    </tr>\n",
       "    <tr>\n",
       "      <th>1</th>\n",
       "      <td>2</td>\n",
       "      <td>Sales Consultant</td>\n",
       "      <td>Our client is a solar distribution company, cu...</td>\n",
       "      <td>sales</td>\n",
       "    </tr>\n",
       "    <tr>\n",
       "      <th>2</th>\n",
       "      <td>3</td>\n",
       "      <td>TRAINEE SALES MARKETING MANAGER</td>\n",
       "      <td>Are you creative, outgoing and enjoy a challen...</td>\n",
       "      <td>sales</td>\n",
       "    </tr>\n",
       "    <tr>\n",
       "      <th>3</th>\n",
       "      <td>4</td>\n",
       "      <td>Trainee Sales/Marketing Manager</td>\n",
       "      <td>Are you a customer service or retail professio...</td>\n",
       "      <td>sales</td>\n",
       "    </tr>\n",
       "    <tr>\n",
       "      <th>4</th>\n",
       "      <td>5</td>\n",
       "      <td>Retention Executive</td>\n",
       "      <td>Recognised as the producer of the very best qu...</td>\n",
       "      <td>sales</td>\n",
       "    </tr>\n",
       "    <tr>\n",
       "      <th>5</th>\n",
       "      <td>6</td>\n",
       "      <td>Sales Representative IT Digital Signage Melbou...</td>\n",
       "      <td>Our client is one of Victoria's leading audio ...</td>\n",
       "      <td>sales</td>\n",
       "    </tr>\n",
       "    <tr>\n",
       "      <th>6</th>\n",
       "      <td>7</td>\n",
       "      <td>Seeking Hungry Individuals Looking for the Nex...</td>\n",
       "      <td>Listing InfoWe are looking for individuals who...</td>\n",
       "      <td>sales</td>\n",
       "    </tr>\n",
       "    <tr>\n",
       "      <th>7</th>\n",
       "      <td>8</td>\n",
       "      <td>Education Sales Consultant</td>\n",
       "      <td>This is a new and exciting opportunity to join...</td>\n",
       "      <td>sales</td>\n",
       "    </tr>\n",
       "    <tr>\n",
       "      <th>8</th>\n",
       "      <td>9</td>\n",
       "      <td>WORK AT HOME MUMS (WAHM) Self Employment / Hom...</td>\n",
       "      <td>Make Your Ability Really Pay - Australia &amp; Wor...</td>\n",
       "      <td>sales</td>\n",
       "    </tr>\n",
       "    <tr>\n",
       "      <th>9</th>\n",
       "      <td>10</td>\n",
       "      <td>SME Business Sales Consultants - Melbourne</td>\n",
       "      <td>We're currently seeking SME Business Sales Con...</td>\n",
       "      <td>sales</td>\n",
       "    </tr>\n",
       "  </tbody>\n",
       "</table>\n",
       "</div>"
      ],
      "text/plain": [
       "   Unnamed: 0                                              title  \\\n",
       "0           1  A Genuine Home Business Opportunity In Persona...   \n",
       "1           2                                   Sales Consultant   \n",
       "2           3                    TRAINEE SALES MARKETING MANAGER   \n",
       "3           4                    Trainee Sales/Marketing Manager   \n",
       "4           5                                Retention Executive   \n",
       "5           6  Sales Representative IT Digital Signage Melbou...   \n",
       "6           7  Seeking Hungry Individuals Looking for the Nex...   \n",
       "7           8                         Education Sales Consultant   \n",
       "8           9  WORK AT HOME MUMS (WAHM) Self Employment / Hom...   \n",
       "9          10         SME Business Sales Consultants - Melbourne   \n",
       "\n",
       "                                    text_description category  \n",
       "0  Are you looking for a way to get a huge result...    sales  \n",
       "1  Our client is a solar distribution company, cu...    sales  \n",
       "2  Are you creative, outgoing and enjoy a challen...    sales  \n",
       "3  Are you a customer service or retail professio...    sales  \n",
       "4  Recognised as the producer of the very best qu...    sales  \n",
       "5  Our client is one of Victoria's leading audio ...    sales  \n",
       "6  Listing InfoWe are looking for individuals who...    sales  \n",
       "7  This is a new and exciting opportunity to join...    sales  \n",
       "8  Make Your Ability Really Pay - Australia & Wor...    sales  \n",
       "9  We're currently seeking SME Business Sales Con...    sales  "
      ]
     },
     "execution_count": 15,
     "metadata": {},
     "output_type": "execute_result"
    }
   ],
   "source": [
    "#as always it helps to take peak into the loaded data-frame to see if it has been loaded correctly as intended:\n",
    "df.head(10) #to display 10 first rows:"
   ]
  },
  {
   "cell_type": "code",
   "execution_count": 6,
   "metadata": {
    "collapsed": false
   },
   "outputs": [
    {
     "data": {
      "text/html": [
       "<div>\n",
       "<table border=\"1\" class=\"dataframe\">\n",
       "  <thead>\n",
       "    <tr style=\"text-align: right;\">\n",
       "      <th></th>\n",
       "      <th>Unnamed: 0</th>\n",
       "      <th>title</th>\n",
       "      <th>text_description</th>\n",
       "      <th>category</th>\n",
       "    </tr>\n",
       "  </thead>\n",
       "  <tbody>\n",
       "    <tr>\n",
       "      <th>5827</th>\n",
       "      <td>5829</td>\n",
       "      <td>Senior Android Developer</td>\n",
       "      <td>Pactera Digital is emerging in the Australian ...</td>\n",
       "      <td>dev</td>\n",
       "    </tr>\n",
       "    <tr>\n",
       "      <th>5828</th>\n",
       "      <td>5830</td>\n",
       "      <td>Mid-Senior Level PHP Developer</td>\n",
       "      <td>We are looking for a software developer, havin...</td>\n",
       "      <td>dev</td>\n",
       "    </tr>\n",
       "    <tr>\n",
       "      <th>5829</th>\n",
       "      <td>5831</td>\n",
       "      <td>Senior Software Engineer (Mainframe)</td>\n",
       "      <td>Our Client is an Australian software product d...</td>\n",
       "      <td>dev</td>\n",
       "    </tr>\n",
       "    <tr>\n",
       "      <th>5830</th>\n",
       "      <td>5832</td>\n",
       "      <td>Senior Front End Developer - CQ5</td>\n",
       "      <td>Due to ongoing growth and increased project de...</td>\n",
       "      <td>dev</td>\n",
       "    </tr>\n",
       "    <tr>\n",
       "      <th>5831</th>\n",
       "      <td>5833</td>\n",
       "      <td>Senior Front End Developer</td>\n",
       "      <td>My Industry-Leading client needs an experience...</td>\n",
       "      <td>dev</td>\n",
       "    </tr>\n",
       "    <tr>\n",
       "      <th>5832</th>\n",
       "      <td>5834</td>\n",
       "      <td>Teradata Developer</td>\n",
       "      <td>Reference:  JSJD/AB/phone-phone/JGphone\\nLocat...</td>\n",
       "      <td>dev</td>\n",
       "    </tr>\n",
       "    <tr>\n",
       "      <th>5833</th>\n",
       "      <td>5835</td>\n",
       "      <td>.Net Software Engineers / Programmers, Sydney ...</td>\n",
       "      <td>Senior C# Analyst Programmer, contract work, S...</td>\n",
       "      <td>dev</td>\n",
       "    </tr>\n",
       "    <tr>\n",
       "      <th>5834</th>\n",
       "      <td>5836</td>\n",
       "      <td>Developer</td>\n",
       "      <td>Versadev provide bleeding edge technology solu...</td>\n",
       "      <td>dev</td>\n",
       "    </tr>\n",
       "    <tr>\n",
       "      <th>5835</th>\n",
       "      <td>5837</td>\n",
       "      <td>Senior Python Developer</td>\n",
       "      <td>This is a great contract opportunity for someo...</td>\n",
       "      <td>dev</td>\n",
       "    </tr>\n",
       "    <tr>\n",
       "      <th>5836</th>\n",
       "      <td>5838</td>\n",
       "      <td>TIBCO Spotfire Developer</td>\n",
       "      <td>An experienced TIBCO Spotfire Developer is req...</td>\n",
       "      <td>dev</td>\n",
       "    </tr>\n",
       "  </tbody>\n",
       "</table>\n",
       "</div>"
      ],
      "text/plain": [
       "      Unnamed: 0                                              title  \\\n",
       "5827        5829                           Senior Android Developer   \n",
       "5828        5830                     Mid-Senior Level PHP Developer   \n",
       "5829        5831               Senior Software Engineer (Mainframe)   \n",
       "5830        5832                   Senior Front End Developer - CQ5   \n",
       "5831        5833                         Senior Front End Developer   \n",
       "5832        5834                                 Teradata Developer   \n",
       "5833        5835  .Net Software Engineers / Programmers, Sydney ...   \n",
       "5834        5836                                          Developer   \n",
       "5835        5837                            Senior Python Developer   \n",
       "5836        5838                           TIBCO Spotfire Developer   \n",
       "\n",
       "                                       text_description category  \n",
       "5827  Pactera Digital is emerging in the Australian ...      dev  \n",
       "5828  We are looking for a software developer, havin...      dev  \n",
       "5829  Our Client is an Australian software product d...      dev  \n",
       "5830  Due to ongoing growth and increased project de...      dev  \n",
       "5831  My Industry-Leading client needs an experience...      dev  \n",
       "5832  Reference:  JSJD/AB/phone-phone/JGphone\\nLocat...      dev  \n",
       "5833  Senior C# Analyst Programmer, contract work, S...      dev  \n",
       "5834  Versadev provide bleeding edge technology solu...      dev  \n",
       "5835  This is a great contract opportunity for someo...      dev  \n",
       "5836  An experienced TIBCO Spotfire Developer is req...      dev  "
      ]
     },
     "execution_count": 6,
     "metadata": {},
     "output_type": "execute_result"
    }
   ],
   "source": [
    "df.tail(10) #to display last ten rows:"
   ]
  },
  {
   "cell_type": "markdown",
   "metadata": {},
   "source": [
    "so it can be seen that:\n",
    "1. the data has been loaded somewhat properly in the dataframe\n",
    "2. The data-set had header rows in it as well which has been loaded in the dataframe as well. Though if required, we can assign different column names to this dataframe as well.\n",
    "3. the data-set has 5838 rows and 4 columns. It can also be verified using:"
   ]
  },
  {
   "cell_type": "code",
   "execution_count": 16,
   "metadata": {
    "collapsed": false
   },
   "outputs": [
    {
     "name": "stdout",
     "output_type": "stream",
     "text": [
      "The data-set has 5838 rows and 4 columns\n"
     ]
    }
   ],
   "source": [
    "print(\"The data-set has %d rows and %d columns\"%(df.shape[0],df.shape[1])) #using the shape attribute of the dataframe object.\n",
    "#where the first element shows the number of rows and the second element shows the number of columns.\n"
   ]
  },
  {
   "cell_type": "markdown",
   "metadata": {},
   "source": [
    "### Hunting Missing Values:"
   ]
  },
  {
   "cell_type": "code",
   "execution_count": 17,
   "metadata": {
    "collapsed": false
   },
   "outputs": [
    {
     "name": "stdout",
     "output_type": "stream",
     "text": [
      "Index([u'Unnamed: 0', u'title', u'text_description', u'category'], dtype='object')\n",
      "Unnamed: 0: 0\n",
      "title: 0\n",
      "text_description: 1\n",
      "category: 0\n"
     ]
    }
   ],
   "source": [
    "#data-sets usually have missing values in them for a variety of reasons. In Numpy, missing values are represented as NaN and \n",
    "#using the following routine, we can quickly check if there is any column in the loaded dataframe that has the missing values.\n",
    "#in the event of finding missing values, we can drill down further and can adjust out subsequent strategies accordingly:\n",
    "\n",
    "\n",
    "from __future__ import print_function #my current version of python doesn't have the functionality that I intend to use in the\n",
    "#following lines of codes so thus importing fresh and new print function \"from the future\"\n",
    "print (df.columns) \n",
    "\n",
    "#to calculate number of missing values in each column. True values are coerced as 1 and False as 0 and thus I used that\n",
    "#fact in \"sum\" function to calculate how many missing values are there in each column:\n",
    "for col_name in df.columns:\n",
    "    print (col_name,end=\": \")\n",
    "    print (sum(df[col_name].isnull()))"
   ]
  },
  {
   "cell_type": "markdown",
   "metadata": {},
   "source": [
    "so it can be gathered from the above snippet of code that the text_description column has 1 missing value. The next logical step\n",
    "should be to find out where is that missing value located."
   ]
  },
  {
   "cell_type": "code",
   "execution_count": 18,
   "metadata": {
    "collapsed": false
   },
   "outputs": [
    {
     "name": "stdout",
     "output_type": "stream",
     "text": [
      "Int64Index([3536], dtype='int64')\n"
     ]
    }
   ],
   "source": [
    "print(df.ix[df['text_description'].isnull()].index)"
   ]
  },
  {
   "cell_type": "markdown",
   "metadata": {},
   "source": [
    "the above output tells us that at row 3536, the \"text_description\" column has a missing value. Analyzing that further:"
   ]
  },
  {
   "cell_type": "code",
   "execution_count": 19,
   "metadata": {
    "collapsed": false
   },
   "outputs": [
    {
     "data": {
      "text/plain": [
       "Unnamed: 0                                             3537\n",
       "title               Student Services Assistant Trainee - AD\n",
       "text_description                                        NaN\n",
       "category                                     administrative\n",
       "Name: 3536, dtype: object"
      ]
     },
     "execution_count": 19,
     "metadata": {},
     "output_type": "execute_result"
    }
   ],
   "source": [
    "df.ix[3536,] #printing that particular row:"
   ]
  },
  {
   "cell_type": "markdown",
   "metadata": {},
   "source": [
    "and thus it verifies the fact that there is a missing value in this column represent by NaN. Now there can be three approaches:\n",
    "1. Either we remove the row which has missing value\n",
    "2. Or we will \"imputate\" the missing value\n",
    "3. Or a more simpler approach: Knowing that the \"text_description\" column contains text (str) so we can reload the data-set with this knowledge and clearly specifying that in str based missing values. \n",
    "Any of the above approach can be done and I experimented with all of these but for this report, I am following the third method for the sake of brevity. thus reloading the data-set with added parameters:"
   ]
  },
  {
   "cell_type": "code",
   "execution_count": 20,
   "metadata": {
    "collapsed": true
   },
   "outputs": [],
   "source": [
    "#reading the unzipped file here to demonstrate another usage of read_csv function:\n",
    "jobs_df=pd.read_csv('job_data.csv',index_col=False,na_values='',na_filter=True,usecols=['title','text_description','category'])"
   ]
  },
  {
   "cell_type": "code",
   "execution_count": 21,
   "metadata": {
    "collapsed": false
   },
   "outputs": [
    {
     "data": {
      "text/plain": [
       "0"
      ]
     },
     "execution_count": 21,
     "metadata": {},
     "output_type": "execute_result"
    }
   ],
   "source": [
    "sum(jobs_df.text_description.isnull()) #again checking that whether there are still missing values in that column:"
   ]
  },
  {
   "cell_type": "code",
   "execution_count": 22,
   "metadata": {
    "collapsed": false
   },
   "outputs": [
    {
     "data": {
      "text/html": [
       "<div>\n",
       "<table border=\"1\" class=\"dataframe\">\n",
       "  <thead>\n",
       "    <tr style=\"text-align: right;\">\n",
       "      <th></th>\n",
       "      <th>title</th>\n",
       "      <th>text_description</th>\n",
       "      <th>category</th>\n",
       "    </tr>\n",
       "  </thead>\n",
       "  <tbody>\n",
       "    <tr>\n",
       "      <th>0</th>\n",
       "      <td>A Genuine Home Business Opportunity In Persona...</td>\n",
       "      <td>Are you looking for a way to get a huge result...</td>\n",
       "      <td>sales</td>\n",
       "    </tr>\n",
       "    <tr>\n",
       "      <th>1</th>\n",
       "      <td>Sales Consultant</td>\n",
       "      <td>Our client is a solar distribution company, cu...</td>\n",
       "      <td>sales</td>\n",
       "    </tr>\n",
       "    <tr>\n",
       "      <th>2</th>\n",
       "      <td>TRAINEE SALES MARKETING MANAGER</td>\n",
       "      <td>Are you creative, outgoing and enjoy a challen...</td>\n",
       "      <td>sales</td>\n",
       "    </tr>\n",
       "    <tr>\n",
       "      <th>3</th>\n",
       "      <td>Trainee Sales/Marketing Manager</td>\n",
       "      <td>Are you a customer service or retail professio...</td>\n",
       "      <td>sales</td>\n",
       "    </tr>\n",
       "    <tr>\n",
       "      <th>4</th>\n",
       "      <td>Retention Executive</td>\n",
       "      <td>Recognised as the producer of the very best qu...</td>\n",
       "      <td>sales</td>\n",
       "    </tr>\n",
       "  </tbody>\n",
       "</table>\n",
       "</div>"
      ],
      "text/plain": [
       "                                               title  \\\n",
       "0  A Genuine Home Business Opportunity In Persona...   \n",
       "1                                   Sales Consultant   \n",
       "2                    TRAINEE SALES MARKETING MANAGER   \n",
       "3                    Trainee Sales/Marketing Manager   \n",
       "4                                Retention Executive   \n",
       "\n",
       "                                    text_description category  \n",
       "0  Are you looking for a way to get a huge result...    sales  \n",
       "1  Our client is a solar distribution company, cu...    sales  \n",
       "2  Are you creative, outgoing and enjoy a challen...    sales  \n",
       "3  Are you a customer service or retail professio...    sales  \n",
       "4  Recognised as the producer of the very best qu...    sales  "
      ]
     },
     "execution_count": 22,
     "metadata": {},
     "output_type": "execute_result"
    }
   ],
   "source": [
    "jobs_df.head()"
   ]
  },
  {
   "cell_type": "markdown",
   "metadata": {},
   "source": [
    "now with missing values removed, we can proceed to next stages of data profiling:\n",
    "### Class Distribution:\n",
    "Its also imperative to know that whether our data-set is properly balanced w.r.t class distribution or not. For classification, if the data points have somewhat uniform class memberships, then chances of bias is greatly reduced. So to calculate that:"
   ]
  },
  {
   "cell_type": "code",
   "execution_count": 23,
   "metadata": {
    "collapsed": false
   },
   "outputs": [
    {
     "data": {
      "text/html": [
       "<div>\n",
       "<table border=\"1\" class=\"dataframe\">\n",
       "  <thead>\n",
       "    <tr style=\"text-align: right;\">\n",
       "      <th></th>\n",
       "      <th>title</th>\n",
       "      <th>text_description</th>\n",
       "      <th>category</th>\n",
       "    </tr>\n",
       "  </thead>\n",
       "  <tbody>\n",
       "    <tr>\n",
       "      <th>count</th>\n",
       "      <td>5837</td>\n",
       "      <td>5837</td>\n",
       "      <td>5837</td>\n",
       "    </tr>\n",
       "    <tr>\n",
       "      <th>unique</th>\n",
       "      <td>2477</td>\n",
       "      <td>3844</td>\n",
       "      <td>3</td>\n",
       "    </tr>\n",
       "    <tr>\n",
       "      <th>top</th>\n",
       "      <td>Administration Assistant</td>\n",
       "      <td>Are you looking for a way to get a huge result...</td>\n",
       "      <td>administrative</td>\n",
       "    </tr>\n",
       "    <tr>\n",
       "      <th>freq</th>\n",
       "      <td>135</td>\n",
       "      <td>241</td>\n",
       "      <td>2730</td>\n",
       "    </tr>\n",
       "  </tbody>\n",
       "</table>\n",
       "</div>"
      ],
      "text/plain": [
       "                           title  \\\n",
       "count                       5837   \n",
       "unique                      2477   \n",
       "top     Administration Assistant   \n",
       "freq                         135   \n",
       "\n",
       "                                         text_description        category  \n",
       "count                                                5837            5837  \n",
       "unique                                               3844               3  \n",
       "top     Are you looking for a way to get a huge result...  administrative  \n",
       "freq                                                  241            2730  "
      ]
     },
     "execution_count": 23,
     "metadata": {},
     "output_type": "execute_result"
    }
   ],
   "source": [
    "jobs_df.describe(include='all')"
   ]
  },
  {
   "cell_type": "markdown",
   "metadata": {},
   "source": [
    "from this we can gather the following information:\n",
    "1. There are three unique or distinct values in the category column which translates to the fact that there are three classes.\n",
    "2. \"Administrative\" category seems to be the most frequent category in this column \n",
    "3. Also the count value confirms that there are no missing values in the dataframe now."
   ]
  },
  {
   "cell_type": "markdown",
   "metadata": {},
   "source": [
    "### Handling duplicate values in the dataframe:\n",
    "Duplicate values can also appear in the dataframe and its also imperative to do this quality check before proceeding to the model development. \n",
    "To check the duplicate values in our current dataframe:"
   ]
  },
  {
   "cell_type": "code",
   "execution_count": 24,
   "metadata": {
    "collapsed": false
   },
   "outputs": [
    {
     "data": {
      "text/plain": [
       "1805"
      ]
     },
     "execution_count": 24,
     "metadata": {},
     "output_type": "execute_result"
    }
   ],
   "source": [
    "sum(jobs_df.duplicated()) #1805 rows are duplicate"
   ]
  },
  {
   "cell_type": "markdown",
   "metadata": {},
   "source": [
    "the above output shows that there are 1805 duplicate values in the dataframe. To see which rows are duplicated:"
   ]
  },
  {
   "cell_type": "code",
   "execution_count": 25,
   "metadata": {
    "collapsed": false
   },
   "outputs": [
    {
     "data": {
      "text/html": [
       "<div>\n",
       "<table border=\"1\" class=\"dataframe\">\n",
       "  <thead>\n",
       "    <tr style=\"text-align: right;\">\n",
       "      <th></th>\n",
       "      <th>title</th>\n",
       "      <th>text_description</th>\n",
       "      <th>category</th>\n",
       "    </tr>\n",
       "  </thead>\n",
       "  <tbody>\n",
       "    <tr>\n",
       "      <th>12</th>\n",
       "      <td>A Genuine Home Business Opportunity In Persona...</td>\n",
       "      <td>Are you looking for a way to get a huge result...</td>\n",
       "      <td>sales</td>\n",
       "    </tr>\n",
       "    <tr>\n",
       "      <th>26</th>\n",
       "      <td>A Genuine Home Business Opportunity In Persona...</td>\n",
       "      <td>Are you looking for a way to get a huge result...</td>\n",
       "      <td>sales</td>\n",
       "    </tr>\n",
       "    <tr>\n",
       "      <th>31</th>\n",
       "      <td>Make Your Sales Skills Really Pay - $5,000 Per...</td>\n",
       "      <td>Are you looking for a way to get a huge result...</td>\n",
       "      <td>sales</td>\n",
       "    </tr>\n",
       "    <tr>\n",
       "      <th>36</th>\n",
       "      <td>Sales Consultant | High End Designer Jewellery...</td>\n",
       "      <td>When it comes to luxury retailing at its best,...</td>\n",
       "      <td>sales</td>\n",
       "    </tr>\n",
       "    <tr>\n",
       "      <th>61</th>\n",
       "      <td>Internal Sales Consultant - High Profile Company</td>\n",
       "      <td>A high profile organisation at the forefront o...</td>\n",
       "      <td>sales</td>\n",
       "    </tr>\n",
       "    <tr>\n",
       "      <th>64</th>\n",
       "      <td>Make Your Sales Skills Really Pay - $5,000 Per...</td>\n",
       "      <td>Are you looking for a way to get a huge result...</td>\n",
       "      <td>sales</td>\n",
       "    </tr>\n",
       "    <tr>\n",
       "      <th>70</th>\n",
       "      <td>Are You Motivated, Passionate and Love Persona...</td>\n",
       "      <td>Are you looking for a way to get a huge result...</td>\n",
       "      <td>sales</td>\n",
       "    </tr>\n",
       "    <tr>\n",
       "      <th>75</th>\n",
       "      <td>Education Sales Consultant</td>\n",
       "      <td>This is a new and exciting opportunity to join...</td>\n",
       "      <td>sales</td>\n",
       "    </tr>\n",
       "    <tr>\n",
       "      <th>77</th>\n",
       "      <td>Are You Looking For More? More Time, Money, Fr...</td>\n",
       "      <td>Are you looking for a way to get a huge result...</td>\n",
       "      <td>sales</td>\n",
       "    </tr>\n",
       "    <tr>\n",
       "      <th>84</th>\n",
       "      <td>Are You Motivated, Passionate and Love Persona...</td>\n",
       "      <td>Are you looking for a way to get a huge result...</td>\n",
       "      <td>sales</td>\n",
       "    </tr>\n",
       "    <tr>\n",
       "      <th>86</th>\n",
       "      <td>Are You Motivated, Passionate and Love Persona...</td>\n",
       "      <td>Are you looking for a way to get a huge result...</td>\n",
       "      <td>sales</td>\n",
       "    </tr>\n",
       "    <tr>\n",
       "      <th>93</th>\n",
       "      <td>Business Development Managers (Mobile Phone Ac...</td>\n",
       "      <td>Our client holds a commitment to customer serv...</td>\n",
       "      <td>sales</td>\n",
       "    </tr>\n",
       "    <tr>\n",
       "      <th>95</th>\n",
       "      <td>Experienced Sales Consultant | Tilling showroo...</td>\n",
       "      <td>This specialized showroom has over phone years...</td>\n",
       "      <td>sales</td>\n",
       "    </tr>\n",
       "    <tr>\n",
       "      <th>100</th>\n",
       "      <td>What Sort of Biology Do Your Beliefs Create?</td>\n",
       "      <td>Are you looking for a way to get a huge result...</td>\n",
       "      <td>sales</td>\n",
       "    </tr>\n",
       "    <tr>\n",
       "      <th>104</th>\n",
       "      <td>Experienced Sales Consultant | Tilling showroo...</td>\n",
       "      <td>This specialized showroom has over phone years...</td>\n",
       "      <td>sales</td>\n",
       "    </tr>\n",
       "    <tr>\n",
       "      <th>107</th>\n",
       "      <td>Are You Motivated, Passionate and Love Persona...</td>\n",
       "      <td>Are you looking for a way to get a huge result...</td>\n",
       "      <td>sales</td>\n",
       "    </tr>\n",
       "    <tr>\n",
       "      <th>110</th>\n",
       "      <td>Are You Looking For More? More Time, Money, Fr...</td>\n",
       "      <td>Are you looking for a way to get a huge result...</td>\n",
       "      <td>sales</td>\n",
       "    </tr>\n",
       "    <tr>\n",
       "      <th>111</th>\n",
       "      <td>Are You Ticked Off Enough To Make a Change.</td>\n",
       "      <td>Are you looking for a way to get a huge result...</td>\n",
       "      <td>sales</td>\n",
       "    </tr>\n",
       "    <tr>\n",
       "      <th>112</th>\n",
       "      <td>A Genuine Home Business Opportunity In Persona...</td>\n",
       "      <td>Are you looking for a way to get a huge result...</td>\n",
       "      <td>sales</td>\n",
       "    </tr>\n",
       "    <tr>\n",
       "      <th>115</th>\n",
       "      <td>Make Your Sales Skills Really Pay - $5,000 Per...</td>\n",
       "      <td>Are you looking for a way to get a huge result...</td>\n",
       "      <td>sales</td>\n",
       "    </tr>\n",
       "    <tr>\n",
       "      <th>120</th>\n",
       "      <td>Earn your worth - make up to $5000 per sale</td>\n",
       "      <td>Are you serious about creating a bigger more e...</td>\n",
       "      <td>sales</td>\n",
       "    </tr>\n",
       "    <tr>\n",
       "      <th>125</th>\n",
       "      <td>Are You Looking For More? More Time, Money, Fr...</td>\n",
       "      <td>Are you looking for a way to get a huge result...</td>\n",
       "      <td>sales</td>\n",
       "    </tr>\n",
       "    <tr>\n",
       "      <th>126</th>\n",
       "      <td>Are You Looking For More? More Time, Money, Fr...</td>\n",
       "      <td>Are you looking for a way to get a huge result...</td>\n",
       "      <td>sales</td>\n",
       "    </tr>\n",
       "    <tr>\n",
       "      <th>140</th>\n",
       "      <td>A Genuine Home Business Opportunity In Persona...</td>\n",
       "      <td>Are you looking for a way to get a huge result...</td>\n",
       "      <td>sales</td>\n",
       "    </tr>\n",
       "    <tr>\n",
       "      <th>141</th>\n",
       "      <td>Education Sales Consultant</td>\n",
       "      <td>This is a new and exciting opportunity to join...</td>\n",
       "      <td>sales</td>\n",
       "    </tr>\n",
       "    <tr>\n",
       "      <th>148</th>\n",
       "      <td>Regional Manager (Queensland)</td>\n",
       "      <td>Brunswick is the market leader in the marine, ...</td>\n",
       "      <td>sales</td>\n",
       "    </tr>\n",
       "    <tr>\n",
       "      <th>155</th>\n",
       "      <td>Sales Rep</td>\n",
       "      <td>Our client is a web development company, curre...</td>\n",
       "      <td>sales</td>\n",
       "    </tr>\n",
       "    <tr>\n",
       "      <th>156</th>\n",
       "      <td>Are You Looking For More? More Time, Money, Fr...</td>\n",
       "      <td>Are you looking for a way to get a huge result...</td>\n",
       "      <td>sales</td>\n",
       "    </tr>\n",
       "    <tr>\n",
       "      <th>157</th>\n",
       "      <td>A Genuine Home Business Opportunity In Persona...</td>\n",
       "      <td>Are you looking for a way to get a huge result...</td>\n",
       "      <td>sales</td>\n",
       "    </tr>\n",
       "    <tr>\n",
       "      <th>159</th>\n",
       "      <td>Can You Think For Yourself?</td>\n",
       "      <td>Are you looking for a way to get a huge result...</td>\n",
       "      <td>sales</td>\n",
       "    </tr>\n",
       "    <tr>\n",
       "      <th>...</th>\n",
       "      <td>...</td>\n",
       "      <td>...</td>\n",
       "      <td>...</td>\n",
       "    </tr>\n",
       "    <tr>\n",
       "      <th>5648</th>\n",
       "      <td>Teradata Developer</td>\n",
       "      <td>An experienced Teradata Developer is required ...</td>\n",
       "      <td>dev</td>\n",
       "    </tr>\n",
       "    <tr>\n",
       "      <th>5655</th>\n",
       "      <td>Senior Java Developer / Architect - Investment...</td>\n",
       "      <td>My client is considered an employer of choice ...</td>\n",
       "      <td>dev</td>\n",
       "    </tr>\n",
       "    <tr>\n",
       "      <th>5658</th>\n",
       "      <td>SharePoint Designer/Developer</td>\n",
       "      <td>This role would be tasked with the client's ho...</td>\n",
       "      <td>dev</td>\n",
       "    </tr>\n",
       "    <tr>\n",
       "      <th>5659</th>\n",
       "      <td>Web Developer + Contract role + Government Age...</td>\n",
       "      <td>Great experience for a web developer in a larg...</td>\n",
       "      <td>dev</td>\n",
       "    </tr>\n",
       "    <tr>\n",
       "      <th>5680</th>\n",
       "      <td>Java Developer</td>\n",
       "      <td>Due to high demanding projects we have some co...</td>\n",
       "      <td>dev</td>\n",
       "    </tr>\n",
       "    <tr>\n",
       "      <th>5690</th>\n",
       "      <td>MS Dynamics CRM Developer - 3 month contract.</td>\n",
       "      <td>Our client is an employer of choice in the Aus...</td>\n",
       "      <td>dev</td>\n",
       "    </tr>\n",
       "    <tr>\n",
       "      <th>5699</th>\n",
       "      <td>SENIOR JAVA GUI DEVELOPER - FINANCE - SYDNEY</td>\n",
       "      <td>This is an exciting senior web developer role ...</td>\n",
       "      <td>dev</td>\n",
       "    </tr>\n",
       "    <tr>\n",
       "      <th>5705</th>\n",
       "      <td>Web Developer + Contract role + Government Age...</td>\n",
       "      <td>Great experience for a web developer in a larg...</td>\n",
       "      <td>dev</td>\n",
       "    </tr>\n",
       "    <tr>\n",
       "      <th>5711</th>\n",
       "      <td>Lead Javascript Developer | Video Streaming | ...</td>\n",
       "      <td>We are a well funded Startup building new Vide...</td>\n",
       "      <td>dev</td>\n",
       "    </tr>\n",
       "    <tr>\n",
       "      <th>5721</th>\n",
       "      <td>Big Data Developer (NZ Based)</td>\n",
       "      <td>Are you interested in an opportunity to move t...</td>\n",
       "      <td>dev</td>\n",
       "    </tr>\n",
       "    <tr>\n",
       "      <th>5733</th>\n",
       "      <td>Senior .Net Developer</td>\n",
       "      <td>We have an opportunity for an experienced .Net...</td>\n",
       "      <td>dev</td>\n",
       "    </tr>\n",
       "    <tr>\n",
       "      <th>5762</th>\n",
       "      <td>Senior Site Developer - Contract ASAP - #1 Agency</td>\n",
       "      <td>We are looking for an immediate starter to wor...</td>\n",
       "      <td>dev</td>\n",
       "    </tr>\n",
       "    <tr>\n",
       "      <th>5763</th>\n",
       "      <td>Senior Site Developer - Contract ASAP - #1 Agency</td>\n",
       "      <td>We are looking for an immediate starter to wor...</td>\n",
       "      <td>dev</td>\n",
       "    </tr>\n",
       "    <tr>\n",
       "      <th>5764</th>\n",
       "      <td>.NET Developer | Melbourne | Agency environment</td>\n",
       "      <td>Be part of a growing organisation\\nFast Paced ...</td>\n",
       "      <td>dev</td>\n",
       "    </tr>\n",
       "    <tr>\n",
       "      <th>5769</th>\n",
       "      <td>Front End Developer</td>\n",
       "      <td>One of Australia's leading Software Houses are...</td>\n",
       "      <td>dev</td>\n",
       "    </tr>\n",
       "    <tr>\n",
       "      <th>5778</th>\n",
       "      <td>4 x Open Source Wizards @ Exciting Video Strea...</td>\n",
       "      <td>If your passionate about on-line media and wan...</td>\n",
       "      <td>dev</td>\n",
       "    </tr>\n",
       "    <tr>\n",
       "      <th>5781</th>\n",
       "      <td>PHP CMS Developer</td>\n",
       "      <td>My client have an immediate requirement for a ...</td>\n",
       "      <td>dev</td>\n",
       "    </tr>\n",
       "    <tr>\n",
       "      <th>5783</th>\n",
       "      <td>Software Developer</td>\n",
       "      <td>A brilliant opportunity has opened up for a So...</td>\n",
       "      <td>dev</td>\n",
       "    </tr>\n",
       "    <tr>\n",
       "      <th>5785</th>\n",
       "      <td>SharePoint Designer/Developer</td>\n",
       "      <td>This role would be tasked with the client's ho...</td>\n",
       "      <td>dev</td>\n",
       "    </tr>\n",
       "    <tr>\n",
       "      <th>5790</th>\n",
       "      <td>Senior Java Developer / Architect - Investment...</td>\n",
       "      <td>My client is considered an employer of choice ...</td>\n",
       "      <td>dev</td>\n",
       "    </tr>\n",
       "    <tr>\n",
       "      <th>5796</th>\n",
       "      <td>Front End Developer - Web and emails</td>\n",
       "      <td>Hays have been engaged by their client, a lead...</td>\n",
       "      <td>dev</td>\n",
       "    </tr>\n",
       "    <tr>\n",
       "      <th>5801</th>\n",
       "      <td>Senior Java Developer</td>\n",
       "      <td>With three established offices in Australia, w...</td>\n",
       "      <td>dev</td>\n",
       "    </tr>\n",
       "    <tr>\n",
       "      <th>5807</th>\n",
       "      <td>Senior ASP.Net Developer</td>\n",
       "      <td>My client is seeking multiple ASP.Net Develope...</td>\n",
       "      <td>dev</td>\n",
       "    </tr>\n",
       "    <tr>\n",
       "      <th>5808</th>\n",
       "      <td>SENIOR JAVA GUI DEVELOPER - FINANCE - SYDNEY</td>\n",
       "      <td>This is an exciting senior web developer role ...</td>\n",
       "      <td>dev</td>\n",
       "    </tr>\n",
       "    <tr>\n",
       "      <th>5815</th>\n",
       "      <td>Java Developer</td>\n",
       "      <td>Duration: Contract to phone June phone\\nLocati...</td>\n",
       "      <td>dev</td>\n",
       "    </tr>\n",
       "    <tr>\n",
       "      <th>5818</th>\n",
       "      <td>Senior Software Engineer (Mainframe)</td>\n",
       "      <td>Our Client is an Australian software product d...</td>\n",
       "      <td>dev</td>\n",
       "    </tr>\n",
       "    <tr>\n",
       "      <th>5819</th>\n",
       "      <td>ASP.Net Web Developer</td>\n",
       "      <td>We have an excellent ASP.Net opportunity avail...</td>\n",
       "      <td>dev</td>\n",
       "    </tr>\n",
       "    <tr>\n",
       "      <th>5827</th>\n",
       "      <td>Senior Android Developer</td>\n",
       "      <td>Pactera Digital is emerging in the Australian ...</td>\n",
       "      <td>dev</td>\n",
       "    </tr>\n",
       "    <tr>\n",
       "      <th>5829</th>\n",
       "      <td>Senior Software Engineer (Mainframe)</td>\n",
       "      <td>Our Client is an Australian software product d...</td>\n",
       "      <td>dev</td>\n",
       "    </tr>\n",
       "    <tr>\n",
       "      <th>5832</th>\n",
       "      <td>Teradata Developer</td>\n",
       "      <td>Reference:  JSJD/AB/phone-phone/JGphone\\nLocat...</td>\n",
       "      <td>dev</td>\n",
       "    </tr>\n",
       "  </tbody>\n",
       "</table>\n",
       "<p>1805 rows × 3 columns</p>\n",
       "</div>"
      ],
      "text/plain": [
       "                                                  title  \\\n",
       "12    A Genuine Home Business Opportunity In Persona...   \n",
       "26    A Genuine Home Business Opportunity In Persona...   \n",
       "31    Make Your Sales Skills Really Pay - $5,000 Per...   \n",
       "36    Sales Consultant | High End Designer Jewellery...   \n",
       "61     Internal Sales Consultant - High Profile Company   \n",
       "64    Make Your Sales Skills Really Pay - $5,000 Per...   \n",
       "70    Are You Motivated, Passionate and Love Persona...   \n",
       "75                           Education Sales Consultant   \n",
       "77    Are You Looking For More? More Time, Money, Fr...   \n",
       "84    Are You Motivated, Passionate and Love Persona...   \n",
       "86    Are You Motivated, Passionate and Love Persona...   \n",
       "93    Business Development Managers (Mobile Phone Ac...   \n",
       "95    Experienced Sales Consultant | Tilling showroo...   \n",
       "100        What Sort of Biology Do Your Beliefs Create?   \n",
       "104   Experienced Sales Consultant | Tilling showroo...   \n",
       "107   Are You Motivated, Passionate and Love Persona...   \n",
       "110   Are You Looking For More? More Time, Money, Fr...   \n",
       "111         Are You Ticked Off Enough To Make a Change.   \n",
       "112   A Genuine Home Business Opportunity In Persona...   \n",
       "115   Make Your Sales Skills Really Pay - $5,000 Per...   \n",
       "120         Earn your worth - make up to $5000 per sale   \n",
       "125   Are You Looking For More? More Time, Money, Fr...   \n",
       "126   Are You Looking For More? More Time, Money, Fr...   \n",
       "140   A Genuine Home Business Opportunity In Persona...   \n",
       "141                          Education Sales Consultant   \n",
       "148                       Regional Manager (Queensland)   \n",
       "155                                           Sales Rep   \n",
       "156   Are You Looking For More? More Time, Money, Fr...   \n",
       "157   A Genuine Home Business Opportunity In Persona...   \n",
       "159                         Can You Think For Yourself?   \n",
       "...                                                 ...   \n",
       "5648                                 Teradata Developer   \n",
       "5655  Senior Java Developer / Architect - Investment...   \n",
       "5658                      SharePoint Designer/Developer   \n",
       "5659  Web Developer + Contract role + Government Age...   \n",
       "5680                                     Java Developer   \n",
       "5690      MS Dynamics CRM Developer - 3 month contract.   \n",
       "5699       SENIOR JAVA GUI DEVELOPER - FINANCE - SYDNEY   \n",
       "5705  Web Developer + Contract role + Government Age...   \n",
       "5711  Lead Javascript Developer | Video Streaming | ...   \n",
       "5721                      Big Data Developer (NZ Based)   \n",
       "5733                              Senior .Net Developer   \n",
       "5762  Senior Site Developer - Contract ASAP - #1 Agency   \n",
       "5763  Senior Site Developer - Contract ASAP - #1 Agency   \n",
       "5764    .NET Developer | Melbourne | Agency environment   \n",
       "5769                                Front End Developer   \n",
       "5778  4 x Open Source Wizards @ Exciting Video Strea...   \n",
       "5781                                  PHP CMS Developer   \n",
       "5783                                 Software Developer   \n",
       "5785                      SharePoint Designer/Developer   \n",
       "5790  Senior Java Developer / Architect - Investment...   \n",
       "5796               Front End Developer - Web and emails   \n",
       "5801                              Senior Java Developer   \n",
       "5807                           Senior ASP.Net Developer   \n",
       "5808       SENIOR JAVA GUI DEVELOPER - FINANCE - SYDNEY   \n",
       "5815                                     Java Developer   \n",
       "5818               Senior Software Engineer (Mainframe)   \n",
       "5819                              ASP.Net Web Developer   \n",
       "5827                           Senior Android Developer   \n",
       "5829               Senior Software Engineer (Mainframe)   \n",
       "5832                                 Teradata Developer   \n",
       "\n",
       "                                       text_description category  \n",
       "12    Are you looking for a way to get a huge result...    sales  \n",
       "26    Are you looking for a way to get a huge result...    sales  \n",
       "31    Are you looking for a way to get a huge result...    sales  \n",
       "36    When it comes to luxury retailing at its best,...    sales  \n",
       "61    A high profile organisation at the forefront o...    sales  \n",
       "64    Are you looking for a way to get a huge result...    sales  \n",
       "70    Are you looking for a way to get a huge result...    sales  \n",
       "75    This is a new and exciting opportunity to join...    sales  \n",
       "77    Are you looking for a way to get a huge result...    sales  \n",
       "84    Are you looking for a way to get a huge result...    sales  \n",
       "86    Are you looking for a way to get a huge result...    sales  \n",
       "93    Our client holds a commitment to customer serv...    sales  \n",
       "95    This specialized showroom has over phone years...    sales  \n",
       "100   Are you looking for a way to get a huge result...    sales  \n",
       "104   This specialized showroom has over phone years...    sales  \n",
       "107   Are you looking for a way to get a huge result...    sales  \n",
       "110   Are you looking for a way to get a huge result...    sales  \n",
       "111   Are you looking for a way to get a huge result...    sales  \n",
       "112   Are you looking for a way to get a huge result...    sales  \n",
       "115   Are you looking for a way to get a huge result...    sales  \n",
       "120   Are you serious about creating a bigger more e...    sales  \n",
       "125   Are you looking for a way to get a huge result...    sales  \n",
       "126   Are you looking for a way to get a huge result...    sales  \n",
       "140   Are you looking for a way to get a huge result...    sales  \n",
       "141   This is a new and exciting opportunity to join...    sales  \n",
       "148   Brunswick is the market leader in the marine, ...    sales  \n",
       "155   Our client is a web development company, curre...    sales  \n",
       "156   Are you looking for a way to get a huge result...    sales  \n",
       "157   Are you looking for a way to get a huge result...    sales  \n",
       "159   Are you looking for a way to get a huge result...    sales  \n",
       "...                                                 ...      ...  \n",
       "5648  An experienced Teradata Developer is required ...      dev  \n",
       "5655  My client is considered an employer of choice ...      dev  \n",
       "5658  This role would be tasked with the client's ho...      dev  \n",
       "5659  Great experience for a web developer in a larg...      dev  \n",
       "5680  Due to high demanding projects we have some co...      dev  \n",
       "5690  Our client is an employer of choice in the Aus...      dev  \n",
       "5699  This is an exciting senior web developer role ...      dev  \n",
       "5705  Great experience for a web developer in a larg...      dev  \n",
       "5711  We are a well funded Startup building new Vide...      dev  \n",
       "5721  Are you interested in an opportunity to move t...      dev  \n",
       "5733  We have an opportunity for an experienced .Net...      dev  \n",
       "5762  We are looking for an immediate starter to wor...      dev  \n",
       "5763  We are looking for an immediate starter to wor...      dev  \n",
       "5764  Be part of a growing organisation\\nFast Paced ...      dev  \n",
       "5769  One of Australia's leading Software Houses are...      dev  \n",
       "5778  If your passionate about on-line media and wan...      dev  \n",
       "5781  My client have an immediate requirement for a ...      dev  \n",
       "5783  A brilliant opportunity has opened up for a So...      dev  \n",
       "5785  This role would be tasked with the client's ho...      dev  \n",
       "5790  My client is considered an employer of choice ...      dev  \n",
       "5796  Hays have been engaged by their client, a lead...      dev  \n",
       "5801  With three established offices in Australia, w...      dev  \n",
       "5807  My client is seeking multiple ASP.Net Develope...      dev  \n",
       "5808  This is an exciting senior web developer role ...      dev  \n",
       "5815  Duration: Contract to phone June phone\\nLocati...      dev  \n",
       "5818  Our Client is an Australian software product d...      dev  \n",
       "5819  We have an excellent ASP.Net opportunity avail...      dev  \n",
       "5827  Pactera Digital is emerging in the Australian ...      dev  \n",
       "5829  Our Client is an Australian software product d...      dev  \n",
       "5832  Reference:  JSJD/AB/phone-phone/JGphone\\nLocat...      dev  \n",
       "\n",
       "[1805 rows x 3 columns]"
      ]
     },
     "execution_count": 25,
     "metadata": {},
     "output_type": "execute_result"
    }
   ],
   "source": [
    "jobs_df.ix[jobs_df.duplicated(keep='first'),]"
   ]
  },
  {
   "cell_type": "code",
   "execution_count": 26,
   "metadata": {
    "collapsed": true
   },
   "outputs": [],
   "source": [
    "#creating a new dataframe with the duplicate rows removed from the original dataframe. We can also use drop_duplicate(inplace=True)\n",
    "#parameter as well.\n",
    "jobs_df2=jobs_df.drop_duplicates()"
   ]
  },
  {
   "cell_type": "code",
   "execution_count": 27,
   "metadata": {
    "collapsed": false
   },
   "outputs": [
    {
     "data": {
      "text/plain": [
       "(4032, 3)"
      ]
     },
     "execution_count": 27,
     "metadata": {},
     "output_type": "execute_result"
    }
   ],
   "source": [
    "#now verifying whether there are still duplicate values in our dataframe or not:\n",
    "sum(jobs_df2.duplicated()) \n",
    "#also the size of our dataframe has also reduced as:\n",
    "jobs_df2.shape\n",
    "#previously we had 5837 rows and now with 1805 duplicate rows removed, we have 4032 rows left in our dataframe:"
   ]
  },
  {
   "cell_type": "code",
   "execution_count": 28,
   "metadata": {
    "collapsed": true
   },
   "outputs": [],
   "source": [
    "#just reassigning somewhat smaller column names for convenience. We can always change them later\n",
    "jobs_df2.columns=['title','desc','category']"
   ]
  },
  {
   "cell_type": "markdown",
   "metadata": {},
   "source": [
    "### Finding out the Value Distribution profile of the Category Variable:\n",
    "Its crucial to know in advance the basic statistics of the target/label variable so as to ensure that there is no issue of class imbalance there. For that, we need to calculate the count of each of the class label instances in our dataframe."
   ]
  },
  {
   "cell_type": "code",
   "execution_count": 29,
   "metadata": {
    "collapsed": true
   },
   "outputs": [],
   "source": [
    "category_counter={x:0 for x in set(jobs_df2['category'])}\n"
   ]
  },
  {
   "cell_type": "code",
   "execution_count": 30,
   "metadata": {
    "collapsed": false
   },
   "outputs": [],
   "source": [
    "for each_cat in jobs_df2['category']:\n",
    "    category_counter[each_cat]+=1"
   ]
  },
  {
   "cell_type": "code",
   "execution_count": 31,
   "metadata": {
    "collapsed": false
   },
   "outputs": [
    {
     "name": "stdout",
     "output_type": "stream",
     "text": [
      "{'administrative': 1861, 'sales': 1186, 'dev': 985}\n"
     ]
    }
   ],
   "source": [
    "print(category_counter)"
   ]
  },
  {
   "cell_type": "code",
   "execution_count": 34,
   "metadata": {
    "collapsed": false
   },
   "outputs": [
    {
     "data": {
      "text/plain": [
       "<Container object of 3 artists>"
      ]
     },
     "execution_count": 34,
     "metadata": {},
     "output_type": "execute_result"
    },
    {
     "data": {
      "image/png": "[encoded data removed]",
      "text/plain": [
       "<matplotlib.figure.Figure at 0x1f79ca20>"
      ]
     },
     "metadata": {},
     "output_type": "display_data"
    }
   ],
   "source": [
    "%matplotlib inline\n",
    "plt.bar(range(len(category_counter)),category_counter.values(),align='center',tick_label=category_counter.keys())"
   ]
  },
  {
   "cell_type": "code",
   "execution_count": null,
   "metadata": {
    "collapsed": true
   },
   "outputs": [],
   "source": [
    "#Its clear from the above plot that how the count of the three classes in the category column are distributed. As there is not\n",
    "#much of a difference in the relative count of each of these classes so we can safely proceed to the model development.\n",
    "#if there was a lot of imbalance, we may had to resort to under or oversampling during the training and testing phase so as \n",
    "#to minimize the bias."
   ]
  },
  {
   "cell_type": "markdown",
   "metadata": {},
   "source": [
    "## Lexical Analysis of the Text Data:\n",
    "As text data's preprocessing transforms the words/terms into respective columns (though in much improved approach e.g. only frequent terms and also the rare ones (TFIDF) are transformed into columns, more on that later), so its a good step to analyze the vocabulary richness of our data. \n",
    "If we just analyze the lexical richness of the text_description data, it will still give us much idea about how rich our data is in terms of unique vocabulary words:"
   ]
  },
  {
   "cell_type": "code",
   "execution_count": 36,
   "metadata": {
    "collapsed": true
   },
   "outputs": [],
   "source": [
    "corpus=jobs_df2.desc"
   ]
  },
  {
   "cell_type": "code",
   "execution_count": 37,
   "metadata": {
    "collapsed": false
   },
   "outputs": [
    {
     "name": "stderr",
     "output_type": "stream",
     "text": [
      "C:\\Anaconda2\\lib\\site-packages\\ipykernel\\__main__.py:8: UnicodeWarning: Unicode equal comparison failed to convert both arguments to Unicode - interpreting them as being unequal\n"
     ]
    }
   ],
   "source": [
    "\n",
    "all_words=[w.split() for w in corpus]\n",
    "\n",
    "all_flat_words=[ewords for words in all_words for ewords in words]\n",
    "\n",
    "from nltk.corpus import stopwords\n",
    "\n",
    "all_flat_words_ns=[w for w in all_flat_words if w not in stopwords.words(\"english\")]\n",
    "#removing all the stop words from the corpus\n",
    "\n",
    "set_nf=set(all_flat_words_ns)\n",
    "#removing all duplicates\n",
    "#I didn't convert my text into unicode and that's why this subtle warning message appears. by using unicode() function, this\n",
    "#warning can easily be addressed."
   ]
  },
  {
   "cell_type": "code",
   "execution_count": 38,
   "metadata": {
    "collapsed": false
   },
   "outputs": [
    {
     "name": "stdout",
     "output_type": "stream",
     "text": [
      "Number of unique vocabulary words in the text_description column of the dataframe: 33790\n"
     ]
    }
   ],
   "source": [
    "print(\"Number of unique vocabulary words in the text_description column of the dataframe: %d\"%len(set_nf))\n",
    "#a very naive and base approach would be to use all of these 33k features in the classification. But its not recommended because\n",
    "#many classification algorithms cant work in such immensely high dimension data. \n",
    "#Relatively better approach would be to use N top frequent words by following bag of words approach. But this tends to favor \n",
    "#those terms which are repeated in all of the corpus; which dont help in the overall classification objective.\n",
    "#On comparison, a much better approach is to use TFIDF. \n",
    "#As we will see that number of unique vocabulary terms will be helpful in making comparison when we derive much less\n",
    "#yet important features using tfidf."
   ]
  },
  {
   "cell_type": "markdown",
   "metadata": {},
   "source": [
    "## Data Pre-Processing:\n",
    "The data in its raw form isn't always suitable for developing analytical models. To make the raw data compliant for analysis, pre-processing steps have to be performed. The pre-processing steps depend largely on the type of analysis that one intends to perform for instance regression, classification or clustering. In our particular case, we want to perform multi-class classification and the data at hand is text. So to perform pre-processing, the following steps are performed:\n",
    "1. Converting all of the data into lower case.\n",
    "2. Stemming the words so as to further reduce the feature size\n",
    "\n",
    "Also, in our given data set, I've made use of both the given features i.e. title and job description to create new features and for pre-processing. I've found that if we use both titles and job description, better features are formed and overall accuracy score of classifier is improved. title also contains the terms that can assist us in classification and that's why I've included them:\n",
    "\n",
    "The following snippet of code performs these steps:"
   ]
  },
  {
   "cell_type": "code",
   "execution_count": 39,
   "metadata": {
    "collapsed": false
   },
   "outputs": [
    {
     "name": "stderr",
     "output_type": "stream",
     "text": [
      "C:\\Anaconda2\\lib\\site-packages\\pandas\\core\\indexing.py:266: SettingWithCopyWarning: \n",
      "A value is trying to be set on a copy of a slice from a DataFrame.\n",
      "Try using .loc[row_indexer,col_indexer] = value instead\n",
      "\n",
      "See the caveats in the documentation: http://pandas.pydata.org/pandas-docs/stable/indexing.html#indexing-view-versus-copy\n",
      "  self.obj[key] = _infer_fill_value(value)\n",
      "C:\\Anaconda2\\lib\\site-packages\\pandas\\core\\indexing.py:426: SettingWithCopyWarning: \n",
      "A value is trying to be set on a copy of a slice from a DataFrame.\n",
      "Try using .loc[row_indexer,col_indexer] = value instead\n",
      "\n",
      "See the caveats in the documentation: http://pandas.pydata.org/pandas-docs/stable/indexing.html#indexing-view-versus-copy\n",
      "  self.obj[item] = s\n",
      "C:\\Anaconda2\\lib\\site-packages\\pandas\\core\\indexing.py:117: SettingWithCopyWarning: \n",
      "A value is trying to be set on a copy of a slice from a DataFrame\n",
      "\n",
      "See the caveats in the documentation: http://pandas.pydata.org/pandas-docs/stable/indexing.html#indexing-view-versus-copy\n",
      "  self._setitem_with_indexer(indexer, value)\n",
      "C:\\Anaconda2\\lib\\site-packages\\ipykernel\\__main__.py:8: SettingWithCopyWarning: \n",
      "A value is trying to be set on a copy of a slice from a DataFrame\n",
      "\n",
      "See the caveats in the documentation: http://pandas.pydata.org/pandas-docs/stable/indexing.html#indexing-view-versus-copy\n"
     ]
    }
   ],
   "source": [
    "porter=nltk.PorterStemmer()\n",
    "for each_row in jobs_df2.itertuples():\n",
    "    m1=map(lambda x: unicode(x,'utf-8'),(each_row[1]+' '+each_row[2]).lower().split())\n",
    "    #for each row, it gets title and job description, concatenates them and converts them to lower case. Also converts them\n",
    "    #to unicode because NLTK's porter stemmer expects unicode data.\n",
    "    m2=map(lambda x: porter.stem(x),m1)\n",
    "    #Using Porter Stemmer in NLTK, stemming is performed on the str created in previous step.\n",
    "    jobs_df2.loc[each_row[0],'title_desc']=' '.join(m2)\n",
    "    #a derived column is created and the pre-processed string is stored in that column for each row.\n",
    "#here's a sneak-peek of the dataset with newly created column that contains our processed text. Its still in one column and \n",
    "#in subsequent steps, I will create a document term matrix using TFIDF mechanism to create features for classifiers:\n"
   ]
  },
  {
   "cell_type": "code",
   "execution_count": 122,
   "metadata": {
    "collapsed": false
   },
   "outputs": [
    {
     "data": {
      "text/html": [
       "<div>\n",
       "<table border=\"1\" class=\"dataframe\">\n",
       "  <thead>\n",
       "    <tr style=\"text-align: right;\">\n",
       "      <th></th>\n",
       "      <th>title</th>\n",
       "      <th>desc</th>\n",
       "      <th>category</th>\n",
       "      <th>title_desc</th>\n",
       "    </tr>\n",
       "  </thead>\n",
       "  <tbody>\n",
       "    <tr>\n",
       "      <th>5831</th>\n",
       "      <td>Senior Front End Developer</td>\n",
       "      <td>My Industry-Leading client needs an experience...</td>\n",
       "      <td>dev</td>\n",
       "      <td>senior front end develop my industry-lead clie...</td>\n",
       "    </tr>\n",
       "    <tr>\n",
       "      <th>5833</th>\n",
       "      <td>.Net Software Engineers / Programmers, Sydney ...</td>\n",
       "      <td>Senior C# Analyst Programmer, contract work, S...</td>\n",
       "      <td>dev</td>\n",
       "      <td>.net softwar engin / programmers, sydney cbd c...</td>\n",
       "    </tr>\n",
       "    <tr>\n",
       "      <th>5834</th>\n",
       "      <td>Developer</td>\n",
       "      <td>Versadev provide bleeding edge technology solu...</td>\n",
       "      <td>dev</td>\n",
       "      <td>develop versadev provid bleed edg technolog so...</td>\n",
       "    </tr>\n",
       "    <tr>\n",
       "      <th>5835</th>\n",
       "      <td>Senior Python Developer</td>\n",
       "      <td>This is a great contract opportunity for someo...</td>\n",
       "      <td>dev</td>\n",
       "      <td>senior python develop thi is a great contract ...</td>\n",
       "    </tr>\n",
       "    <tr>\n",
       "      <th>5836</th>\n",
       "      <td>TIBCO Spotfire Developer</td>\n",
       "      <td>An experienced TIBCO Spotfire Developer is req...</td>\n",
       "      <td>dev</td>\n",
       "      <td>tibco spotfir develop an experienc tibco spotf...</td>\n",
       "    </tr>\n",
       "  </tbody>\n",
       "</table>\n",
       "</div>"
      ],
      "text/plain": [
       "                                                  title  \\\n",
       "5831                         Senior Front End Developer   \n",
       "5833  .Net Software Engineers / Programmers, Sydney ...   \n",
       "5834                                          Developer   \n",
       "5835                            Senior Python Developer   \n",
       "5836                           TIBCO Spotfire Developer   \n",
       "\n",
       "                                                   desc category  \\\n",
       "5831  My Industry-Leading client needs an experience...      dev   \n",
       "5833  Senior C# Analyst Programmer, contract work, S...      dev   \n",
       "5834  Versadev provide bleeding edge technology solu...      dev   \n",
       "5835  This is a great contract opportunity for someo...      dev   \n",
       "5836  An experienced TIBCO Spotfire Developer is req...      dev   \n",
       "\n",
       "                                             title_desc  \n",
       "5831  senior front end develop my industry-lead clie...  \n",
       "5833  .net softwar engin / programmers, sydney cbd c...  \n",
       "5834  develop versadev provid bleed edg technolog so...  \n",
       "5835  senior python develop thi is a great contract ...  \n",
       "5836  tibco spotfir develop an experienc tibco spotf...  "
      ]
     },
     "execution_count": 122,
     "metadata": {},
     "output_type": "execute_result"
    }
   ],
   "source": [
    "#to confirm if we have successfully completed the transformation:\n",
    "jobs_df2.head()\n",
    "#it can be seen that a new column is created and filled with the stemmed words comprised of data concatenated from title and desc\n",
    "#columns of the data frame. This newly created column will become our corpus for subsequent feature extraction process."
   ]
  },
  {
   "cell_type": "code",
   "execution_count": 149,
   "metadata": {
    "collapsed": false
   },
   "outputs": [],
   "source": [
    "corpus=jobs_df2.title_desc\n",
    "#corpus means collection of text. For this particular data-set, I will treat the newly created column title_desc\n",
    "#as my corpus and will use that to create features.\n",
    "vectorizer = TfidfVectorizer(stop_words='english')\n",
    "#Initializing TFIDF vectorizer to conver the raw corpus to a matrix of TFIDF features and also enabling the removal of stopwords.\n",
    "tfidf_matrix=vectorizer.fit_transform(corpus).todense()\n",
    "#creating TFIDF features sparse matrix by fitting it on the specified corpus. \n",
    "tfidf_names=vectorizer.get_feature_names()\n",
    "#grabbing the name of the features."
   ]
  },
  {
   "cell_type": "code",
   "execution_count": 234,
   "metadata": {
    "collapsed": false
   },
   "outputs": [
    {
     "name": "stdout",
     "output_type": "stream",
     "text": [
      "Number of TFIDF Features: 13043\n"
     ]
    }
   ],
   "source": [
    "print(\"Number of TFIDF Features: %d\"%len(tfidf_names)) #same info can be gathered by using tfidf_matrix.shape"
   ]
  },
  {
   "cell_type": "code",
   "execution_count": null,
   "metadata": {
    "collapsed": true
   },
   "outputs": [],
   "source": [
    "#which shows that there are 13043 columns that will be used for training the classifier. These are much smaller than the total\n",
    "#number of unique vocabulary words that are there (as we calculated previously) in the text description column alone."
   ]
  },
  {
   "cell_type": "code",
   "execution_count": null,
   "metadata": {
    "collapsed": true
   },
   "outputs": [],
   "source": [
    "training_time_container={'b_naive_bayes':0,'mn_naive_bayes':0,'random_forest':0,'linear_svm':0}\n",
    "prediction_time_container={'b_naive_bayes':0,'mn_naive_bayes':0,'random_forest':0,'linear_svm':0}\n",
    "\n",
    "accuracy_container={'b_naive_bayes':0,'mn_naive_bayes':0,'random_forest':0,'linear_svm':0}"
   ]
  },
  {
   "cell_type": "markdown",
   "metadata": {},
   "source": [
    "## Learning Classifiers, Making Predictions and Validating Results:\n",
    "With the data preprocessed, now is the time to develop the models. When it comes to developing machine learning models (and in our particular case, classifiers), we need to firstly train them on the labeled training data to learn from and then use the test data-set to make predictions. \n",
    "So to do that, we will proceed with splitting our existing data-set into training and test data as follows:"
   ]
  },
  {
   "cell_type": "code",
   "execution_count": 150,
   "metadata": {
    "collapsed": false
   },
   "outputs": [],
   "source": [
    "# As no separate test data-set was given so the provided data set is split into training and test data set using 70-30% ratio \n",
    "#as follows:\n",
    "variables = tfidf_matrix\n",
    "#considering the TFIDF features as independent variables to be input to the classifier.\n",
    "labels = jobs_df2.category\n",
    "#considering the category values as the class labels for the classifier.\n",
    "\n",
    "variables_train, variables_test, labels_train, labels_test  =   train_test_split(variables, labels, test_size=.3)\n",
    "#splitting the data into random training and test sets for both independent variables and labels."
   ]
  },
  {
   "cell_type": "code",
   "execution_count": 151,
   "metadata": {
    "collapsed": false
   },
   "outputs": [
    {
     "name": "stdout",
     "output_type": "stream",
     "text": [
      "Shape of Training Data: (2822L, 13043L)\n",
      "Shape of Test Data: (1210L, 13043L)\n"
     ]
    }
   ],
   "source": [
    "#analyzing the shape of the training and test data-set:\n",
    "print('Shape of Training Data: '+str(variables_train.shape))\n",
    "print('Shape of Test Data: '+str(variables_test.shape))"
   ]
  },
  {
   "cell_type": "markdown",
   "metadata": {},
   "source": [
    "### Applying Naive Bayes:\n",
    "Naive Bayes is one of the most widely used classification algorithm in text mining applications. Based on Bayes theorem, this model makes the assumption that all the features are independent of each other and uses the probabilities of each attribute belonging to each class to make a prediction. \n",
    "The condition of independence may not be valid in many circumstances but  as a base line model, its a good starting point to test its  performance on the provided data.\n",
    "There are two forms of Naive Bayes:\n",
    "1. Bernoulli (designed for boolean/binary features i.e.  just considers the presence or absense of a feature)\n",
    "2. Multinomial (which also considers the occurrence counts of the feature)\n",
    "\n",
    "We will apply both and then will assess their respective accuracy scores:\n"
   ]
  },
  {
   "cell_type": "code",
   "execution_count": 242,
   "metadata": {
    "collapsed": false
   },
   "outputs": [
    {
     "data": {
      "text/plain": [
       "['b_naive_bayes', 'linear_svm', 'mn_naive_bayes', 'random_forest']"
      ]
     },
     "execution_count": 242,
     "metadata": {},
     "output_type": "execute_result"
    }
   ],
   "source": [
    "training_time_container.keys()"
   ]
  },
  {
   "cell_type": "code",
   "execution_count": 264,
   "metadata": {
    "collapsed": false
   },
   "outputs": [],
   "source": [
    "from sklearn.naive_bayes import BernoulliNB\n",
    "#loading Gaussian Naive Bayes from the sklearn library:\n",
    "bnb_classifier=BernoulliNB()\n",
    "#initializing the object\n",
    "t0=time()\n",
    "bnb_classifier=bnb_classifier.fit(variables_train,labels_train)\n",
    "training_time_container['b_naive_bayes']=time()-t0\n",
    "#fitting the classifier or training the classifier on the training data"
   ]
  },
  {
   "cell_type": "code",
   "execution_count": 272,
   "metadata": {
    "collapsed": true
   },
   "outputs": [],
   "source": [
    "#after the model has been trained, we proceed to test its performance on the test data:\n",
    "t0=time()\n",
    "bnb_predictions=bnb_classifier.predict(variables_test)\n",
    "prediction_time_container['b_naive_bayes']=time()-t0\n"
   ]
  },
  {
   "cell_type": "code",
   "execution_count": 273,
   "metadata": {
    "collapsed": false
   },
   "outputs": [
    {
     "data": {
      "text/plain": [
       "0.5590000152587891"
      ]
     },
     "execution_count": 273,
     "metadata": {},
     "output_type": "execute_result"
    }
   ],
   "source": [
    "prediction_time_container['b_naive_bayes']"
   ]
  },
  {
   "cell_type": "code",
   "execution_count": 266,
   "metadata": {
    "collapsed": false
   },
   "outputs": [],
   "source": [
    "#the trained classifier has been used to make predictions on the test data-set. To evaluate the performance of the model,\n",
    "#there are a number of metrics that can be used as follows:\n",
    "nb_ascore=sklearn.metrics.accuracy_score(labels_test, bnb_predictions)\n",
    "accuracy_container['b_naive_bayes']=nb_ascore\n"
   ]
  },
  {
   "cell_type": "code",
   "execution_count": 249,
   "metadata": {
    "collapsed": false
   },
   "outputs": [
    {
     "name": "stdout",
     "output_type": "stream",
     "text": [
      "Bernoulli Naive Bayes Accuracy Score: 0.952066\n",
      "Training Time: 1.375000\n",
      "Prediction Time: 0.502000\n"
     ]
    }
   ],
   "source": [
    "print(\"Bernoulli Naive Bayes Accuracy Score: %f\"%accuracy_container['b_naive_bayes'])\n",
    "print(\"Training Time: %f\"%training_time_container['b_naive_bayes'])\n",
    "print(\"Prediction Time: %f\"%prediction_time_container['b_naive_bayes'])"
   ]
  },
  {
   "cell_type": "code",
   "execution_count": 239,
   "metadata": {
    "collapsed": false
   },
   "outputs": [
    {
     "name": "stdout",
     "output_type": "stream",
     "text": [
      "Confusion Matrix of Bernoulli Naive Bayes Classifier output: \n"
     ]
    },
    {
     "data": {
      "text/plain": [
       "array([[559,   1,   3],\n",
       "       [  3, 296,   0],\n",
       "       [ 50,   1, 297]])"
      ]
     },
     "execution_count": 239,
     "metadata": {},
     "output_type": "execute_result"
    }
   ],
   "source": [
    "#it shows that the accuracy score of our model is 0.954 or 95.4%. \n",
    "#Confusion Matrix is also another way to evaluate the prediction output of a classifier and also to determine the false positive\n",
    "#and false negative, sensitivity, specificity, precision and recall metrics:\n",
    "print(\"Confusion Matrix of Bernoulli Naive Bayes Classifier output: \")\n",
    "sklearn.metrics.confusion_matrix(labels_test,bnb_predictions)\n",
    "#the values on the diagonal show correct predictions where as off-diagonal represent the records that have been misclassified.\n",
    "#also printing the detailed report as follows:\n"
   ]
  },
  {
   "cell_type": "code",
   "execution_count": 160,
   "metadata": {
    "collapsed": false
   },
   "outputs": [
    {
     "name": "stdout",
     "output_type": "stream",
     "text": [
      "Classification Metrics: \n",
      "             precision    recall  f1-score   support\n",
      "\n",
      "administrative       0.89      0.88      0.89       563\n",
      "        dev       0.97      0.97      0.97       299\n",
      "      sales       0.83      0.84      0.84       348\n",
      "\n",
      "avg / total       0.89      0.89      0.89      1210\n",
      "\n"
     ]
    }
   ],
   "source": [
    "print(\"Classification Metrics: \")\n",
    "print(sklearn.metrics.classification_report(labels_test,nb_predictions))\n",
    "#accuracy score can be misleading when there is class imbalance problem in the data-set. In our case, the problem wasn't that\n",
    "#significant. F1-Score is a better measure of a classifier performance. The greater the F1-Score, the better. Also, we can see\n",
    "#that F1-Score and Accuracy score are somewhat similar because the data-set has negligible class imbalance issue:"
   ]
  },
  {
   "cell_type": "markdown",
   "metadata": {},
   "source": [
    "### Applying Multinomial Naive Bayes:\n",
    "Bernoulli Naive Bayes just uses the fact that whether a feature is present or not. However if we somehow also take into account\n",
    "the occurrence weight or count of the feature as well (in our case, the TFIDF weight of each feature), we can hypothesize that the performance of such classifier will be equally good, if not better. For this purpose, I've made use of the Multi-nomial Naive Bayes as follows:"
   ]
  },
  {
   "cell_type": "code",
   "execution_count": 240,
   "metadata": {
    "collapsed": true
   },
   "outputs": [],
   "source": [
    "from sklearn.naive_bayes import MultinomialNB\n",
    "mn_bayes=MultinomialNB()\n",
    "t0=time()\n",
    "mn_bayes_fit=mn_bayes.fit(variables_train,labels_train)\n",
    "training_time_container['mn_naive_bayes']=time()-t0\n",
    "t0=time()\n",
    "prediction_mn=mn_bayes_fit.predict(variables_test)\n",
    "prediction_time_container['mn_naive_bayes']=time()-t0\n",
    "mn_ascore=sklearn.metrics.accuracy_score(labels_test, prediction_mn) \n",
    "accuracy_container['mn_naive_bayes']=mn_ascore"
   ]
  },
  {
   "cell_type": "code",
   "execution_count": 241,
   "metadata": {
    "collapsed": false
   },
   "outputs": [
    {
     "name": "stdout",
     "output_type": "stream",
     "text": [
      "Accuracy Score of Multi-Nomial Naive Bayes: 0.933884\n",
      "Training Time: 0.334000s\n",
      "Prediction Time: 0.094000s\n"
     ]
    }
   ],
   "source": [
    "#if we see the accuracy score of Multinomial Naive Bayes classifier, we come to see that it turns out be around 0.934 or 93.4%\n",
    "print(\"Accuracy Score of Multi-Nomial Naive Bayes: %f\" %(mn_ascore))\n",
    "#and its training and prediction time are:\n",
    "print(\"Training Time: %fs\"%training_time_container['mn_naive_bayes'])\n",
    "print(\"Prediction Time: %fs\"%prediction_time_container['mn_naive_bayes'])"
   ]
  },
  {
   "cell_type": "markdown",
   "metadata": {},
   "source": [
    "### Applying Random Forest Classifier:\n",
    "Random Forests belong to the ensemble learning methods for classification and regression tasks. In Random Forest, a subset of the training data is fit on a number of decision trees. Random Forests have the characteristic to minimize  variance if its there in the data-set. \n",
    "There training time is generally quite higher which is one of their drawbacks to be used in production environment. However, the operations can be parallelized to reduce the training time.\n",
    "Also, greater the number of trees in the random forests, better will be the result however it comes with a trade off: the training time tends to increase as well. Also, if the number of trees tend to increase, the rate of improvement of accuracy may also tend to slow as well.\n",
    "I've used random forests with 50 trees. However, we can implement a routine to check the accuracy of the random forests by using different number of trees as well:"
   ]
  },
  {
   "cell_type": "code",
   "execution_count": 176,
   "metadata": {
    "collapsed": false
   },
   "outputs": [
    {
     "name": "stdout",
     "output_type": "stream",
     "text": [
      "Training Time: 6.059000s\n",
      "Training Time: 0.150000s\n",
      "Accuracy Score of Random Forests Classifier: \n",
      "0.984297520661\n",
      "[[562   0   1]\n",
      " [  4 293   2]\n",
      " [ 12   0 336]]\n"
     ]
    }
   ],
   "source": [
    "from sklearn.ensemble import RandomForestClassifier\n",
    "\n",
    "rf_classifier=RandomForestClassifier(n_estimators=50)\n",
    "t0=time()\n",
    "rf_classifier=rf_classifier.fit(variables_train,labels_train)\n",
    "\n",
    "training_time_container['random_forest']=time()-t0\n",
    "print(\"Training Time: %fs\"%training_time_container['random_forest'])\n",
    "\n",
    "t0=time()\n",
    "rf_predictions=rf_classifier.predict(variables_test)\n",
    "prediction_time_container['random_forest']=time()-t0\n",
    "print(\"Prediction Time: %fs\"%prediction_time_container['random_forest'])\n",
    "\n",
    "accuracy_container['random_forest']=sklearn.metrics.accuracy_score(labels_test, rf_predictions)\n",
    "print (\"Accuracy Score of Random Forests Classifier: \")\n",
    "print(accuracy_container['random_forest'])\n",
    "print(sklearn.metrics.confusion_matrix(labels_test,rf_predictions))\n"
   ]
  },
  {
   "cell_type": "markdown",
   "metadata": {},
   "source": [
    "### Applying Linear Classifier (SVM) using Stochastic Gradient Descent:\n",
    "Stochastic Gradient Descent (SGD) is a one of the most efficient approaches used in linear classifiers under convex loss functions such as (linear) Support Vector Machines.\n",
    "It has proven to perform well in in large-scale and sparse machine learning problems. Such problems are also encountered in text classification and natural language processing tasks and that motivates the fact to use this in our problem.\n"
   ]
  },
  {
   "cell_type": "code",
   "execution_count": 251,
   "metadata": {
    "collapsed": false
   },
   "outputs": [
    {
     "name": "stdout",
     "output_type": "stream",
     "text": [
      "Training Time: 1.869000s\n",
      "Prediction Time: 0.070000s\n",
      "Accuracy Score of Linear SVM Classifier: 0.992562\n",
      "[[562   0   1]\n",
      " [  3 296   0]\n",
      " [  5   0 343]]\n"
     ]
    }
   ],
   "source": [
    "#I've used hinge loss which gives linear Support Vector Machine. Also set the learning rate to 0.0001 (also the default value)\n",
    "#which is a constant that's gets multiplied with the regularization term. For penalty, I've used L2 which is the standard\n",
    "#regularizer for linear SVMs:\n",
    "\n",
    "from sklearn import linear_model\n",
    "\n",
    "svm_classifier=linear_model.SGDClassifier(loss='hinge',alpha=0.0001)\n",
    "\n",
    "t0=time()\n",
    "svm_classifier=svm_classifier.fit(variables_train, labels_train)\n",
    "training_time_container['linear_svm']=time()-t0\n",
    "print(\"Training Time: %fs\"%training_time_container['linear_svm'])\n",
    "\n",
    "t0=time()\n",
    "svm_predictions=svm_classifier.predict(variables_test)\n",
    "prediction_time_container['linear_svm']=time()-t0\n",
    "print(\"Prediction Time: %fs\"%prediction_time_container['linear_svm'])\n",
    "\n",
    "accuracy_container['linear_svm']=sklearn.metrics.accuracy_score(labels_test, svm_predictions)\n",
    "print (\"Accuracy Score of Linear SVM Classifier: %f\"%accuracy_container['linear_svm'])\n",
    "print(sklearn.metrics.confusion_matrix(labels_test,svm_predictions))\n"
   ]
  },
  {
   "cell_type": "code",
   "execution_count": null,
   "metadata": {
    "collapsed": true
   },
   "outputs": [],
   "source": [
    "#if we train the SGD Classifier with elastic net penalty, it  brings more sparsity to the model not possible with the L2:"
   ]
  },
  {
   "cell_type": "code",
   "execution_count": 254,
   "metadata": {
    "collapsed": true
   },
   "outputs": [],
   "source": [
    "svm_classifier_enet=linear_model.SGDClassifier(loss='hinge',alpha=0.0001,penalty='elasticnet')\n",
    "svm_classifier_enet=svm_classifier_enet.fit(variables_train, labels_train)"
   ]
  },
  {
   "cell_type": "code",
   "execution_count": 255,
   "metadata": {
    "collapsed": true
   },
   "outputs": [],
   "source": [
    "svm_enet_predictions=svm_classifier_enet.predict(variables_test)\n"
   ]
  },
  {
   "cell_type": "code",
   "execution_count": 256,
   "metadata": {
    "collapsed": false
   },
   "outputs": [
    {
     "name": "stdout",
     "output_type": "stream",
     "text": [
      "Accuracy Score of Linear SVM Classifier: 0.994215\n"
     ]
    }
   ],
   "source": [
    "print (\"Accuracy Score of Linear SVM Classifier: %f\"%sklearn.metrics.accuracy_score(labels_test,svm_enet_predictions))\n",
    "# we saw marginal improvement in the overall accuracy score.\n"
   ]
  },
  {
   "cell_type": "markdown",
   "metadata": {},
   "source": [
    "### Applying SVM with non-linear kernel"
   ]
  },
  {
   "cell_type": "markdown",
   "metadata": {},
   "source": [
    "SVMs can also be used perform  non-linear partitioning. This is achieved by means of a kernel function. In this particular case,\n",
    "I use RBF (Radial Basis Function) kernel and have set a high c value (penalty parameter for error term)"
   ]
  },
  {
   "cell_type": "code",
   "execution_count": 285,
   "metadata": {
    "collapsed": false
   },
   "outputs": [
    {
     "name": "stdout",
     "output_type": "stream",
     "text": [
      "Accuracy score of Non-Linear SVM: 0.992562\n"
     ]
    },
    {
     "name": "stderr",
     "output_type": "stream",
     "text": [
      "C:\\Anaconda2\\lib\\site-packages\\sklearn\\svm\\base.py:85: DeprecationWarning: gamma=0.0 has been deprecated in favor of gamma='auto' as of 0.17. Backward compatibility for gamma=0.0 will be removed in 0.18\n",
      "  DeprecationWarning)\n"
     ]
    }
   ],
   "source": [
    "\n",
    "from sklearn.svm import SVC\n",
    "\n",
    "nl_svm_classifier=SVC(C=1000000.0, gamma=0.0, kernel='rbf')\n",
    "\n",
    "t0=time()\n",
    "nl_svm_classifier=nl_svm_classifier.fit(variables_train,labels_train)\n",
    "training_time_container['non_linear_svm']=time()-t0\n",
    "\n",
    "t0=time()\n",
    "nl_svm_predictions=nl_svm_classifier.predict(variables_test)\n",
    "prediction_time_container['non_linear_svm']=time()-t0\n",
    "\n",
    "accuracy_container['non_linear_svm']=sklearn.metrics.accuracy_score(labels_test,nl_svm_predictions)\n",
    "\n",
    "print(\"Accuracy score of Non-Linear SVM: %f\"%accuracy_container['linear_svm'])"
   ]
  },
  {
   "cell_type": "code",
   "execution_count": 284,
   "metadata": {
    "collapsed": true
   },
   "outputs": [],
   "source": [
    "#as expected, the accuracy of this classifier is quite good but on the other hand, the training time and prediction time is quite \n",
    "#higher compared to other classifier."
   ]
  },
  {
   "cell_type": "code",
   "execution_count": 181,
   "metadata": {
    "collapsed": true
   },
   "outputs": [],
   "source": [
    "%matplotlib inline\n",
    "import matplotlib.pyplot as plt"
   ]
  },
  {
   "cell_type": "code",
   "execution_count": 304,
   "metadata": {
    "collapsed": false
   },
   "outputs": [
    {
     "data": {
      "image/png": "[encoded data removed]",
      "text/plain": [
       "<matplotlib.figure.Figure at 0x5e8353c8>"
      ]
     },
     "metadata": {},
     "output_type": "display_data"
    }
   ],
   "source": [
    "with plt.style.context('fivethirtyeight'):\n",
    "    plt.figure(figsize=(12,7))\n",
    "    plt.bar(range(5),training_time_container.values(),tick_label=training_time_container.keys(),align='center')\n",
    "    plt.ylabel(\"Training time in seconds\")\n",
    "    plt.ylim(0,8)\n",
    "    plt.grid(True)\n",
    "    plt.title(\"Comparison of Training Time of different classifiers\")"
   ]
  },
  {
   "cell_type": "code",
   "execution_count": 300,
   "metadata": {
    "collapsed": false
   },
   "outputs": [
    {
     "data": {
      "image/png": "[encoded data removed]",
      "text/plain": [
       "<matplotlib.figure.Figure at 0x6a3d95f8>"
      ]
     },
     "metadata": {},
     "output_type": "display_data"
    }
   ],
   "source": [
    "with plt.style.context('fivethirtyeight'):\n",
    "    plt.figure(figsize=(12,7))\n",
    "    plt.bar(range(5),prediction_time_container.values(),tick_label=prediction_time_container.keys(),align='center',color='orange')\n",
    "    \n",
    "    plt.ylabel(\"Prediction time in seconds\")\n",
    "    plt.grid(True)\n",
    "    plt.ylim(0,1)\n",
    "    plt.title(\"Comparison of Prediction Time of different classifiers\")"
   ]
  },
  {
   "cell_type": "code",
   "execution_count": 296,
   "metadata": {
    "collapsed": false
   },
   "outputs": [
    {
     "data": {
      "image/png": "[encoded data removed]",
      "text/plain": [
       "<matplotlib.figure.Figure at 0x6a79c9e8>"
      ]
     },
     "metadata": {},
     "output_type": "display_data"
    }
   ],
   "source": [
    "with plt.style.context('fivethirtyeight'):\n",
    "    plt.figure(figsize=(12,7))\n",
    "    plt.bar(range(5),accuracy_container.values(),tick_label=accuracy_container.keys(),align='center',color='g')\n",
    "    \n",
    "    plt.ylabel(\"Accuracy Scores\")\n",
    "    plt.grid(True)\n",
    "    plt.title(\"Comparison of Accuracy Scores of different classifiers\")\n",
    "    plt.ylim(0.85,1.0)"
   ]
  },
  {
   "cell_type": "markdown",
   "metadata": {},
   "source": [
    "## Applying Chi-Square Feature Selection\n",
    "The analysis that we have conducted so far makes use of 13k+ features that were derived from the TFIDF matrix. However, if we try to apply chi-square stat test for feature selection and select much lesser features out of the current ones,e.g. 5000 only, then we see that the accuracy scores aren't affected to a greater extent. \n",
    "chi-square test acutally determines dependence between independent variables. Thus using this function, those features are eliminated that are the most likely to be independent of class and therefore insignificant for classification. In terms of performance, its an added advantage because with lesser features, the overall performance of classifier tend to improve:\n"
   ]
  },
  {
   "cell_type": "code",
   "execution_count": 205,
   "metadata": {
    "collapsed": true
   },
   "outputs": [],
   "source": [
    "from sklearn.feature_selection import SelectKBest\n",
    "from sklearn.feature_selection import chi2\n",
    "X_new = SelectKBest(chi2, k=5000).fit_transform(variables,labels)"
   ]
  },
  {
   "cell_type": "code",
   "execution_count": 206,
   "metadata": {
    "collapsed": true
   },
   "outputs": [],
   "source": [
    "#splititng the data into training and test data-set again:\n",
    "cvariables_train, cvariables_test, clabels_train, clabels_test  =   train_test_split(X_new, labels, test_size=.3)"
   ]
  },
  {
   "cell_type": "code",
   "execution_count": 207,
   "metadata": {
    "collapsed": false
   },
   "outputs": [
    {
     "data": {
      "text/plain": [
       "array([[569,   0,   1],\n",
       "       [  0, 305,   1],\n",
       "       [  3,   0, 331]])"
      ]
     },
     "execution_count": 207,
     "metadata": {},
     "output_type": "execute_result"
    }
   ],
   "source": [
    "#now use these features to train the linear SVM Classifier and see what results do you get:\n",
    "svm_classifier2=linear_model.SGDClassifier(alpha=0.0001,penalty='elasticnet',n_iter=50)\n",
    "svm_classifier_f2=svm_classifier2.fit(cvariables_train, clabels_train)\n",
    "predictions_svm2=svm_classifier_f2.predict(cvariables_test)\n",
    "\n",
    "sklearn.metrics.confusion_matrix(clabels_test,predictions_svm2)"
   ]
  },
  {
   "cell_type": "code",
   "execution_count": 208,
   "metadata": {
    "collapsed": false
   },
   "outputs": [
    {
     "data": {
      "text/plain": [
       "0.99586776859504134"
      ]
     },
     "execution_count": 208,
     "metadata": {},
     "output_type": "execute_result"
    }
   ],
   "source": [
    "#and if we analyze the accuracy score, we can clearly see that its marginally better than the previous accuracy score that we got\n",
    "#with Linear SVM trained on training data with 13k+  features. So its a remarkable improvement that using less than half features\n",
    "#we are able to achieve equivalently good accuracy score.\n",
    "sklearn.metrics.accuracy_score(clabels_test,predictions_svm2)"
   ]
  },
  {
   "cell_type": "markdown",
   "metadata": {},
   "source": [
    "## Applying Cross Validation:\n",
    "cross validation is a model evaluation technique in which input training data is split into k sets/folds and model is learnt on k-1 sets and validated on the remaining set. It minimizes the risk of over-fitting and its main goal is to estimate how accurately a predictive model will perform in practice on un-seen data.\n"
   ]
  },
  {
   "cell_type": "code",
   "execution_count": 210,
   "metadata": {
    "collapsed": true
   },
   "outputs": [],
   "source": [
    "from sklearn import cross_validation"
   ]
  },
  {
   "cell_type": "code",
   "execution_count": 211,
   "metadata": {
    "collapsed": false
   },
   "outputs": [
    {
     "data": {
      "text/plain": [
       "\"t0=time()\\nmn_bayes_fit=mn_bayes.fit(variables_train,labels_train)\\ntraining_time_container['mn_naive_bayes']=time()-t0\\nt0=time()\\nprediction_mn=mn_bayes_fit.predict(variables_test)\\nprediction_time_container['mn_naive_bayes']=time()-t0\\nmn_ascore=sklearn.metrics.accuracy_score(labels_test, prediction_mn) \""
      ]
     },
     "execution_count": 211,
     "metadata": {},
     "output_type": "execute_result"
    }
   ],
   "source": [
    "mn_bayes=MultinomialNB()\n",
    "cv_scores = cross_validation.cross_val_score(mn_bayes, variables_train, labels_train, cv=5)"
   ]
  },
  {
   "cell_type": "code",
   "execution_count": 214,
   "metadata": {
    "collapsed": false
   },
   "outputs": [
    {
     "name": "stdout",
     "output_type": "stream",
     "text": [
      "Accuracy: 0.92 (+/- 0.03)\n"
     ]
    }
   ],
   "source": [
    "print(\"Accuracy: %0.2f (+/- %0.2f)\" % (cv_scores.mean(), cv_scores.std() * 2))\n",
    "#so the results that we've obtained with cross validation techniques are also almost equivalent to the ones we obtained when\n",
    "#we trained the Multinomial naive bayes classifier before. This further validates our results and accuracy scores that we've \n",
    "#got in the analysis.\n",
    "#F1-score can also be calculated as follows:\n",
    "cv_scores_f1=cross_validation.cross_val_score(mn_bayes,variables_train,labels_train,cv=5,scoring='f1_weighted')"
   ]
  },
  {
   "cell_type": "code",
   "execution_count": 217,
   "metadata": {
    "collapsed": false
   },
   "outputs": [
    {
     "name": "stdout",
     "output_type": "stream",
     "text": [
      "F1-Scores of Naive Bayes Classifier on Cross Validation Data: 0.923256\n"
     ]
    }
   ],
   "source": [
    "print(\"F1-Scores of Naive Bayes Classifier on Cross Validation Data: %f\"%cv_scores_f1.mean())\n",
    "#which is also approximately equal to the accuracy score that we obtained."
   ]
  },
  {
   "cell_type": "code",
   "execution_count": 213,
   "metadata": {
    "collapsed": false
   },
   "outputs": [
    {
     "data": {
      "text/plain": [
       "0.93388429752066116"
      ]
     },
     "execution_count": 213,
     "metadata": {},
     "output_type": "execute_result"
    }
   ],
   "source": [
    "accuracy_container['mn_naive_bayes']"
   ]
  },
  {
   "cell_type": "markdown",
   "metadata": {},
   "source": [
    "## Conclusion:\n",
    "So it can be gathered clearly from the metrics that LinearSVM is clearly the winner in terms of strong accuracy score, training time and testing time. Random Forest and Non linear SVM classifiers' accuracy score is also quite appealing but the high magnitude of their training time is somewhat degrading.\n",
    "It has also been found and demonstrated that if we use lesser number of features (e.g. 5000), selected by applying chi-square test, then the accuracy scores remains the same. If we further analyze the training and prediction time of the machine learning algorithms, we will come to further know that it would be greatly improved as well because of much less number of features.\n",
    "The results have been again validated by making use of cross validation. We saw that the accuracy scores that we got were equal to the ones we got by applying cross validation.\n"
   ]
  },
  {
   "cell_type": "markdown",
   "metadata": {},
   "source": [
    "## Recommendations:\n",
    "Here are some recommendations that can be explored to further improve the analysis:\n",
    "1. I havent used sklearn's pipeline function which gives a lot of order of the steps involved in training, predicting the classifier.\n",
    "2. Using Functional programming, we can form a general function which can be used to pass classifiers and to derive the results. I have attached a separate notebook which contains such code that I wrote.\n",
    "3. The current version of the code can be made much more better by making it more modular and defining classes. If required, I can expedite on that as well.\n",
    "4. I've made use of the state of the art text classification algorithms after going through series of research papers. We can also use Neural networks (MLPs) as well and if needed, it can be implemented.\n",
    "5. Using latent factorization methods like Non-negative matrix factorization, we can find higher level features that can then be used during classification. I have done one such analysis by applying sparse coding on a transactional database to find out basis vectors/dictionary which improved classification results. The same can be done here as well.\n",
    "6. We can further augment the feature extraction process by assigning different weights to the text in different positions e.g. assigning more weight to the text in title and the text at the starting sections of the body. This could be used to explore if it improves the results or not.\n",
    "7. We can also explore forming ngram features to see if those generate any better results or not. \n",
    "8. Similarly, we can use advanced methodology like word2vec to find out words that occur together and can use them in the features extraction process as well. \n",
    "9. We can experiment with other feature selection methods like Mutual Information gain to see which one gives better results.\n",
    "10. Another method to validate the results of classifiers can be Area under the curve (AUC) of ROC curve. Using One-Vs-All classification, we can form AUC to further assess the performance of our classifiers."
   ]
  }
 ],
 "metadata": {
  "kernelspec": {
   "display_name": "Python 2",
   "language": "python",
   "name": "python2"
  },
  "language_info": {
   "codemirror_mode": {
    "name": "ipython",
    "version": 2
   },
   "file_extension": ".py",
   "mimetype": "text/x-python",
   "name": "python",
   "nbconvert_exporter": "python",
   "pygments_lexer": "ipython2",
   "version": "2.7.11"
  }
 },
 "nbformat": 4,
 "nbformat_minor": 0
}
