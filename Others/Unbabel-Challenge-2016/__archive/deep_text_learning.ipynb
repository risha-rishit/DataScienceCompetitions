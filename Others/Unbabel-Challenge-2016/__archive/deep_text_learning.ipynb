{
 "metadata": {
  "name": "",
  "signature": "sha256:f619d94bc13df6402e847bcf490860120602a00cc6e25d6df0b846c0b004898c"
 },
 "nbformat": 3,
 "nbformat_minor": 0,
 "worksheets": [
  {
   "cells": [
    {
     "cell_type": "heading",
     "level": 1,
     "metadata": {},
     "source": [
      "Practical Deep Text Learning"
     ]
    },
    {
     "cell_type": "markdown",
     "metadata": {},
     "source": [
      "This notebook presents practical methods for learning from natural text. Using simple combinations of deep learning, classification, and regression, I demonstrate how to predict a blogger's gender and age with high accuracy based on his or her blog posts. More specifically, I create text features using the [Word2Vec](https://code.google.com/p/word2vec/) deep learning model implemented in the [Gensim](http://radimrehurek.com/gensim/models/word2vec.html) Python package, and then perform classification and regression using the machine learning toolkits in [GraphLab Create](https://dato.com/products/create/).\n",
      "\n",
      "The notebook is divided to the following sections:\n",
      "- <a href=\"#setup\">Setup</a>\n",
      "- <a href=\"#prepare\">Preparing the dataset</a>\n",
      "- <a href=\"#word2vec\">Training a Word2Vec model</a>\n",
      "- <a href=\"#classifier\">Creating & evaluating classifiers</a>\n",
      "\n",
      "Each section can be executed independently. So feel free to skip ahead if you are impatient.\n",
      "\n",
      "Required Python Packages:\n",
      "- [BeautifulSoup](http://www.crummy.com/software/BeautifulSoup/) for parsing raw blog posts.\n",
      "- [NLTK](http://www.nltk.org/) (including downloading [stopwords and punkt](http://www.nltk.org/data.html) ) for pre-processing the text.\n",
      "- [Gensim](https://radimrehurek.com/gensim/) - for Word2Vec deep learning.\n",
      "- [GraphLab Create](https://dato.com/products/create/) - for classification, regression, data engineering, and evaluation.\n",
      "\n",
      "Let's start!\n"
     ]
    },
    {
     "cell_type": "heading",
     "level": 2,
     "metadata": {},
     "source": [
      "<a id=\"setup\"></a>0. Setup"
     ]
    },
    {
     "cell_type": "markdown",
     "metadata": {},
     "source": [
      "Before we begin, make sure you have installed all the required Python packages. (The instructions below use pip. You can use easy_install, too.) Also, consider using [virtualenv](https://virtualenv.pypa.io/en/latest/) for a cleaner installation experience instead of sudo."
     ]
    },
    {
     "cell_type": "markdown",
     "metadata": {},
     "source": [
      "<pre>\n",
      "% sudo pip install --upgrade beautifulsoup4\n",
      "% sudo pip install --upgrade gensim\n",
      "% sudo pip install --upgrade nltk\n",
      "% sudo pip install --upgrade graphlab-create\n",
      "</pre>"
     ]
    },
    {
     "cell_type": "markdown",
     "metadata": {},
     "source": [
      "You will need [a product key for GraphLab Create](https://dato.com/download/).\n",
      "\n",
      "You'll also need to install additional data from nltk. This will only need to be done once."
     ]
    },
    {
     "cell_type": "code",
     "collapsed": false,
     "input": [
      "# Uncomment if this is your first time using nltk\n",
      "#import nltk\n",
      "#nltk.download()"
     ],
     "language": "python",
     "metadata": {},
     "outputs": []
    },
    {
     "cell_type": "heading",
     "level": 2,
     "metadata": {},
     "source": [
      "<a id=\"prepare\"></a>1. Preparing the Dataset"
     ]
    },
    {
     "cell_type": "markdown",
     "metadata": {},
     "source": [
      "First we need to download a relevant dataset. For this notebook, I chose to use the [The Blog Authorship Corpus](http://u.cs.biu.ac.il/~koppel/BlogCorpus.htm), which contains 681,288 posts as well as general details about each blogger, such as age, gender, industry, and even astrological sign ([Schler et al. 2006](http://www.cs.biu.ac.il/~schlerj/schler_springsymp06.pdf)). After downloading, unzip the corpus into /home/graphlab_create/data/blogs/xml. (If you use a different directory, make sure to change the `BASE_DIR` variable value in the code below.)\n",
      "\n",
      "Each blogger's blog posts are formatted as an XML file that looks like this:"
     ]
    },
    {
     "cell_type": "raw",
     "metadata": {},
     "source": [
      "<Blog>\n",
      "    <date>Date1</date>\n",
      "    <post>\n",
      "        Blog Post Text1 \t        \n",
      "    </post>\n",
      "\n",
      "    <date>Date2</date>\n",
      "    <post>\n",
      "        Blog Post Text2\n",
      "    </post>\n",
      "....\n",
      "</Blog>"
     ]
    },
    {
     "cell_type": "markdown",
     "metadata": {},
     "source": [
      "Unfortunately, some of the XML files are malformed. So instead of using regular XML DOM Parsers such as minidom, I used the more robust BeautifulSoup package. The following code creates and saves an [SFrame](https://dato.com/products/create/docs/generated/graphlab.SFrame.html) object that contains all the blog post data, one row per blogger. \n",
      "\n",
      "Note that this parses 19,320 files and can take some time. It will also generate a bunch of warning messages about URLs, which we are not showing here. Don't worry about those. Feel free to get a cup of coffee and come back in a few minutes."
     ]
    },
    {
     "cell_type": "code",
     "collapsed": false,
     "input": [
      "import os\n",
      "import graphlab as gl\n",
      "from bs4 import  BeautifulSoup\n",
      "\n",
      "BASE_DIR = \"/home/graphlab_create/data/blogs\" # NOTE: Update BASE_DIR to your own directory path\n",
      "class BlogData2SFrameParser(object):\n",
      "    #Some constants\n",
      "    ID = \"id\"\n",
      "    GENDER = \"gender\"\n",
      "    AGE = \"age\"\n",
      "    SIGN = \"sign\"\n",
      "    POSTS = \"posts\"\n",
      "    DATES = \"dates\"\n",
      "    INDUSTRY = \"industry\"\n",
      "\n",
      "    def __init__(self, xml_files_dir, sframe_outpath):\n",
      "        \"\"\"\n",
      "        Parse all the blog posts XML files in the xml_files_dir and insert them into an SFrame object,\n",
      "        which is later saved to `sframe_outpath`\n",
      "        :param xml_files_dir: the directory which contains XML files of the The Blog Authorship Corpus\n",
      "        :param sframe_outpath: the out path to save the SFrame.\n",
      "        \"\"\"\n",
      "        self._bloggers_data = []\n",
      "\n",
      "\n",
      "        for p in os.listdir(xml_files_dir):\n",
      "            if p.endswith(\".xml\"):\n",
      "                #We parse each XML file and convert it to a dict\n",
      "                self._bloggers_data.append(self.parse_blog_xml_to_dict(\"%s%s%s\" % (xml_files_dir, os.path.sep, p)))\n",
      "        print \"Successfully parsed %s blogs\" % len(self._bloggers_data)\n",
      "\n",
      "        # self._bloggers_data is a list of dict which we can easily load to a SFrame object. However, the dict object\n",
      "        # are loaded into a single column named X1. To create separate column for each dict key we use the unpack function.        \n",
      "        self._sf = gl.SFrame(self._bloggers_data).unpack('X1')\n",
      "\n",
      "        #Now we can use the rename function in order to remove the X1. prefix from the column names and save the SFrame for later use\n",
      "        self._sf.rename({c:c.replace(\"X1.\", \"\") for c in self._sf.column_names()} )        \n",
      "        self._sf.save(sframe_outpath)\n",
      "\n",
      "\n",
      "    def parse_blog_xml_to_dict(self, path):\n",
      "        \"\"\"\n",
      "        Parse the blog post in the input XML file and return dict with the  blogger's personal information and posts\n",
      "        :param path: the path of the xml file\n",
      "        :return: dict with the blogger's personal details and posts\n",
      "        :rtype: dict\n",
      "        \"\"\"\n",
      "        blogger_dict = {}\n",
      "        #Extract the blogger personal details from the file name\n",
      "        blog_id,gender,age,industry, sign = path.split(os.path.sep)[-1].split(\".xml\")[0].split(\".\")\n",
      "        blogger_dict[self.ID] = blog_id\n",
      "        blogger_dict[self.GENDER] = gender\n",
      "        blogger_dict[self.AGE] = int(age)\n",
      "        blogger_dict[self.INDUSTRY] = industry\n",
      "        blogger_dict[self.SIGN] = sign\n",
      "        blogger_dict[self.POSTS] = []\n",
      "        blogger_dict[self.DATES] = []\n",
      "\n",
      "        #The XML files are not well formatted, so we need to do some hacks.\n",
      "        s = file(path,\"r\").read().replace(\"&nbsp;\", \" \")\n",
      "\n",
      "        # First, strip the <Blog> and </Blog> tags at the beginning and end of the document\n",
      "        s = s.replace(\"<Blog>\", \"\").replace(\"</Blog>\", \"\").strip()\n",
      "\n",
      "        # Now, split the document into individual blog posts by the <date> tag\n",
      "        for e in s.split(\"<date>\")[1:]:\n",
      "            # Separate the date stamp from the rest of the post\n",
      "            date_and_post = e.split(\"</date>\")\n",
      "            blogger_dict[self.DATES].append(date_and_post[0].strip())\n",
      "            post = date_and_post[1].replace(\"<post>\",\"\").replace(\"</post>\",\"\").strip()\n",
      "            post = BeautifulSoup(post).get_text()\n",
      "            blogger_dict[self.POSTS].append(post)\n",
      "\n",
      "\n",
      "        if len(blogger_dict[self.DATES]) != len(blogger_dict[self.POSTS]):\n",
      "            raise Exception(\"Warning: Mismatch between the number of posts and the number of dates in file %s\" % path)\n",
      "\n",
      "        return blogger_dict\n",
      "    @property\n",
      "    def sframe(self):\n",
      "        return self._sf\n",
      "\n",
      "sframe_save_path = \"%s/blogs.sframe\" % BASE_DIR\n",
      "b = BlogData2SFrameParser(\"%s/xml\" % BASE_DIR, sframe_save_path)\n",
      "sf = b.sframe"
     ],
     "language": "python",
     "metadata": {},
     "outputs": [],
     "prompt_number": 1
    },
    {
     "cell_type": "markdown",
     "metadata": {},
     "source": [
      "Gensim reads input from disk. So we'll need some glue code to get things into the right format. We will use the [SFrame.apply() function](https://dato.com/products/create/docs/generated/graphlab.SFrame.apply.html?highlight=sframe.apply#graphlab.SFrame.apply) to create sperate text files for each blogger's posts. The created text files are then used to construct our Word2Vec model."
     ]
    },
    {
     "cell_type": "code",
     "collapsed": false,
     "input": [
      "os.mkdir(\"%s/txt\" % BASE_DIR)\n",
      "sf.apply(lambda r: file(\"%s/txt/%s.txt\" % (BASE_DIR, r[\"id\"]),\"w\").write(\"\\n\".join(r['posts']))).__materialize__()"
     ],
     "language": "python",
     "metadata": {},
     "outputs": [],
     "prompt_number": 2
    },
    {
     "cell_type": "markdown",
     "metadata": {},
     "source": [
      "Note: There's a mysterious call to '\\_\\_materialize\\_\\_()' in the last code block. SFrame and SArray operations are lazily evaluated. This is an optimization step that allows SFrame to chain expensive operations together and perform them as needed. A side effect of this behavior is that operations may not be performed when you make the call. In our case, we want to write out the data right away. So we calling '\\_\\_materialize\\_\\_()' to force the SFrame to not be lazy and materialize the results now.\n",
      "\n",
      "Now that we have the data in an SFrame, you can call '.show()' to [visualize it in GraphLab Canvas](https://dato.com/learn/userguide/sframe/visualization.html)."
     ]
    },
    {
     "cell_type": "code",
     "collapsed": false,
     "input": [
      "gl.canvas.set_target('ipynb')\n",
      "sf.show()"
     ],
     "language": "python",
     "metadata": {},
     "outputs": [
      {
       "javascript": [
        "$(\"head\").append($(\"<link/>\").attr({\n",
        "  rel:  \"stylesheet\",\n",
        "  type: \"text/css\",\n",
        "  href: \"//cdnjs.cloudflare.com/ajax/libs/font-awesome/4.1.0/css/font-awesome.min.css\"\n",
        "}));\n",
        "\n",
        "            // run this in a self-calling function to keep variables scoped per output cell\n",
        "            (function() {\n",
        "                define(\"common_util\",[\"d3\",\"dagre\",\"react\"],function(d3,dagre,React){\"use strict\";var pollIntervalThresholds=[[Math.pow(2,20),1e3],[Math.pow(2,27),5e3]];var pollIntervalScale=d3.scale.linear().domain(pollIntervalThresholds.map(function(a){return a[0]})).range(pollIntervalThresholds.map(function(a){return a[1]}));function assert(x){if(\"assert\"in console){console.assert(x)}else if(!x){var msg=\"assertion failed\";if(\"error\"in console){console.error(msg)}else if(\"log\"in console){console.log(msg)}if(\"trace\"in console){console.trace()}}}function formatNumber(n){if(n===null){return NaN}if(n<.001&&n>0||n>-.001&&n<0){return n.toFixed(4)}if(n>Math.pow(2,40)||n<-Math.pow(2,40)){return n.toPrecision(4)}return n}function merge(x1,x2,recursive){var ret={};for(var attr1 in x1){ret[attr1]=x1[attr1]}for(var attr2 in x2){if(recursive&&attr2 in ret){ret[attr2]=merge(ret[attr2],x2[attr2])}else{ret[attr2]=x2[attr2]}}return ret}function isSArrayImageType(column_descriptor){if(column_descriptor!==null&&typeof column_descriptor===\"object\"&&column_descriptor.type&&column_descriptor.type.toLowerCase()===\"image\"){return true}return false}var CanvasImage=React.createClass({displayName:\"CanvasImage\",draw:function(ctx){var data=this.props.data;var id=ctx.createImageData(this.props.width,this.props.height);var pixels=data.length/this.props.channels;for(var i=0;i<pixels*4;i+=4){var idx=i/4*this.props.channels;id.data[i]=data[idx];if(this.props.channels===1){id.data[i+1]=data[idx];id.data[i+2]=data[idx];id.data[i+3]=255}else{id.data[i+1]=data[idx+1];id.data[i+2]=data[idx+2];if(this.props.channels===3){id.data[i+3]=255}else{assert(this.props.channels===4);id.data[i+3]=data[idx+3]}}}ctx.putImageData(id,0,0)},componentDidMount:function(){var ctx=this.getDOMNode().getContext(\"2d\");this.draw(ctx)},componentDidUpdate:function(){var ctx=this.getDOMNode().getContext(\"2d\");ctx.clearRect(0,0,this.props.width,this.props.height);this.draw(ctx)},shouldComponentUpdate:function(nextProps,nextState){return nextProps.id!==this.props.id},render:function(){return React.DOM.canvas({style:this.props.style,width:this.props.width,height:this.props.height})}});return{assert:assert,merge:merge,partial:function(obj,keys,exclude){var ret={};if(exclude){Object.keys(obj).forEach(function(key){if(keys.indexOf(key)===-1){ret[key]=obj[key]}})}else{keys.forEach(function(key){ret[key]=obj[key]})}return ret},objectMap:function(obj,callback){var ret={};for(var key in obj){ret=merge(ret,callback(key,obj[key]))}return ret},tryGetProperty:function _tryGetProperty(obj,propName,defaultValue){if(typeof defaultValue===\"undefined\")defaultValue=null;if(propName==null)return defaultValue;if(obj==null)return defaultValue;if(typeof propName===\"string\"||typeof propName===\"number\"){if(!(propName in obj))return defaultValue;return obj[propName]}else{assert(Array.isArray(propName));var currentPropName=propName.shift();if(propName.length===0){return _tryGetProperty(obj,currentPropName,defaultValue)}else{return _tryGetProperty(_tryGetProperty(obj,currentPropName),propName,defaultValue)}}},deepCopy:function(o){return JSON.parse(JSON.stringify(o))},deepEquals:function _deepEquals(a,b,depth){if(typeof depth===\"undefined\"){depth=0}if(depth>500){assert(false);return false}if(typeof a===\"function\"&&typeof b===\"function\"){return true}if(typeof a!==typeof b)return false;if(Array.isArray(a)!==Array.isArray(b))return false;if(Array.isArray(a)){if(a.length!==b.length)return false;var ret=true;for(var i=0;i<a.length;i++){ret=ret&&_deepEquals(a[i],b[i],depth+1);if(!ret)return ret}return ret}if(typeof a===\"object\"){var keys={};for(var key in a){keys[key]=1}for(var key in b){if(!(key in keys))return false;keys[key]++}var ret=true;for(var key in keys){if(keys[key]!==2)return false;ret=ret&&_deepEquals(a[key],b[key],depth+1);if(!ret)return ret}return ret}return a===b},escapeURL:function(url){return url.replace(/ /g,\"%20\")},sortFrequentItems:function(frequent_items,count){var values=[];for(var key in frequent_items){values.push({key:key,value:frequent_items[key]})}values.sort(function(a,b){return b.value.frequency-a.value.frequency});return values.slice(0,count)},formatElapsed:function(ms){var d=new Date(ms);var pieces={hours:d.getUTCHours(),minutes:d.getUTCMinutes(),seconds:d.getUTCSeconds()};for(var key in pieces){var s=String(pieces[key]);if(s.length<2){s=\"0\"+s}pieces[key]=s}return pieces.hours+\":\"+pieces.minutes+\":\"+pieces.seconds},numberWithSuffix:function(i){if(i>100){return String(i)}var j=i%10;if(j===1&&i!==11){return i+\"st\"}if(j===2&&i!==12){return i+\"nd\"}if(j===3&&i!==13){return i+\"rd\"}return i+\"th\"},formatNumber:formatNumber,formatSArrayValue:function(value,rowHeight){var formattedValue=value;if(value===\"\"){formattedValue=\"''\"}else if(typeof value===\"number\"){formattedValue=formatNumber(value)}else if(isSArrayImageType(value)){var style={};if(rowHeight){style[\"maxHeight\"]=rowHeight}var data=value.value;if(value.format===\"raw\"){formattedValue=CanvasImage({alt:\"Image Content\",width:value.width,height:value.height,data:value.value,channels:value.channels,style:style,id:value.id})}else{formattedValue=React.DOM.img({alt:\"Image Content\",src:\"data:\"+value.value,style:style})}}return formattedValue},isSArrayImageType:isSArrayImageType,siPrefixToShortScale:function(prefix){var map={Y:\"septillion\",Z:\"sextillion\",E:\"quintillion\",P:\"quadrillion\",T:\"trillion\",G:\"billion\",M:\"million\",k:\"thousand\",h:\"hundred\",da:\"ten\",\"\":null,d:\"tenth\",c:\"hundredth\",m:\"thousandth\",\u00b5:\"millionth\",n:\"billionth\",p:\"trillionth\",f:\"quadrillionth\",a:\"quintillionth\",z:\"sextillionth\",y:\"septillionth\"};if(prefix in map){return map[prefix]}Util.assert(false);return null},getCookie:function(name){var r=document.cookie.match(\"\\\\b\"+name+\"=([^;]*)\\\\b\");return r?r[1]:undefined},getSketchPollInterval:function(rowCount){if(rowCount<pollIntervalThresholds[0][0]){return pollIntervalThresholds[0][1]}if(rowCount>pollIntervalThresholds[1][0]){return pollIntervalThresholds[1][1]}return pollIntervalScale(rowCount)},getColorFromNodeType:function(type){var color=\"\";if(type==\"Task\"){color=\"#b0007f\"}else if(type==\"input\"||type==\"output\"){color=\"#0a8cc4\"}else if(type==\"param\"){color=\"#85bd00\"}return color},getColorFromStatus:function(task_status,selected){var color=\"\";if(selected){return\"#ff5500\"}if(task_status==\"Completed\"){color=\"#0a8cc4\"}else if(task_status==\"Running\"){color=\"#85bd00\"}else if(task_status==\"Failed\"){color=\"#B80000\"}else{color=\"#B2B2B2\"}return color},getColorFromStatusHighlight:function(task_status){var color=\"\";if(task_status==\"Completed\"){color=\"#0a6ca4\"}else if(task_status==\"Running\"){color=\"#659d00\"}else if(task_status==\"Failed\"){color=\"#A80000\"}else{color=\"#A2A2A2\"}return color},getEdgeStrokeColor:function(selectedOrHover,selected){if(!selectedOrHover){return\"#B2B2B2\"}if(selected){return\"#727272\"}else{return\"#E2E2E2\"}},getDepGraphSelectedStrokeColor:function(){return\"#5e5555\"},dagreLayout:function(vertices,edges,vertexWidth,vertexHeight,edgesep,ranksep,dir){var g=new dagre.graphlib.Graph({directed:true});g.setGraph({});g.setDefaultEdgeLabel(function(){return{}});for(var i=0;i<vertices.length;i++){g.setNode(vertices[i].name,{label:String(vertices[i].name),width:vertexWidth,height:vertexHeight})}for(var i=0;i<edges.length;i++){g.setEdge(edges[i].source,edges[i].target)}if(edgesep<0&&ranksep<0){g.setGraph({rankdir:dir})}else if(edgesep>=0&&ranksep<0){g.setGraph({rankdir:dir,edgesep:edgesep})}else if(edgesep<0&&ranksep>=0){g.setGraph({rankdir:dir,ranksep:ranksep})}else{g.setGraph({rankdir:dir,edgesep:edgesep,ranksep:ranksep})}var layout=dagre.layout(g);var nodeElements=[],edgeElements=[],attr=null;g.nodes().forEach(function(v){for(var i=0;i<vertices.length;i++){if(vertices[i].name==v){attr=g.node(v);vertices[i][\"x\"]=attr.x;vertices[i][\"y\"]=attr.y}}});var edgeIdx=0,v,w,edge_attr;g.edges().forEach(function(e){v=g.node(e.v),w=g.node(e.w);edge_attr=g.edge(e);var points=[[v.x,v.y]];for(var i=0;i<edge_attr.points.length;i++){points.push([edge_attr.points[i].x,edge_attr.points[i].y])}points.push([w.x,w.y]);edges[edgeIdx++][\"points\"]=points});return{vertices:vertices,edges:edges}}}});\n",
        "define(\"common_controls\",[\"react\",\"page_layout\",\"common_util\",\"taskqueue\",\"jquery\",\"lodash\"],function(React,PageLayout,Util,TaskQueue,jQuery,_){\"use strict\";var Tooltip=React.createClass({displayName:\"Tooltip\",render:function(){var style={display:this.props.show?\"\":\"none\",top:this.props.y-50,left:this.props.x-150};return React.DOM.div({style:style,className:\"canvas-tooltip\"},this.props.data)}});var Modal=React.createClass({displayName:\"Modal\",doNothing:function(evt){evt.stopPropagation()},render:function(){var header=this.props.title?React.DOM.div({className:\"modal-header\"},React.DOM.button({type:\"button\",className:\"close\",onClick:this.props.closeModal},\"\u00d7\"),React.DOM.h4({className:\"modal-title\"},this.props.title)):null;var modalClass=\"modal-dialog \"+(this.props.additionalClass?this.props.additionalClass:\"\");return React.DOM.div({style:{color:\"black\"}},React.DOM.div({onClick:this.props.closeModal,className:\"modal fade\"+(this.props.open?\" in\":\"\"),style:{display:this.props.open?\"block\":\"none\"}},React.DOM.div({onClick:this.doNothing,className:modalClass},React.DOM.div({className:\"modal-content\"},header,React.DOM.div({className:\"modal-body\"},this.props.body)))),React.DOM.div({className:\"modal-backdrop fade \"+(this.props.open?\"in\":\"hidden\")}))}});var SizeToWindow={setWindowDimensions:function(){this.setState({windowHeight:$(window).height(),windowWidth:$(window).width()})},componentWillMount:function(){$(window).bind(\"resize\",this.setWindowDimensions)},componentWillUnmount:function(){$(window).unbind(\"resize\",this.setWindowDimensions)}};return{Button:React.createClass({displayName:\"Button\",getInitialState:function(){return{depressed:false}},getDefaultProps:function(){return{backgroundColor:\"#0a8cc4\",depressedColor:\"#005991\"}},mouseDown:function(){this.setState({depressed:true})},mouseUp:function(){this.setState({depressed:false})},click:function(evt){this.mouseUp();if(!this.props.disabled){return this.props.onClick(evt)}},render:function(){var style=Util.merge({display:\"inline-block\",paddingLeft:12,paddingRight:12,height:26,fontSize:12,color:\"white\",backgroundColor:this.state.depressed?this.props.depressedColor:this.props.backgroundColor,textTransform:\"uppercase\",textAlign:\"center\",textDecoration:\"none\",lineHeight:\"26px\",transition:\"background-color \"+(this.state.depressed?0:200)+\"ms linear\"},this.props.style);if(this.props.disabled){style.backgroundColor=\"grey\";style.cursor=\"not-allowed\"}return React.DOM.a({href:\"javascript:\",onClick:this.click,onMouseDown:this.mouseDown,onMouseUp:this.mouseUp,disabled:this.props.disabled,style:style},this.props.children)}}),Menu:{mixins:[SizeToWindow],getInitialState:function(){return{items:[],menuOpen:false,top:0,left:0}},itemClick:function(item,evt){evt.preventDefault();evt.stopPropagation();item.onClick(props.selected_variableevt)},openMenu:function(items,evt){this.setState({menuOpen:true,items:items,top:evt.clientY,left:evt.clientX})},closeMenu:function(){this.setState({menuOpen:false})},getMenu:function(){if(!this.state.menuOpen){return React.DOM.div(null)}return React.DOM.div(null,React.DOM.div({style:{position:\"fixed\",top:0,left:0,width:this.state.windowWidth,height:this.state.windowHeight,zIndex:40},onClick:this.closeMenu}),React.DOM.div({style:{position:\"fixed\",top:this.state.top,left:this.state.left,border:\"1px solid #ddd\",zIndex:41}},this.state.items.map(function(item,idx){return React.DOM.div({key:idx},React.DOM.a({href:\"javascript:\",onClick:this.itemClick.bind(this,item),style:{display:\"inline-block\",width:\"100%\",padding:4,backgroundColor:\"white\"}},item.label))}.bind(this))))}},Searchable:{getInitialState:function(){return{search_value:\"\"}},getSearchBox:function(placeholder,style){return React.DOM.input({type:\"search\",value:this.state.search_value,onChange:this.setSearchValue,placeholder:placeholder,style:style})},setSearchValue:function(evt){this.setState({search_value:evt.target.value})}},Slider:React.createClass({displayName:\"Slider\",render:function(){Util.assert(this.props.value>=this.props.min);Util.assert(this.props.value<=this.props.max);return React.DOM.div({className:\"canvas-slider\"},React.DOM.div({className:\"canvas-slider-label\"},this.props.label),React.DOM.div({className:\"canvas-slider-control\"},this.props.min,this.transferPropsTo(React.DOM.input({type:\"range\",name:\"canvas-slider-range\"})),this.props.max),React.DOM.div({className:\"canvas-slider-box\"},this.transferPropsTo(React.DOM.input({type:\"number\",name:\"canvas-slider-number\"}))))}}),SortableTable:React.createClass({displayName:\"SortableTable\",getValue:function(data,rowIdx,colIdx){var ret=null;if(rowIdx===null){if(this.props.sortable.indexOf(colIdx)!=-1){var className=\"fa fa-sort\";if(this.props.sortColumn===colIdx){if(this.props.types[colIdx]===\"number\"){className+=\"-numeric\"}else if(this.props.types[colIdx]===\"string\"){className+=\"-alpha\"}}if(this.props.sortColumn===colIdx&&this.props.sortDesc){className+=\"-desc\"}else if(this.props.sortColumn===colIdx){className+=\"-asc\"}ret=React.DOM.span(null,data[colIdx],React.DOM.a({onClick:this.sort.bind(this,colIdx),href:\"javascript:\"},React.DOM.i({className:className,style:{marginLeft:6,marginRight:6}})))}else{ret=data[colIdx]}}else{ret=data[rowIdx][colIdx]}return React.DOM.div({style:{padding:8,display:\"inline-block\"}},ret)},getDefaultProps:function(){return{sortable:[],sortColumn:null,sortDesc:false,renderTD:true}},copyProps:function(){return{data:Util.deepCopy(this.props.data),sortColumn:this.props.sortColumn,sortDesc:this.props.sortDesc}},sort:function(colIdx){var sortDesc=this.props.sortColumn===colIdx&&!this.props.sortDesc;this.props.onSort(colIdx,sortDesc)},render:function(){var data=Util.deepCopy(this.props.data);var sortDesc=this.props.sortDesc;data.sort(function(a,b){a=a[this.props.sortColumn];b=b[this.props.sortColumn];if(this.props.types[this.props.sortColumn]===\"number\"){if(a===\"n/a\"){a=null}if(b===\"n/a\"){b=null}}if(a===null){if(b===null){return 0}return 1}else if(b===null){return 1}else if(typeof a===\"number\"){return sortDesc?b-a:a-b}Util.assert(typeof a===\"string\");return sortDesc?b.localeCompare(a):a.localeCompare(b)}.bind(this));var getValue=this.getValue;if(\"getValue\"in this.props){getValue=this.props.getValue.bind(this)}return React.DOM.div({style:this.props.style},React.DOM.table({className:\"table table-bordered\",style:Util.merge({width:\"auto\",border:\"none\"},this.props.tableStyle)},React.DOM.thead(null,React.DOM.tr(null,this.props.headers.map(function(header,idx){return React.DOM.th({key:idx,style:{whiteSpace:\"nowrap\",verticalAlign:\"middle\",padding:0,border:\"none\"}},getValue(this.props.headers,null,idx))}.bind(this)))),React.DOM.tbody(null,data.map(function(row,rowIdx){return React.DOM.tr({key:rowIdx},row.map(function(col,colIdx){var ret=getValue(data,rowIdx,colIdx);if(this.props.renderTD){ret=React.DOM.td({style:{padding:0,verticalAlign:\"middle\",border:\"none\"},key:colIdx},ret)}return ret}.bind(this)))}.bind(this)))))}}),Tooltip:{getInitialState:function(){return{tooltip:{show:false,x:0,y:0,data:null,timeoutFn:null}}},tooltipMouseOver:function(data,evt){this.setState({tooltip:{show:false,x:evt.clientX,y:evt.clientY,data:data,timeoutFn:setTimeout(function(){this.setState({tooltip:Util.merge(this.state.tooltip,{show:true})})}.bind(this),400)}})},tooltipMouseOut:function(evt){clearTimeout(this.state.tooltip.timeoutFn);this.setState({tooltip:{show:false,timeoutFn:null}})},getTooltip:function(){return Tooltip({data:this.state.tooltip.data,x:this.state.tooltip.x,y:this.state.tooltip.y-20,show:this.state.tooltip.show})}},Modal:{getInitialState:function(){return{modal:{open:false}}},modalOpen:function(title,body,additionalClass){this.setState({modal:{open:true,title:title,body:body,additionalClass:additionalClass}})},modalClose:function(){this.setState({modal:{open:false}})},getModal:function(){return Modal({open:this.state.modal.open,closeModal:this.modalClose,title:this.state.modal.title,body:this.state.modal.body,additionalClass:Util.tryGetProperty(this.state.modal,\"additionalClass\",\"\")})}},SizeToWindow:SizeToWindow,Tabs:React.createClass({displayName:\"Tabs\",mixins:[SizeToWindow],getInitialState:function(){return{initialTab:this.props.initialTab,selectedTab:this.props.initialTab}},componentWillReceiveProps:function(nextProps){if(nextProps.initialTab!=this.state.initialTab){this.setState({initialTab:nextProps.initialTab,selectedTab:nextProps.initialTab})}},selectTab:function(tab,evt){var prev={};prev[this.state.selectedTab]=true;this.setState({selectedTab:tab})},render:function(){return React.DOM.div(null,React.DOM.ul({className:\"nav nav-tabs\",role:\"tablist\"},this.props.tabs.map(function(tab,idx){return React.DOM.li({key:idx,className:tab[0]===this.state.selectedTab?\"active\":\"\"},React.DOM.a({href:\"javascript:\",onClick:this.selectTab.bind(this,tab[0])},tab[0]))}.bind(this))),React.DOM.div({className:\"tab-content\",style:{overflow:\"auto\"}},this.props.tabs.map(function(row,idx){var tab=row[0];var tag=row[1];var tab_props={tab:{visible:tab===this.state.selectedTab}};return React.DOM.div({key:idx,className:\"tab-pane\"+(tab===this.state.selectedTab?\" active\":\"\")},React.DOM.div({className:\"canvas-view-main\"},tag(Util.merge(tab_props,Util.partial(this.props,[\"tabs\"],true)))))}.bind(this))))}}),AsyncState:{componentWillReceiveProps:function(nextProps){if(!Util.deepEquals(this.props,nextProps)){this.setState(this.getInitialState(nextProps),function(){this.updateAsyncState(nextProps)}.bind(this))}},addTask:function(task){this.tasks.push(task);TaskQueue.add(task)},cancelAllTasks:function(){this.tasks.forEach(function(task){task.cancel()});this.tasks=[]},componentDidMount:function(){this.tasks=[];this.updateAsyncState(this.props)},componentWillUnmount:function(){this.cancelAllTasks()}},SVG:{ellipse:React.createClass({displayName:\"ellipse\",render:function(){var d=\"M \"+(this.props.cx-this.props.rx)+\" \"+this.props.cy+\" a \"+this.props.rx+\" \"+this.props.ry+\" 0 1 0 \"+this.props.rx*2+\" 0 a \"+this.props.rx+\" \"+this.props.ry+\" 0 1 0 \"+-(this.props.rx*2)+\" 0\";return this.transferPropsTo(React.DOM.path({d:d}))}})}}});\n",
        "\"use strict\";define(\"logging\",[\"common_util\"],function(Util){\"use strict\";var g_log=[];function log(evt){g_log.push(Date.now());g_log.push(evt)}function reportMetric(metric,value,properties){Util.assert(typeof metric===\"string\");var data={metric:metric};if(value!=null){Util.assert(typeof value===\"number\");data[\"value\"]=String(value)}if(properties!=null){data[\"properties\"]=JSON.stringify(properties)}data[\"_xsrf\"]=Util.getCookie(\"_xsrf\");$.post(\"/metrics\",data)}return{log:log,get:function(){return g_log.slice()},reportMetric:reportMetric}});\n",
        "\"use strict\";define(\"state\",[\"common_util\"],function(Util){var listeners=[];return{addListener:function(l){listeners.push(l)},set:function(state){for(var i=0;i<listeners.length;i++){listeners[i].setState(state)}}}});\n",
        "define(\"page_layout\",[\"state\",\"common_util\"],function(State,Util){\"use strict\";var layout={colorbar_height:4,breadcrumb_height:55,column_selection_height:56,tab_height:42,left_nav_width:180,view_main_margin_left:20,view_main_margin_right:20,view_main_margin_bottom:20,view_main_padding_top:12,view_main_padding_bottom:12,view_main_content_padding_top:0,view_main_content_padding_bottom:0,table_column_header_height:44,table_nav_width:96,table_vertical_scroll_width:15,table_horizontal_scroll_height:15,view_main_padding_left:12,view_main_content_padding_left:0,view_main_content_padding_right:0,windowHeight:$(window).height(),windowWidth:$(window).width()};function viewportDimensions(){var docObject=window,prefix=\"inner\";if(!(\"innerWidth\"in window)){prefix=\"client\";docObject=document.documentElement||document.body}return{width:docObject[prefix+\"Width\"],height:docObject[prefix+\"Height\"]}}var PageLayout={contentWidth:function(){return viewportDimensions().width-(layout.left_nav_width+layout.view_main_margin_left+layout.view_main_padding_left+layout.view_main_content_padding_left+layout.view_main_content_padding_right+layout.view_main_margin_right)},contentHeight:function(){return viewportDimensions().height-(layout.breadcrumb_height+layout.column_selection_height+layout.tab_height+layout.view_main_padding_top+layout.view_main_padding_bottom+layout.view_main_margin_bottom)},tableWidth:function(){return PageLayout.contentWidth()-(layout.table_nav_width+layout.table_vertical_scroll_width)},tableHeight:function(){return PageLayout.contentHeight()-(layout.view_main_content_padding_top+layout.view_main_content_padding_bottom+layout.table_column_header_height+layout.table_horizontal_scroll_height)},setWindowDimensions:function(){layout.windowWidth=$(window).width();layout.windowHeight=$(window).height()},get:function(attr){if(attr in layout){return layout[attr]}else{return undefined}}};return PageLayout});\n",
        "define(\"taskqueue\",[\"common_util\",\"state\",\"logging\"],function(Util,State,Logging){\"use strict\";function Task(){this.canceled=false;this.startTime=null;this.endTime=null;this.fn_always=[];this.fn_done=[];this.fn_fail=[]}Task.prototype.toString=function(){return JSON.stringify({canceled:this.canceled,startTime:this.startTime,endTime:this.endTime})};Task.prototype.always=function(fn){this.fn_always.push(fn);return this};Task.prototype.done=function(fn){this.fn_done.push(fn);return this};Task.prototype.fail=function(fn){this.fn_fail.push(fn);return this};Task.prototype.progress=function(){return 0};Task.prototype.operation=function(){return\"\"};Task.prototype.running=function(){return this.startTime!=null&&this.endTime==null};Task.prototype.finished=function(){return this.startTime!=null&&this.endTime!=null};Task.prototype.elapsed=function(){if(this.finished()){return this.endTime-this.startTime}else if(this.running()){return Date.now()-this.startTime}else{return 0}};Task.prototype.run=function(){Util.assert(!this.finished());Util.assert(!this.running());this.startTime=Date.now()};Task.prototype.end=function(){this.endTime=Date.now();var applyAll=function(fnArray,args){fnArray.forEach(function(fn){fn.apply(this,args)}.bind(this))}.bind(this);if(!this.canceled){applyAll(this.fn_done,arguments)}else{applyAll(this.fn_fail,arguments)}applyAll(this.fn_always,arguments);setTimeout(processTasks,0)};Task.prototype.cancel=function(){if(!this.finished()){this.canceled=true;this.end.apply(this,arguments)}};function SingleTask(url,opName){Task.call(this);this.url=url;this.op=opName;this.request=null}SingleTask.prototype.toString=function(){return JSON.stringify({url:this.url,op:this.op,canceled:this.canceled,startTime:this.startTime,endTime:this.endTime})};SingleTask.prototype=new Task;SingleTask.prototype.cancel=function(){if(this.request!==null){this.request.abort()}Task.prototype.cancel.apply(this,arguments)};SingleTask.prototype.run=function(){Task.prototype.run.call(this);this.request=$.get(this.url).done(function(data){if(this.canceled){return}this.end(data)}.bind(this)).fail(function(){this.cancel.apply(this,arguments)}.bind(this))};SingleTask.prototype.operation=function(){return this.op};function ProgressTask(url,opName,progressFn,pollInterval){SingleTask.call(this,url,opName);this._progressFn=progressFn;this._progress=0;this._timeout=null;this._pollInterval=pollInterval}ProgressTask.prototype=new SingleTask;ProgressTask.prototype.run=function(){Task.prototype.run.call(this);var _this=this;update();function update(){$.get(_this.url).done(function(data){if(_this.canceled){return}_this._progressFn(data);if(data.complete){_this.end(data);_this._progress=1}else{_this._progress=data.progress;_this._timeout=setTimeout(update,this._pollInterval)}}.bind(_this)).fail(function(){this.cancel.apply(this,arguments)}.bind(_this))}};ProgressTask.prototype.progress=function(){return this._progress};ProgressTask.prototype.cancel=function(){clearTimeout(this._timeout);SingleTask.prototype.cancel.call(this)};function MultiTask(taskList){Task.call(this);this.tasks=taskList;this.currentTask=0}MultiTask.prototype=new Task;MultiTask.prototype.progress=function(){if(this.tasks.length===0){return 0}var pct=this.currentTask/this.tasks.length;if(this.tasks[this.currentTask]instanceof ProgressTask){pct+=this.tasks[this.currentTask].progress()/this.tasks.length}Util.assert(!isNaN(pct));return pct};MultiTask.prototype.operation=function(){return this.tasks.map(function(task){return task.operation()})};MultiTask.prototype.run=function(){Task.prototype.run.call(this);var _this=this;function step(){if(_this.canceled){return}if(_this.currentTask===_this.tasks.length){_this.end()}else if(_this.tasks[_this.currentTask].finished()){_this.currentTask++}else if(!_this.tasks[_this.currentTask].running()){_this.tasks[_this.currentTask].run()}if(!_this.finished()){requestAnimationFrame(step)}}step()};MultiTask.prototype.cancel=function(){for(var i=0;i<this.tasks.length;i++){this.tasks[i].cancel()}Task.prototype.cancel.call(this)};var previousProgress=0;var previousFinished=false;function processTasks(){if(g_tasks.length===0){return}if(g_tasks[0].running()){}else if(g_tasks[0].finished()){if(g_tasks.length>1){Logging.log(\"removing completed task\");var removed=g_tasks.shift();Logging.log(removed.toString());setTimeout(processTasks,0)}}else{Logging.log(\"starting new task\");Logging.log(g_tasks[0].toString());g_tasks[0].run()}var currentTask=g_tasks[0];var progress=currentTask.progress();var finished=currentTask.finished();if(progress!==previousProgress||finished!==previousFinished){previousProgress=progress;previousFinished=finished;State.set({task:{progress:progress,finished:finished}})}}function cancelAllTasks(){for(var i=0;i<g_tasks.length;i++){g_tasks[i].cancel()}}var g_tasks=[];return{add:function(task){g_tasks.push(task)},cancelAll:cancelAllTasks,start:function(){setInterval(processTasks,200)},Task:Task,SingleTask:SingleTask,ProgressTask:ProgressTask,MultiTask:MultiTask}});\n",
        "define(\"plot_frequency\",[\"react\",\"d3\",\"common_controls\",\"common_util\"],function(React,d3,Controls,Util){\"use strict\";return{Frequency:React.createClass({displayName:\"Frequency\",mixins:[Controls.Tooltip],getInitialState:function(){return{hover:null}},getDefaultProps:function(){return{aspectRatio:3,maxValues:30,width:152,onItemClick:null,highlightElement:null}},onMouseOver:function(idx,value,evt){this.tooltipMouseOver(React.DOM.span(null,Util.formatSArrayValue(value.value.value),\":\u00a0\",Util.formatNumber(value.value.frequency),\" (\",Util.formatNumber(value.value.frequency/this.props.data.size*100),\"%)\"),evt);this.setState({hover:idx});if(\"onItemHover\"in this.props){this.props.onItemHover(idx)}},onMouseOut:function(evt){this.tooltipMouseOut(evt);this.setState({hover:null});if(\"onItemHover\"in this.props){this.props.onItemHover(null)}},render:function(){var width=this.props.aspectRatio;var values=[];if(\"frequent_items\"in this.props.data&&Object.keys(this.props.data.frequent_items).length>0){values=Util.sortFrequentItems(this.props.data.frequent_items,this.props.maxValues)}else{values=[{key:\"\",value:0}]}var x=d3.scale.linear().domain([0,values.length]).range([0,width]);var y=d3.scale.linear().domain([0,values[0].value.frequency]).range([0,1]);var barWidth=width/values.length-.01*width;var viewBox=[0,0,width,1].join(\" \");var hover=\"hover\"in this.props?this.props.hover:this.state.hover;return React.DOM.div(null,React.DOM.svg({viewBox:viewBox,width:this.props.width,height:this.props.width/this.props.aspectRatio},values.map(function(value,idx){var opacity=this.props.highlightElement===null||this.props.highlightElement===value.key?1:.3;var onClickFn=this.props.disabled||this.props.onItemClick===null?null:this.props.onItemClick.bind(null,value.key);return React.DOM.g({key:idx},React.DOM.rect({width:barWidth,height:y(values[0].value.frequency),x:x(idx),y:1-y(values[0].value.frequency),onMouseOver:this.onMouseOver.bind(this,idx,value),onMouseOut:this.onMouseOut,fill:\"#fff\"}),React.DOM.rect({fill:hover===idx?\"#ff5500\":\"#0a8cc4\",width:barWidth,height:y(value.value.frequency),x:x(idx),y:1-y(value.value.frequency),onMouseOver:this.onMouseOver.bind(this,idx,value),onMouseOut:this.onMouseOut,onClick:onClickFn,style:{opacity:opacity,cursor:onClickFn===null?\"default\":\"pointer\",transition:\"opacity 0.3s ease\"}}))}.bind(this))),this.getTooltip())}})}});\n",
        "define(\"plot_bar\",[\"react\",\"d3\",\"jquery\",\"common_controls\",\"common_util\"],function(React,d3,jQuery,Controls,Util){\"use strict\";var FRAME_PADDING=75;var TICK_WIDTH=10;var TICK_HEIGHT=10;var PADDING_FRACTION=.25;var BAR_SPACING=5;var defaultNumericalFormatter=d3.format(\".3g\");var formatLabels=function(num,isMetrics){if(isMetrics){var d=new Date(num);var t=d3.time.format(\"%I %p\")(d);return d3.time.format(\"%I %p\")(d)}var intNum=parseInt(num,10);if(!isNaN(intNum)&&num/1e5<1){return num.toString()}var floatNum=parseFloat(num);var floatString=num.toFixed(5);if(!isNaN(floatNum)&&floatNum<1&&Number(floatString)!==0){return floatString}if(defaultNumericalFormatter(num).length>7){return d3.format(\".1g\")(num)}else{return defaultNumericalFormatter(num)}};var abbreviateLabel=function(string){if(string.length>5){string=string.substring(0,5);string=string.concat(\"...\")}return string};var BarRenderer=React.createClass({displayName:\"BarRenderer\",render:function(){var xScale=this.props.xScale;var yScale=this.props.yScale;var width=this.props.width;var height=this.props.height;var barData=this.props.barData;var bars=[];for(var i=0;i<barData.length;i++){var minVal=yScale.domain()[0];var maxVal=yScale.domain()[1];var xVal=FRAME_PADDING+xScale(i);var barTooltip=barData[i].name+\": \"+barData[i].value;if(minVal>=0){bars.push(React.DOM.rect({className:\"canvas-bar-barRect\",x:xVal,y:yScale(barData[i].value)+FRAME_PADDING,width:width/barData.length,height:yScale(minVal)-yScale(barData[i].value),key:i},React.DOM.title(null,\" \",barTooltip,\" \")))}else if(maxVal<=0){bars.push(React.DOM.rect({className:\"canvas-bar-barRect\",x:xVal,y:FRAME_PADDING,width:width/barData.length,height:yScale(barData[i].value),key:i},React.DOM.title(null,\" \",barTooltip,\" \")))}else if(barData[i].value>=0){bars.push(React.DOM.rect({className:\"canvas-bar-barRect\",x:xVal,y:yScale(barData[i].value)+FRAME_PADDING,width:width/barData.length,height:yScale(0)-yScale(barData[i].value),key:i},React.DOM.title(null,\" \",barTooltip,\" \")))}else{bars.push(React.DOM.rect({className:\"canvas-bar-barRect\",x:xVal,y:yScale(0)+FRAME_PADDING,width:width/barData.length,height:yScale(barData[i].value)-yScale(0),key:i},React.DOM.title(null,\" \",barTooltip,\" \")))}}return React.DOM.g(null,bars)}});var LabelRenderer=React.createClass({displayName:\"LabelRenderer\",render:function(){var width=this.props.width/this.props.barData.length;if(width<12){return React.DOM.g(null)}return React.DOM.g({transform:\"translate(\"+(FRAME_PADDING+width/2)+\",\"+(this.props.height+FRAME_PADDING*1.35-12)+\")\"},this.props.barData.map(function(bar,idx){return React.DOM.text({style:{textOverflow:\"ellipsis\",whiteSpace:\"nowrap\",overflow:\"hidden\"},fontSize:\"10\",y:\"3\",x:this.props.xScale(idx),color:\"#4b4b4b\",textAnchor:\"middle\",overflow:\"hidden\"},abbreviateLabel(bar.name))}.bind(this)))}});var AxisRenderer=React.createClass({displayName:\"AxisRenderer\",render:function(){var xScale=this.props.xScale;var yScale=this.props.yScale;var width=this.props.width;var height=this.props.height;var gridlinesVisible=this.props.gridlinesVisible;var barData=this.props.barData;var axisYVal=yScale(0);if(axisYVal<0){axisYVal=0}else if(axisYVal>height){axisYVal=height}axisYVal+=FRAME_PADDING;var gridlineVisibility=gridlinesVisible?\"visible\":\"hidden\";var xLinesAndLabels=[];for(var i=0;i<barData.length;i++){xLinesAndLabels.push(React.DOM.line({key:i,className:\"canvas-bar-ticks\",x1:FRAME_PADDING+xScale(i)+width/barData.length/2,x2:FRAME_PADDING+xScale(i)+width/barData.length/2,y1:height+FRAME_PADDING+TICK_HEIGHT/2,y2:height+FRAME_PADDING-TICK_HEIGHT/2},React.DOM.title(null,barData[i].name)))}var yLinesAndLabels=yScale.ticks().map(function(yValue,idx){return React.DOM.g({key:\"Yg-\"+idx},React.DOM.line({className:\"canvas-bar-gridlines\",x1:FRAME_PADDING,x2:width+FRAME_PADDING,y1:yScale(yValue)+FRAME_PADDING,y2:yScale(yValue)+FRAME_PADDING,key:\"Ygridline-\"+yValue,style:{visibility:gridlineVisibility}}),React.DOM.line({className:\"canvas-bar-ticks\",x1:FRAME_PADDING-TICK_WIDTH/2,x2:FRAME_PADDING+TICK_WIDTH/2,y1:yScale(yValue)+FRAME_PADDING,y2:yScale(yValue)+FRAME_PADDING,key:\"Yticks-\"+yValue}),React.DOM.text({className:\"canvas-bar-numLabel\",x:FRAME_PADDING/1.75,y:yScale(yValue)+FRAME_PADDING+4,key:\"YnumLabel-\"+yValue},formatLabels(yValue)))});return React.DOM.g(null,xLinesAndLabels,yLinesAndLabels,React.DOM.line({className:\"canvas-bar-axes\",x1:FRAME_PADDING,y1:axisYVal,x2:width+FRAME_PADDING,y2:axisYVal}),React.DOM.line({className:\"canvas-bar-axes\",x1:FRAME_PADDING,y1:FRAME_PADDING,x2:FRAME_PADDING,y2:height+FRAME_PADDING}))}});var AxisLabel=React.createClass({displayName:\"AxisLabel\",handleClick:function(evt){var selected_column=[this.props.plotName,this.props.name];this.props.selectVariable(selected_column)},render:function(){var link=this.props.ipython?this.props.name:React.DOM.a({href:\"javascript:\",onClick:this.handleClick},this.props.name);return React.DOM.span({className:\"canvas-scatter-axesLabel\",style:{position:\"absolute\",top:\"\"+this.props.y+\"px\",left:\"\"+this.props.x+\"px\",width:\"\"+this.props.width+\"px\"}},link)}});return{Bar:React.createClass({displayName:\"Bar\",getDefaultProps:function(){return{width:500,height:500,barData:[],extrema:{min:0,max:10},catLabel:\"\",numLabel:\"\"}},getInitialState:function(){return{gridlinesVisible:true,sortedBars:false,barsToDisplay:this.props.barData}},padExtrema:function(extrema){var originalDomain=extrema.max-extrema.min;var paddedExtrema={};paddedExtrema.min=extrema.min-PADDING_FRACTION*originalDomain;paddedExtrema.max=extrema.max+PADDING_FRACTION*originalDomain;if(extrema.min>=0&&paddedExtrema.min<0)paddedExtrema.min=0;if(extrema.max<=0&&paddedExtrema.max>0)paddedExtrema.max=0;return paddedExtrema},toggleGridlines:function(){this.setState({gridlinesVisible:!this.state.gridlinesVisible})},toggleSortedBars:function(){if(this.state.sortedBars){this.setState({barsToDisplay:this.props.barData})}else{var tempBars=$.extend(true,[],this.props.barData);tempBars.sort(function(bar1,bar2){return bar1.value-bar2.value});this.setState({barsToDisplay:tempBars})}this.setState({sortedBars:!this.state.sortedBars})},componentWillReceiveProps:function(nextProps){this.setState({barsToDisplay:nextProps.barData})},render:function(){var newExtrema=this.padExtrema(this.props.extrema);var min=newExtrema.min;var max=newExtrema.max;var xScale=d3.scale.linear().domain([0,this.props.barData.length]).range([0,this.props.width]);var yScale=d3.scale.linear().domain([min,max]).range([this.props.height,0]);return React.DOM.div({className:\"canvas-bar-frame\",style:{position:\"relative\"}},React.DOM.svg({className:\"canvas-bar-svgFrame\",width:this.props.width+2*FRAME_PADDING,height:this.props.height+2*FRAME_PADDING},React.DOM.rect({className:\"canvas-bar-rectFrame\",width:this.props.width,height:this.props.height,x:FRAME_PADDING,y:FRAME_PADDING}),AxisRenderer({xScale:xScale,yScale:yScale,width:this.props.width,height:this.props.height,barData:this.state.barsToDisplay,gridlinesVisible:this.state.gridlinesVisible}),BarRenderer({xScale:xScale,yScale:yScale,width:this.props.width,height:this.props.height,barData:this.state.barsToDisplay}),LabelRenderer({xScale:xScale,barData:this.state.barsToDisplay,height:this.props.height,width:this.props.width})),React.DOM.input({className:\"canvas-bar-toggleButton\",type:\"checkbox\",name:\"gridlineToggle\",onClick:this.toggleGridlines,style:{position:\"absolute\",top:\"\"+(this.props.height+2*FRAME_PADDING-25)/2+\"px\",left:\"\"+(this.props.width+1.5*FRAME_PADDING)+\"px\"}},React.DOM.p({className:\"canvas-bar-toggleLabel\",style:{position:\"absolute\",top:\"\"+(this.props.height+2*FRAME_PADDING-25)/2+\"px\",left:\"\"+(this.props.width+1.75*FRAME_PADDING)+\"px\"}},\"Toggle gridlines\")),React.DOM.input({className:\"canvas-bar-toggleButton\",type:\"checkbox\",name:\"sortedBarsToggle\",onClick:this.toggleSortedBars,style:{position:\"absolute\",top:\"\"+(this.props.height+2*FRAME_PADDING+25)/2+\"px\",left:\"\"+(this.props.width+1.5*FRAME_PADDING)+\"px\"}},React.DOM.p({className:\"canvas-bar-toggleLabel\",style:{position:\"absolute\",top:\"\"+(this.props.height+2*FRAME_PADDING+25)/2+\"px\",left:\"\"+(this.props.width+1.75*FRAME_PADDING)+\"px\"}},\"Toggle bar sorting\")),[{name:this.props.catLabel,x:FRAME_PADDING,y:this.props.height+FRAME_PADDING*1.5,width:this.props.width},{name:this.props.numLabel,x:0,y:FRAME_PADDING/2.5,width:\"auto\"}].map(function(axis,idx){return AxisLabel({key:idx,name:axis.name,selectVariable:this.props.selectVariable,plotName:this.props.plotName,x:axis.x,y:axis.y,width:axis.width,ipython:this.props.ipython})}.bind(this)))}})}});\n",
        "define(\"plot_box\",[\"react\",\"d3\",\"common_controls\",\"common_util\"],function(React,d3,Controls,Util){\"use strict\";return{BoxAndWhisker:React.createClass({displayName:\"BoxAndWhisker\",transformData:function(data,params,states){var quantile=data.quantile;var Q0=quantile[0];var Q1=quantile[25];var Q2=quantile[50];var Q3=quantile[75];var Q4=quantile[100];var IQR=Q3-Q1;var lowWhiskerValue=Math.max(Q0,Q1-1.5*IQR);var highWhiskerValue=Math.min(Q4,Q3+1.5*IQR);var lowOutlierValues=[];var highOutlierValues=[];for(var i=0;i<quantile.length;i++){if(quantile[i]<lowWhiskerValue){lowOutlierValues.push(quantile[i])}if(quantile[i]>highWhiskerValue){highOutlierValues.push(quantile[i])}}return{minValue:Q0,maxValue:Q4,lowOutliers:lowOutlierValues,highOutliers:highOutlierValues,lowWhisker:{low:lowWhiskerValue,high:Q1},highWhisker:{low:Q3,high:highWhiskerValue},lowBox:{low:Q1,high:Q2},highBox:{low:Q2,high:Q3},median:{value:Q2}}},calculateScales:function(data,params,states){var yScale=d3.scale.linear().domain([0,1]).range([0,params.height]);var xScale=d3.scale.linear().domain([params.minValue,params.maxValue]).range([10,params.width-10]);var heightScale=yScale;var widthScale=d3.scale.linear().domain([0,params.maxValue-params.minValue]).range([0,params.width-20]).clamp(true);return{x:xScale,y:yScale,width:widthScale,height:heightScale}},render:function(){var hasData=Util.tryGetProperty(this.props.data,\"quantile\",null)!==null;var isInsideSvg=Util.tryGetProperty(this.props,\"is_inside_svg\",false);if(!hasData){return isInsideSvg?React.DOM.div(null):React.DOM.g(null)}var width=Util.tryGetProperty(this.props,\"width\",152);if(this.props.vertical){width*=6}var height=width/6;var style={width:width,height:this.props.vertical?width:height};var transform=this.props.vertical?\"rotate(270deg) translateX(-\"+width+\"px) translateY(\"+width/4+\"px)\":\"\";var containerStyle=this.props.vertical?{transform:transform,\"-webkit-transform\":transform}:{};var params={width:width,height:height,maxValue:Util.tryGetProperty(this.props,\"max_value\",this.props.data.max),minValue:Util.tryGetProperty(this.props,\"min_value\",this.props.data.min)};var data=this.transformData(this.props.data,params,this.states);var scales=this.calculateScales(this.props.data,params,this.states);var viewBody=React.DOM.g({className:\"BoxAndWhisker\",style:containerStyle},React.DOM.g({className:\"lowOutliers\"},data.lowOutliers.map(function(d,idx){return React.DOM.circle({key:idx,cx:scales.x(d),cy:scales.y(.5),r:2.5,fill:\"#85bd00\"})})),React.DOM.g({className:\"lowWhisker\"},function(d){return React.DOM.g(null,React.DOM.line({x1:scales.x(d.low),x2:scales.x(d.low),y1:scales.y(0),y2:scales.y(1),className:\"canvas-boxplot-end\"}),React.DOM.line({x1:scales.x(d.low),x2:scales.x(d.high),y1:scales.y(.5),y2:scales.y(.5),className:\"canvas-boxplot-line\"}))}(data.lowWhisker)),React.DOM.g({className:\"lowBox\"},function(d){return React.DOM.rect({x:scales.x(d.low),width:scales.width(d.high-d.low),y:scales.y(.05),height:scales.height(.9),fill:\"#85bd00\"})}(data.lowBox)),React.DOM.g({className:\"median\"},function(d){return React.DOM.rect({x:scales.x(d.value)-.5,width:2,y:scales.y(.05),height:scales.height(.9),fill:\"#fff\"})}(data.median)),React.DOM.g({className:\"highBox\"},function(d){return React.DOM.rect({x:scales.x(d.low),width:scales.width(d.high-d.low),y:scales.y(.05),height:scales.height(.9),fill:\"#85bd00\"})}(data.highBox)),React.DOM.g({className:\"highWhisker\"},function(d){return React.DOM.g(null,React.DOM.line({x1:scales.x(d.high),x2:scales.x(d.high),y1:scales.y(0),y2:scales.y(1),className:\"canvas-boxplot-end\"}),React.DOM.line({x1:scales.x(d.low),x2:scales.x(d.high),y1:scales.y(.5),y2:scales.y(.5),className:\"canvas-boxplot-line\"}))}(data.highWhisker)),React.DOM.g({className:\"highOutliers\"},data.highOutliers.map(function(d,idx){return React.DOM.circle({key:idx,cx:scales.x(d),cy:scales.y(.5),r:2.5,fill:\"#85bd00\"})})));return isInsideSvg?viewBody:React.DOM.div({className:\"canvas-plot-boxandwhisker\"},React.DOM.svg({style:style},viewBody))}})}});\n",
        "define(\"plot_boxes\",[\"react\",\"d3\",\"plot_box\",\"common_controls\",\"common_util\"],function(React,d3,Plot,Controls,Util){\"use strict\";return{BoxAndWhiskerArray:React.createClass({displayName:\"BoxAndWhiskerArray\",mixins:[Controls.Tooltip],render:function(){var hasData=Util.tryGetProperty(this.props.data,\"quantile\",null)!==null;var isInsideSvg=Util.tryGetProperty(this.props,\"is_inside_svg\",false);if(!hasData){return isInsideSvg?React.DOM.div(null):React.DOM.g(null)}var width=Util.tryGetProperty(this.props,\"width\",152);var height=Util.tryGetProperty(this.props,\"height\",100);var subsketchCount=this.props.data.subsketch_keys.length;var subsketchWidth=width;var subsketchSpacing=height/subsketchCount;var subsketchHeight=subsketchSpacing-2;var style={width:width,height:height};var BoxAndWhisker=Plot.BoxAndWhisker;var viewBody=React.DOM.g({className:\"BoxAndWhiskerArray\"},this.props.data.subsketches.map(function(subsketch,i){return React.DOM.g({transform:\"translate(0,\"+(i*subsketchSpacing+1)+\")\"},BoxAndWhisker({data:subsketch,width:subsketchWidth,height:subsketchHeight,is_inside_svg:true,min_value:this.props.data.min,max_value:this.props.data.max}))},this));var tooltipOnMouseOver=this.tooltipMouseOver.bind(this,React.DOM.table({className:\"canvas-sframe-boxplot-tooltip\"},[0,1,2,25,50,75,98,99,100].map(function(q){var quantile=this.props.data.quantile;return React.DOM.tr({key:q},React.DOM.td(null,\"quantile(\",q/100,\"):\"),React.DOM.td(null,Util.formatNumber(quantile[q])))}.bind(this))));var tooltipOnMouseOut=this.tooltipMouseOut;return isInsideSvg?viewBody:React.DOM.div({className:\"canvas-plot-boxandwhiskerarray\"},React.DOM.svg({style:style,onMouseOver:tooltipOnMouseOver,onMouseOut:tooltipOnMouseOut},viewBody),this.getTooltip())}})}});\n",
        "define(\"plot_heatmap\",[\"react\",\"d3\",\"jquery\",\"common_controls\",\"common_util\"],function(React,d3,jQuery,Controls,Util){\"use strict\";var FRAME_PADDING=75;var TICK_WIDTH=10;var TICK_HEIGHT=10;var FRAME_THICKNESS=1;var formatLabels=function(num){if(d3.format(\".3g\")(num).length>7)return d3.format(\".1g\")(num);else return d3.format(\".3g\")(num)};function getRGB(binWeight,heatScale){var normalizedWeight=heatScale(binWeight);var red;var blue;var green;if(normalizedWeight<.5){red=0;blue=2*(1-2*normalizedWeight);if(blue>1)blue=1}else{blue=0;red=4*(normalizedWeight-.5);if(red>1)red=1}var distFromMiddle=Math.abs(normalizedWeight-.5);if(distFromMiddle<.25)green=1;else green=4*(.5-distFromMiddle);return[Math.floor(red*255),Math.floor(green*255),Math.floor(blue*255)]}function incrementAdjacentCells(array,incrementAmount,i,j){for(var iitr=i-1;iitr<=i+1;iitr++){if(iitr<0||iitr>=array.length)continue;for(var jitr=j-1;jitr<=j+1;jitr++){if(jitr<0||jitr>=array[i].length)continue;array[iitr][jitr]+=incrementAmount}}}var AxisLabel=React.createClass({displayName:\"AxisLabel\",handleClick:function(evt){var selected_column=[this.props.plotName,this.props.name];this.props.selectVariable(selected_column)},render:function(){var link=this.props.ipython?this.props.name:React.DOM.a({href:\"javascript:\",onClick:this.handleClick},this.props.name);return React.DOM.span({className:\"canvas-heatmap-axesLabel\",style:{position:\"absolute\",top:\"\"+this.props.y+\"px\",left:\"\"+this.props.x+\"px\",width:\"\"+this.props.width+\"px\"}},link)}});var CanvasFrame=React.createClass({displayName:\"CanvasFrame\",drawFrame:function(context){context.fillStyle=\"#444444\";context.fillRect(FRAME_PADDING,FRAME_PADDING,this.props.width,this.props.height);context.fillStyle=\"#0000FF\";context.fillRect(FRAME_THICKNESS+FRAME_PADDING,FRAME_THICKNESS+FRAME_PADDING,this.props.width-2*FRAME_THICKNESS,this.props.height-2*FRAME_THICKNESS)},drawTicksAndGrid:function(context){context.lineWidth=1;context.fillStyle=\"#333333\";for(var i=0;i<this.props.xScale.ticks().length;i++){var xValue=this.props.xScale.ticks()[i];if(this.props.gridlinesVisible){context.strokeStyle=\"#999999\";context.beginPath();context.moveTo(FRAME_PADDING+this.props.xScale(xValue),FRAME_PADDING);context.lineTo(FRAME_PADDING+this.props.xScale(xValue),FRAME_PADDING+this.props.height);context.stroke()}context.strokeStyle=\"#444444\";context.beginPath();context.moveTo(FRAME_PADDING+this.props.xScale(xValue),FRAME_PADDING+this.props.height-TICK_HEIGHT);context.lineTo(FRAME_PADDING+this.props.xScale(xValue),FRAME_PADDING+this.props.height+TICK_HEIGHT);context.stroke();context.font=\"12px Helvetica\";context.fillText(\"\"+formatLabels(xValue),FRAME_PADDING+this.props.xScale(xValue)-TICK_WIDTH/2,FRAME_PADDING+this.props.height+2*TICK_HEIGHT)}for(var i=0;i<this.props.yScale.ticks().length;i++){var yValue=this.props.yScale.ticks()[i];if(this.props.gridlinesVisible){context.strokeStyle=\"#999999\";context.beginPath();context.moveTo(FRAME_PADDING,FRAME_PADDING+this.props.yScale(yValue));context.lineTo(FRAME_PADDING+this.props.width,FRAME_PADDING+this.props.yScale(yValue));context.stroke()}context.strokeStyle=\"#444444\";context.beginPath();context.moveTo(FRAME_PADDING-TICK_WIDTH,FRAME_PADDING+this.props.yScale(yValue));context.lineTo(FRAME_PADDING+TICK_WIDTH,FRAME_PADDING+this.props.yScale(yValue));context.stroke();context.font=\"12px Helvetica\";context.fillText(\"\"+formatLabels(yValue),FRAME_PADDING/3,FRAME_PADDING+this.props.yScale(yValue))}},drawAxis:function(context){context.lineWidth=1;var axisXVal=this.props.xScale(0);if(axisXVal<0)axisXVal=0;else if(axisXVal>this.props.width)axisXVal=this.props.width;axisXVal+=FRAME_PADDING;context.strokeStyle=\"#222222\";context.beginPath();context.moveTo(axisXVal-1,FRAME_PADDING);context.lineTo(axisXVal-1,FRAME_PADDING+this.props.height);context.stroke();var axisYVal=this.props.yScale(0);if(axisYVal<0)axisYVal=0;else if(axisYVal>this.props.height)axisYVal=this.props.height;axisYVal+=FRAME_PADDING;context.strokeStyle=\"#222222\";context.beginPath();context.moveTo(FRAME_PADDING,axisYVal+1);context.lineTo(FRAME_PADDING+this.props.width,axisYVal+1);context.stroke()},drawBins:function(context){var binScreenWidth=this.props.xScale(this.props.binWidth)-this.props.xScale(0);var binScreenHeight=this.props.yScale(0)-this.props.yScale(this.props.binHeight);var maxWeight=Number.NEGATIVE_INFINITY;var minWeight=Number.POSITIVE_INFINITY;for(var i=0;i<this.props.bins.length;i++){for(var j=0;j<this.props.bins[i].length;j++){if(this.props.bins[i][j]>maxWeight)maxWeight=this.props.bins[i][j];if(this.props.bins[i][j]<minWeight)minWeight=this.props.bins[i][j]}}this.props.heatScale.domain([minWeight,maxWeight]).range([0,1]);if(this.props.heatScale.clamp()&&minWeight==0)this.props.heatScale.domain([1e-5,maxWeight]);for(var i=0;i<this.props.bins.length;i++){for(var j=0;j<this.props.bins[i].length;j++){var bin=this.props.bins[i][j];var xPos=this.props.xScale(this.props.binningDomain.minX+i*this.props.binWidth)+FRAME_PADDING;var yPos=this.props.yScale(this.props.binningDomain.maxY-j*this.props.binHeight)+FRAME_PADDING;if(xPos<FRAME_PADDING-binScreenWidth||xPos>FRAME_PADDING+this.props.width||yPos<FRAME_PADDING-binScreenHeight||yPos>FRAME_PADDING+this.props.height)continue;var binRenderWidth=binScreenWidth;var binRenderHeight=binScreenHeight;if(xPos<FRAME_PADDING)xPos=FRAME_PADDING;if(yPos>FRAME_PADDING+this.props.height-binScreenHeight)binRenderHeight=FRAME_PADDING+this.props.height-yPos;if(xPos>FRAME_PADDING+this.props.width-binScreenWidth)binRenderWidth=FRAME_PADDING+this.props.width-xPos;if(yPos<FRAME_PADDING)yPos=FRAME_PADDING;var rgb=getRGB(bin,this.props.heatScale);var rgbString=\"rgb(\"+rgb[0]+\",\"+rgb[1]+\",\"+rgb[2]+\")\";context.fillStyle=rgbString;context.fillRect(xPos,yPos,binRenderWidth,binRenderHeight)}}},drawGradientScale:function(context){var grd=context.createLinearGradient(this.props.width+FRAME_PADDING+5,75,this.props.width+FRAME_PADDING+30,275);grd.addColorStop(0,\"rgba(255, 0, 0, 1.000)\");grd.addColorStop(.25,\"rgba(255, 255, 0, 1.000)\");grd.addColorStop(.5,\"rgba(0, 255, 0, 1.000)\");grd.addColorStop(.75,\"rgba(0, 255, 255, 1.000)\");grd.addColorStop(1,\"rgba(0, 0, 255, 1.000)\");context.fillStyle=grd;context.fillRect(this.props.width+FRAME_PADDING+5,75,25,200);context.font=\"12px Helvetica\";context.strokeStyle=\"#444444\";context.fillStyle=\"#444444\";for(var i=0;i<3;i++){var colorWeight=i*.5;var pointWeight=this.props.heatScale.invert(colorWeight);if(isNaN(pointWeight)||pointWeight<1e-4){pointWeight=0}context.fillText(\"\"+formatLabels(pointWeight),this.props.width+FRAME_PADDING+30,(2-i)*100+75)}context.fillText(\"point density\",this.props.width+FRAME_PADDING,50)},draw:function(context){this.drawFrame(context);this.drawBins(context);this.drawTicksAndGrid(context);this.drawAxis(context);this.drawGradientScale(context)},componentDidMount:function(){var context=this.getDOMNode().getContext(\"2d\");this.draw(context)},componentDidUpdate:function(){var context=this.getDOMNode().getContext(\"2d\");context.clearRect(0,0,this.props.width+2*FRAME_PADDING,this.props.height+2*FRAME_PADDING);this.draw(context)},render:function(){return React.DOM.canvas({className:\"canvas-heatmap-canvas\",width:this.props.width+2*FRAME_PADDING,height:this.props.height+2*FRAME_PADDING})}});return{Heatmap:React.createClass({displayName:\"Heatmap\",getDefaultProps:function(){return{bins:[],binWidth:10,binHeight:10,width:500,height:500,extrema:{minX:0,maxX:10,minY:0,maxY:10},xLabel:\"\",yLabel:\"\",numValues:0}},getInitialState:function(){return{heatScale:d3.scale.linear(),gridlinesVisible:true,blurAmount:1,shouldShowBlur:true}},toggleGridlines:function(){this.setState({gridlinesVisible:!this.state.gridlinesVisible})},changeBlur:function(evt){var newBlurVal=evt.target.value;if(newBlurVal==0){this.setState({shouldShowBlur:false})}else{this.setState({shouldShowBlur:true})}this.setState({blurAmount:newBlurVal})},changeHeatFunction:function(event){var functionType=event.target.value;if(functionType==\"linear\")this.setState({heatScale:d3.scale.linear()});else if(functionType==\"log\")this.setState({heatScale:d3.scale.log().clamp(true)});else if(functionType==\"quadratic\")this.setState({heatScale:d3.scale.pow().exponent(2)});else if(functionType==\"sqrt\")this.setState({heatScale:d3.scale.sqrt()})},render:function(){var numIters=4;var alteredBins=$.extend(true,[],this.props.bins);if(this.state.shouldShowBlur){for(var k=0;k<numIters;k++){var incrementBins=$.extend(true,[],alteredBins);for(var i=0;i<alteredBins.length;i++){for(var j=0;j<alteredBins[i].length;j++){incrementAdjacentCells(alteredBins,this.state.blurAmount*incrementBins[i][j]/250,i,j)}}}var newNumValues=0;for(var i=0;i<alteredBins.length;i++){for(var j=0;j<alteredBins[i].length;j++){newNumValues+=alteredBins[i][j]}}var numCurrentValues=0;for(var i=0;i<this.props.bins.length;i++){for(var j=0;j<this.props.bins[i].length;j++){numCurrentValues+=this.props.bins[i][j]}}for(var i=0;i<alteredBins.length;i++){for(var j=0;j<alteredBins[i].length;j++){Math.round(alteredBins[i][j]*=numCurrentValues/newNumValues)}}}TICK_HEIGHT=this.props.height/50;TICK_WIDTH=this.props.width/50;var minX=this.props.domainToShow.minX;var minY=this.props.domainToShow.minY;var maxX=this.props.domainToShow.maxX;var maxY=this.props.domainToShow.maxY;var xScale=d3.scale.linear().domain([minX,maxX]).range([0,this.props.width]);var yScale=d3.scale.linear().domain([minY,maxY]).range([this.props.height,0]);var SliderControl=Controls.Slider;return React.DOM.div({className:\"canvas-heatmap-frame\"},CanvasFrame({className:\"canvas-heatmap-canvasFrame\",width:this.props.width,height:this.props.height,xScale:xScale,yScale:yScale,heatScale:this.state.heatScale,bins:alteredBins,originalBins:this.props.bins,binWidth:this.props.binWidth,binHeight:this.props.binHeight,binningDomain:this.props.extrema,numValues:this.props.numValues,gridlinesVisible:this.state.gridlinesVisible,shouldShowBlur:this.state.shouldShowBlur}),React.DOM.input({className:\"canvas-heatmap-toggleButton\",type:\"checkbox\",name:\"gridlineToggle\",onChange:this.toggleGridlines,style:{position:\"absolute\",top:\"\"+(this.props.height+2*FRAME_PADDING+25)/2+\"px\",left:\"\"+(this.props.width+2*FRAME_PADDING)+\"px\"}}),React.DOM.p({className:\"canvas-heatmap-toggleLabel\",style:{position:\"absolute\",top:\"\"+(this.props.height+2*FRAME_PADDING+25)/2+\"px\",left:\"\"+(this.props.width+2.25*FRAME_PADDING)+\"px\",width:\"200px\"}},\"Hide Gridlines\"),SliderControl({label:\"blur\",min:0,max:100,value:this.state.blurAmount,onChange:this.changeBlur}),React.DOM.select({className:\"canvas-heatmap-changeFunction\",type:\"checkbox\",name:\"functionSelect\",onChange:this.changeHeatFunction,style:{position:\"absolute\",top:\"\"+(this.props.height+2*FRAME_PADDING-25)/2+\"px\",left:\"\"+(this.props.width+2*FRAME_PADDING)+\"px\"}},React.DOM.option({value:\"linear\"},\"Linear\"),React.DOM.option({value:\"quadratic\"},\"Quadratic\"),React.DOM.option({value:\"sqrt\"},\"Square Root\"),React.DOM.option({value:\"log\"},\"Logarithmic\")),React.DOM.p({className:\"canvas-heatmap-toggleLabel\",style:{position:\"absolute\",top:\"\"+(this.props.height+2*FRAME_PADDING-75)/2+\"px\",left:\"\"+(this.props.width+2*FRAME_PADDING)+\"px\",width:\"200px\"}},\"Heat Scaling Function\"),[{name:this.props.xLabel,x:FRAME_PADDING,y:this.props.height+FRAME_PADDING*1.5,width:this.props.width},{name:this.props.yLabel,x:0,y:FRAME_PADDING/2.5,width:\"auto\"}].map(function(axis,idx){return AxisLabel({key:idx,name:axis.name,selectVariable:this.props.selectVariable,plotName:this.props.plotName,x:axis.x,y:axis.y,width:axis.width,ipython:this.props.ipython})}.bind(this)))}})}});\n",
        "define(\"plot_quantilehist\",[\"react\",\"d3\",\"common_controls\",\"common_util\"],function(React,d3,Controls,Util){\"use strict\";return{QuantileHistogram:React.createClass({displayName:\"QuantileHistogram\",mixins:[Controls.Tooltip],setScale:function(axis,evt){var scale=evt.target.value;var newScale={};newScale[axis]=scale;this.setState({scale:Util.merge(this.state.scale,newScale)})},setBinCount:function(evt){this.setState({binCount:Number(evt.target.value)})},getInitialState:function(){return{binCount:null,scale:{x:\"linear\",y:\"linear\"}}},render:function(){var quantile=this.props.quantile.slice();if(quantile.length===0){return React.DOM.div(null)}var width=500,height=500;var plotWidth=width*.75,plotHeight=height*.65;var plotX=width*.175,plotY=height*.175;var min=d3.min(quantile);var max=d3.max(quantile);var range=max-min;var xBinCount=this.state.binCount!=null?this.state.binCount:this.props.starting_bins;var binScale=d3.scale[this.state.scale.x]().domain([1,xBinCount+1]).range([min,max]);var bins=[];var idx=0;var bin=0;for(var i=0;i<xBinCount;i++){var binMin=binScale(i+1);var binMax=binScale(i+2);bin=0;while(idx<quantile.length-1&&d3.mean([quantile[idx],quantile[idx+1]])<=binMax){bin++,idx++}bins.push(bin)}Util.assert(d3.sum(bins)===quantile.length-1);var yBinCount=d3.max(bins);var scaleX=d3.scale.linear().domain([0,xBinCount]).range([plotX,plotX+plotWidth]);var scaleY=d3.scale.linear().domain([0,yBinCount]).range([plotY,plotY+plotHeight]);var scaleYforLabels=d3.scale.linear().domain([0,yBinCount*.01*this.props.rows]).range([plotY+plotHeight,plotY]);var xTicks=d3.range(bins.length+1);var yTicks=scaleYforLabels.ticks(7);var xLabelPrefix=d3.formatPrefix(max>2?max/2:max);var xLabelPrefixSymbol=Util.siPrefixToShortScale(xLabelPrefix.symbol);var xLabels=xTicks.map(function(x,idx){return{text:d3.round(xLabelPrefix.scale(binScale(x+1)),2),idx:idx}});while(xLabels.length>8){xLabels=xLabels.filter(function(item,idx){return idx%2==0})}var yLabelPrefixMax=yBinCount*.01*this.props.rows;var yLabelPrefix=d3.formatPrefix(yLabelPrefixMax>2?yLabelPrefixMax/2:yLabelPrefixMax);var yLabelPrefixSymbol=Util.siPrefixToShortScale(yLabelPrefix.symbol);var yLabels=yTicks.map(yLabelPrefix.scale);var squares=[];squares=squares.concat.apply(squares,bins.map(function(bin,idx){return d3.range(bin).map(function(y){return[String(scaleX(idx))+\"px\",String(scaleY(yBinCount-(y+1)))+\"px\"]}.bind(this))}.bind(this)));var SliderControl=Controls.Slider;var tooltipLine=function(currNum,nextNum){var curr=Util.formatNumber(currNum);var next=Util.formatNumber(nextNum);if(curr==next){return\" \"+curr}else{return\" between \"+curr+\" and \"+next}}.bind(this);return React.DOM.div({className:\"canvas-quantile-histogram\"},React.DOM.svg({style:{width:width,height:height},preserveAspectRatio:\"xMinYMin\"},squares.map(function(position,idx){return React.DOM.rect({className:\"bar\",key:idx,width:plotWidth/xBinCount,height:plotHeight/yBinCount,x:0,y:0,style:{transform:\"translate(\"+position.join(\", \")+\")\",\"-webkit-transform\":\"translate(\"+position.join(\", \")+\")\"},onMouseOver:this.tooltipMouseOver.bind(this,React.DOM.span(null,\"Rows between the \",Util.numberWithSuffix(idx),\" and \",Util.numberWithSuffix(idx+1),\" quantiles have values approximately \",tooltipLine(quantile[idx],quantile[idx+1]),\".\")),onMouseOut:this.tooltipMouseOut})}.bind(this)),React.DOM.rect({x:plotX,y:plotY,width:plotWidth,height:plotHeight,fill:\"none\",className:\"canvas-sarray-plot-axes\"}),xTicks.map(function(bin,idx){var x=scaleX(bin);var y=plotHeight+plotY;return React.DOM.line({key:idx,x1:x,x2:x,y1:y,y2:y+8,className:\"canvas-sarray-plot-axes\"})}.bind(this)),xLabels.map(function(label,idx){return React.DOM.text({key:idx,x:scaleX(label.idx),y:plotHeight+plotY+20,textAnchor:\"middle\",className:\"canvas-histogram-label\"},Util.formatNumber(label.text))}.bind(this)),yTicks.map(function(freq,idx){var y=scaleYforLabels(freq);return React.DOM.g({key:idx},React.DOM.line({x1:plotX-8,x2:plotX,y1:y,y2:y,className:\"canvas-sarray-plot-axes\"}),React.DOM.text({x:plotX-12,y:y+4,textAnchor:\"end\",className:\"canvas-histogram-label\"},Util.formatNumber(yLabels[idx])))}.bind(this)),React.DOM.text({x:plotX+plotWidth/2,y:40,textAnchor:\"middle\",className:\"canvas-histogram-title\"},\"Histogram of quantiles\"),React.DOM.text({x:plotX,y:plotY-28,textAnchor:\"end\",className:\"canvas-histogram-axis-title\"},\"Frequency\"),React.DOM.text({x:plotX,y:plotY-12,textAnchor:\"end\",className:\"canvas-histogram-axis-subtitle\"},yLabelPrefixSymbol?\"(in \"+yLabelPrefixSymbol+\"s)\":null)),React.DOM.div({className:\"canvas-histogram-x-axis\"},React.DOM.div(null,React.DOM.span(null,this.props.selected_column,\"\u00a0\")),React.DOM.div(null,xLabelPrefixSymbol?\"(in \"+xLabelPrefixSymbol+\"s)\":null)),SliderControl({label:\"bins\",min:2,max:100,value:xBinCount,onChange:this.setBinCount}),this.getTooltip())}})}});\n",
        "define(\"plot_graph\",[\"react\",\"d3\",\"dagre\",\"common_util\",\"common_controls\"],function(React,d3,dagre,Util,Controls){\"use strict\";var plotSize=600;var plotPadding=50;var Edge=React.createClass({displayName:\"Edge\",render:function(){var e=this.props.edge;var lines=[];for(var i=0;i<e.points.length-1;i++){var p1=e.points[i];var p2=e.points[i+1];var x1=this.props.scaleX(p1[0]);var y1=this.props.scaleY(p1[1]);var x2=this.props.scaleX(p2[0]);var y2=this.props.scaleY(p2[1]);var props={key:i,x1:x1,y1:y1,x2:x2,y2:y2,style:{stroke:this.props.ecolor,strokeWidth:this.props.ewidth}};var line=React.DOM.line(props);lines.push(line);if(this.props.arrows&&i==e.points.length-2){var dx=x2-x1;var dy=y2-y1;var m=dy/dx;var s=this.props.ewidth*5;var L=Math.sqrt(dx*dx+dy*dy);var f=s*2/L;var vertexOffset=(this.props.vertexRadius-2)/L;var p_tip=[x2-dx*vertexOffset,y2-dy*vertexOffset];var p_back=[p_tip[0]-dx*f,p_tip[1]-dy*f];var xOffset=Math.sqrt(s*s*(m*m)/(m*m+1));var yOffset=-1/m*xOffset;var p_left=[p_back[0]+xOffset,p_back[1]+yOffset];var p_right=[p_back[0]-xOffset,p_back[1]-yOffset];var points=[p_tip,p_left,p_right];points=points.map(function(p){return p.join(\",\")}).join(\" \");lines.push(React.DOM.polygon({key:\"arrow\",points:points,fill:this.props.ecolor,strokeWidth:0}))}}return React.DOM.g({onMouseOver:this.props.onMouseOver,onMouseOut:this.props.onMouseOut},lines)}});var Vertex=React.createClass({displayName:\"Vertex\",render:function(){var x1=this.props.scaleX(this.props.vertex.x);var y1=this.props.scaleY(this.props.vertex.y);Util.assert(x1>=0);Util.assert(y1>=0);var fill=this.props.vcolor;if(this.props.vertex.value in this.props.highlight){fill=this.props.highlight[this.props.vertex.value]}var props={onMouseOver:this.props.onMouseOver,onMouseOut:this.props.onMouseOut,r:this.props.vertexRadius,cx:x1,cy:y1,style:{fill:fill}};return React.DOM.circle(props)}});var Label=React.createClass({displayName:\"Label\",render:function(){return React.DOM.g(null,React.DOM.text({x:this.props.x,y:this.props.y,style:{textAnchor:\"middle\",fill:\"white\",stroke:\"white\",strokeWidth:5,opacity:.9}},this.props.text),React.DOM.text({x:this.props.x,y:this.props.y,style:{textAnchor:\"middle\",fill:\"black\"}},this.props.text))}});var layoutAlgorithms={forceDirected:function(vertices,edges){var force=d3.layout.force().nodes(vertices).links(edges).charge(-60).linkDistance(20).start();for(var i=0;force.alpha()>0&&i<1e3;i++){force.tick()}force.stop();force.links().map(function(e){e[\"points\"]=[[e.source.x,e.source.y],[e.target.x,e.target.y]]});return{vertices:force.nodes(),edges:force.links()}}};return{GraphLayout:React.createClass({displayName:\"GraphLayout\",statics:{layoutAlgorithms:layoutAlgorithms,layout:function(props){var getVertex=function(value){var vertex=props.vertices.indexOf(value);Util.assert(vertex!=-1);return vertex};return props.layoutAlgorithm(props.vertices.map(function(v,idx){return{value:v,label:props.vlabels!==null?props.vlabels[idx]:null}}),props.edges.map(function(e,idx){return{source:getVertex(e[0]),target:getVertex(e[1]),label:props.elabels!==null?props.elabels[idx]:null}}))}},getDefaultProps:function(){return{layoutAlgorithm:this.layoutAlgorithms.forceDirected}},getInitialState:function(){return{graph:this.constructor.layout(this.props),vertexHover:null,edgeHover:null}},componentWillReceiveProps:function(nextProps){this.setState({graph:this.constructor.layout(nextProps)})},onVertexMouseOver:function(vertex){this.setState({vertexHover:vertex})},onVertexMouseOut:function(){this.setState({vertexHover:null})},onEdgeMouseOver:function(edge){this.setState({edgeHover:edge})},onEdgeMouseOut:function(){this.setState({edgeHover:null})},render:function(){var vertexRadius=this.props.node_size;var graph=this.state.graph;var vx=graph.vertices.map(function(v){return v.x});var vy=graph.vertices.map(function(v){return v.y});var effectiveWidth=d3.max(vx)-d3.min(vx);var effectiveHeight=d3.max(vy)-d3.min(vy);var aspectRatio=effectiveWidth/effectiveHeight;var scaleX,_scaleY;if(aspectRatio>1){scaleX=d3.scale.linear().domain([d3.min(vx),d3.max(vx)]).range([plotPadding,plotSize-plotPadding]);_scaleY=d3.scale.linear().domain([d3.min(vy),d3.max(vy)]).range([plotPadding,(plotSize-plotPadding)/aspectRatio])}else{scaleX=d3.scale.linear().domain([d3.min(vx),d3.max(vx)]).range([plotPadding,(plotSize-plotPadding)*aspectRatio]);_scaleY=d3.scale.linear().domain([d3.min(vy),d3.max(vy)]).range([plotPadding,plotSize-plotPadding])}var vyScaledMax=d3.max(vy.map(_scaleY));var scaleY=function(y){return plotSize-plotPadding-(plotSize-2*plotPadding-vyScaledMax+_scaleY(y))};return React.DOM.div(null,React.DOM.svg({width:plotSize,height:plotSize},graph.edges.map(function(e,idx){return Edge({key:idx,edge:e,ewidth:this.props.ewidth,ecolor:this.props.ecolor,scaleX:scaleX,scaleY:scaleY,arrows:this.props.arrows,vertexRadius:vertexRadius,onMouseOver:this.onEdgeMouseOver.bind(null,idx),onMouseOut:this.onEdgeMouseOut})}.bind(this)),graph.vertices.map(function(n,idx){return Vertex({key:idx,vertex:n,vertexRadius:vertexRadius,vcolor:this.props.vcolor,highlight:this.props.highlight,scaleX:scaleX,scaleY:scaleY,onMouseOver:this.onVertexMouseOver.bind(null,idx),onMouseOut:this.onVertexMouseOut})}.bind(this)),this.props.elabels.map(function(label,idx){if(this.props.elabel_hover&&this.state.edgeHover!==idx){return null}return Label({key:idx,x:scaleX(d3.mean(graph.edges[idx].points.map(function(p){return p[0]}))),y:scaleY(d3.mean(graph.edges[idx].points.map(function(p){return p[1]}))),text:typeof label===\"number\"?Util.formatNumber(label):label})}.bind(this)),this.props.vlabels.map(function(label,idx){if(this.props.vlabel_hover&&this.state.vertexHover!==idx){return null}return Label({key:idx,x:scaleX(graph.vertices[idx].x)+this.props.h_offset*plotSize,y:scaleY(graph.vertices[idx].y)-this.props.v_offset*plotSize,v_offset:this.props.v_offset,h_offset:this.props.h_offset,text:typeof label===\"number\"?Util.formatNumber(label):label})}.bind(this))))}})}});\n",
        "define(\"plot_scatter\",[\"react\",\"d3\",\"jquery\",\"common_controls\",\"common_util\"],function(React,d3,jQuery,Controls,Util){\"use strict\";var LINE_GRAPH_THRESHOLD=1e3;var FRAME_PADDING=75;var FRAME_THICKNESS=1;var TICK_WIDTH=10;var TICK_HEIGHT=10;var PADDING_FRACTION=.01;var POINT_RADIUS=5;var SHIFT_DURATION=1;var SCROLL_DOMAIN_FRACTION=.9;var defaultNumericalFormatter=d3.format(\".3g\");var formatLabels=function(num,isMetrics){if(isMetrics){var d=new Date(num);var t=d3.time.format(\"%I %p\")(d);return d3.time.format(\"%I %p\")(d)}var intNum=parseInt(num,10);if(!isNaN(intNum)&&num/1e5<1){return num.toString()}var floatNum=parseFloat(num);var floatString=num.toFixed(5);if(!isNaN(floatNum)&&floatNum<1&&Number(floatString)!==0){return floatString}if(defaultNumericalFormatter(num).length>7)return d3.format(\".1g\")(num);else return defaultNumericalFormatter(num)};var PointsRenderer=React.createClass({displayName:\"PointsRenderer\",render:function(){var xScale=this.props.xScaleFunc;var yScale=this.props.yScaleFunc;var height=this.props.height;var width=this.props.width;var data=this.props.data;if(this.props.shouldShowLineGraph){data=Util.deepCopy(data);data.sort(function(point1,point2){return point1.x-point2.x})}function getOpacity(point,idx){if(xScale(point.x)<0||xScale(point.x)>width||yScale(point.y)<0||yScale(point.y)>height)return 0;else return 1}var pointNodes=null;if(!this.props.shouldShowLineGraph){pointNodes=data.map(function(point,idx){var xPos=xScale(point.x)+FRAME_PADDING;var yPos=yScale(point.y)+FRAME_PADDING;if(xPos<FRAME_PADDING)xPos=FRAME_PADDING-5;if(xPos>width+FRAME_PADDING)xPos=width+FRAME_PADDING+5;if(yPos<FRAME_PADDING)yPos=FRAME_PADDING-5;if(yPos>FRAME_PADDING+height)yPos=height+FRAME_PADDING+5;var key=idx;return React.DOM.circle({className:\"canvas-scatter-point\",cx:\"0\",cy:\"0\",style:{transform:\"translate(\"+xPos+\"px, \"+yPos+\"px)\",\"-webkit-transform\":\"translate(\"+xPos+\"px, \"+yPos+\"px)\",opacity:\"\"+getOpacity(point,idx)},r:POINT_RADIUS,key:key},React.DOM.title(null,\" \",\"(\"+point.x+\", \"+point.y+\")\",\" \"))})}var lines=[];if(this.props.shouldShowLineGraph){var previousX=null;var previousY=null;for(var i=0;i<data.length;i++){if(previousX!=null&&previousY!=null){var x1=xScale(previousX)+FRAME_PADDING;var y1=yScale(previousY)+FRAME_PADDING;var x2=xScale(data[i].x)+FRAME_PADDING;var y2=yScale(data[i].y)+FRAME_PADDING;var lineTooltip=\"(\"+previousX+\", \"+previousY+\") -> (\"+data[i].x+\", \"+data[i].y+\")\";var opacity=1;if(x2<FRAME_PADDING||x1>FRAME_PADDING+width)opacity=0;if(y1<FRAME_PADDING&&y2<FRAME_PADDING||y1>FRAME_PADDING+height&&y2>FRAME_PADDING+height)opacity=0;if(x1<FRAME_PADDING)x1=FRAME_PADDING;if(x1>FRAME_PADDING+width)x1=FRAME_PADDING+width;if(x2<FRAME_PADDING)x2=FRAME_PADDING;if(x2>FRAME_PADDING+width)x2=FRAME_PADDING+width;if(y1<FRAME_PADDING)y1=FRAME_PADDING;if(y1>FRAME_PADDING+height)y1=FRAME_PADDING+height;if(y2<FRAME_PADDING)y2=FRAME_PADDING;if(y2>FRAME_PADDING+height)y2=FRAME_PADDING+height;lines.push(React.DOM.line({className:\"canvas-scatter-lineGraph\",x1:x1,y1:y1,x2:x2,y2:y2,style:{opacity:opacity},key:i},React.DOM.title(null,\" \",lineTooltip,\" \")))}previousX=data[i].x;previousY=data[i].y}}return React.DOM.g(null,lines,pointNodes)}});var TrendlineRenderer=React.createClass({displayName:\"TrendlineRenderer\",render:function(){var width=this.props.width;var height=this.props.height;var coefficients=this.props.coefficients;var xScale=this.props.xScaleFunc;var yScale=this.props.yScaleFunc;if(coefficients.m==null||!this.props.trendlineVisible){return React.DOM.g(null,\" \")}var x1=FRAME_PADDING;var y1=FRAME_PADDING+yScale(xScale.invert(0)*coefficients.m+coefficients.b);var y2=FRAME_PADDING+yScale(xScale.invert(width)*coefficients.m+coefficients.b);var x2=width+FRAME_PADDING;if(y1<FRAME_PADDING){y1=FRAME_PADDING;x1=FRAME_PADDING+xScale((yScale.invert(0)-coefficients.b)/coefficients.m)}if(y1>height+FRAME_PADDING){y1=height+FRAME_PADDING;x1=FRAME_PADDING+xScale((yScale.invert(height)-coefficients.b)/coefficients.m)}if(y2<FRAME_PADDING){y2=FRAME_PADDING;x2=FRAME_PADDING+xScale((yScale.invert(0)-coefficients.b)/coefficients.m)}if(y2>height+FRAME_PADDING){y2=height+FRAME_PADDING;x2=FRAME_PADDING+xScale((yScale.invert(height)-coefficients.b)/coefficients.m)}var trendlineEquation=\"y = \"+coefficients.m+\"x + \"+coefficients.b;return React.DOM.g(null,React.DOM.line({className:\"canvas-scatter-trendline\",x1:x1,y1:y1,x2:x2,y2:y2},React.DOM.title(null,trendlineEquation)))}});var AxisRenderer=React.createClass({displayName:\"AxisRenderer\",render:function(){var isMetrics=this.props.isMetrics;var xScale=isMetrics?this.props.xTimeScaleFunc:this.props.xScaleFunc;var yScale=this.props.yScaleFunc;var width=this.props.width;var height=this.props.height;var gridlinesVisible=this.props.gridlinesVisible;var axisXVal=xScale(0);if(axisXVal<0){axisXVal=0}else if(axisXVal>width){axisXVal=width}axisXVal+=FRAME_PADDING;var axisYVal=yScale(0);if(axisYVal<0){axisYVal=0}else if(axisYVal>height){axisYVal=height}axisYVal+=FRAME_PADDING;var gridlineVisibility=gridlinesVisible?\"visible\":\"hidden\";var xTicks=isMetrics?xScale.ticks(d3.time.hour,2):xScale.ticks();var xLinesAndLabels=xTicks.map(function(xValue,idx){return React.DOM.g({key:\"Xg-\"+idx},React.DOM.line({className:\"canvas-scatter-gridlines\",x1:\"0\",x2:\"0\",y1:FRAME_PADDING,y2:height+FRAME_PADDING,key:\"Xgridline-\"+xValue,style:{transform:\"translate(\"+(xScale(xValue)+FRAME_PADDING)+\"px, \"+0+\"px)\",\"-webkit-transform\":\"translate(\"+(xScale(xValue)+FRAME_PADDING)+\"px, \"+0+\"px)\",\"transition-property\":\"transform\",\"-webkit-transition-property\":\"-webkit-transform\",\"transition-duration\":\"\"+SHIFT_DURATION+\"s\",\"-webkit-transition-duration\":\"\"+SHIFT_DURATION+\"s\",visibility:gridlineVisibility}}),React.DOM.line({className:\"canvas-scatter-ticks\",x1:\"0\",x2:\"0\",y1:height+FRAME_PADDING+TICK_HEIGHT/2,y2:height+FRAME_PADDING-TICK_HEIGHT/2,key:\"Xticks-\"+xValue,style:{transform:\"translate(\"+(xScale(xValue)+FRAME_PADDING)+\"px, \"+0+\"px)\",\"-webkit-transform\":\"translate(\"+(xScale(xValue)+FRAME_PADDING)+\"px, \"+0+\"px)\",\"transition-property\":\"transform\",\"-webkit-transition-property\":\"-webkit-transform\",\"-webkit-transition-duration\":\"\"+SHIFT_DURATION+\"s\",\"transition-duration\":\"\"+SHIFT_DURATION+\"s\"}}),React.DOM.text({className:\"canvas-scatter-numLabel\",x:xScale(xValue)+FRAME_PADDING,y:height+FRAME_PADDING*1.35,key:\"XnumLabel-\"+xValue},formatLabels(xValue,isMetrics)))});var yLinesAndLabels=yScale.ticks().map(function(yValue,idx){return React.DOM.g({key:\"Yg-\"+idx},React.DOM.line({className:\"canvas-scatter-gridlines\",x1:FRAME_PADDING,x2:width+FRAME_PADDING,y1:0,y2:0,key:\"Ygridline-\"+yValue,style:{transform:\"translate(\"+0+\"px, \"+(yScale(yValue)+FRAME_PADDING)+\"px)\",\"-webkit-transform\":\"translate(\"+0+\"px, \"+(yScale(yValue)+FRAME_PADDING)+\"px)\",\"transition-property\":\"transform\",\"-webkit-transition-property\":\"-webkit-transform\",\"transition-duration\":\"\"+SHIFT_DURATION+\"s\",\"-webkit-transition-duration\":\"\"+SHIFT_DURATION+\"s\",visibility:gridlineVisibility}}),React.DOM.line({className:\"canvas-scatter-ticks\",x1:FRAME_PADDING-TICK_WIDTH/2,x2:FRAME_PADDING+TICK_WIDTH/2,y1:0,y2:0,key:\"Yticks-\"+yValue,style:{transform:\"translate(\"+0+\"px, \"+(yScale(yValue)+FRAME_PADDING)+\"px)\",\"-webkit-transform\":\"translate(\"+0+\"px, \"+(yScale(yValue)+FRAME_PADDING)+\"px)\",\"transition-property\":\"transform\",\"-webkit-transition-property\":\"-webkit-transform\",\"-webkit-transition-duration\":\"\"+SHIFT_DURATION+\"s\",\"transition-duration\":\"\"+SHIFT_DURATION+\"s\"}}),React.DOM.text({className:\"canvas-scatter-numLabel\",x:FRAME_PADDING/1.75,y:yScale(yValue)+FRAME_PADDING+4,key:\"YnumLabel-\"+yValue},formatLabels(yValue,false)))});return React.DOM.g(null,xLinesAndLabels,yLinesAndLabels,React.DOM.line({className:\"canvas-scatter-axes\",x1:0,y1:FRAME_PADDING,x2:0,y2:height+FRAME_PADDING,style:{transform:\"translate(\"+axisXVal+\"px, \"+0+\"px)\",\"-webkit-transform\":\"translate(\"+axisXVal+\"px, \"+0+\"px)\",\"transition-property\":\"transform\",\"-webkit-transition-property\":\"-webkit-transform\",\"-webkit-transition-duration\":\"\"+SHIFT_DURATION+\"s\",\"transition-duration\":\"\"+SHIFT_DURATION+\"s\"}}),React.DOM.line({className:\"canvas-scatter-axes\",x1:FRAME_PADDING,y1:0,x2:width+FRAME_PADDING,y2:0,style:{transform:\"translate(\"+0+\"px, \"+axisYVal+\"px)\",\"-webkit-transform\":\"translate(\"+0+\"px, \"+axisYVal+\"px)\",\"transition-property\":\"transform\",\"-webkit-transition-property\":\"-webkit-transform\",\"-webkit-transition-duration\":\"\"+SHIFT_DURATION+\"s\",\"transition-duration\":\"\"+SHIFT_DURATION+\"s\"}}))}});var AxisLabel=React.createClass({displayName:\"AxisLabel\",handleClick:function(evt){var selected_column=[this.props.plotName,this.props.name];this.props.selectVariable(selected_column)},render:function(){var link=this.props.ipython?this.props.name:React.DOM.a({href:\"javascript:\",onClick:this.handleClick},this.props.name);return React.DOM.span({className:\"canvas-scatter-axesLabel\",style:{position:\"absolute\",top:\"\"+this.props.y+\"px\",left:\"\"+this.props.x+\"px\",width:\"\"+this.props.width+\"px\"}},link)}});return{Scatter:React.createClass({displayName:\"Scatter\",getDefaultProps:function(){return{width:500,height:500,data:[],extrema:{minX:0,maxX:10,minY:0,maxY:10},xLabel:\"\",yLabel:\"\",coefficients:{},lineGraph:false,isMetrics:false}},getInitialState:function(){var paddedExtrema=this.props.isMetrics?this.props.extrema:this.padExtrema(this.props.extrema);return{domainToShow:paddedExtrema,gridlinesVisible:true,trendlineVisible:this.props.isMetrics?false:true}},padExtrema:function(extrema){var originalDomain=extrema.maxX-extrema.minX;var originalRange=extrema.maxY-extrema.minY;var paddedExtrema={};paddedExtrema.minX=extrema.minX-PADDING_FRACTION*originalDomain;paddedExtrema.minY=extrema.minY-PADDING_FRACTION*originalRange;paddedExtrema.maxX=extrema.maxX+PADDING_FRACTION*originalDomain;paddedExtrema.maxY=extrema.maxY+PADDING_FRACTION*originalRange;return paddedExtrema},toggleTrendline:function(){this.setState({trendlineVisible:!this.state.trendlineVisible})},toggleGridlines:function(){this.setState({gridlinesVisible:!this.state.gridlinesVisible})},componentWillReceiveProps:function(nextProps){this.setState({domainToShow:nextProps.isMetrics?nextProps.extrema:this.padExtrema(nextProps.extrema)})},render:function(){TICK_HEIGHT=this.props.height/50;TICK_WIDTH=this.props.width/50;var minX=this.state.domainToShow.minX;var minY=this.state.domainToShow.minY;var maxX=this.state.domainToShow.maxX;var maxY=this.state.domainToShow.maxY;if(this.props.lineGraph){var range=maxY-minY;maxY+=range/4;var newMinY=minY-range/4;if(newMinY<0&&minY>=0){newMinY=0}if(newMinY>0&&newMinY-0<range/4){newMinY=0}minY=newMinY}var xScale=d3.scale.linear().domain([minX,maxX]).range([0,this.props.width]);var xTimeScale=d3.time.scale().domain([new Date(minX*1e3),new Date(maxX*1e3)]).range([0,this.props.width]);var yScale=d3.scale.linear().domain([minY,maxY]).range([this.props.height,0]);var trendlineButtonVisiblity=this.props.coefficients.m==null?\"hidden\":\"visible\";function wheelScrolled(e){if(this.props.isMetrics){return}e.preventDefault();var zoomScreenX=e.pageX-$(\".canvas-scatter-rectFrame\").offset().left;var zoomScreenY=e.pageY-$(\".canvas-scatter-rectFrame\").offset().top;if(zoomScreenX<0||zoomScreenX>this.props.width||zoomScreenY<0||zoomScreenY>this.props.height){return}var zoomValueX=xScale.invert(zoomScreenX);var zoomValueY=yScale.invert(zoomScreenY);if(e.deltaY<0){var newDomainXSize=(this.state.domainToShow.maxX-this.state.domainToShow.minX)*SCROLL_DOMAIN_FRACTION;var newDomainYSize=(this.state.domainToShow.maxY-this.state.domainToShow.minY)*SCROLL_DOMAIN_FRACTION;var newDomainToShow={};if(zoomValueX-newDomainXSize/2<this.state.domainToShow.minX){newDomainToShow.minX=this.state.domainToShow.minX;newDomainToShow.maxX=this.state.domainToShow.minX+newDomainXSize}else if(zoomValueX+newDomainXSize/2>this.state.domainToShow.maxX){newDomainToShow.maxX=this.state.domainToShow.maxX;newDomainToShow.minX=this.state.domainToShow.maxX-newDomainXSize}else{newDomainToShow.minX=zoomValueX-newDomainXSize/2;newDomainToShow.maxX=zoomValueX+newDomainXSize/2}if(zoomValueY-newDomainYSize/2<this.state.domainToShow.minY){newDomainToShow.minY=this.state.domainToShow.minY;newDomainToShow.maxY=this.state.domainToShow.minY+newDomainYSize}else if(zoomValueY+newDomainYSize/2>this.state.domainToShow.maxY){newDomainToShow.maxY=this.state.domainToShow.maxY;newDomainToShow.minY=this.state.domainToShow.maxY-newDomainYSize}else{newDomainToShow.minY=zoomValueY-newDomainYSize/2;newDomainToShow.maxY=zoomValueY+newDomainYSize/2}this.setState({domainToShow:newDomainToShow})}else{this.setState({domainToShow:this.padExtrema(this.props.extrema)})}}return React.DOM.div({className:\"canvas-scatter-frame\"},React.DOM.svg({className:\"canvas-scatter-svgFrame\",width:this.props.width+2*FRAME_PADDING,height:this.props.height+2*FRAME_PADDING,onWheel:wheelScrolled.bind(this)},React.DOM.rect({className:\"canvas-scatter-rectFrame\",width:this.props.width,height:this.props.height,x:FRAME_PADDING,y:FRAME_PADDING}),AxisRenderer({xScaleFunc:xScale,xTimeScaleFunc:xTimeScale,yScaleFunc:yScale,width:this.props.width,height:this.props.height,gridlinesVisible:this.state.gridlinesVisible,isMetrics:this.props.isMetrics}),TrendlineRenderer({xScaleFunc:xScale,yScaleFunc:yScale,width:this.props.width,height:this.props.height,coefficients:this.props.coefficients,trendlineVisible:this.state.trendlineVisible}),PointsRenderer({data:this.props.data,xScaleFunc:xScale,yScaleFunc:yScale,height:this.props.height,width:this.props.width,shouldShowLineGraph:this.props.lineGraph})),function(){if(!this.props.isMetrics){return React.DOM.div(null,React.DOM.input({className:\"canvas-scatter-toggleButton\",type:\"checkbox\",name:\"trendlineToggle\",onClick:this.toggleTrendline,style:{position:\"absolute\",top:\"\"+(this.props.height+2*FRAME_PADDING-25)/2+\"px\",left:\"\"+(this.props.width+1.5*FRAME_PADDING)+\"px\",visibility:trendlineButtonVisiblity}}),React.DOM.p({className:\"canvas-scatter-toggleLabel\",style:{position:\"absolute\",top:\"\"+(this.props.height+2*FRAME_PADDING-25)/2+\"px\",left:\"\"+(this.props.width+1.75*FRAME_PADDING)+\"px\",visibility:trendlineButtonVisiblity}},\"Toggle trendline\"),React.DOM.input({className:\"canvas-scatter-toggleButton\",type:\"checkbox\",name:\"gridlineToggle\",onClick:this.toggleGridlines,style:{position:\"absolute\",top:\"\"+(this.props.height+2*FRAME_PADDING+25)/2+\"px\",left:\"\"+(this.props.width+1.5*FRAME_PADDING)+\"px\"}}),React.DOM.p({className:\"canvas-scatter-toggleLabel\",style:{position:\"absolute\",top:\"\"+(this.props.height+2*FRAME_PADDING+25)/2+\"px\",left:\"\"+(this.props.width+1.75*FRAME_PADDING)+\"px\"}},\"Toggle gridlines\"))}}.bind(this),[{name:this.props.xLabel,x:FRAME_PADDING,y:this.props.height+FRAME_PADDING*1.5,width:this.props.width},{name:this.props.yLabel,x:0,y:FRAME_PADDING/2.5,width:\"auto\"}].map(function(axis,idx){return AxisLabel({key:idx,name:axis.name,selectVariable:this.props.selectVariable,plotName:this.props.plotName,x:axis.x,y:axis.y,width:axis.width,ipython:this.props.ipython})}.bind(this)))}})}});\n",
        "define(\"plots\",[\"common_util\",\"plot_frequency\",\"plot_box\",\"plot_boxes\",\"plot_quantilehist\",\"plot_graph\",\"plot_scatter\",\"plot_heatmap\",\"plot_bar\"],function(Util){\"use strict\";var ret={};var args=Array.prototype.slice.call(arguments,1);for(var i=0;i<args.length;i++){for(var j in args[i]){if(args[i].hasOwnProperty(j)){Util.assert(!(j in ret));ret[j]=args[i][j]}}}return ret});\n",
        "define(\"bar\",[\"react\",\"plots\",\"common_util\",\"taskqueue\",\"common_controls\"],function(React,Plots,Util,TaskQueue,Controls){\"use strict\";return{View:React.createClass({mixins:[Controls.AsyncState],getInitialState:function(props){if(!props){props=this.props}return{barData:props.ipython?props.barData:[],numLabel:props.selected_variable.view_params.y,catLabel:props.selected_variable.view_params.x,extrema:props.ipython?props.extrema:{},width:500,height:500}},updateAsyncState:function(nextProps){if(nextProps.selected_variable.descriptives.rows<=100){var pageTasks=[];pageTasks.push(new TaskQueue.SingleTask(\"/bar_values\",\".values()\").done(function(data){this.setState({barData:data[\"data\"]})}.bind(this)));pageTasks.push(new TaskQueue.SingleTask(\"/extrema\",\".extrema()\").done(function(data){this.setState({extrema:data})}.bind(this)));this.addTask(new TaskQueue.MultiTask(pageTasks))}},render:function(){if(this.props.selected_variable.descriptives.rows>100){return React.DOM.p(null,\"Bar charts can only be used on SFrames with fewer than 100 rows. You can use \",React.DOM.code(null,React.DOM.a({target:\"_blank\",href:\"https://dato.com/products/create/docs/generated/graphlab.SFrame.groupby.html#graphlab.SFrame.groupby\"},\"groupby\")),\" to aggregate the data in this SFrame to a suitable size for a bar chart, or choose a smaller SFrame.\")}if(this.state.barData.length==0||this.state.extrema.min==null){return React.DOM.div(null)}return Plots.Bar({barData:this.state.barData,catLabel:this.state.catLabel,numLabel:this.state.numLabel,extrema:this.state.extrema,width:this.state.width,height:this.state.height,selectVariable:this.props.selectVariable,ipython:this.props.ipython,plotName:this.props.selected_variable.name[0]})}})}});\n",
        "define(\"heatmap\",[\"react\",\"plots\",\"common_util\",\"taskqueue\",\"common_controls\"],function(React,Plots,Util,TaskQueue,Controls){\"use strict\";return{View:React.createClass({mixins:[Controls.AsyncState],getInitialState:function(props){if(!props){props=this.props}return{extrema:props.ipython?props.extrema:{},domainToShow:props.ipython?props.domainToShow:{},xLabel:props.selected_variable.view_params.x,yLabel:props.selected_variable.view_params.y,width:500,height:500,shouldShowStopDownload:false,pointsLoaded:props.ipython?props.pointsLoaded:0,binData:props.ipython?props:{}}},updateAsyncState:function(nextProps){this.setState({numValues:nextProps.selected_variable.descriptives.rows});var view_params=Util.tryGetProperty(nextProps,[\"selected_variable\",\"view_params\"]);var x=Util.tryGetProperty(view_params,\"x\");var y=Util.tryGetProperty(view_params,\"y\");if(x&&y){this.addTask(new TaskQueue.ProgressTask(\"/bins\",\".bins()\",function(data){this.setState({shouldShowStopDownload:!data[\"complete\"],binData:data,extrema:data[\"extrema\"],pointsLoaded:data[\"pointsLoaded\"],domainToShow:data[\"domainToShow\"]})}.bind(this)))}},cancelTasks:function(){this.cancelAllTasks();this.setState({shouldShowStopDownload:false})},render:function(){var plotToShow;var button=null;var pointsLoaded=null;var br=null;if(this.state.extrema.minX==null||this.state.domainToShow.minX==null||this.state.binData.bins==null)return React.DOM.div(null,\" \");plotToShow=Plots.Heatmap({bins:this.state.binData.bins,binWidth:this.state.binData.binWidth,binHeight:this.state.binData.binHeight,extrema:this.state.extrema,domainToShow:this.state.domainToShow,xLabel:this.state.xLabel,yLabel:this.state.yLabel,width:this.state.width,height:this.state.height,numValues:this.state.numValues,selectVariable:this.props.selectVariable,plotName:this.props.selected_variable.name[0],ipython:this.props.ipython});if(this.state.shouldShowStopDownload){pointsLoaded=React.DOM.p(null,\"Rows Loaded: \",this.state.pointsLoaded);button=React.DOM.button({className:\"canvas-scatter-stopDownloadButton\",type:\"button\",onClick:this.cancelTasks,style:{color:\"red\"}},\"Stop Retrieving Data\");br=React.DOM.br(null)}return React.DOM.div(null,pointsLoaded,button,br,React.DOM.div({className:\"canvas-scatter-title\",style:{width:\"\"+this.state.width,\"padding-left\":\"\"+(this.state.width-325)/2,\"margin-left\":\"\"+75}}),plotToShow)}})}});\n",
        "define(\"scatter\",[\"react\",\"plots\",\"common_util\",\"taskqueue\",\"common_controls\"],function(React,Plots,Util,TaskQueue,Controls){\"use strict\";var currentPageTask;var SCATTER_THRESHOLD=5e3;var View=React.createClass({displayName:\"View\",mixins:[Controls.AsyncState],getInitialState:function(props){if(!props){props=this.props}return{pointsList:props.ipython?props.pointsList:[],extrema:props.ipython?props.extrema:{},coefficients:props.ipython?props.coefficients:{},xLabel:props.selected_variable.view_params.x,yLabel:props.selected_variable.view_params.y,width:500,height:500}},updateAsyncState:function(props){if(props.selected_variable.descriptives.rows>SCATTER_THRESHOLD)return;this.updateData()},updateData:function(){var pageTasks=[];pageTasks.push(new TaskQueue.SingleTask(\"/scatter_values\",\".values()\").done(function(data){this.setState({pointsList:data[\"data\"]})}.bind(this)));pageTasks.push(new TaskQueue.SingleTask(\"/coefficients\",\".coefficients()\").done(function(data){this.setState({coefficients:data})}.bind(this)));pageTasks.push(new TaskQueue.SingleTask(\"/sketchvalues\",\".sketchvalues()\").done(function(data){this.setState({extrema:data})}.bind(this)));currentPageTask=new TaskQueue.MultiTask(pageTasks);this.addTask(currentPageTask)},getDefaultProps:function(){return{lineGraph:false}},render:function(){var unableToShowScatter=this.props.selected_variable.descriptives.rows>SCATTER_THRESHOLD;if(unableToShowScatter){return React.DOM.p(null,\"Scatter plots can only be used on SFrames with fewer than 5000 rows. You can use \",React.DOM.code(null,React.DOM.a({target:\"_blank\",href:\"https://dato.com/products/create/docs/generated/graphlab.SFrame.groupby.html#graphlab.SFrame.groupby\"},\"groupby\")),\" to aggregate the data in this SFrame to a suitable size, choose a smaller SFrame, or use a heat map.\")}var plotToShow;if(this.state.pointsList.length==0||this.state.extrema.minX==null)return React.DOM.div(null,\" \");plotToShow=Plots.Scatter({data:this.state.pointsList,extrema:this.state.extrema,xLabel:this.state.xLabel,yLabel:this.state.yLabel,width:this.state.width,height:this.state.height,coefficients:this.state.coefficients,selectVariable:this.props.selectVariable,plotName:this.props.selected_variable.name[0],lineGraph:this.props.lineGraph,ipython:this.props.ipython});return plotToShow}});return{\"Line Chart\":React.createClass({getDefaultProps:function(){return{lineGraph:true}},render:function(){if(this.props.selected_variable.descriptives.rows>500){return React.DOM.p(null,\"Line charts can only be used on SFrames with fewer than 500 rows. You can use \",React.DOM.code(null,React.DOM.a({target:\"_blank\",href:\"https://graphlab.com/products/create/docs/generated/graphlab.SFrame.groupby.html#graphlab.SFrame.groupby\"},\"groupby\")),\" to aggregate the data in this SFrame to a suitable size for a line chart, or choose a smaller SFrame.\")}return this.transferPropsTo(View())}}),View:View}});\n",
        "define(\"sframe\",[\"react\",\"plots\",\"page_layout\",\"common_util\",\"taskqueue\",\"common_controls\",\"logging\",\"jquery\",\"lodash\",\"d3\",\"scatter\",\"bar\",\"heatmap\",\"table\"],function(React,Plots,PageLayout,Util,TaskQueue,Controls,Logging,jQuery,_,d3,Scatter,Bar,HeatMap,Table){\"use strict\";var _getColumns=Table.TabularView.getColumns;var ColumnView=React.createClass({displayName:\"ColumnView\",mixins:[Controls.AsyncState,Controls.Menu,Controls.Searchable],getInitialState:function(props){if(!props){props=this.props}return{sortColumn:0,sortDesc:false,visibleColumns:props.selected_variable.view_params.columns}},getColumns:function(props){return Util.tryGetProperty(props.selected_variable,\"columns\",[])},updateAsyncState:function(nextProps){this.setState(this.getInitialState())},onSort:function(sortColumn,sortDesc){this.setState({sortColumn:sortColumn,sortDesc:sortDesc})},toggleColumn:function(col){var visibleIdx=this.state.visibleColumns.indexOf(col.name);var newColumns;if(visibleIdx===-1){newColumns=this.state.visibleColumns.slice().concat([col.name])}else{newColumns=this.state.visibleColumns.slice();newColumns.splice(visibleIdx,1)}this.setState({visibleColumns:newColumns})},setColumns:function(){$.post(\"/columns\",{columns:JSON.stringify(this.state.visibleColumns),_xsrf:Util.getCookie(\"_xsrf\")}).done(function(){this.props.modalClose()}.bind(this))},render:function(){var columns=this.getColumns(this.props);var visibleColumns=this.state.visibleColumns;var toggleFn=this.toggleColumn;var loading={};var headers=[\"Index\",\"Name\",\"Type\",\"\"];var data=columns.map(function(column,i){return[i,column.name,column.dtype,null]}.bind(this)).filter(function(row,i){if(this.state.search_value===\"\"){return true}var matches=false;row.forEach(function(val,idx,arr){if(String(val).toLocaleLowerCase().indexOf(this.state.search_value.toLocaleLowerCase())===0){matches=true}}.bind(this));return matches}.bind(this));var sortableRange=headers.length-1;var sortable=d3.range(sortableRange).filter(function(i){if(i in loading){return false}return true}.bind(this));return React.DOM.div({style:{position:\"relative\"}},React.DOM.div({style:{position:\"absolute\",top:0,right:0,zIndex:5e3}},React.DOM.a({href:\"javascript:\",onClick:this.props.modalClose},React.DOM.i({className:\"fa fa-times fa-lg\",style:{color:\"black\"}}))),React.DOM.div({className:\"container-fluid\",style:{color:\"black\"}},React.DOM.div({className:\"row\"},React.DOM.div({className:\"col-xs-6\"},React.DOM.h3(null,\"All Columns\"),React.DOM.div({style:{margin:\"14px 0px\"}},React.DOM.div({style:{display:\"inline-block\"}},this.getSearchBox(\"Search/Filter by Keyword\",{border:\"1px solid #dedede\",width:192,height:24,paddingLeft:10}))),Controls.SortableTable({headers:headers,types:[\"number\",\"string\",\"string\",null],data:data,sortable:sortable,sortColumn:this.state.sortColumn,sortDesc:this.state.sortDesc,onSort:this.onSort,style:{height:400,overflowY:\"scroll\",display:\"inline-block\",width:\"100%\"},tableStyle:{width:\"100%\"},renderTD:false,getValue:function(data,rowIdx,colIdx){if(rowIdx===null){var sortLink=null;if(this.props.sortable.indexOf(colIdx)!=-1){var className=\"fa fa-sort\";if(this.props.sortColumn===colIdx){if(this.props.types[colIdx]===\"number\"){className+=\"-numeric\"}else if(this.props.types[colIdx]===\"string\"){className+=\"-alpha\"}}if(this.props.sortColumn===colIdx&&this.props.sortDesc){className+=\"-desc\"}else if(this.props.sortColumn===colIdx){className+=\"-asc\"}sortLink=React.DOM.a({onClick:this.sort.bind(this,colIdx),href:\"javascript:\"},React.DOM.i({className:className,style:{marginLeft:6,marginRight:6,color:\"white\"}}))}return React.DOM.div({style:{paddingLeft:12,paddingRight:6,backgroundColor:\"#bbb\",color:\"white\",width:\"100%\",height:23,fontWeight:500,fontSize:12,lineHeight:\"23px\"}},data[colIdx],sortLink)}var style={borderLeft:\"1px solid #dedede\",lineHeight:\"40px\",height:40,paddingLeft:14,paddingRight:14};var tdStyle={padding:0,verticalAlign:\"middle\",border:\"none\"};var contents=colIdx===headers.length-1?React.DOM.a({href:\"javascript:\",onClick:toggleFn.bind(null,columns[data[rowIdx][0]])},visibleColumns.indexOf(data[rowIdx][1])!==-1?React.DOM.i({className:\"fa fa-eye\",style:{color:\"#0a8cc4\"}}):React.DOM.i({className:\"fa fa-eye-slash\",style:{color:\"#b8b8b8\"}})):data[rowIdx][colIdx];if(colIdx===0){style[\"paddingLeft\"]=30}if(rowIdx%2===0){style[\"backgroundColor\"]=\"#f7f7f7\"}if(colIdx===1){tdStyle[\"width\"]=\"100%\";style[\"position\"]=\"relative\";style[\"paddingLeft\"]=0;style[\"paddingRight\"]=0;contents=React.DOM.div({style:{position:\"absolute\",overflow:\"hidden\",textOverflow:\"ellipsis\",width:\"100%\",whiteSpace:\"nowrap\",margin:\"auto\",top:0,bottom:0,paddingLeft:14,paddingRight:14}},contents)}return React.DOM.td({style:tdStyle,key:colIdx},React.DOM.div({style:style},contents))}})),React.DOM.div({className:\"col-xs-6\"},React.DOM.h3(null,\"Visible Columns\"),React.DOM.p(null,\"Choose which columns will be available in the Summary, Table,\"+\" \"+\"and Plots tabs.\"),React.DOM.div({style:{backgroundColor:\"#f0f0f0\",width:\"100%\",padding:10,height:400,overflowY:\"scroll\",display:\"inline-block\"}},React.DOM.table(null,React.DOM.tbody(null,columns.map(function(col,idx){if(visibleColumns.indexOf(col.name)===-1){return null}return React.DOM.tr({key:idx,style:{backgroundColor:\"white\",width:\"100%\",height:38,marginTop:2,marginBottom:2,lineHeight:\"38px\"}},React.DOM.td({style:{width:\"50%\"}},React.DOM.span({style:{paddingLeft:16}},idx),React.DOM.span({style:{paddingLeft:28}},col.name)),React.DOM.td({style:{width:\"50%\"}},React.DOM.span(null,\"(\",col.dtype,\")\")),React.DOM.td({style:{width:38,borderLeft:\"1px solid #dedede\"}},React.DOM.a({href:\"javascript:\",onClick:toggleFn.bind(null,columns[idx])},React.DOM.i({className:\"fa fa-eye\",style:{color:\"#0a8cc4\",paddingLeft:8,paddingRight:8}}))))}.bind(this))))))),React.DOM.div({className:\"row\"},React.DOM.div({className:\"col-xs-12\"},React.DOM.div({style:{\"float\":\"right\"}},Controls.Button({onClick:this.setColumns,style:{width:130,marginTop:16}},\"View Columns\"))))))}});var SingleColumn=React.createClass({displayName:\"SingleColumn\",render:function(){var rows=Util.tryGetProperty(this.props.selected_variable,[\"descriptives\",\"rows\"],0);if(rows===0){return React.DOM.div(null,React.DOM.h5(null,\"No data in this column.\"))}var formatSArrayValue=_.memoize(Util.formatSArrayValue,JSON.stringify);var categorical=!Util.tryGetProperty(this.props.sketch,\"numeric\",false);var dtype=Util.tryGetProperty(this.props.column,\"dtype\");var summaryPlots=[];if(dtype===\"dict\"){var keysSketch=Util.tryGetProperty(this.props.sketch,\"keys\",{});var valuesSketch=Util.tryGetProperty(this.props.sketch,\"values\",{});var valuesNumeric=Util.tryGetProperty(valuesSketch,\"numeric\",false);var valueDescription=valuesNumeric?\"distribution of values (all keys):\":\"frequent items (all keys):\";summaryPlots.push(React.DOM.div({key:\"dict_summary\"},React.DOM.div({className:\"canvas-sframe-summary-plot-title\"},\"frequent keys:\"),SummaryPlot({data:keysSketch,categorical:!Util.tryGetProperty(keysSketch,\"numeric\",false),maxItems:5}),React.DOM.div({className:\"canvas-sframe-summary-plot-title\"},valueDescription),SummaryPlot({data:valuesSketch,categorical:!Util.tryGetProperty(valuesSketch,\"numeric\",false),width:32,vertical:true,maxItems:5})))}else if(dtype!==\"Image\"){var description=categorical?\"frequent items\":\"distribution of values\";if(dtype===\"list\"||dtype===\"array\"){description+=\" (all sub-columns)\"}summaryPlots.push(React.DOM.div({key:\"nondict_summary\"},React.DOM.div({className:\"canvas-sframe-summary-plot-title\"},description,\":\"),SummaryPlot({data:this.props.sketch,categorical:categorical,width:32,vertical:true,maxItems:12})))}else{var sampleImages=Util.tryGetProperty(this.props.sketch,\"samples\",[]);summaryPlots.push(React.DOM.div({key:\"nondict_summary\"},React.DOM.div({className:\"canvas-sframe-summary-plot-title\"},\"First 4 images:\"),sampleImages.map(function(image,i){var displayImage=formatSArrayValue(image,66);return React.DOM.div({style:{paddingBottom:\"4px\"}},displayImage)})))}var loading=!(\"complete\"in this.props.sketch)||!this.props.sketch.complete;var num_unique=dtype===\"dict\"?SummaryStatistic({name:\"unique keys (est.)\",value:Util.tryGetProperty(this.props.sketch,[\"keys\",\"num_unique\"]),loading:loading}):dtype!==\"Image\"?SummaryStatistic({name:\"num_unique (est.)\",value:this.props.sketch.num_unique,loading:loading}):null;var additionalStats=!categorical?[\"min\",\"max\",\"mean\",\"std\"].map(function(stat,idx){return SummaryStatistic({key:idx,name:stat,value:this.props.sketch[stat],loading:false})}.bind(this)):null;var num_undefined=dtype!==\"Image\"?SummaryStatistic({name:\"num_undefined\",value:this.props.sketch.num_undefined,loading:loading}):null;return React.DOM.div(null,React.DOM.table({className:\"canvas-sframe-inner-table\"},React.DOM.tbody(null,SummaryStatistic({name:\"dtype\",value:dtype}),num_unique,num_undefined,additionalStats)),summaryPlots)}});var ColumnFrequencyPlot=React.createClass({displayName:\"ColumnFrequencyPlot\",render:function(){if(!(\"frequent_items\"in this.props.data)||this.props.data.frequent_items.length===0){return React.DOM.div(null)}var width=176;var maxItems=Util.tryGetProperty(this.props,\"maxItems\",10);var sorted=Util.sortFrequentItems(this.props.data.frequent_items,maxItems);if(sorted.length===0){return React.DOM.div({className:\"canvas-sframe-summary-statistic-name\"},\"No values appear with \u2265 0.01% occurrence.\")}var scale=d3.scale.linear().domain([0,sorted[0].value.frequency]).range([0,width]);return React.DOM.div(null,React.DOM.table(null,React.DOM.tbody(null,sorted.map(function(pair,idx){var label=Util.formatSArrayValue(pair.value.value,20);return React.DOM.tr({key:idx},React.DOM.td({style:{position:\"relative\",width:width,height:22}},React.DOM.div({style:{position:\"absolute\",left:0,top:0,width:scale(pair.value.frequency),height:20,backgroundColor:\"rgba(133, 189, 0, 0.2)\"}}),React.DOM.div({style:{paddingLeft:8,paddingRight:8,width:width,height:20,overflow:\"hidden\",textOverflow:\"ellipsis\",whiteSpace:\"nowrap\"}},label)))}.bind(this)))))}});var SummaryPlot=React.createClass({displayName:\"SummaryPlot\",render:function(){var plot=this.props.categorical?ColumnFrequencyPlot():Plots.BoxAndWhisker();return React.DOM.div({className:\"canvas-sframe-column-plot\"},this.transferPropsTo(plot))}});var SummaryStatistic=React.createClass({displayName:\"SummaryStatistic\",render:function(){var value=this.props.value;if(this.props.loading){value=React.DOM.span({style:{position:\"relative\",marginLeft:30,marginRight:-10}},React.DOM.i({className:\"fa-li fa fa-spinner fa-spin\"}))}else if(typeof value===\"number\"){value=Util.formatNumber(value)}return React.DOM.tr(null,React.DOM.td({className:\"canvas-sframe-summary-statistic-name\"},this.props.name,\":\u00a0\"),React.DOM.td({className:\"canvas-sframe-summary-statistic-value\"},value))}});var SummaryView=React.createClass({displayName:\"SummaryView\",mixins:[Controls.AsyncState],getInitialState:function(props){if(!props){props=this.props}if(props.ipython===true){return{sketch:props.sketch,getColumns:_.memoize(_getColumns)}}return{sketch:{},getColumns:_.memoize(_getColumns)}},updateAsyncState:function(nextProps){if(Util.tryGetProperty(nextProps,[\"tab\",\"visible\"],undefined)===false){this.cancelAllTasks();return}this.setState({getColumns:_.memoize(_getColumns)},function(){var rows=Util.tryGetProperty(nextProps.selected_variable,[\"descriptives\",\"rows\"],0);if(rows!==0){this.addTask(new TaskQueue.SingleTask(\"/cached_sketches\",\"cached sketch summaries\").done(function(data){var sketch={};var pageTasks=[];this.state.getColumns(this.props).forEach(function(colObj,idx){var column=colObj.name;if(data[column]!==null){sketch[column]=data[column]}if(data[column]===null||!data[column].complete){var columnURL=Util.escapeURL(column);pageTasks.push(new TaskQueue.ProgressTask(\"/sketch/\"+columnURL,'[\"'+column+'\"].sketch_summary()',function(data){var sketch={};sketch[column]=data;this.setState({sketch:Util.merge(this.state.sketch,sketch)})}.bind(this),Util.getSketchPollInterval(rows)).fail(function(){if(this.canceled&&this.running()){$.get(\"/cancel_sketch/\"+columnURL)}}))}}.bind(this));this.setState({sketch:sketch},function(){this.addTask(new TaskQueue.MultiTask(pageTasks).always(function(){var metric=(this.canceled?\"page_task\":\"page_task.canceled\")+\".duration.ms\";Logging.reportMetric(metric,this.elapsed(),{operation:this.operation(),type:\"SFrame\"})}))}.bind(this))}.bind(this)))}}.bind(this))},render:function(){var columns=this.state.getColumns(this.props);var ipythonStyle=this.props.ipython?{\"overflow-x\":\"auto\",maxHeight:600}:{height:PageLayout.contentHeight(),width:PageLayout.contentWidth(),overflow:\"auto\"};return React.DOM.div({style:ipythonStyle},React.DOM.table({className:\"canvas canvas-sframe-table\"},React.DOM.thead(null,React.DOM.tr(null,columns.map(function(column){return React.DOM.th({key:column.name,className:\"padding\"},Table.Column({selectVariable:this.props.selectVariable,selected_variable:this.props.selected_variable,name:column.name,ipython:this.props.ipython}))}.bind(this)))),React.DOM.tbody(null,React.DOM.tr(null,columns.map(function(column){return React.DOM.td({key:column.name,className:\"padding\"},SingleColumn({sketch:Util.tryGetProperty(this.state.sketch,column.name,{}),column:column,selected_variable:this.props.selected_variable}))}.bind(this))))))}});var PlotAxisPicker=React.createClass({displayName:\"PlotAxisPicker\",render:function(){return this.transferPropsTo(React.DOM.div({style:{display:\"inline-block\",verticalAlign:\"top\",marginTop:15}},React.DOM.label(null,React.DOM.div(null,this.props.label),React.DOM.select({onChange:this.props.onSelect,value:this.props.selected},this.props.options.map(function(opt,idx){return React.DOM.option({key:idx,value:opt},opt)}.bind(this))))))}});var PlotCreator=React.createClass({displayName:\"PlotCreator\",statics:{plotTypes:[[\"Scatter Plot\",\"scatter\"],[\"Heat Map\",\"heatmap\"],[\"Bar Chart\",\"bar\"],[\"Line Chart\",\"line\"]]},getInitialState:function(props){if(!props){props=this.props}var view_params=props.selected_variable.view_params;var view=view_params.view;var columnsX=this.getColumns(\"x\",props);var columnsY=this.getColumns(\"y\",props);var ret={selectedPlotType:this.constructor.plotTypes[0],axis1:view_params[\"x\"],axis2:view_params[\"y\"]};if(view!=null){var selectedPlotType=_.find(this.constructor.plotTypes,function(t){return t[0]==view}.bind(this));if(selectedPlotType){ret.selectedPlotType=selectedPlotType}}if(!ret.axis1){ret.axis1=Util.tryGetProperty(columnsX,0)}if(!ret.axis2){ret.axis2=Util.tryGetProperty(columnsY,0)}return ret},componentWillReceiveProps:function(nextProps){if(!Util.deepEquals(this.props,nextProps)){this.setState(this.getInitialState(nextProps))}},selectPlotType:function(plotType){this.setState({selectedPlotType:plotType})},selectAxis:function(axis,evt){var newState={};newState[axis]=evt.target.value;this.setState(newState)},includeColumn:function(axis,col){var selectedPlotType=Util.tryGetProperty(this.state,\"selectedPlotType\",this.constructor.plotTypes[0])[0];if(axis===\"y\"||selectedPlotType===\"Scatter Plot\"||selectedPlotType===\"Line Chart\"||selectedPlotType===\"Heat Map\"){return col.dtype===\"int\"||col.dtype===\"float\"}else{Util.assert(axis===\"x\");Util.assert(selectedPlotType===\"Bar Chart\");return col.dtype===\"int\"||col.dtype===\"float\"||col.dtype===\"str\"}},getColumnName:function(col){return col.name},getColumns:function(axis,props){if(!props){props=this.props}return props.selected_variable.columns.filter(this.includeColumn.bind(this,axis)).map(this.getColumnName)},render:function(){return React.DOM.div({style:{height:86,borderBottom:\"1px solid #c5c5c5\"}},this.constructor.plotTypes.map(function(plotType,idx){var selected=plotType[0]==this.state.selectedPlotType[0];return React.DOM.a({key:idx,style:{paddingLeft:3,paddingRight:12,paddingTop:3,paddingBottom:0,display:\"inline-block\"},onClick:this.selectPlotType.bind(this,plotType),href:\"javascript:\"},React.DOM.img({src:\"/images/sframe_plot_\"+plotType[1]+\".png\",style:{marginBottom:4,border:selected?\"2px solid #ff5500\":\"2px solid transparent\",width:66,height:50}}),React.DOM.div({style:{fontSize:12,textAlign:\"center\",color:selected?\"#ff5500\":\"#0a8cc4\"}},plotType[0]))}.bind(this)),PlotAxisPicker({label:this.state.selectedPlotType[1]===\"geo\"?\"Latitude\":\"X axis\",options:this.getColumns(\"x\"),selected:this.state.axis1,onSelect:this.selectAxis.bind(this,\"axis1\"),style:{marginLeft:70}}),PlotAxisPicker({label:this.state.selectedPlotType[1]===\"geo\"?\"Longitude\":\"Y axis\",options:this.getColumns(\"y\"),selected:this.state.axis2,onSelect:this.selectAxis.bind(this,\"axis2\"),style:{marginLeft:20}}),Controls.Button({onClick:this.props.show.bind(null,this.state.selectedPlotType,this.state.axis1,this.state.axis2),disabled:!(this.state.axis1&&this.state.axis2),style:{marginTop:28,verticalAlign:\"top\",marginLeft:30}},\"Show\"))}});var PlotsView=React.createClass({displayName:\"PlotsView\",getInitialState:function(){return{plotType:null,col1:null,col2:null}},componentWillReceiveProps:function(nextProps){if(!Util.deepEquals(this.props.selected_variable.name,nextProps.selected_variable.name)||!Util.deepEquals(this.props.selected_variable.column_identifiers,nextProps.selected_variable.column_identifiers)){this.setState(this.getInitialState())}},show:function(plotType,col1,col2){this.setState({plotType:plotType,col1:col1,col2:col2},function(){$.post(\"/plot_params\",{view:plotType[0],col1:col1,col2:col2,col3:null,_xsrf:Util.getCookie(\"_xsrf\")})})},render:function(){var plot=null;var view=Util.tryGetProperty(this.props.selected_variable.view_params,\"view\");if(view!==null){plot={\"Bar Chart\":Bar.View,\"Line Chart\":Scatter[\"Line Chart\"],\"Scatter Plot\":Scatter.View,\"Heat Map\":HeatMap.View}[view];if(plot){plot=this.transferPropsTo(plot(null))}}var plotCreator=this.props.ipython?null:PlotCreator({show:this.show,selected_variable:this.props.selected_variable});return React.DOM.div(null,plotCreator,plot)}});var viewComponents={Summary:SummaryView,Table:Table.TabularView,Plots:PlotsView};var views=Object.keys(viewComponents).map(function(c){var viewComponent=viewComponents[c];return[c,React.createClass({render:function(){return React.DOM.div(null,viewComponent(this.props))}})]});viewComponents[\"View\"]=React.createClass({mixins:[Controls.Modal],openColumnPicker:function(){this.modalOpen(\"\",ColumnView({selectVariable:this.props.selectVariable,selected_variable:this.props.selected_variable,shown:this.props.selected_variable.view_params.columns,modalClose:this.modalClose}),\"modal-lg\")},shouldComponentUpdate:function(nextProps,nextState){var ret=!Util.deepEquals(this.props,nextProps)||!Util.deepEquals(this.state,nextState);return ret},render:function(){var Tabs=Controls.Tabs;return React.DOM.div(null,React.DOM.div({style:{marginRight:20,marginTop:10,marginBottom:20}},React.DOM.div({style:{display:\"inline-block\",marginRight:20}},\"Showing \",this.props.selected_variable.view_params.columns.length,\" of \",this.props.selected_variable.descriptives.columns,\" columns.\"),Controls.Button({onClick:this.openColumnPicker},React.DOM.i({className:\"fa fa-pencil\"}),\"\u00a0\"+\" \"+\"Select Visible Columns\")),Tabs({selectVariable:this.props.selectVariable,selected_variable:Util.merge(this.props.selected_variable,{columns:this.props.selected_variable.columns.filter(function(c){return this.props.selected_variable.view_params.columns.indexOf(c.name)!==-1}.bind(this))}),openColumnPicker:this.openColumnPicker,tabs:views,initialTab:this.props.selected_variable.view_component}),this.getModal())}});return viewComponents});\n",
        "define(\"sarray\",[\"react\",\"d3\",\"plots\",\"common_util\",\"taskqueue\",\"common_controls\",\"logging\"],function(React,d3,Plots,Util,TaskQueue,Controls,Logging){\"use strict\";var ImageView=React.createClass({displayName:\"ImageView\",mixins:[Controls.AsyncState,Controls.SizeToWindow],getInitialState:function(){return{images:this.props.ipython?this.props.rows:[]}},updateAsyncState:function(nextProps){var rows=Util.tryGetProperty(this.props.selected_variable,[\"descriptives\",\"rows\"],0);if(rows!==0){this.addTask(new TaskQueue.SingleTask(\"/rows/0/20\",\"get_rows\").done(function(data){this.setState({images:data.values})}.bind(this)))}},render:function(){var name=this.props.selected_variable.name;var selected_column=Array.isArray(name)?name[name.length-1]:name;var rows=Util.tryGetProperty(this.props.selected_variable,[\"descriptives\",\"rows\"],0);var header=\"All \"+String(rows)+\" images in \";if(rows>=20){header=\"The first 20 images in \"}return React.DOM.div({className:\"tab-content\",style:{\"max-width\":this.state.windowWidth-(190+50),\"max-height\":this.props.ipython?\"none\":this.state.windowHeight-(74+50),overflow:\"auto\"}},React.DOM.div({className:\"canvas canvas-view-main sarray\"},React.DOM.h3(null,header,\" \",React.DOM.em(null,selected_column)),this.state.images.map(function(image,idx){return React.DOM.div({key:idx,style:{padding:10,margin:10,border:\"1px solid #5e5555\",display:\"inline-block\"}},Util.formatSArrayValue(image,200))}.bind(this))))}});var CategoricalView=React.createClass({displayName:\"CategoricalView\",statics:{tabName:\"Categorical\"},getInitialState:function(){return{frequentItemsShown:30}},getDefaultProps:function(){return{show_title:true}},showMoreFrequentItems:function(){this.setState({frequentItemsShown:this.state.frequentItemsShown+30})},render:function(){var sketch=this.props.sketch;var frequent_items=Util.tryGetProperty(sketch,\"frequent_items\",[]);var showMoreLink=Object.keys(frequent_items).length>this.state.frequentItemsShown?React.DOM.div(null,React.DOM.a({href:\"javascript:\",onClick:this.showMoreFrequentItems},\"Show More\")):null;frequent_items=Util.sortFrequentItems(frequent_items,this.state.frequentItemsShown);var tableValues=frequent_items.map(function(item){return[Util.formatSArrayValue(item.value.value,26),Util.formatNumber(item.value.frequency),Util.formatNumber(item.value.frequency/sketch.size*100)+\"%\"]}.bind(this));var tableClasses=[\"table\",\"table-bordered\",\"table-condensed\",\"canvas-singlecolumn-table\"];var scaleX=d3.scale.linear().domain([0,d3.max(frequent_items.map(function(item){return item.value.frequency}))]).range([0,250]);var plotTitle=this.props.show_title?React.DOM.h3({style:{marginTop:0,marginBottom:20,height:28}},\"Most frequent items from \",React.DOM.em(null,this.props.selected_column)):null;var plotValue=frequent_items.length===0?React.DOM.span(null,\"No values appear with \u2265 0.01% occurrence.\"):React.DOM.table({className:tableClasses.join(\" \"),style:{borderRight:\"none\",borderBottom:\"none\"}},React.DOM.thead(null,React.DOM.tr(null,React.DOM.th(null,\"Value\"),React.DOM.th(null,\"Count\"),React.DOM.th(null,\"Percent\"))),React.DOM.tbody(null,tableValues.map(function(row,rowIdx){return React.DOM.tr({key:rowIdx},row.map(function(col,colIdx){return React.DOM.td({key:colIdx},col)}.bind(this)),React.DOM.td({style:{width:\"250px\",border:\"none\",padding:\"0px 0px 0px 5px\"}},React.DOM.div({style:{width:scaleX(frequent_items[rowIdx].value.frequency),height:26,backgroundColor:\"#85bd00\",transition:\"width 0.3s ease\"}})))}.bind(this))));return React.DOM.div({className:\"canvas-sarray-table categorical\"},plotTitle,plotValue,showMoreLink)}});var NumericView=React.createClass({displayName:\"NumericView\",statics:{tabName:\"Numeric\"},render:function(){var sketch=this.props.sketch;var rows=Util.tryGetProperty(this.props.selected_variable,[\"descriptives\",\"rows\"],0);var plot,tableValues;var quantile=Util.tryGetProperty(sketch,\"quantile\",[]);var starting_bins=Util.tryGetProperty(sketch,\"num_unique\",20);starting_bins=Math.max(2,Math.min(starting_bins,20));plot=Plots.QuantileHistogram({quantile:quantile,starting_bins:starting_bins,rows:rows,selected_column:this.props.selected_column});tableValues=[\"min\",\"max\",\"mean\",\"std\"].map(function(name){var ret=[name];if(name in sketch){ret.push(Util.formatNumber(sketch[name]))}else{ret.push(null)}return ret;return[name,Util.tryGetProperty(sketch,name)]}.bind(this)).concat([1,25,50,75,99].map(function(q){var ret=[\"quantile(\"+String(q/100)+\") (est.)\"];if(\"quantile\"in sketch&&sketch.quantile.length>0){ret.push(Util.formatNumber(sketch.quantile[q]))}else{ret.push(null)}return ret}.bind(this)));var tableClasses=[\"table\",\"table-striped\",\"table-bordered\",\"table-condensed\",\"canvas-singlecolumn-table\"];return React.DOM.div(null,React.DOM.div({className:\"canvas-singlecolumn-plot\"},plot),React.DOM.div({className:\"canvas-sarray-table numeric\"},React.DOM.table({className:tableClasses.join(\" \")},React.DOM.tbody(null,tableValues.map(function(row,rowIdx){return React.DOM.tr({key:rowIdx},row.map(function(col,colIdx){return React.DOM.td({key:colIdx},col)}.bind(this)))}.bind(this))))))}});var HasSubcolumns={getInitialState:function(){return{subcolumn:null,subsketch:null}},updateAsyncState:function(nextProps){this.setState({subcolumn:null,subsketch:null})},getSubsketch:function(subcol){this.setState({subcolumn:subcol});var task=new TaskQueue.ProgressTask(\"/subsketch/\"+subcol,\"sketch_summary().element_sub_sketch()\",function(data){this.setState({subsketch:data})}.bind(this),2e3);this.addTask(task.always(function(){var metric=(this.canceled?\"page_task\":\"page_task.canceled\")+\".duration.ms\";Logging.reportMetric(metric,this.elapsed(),{operation:this.operation(),type:\"SArray<dict>\"})}))},onItemClick:function(subcol){if(this.state.subcolumn===subcol){this.setState(this.getInitialState())}else{this.getSubsketch(subcol)}}};var DictView=React.createClass({displayName:\"DictView\",mixins:[Controls.AsyncState,HasSubcolumns],statics:{tabName:\"Dictionary\"},render:function(){var keyPlot=Plots.Frequency({data:Util.tryGetProperty(this.props.sketch,\"keys\",{}),width:600,aspectRatio:5,maxValues:50,onItemClick:this.onItemClick,highlightElement:this.state.subcolumn,disabled:this.props.ipython});var numericValues=Util.tryGetProperty(this.props.sketch,[\"values\",\"numeric\"],false);var valuePlot=numericValues?NumericView:CategoricalView;var valueSketch=this.state.subsketch===null?Util.tryGetProperty(this.props.sketch,\"values\",{}):this.state.subsketch;var valuePlotSource=this.state.subcolumn!=null?React.DOM.em(null,\" \",this.state.subcolumn):React.DOM.span(null,\" all keys\");var valuePlotTitle=numericValues?React.DOM.span(null,\"Distribution of values from\"):React.DOM.span(null,\"Most frequent values from\");return React.DOM.div(null,React.DOM.h3({style:{marginTop:0,marginBottom:20,height:28}},\"Most frequent keys from \",React.DOM.em(null,this.props.selected_column),\", sorted by frequency\"),keyPlot,React.DOM.hr(null),React.DOM.h3({style:{marginTop:30,marginBottom:20,height:28}},valuePlotTitle,valuePlotSource),this.transferPropsTo(valuePlot({sketch:valueSketch,show_title:false})))}});var ListView=React.createClass({displayName:\"ListView\",statics:{tabName:\"List\"},render:function(){return React.DOM.div(null,React.DOM.h3({style:{marginTop:0,marginBottom:20,height:28}},React.DOM.span(null,\"Most frequent values in \",React.DOM.em(null,this.props.selected_column),\" \",React.DOM.small(null,\"(aggregated across all sub-columns)\"))),this.transferPropsTo(CategoricalView({show_title:false})))}});var ArrayView=React.createClass({displayName:\"ArrayView\",mixins:[Controls.AsyncState,HasSubcolumns],statics:{tabName:\"Array\"},onSelect:function(evt){var subcol=evt.target.value;if(subcol===\"all (aggregate)\"){this.setState(this.getInitialState())}else{this.getSubsketch(subcol)}},render:function(){var sketch=this.state.subsketch===null?this.props.sketch:this.state.subsketch;return React.DOM.div(null,React.DOM.h3({style:{marginTop:0,marginBottom:20,height:28}},React.DOM.span(null,\"Distribution of values in \",React.DOM.em(null,this.props.selected_column),\",\"+\" \"+\"all sub-columns (aggregate)\")),this.transferPropsTo(NumericView({sketch:sketch})))}});var SArrayView=React.createClass({displayName:\"SArrayView\",mixins:[Controls.AsyncState,Controls.SizeToWindow],getInitialState:function(props){if(!props){props=this.props}if(props.ipython==true){return{sketch:props.sketch}}return{sketch:{}}},updateAsyncState:function(nextProps){var pageTasks=[];var rows=Util.tryGetProperty(this.props.selected_variable,[\"descriptives\",\"rows\"],0);if(rows!==0){pageTasks.push(new TaskQueue.ProgressTask(\"/sketch/\",\"sketch_summary()\",function(data){this.setState({sketch:data})}.bind(this),Util.getSketchPollInterval(rows)).fail(function(){if(this.canceled){$.get(\"/cancel_sketch\")}}));this.addTask(new TaskQueue.MultiTask(pageTasks).always(function(){var metric=(this.canceled?\"page_task\":\"page_task.canceled\")+\".duration.ms\";Logging.reportMetric(metric,this.elapsed(),{operation:this.operation(),type:\"SArray\"})}))}},render:function(){var rows=Util.tryGetProperty(this.props.selected_variable,[\"descriptives\",\"rows\"],0);if(rows===0){return React.DOM.div(null,React.DOM.h5(null,\"No data in this column.\"))}var name=this.props.selected_variable.name;var selected_column=Array.isArray(name)?name[name.length-1]:name;var view=this.props.view;var viewInstance=this.transferPropsTo(view({sketch:this.state.sketch,selected_column:selected_column}));return React.DOM.div({className:\"tab-content\",style:{\"max-width\":this.state.windowWidth-(190+50),\"max-height\":this.props.ipython?\"none\":this.state.windowHeight-(74+50),overflow:\"auto\"}},React.DOM.div({className:\"canvas canvas-view-main sarray\"},viewInstance))}});var SArrayViewWrapper=function(view){return React.createClass({render:function(){return this.transferPropsTo(SArrayView({view:view}))}})};var viewComponents={Categorical:SArrayViewWrapper(CategoricalView),Numeric:SArrayViewWrapper(NumericView),Dictionary:SArrayViewWrapper(DictView),Array:SArrayViewWrapper(ArrayView),List:SArrayViewWrapper(ListView),Images:ImageView};viewComponents[\"View\"]=React.createClass({render:function(){var Tabs=Controls.Tabs;var views=this.props.selected_variable.view_components.map(function(c){return[c,viewComponents[c]]}.bind(this));return Tabs({selectVariable:this.props.selectVariable,selected_variable:this.props.selected_variable,tabs:views,initialTab:this.props.selected_variable.view_component})}});return viewComponents});\n",
        "define(\"sgraph\",[\"react\",\"plots\",\"common_util\",\"taskqueue\",\"common_controls\",\"d3\",\"logging\"],function(React,Plots,Util,TaskQueue,Controls,d3,Logging){\"use strict\";return{View:React.createClass({displayName:\"View\",mixins:[Controls.AsyncState,Controls.SizeToWindow],getInitialState:function(props){if(!props){props=this.props}if(props.ipython){return{vertices:Util.tryGetProperty(props,\"vertices\",[]),vertices_labels:Util.tryGetProperty(props,\"vertices_labels\",[]),edges:Util.tryGetProperty(props,\"edges\",[]),edges_labels:Util.tryGetProperty(props,\"edges_labels\",[]),layoutAlgorithm:\"forceDirected\",positions:Util.tryGetProperty(props,\"positions\",[]),error_type:Util.tryGetProperty(props,\"error_type\",0),error_msg:Util.tryGetProperty(props,\"error_msg\",[])}}return{vertices:[],vertices_labels:[],edges:[],edges_labels:[],layoutAlgorithm:\"forceDirected\",positions:null,error_type:0,error_msg:\"\"}},customLayout:function(vertices,edges){return{vertices:vertices.map(function(v,idx){return Util.merge(v,{x:this.state.positions.x[idx],y:this.state.positions.y[idx]})}.bind(this)),edges:edges.map(function(e){return Util.merge(e,{points:[[this.state.positions.x[e.source],this.state.positions.y[e.source]],[this.state.positions.x[e.target],this.state.positions.y[e.target]]]})}.bind(this))}},setLayoutAlgorithm:function(evt){var algo=evt.target.value;this.setState({layoutAlgorithm:algo})},getLayoutAlgorithm:function(){if(this.state.layoutAlgorithm in Plots.GraphLayout.layoutAlgorithms){return Plots.GraphLayout.layoutAlgorithms[this.state.layoutAlgorithm]}return this.customLayout},shouldComponentUpdate:function(nextProps,nextState){return!Util.deepEquals(this.props,nextProps)||!Util.deepEquals(this.state,nextState)},updateAsyncState:function(nextProps){var pageTasks=[];[\"vertices\",\"edges\"].forEach(function(name){pageTasks.push(new TaskQueue.SingleTask(\"/\"+name,\"get_\"+name+\"()\").done(function(n,data){var st={};st[n]=data.values;if(data.labels!==null){st[n+\"_labels\"]=data.labels}if(n===\"vertices\"){st.positions=data.positions;if(data.positions!==null){st.layoutAlgorithm=JSON.stringify(data.positions.names)}}this.setState(st)}.bind(this,name)).fail(function(jqxhr,type,error){if(typeof jqxhr!==\"undefined\"&&jqxhr.status==413){this.setState({error_type:413,error_msg:error})}}.bind(this)))}.bind(this));this.addTask(new TaskQueue.MultiTask(pageTasks).always(function(){var metric=(this.canceled?\"page_task\":\"page_task.canceled\")+\".duration.ms\";Logging.reportMetric(metric,this.elapsed(),{operation:this.operation(),type:\"SGraph\"})}))},get_color:function(rgb_triple){return d3.rgb(rgb_triple[0]*255,rgb_triple[1]*255,rgb_triple[2]*255).toString()},scale_node_size:function(){return this.props.selected_variable.view_params.node_size/37.5},render:function(){if(this.state.vertices.length===0){if(this.state.error_type!==0){return React.DOM.div({className:\"alert alert-info\"},this.state.error_msg)}return React.DOM.div(null)}var getHighlightColors=function(){var ret={};for(var k in this.props.selected_variable.view_params.highlight){ret[k]=this.get_color(this.props.selected_variable.view_params.highlight[k])}return ret}.bind(this);var getParamColor=function(view_param){var rgb_triple=this.props.selected_variable.view_params[view_param];return this.get_color(rgb_triple)}.bind(this);var graph=Plots.GraphLayout(Util.merge({vertices:this.state.vertices,edges:this.state.edges,vlabels:this.state.vertices_labels!==null?this.state.vertices_labels:[],vcolor:getParamColor(\"vcolor\"),highlight:getHighlightColors(),node_size:this.scale_node_size(),elabels:this.state.edges_labels!==null?this.state.edges_labels:[],ecolor:getParamColor(\"ecolor\"),layoutAlgorithm:this.getLayoutAlgorithm()},Util.partial(this.props.selected_variable.view_params,[\"vlabel_hover\",\"elabel_hover\",\"ewidth\",\"v_offset\",\"h_offset\",\"arrows\"])));var defaultLayoutAlgo=this.state.positions===null?\"forceDirected\":JSON.stringify(this.state.positions.names);return React.DOM.div({className:\"tab-content\",style:{\"max-width\":this.state.windowWidth-(190+50),\"max-height\":this.props.ipython?\"none\":this.state.windowHeight-(74+50),overflow:\"auto\"}},React.DOM.div({className:\"canvas canvas-view-main sgraph\"},React.DOM.div({className:\"canvas-singlecolumn-plot\"},this.state.positions===null?null:React.DOM.div(null,React.DOM.label({htmlFor:\"canvas-sgraph-layout-selector\"},\"Layout algorithm:\u00a0\"),React.DOM.select({defaultValue:defaultLayoutAlgo,onChange:this.setLayoutAlgorithm},React.DOM.option({value:\"forceDirected\"},\"Force-directed\"),React.DOM.option({value:JSON.stringify(this.state.positions.names)},JSON.stringify(this.state.positions.names)))),graph)))}})}});\n",
        "define(\"table\",[\"react\",\"page_layout\",\"common_util\",\"taskqueue\",\"common_controls\",\"logging\",\"jquery\",\"lodash\",\"d3\",\"bowser\"],function(React,PageLayout,Util,TaskQueue,Controls,Logging,jQuery,_,d3,Bowser){\"use strict\";var cursors={grab:Bowser.webkit?\"-webkit-grab\":\"grab\",grabbing:Bowser.webkit?\"-webkit-grabbing\":\"grabbing\"};var _getColumns=function(props){var allColumns=Util.tryGetProperty(props.selected_variable,\"columns\",[]);var columnOrder=Util.tryGetProperty(props.selected_variable,[\"view_params\",\"columns\"],[]);return _(allColumns).filter(function(column){return columnOrder.indexOf(column.name)!==-1}).sortBy(function(column){return columnOrder.indexOf(column.name)}).value()};var _getColumnWidth=function(dtype){return{\"int\":150,\"float\":150,str:260,dict:260,list:260,array:260,Image:140,datetime:220}[dtype]};var _getTableWidth=function(columns,minWidth){return columns.reduce(function(prev,col){return prev+_getColumnWidth(col.dtype)},minWidth+1)};var Column=React.createClass({displayName:\"Column\",handleClick:function(evt){var selected_column=this.props.selected_variable.name.concat([this.props.name]);this.props.selectVariable(selected_column)},render:function(){var getColumnName=function(){if(this.props.ipython){return this.props.name}else{return React.DOM.a({href:\"javascript:\",onClick:this.handleClick,className:\"canvas-sframe-column-title\"},this.props.name)}}.bind(this);return React.DOM.div({className:\"canvas-sframe-column-header\",style:this.props.style},getColumnName())}});var DocScroller=React.createClass({displayName:\"DocScroller\",getInitialState:function(){return{dragOffsetPosition:0,dragStartPosition:null,dragPosition:0}},getDefaultProps:function(){return{onDragEnd:function(){},dragPosition:0,totalRows:0,pageHeight:0,totalHeight:0,height:0,width:0,visualPadding:0,marginTop:0}},componentWillMount:function(){this.setState({dragPosition:this.props.dragPosition||0})},render:function(){var docScrollerDragStart=function(evt){evt.preventDefault();evt.stopPropagation();this.setState({dragStartPosition:evt.clientY})}.bind(this);var _docScrollerDrag=function(evt){if(this.state.dragStartPosition===null){return null}var diff=evt.clientY-this.state.dragStartPosition;var newOffset=Math.min(this.props.height-this.props.pageHeight,Math.max(0,this.state.dragPosition+diff));return newOffset}.bind(this);var docScrollerDrag=function(evt){if(this.state.dragStartPosition!==null){evt.preventDefault();evt.stopPropagation();this.setState({dragOffsetPosition:_docScrollerDrag(evt)})}}.bind(this);var docScrollerDragEnd=function(evt){evt.preventDefault();evt.stopPropagation();if(this.state.dragStartPosition!==null){var newOffset=_docScrollerDrag(evt);this.props.onDragEnd(newOffset);this.setState({dragStartPosition:null,dragOffsetPosition:newOffset,dragPosition:newOffset})}}.bind(this);var docScrollerClick=function(evt){if(this.state.dragStartPosition===null){evt.preventDefault();evt.stopPropagation();var offset=Math.max(0,evt.clientY-$(evt.currentTarget).offset().top-this.props.pageHeight/2);var newOffset=Math.min(this.props.height-this.props.pageHeight,offset);this.props.onDragEnd(offset);this.setState({dragOffsetPosition:newOffset})}else{docScrollerDragEnd(evt)}}.bind(this);var docScrollerPoints=[[0,this.state.dragOffsetPosition],[0,this.state.dragOffsetPosition+this.props.pageHeight+this.props.visualPadding],[50,this.props.totalHeight+this.props.marginTop+this.props.visualPadding],[50,this.props.marginTop]];var notScrollable=this.props.totalRows<=this.props.threshold;var docScrollerRectColor=notScrollable?\"#dfe0e1\":\"#85bd00\";if(this.props.width===0){return null}else{return React.DOM.div({style:{width:this.props.width}},React.DOM.div({style:{paddingTop:5},className:\"canvas-docscroller-label\"},\"0\"),React.DOM.svg({style:{width:10,height:this.props.height}},d3.range(10).map(function(i){var y=i/9*this.props.height;return React.DOM.line({key:i,x1:4,x2:10,y1:y,y2:y,stroke:\"#dfe0e1\",strokeWidth:2})}.bind(this))),React.DOM.div({style:{width:36,height:this.props.height+this.props.visualPadding,display:\"inline-block\",cursor:notScrollable?\"auto\":\"pointer\",position:\"relative\"},onMouseMove:docScrollerDrag,onMouseLeave:docScrollerDragEnd,onClick:docScrollerClick},React.DOM.svg({style:{position:\"absolute\",top:0,left:0,width:36,height:this.props.height}},React.DOM.rect({x:0,y:this.state.dragOffsetPosition,width:36,height:this.props.pageHeight+this.props.visualPadding,fill:\"#d9e3cd\",style:{opacity:notScrollable?0:1}}),d3.range(this.props.height/5).map(function(y){return d3.range(5).map(function(x){var fill=\"#dfe0e1\";if(y*5>=this.state.dragOffsetPosition&&y*5+4<=this.state.dragOffsetPosition+this.props.pageHeight){fill=docScrollerRectColor}return React.DOM.rect({key:String(x)+\"_\"+String(y),x:6+x*5,y:y*5,width:4,height:4,fill:fill})}.bind(this))}.bind(this))),React.DOM.div({style:{position:\"absolute\",top:this.state.dragOffsetPosition,left:0,width:36,height:this.props.pageHeight+this.props.visualPadding,cursor:notScrollable?\"auto\":this.state.dragStartPosition!==null?cursors.grabbing:cursors.grab},onMouseDown:docScrollerDragStart})),React.DOM.svg({style:{width:50,height:this.props.height+this.props.visualPadding+10,display:\"inline-block\",verticalAlign:\"top\",opacity:notScrollable?0:1}},React.DOM.linearGradient({id:\"docScrollerGradient\"},React.DOM.stop({offset:\"0%\",style:{stopColor:\"#d9e3cd\"}}),React.DOM.stop({offset:\"100%\",style:{stopColor:\"#f0f4ec\"}})),React.DOM.polygon({points:docScrollerPoints.map(function(xy){return xy.join(\",\")}).join(\" \"),style:{fill:\"url(#docScrollerGradient)\"}})),React.DOM.div({style:{marginTop:-10},className:\"canvas-docscroller-label\"},Util.formatNumber(this.props.totalRows-1)))}}});var RowView=React.createClass({displayName:\"RowView\",getDefaultProps:function(){return{columns:[],data:[],dimensions:{},rowHeight:38,imageRowHeight:50+16,headerHeight:PageLayout.get(\"table_column_header_height\"),highlight:false,onClick:function(){},formatter:function(i){return i}}},statics:{highlightStyle:{backgroundColor:\"rgba(255, 85, 0, 0.2)\"},getHeaderCellStyle:function(height,styleToMerge){var defaultStyle={height:height-2,minHeight:height-2,maxHeight:height-2};if(typeof styleToMerge==\"object\"){return Util.merge(defaultStyle,styleToMerge)}return defaultStyle},getCellStyle:_.memoize(function(styleToMerge,highlight){var cellStyle={overflow:\"hidden\",textAlign:\"left\"};if(highlight){cellStyle=Util.merge(RowView.highlightStyle,cellStyle)}if(typeof styleToMerge==\"object\"){return Util.merge(cellStyle,styleToMerge)}return cellStyle},function(s,h){return JSON.stringify({s:s,h:h})}),getCellContentStyle:_.memoize(function(styleToMerge){return Util.merge({padding:\"5px 5px 5px 15px\"},styleToMerge||{})},function(s){return JSON.stringify({s:s})})},getRowHeaderHTML:function(rowIndex,rowHeight){var cellStyle={color:\"#85bd00\",fontWeight:300,paddingLeft:3,height:rowHeight};if(this.props.highlight){cellStyle=Util.merge(RowView.highlightStyle,cellStyle)}return React.DOM.td({style:cellStyle},Util.formatNumber(rowIndex))},render:function(){var i=this.props.number;var row=this.props.data;var header=this.getRowHeaderHTML(i,this.props.rowHeight);var formattedValue,margin;var cellStyle=RowView.getCellStyle({},this.props.highlight);var rowHTML;if(row&&row.length<this.props.columns.length){row=this.props.columns.map(function(col,idx){return row[idx]||null})}if(row===undefined){rowHTML=this.props.columns.map(function(col,index){return React.DOM.td({className:\"padding canvas-sframe-table-head-value\"})}.bind(this))}else{rowHTML=React.DOM.div(null,header,row.map(function(value,j){formattedValue=this.props.formatter(value,this.props.rowHeight);margin=Util.isSArrayImageType(value)?{margin:\"0 auto\"}:null;return React.DOM.td({key:j,className:\"padding canvas-sframe-table-head-value\",style:cellStyle},React.DOM.div({style:RowView.getCellContentStyle(margin)},formattedValue))}.bind(this)))}return React.DOM.tr({key:i,className:\"canvas-sframe-table-head-row\",onClick:this.props.onClick},rowHTML)}});var TabularView=React.createClass({displayName:\"TabularView\",mixins:[Controls.AsyncState,Controls.SizeToWindow],statics:{getColumns:_getColumns},getDefaultProps:function(){return{rowHeight:38,imageRowHeight:50+16,headerHeight:PageLayout.get(\"table_column_header_height\"),rowsToFetch:300}},getInitialState:function(){return{rows:[],rowStart:0,scrollTop:0,scrollLeft:0,currentTask:null,taskTimeout:null,pageOffset:0,highlightRow:null,getColumnWidth:_.memoize(_getColumnWidth),getColumns:_.memoize(_getColumns),getTableWidth:_.memoize(_getTableWidth)}},updateAsyncState:function(nextProps){this.setState({getColumnWidth:_.memoize(_getColumnWidth),getColumns:_.memoize(_getColumns),getTableWidth:_.memoize(_getTableWidth)},function(){var pageTasks=[];if(Util.tryGetProperty(nextProps.selected_variable,[\"descriptives\",\"rows\"],0)!==0){pageTasks.push(new TaskQueue.SingleTask(\"/rows/\"+String(this.state.rowStart)+\"/\"+String(this.props.rowsToFetch+this.state.rowStart),\".head()\").done(function(data){this.setState({rows:data.values})}.bind(this)));this.addTask(new TaskQueue.MultiTask(pageTasks).always(function(){var metric=(this.canceled?\"page_task\":\"page_task.canceled\")+\".duration.ms\";Logging.reportMetric(metric,this.elapsed(),{operation:this.operation(),type:\"SFrame\"})}))}}.bind(this))},scrollTable:function(evt){var scrollTop=$(evt.target).scrollTop();var scrollLeft=$(evt.target).scrollLeft();this.setState({scrollTop:scrollTop,scrollLeft:scrollLeft})},docScrollTable:function(newOffset){this.setState({pageOffset:newOffset})},componentDidUpdate:function(prevProps,prevState){if(this.state.scrollTop!==prevState.scrollTop||this.state.pageOffset!==prevState.pageOffset){var node=this.refs.tableScrollContainer.getDOMNode();$(node).scrollTop(this.state.scrollTop);$(node).scrollLeft(this.state.scrollLeft);this.updateTable()}},updateTable:function(){var newDimensions=this.getDimensions();if(newDimensions.currentRowStart>this.state.rowStart+this.props.rowsToFetch-50||Math.max(newDimensions.currentRowStart-5,0)<this.state.rowStart){var newStart=Math.max(newDimensions.currentRowStart-50,0);if(newStart!==this.state.rowStart){var task=new TaskQueue.SingleTask(\"/rows/\"+String(newStart)+\"/\"+String(newStart+this.props.rowsToFetch)).done(function(data){this.setState({rows:data.values,rowStart:newStart,currentTask:null})}.bind(this)).fail(function(){this.setState({currentTask:null})}.bind(this));if(this.state.taskTimeout!==null){clearTimeout(this.state.taskTimeout)}if(this.state.currentTask!==null){this.state.currentTask.cancel()}this.setState({currentTask:task,taskTimeout:setTimeout(function(){task.run()},200)})}}},getDimensions:function(scrollTop,pageOffset){if(typeof scrollTop===\"undefined\"){scrollTop=this.state.scrollTop}if(typeof pageOffset===\"undefined\"){pageOffset=this.state.pageOffset}var totalRows=Util.tryGetProperty(this.props.selected_variable,[\"descriptives\",\"rows\"],0);var docScrollerThreshold=1e5;var docScrollerWidth=PageLayout.get(\"table_nav_width\");var elementHeight=PageLayout.tableHeight();var columnHeaderHeight=this.props.headerHeight;var docScrollerHeight=elementHeight-24-10;var docScrollerPageHeight=Math.min(1,docScrollerThreshold/totalRows)*docScrollerHeight;var docScrollerVisualPadding=Math.max(0,10-docScrollerPageHeight);var elementWidth=PageLayout.tableWidth();var columns=this.state.getColumns(this.props);var rowHeight=columns.some(function(col){return col.dtype===\"Image\"})?this.props.imageRowHeight:this.props.rowHeight;var rowsInView=Math.min(totalRows,docScrollerThreshold);var currentPageStart=Math.ceil(pageOffset/docScrollerHeight*totalRows);var currentRowStart=currentPageStart+Math.floor(scrollTop/rowHeight);currentRowStart-=currentRowStart%2;var rowsVisible=Math.ceil(elementHeight/rowHeight)+3;var currentRowEnd=currentRowStart+rowsVisible;var fillerAbove=Math.min(rowsVisible,this.state.rowStart-currentRowStart);var fillerBelow=Math.min(rowsVisible,currentRowEnd-(this.state.rowStart+this.props.rowsToFetch));var heightAbove=(currentRowStart-currentPageStart)*rowHeight;var heightBelow=Math.max(0,(rowsInView-(currentRowEnd-currentPageStart))*rowHeight);var rowHeaderWidth=18+Math.floor(10*Math.log(totalRows)/Math.LN10);var tableWidth=Math.min(elementWidth,this.state.getTableWidth(columns,rowHeaderWidth+1));return{elementHeight:elementHeight,currentRowStart:currentRowStart,currentRowEnd:currentRowEnd,fillerAbove:fillerAbove,fillerBelow:fillerBelow,heightAbove:heightAbove,heightBelow:heightBelow,rowHeaderWidth:rowHeaderWidth,tableWidth:tableWidth,docScrollerWidth:docScrollerWidth,docScrollerHeight:docScrollerHeight,docScrollerPageHeight:docScrollerPageHeight,docScrollerVisualPadding:docScrollerVisualPadding,rowsInView:rowsInView,columnHeaderHeight:columnHeaderHeight,rowHeight:rowHeight,totalRows:totalRows,docScrollerThreshold:docScrollerThreshold}},highlightRow:function(idx){if(idx===this.state.highlightRow){idx=null}this.setState({highlightRow:idx})},onDocScroll:function(newPageOffset){this.setState({pageOffset:newPageOffset})},goToRowChange:function(evt){var value=null;var dimensions=this.getDimensions();try{value=parseInt(this.refs.goToRow.getDOMNode().value,10)}catch(e){return}var dimensions=this.getDimensions();var maxValueForPageOffset=dimensions.totalRows-dimensions.rowsInView;var scrollOffset=0;if(value<0){value=dimensions.totalRows+value}else if(value>dimensions.totalRows-1){value=dimensions.totalRows-1}var pageOffset=value/dimensions.totalRows*dimensions.docScrollerHeight;if(value>maxValueForPageOffset){var scrollForward=value-maxValueForPageOffset;pageOffset=maxValueForPageOffset/dimensions.totalRows*dimensions.docScrollerHeight;scrollOffset=scrollForward/dimensions.rowsInView*(dimensions.rowsInView*dimensions.rowHeight)}this.setState({scrollTop:scrollOffset,pageOffset:pageOffset})},render:function(){var dimensions=this.getDimensions();var columns=this.state.getColumns(this.props);var formatSArrayValue=_.memoize(Util.formatSArrayValue,JSON.stringify);var goToRowHeight=20;var goToRowGreyBorder=\"1px solid #dedede\";var goToRow=React.DOM.div({style:{width:dimensions.docScrollerWidth,height:goToRowHeight}},React.DOM.input({id:\"goToRow\",ref:\"goToRow\",style:{width:69,height:goToRowHeight,borderLeft:goToRowGreyBorder,borderTop:goToRowGreyBorder,borderBottom:goToRowGreyBorder,borderRight:\"none\",paddingLeft:5},type:\"number\",placeholder:\"row #\"}),React.DOM.a({style:{display:\"inline-block\",width:27,height:goToRowHeight,backgroundColor:\"#85bd41\",color:\"white\",textTransform:\"uppercase\",verticalAlign:\"top\",textDecoration:\"none\",lineHeight:String(goToRowHeight)+\"px\",textAlign:\"center\",fontSize:11},href:\"javascript:\",onClick:this.goToRowChange.bind(this)},\"Go\"));var headerTableWidth=dimensions.tableWidth-dimensions.rowHeaderWidth;var requestedRowsAreLoaded=this.state.rows[dimensions.currentRowStart-this.state.rowStart]!==undefined;var emptyRow=columns.map(function(col){return null});var loadingOverlay=!requestedRowsAreLoaded?React.DOM.div({\"class\":\"sframe-table-overlay\",style:{position:\"absolute\",top:0,left:dimensions.docScrollerWidth+dimensions.rowHeaderWidth,height:dimensions.columnHeaderHeight,width:headerTableWidth,zIndex:100,backgroundColor:\"#333\",opacity:.8,verticalAlign:\"middle\",textAlign:\"center\"}},React.DOM.span({style:{display:\"inline-block\",fontSize:\"24px\",color:\"#efefef\"}},\"Loading...\")):null;return React.DOM.div({className:\"canvas sframe\",style:{width:PageLayout.contentWidth(),zIndex:1,position:\"relative\"}},React.DOM.div({style:{\"float\":\"left\"}},goToRow,DocScroller({width:dimensions.docScrollerWidth,height:dimensions.docScrollerHeight,pageHeight:dimensions.docScrollerPageHeight,totalHeight:dimensions.elementHeight,visualPadding:dimensions.docScrollerVisualPadding,totalRows:dimensions.totalRows,dragPosition:this.state.pageOffset,marginTop:dimensions.columnHeaderHeight-goToRowHeight-18,onDragEnd:this.docScrollTable.bind(this)})),loadingOverlay,React.DOM.div({style:{overflow:\"hidden\"}},React.DOM.div({className:\"canvas-sframe-table-header\",style:{overflow:\"hidden\",marginLeft:dimensions.rowHeaderWidth,height:dimensions.columnHeaderHeight,width:headerTableWidth}},React.DOM.table({className:\"sframe-table table table-striped\",style:{marginBottom:0,marginLeft:-this.state.scrollLeft,width:dimensions.tableWidth-dimensions.rowHeaderWidth,tableLayout:\"fixed\"}},React.DOM.thead(null,React.DOM.tr(null,columns.map(function(col,idx){var handleClick=function(c){var selected_column=this.props.selected_variable.name.concat([c.name]);this.props.selectVariable(selected_column)}.bind(this,col);return React.DOM.th({key:idx,style:RowView.getHeaderCellStyle(dimensions.columnHeaderHeight,{width:this.state.getColumnWidth(col.dtype)})},Column({name:col.name,selected_variable:this.props.selected_variable,selectVariable:this.props.selectVariable}))}.bind(this))))))),React.DOM.div({id:\"tableArea\",style:{overflow:\"hidden\",marginLeft:dimensions.docScrollerWidth},onScroll:this.scrollTable,ref:\"tableArea\"},React.DOM.div({style:{position:\"relative\",overflowY:\"scroll\",height:PageLayout.tableHeight()+1,width:dimensions.tableWidth,borderLeft:\"1px solid #EEE\",borderRight:\"1px solid #EEE\",borderBottom:\"1px solid #EEE\"},ref:\"tableScrollContainer\"},React.DOM.div({style:{marginTop:dimensions.heightAbove,marginBottom:dimensions.heightBelow}},React.DOM.table({className:\"sframe-table table-striped\",style:{tableLayout:\"fixed\",overflowX:\"hidden\",width:dimensions.tableWidth}},React.DOM.thead(null,React.DOM.th({style:{width:dimensions.rowHeaderWidth}}),columns.map(function(col){return React.DOM.th({style:{width:this.state.getColumnWidth(col.dtype)}})}.bind(this))),React.DOM.tbody(null,d3.range(dimensions.fillerAbove).map(function(i){return RowView({columns:columns,number:i+dimensions.currentRowStart})}),this.state.rows.slice(dimensions.currentRowStart-this.state.rowStart,dimensions.currentRowEnd-this.state.rowStart).map(function(row,i){var rowNumber=i+dimensions.currentRowStart;return RowView({columns:columns,onClick:this.highlightRow.bind(this,rowNumber),highlight:this.state.highlightRow===rowNumber,number:rowNumber,data:row,formatter:formatSArrayValue,rowHeight:dimensions.rowHeight,imageRowHeight:dimensions.imageRowHeight})}.bind(this)),d3.range(dimensions.fillerBelow).map(function(i){return RowView({columns:columns,number:i+dimensions.currentRowStart})})))))))}});return{TabularView:TabularView,Column:Column}});\n",
        "\n",
        "                \n",
        "            var s = document.createElement('style');\n",
        "            s.appendChild(document.createTextNode(\"html, body, #canvas-page, .canvas-body-container {  height: 100%;}.canvas {  font-family: 'Helvetica Neue', Helvetica, 'Liberation Sans', Arial, sans-serif;}body.canvas {  background-color: #5a6378;  color: white;}t.modal-content {  color: black;}.canvas-header-container {  width: 100%;  position: relative;  height: 4px;}.canvas-body-container {  display: table;  width: 100%;}.canvas-header {  background-color: white;  width: 100%;  height: 60px;  line-height: 60px;  padding-left: 15px;  padding-right: 15px;  font-size: 24px;  font-weight: 300;  letter-spacing: 1px;}.canvas-leftnav {  display: table-cell;  width: 180px;  min-width: 180px;  vertical-align: top;  background-color: #393f4f;  margin-bottom: 78px;}.canvas-title {  font-size: 14px;  height: 40px;  line-height: 40px;  text-align: center;  color: #9c9c9c;  background-color: #2f2b2b;  margin-top: 0px;  margin-bottom: 0px;  letter-spacing: 2px;  font-weight: 300;}.canvas-title > .canvas-brand {  color: #747b8e;  text-transform: uppercase;  letter-spacing: 3px;}.canvas-main {  margin-left: 230px;  margin-right: 15px;  vertical-align: top;  display: table-cell;}.canvas-progressbar.progress {  height: 55px;  border-radius: 0px;  box-shadow: none;  -webkit-box-shadow: none;  background-color: #5a6378;  position: relative;  margin-bottom: 0px;  padding-left: 20px;}.canvas-progressbar.progress > .progress-bar {  background-color: #bad98d;  box-shadow: none;  -webkit-box-shadow: none;  position: absolute;}.canvas-progressbar-contents {  position: absolute;  width: 100%;}.canvas-breadcrumb {  font-size: 24px;  height: 40px;  line-height: 50px;  padding-left: 20px;  color: white;  display:inline-block;  left: 15px;  font-weight: 300;}.canvas-breadcrumb .active {  display: inline-block;}.canvas-descriptives {  display:inline-block;  color: white;  font-size: 12px;  font-weight: 700;  position: absolute;  right: 60px;  top: 8px;}.canvas-descriptives .label {  font-weight: 300;  margin-left: 15px;  color: white;  height: 40px;  line-height: 40px;  font-size: 12px;  text-transform: capitalize;}.canvas-tabcontents {  overflow: auto;}.canvas-sframe-table-header {  background-color: #0a8cc4;}.canvas-sframe-column-header {  background-color: #0a8cc4;  overflow: hidden;  font-size: 16px;  font-weight: 300;  color: white;  text-align: left;}.canvas-sframe-column-title {  display: block;  overflow: hidden;  white-space: nowrap;  text-overflow: ellipsis;  width: 100%;  padding: 11px 11px 11px 15px;}a.canvas-sframe-column-title,a.canvas-sframe-column-title:hover,a.canvas-sframe-column-title:active {  color: white;  text-decoration: underline;}.canvas-sframe-table {  max-width: none;  table-layout: fixed;  background-color: white;  color: black;  margin: 12px;}.canvas-sframe-table th.padding,.canvas-sframe-table td.padding {  width: 192px;  min-width: 192px;  padding: 1px 8px;  border-right: 4px solid #f3f3f3;  vertical-align: top;}.canvas-sframe-table-head-label {  font-weight: 500;  text-transform: capitalize;  display: block;  font-size: 12px;}.canvas-sframe-table tr.canvas-sframe-table-head-row:nth-child(odd) {  background-color: #fafafa;}.canvas-sframe-table td.padding.canvas-sframe-table-head-value {  font-size: 12px;  padding-top: 4px;  padding-bottom: 4px;}.canvas-sframe-inner-table {  width: 100%;  margin-top: 10px;  margin-bottom: 12px;}.canvas-sframe-summary-statistic-name {  font-size: 12px;  height: 25px;}.canvas-sframe-summary-statistic-value {  font-size: 18px;  font-weight: 300;  text-align: right;}.canvas-quantile-histogram {  position: relative;}rect.bar {  fill: #85bd00;}rect.bar:hover {  fill: #ff5500;}.canvas-quantile-histogram .bar {  stroke: #fff;  stroke-width: 1px;  transition-property: transform;  -webkit-transition-property: -webkit-transform;  transition-duration: 0.3s;}.canvas-singlecolumn-table {  max-width: 650px;  font-size: 12px;}.canvas-sarray-table {  display: inline-block;  vertical-align: top;  margin: 115px 30px 30px 0px;}.canvas-sarray-table.categorical {  margin: 0px;  max-width: 650px;}.canvas-sarray-table.categorical table tr {  height: 28px;}.canvas-singlecolumn-plot {  display: inline-block;  vertical-align: top;  width: 560px;}.canvas-histogram-label {  font-size: 11px;  fill: #777;}.canvas-histogram-title {  font-size: 18px;  fill: black;}.canvas-histogram-axis-title {  font-size: 14px;  fill: #777;}.canvas-histogram-axis-subtitle {  font-size: 12px;  fill: #777;}.canvas-boxplot-line {  stroke: #85bd00;  stroke-width: 1;  stroke-dasharray: 0.2, 0.08;}.canvas-boxplot-end {  stroke: #85bd00;  stroke-width: 0.5;}.canvas-sframe-boxplot-tooltip td+td {  text-align: right;  padding-left: 12px;}.canvas-statusbar .alert {  margin-bottom: 0px;  border-radius: 0px;  padding: 10px;}.canvas-statusbar .alert .close {  right: 0px;}.canvas-statusbar-stack-trace-link {  display: inline;}.canvas-logo {  height: 60px;}.canvas-logo,.canvas-feedback {  position: absolute;  bottom: 0px;  left: 0px;  height: 78px;  vertical-align: middle;  display: inline-block;  padding: 15px 25px;}.canvas-feedback > img {  width: 60px;  height: 39px;  display: inline-block;}.canvas-feedback-button {  line-height: 14px;  font-size: 12px;  color: white;  vertical-align: middle;  margin-left: 8px;  display: inline-block;}.canvas-feedback-button:active,.canvas-feedback-button:hover,.canvas-feedback-button:focus {  color: white;}.canvas-header-colorbar > div {  width: 20%;  height: 4px;  position: absolute;  top: 0px;}.canvas-header-glcreate {  color: #0a8cc4;}.canvas-feedback-form {  width: 100%;  padding: 10px;  font-size: 13px;  line-height: 13px;}.canvas-feedback-form label {  font-weight: 300;  margin-bottom: 0px;}.canvas-feedback-log-area {  margin-bottom: 12px;  line-height: 20px;}.canvas-feedback-log-radios {  margin-left: 30px;}.canvas-feedback-log-radios span+span {  margin-left: 20px;}.canvas-feedback-log-radios input[type=\\\"radio\\\"] {  margin-left: 6px;}.canvas-feedback-form textarea,.canvas-feedback-form input[type=\\\"email\\\"] {  width: 100%;  padding: 10px 20px;  color: black;}.canvas-feedback-form textarea {  min-height: 118px;  margin-bottom: 24px;}.canvas-feedback-form input[type=\\\"email\\\"] {  margin-top: 8px;}.canvas-form-buttons {  margin-top: 26px;  width: 100%;}.canvas-form-buttons a {  display: inline-block;  width: 170px;  text-align: center;  text-transform: uppercase;  font-size: 22px;  line-height: 38px;}.canvas-form-buttons a+a {  margin-left: 30px;}.canvas-form-buttons a:active,.canvas-form-buttons a:hover {  text-decoration: none;}.canvas-form-submit:hover,.canvas-form-submit:active,.canvas-form-submit:focus,.canvas-form-submit {  color: white;  background-color: #0a8cc4;}.canvas-form-cancel:hover,.canvas-form-cancel:active,.canvas-form-cancel:focus,.canvas-form-cancel {  color: #2b2b2b;  background-color: #c5c5c5;}.canvas-view-main {  background-color: white;  color: black;  padding: 12px 0 12px 12px;}.canvas-view-main.sarray {  padding: 20px 40px;}.canvas-view-main.sgraph {  padding: 20px 40px;}.canvas-plot-boxandwhisker {  text-align: center;}.canvas-plot-boxandwhiskerarray {  text-align: center;}.canvas-sarray-plot-axes {  stroke: #777;  stroke-width: 1px;}.canvas-histogram-x-axis {  font-size: 14px;  color: #777;  position: absolute;  top: 450px;  left: 85px;  width: 376px;  text-align: center;}.canvas-slider {  background-color: #f9f9f9;  padding: 6px;  margin-left: 90px;  width: 376px;}.canvas-slider-label {  text-transform: uppercase;}.canvas-slider > div {  display: inline-block;  vertical-align: middle;  color: #777;}.canvas-slider > div+div {  margin-left: 6px;}.canvas-slider-control > span,.canvas-slider-control > input {  display: inline-block;  vertical-align: middle;}.canvas-slider-control > span {  margin-left: 6px;  margin-right: 6px;}.canvas-slider-control > input {  width: 196px;}.canvas-tooltip {  position: fixed;  width: 300px;  background-color: #ff5400;  font-size: 12px;  text-align: center;  color: white;  padding: 4px 8px;}.canvas-tooltip:after {content: ' ';  height: 0;  position: absolute;  width: 0;  border: 10px solid transparent;  border-top-color: #ff5400;  top: 100%;  left: 50%;  margin-left: -10px;}.canvas-scatter-axes{  stroke:#85bd00;  stroke-width:3;}.canvas-scatter-ticks{  stroke: #444444;  stroke-width:1;}.canvas-scatter-gridlines{  stroke:rgb(0,0,0);  stroke-width: 1px;  opacity: .15;}.canvas-scatter-rectFrame{  fill-opacity: 0;  stroke-width: 1;  stroke: #444444;}.canvas-scatter-axesLabel{  text-anchor: middle;}.canvas-scatter-numLabel{  text-anchor: middle;  font-size: 10px;  fill: #4B4B4B;}.canvas-scatter-point:hover{  fill: #ff5500;}.canvas-scatter-point{    -webkit-transition: fill .15s, opacity .5s ease, -webkit-transform 1s ease; /* For Safari 3.1 to 6.0 */    transition: fill .15s, opacity .5s ease, transform 1s ease;    stroke-width: 0;    fill: #0a8cc4;}.canvas-scatter-trendline:hover{  stroke: #ff5500;}.canvas-scatter-trendline{  stroke:rgb(0,0,0);  stroke-width: 3;  stroke: #b0007f;  -webkit-transition: stroke .15s; /* For Safari 3.1 to 6.0 */  transition: stroke .15s;}.canvas-scatter-toggle{  fill: blue;  stroke: blue;  stroke-width: 1;  width: 75;}.canvas-scatter-frame{  background-color: #FFFFFF;  position: relative;}.canvas-scatter-axesLabel{  text-align: center;}.canvas-scatter-labelSelect{  width: 150px;  height: 75px;}.canvas-scatter-title{  font-size: 20px;}.canvas-scatter-toggleLabel{  color: #444444;}.canvas-scatter-lineGraph:hover{  stroke: #ff5500;}.canvas-scatter-lineGraph{  stroke-width: 2;  stroke: #5e5555;}.canvas-heatmap-axesLabel{  text-align: center;}.canvas-heatmap-toggleLabel{  color: #444444;}.canvas-heatmap-bin{  fill-opacity: 1;  stroke-width: 0;}.canvas-heatmap-frame{  position: relative;  background-color: #FFFFFF;}.canvas-bar-rectFrame{  fill-opacity: 0;  stroke-width: 1;  stroke: #444444;}.canvas-bar-ticks{  stroke: #444444;  stroke-width:1;}.canvas-bar-ticks:hover{  stroke: #ff5500;}.canvas-bar-gridlines{  stroke:rgb(0,0,0);  stroke-width: 2px;  opacity: .15;}.canvas-bar-numLabel{  text-anchor: middle;  font-size: 10px;  fill: #4B4B4B;}.canvas-bar-textLabel{  text-anchor: middle;  font-size: 10px;  fill: #4B4B4B;}.canvas-bar-axes{  stroke:#85bd00;  stroke-width:2;}.canvas-bar-frame{  position: relative;  background-color: #FFFFFF;}.canvas-bar-barRect:hover{  fill: #ff5500;}.canvas-bar-toggleLabel{  color: #444444;}.canvas-bar-barRect{    stroke-width: 1;    stroke: #555555;    fill: #0a8cc4;}.canvas-map-frame{  position: relative;}.canvas-map-canvas{  cursor: -moz-zoom-in;  cursor: -webkit-zoom-in;  cursor: zoom-in;  position: absolute;  top: 0px;  left: 0px;}.canvas-map-mapContainer{  position: relative;}.canvas-map-outerContainer{  color: black;}.canvas-choropleth-outerFrame{  color: black;}.canvas-densityMap-outerFrame{  color: black;}.canvas-densityMap.frame{  position: relative;}.canvas-densityMap-canvas{  cursor: -moz-zoom-in;  cursor: -webkit-zoom-in;  cursor: zoom-in;  position: absolute;  top: 0px;  left: 0px;}.canvas-densityMap-mapContainer{  position: relative;}.canvas-densityMap-map{  position: absolute;  top: 0px;  left: 0px;}.canvas .nav-tabs {  border-bottom: 0;}.canvas .nav-tabs>li {  margin-bottom: 0px;}.canvas .nav-tabs>li>a {  border-radius: 0;  background-color: #dedede;}.canvas .nav-tabs>li.active>a, .nav-tabs>li.active>a:hover, .nav-tabs>li.active>a:focus {  background-color: white;}.sframe-table.table>thead>tr>th {  border-bottom: 0;  text-align: center;  background-color: #0a8cc4;  border-left: 3px solid white;  border-right: 3px solid white;  padding: 0px;}.sframe-table.table>thead>tr>th,.sframe-table.table>tbody>tr>th,.sframe-table.table>tfoot>tr>th,.sframe-table.table>thead>tr>td,.sframe-table.table>tbody>tr>td,.sframe-table.table>tfoot>tr>td {  border-top: 0;  border-bottom: 0;  border-left: 0;  border-right: 2px solid #eaeaea;}.sframe-table.table>thead>tr>th a,.sframe-table.table>thead>tr>th a:active,.sframe-table.table>thead>tr>th a:hover {  text-decoration: underline;  color: white;  font-weight: 300;  font-size: 16px;}.sframe-table.table-striped>tbody>tr:nth-child(odd)>td,.sframe-table.table-striped>tbody>tr:nth-child(odd)>th {  background-color: #fafafa;}.canvas .tab-content {  background-color: white;}.canvas-docscroller-label {  color: #85bd00;  width: 56px;  height: 24px;  text-align: center;}.canvas-sframe-summary-plot-title {  font-size: 14px;  margin-bottom: 8px;  margin-top: 8px;}/* artifact css */.canvas-stage-table {  color : #000;  background-color: white;  max-width: none;  margin-bottom:30px;}.canvas-stage-title {  color : #000;  padding-top : 15px;  margin-left : 30px;  margin-right : 30px;  font-weight : 400;  font-size : 20px;}.canvas-stage-graph {  margin-top : 10px;  margin-bottom: 10px;  margin-left : 10px;  margin-right : 10px;  background-color: white;  max-width: none;}.canvas-stage-info {  color : #000;  margin-left : 50px;  margin-right : 50px;}.canvas-stage-code {  margin-left : 50px;  margin-right : 70px;  margin-top : 10px;  margin-bottom: 20px;  padding-bottom: 20px;}.canvas-task-param-name {  color : #b0007f;  font-weight : 500;}table.canvas-task-param-table th {  border : 1px solid #c5c5c5;  padding : 5px;  vertical-align : top;  background-color : #5e5555;  color : #ffffff;  text-align : left;  font-weight : 500;  font-size : 14px;}table.canvas-task-param-table td {  border : 1px solid #c5c5c5;  padding : 5px;  vertical-align : top;  font-weight : 450;  font-size : 14px;}table.canvas-task-param-table td:nth-child(1) {  width:35%;}table.canvas-task-param-table td:nth-child(2) {  width:40%;}table.canvas-task-param-table td:nth-child(3) {  width:25%;}table.canvas-task-param-table {  color : #000;  margin-top : 10px;  max-width : 550px;  min-width : 350px;  border : 1px solid #c5c5c5;}.canvas-task-gantt-label {  font-size: 10px;  fill: #777;  word-wrap: break-word;}table.canvas-task-param-table {  color : #000;  margin-top : 10px;  max-width : 550px;  min-width : 350px;  border-collapse: separate;  border-spacing:2px;}table.canvas-task-gantt-table th {  color : #000;  padding : 5px;  vertical-align : top;  text-align : left;  min-height : 25px;}table.canvas-task-gantt-table td {  color : #000;  padding : 5px;  vertical-align : top;  font-size : 13px;  font-weight : 450;  margin-top : 5px;  margin-bottom : 5px;}table.canvas-task-gantt-table td:nth-child(1) {  width:20%;  max-width: 300px;}table.canvas-task-gantt-table td:nth-child(2) {  width:80%;}table.canvas-task-gantt-table tr {  width:100%;}table.canvas-task-gantt-table {  width: 100%;}.canvas-task-gantt-axes {  stroke: #000;  stroke-width: 1.5px;}.canvas-gantt-label {  font-size: 11px;  fill: #000;}.canvas-gantt-chart {  position: relative;  display: table;  max-width: 95%;}.canvas-task-views {  min-height : 250px;  max-height : 1300px;  min-width : 700px;  /*max-width : 1000px;*/  overflow-x : auto;  overflow-y : auto;  margin-left : 50px;  margin-right : 50px;  /*border-bottom : 1px solid #0a8cc4;*/}.canvas-task-tab {  width : 900px;  height : 36px;  text-align : center;  margin-left : 50px;  font-weight : 450;  clear : both;}.canvas-task-tab-element {  padding-top : 8px;  padding-bottom : 10px;  width : 120px;  height : 36px;  color : #000;  float : left;  /*cursor : pointer;*/  text-align: left;  font-size: 20px;  /*border-left : 1px solid #c5c5c5;  border-top-left-radius:0.5em;  border-top-right-radius:0.5em;*/}.canvas-task-status-container {  margin-left : 58px;  margin-bottom : 20px;}.canvas-task-status {  padding-top : 8px;  padding-bottom : 10px;  /*background-color : #0a8cc4;*/  width : 80px;  height : 36px;  margin-left: 10px;  color : #000;  float : left;  text-align : center;}.canvas-task-status-fa {  padding-top : 8px;  padding-bottom : 10px;  width : 80px;  height : 36px;  color : #000;  float : left;  text-align : left;}.canvas-task-info {  margin-left : 50px;  margin-right : 50px;  padding-left : 25px;  /*border-top : 1px solid #0a8cc4;*/  /*border-bottom : 1px solid #0a8cc4;*/  max-width : 1000px;  padding-top : 25px;  padding-bottom : 35px;}.no-select{   user-select: none;   -o-user-select:none;   -moz-user-select: none;   -khtml-user-select: none;   -webkit-user-select: none;}.pointer {  cursor : pointer;}.task-graph {  /*background-color : #f5f5f5;*/}.canvas-fa-index {  z-index : 10;  font-size: 16px;}.task-graph-container {  /*background-color : #f5f5f5;*/  position: relative;}.canvas-job-title {  margin-left: 50px;  margin-top: 15px;  font-size: 20px;  font-weight: 450;}.canvas-task-view-border {  border-top : 1px solid #0a8cc4;}.canvas-job-container {  margin-top : 5px;  margin-left: 20px;  margin-right : 20px;  color : #000;}.canvas-job-running-column {  cursor : pointer;  border-top : 1px solid #0a8cc4;}.canvas-job-running-val {  padding-top : 5px;  padding-bottom : 5px;  color : #000;  font-size : 13px;  font-weight : 400;  float : left;  text-align : left;}.canvas-job-running-val.starttime {  padding-left: 5px;  width : 160px;}.canvas-job-running-val.name {  padding-left: 5px;  width : 300px;}.canvas-job-running-val.status {  padding-left: 5px;  width : 100px;}.canvas-job-running-val.type {  padding-left: 5px;  width : 160px;}.canvas-job-history-container {  color : #000;  font-size : 14px;  font-weight : 450;  float : left;  text-align : left;  width : 100%;}.canvas-job-history-val {  color : #000;  font-size : 14px;  font-weight : 450;  float : left;  text-align : left;  height : 40px;}.canvas-job-history-container:nth-child(even) {  background-color : #f5f5f5;}.canvas-job-history-val.starttime {  padding-top : 8px;  padding-bottom : 5px;  padding-left: 15px;  width : 20%;  border-right : 1px solid #e0e0e0;}.canvas-job-history-val.name {  padding-top : 8px;  padding-bottom : 5px;  padding-left: 15px;  width : 30%;  border-right : 1px solid #e0e0e0;}.canvas-job-history-val.endtime {  padding-top : 8px;  padding-bottom : 5px;  padding-left: 10px;  width : 16%;  border-right : 1px solid #e0e0e0;}.canvas-job-history-val.duration {  padding-top : 8px;  padding-bottom : 5px;  padding-left: 10px;  width : 14%;}.canvas-job-history-val.status {  padding-top : 8px;  padding-bottom : 5px;  padding-left: 5px;  width : 14%;  border-right : 1px solid #e0e0e0;}.canvas-job-history-val.type {  padding-top : 8px;  padding-bottom : 5px;  padding-left: 10px;  width : 20%;  border-left : 1px solid #e0e0e0;}.canvas-job-title-val {  padding-top : 5px;  padding-bottom : 5px;  color : #000;  font-size : 16px;  font-weight : 500;  float : left;  text-align : left;  width : 100%;}.canvas-job-title-val.starttime {  padding-left: 15px;  width : 20%;}.canvas-job-title-val.name {  padding-left: 15px;  width : 30%;}.canvas-job-title-val.endtime {  padding-left: 10px;  width : 16%;}.canvas-job-title-val.duration {  padding-left: 10px;  width : 14%;}.canvas-job-title-val.status {  padding-left: 5px;  width : 14%;}.canvas-job-title-val.type {  padding-left: 10px;  width : 20%;}table.canvas-job-list {  padding: 10px;  background-color: #fff;  width: 100%;}table.canvas-job-list tr {  width: 100%;}table.canvas-job-list tr:nth-child(even) {  background-color : #f9f9f9;}table.canvas-job-list th {  padding-top : 15px;  padding-bottom : 5px;  color : #000;  font-size : 16px;  font-weight : 500;  float : left;  text-align : left;  width : 100%;  height: 50px;}table.canvas-job-list th:nth-child(1) {  padding-left: 40px;  width : 14%;}table.canvas-job-list th:nth-child(2) {  padding-left: 15px;  width : 30%;}table.canvas-job-list th:nth-child(3) {  padding-left: 10px;  width : 20%;}table.canvas-job-list th:nth-child(4) {  padding-left: 15px;  width : 20%;}table.canvas-job-list th:nth-child(5) {  padding-left: 10px;  width : 14%;}table.canvas-job-list td {  color : #000;  font-size : 14px;  font-weight : 450;  float : left;  text-align : left;  height : 50px;}table.canvas-job-list td:nth-child(1) {  padding-top : 12px;  padding-bottom : 5px;  padding-left: 15px;  width : 14%;  border-right : 2px solid #eeeeee;}table.canvas-job-list td:nth-child(2) {  padding-top : 8px;  padding-bottom : 5px;  padding-left: 15px;  width : 30%;  border-right : 2px solid #eeeeee;}table.canvas-job-list td:nth-child(3) {  padding-top : 12px;  padding-bottom : 5px;  padding-left: 10px;  width : 20%;  border-right : 2px solid #eeeeee;}table.canvas-job-list td:nth-child(4) {  padding-top : 8px;  padding-bottom : 5px;  padding-left: 15px;  width : 20%;}table.canvas-job-list td:nth-child(5) {  border-left : 2px solid #eeeeee;  padding-top : 12px;  padding-bottom : 5px;  padding-left: 10px;  width : 14%;}.canvas-job-statusbox {  margin-top : 2px;  margin-left : 2px;  padding-left : 5px;  padding-top : 5px;  padding-bottom : 5px;  height : 30px;  max-width : 120px;}.canvas-job-tab {  height : 30px;  text-align : center;  margin-left : 50px;  font-weight : 450;  clear : both;}.canvas-job-tab-element {  padding-top : 8px;  width : 100px;  height : 30px;  color : #000;  float : left;  cursor : pointer;  text-align: center;  font-size: 13px;  margin-right: -1px;  border-left : 1px solid #c5c5c5;  border-top : 1px solid #c5c5c5;  border-right : 1px solid #c5c5c5;}.canvas-job-wrapper {  border-left : 1px solid #c5c5c5;  border-top : 1px solid #c5c5c5;  border-right : 1px solid #c5c5c5;  border-bottom : 1px solid #c5c5c5;  margin-left : 50px;  padding-right : 25px;  margin-right : 50px;  padding-left : 25px;  padding-right : 25px;  min-width : 800px;  padding-top : 25px;  padding-bottom : 35px;  margin-top : -1px;}.canvas-task-graph {  margin-top : 10px;  margin-bottom: 10px;  margin-left : 10px;  margin-right : 10px;  background-color: white;  max-width: none;  float: left;}.canvas-task-info-table {  margin-left : 20px;  margin-right : 30px;  padding-top : 20px;}.canvas-task-status-header {  font-size: 16px;  margin-bottom: 2px;}.canvas-task-info-header {  height: 28px;  padding-top: 2px;  font-size : 16px;  margin-bottom: 2px;  border-bottom: 1px solid #fff;  background-color: #eeeeee;  color: #000;  padding-left: 10px;}.canvas-task-info-type {  font-size : 14px;  font-weight: 400;}.canvas-task-info-val-wrapper {  padding-left: 5px;  background-color: #f8f8f8;  font-size : 16px;  font-weight: 400;}.canvas-task-info-val-input {  padding-left : 10px;  width : 200px;  font-size : 14px;}.canvas-task-info-val-input-inner {  padding-left : 10px;  width : 180px;  font-size : 14px;}.canvas-task-info-val-param {  padding-left : 10px;  width : 200px;  font-size : 14px;}.canvas-task-info-val-param:nth-of-type(odd) {  background-color : #f5f5f5;}.canvas-task-info-val-output {  padding-left : 10px;  width : 200px;  font-size : 14px;}.canvas-task-info-val-output:nth-of-type(odd) {  background-color : #f5f5f5;}table.canvas-task-table th {  padding-top: 5px;  padding-bottom: 5px;  text-align : left;  font-weight : 500;  font-size : 16px;}table.canvas-task-table tr {}table.canvas-task-table td {  padding-top: 8px;  padding-bottom: 10px;  font-weight : 450;  font-size : 14px;}table.canvas-task-table td:nth-child(1) {  width:15%;  padding-left: 5px;}table.canvas-task-table td:nth-child(2) {  width:40%;  padding-left: 15px;}table.canvas-task-table td:nth-child(3) {  width:25%;  padding-left: 10px;}table.canvas-task-table td:nth-child(4) {  width:20%;  padding-left: 10px;}table.canvas-task-table th:nth-child(1) {  width:15%;  padding-left: 25px;}table.canvas-task-table th:nth-child(2) {  width:40%;  padding-left: 25px;}table.canvas-task-table th:nth-child(3) {  width:25%;  padding-left: 10px;}table.canvas-task-table th:nth-child(4) {  width:20%;  padding-left: 10px;}table.canvas-task-table {  color : #000;  width: 100%;}table.canvas-task-table-outer {  color : #000;  width: 100%;}table.canvas-task-table-outer tr {  width: 100%;  height: 100%;}table.canvas-task-table-outer td {}table.canvas-task-table-outer tr:nth-child(even) {  background-color : #f5f5f5;}.circle-index {  color: #fff;  text-align: center;  width:20px;  height:20px;  border-radius:10px;  float: left;}.canvas-task-wrapper {  background-color: #fff;  border-top : 1px solid #c5c5c5;  border-bottom : 1px solid #c5c5c5;  padding-right : 25px;  padding-left : 25px;  min-width : 600px;  padding-top : 25px;  padding-bottom : 35px;}.canvas-task-display {  color : #000;  background-color: white;  max-width: none;  border-left : 29px solid #f8f8f8;}.canvas-task-table-container {  margin-left : 10px;  margin-right : 10px;  background-color: white;  max-width: none;  float: left;}.canvas-log-title {  text-align: left;}.canvas-log-data {  text-align: right;}.canvas-log-button {  color: #0a8cc4;}.canvas-log-button:hover,focus {  color: #ff5500;}.canvas-task-label-text {  font-size: 12px;  font-weight: 400;}.canvas-task-label-code {  fill: #fff;  font-weight: 400;  font-size: 16px;}.canvas-dep-graph-task-circle {  fill: #fff;  font-size: 14px;  font-weight: 400;}.canvas-job-timeline-container {  width: 100%;  padding-left: 20px;  padding-right: 20px;}.canvas-task-timeline-table-title {  padding-top: 15px;  padding-left: 40px;  font-size: 18px;  font-weight: 300;  color: #6d7485;  height: 50px;}table.canvas-task-timeline-table-outer {  width: 100%;  background-color: #fff;}table.canvas-task-timeline-table-outer tr {  min-width: 800px;  max-height: 40px;  border-bottom: 2px solid #fff;}table.canvas-task-timeline-table-outer td {  max-height: 40px;  min-height: 40px;  padding-left: 15px;  padding-right: 15px;}table.canvas-task-timeline-table {  width: 100%;}table.canvas-task-timeline-table tr {  min-width: 800px;  max-height: 40px;  background-color: #f8f8f8;  border-bottom: 0px solid #fff;}table.canvas-task-timeline-table th {  height: 40px;}table.canvas-task-timeline-table th:nth-child(1) {  padding-left: 8px;  max-width:30px;  min-width:30px;  border-right: 1px solid #fff;}table.canvas-task-timeline-table th:nth-child(2) {  font-size: 16px;  width:250px;  min-width:250px;  border-right: 1px solid #fff;}table.canvas-task-timeline-table th:nth-child(3) {  width:25px;  min-width:25px;}table.canvas-task-timeline-table td {  max-height: 40px;  padding: 0px;}table.canvas-task-timeline-table td:nth-child(1) {  padding-left: 8px;  max-width:30px;  min-width:30px;  background-color: #f8f8f8;  border-right: 2px solid #fff;}table.canvas-task-timeline-table td:nth-child(2) {  width:250px;  font-size: 14px;  min-width:250px;  background-color: #f8f8f8;}table.canvas-task-timeline-table td:nth-child(3) {  width:20px;  font-size: 14px;  min-width:20px;  background-color: #f8f8f8;  border-right: 2px solid #fff;}table.canvas-task-timeline-table td:nth-child(4) {  font-size:0px;  line-height: 0;  min-width:25px;  background-color: #eeeeee;}.canvas-timeline-time-info {  font-size: 12px;  font-weight: 500;  color: #5e5555;}.canvas-timeline-time-val {  font-size: 13px;  font-weight: 400;  color: #000;  margin-bottom: 10px;}.canvas-task-timeline-task-running {  -webkit-animation-name: blinker;  -webkit-animation-duration: 1s;  -webkit-animation-timing-function: linear;  -webkit-animation-iteration-count: infinite;  -moz-animation-name: blinker;  -moz-animation-duration: 1s;  -moz-animation-timing-function: linear;  -moz-animation-iteration-count: infinite;  animation-name: blinker;  animation-duration: 1s;  animation-timing-function: linear;  animation-iteration-count: infinite;}@-moz-keyframes blinker {  0% { opacity: 1.0; }  50% { opacity: 0.0; }  100% { opacity: 1.0; }}@-webkit-keyframes blinker {  0% { opacity: 1.0; }  50% { opacity: 0.0; }  100% { opacity: 1.0; }}@keyframes blinker {  0% { opacity: 1.0; }  50% { opacity: 0.0; }  100% { opacity: 1.0; }}.canvas-task-progressbar.progress {  height: 40px;  border-radius: 0px;  box-shadow: none;  -webkit-box-shadow: none;  background-color: #85bd00;  position: relative;  margin-bottom: 0px;  top:0px;}.canvas-task-progressbar.progress > .progress-bar {  background-color: #85bd00;  box-shadow: none;  -webkit-box-shadow: none;  position: absolute;}.canvas-job-info-label {  color: #0a8cc4;}.canvas-job-info-container {  padding-left: 20px;  padding-right: 20px;}.canvas-job-log-container {  background-color: #fff;  padding: 20px;}.canvas-job-log-viewer {  width: 100%;}table.canvas-task-status-table {  width: 100%;  background-color: #f8f8f8;}table.canvas-task-status-table tr {  height: 40px;  font-size: 14px;  font-weight: 400px;}table.canvas-task-status-table tr:nth-child(even) {  background-color : #f3f3f3;}table.canvas-task-status-table th {  padding-top: 5px;  padding-left: 20px;  font-size: 16px;  font-weight: 500;}table.canvas-task-status-table th:nth-child(1) {  padding-left: 45px;}table.canvas-task-status-table td {  padding-left: 20px;  font-size: 14px;  font-weight: 400px;  text-align: left;  padding-right: 10px;}table.canvas-task-status-table td:nth-child(1) {  width: 18%;}table.canvas-task-status-table td:nth-child(2) {  width: 65%;}table.canvas-task-status-table td:nth-child(3) {  width: 17%;}table.canvas-job-info-table {  width: 100%;  background-color: #fff;}table.canvas-job-info-table tr {  height: 40px;  font-size: 18px;}table.canvas-job-info-table tr:nth-child(even) {  background-color : #f8f8f8;}table.canvas-job-info-table td:nth-child(1) {  font-size: 15px;  text-align: left;  font-weight: 400;  padding-left: 40px;  width: 18%;}table.canvas-job-info-table td:nth-child(2) {  text-align: left;  font-weight: 400;  width: 60%;  font-size: 15px;}table.canvas-job-info-table td:nth-child(3) {  text-align: left;  font-weight: 300;  width: 26%;  font-size: 17px;}table.canvas-job-info-table td:nth-child(4) {  text-align: left;  font-size: 14px;  font-weight: 400;  width: 6%;}.canvas-job-info-list {  text-align: left;  font-size: 15px;  font-weight: 400;  padding-left: 20px;  padding-right: 20px;  padding-top: 5px;  padding-bottom: 5px;}.canvas-job-task-header {  height: 40px;  padding-top: 10px;  padding-bottom: 10px;  padding-left: 20px;  padding-right: 20px;  margin-bottom: 10px;}.canvas-job-timeline-header {  width: 100%;  background-color: #c5c5c5;  height: 40px;}.canvas-job-timeline-title {  padding-top: 6px;  padding-left: 10px;  background-color: #c5c5c5;  font-size: 20px;  height: 40px;  width: 15%;  font-weight: 300;  float: left;  color: #fff;}.canvas-job-timeline-status {  text-align: right;  padding-top: 10px;  padding-left: 15px;  padding-right: 15px;  background-color: #d8d8d8;  color: #fff;  float: right;  height: 40px;  font-size: 16px;  font-weight: 300;  max-width: 240px;  min-width: 160px;}.canvas-ps-dashboard {  background-color: #fff;  color: #000;}table.canvas-ps-list-table {  padding-left:50px;  padding-right: 50px;  width: 100%;  background-color: #fff;}table.canvas-ps-list-table tr{  padding-top: 10px;  height: 40px;  width: 100%;}table.canvas-ps-list-table tr:nth-child(even) {  background-color : #f9f9f9;}table.canvas-ps-list-table th {  padding-top : 15px;  padding-bottom : 5px;  color : #000;  font-size : 16px;  font-weight : 500;  text-align : left;  height: 50px;}table.canvas-ps-list-table th:nth-child(1) {  padding-left: 40px;  text-align: left;  width: 40%;}table.canvas-ps-list-table th:nth-child(2) {  text-align: left;  width: 40%;  padding-left: 20px;}table.canvas-ps-list-table th:nth-child(3) {  text-align: left;  width: 20%;  padding-left: 20px;}table.canvas-ps-list-table td {  color : #000;  font-size : 15px;  font-weight : 400;  text-align : left;  height : 40px;}table.canvas-ps-list-table td:nth-child(1) {  text-align: left;  padding-left: 40px;  width: 40%;  padding-top : 8px;  padding-bottom : 5px;  border-right : 2px solid #eeeeee;}table.canvas-ps-list-table td:nth-child(2) {  text-align: left;  width: 40%;  padding-left: 20px;  padding-top : 8px;  padding-bottom : 5px;  border-right : 2px solid #eeeeee;}table.canvas-ps-list-table td:nth-child(3) {  text-align: left;  width: 20%;  padding-left: 20px;  padding-top : 8px;  padding-bottom : 5px;}.canvas-ps-list-title {  margin-top: 5px;  margin-left: 20px;  font-size : 26px;  font-weight: 300;  padding-left: 20px;  padding-bottom: 5px;  color: #0a8cc4;}.canvas-ps-metrics-container {  padding-top: 20px;  padding-right: 55px;  float: right;  color: #ff5500;  font-size: 14px;  font-weight: 400;}.canvas-ps-info-container {  min-height: 238px;  margin-bottom: 15px;}table.canvas-ps-info-table {  margin-left: 20px;  margin-right: 30px;  margin-top: 5px;}table.canvas-ps-info-table tr{  padding-top: 10px;  height: 30px;}table.canvas-ps-info-table td:nth-child(1) {  padding-left: 20px;  font-weight: 300;  font-size: 17px;  vertical-align: top;}table.canvas-ps-info-table td:nth-child(2) {  width: 20px;  text-align: center;  font-size: 17px;  vertical-align: top;}table.canvas-ps-info-table td:nth-child(3) {  padding-left: 10px;  text-align: left;  font-size: 16px;  font-weight: 400;  vertical-align: top;}.canvas-ps-deployed-objects {  margin-bottom: 30px;}.canvas-ps-deployed-title {  margin-top: 5px;  font-size : 18px;  font-weight: 400;  padding-bottom: 5px;  padding-left: 20px;  padding-bottom: 5px;  color: #2e2e2e;}table.canvas-ps-deployed-table {  min-width: 700px;}table.canvas-ps-deployed-table tr{  padding-top: 10px;  padding-left: 20px;  height: 40px;  width: 100%;}table.canvas-ps-deployed-table tr:nth-child(even) {  background-color : #f9f9f9;}table.canvas-ps-deployed-table th:nth-child(1) {  padding-left: 20px;  width: 80%;  font-size: 16px;  font-weight: 400;}table.canvas-ps-deployed-table th:nth-child(2) {  padding-left: 20px;  width: 20%;  font-size: 16px;  font-weight: 400;}table.canvas-ps-deployed-table td:nth-child(1) {  padding-left: 20px;  width: 80%;  font-size: 15px;  font-weight: 400;  border-right : 2px solid #eeeeee;}table.canvas-ps-deployed-table td:nth-child(2) {  padding-left: 20px;  width: 20%;  font-size: 15px;  font-weight: 400;}table.canvas-ps-pending-table {  min-width: 700px;}table.canvas-ps-pending-table tr{  padding-top: 10px;  padding-left: 20px;  height: 40px;  width: 100%;}table.canvas-ps-pending-table tr:nth-child(even) {  background-color : #f9f9f9;}table.canvas-ps-pending-table th:nth-child(1) {  padding-left: 20px;  width: 60%;  font-size: 16px;  font-weight: 400;}table.canvas-ps-pending-table th:nth-child(2) {  padding-left: 20px;  width: 20%;  font-size: 16px;  font-weight: 400;}table.canvas-ps-pending-table th:nth-child(3) {  padding-left: 20px;  width: 20%;  font-size: 16px;  font-weight: 400;}table.canvas-ps-pending-table td:nth-child(1) {  padding-left: 20px;  width: 60%;  font-size: 15px;  font-weight: 400;  border-right : 2px solid #eeeeee;}table.canvas-ps-pending-table td:nth-child(2) {  width: 20%;  padding-left: 20px;  font-size: 15px;  font-weight: 400;  border-right : 2px solid #eeeeee;}table.canvas-ps-pending-table td:nth-child(3) {  width: 20%;  padding-left: 20px;  font-size: 15px;  font-weight: 400;}.canvas-ps-tab {  height : 40px;  text-align : center;  margin-left : 40px;  font-weight : 450;  clear : both;  min-width: 360px;}.canvas-ps-tab-element {  padding-top : 8px;  width : 180px;  height : 40px;  color : #000;  float : left;  cursor : pointer;  text-align: center;  font-size: 15px;  font-weight: 400;  margin-right: -1px;  border-left : 1px solid #dedede;  border-top : 1px solid #dedede;  border-right : 1px solid #dedede;}.canvas-ps-wrapper {  border-left : 1px solid #dedede;  border-top : 1px solid #dedede;  border-right : 1px solid #dedede;  border-bottom : 1px solid #dedede;  margin-left : 40px;  padding-right : 25px;  margin-right : 50px;  padding-left : 25px;  padding-right : 25px;  min-width : 800px;  padding-top : 25px;  padding-bottom : 35px;  margin-top : -1px;  margin-bottom: 10px;}.canvas-ps-query-dropdown {  -webkit-border-radius: 0;  -moz-border-radius: 0;  border-radius: 0;}.canvas-ps-query-model-name {  font-size: 18px;  font-weight: 300;}.canvas-ps-query-model-bar {  font-size: 18px;  font-weight: 300;  color: #fff;  padding-left: 15px;  padding-top: 5px;  height: 35px;  background-color: #c5c5c5;  width:100%;  -webkit-border-radius: 0;  -moz-border-radius: 0;  border-radius: 0;}.canvas-ps-query-textarea-input {  width: 100%;  overflow: auto;  resize: none;  -webkit-border-radius: 0;  -moz-border-radius: 0;  border-radius: 0;}.canvas-ps-query-textarea-result {  width: 100%;  height: 334px;  overflow: auto;  background-color: #f5f5f5;}.canvas-ps-query-area-wrapper {  width: 100%;}.canvas-ps-query-error {  clear: both;  font-size: 12px;  font-weight: 500;  color: #B80000;  height: 10px;  margin-bottom: 15px;  margin-top: -10px;}.canvas-link {  color: #0a8cc4;  text-decoration: underline;}.canvas-link:hover,focus {  color: #ff5500;}.canvas-link.active {  color: #ff5500;}\"));\n",
        "            document.head.appendChild(s);\n",
        "        \n",
        "\n",
        "                require.config({\n",
        "                    'paths': {\"react\": \"//dato.com/files/canvas/1.1/js/vendor/react/react-with-addons.min\", \"topojson\": \"//dato.com/files/canvas/1.1/js/vendor/topojson/topojson.min\", \"react-bootstrap\": \"//dato.com/files/canvas/1.1/js/vendor/react-bootstrap/react-bootstrap.min\", \"bowser\": \"//dato.com/files/canvas/1.1/js/vendor/bowser/bowser.min\", \"hljs\": \"//dato.com/files/canvas/1.1/js/vendor/hljs/highlight.pack\", \"dagre\": \"//dato.com/files/canvas/1.1/js/vendor/dagre/dagre.min\", \"bootstrap\": \"//dato.com/files/canvas/1.1/js/vendor/bootstrap/bootstrap.min\", \"d3\": \"//dato.com/files/canvas/1.1/js/vendor/d3/d3.min\", \"lodash\": \"//dato.com/files/canvas/1.1/js/vendor/lodash/lodash.min\"}\n",
        "                });\n",
        "\n",
        "                // figure out whether we are in IPython Notebook or HTML output\n",
        "                // in the case of HTML output (nbconvert) we need to output to our own <script>\n",
        "                // tag's parent element. In the case of a real IPython Notebook we\n",
        "                // can use the provided \"element\" variable.\n",
        "                var e = null;\n",
        "                if (typeof element == 'undefined') {\n",
        "                    var scripts = document.getElementsByTagName('script');\n",
        "                    var thisScriptTag = scripts[scripts.length-1];\n",
        "                    var parentDiv = thisScriptTag.parentNode;\n",
        "                    e = document.createElement('div');\n",
        "                    parentDiv.appendChild(e);\n",
        "                } else {\n",
        "                    e = element[0];\n",
        "                }\n",
        "\n",
        "                require(['react', 'sframe'], function(React, Component) {React.renderComponent(Component.Summary({\"ipython\": true, \"sketch\": {\"dates\": {\"complete\": true, \"numeric\": false, \"num_unique\": 2615, \"num_undefined\": 0, \"progress\": 1.0, \"frequent_items\": {\"25,November,2003\": {\"frequency\": 524, \"value\": \"25,November,2003\"}, \"17,July,2004\": {\"frequency\": 4003, \"value\": \"17,July,2004\"}, \"26,June,2004\": {\"frequency\": 2751, \"value\": \"26,June,2004\"}, \"17,July,2002\": {\"frequency\": 70, \"value\": \"17,July,2002\"}, \"17,July,2003\": {\"frequency\": 277, \"value\": \"17,July,2003\"}, \"03,agosto,2004\": {\"frequency\": 74, \"value\": \"03,agosto,2004\"}, \"01,agosto,2004\": {\"frequency\": 176, \"value\": \"01,agosto,2004\"}, \"04,ottobre,2003\": {\"frequency\": 141, \"value\": \"04,ottobre,2003\"}, \"23,August,2004\": {\"frequency\": 790, \"value\": \"23,August,2004\"}, \"08,November,2002\": {\"frequency\": 108, \"value\": \"08,November,2002\"}, \"23,August,2003\": {\"frequency\": 260, \"value\": \"23,August,2003\"}, \"25,mars,2004\": {\"frequency\": 75, \"value\": \"25,mars,2004\"}, \"15,May,2003\": {\"frequency\": 244, \"value\": \"15,May,2003\"}, \"26,April,2004\": {\"frequency\": 1134, \"value\": \"26,April,2004\"}, \"26,April,2003\": {\"frequency\": 225, \"value\": \"26,April,2003\"}, \"19,juillet,2004\": {\"frequency\": 105, \"value\": \"19,juillet,2004\"}, \"06,Junho,2004\": {\"frequency\": 108, \"value\": \"06,Junho,2004\"}, \"20,April,2003\": {\"frequency\": 202, \"value\": \"20,April,2003\"}, \"20,April,2004\": {\"frequency\": 955, \"value\": \"20,April,2004\"}, \"07,July,2003\": {\"frequency\": 318, \"value\": \"07,July,2003\"}, \"04,June,2004\": {\"frequency\": 3679, \"value\": \"04,June,2004\"}, \"04,June,2003\": {\"frequency\": 208, \"value\": \"04,June,2003\"}, \"04,February,2004\": {\"frequency\": 699, \"value\": \"04,February,2004\"}, \"19,November,2003\": {\"frequency\": 551, \"value\": \"19,November,2003\"}, \"21,May,2003\": {\"frequency\": 268, \"value\": \"21,May,2003\"}, \"26,May,2003\": {\"frequency\": 207, \"value\": \"26,May,2003\"}, \"26,May,2004\": {\"frequency\": 3180, \"value\": \"26,May,2004\"}, \"21,May,2004\": {\"frequency\": 2682, \"value\": \"21,May,2004\"}, \"04,February,2003\": {\"frequency\": 189, \"value\": \"04,February,2003\"}, \"21,September,2003\": {\"frequency\": 343, \"value\": \"21,September,2003\"}, \"24,January,2004\": {\"frequency\": 472, \"value\": \"24,January,2004\"}, \"20,July,2004\": {\"frequency\": 5153, \"value\": \"20,July,2004\"}, \"13,December,2002\": {\"frequency\": 88, \"value\": \"13,December,2002\"}, \"20,July,2003\": {\"frequency\": 249, \"value\": \"20,July,2003\"}, \"15,August,2003\": {\"frequency\": 273, \"value\": \"15,August,2003\"}, \"15,August,2002\": {\"frequency\": 82, \"value\": \"15,August,2002\"}, \"05,December,2002\": {\"frequency\": 115, \"value\": \"05,December,2002\"}, \"05,December,2003\": {\"frequency\": 446, \"value\": \"05,December,2003\"}, \"15,August,2004\": {\"frequency\": 2296, \"value\": \"15,August,2004\"}, \"05,September,2003\": {\"frequency\": 279, \"value\": \"05,September,2003\"}, \"29,August,2003\": {\"frequency\": 261, \"value\": \"29,August,2003\"}, \"20,October,2003\": {\"frequency\": 476, \"value\": \"20,October,2003\"}, \"20,October,2002\": {\"frequency\": 76, \"value\": \"20,October,2002\"}, \"12,November,2003\": {\"frequency\": 448, \"value\": \"12,November,2003\"}, \"12,November,2002\": {\"frequency\": 124, \"value\": \"12,November,2002\"}, \"01,March,2003\": {\"frequency\": 123, \"value\": \"01,March,2003\"}, \"12,October,2003\": {\"frequency\": 376, \"value\": \"12,October,2003\"}, \"12,December,2002\": {\"frequency\": 93, \"value\": \"12,December,2002\"}, \"12,December,2003\": {\"frequency\": 412, \"value\": \"12,December,2003\"}, \"16,May,2004\": {\"frequency\": 1942, \"value\": \"16,May,2004\"}, \"19,June,2003\": {\"frequency\": 234, \"value\": \"19,June,2003\"}, \"18,December,2002\": {\"frequency\": 99, \"value\": \"18,December,2002\"}, \"18,December,2003\": {\"frequency\": 468, \"value\": \"18,December,2003\"}, \"27,April,2004\": {\"frequency\": 1074, \"value\": \"27,April,2004\"}, \"17,December,2003\": {\"frequency\": 509, \"value\": \"17,December,2003\"}, \"27,April,2003\": {\"frequency\": 239, \"value\": \"27,April,2003\"}, \"29,July,2003\": {\"frequency\": 312, \"value\": \"29,July,2003\"}, \"29,July,2002\": {\"frequency\": 88, \"value\": \"29,July,2002\"}, \"29,July,2004\": {\"frequency\": 5093, \"value\": \"29,July,2004\"}, \"11,November,2002\": {\"frequency\": 126, \"value\": \"11,November,2002\"}, \"11,November,2003\": {\"frequency\": 522, \"value\": \"11,November,2003\"}, \"31,December,2003\": {\"frequency\": 265, \"value\": \"31,December,2003\"}, \"01,janvier,2004\": {\"frequency\": 69, \"value\": \"01,janvier,2004\"}, \"26,January,2003\": {\"frequency\": 144, \"value\": \"26,January,2003\"}, \"26,January,2004\": {\"frequency\": 739, \"value\": \"26,January,2004\"}, \"06,August,2003\": {\"frequency\": 321, \"value\": \"06,August,2003\"}, \"06,August,2002\": {\"frequency\": 89, \"value\": \"06,August,2002\"}, \"06,August,2004\": {\"frequency\": 6291, \"value\": \"06,August,2004\"}, \"11,February,2004\": {\"frequency\": 669, \"value\": \"11,February,2004\"}, \"09,August,2003\": {\"frequency\": 187, \"value\": \"09,August,2003\"}, \"28,December,2003\": {\"frequency\": 349, \"value\": \"28,December,2003\"}, \"28,December,2002\": {\"frequency\": 74, \"value\": \"28,December,2002\"}, \"01,November,2003\": {\"frequency\": 435, \"value\": \"01,November,2003\"}, \"01,November,2002\": {\"frequency\": 119, \"value\": \"01,November,2002\"}, \"04,November,2002\": {\"frequency\": 119, \"value\": \"04,November,2002\"}, \"04,November,2003\": {\"frequency\": 463, \"value\": \"04,November,2003\"}, \"19,March,2004\": {\"frequency\": 601, \"value\": \"19,March,2004\"}, \"19,March,2003\": {\"frequency\": 208, \"value\": \"19,March,2003\"}, \"23,March,2003\": {\"frequency\": 214, \"value\": \"23,March,2003\"}, \"10,July,2004\": {\"frequency\": 3764, \"value\": \"10,July,2004\"}, \"10,July,2003\": {\"frequency\": 265, \"value\": \"10,July,2003\"}, \"10,July,2002\": {\"frequency\": 71, \"value\": \"10,July,2002\"}, \"02,September,2002\": {\"frequency\": 70, \"value\": \"02,September,2002\"}, \"02,September,2003\": {\"frequency\": 363, \"value\": \"02,September,2003\"}, \"31,July,2003\": {\"frequency\": 184, \"value\": \"31,July,2003\"}, \"31,July,2004\": {\"frequency\": 2385, \"value\": \"31,July,2004\"}, \"15,April,2003\": {\"frequency\": 205, \"value\": \"15,April,2003\"}, \"10,June,2004\": {\"frequency\": 4727, \"value\": \"10,June,2004\"}, \"03,December,2002\": {\"frequency\": 111, \"value\": \"03,December,2002\"}, \"03,December,2003\": {\"frequency\": 530, \"value\": \"03,December,2003\"}, \"10,June,2003\": {\"frequency\": 268, \"value\": \"10,June,2003\"}, \"13,Junho,2004\": {\"frequency\": 230, \"value\": \"13,Junho,2004\"}, \"07,June,2004\": {\"frequency\": 6413, \"value\": \"07,June,2004\"}, \"11,January,2004\": {\"frequency\": 488, \"value\": \"11,January,2004\"}, \"11,January,2003\": {\"frequency\": 121, \"value\": \"11,January,2003\"}, \"18,August,2003\": {\"frequency\": 350, \"value\": \"18,August,2003\"}, \"03,July,2004\": {\"frequency\": 3669, \"value\": \"03,July,2004\"}, \"20,November,2002\": {\"frequency\": 99, \"value\": \"20,November,2002\"}, \"20,November,2003\": {\"frequency\": 451, \"value\": \"20,November,2003\"}, \"18,August,2004\": {\"frequency\": 1790, \"value\": \"18,August,2004\"}, \"10,August,2003\": {\"frequency\": 223, \"value\": \"10,August,2003\"}, \"21,November,2003\": {\"frequency\": 435, \"value\": \"21,November,2003\"}, \"21,November,2002\": {\"frequency\": 123, \"value\": \"21,November,2002\"}, \"10,August,2004\": {\"frequency\": 7448, \"value\": \"10,August,2004\"}, \"20,February,2003\": {\"frequency\": 225, \"value\": \"20,February,2003\"}, \"20,February,2004\": {\"frequency\": 611, \"value\": \"20,February,2004\"}, \"18,November,2003\": {\"frequency\": 520, \"value\": \"18,November,2003\"}, \"03,June,2004\": {\"frequency\": 5570, \"value\": \"03,June,2004\"}, \"18,October,2003\": {\"frequency\": 313, \"value\": \"18,October,2003\"}, \"03,June,2003\": {\"frequency\": 259, \"value\": \"03,June,2003\"}, \"03,June,2002\": {\"frequency\": 71, \"value\": \"03,June,2002\"}, \"03,January,2004\": {\"frequency\": 397, \"value\": \"03,January,2004\"}, \"03,January,2003\": {\"frequency\": 110, \"value\": \"03,January,2003\"}, \"06,July,2003\": {\"frequency\": 177, \"value\": \"06,July,2003\"}, \"12,March,2004\": {\"frequency\": 659, \"value\": \"12,March,2004\"}, \"12,March,2003\": {\"frequency\": 192, \"value\": \"12,March,2003\"}, \"24,December,2003\": {\"frequency\": 337, \"value\": \"24,December,2003\"}, \"24,December,2002\": {\"frequency\": 86, \"value\": \"24,December,2002\"}, \"13,October,2003\": {\"frequency\": 430, \"value\": \"13,October,2003\"}, \"21,July,2003\": {\"frequency\": 312, \"value\": \"21,July,2003\"}, \"27,July,2004\": {\"frequency\": 5328, \"value\": \"27,July,2004\"}, \"27,July,2003\": {\"frequency\": 326, \"value\": \"27,July,2003\"}, \"17,April,2004\": {\"frequency\": 623, \"value\": \"17,April,2004\"}, \"27,September,2003\": {\"frequency\": 223, \"value\": \"27,September,2003\"}, \"27,September,2002\": {\"frequency\": 82, \"value\": \"27,September,2002\"}, \"13,October,2002\": {\"frequency\": 88, \"value\": \"13,October,2002\"}, \"16,February,2003\": {\"frequency\": 167, \"value\": \"16,February,2003\"}, \"21,December,2002\": {\"frequency\": 74, \"value\": \"21,December,2002\"}, \"21,December,2003\": {\"frequency\": 360, \"value\": \"21,December,2003\"}, \"21,August,2004\": {\"frequency\": 1099, \"value\": \"21,August,2004\"}, \"21,August,2002\": {\"frequency\": 96, \"value\": \"21,August,2002\"}, \"21,August,2003\": {\"frequency\": 351, \"value\": \"21,August,2003\"}, \"07,July,2004\": {\"frequency\": 4425, \"value\": \"07,July,2004\"}, \"16,February,2004\": {\"frequency\": 802, \"value\": \"16,February,2004\"}, \"13,June,2003\": {\"frequency\": 214, \"value\": \"13,June,2003\"}, \"24,August,2004\": {\"frequency\": 319, \"value\": \"24,August,2004\"}, \"04,juillet,2004\": {\"frequency\": 80, \"value\": \"04,juillet,2004\"}, \"13,November,2003\": {\"frequency\": 461, \"value\": \"13,November,2003\"}, \"30,September,2003\": {\"frequency\": 291, \"value\": \"30,September,2003\"}, \"24,August,2003\": {\"frequency\": 291, \"value\": \"24,August,2003\"}, \"18,April,2004\": {\"frequency\": 877, \"value\": \"18,April,2004\"}, \"25,January,2004\": {\"frequency\": 551, \"value\": \"25,January,2004\"}, \"25,January,2003\": {\"frequency\": 104, \"value\": \"25,January,2003\"}, \"03,November,2003\": {\"frequency\": 620, \"value\": \"03,November,2003\"}, \"02,August,2004\": {\"frequency\": 16545, \"value\": \"02,August,2004\"}, \"01,December,2002\": {\"frequency\": 137, \"value\": \"01,December,2002\"}, \"01,December,2003\": {\"frequency\": 682, \"value\": \"01,December,2003\"}, \"19,November,2002\": {\"frequency\": 114, \"value\": \"19,November,2002\"}, \"11,April,2004\": {\"frequency\": 751, \"value\": \"11,April,2004\"}, \"09,October,2002\": {\"frequency\": 125, \"value\": \"09,October,2002\"}, \"09,October,2003\": {\"frequency\": 431, \"value\": \"09,October,2003\"}, \"08,June,2004\": {\"frequency\": 3792, \"value\": \"08,June,2004\"}, \"07,January,2003\": {\"frequency\": 138, \"value\": \"07,January,2003\"}, \"22,June,2004\": {\"frequency\": 4023, \"value\": \"22,June,2004\"}, \"22,June,2003\": {\"frequency\": 216, \"value\": \"22,June,2003\"}, \"07,January,2004\": {\"frequency\": 512, \"value\": \"07,January,2004\"}, \"18,April,2003\": {\"frequency\": 128, \"value\": \"18,April,2003\"}, \"17,May,2004\": {\"frequency\": 2690, \"value\": \"17,May,2004\"}, \"25,November,2002\": {\"frequency\": 115, \"value\": \"25,November,2002\"}, \"22,February,2003\": {\"frequency\": 125, \"value\": \"22,February,2003\"}, \"01,June,2004\": {\"frequency\": 6400, \"value\": \"01,June,2004\"}, \"01,June,2003\": {\"frequency\": 236, \"value\": \"01,June,2003\"}, \"02,April,2004\": {\"frequency\": 810, \"value\": \"02,April,2004\"}, \"01,January,2004\": {\"frequency\": 489, \"value\": \"01,January,2004\"}, \"01,January,2003\": {\"frequency\": 98, \"value\": \"01,January,2003\"}, \"29,March,2004\": {\"frequency\": 956, \"value\": \"29,March,2004\"}, \"23,December,2002\": {\"frequency\": 89, \"value\": \"23,December,2002\"}, \"23,December,2003\": {\"frequency\": 433, \"value\": \"23,December,2003\"}, \"29,March,2003\": {\"frequency\": 102, \"value\": \"29,March,2003\"}, \"10,January,2004\": {\"frequency\": 383, \"value\": \"10,January,2004\"}, \"10,January,2003\": {\"frequency\": 131, \"value\": \"10,January,2003\"}, \"11,March,2004\": {\"frequency\": 715, \"value\": \"11,March,2004\"}, \"11,March,2003\": {\"frequency\": 214, \"value\": \"11,March,2003\"}, \"02,Maio,2004\": {\"frequency\": 343, \"value\": \"02,Maio,2004\"}, \"03,February,2003\": {\"frequency\": 208, \"value\": \"03,February,2003\"}, \"03,April,2003\": {\"frequency\": 224, \"value\": \"03,April,2003\"}, \"03,April,2004\": {\"frequency\": 608, \"value\": \"03,April,2004\"}, \"03,February,2004\": {\"frequency\": 691, \"value\": \"03,February,2004\"}, \"17,June,2004\": {\"frequency\": 3981, \"value\": \"17,June,2004\"}, \"17,June,2003\": {\"frequency\": 258, \"value\": \"17,June,2003\"}, \"07,October,2002\": {\"frequency\": 139, \"value\": \"07,October,2002\"}, \"07,October,2003\": {\"frequency\": 420, \"value\": \"07,October,2003\"}, \"10,November,2003\": {\"frequency\": 503, \"value\": \"10,November,2003\"}, \"10,November,2002\": {\"frequency\": 115, \"value\": \"10,November,2002\"}, \"02,October,2003\": {\"frequency\": 415, \"value\": \"02,October,2003\"}, \"02,October,2002\": {\"frequency\": 104, \"value\": \"02,October,2002\"}, \"25,March,2003\": {\"frequency\": 200, \"value\": \"25,March,2003\"}, \"26,July,2003\": {\"frequency\": 180, \"value\": \"26,July,2003\"}, \"26,July,2004\": {\"frequency\": 5605, \"value\": \"26,July,2004\"}, \"25,March,2004\": {\"frequency\": 833, \"value\": \"25,March,2004\"}, \"13,December,2003\": {\"frequency\": 385, \"value\": \"13,December,2003\"}, \"13,June,2002\": {\"frequency\": 75, \"value\": \"13,June,2002\"}, \"30,September,2002\": {\"frequency\": 72, \"value\": \"30,September,2002\"}, \"09,February,2003\": {\"frequency\": 148, \"value\": \"09,February,2003\"}, \"13,June,2004\": {\"frequency\": 2941, \"value\": \"13,June,2004\"}, \"19,July,2003\": {\"frequency\": 174, \"value\": \"19,July,2003\"}, \"04,mars,2004\": {\"frequency\": 140, \"value\": \"04,mars,2004\"}, \"19,July,2004\": {\"frequency\": 5644, \"value\": \"19,July,2004\"}, \"19,December,2003\": {\"frequency\": 424, \"value\": \"19,December,2003\"}, \"19,December,2002\": {\"frequency\": 83, \"value\": \"19,December,2002\"}, \"19,May,2004\": {\"frequency\": 3361, \"value\": \"19,May,2004\"}, \"27,November,2002\": {\"frequency\": 103, \"value\": \"27,November,2002\"}, \"19,May,2003\": {\"frequency\": 298, \"value\": \"19,May,2003\"}, \"22,November,2002\": {\"frequency\": 82, \"value\": \"22,November,2002\"}, \"22,November,2003\": {\"frequency\": 349, \"value\": \"22,November,2003\"}, \"02,January,2004\": {\"frequency\": 433, \"value\": \"02,January,2004\"}, \"17,January,2004\": {\"frequency\": 362, \"value\": \"17,January,2004\"}, \"17,January,2003\": {\"frequency\": 154, \"value\": \"17,January,2003\"}, \"02,January,2003\": {\"frequency\": 102, \"value\": \"02,January,2003\"}, \"21,January,2003\": {\"frequency\": 201, \"value\": \"21,January,2003\"}, \"15,November,2002\": {\"frequency\": 93, \"value\": \"15,November,2002\"}, \"15,November,2003\": {\"frequency\": 322, \"value\": \"15,November,2003\"}, \"21,January,2004\": {\"frequency\": 660, \"value\": \"21,January,2004\"}, \"16,November,2002\": {\"frequency\": 70, \"value\": \"16,November,2002\"}, \"05,May,2003\": {\"frequency\": 222, \"value\": \"05,May,2003\"}, \"01,February,2004\": {\"frequency\": 643, \"value\": \"01,February,2004\"}, \"01,February,2003\": {\"frequency\": 182, \"value\": \"01,February,2003\"}, \"05,May,2004\": {\"frequency\": 1266, \"value\": \"05,May,2004\"}, \"08,December,2003\": {\"frequency\": 520, \"value\": \"08,December,2003\"}, \"08,December,2002\": {\"frequency\": 85, \"value\": \"08,December,2002\"}, \"13,July,2004\": {\"frequency\": 4874, \"value\": \"13,July,2004\"}, \"08,June,2003\": {\"frequency\": 188, \"value\": \"08,June,2003\"}, \"27,January,2004\": {\"frequency\": 714, \"value\": \"27,January,2004\"}, \"27,January,2003\": {\"frequency\": 191, \"value\": \"27,January,2003\"}, \"25,December,2002\": {\"frequency\": 69, \"value\": \"25,December,2002\"}, \"25,December,2003\": {\"frequency\": 327, \"value\": \"25,December,2003\"}, \"09,April,2004\": {\"frequency\": 710, \"value\": \"09,April,2004\"}, \"09,April,2003\": {\"frequency\": 223, \"value\": \"09,April,2003\"}, \"06,December,2003\": {\"frequency\": 325, \"value\": \"06,December,2003\"}, \"11,April,2003\": {\"frequency\": 174, \"value\": \"11,April,2003\"}, \"29,January,2003\": {\"frequency\": 192, \"value\": \"29,January,2003\"}, \"29,January,2004\": {\"frequency\": 702, \"value\": \"29,January,2004\"}, \"25,July,2004\": {\"frequency\": 4532, \"value\": \"25,July,2004\"}, \"25,July,2003\": {\"frequency\": 242, \"value\": \"25,July,2003\"}, \"25,July,2002\": {\"frequency\": 81, \"value\": \"25,July,2002\"}, \"26,August,2003\": {\"frequency\": 380, \"value\": \"26,August,2003\"}, \"21,October,2003\": {\"frequency\": 514, \"value\": \"21,October,2003\"}, \"22,April,2003\": {\"frequency\": 249, \"value\": \"22,April,2003\"}, \"12,July,2004\": {\"frequency\": 4816, \"value\": \"12,July,2004\"}, \"30,November,2003\": {\"frequency\": 340, \"value\": \"30,November,2003\"}, \"24,October,2003\": {\"frequency\": 339, \"value\": \"24,October,2003\"}, \"24,October,2002\": {\"frequency\": 99, \"value\": \"24,October,2002\"}, \"09,December,2002\": {\"frequency\": 111, \"value\": \"09,December,2002\"}, \"22,April,2004\": {\"frequency\": 933, \"value\": \"22,April,2004\"}, \"21,April,2004\": {\"frequency\": 968, \"value\": \"21,April,2004\"}, \"31,May,2003\": {\"frequency\": 104, \"value\": \"31,May,2003\"}, \"31,May,2004\": {\"frequency\": 2254, \"value\": \"31,May,2004\"}, \"21,April,2003\": {\"frequency\": 269, \"value\": \"21,April,2003\"}, \"05,August,2004\": {\"frequency\": 9297, \"value\": \"05,August,2004\"}, \"12,September,2002\": {\"frequency\": 73, \"value\": \"12,September,2002\"}, \"10,September,2003\": {\"frequency\": 353, \"value\": \"10,September,2003\"}, \"10,September,2002\": {\"frequency\": 121, \"value\": \"10,September,2002\"}, \"05,August,2003\": {\"frequency\": 289, \"value\": \"05,August,2003\"}, \"06,June,2004\": {\"frequency\": 3310, \"value\": \"06,June,2004\"}, \"25,June,2004\": {\"frequency\": 3580, \"value\": \"25,June,2004\"}, \"28,April,2003\": {\"frequency\": 268, \"value\": \"28,April,2003\"}, \"26,December,2002\": {\"frequency\": 79, \"value\": \"26,December,2002\"}, \"28,April,2004\": {\"frequency\": 887, \"value\": \"28,April,2004\"}, \"25,June,2003\": {\"frequency\": 230, \"value\": \"25,June,2003\"}, \"06,June,2003\": {\"frequency\": 219, \"value\": \"06,June,2003\"}, \"05,October,2003\": {\"frequency\": 346, \"value\": \"05,October,2003\"}, \"17,April,2003\": {\"frequency\": 153, \"value\": \"17,April,2003\"}, \"20,January,2003\": {\"frequency\": 193, \"value\": \"20,January,2003\"}, \"01,March,2004\": {\"frequency\": 1025, \"value\": \"01,March,2004\"}, \"20,January,2004\": {\"frequency\": 669, \"value\": \"20,January,2004\"}, \"15,May,2004\": {\"frequency\": 1607, \"value\": \"15,May,2004\"}, \"12,October,2002\": {\"frequency\": 83, \"value\": \"12,October,2002\"}, \"24,January,2003\": {\"frequency\": 159, \"value\": \"24,January,2003\"}, \"14,July,2003\": {\"frequency\": 273, \"value\": \"14,July,2003\"}, \"18,January,2004\": {\"frequency\": 496, \"value\": \"18,January,2004\"}, \"18,January,2003\": {\"frequency\": 127, \"value\": \"18,January,2003\"}, \"04,December,2003\": {\"frequency\": 533, \"value\": \"04,December,2003\"}, \"04,December,2002\": {\"frequency\": 127, \"value\": \"04,December,2002\"}, \"23,May,2003\": {\"frequency\": 183, \"value\": \"23,May,2003\"}, \"16,July,2003\": {\"frequency\": 288, \"value\": \"16,July,2003\"}, \"16,July,2002\": {\"frequency\": 78, \"value\": \"16,July,2002\"}, \"11,October,2003\": {\"frequency\": 255, \"value\": \"11,October,2003\"}, \"11,October,2002\": {\"frequency\": 90, \"value\": \"11,October,2002\"}, \"23,May,2004\": {\"frequency\": 2593, \"value\": \"23,May,2004\"}, \"18,June,2004\": {\"frequency\": 3913, \"value\": \"18,June,2004\"}, \"18,October,2002\": {\"frequency\": 81, \"value\": \"18,October,2002\"}, \"17,May,2003\": {\"frequency\": 144, \"value\": \"17,May,2003\"}, \"18,June,2003\": {\"frequency\": 225, \"value\": \"18,June,2003\"}, \"02,July,2002\": {\"frequency\": 69, \"value\": \"02,July,2002\"}, \"02,July,2003\": {\"frequency\": 294, \"value\": \"02,July,2003\"}, \"02,July,2004\": {\"frequency\": 7669, \"value\": \"02,July,2004\"}, \"21,July,2004\": {\"frequency\": 5823, \"value\": \"21,July,2004\"}, \"19,June,2004\": {\"frequency\": 2629, \"value\": \"19,June,2004\"}, \"31,October,2003\": {\"frequency\": 271, \"value\": \"31,October,2003\"}, \"16,April,2002\": {\"frequency\": 82, \"value\": \"16,April,2002\"}, \"16,April,2003\": {\"frequency\": 205, \"value\": \"16,April,2003\"}, \"16,April,2004\": {\"frequency\": 794, \"value\": \"16,April,2004\"}, \"07,March,2004\": {\"frequency\": 613, \"value\": \"07,March,2004\"}, \"30,October,2002\": {\"frequency\": 84, \"value\": \"30,October,2002\"}, \"30,October,2003\": {\"frequency\": 358, \"value\": \"30,October,2003\"}, \"07,March,2003\": {\"frequency\": 168, \"value\": \"07,March,2003\"}, \"31,March,2004\": {\"frequency\": 630, \"value\": \"31,March,2004\"}, \"09,June,2004\": {\"frequency\": 4317, \"value\": \"09,June,2004\"}, \"12,February,2004\": {\"frequency\": 709, \"value\": \"12,February,2004\"}, \"08,January,2004\": {\"frequency\": 552, \"value\": \"08,January,2004\"}, \"12,February,2003\": {\"frequency\": 200, \"value\": \"12,February,2003\"}, \"08,February,2003\": {\"frequency\": 96, \"value\": \"08,February,2003\"}, \"08,February,2004\": {\"frequency\": 535, \"value\": \"08,February,2004\"}, \"20,September,2002\": {\"frequency\": 95, \"value\": \"20,September,2002\"}, \"20,September,2003\": {\"frequency\": 247, \"value\": \"20,September,2003\"}, \"19,February,2004\": {\"frequency\": 737, \"value\": \"19,February,2004\"}, \"16,December,2003\": {\"frequency\": 660, \"value\": \"16,December,2003\"}, \"19,February,2003\": {\"frequency\": 221, \"value\": \"19,February,2003\"}, \"14,July,2004\": {\"frequency\": 4808, \"value\": \"14,July,2004\"}, \"23,October,2002\": {\"frequency\": 117, \"value\": \"23,October,2002\"}, \"23,October,2003\": {\"frequency\": 507, \"value\": \"23,October,2003\"}, \"17,December,2002\": {\"frequency\": 131, \"value\": \"17,December,2002\"}, \"09,June,2003\": {\"frequency\": 242, \"value\": \"09,June,2003\"}, \"05,January,2003\": {\"frequency\": 107, \"value\": \"05,January,2003\"}, \"06,March,2003\": {\"frequency\": 172, \"value\": \"06,March,2003\"}, \"05,April,2003\": {\"frequency\": 118, \"value\": \"05,April,2003\"}, \"05,April,2004\": {\"frequency\": 984, \"value\": \"05,April,2004\"}, \"27,December,2002\": {\"frequency\": 99, \"value\": \"27,December,2002\"}, \"27,December,2003\": {\"frequency\": 256, \"value\": \"27,December,2003\"}, \"23,September,2003\": {\"frequency\": 383, \"value\": \"23,September,2003\"}, \"23,September,2002\": {\"frequency\": 107, \"value\": \"23,September,2002\"}, \"06,March,2004\": {\"frequency\": 464, \"value\": \"06,March,2004\"}, \"04,September,2003\": {\"frequency\": 373, \"value\": \"04,September,2003\"}, \"09,November,2003\": {\"frequency\": 454, \"value\": \"09,November,2003\"}, \"09,November,2002\": {\"frequency\": 82, \"value\": \"09,November,2002\"}, \"27,June,2004\": {\"frequency\": 3403, \"value\": \"27,June,2004\"}, \"27,June,2003\": {\"frequency\": 236, \"value\": \"27,June,2003\"}, \"28,October,2002\": {\"frequency\": 134, \"value\": \"28,October,2002\"}, \"26,March,2004\": {\"frequency\": 712, \"value\": \"26,March,2004\"}, \"09,March,2004\": {\"frequency\": 801, \"value\": \"09,March,2004\"}, \"09,March,2003\": {\"frequency\": 163, \"value\": \"09,March,2003\"}, \"26,March,2003\": {\"frequency\": 193, \"value\": \"26,March,2003\"}, \"28,July,2004\": {\"frequency\": 5046, \"value\": \"28,July,2004\"}, \"28,July,2003\": {\"frequency\": 375, \"value\": \"28,July,2003\"}, \"28,September,2002\": {\"frequency\": 75, \"value\": \"28,September,2002\"}, \"28,September,2003\": {\"frequency\": 331, \"value\": \"28,September,2003\"}, \"10,May,2004\": {\"frequency\": 1861, \"value\": \"10,May,2004\"}, \"06,mars,2004\": {\"frequency\": 69, \"value\": \"06,mars,2004\"}, \"25,February,2003\": {\"frequency\": 202, \"value\": \"25,February,2003\"}, \"16,September,2003\": {\"frequency\": 379, \"value\": \"16,September,2003\"}, \"16,September,2002\": {\"frequency\": 89, \"value\": \"16,September,2002\"}, \"25,February,2004\": {\"frequency\": 759, \"value\": \"25,February,2004\"}, \"18,September,2003\": {\"frequency\": 364, \"value\": \"18,September,2003\"}, \"18,September,2002\": {\"frequency\": 89, \"value\": \"18,September,2002\"}, \"13,May,2002\": {\"frequency\": 81, \"value\": \"13,May,2002\"}, \"13,May,2003\": {\"frequency\": 249, \"value\": \"13,May,2003\"}, \"13,May,2004\": {\"frequency\": 3515, \"value\": \"13,May,2004\"}, \"07,September,2003\": {\"frequency\": 313, \"value\": \"07,September,2003\"}, \"12,January,2004\": {\"frequency\": 578, \"value\": \"12,January,2004\"}, \"15,July,2004\": {\"frequency\": 5091, \"value\": \"15,July,2004\"}, \"16,December,2002\": {\"frequency\": 145, \"value\": \"16,December,2002\"}, \"15,July,2002\": {\"frequency\": 83, \"value\": \"15,July,2002\"}, \"15,July,2003\": {\"frequency\": 333, \"value\": \"15,July,2003\"}, \"12,January,2003\": {\"frequency\": 158, \"value\": \"12,January,2003\"}, \"08,July,2003\": {\"frequency\": 336, \"value\": \"08,July,2003\"}, \"30,March,2003\": {\"frequency\": 162, \"value\": \"30,March,2003\"}, \"19,August,2004\": {\"frequency\": 1643, \"value\": \"19,August,2004\"}, \"19,August,2003\": {\"frequency\": 399, \"value\": \"19,August,2003\"}, \"19,August,2002\": {\"frequency\": 99, \"value\": \"19,August,2002\"}, \"15,October,2003\": {\"frequency\": 445, \"value\": \"15,October,2003\"}, \"15,October,2002\": {\"frequency\": 111, \"value\": \"15,October,2002\"}, \"16,January,2003\": {\"frequency\": 190, \"value\": \"16,January,2003\"}, \"11,August,2003\": {\"frequency\": 342, \"value\": \"11,August,2003\"}, \"30,January,2003\": {\"frequency\": 204, \"value\": \"30,January,2003\"}, \"10,February,2003\": {\"frequency\": 194, \"value\": \"10,February,2003\"}, \"16,January,2004\": {\"frequency\": 528, \"value\": \"16,January,2004\"}, \"06,April,2003\": {\"frequency\": 209, \"value\": \"06,April,2003\"}, \"06,April,2004\": {\"frequency\": 894, \"value\": \"06,April,2004\"}, \"14,March,2003\": {\"frequency\": 164, \"value\": \"14,March,2003\"}, \"10,February,2004\": {\"frequency\": 731, \"value\": \"10,February,2004\"}, \"24,April,2003\": {\"frequency\": 240, \"value\": \"24,April,2003\"}, \"14,October,2002\": {\"frequency\": 100, \"value\": \"14,October,2002\"}, \"14,October,2003\": {\"frequency\": 489, \"value\": \"14,October,2003\"}, \"27,February,2004\": {\"frequency\": 575, \"value\": \"27,February,2004\"}, \"27,February,2003\": {\"frequency\": 187, \"value\": \"27,February,2003\"}, \"02,May,2003\": {\"frequency\": 211, \"value\": \"02,May,2003\"}, \"02,November,2003\": {\"frequency\": 377, \"value\": \"02,November,2003\"}, \"14,April,2004\": {\"frequency\": 849, \"value\": \"14,April,2004\"}, \"14,April,2003\": {\"frequency\": 214, \"value\": \"14,April,2003\"}, \"17,March,2003\": {\"frequency\": 217, \"value\": \"17,March,2003\"}, \"17,March,2004\": {\"frequency\": 810, \"value\": \"17,March,2004\"}, \"25,August,2003\": {\"frequency\": 378, \"value\": \"25,August,2003\"}, \"07,August,2004\": {\"frequency\": 4467, \"value\": \"07,August,2004\"}, \"07,August,2002\": {\"frequency\": 92, \"value\": \"07,August,2002\"}, \"07,August,2003\": {\"frequency\": 265, \"value\": \"07,August,2003\"}, \"15,March,2003\": {\"frequency\": 144, \"value\": \"15,March,2003\"}, \"13,September,2002\": {\"frequency\": 141, \"value\": \"13,September,2002\"}, \"13,September,2003\": {\"frequency\": 231, \"value\": \"13,September,2003\"}, \"20,December,2003\": {\"frequency\": 332, \"value\": \"20,December,2003\"}, \"20,December,2002\": {\"frequency\": 98, \"value\": \"20,December,2002\"}, \"15,March,2004\": {\"frequency\": 807, \"value\": \"15,March,2004\"}, \"19,September,2002\": {\"frequency\": 95, \"value\": \"19,September,2002\"}, \"19,October,2002\": {\"frequency\": 85, \"value\": \"19,October,2002\"}, \"01,April,2004\": {\"frequency\": 1036, \"value\": \"01,April,2004\"}, \"10,May,2003\": {\"frequency\": 137, \"value\": \"10,May,2003\"}, \"01,April,2003\": {\"frequency\": 264, \"value\": \"01,April,2003\"}, \"23,June,2003\": {\"frequency\": 296, \"value\": \"23,June,2003\"}, \"09,August,2004\": {\"frequency\": 7819, \"value\": \"09,August,2004\"}, \"30,May,2004\": {\"frequency\": 4345, \"value\": \"30,May,2004\"}, \"30,May,2003\": {\"frequency\": 205, \"value\": \"30,May,2003\"}, \"11,February,2003\": {\"frequency\": 173, \"value\": \"11,February,2003\"}, \"07,May,2003\": {\"frequency\": 242, \"value\": \"07,May,2003\"}, \"20,June,2004\": {\"frequency\": 4276, \"value\": \"20,June,2004\"}, \"23,March,2004\": {\"frequency\": 781, \"value\": \"23,March,2004\"}, \"04,April,2003\": {\"frequency\": 176, \"value\": \"04,April,2003\"}, \"16,August,2002\": {\"frequency\": 87, \"value\": \"16,August,2002\"}, \"29,September,2003\": {\"frequency\": 369, \"value\": \"29,September,2003\"}, \"29,September,2002\": {\"frequency\": 73, \"value\": \"29,September,2002\"}, \"13,November,2002\": {\"frequency\": 136, \"value\": \"13,November,2002\"}, \"26,February,2003\": {\"frequency\": 184, \"value\": \"26,February,2003\"}, \"26,February,2004\": {\"frequency\": 749, \"value\": \"26,February,2004\"}, \"01,Agosto,2004\": {\"frequency\": 102, \"value\": \"01,Agosto,2004\"}, \"22,December,2003\": {\"frequency\": 473, \"value\": \"22,December,2003\"}, \"22,December,2002\": {\"frequency\": 95, \"value\": \"22,December,2002\"}, \"14,September,2003\": {\"frequency\": 298, \"value\": \"14,September,2003\"}, \"05,July,2004\": {\"frequency\": 3864, \"value\": \"05,July,2004\"}, \"13,september,2003\": {\"frequency\": 87, \"value\": \"13,september,2003\"}, \"25,September,2003\": {\"frequency\": 344, \"value\": \"25,September,2003\"}, \"25,September,2002\": {\"frequency\": 114, \"value\": \"25,September,2002\"}, \"24,July,2002\": {\"frequency\": 99, \"value\": \"24,July,2002\"}, \"24,July,2003\": {\"frequency\": 297, \"value\": \"24,July,2003\"}, \"12,May,2004\": {\"frequency\": 2320, \"value\": \"12,May,2004\"}, \"12,May,2003\": {\"frequency\": 236, \"value\": \"12,May,2003\"}, \"24,July,2004\": {\"frequency\": 3291, \"value\": \"24,July,2004\"}, \"04,August,2003\": {\"frequency\": 294, \"value\": \"04,August,2003\"}, \"09,January,2004\": {\"frequency\": 440, \"value\": \"09,January,2004\"}, \"28,February,2003\": {\"frequency\": 95, \"value\": \"28,February,2003\"}, \"28,February,2004\": {\"frequency\": 471, \"value\": \"28,February,2004\"}, \"09,January,2003\": {\"frequency\": 122, \"value\": \"09,January,2003\"}, \"11,December,2003\": {\"frequency\": 492, \"value\": \"11,December,2003\"}, \"11,December,2002\": {\"frequency\": 123, \"value\": \"11,December,2002\"}, \"04,August,2004\": {\"frequency\": 8661, \"value\": \"04,August,2004\"}, \"14,May,2003\": {\"frequency\": 289, \"value\": \"14,May,2003\"}, \"14,May,2004\": {\"frequency\": 2034, \"value\": \"14,May,2004\"}, \"24,February,2003\": {\"frequency\": 192, \"value\": \"24,February,2003\"}, \"12,June,2004\": {\"frequency\": 2402, \"value\": \"12,June,2004\"}, \"12,June,2003\": {\"frequency\": 259, \"value\": \"12,June,2003\"}, \"28,May,2003\": {\"frequency\": 348, \"value\": \"28,May,2003\"}, \"30,March,2004\": {\"frequency\": 850, \"value\": \"30,March,2004\"}, \"08,July,2004\": {\"frequency\": 5706, \"value\": \"08,July,2004\"}, \"28,May,2004\": {\"frequency\": 2407, \"value\": \"28,May,2004\"}, \"11,July,2002\": {\"frequency\": 115, \"value\": \"11,July,2002\"}, \"14,December,2003\": {\"frequency\": 445, \"value\": \"14,December,2003\"}, \"01,May,2004\": {\"frequency\": 877, \"value\": \"01,May,2004\"}, \"01,May,2003\": {\"frequency\": 225, \"value\": \"01,May,2003\"}, \"11,July,2004\": {\"frequency\": 3870, \"value\": \"11,July,2004\"}, \"30,April,2004\": {\"frequency\": 632, \"value\": \"30,April,2004\"}, \"30,April,2003\": {\"frequency\": 158, \"value\": \"30,April,2003\"}, \"01,October,2002\": {\"frequency\": 123, \"value\": \"01,October,2002\"}, \"01,October,2003\": {\"frequency\": 444, \"value\": \"01,October,2003\"}, \"20,Junho,2004\": {\"frequency\": 179, \"value\": \"20,Junho,2004\"}, \"04,Julho,2004\": {\"frequency\": 343, \"value\": \"04,Julho,2004\"}, \"13,August,2004\": {\"frequency\": 2949, \"value\": \"13,August,2004\"}, \"17,November,2002\": {\"frequency\": 101, \"value\": \"17,November,2002\"}, \"13,August,2003\": {\"frequency\": 334, \"value\": \"13,August,2003\"}, \"13,August,2002\": {\"frequency\": 95, \"value\": \"13,August,2002\"}, \"30,December,2002\": {\"frequency\": 143, \"value\": \"30,December,2002\"}, \"30,December,2003\": {\"frequency\": 395, \"value\": \"30,December,2003\"}, \"27,August,2002\": {\"frequency\": 77, \"value\": \"27,August,2002\"}, \"27,August,2003\": {\"frequency\": 340, \"value\": \"27,August,2003\"}, \"08,January,2003\": {\"frequency\": 123, \"value\": \"08,January,2003\"}, \"21,March,2004\": {\"frequency\": 626, \"value\": \"21,March,2004\"}, \"01,September,2003\": {\"frequency\": 329, \"value\": \"01,September,2003\"}, \"08,August,2004\": {\"frequency\": 6348, \"value\": \"08,August,2004\"}, \"17,October,2003\": {\"frequency\": 405, \"value\": \"17,October,2003\"}, \"17,October,2002\": {\"frequency\": 107, \"value\": \"17,October,2002\"}, \"08,August,2003\": {\"frequency\": 264, \"value\": \"08,August,2003\"}, \"29,February,2004\": {\"frequency\": 483, \"value\": \"29,February,2004\"}, \"29,May,2003\": {\"frequency\": 257, \"value\": \"29,May,2003\"}, \"27,March,2004\": {\"frequency\": 633, \"value\": \"27,March,2004\"}, \"27,March,2003\": {\"frequency\": 231, \"value\": \"27,March,2003\"}, \"29,May,2004\": {\"frequency\": 2045, \"value\": \"29,May,2004\"}, \"28,June,2004\": {\"frequency\": 5346, \"value\": \"28,June,2004\"}, \"23,January,2003\": {\"frequency\": 184, \"value\": \"23,January,2003\"}, \"28,June,2003\": {\"frequency\": 216, \"value\": \"28,June,2003\"}, \"07,February,2004\": {\"frequency\": 438, \"value\": \"07,February,2004\"}, \"07,February,2003\": {\"frequency\": 161, \"value\": \"07,February,2003\"}, \"04,May,2004\": {\"frequency\": 1079, \"value\": \"04,May,2004\"}, \"04,May,2003\": {\"frequency\": 208, \"value\": \"04,May,2003\"}, \"06,November,2002\": {\"frequency\": 148, \"value\": \"06,November,2002\"}, \"04,October,2003\": {\"frequency\": 315, \"value\": \"04,October,2003\"}, \"23,Maio,2004\": {\"frequency\": 247, \"value\": \"23,Maio,2004\"}, \"27,May,2004\": {\"frequency\": 2787, \"value\": \"27,May,2004\"}, \"29,November,2003\": {\"frequency\": 274, \"value\": \"29,November,2003\"}, \"06,January,2003\": {\"frequency\": 146, \"value\": \"06,January,2003\"}, \"03,October,2003\": {\"frequency\": 295, \"value\": \"03,October,2003\"}, \"09,July,2004\": {\"frequency\": 4545, \"value\": \"09,July,2004\"}, \"27,October,2002\": {\"frequency\": 76, \"value\": \"27,October,2002\"}, \"27,October,2003\": {\"frequency\": 527, \"value\": \"27,October,2003\"}, \"09,July,2003\": {\"frequency\": 280, \"value\": \"09,July,2003\"}, \"02,March,2003\": {\"frequency\": 181, \"value\": \"02,March,2003\"}, \"18,July,2004\": {\"frequency\": 4221, \"value\": \"18,July,2004\"}, \"18,July,2003\": {\"frequency\": 255, \"value\": \"18,July,2003\"}, \"14,November,2002\": {\"frequency\": 94, \"value\": \"14,November,2002\"}, \"23,July,2004\": {\"frequency\": 4421, \"value\": \"23,July,2004\"}, \"24,November,2002\": {\"frequency\": 88, \"value\": \"24,November,2002\"}, \"24,November,2003\": {\"frequency\": 575, \"value\": \"24,November,2003\"}, \"10,March,2003\": {\"frequency\": 199, \"value\": \"10,March,2003\"}, \"08,May,2003\": {\"frequency\": 248, \"value\": \"08,May,2003\"}, \"08,May,2004\": {\"frequency\": 821, \"value\": \"08,May,2004\"}, \"10,March,2004\": {\"frequency\": 740, \"value\": \"10,March,2004\"}, \"18,May,2004\": {\"frequency\": 2708, \"value\": \"18,May,2004\"}, \"18,March,2003\": {\"frequency\": 218, \"value\": \"18,March,2003\"}, \"08,November,2003\": {\"frequency\": 282, \"value\": \"08,November,2003\"}, \"18,March,2004\": {\"frequency\": 743, \"value\": \"18,March,2004\"}, \"18,May,2003\": {\"frequency\": 243, \"value\": \"18,May,2003\"}, \"19,April,2004\": {\"frequency\": 1091, \"value\": \"19,April,2004\"}, \"02,June,2003\": {\"frequency\": 248, \"value\": \"02,June,2003\"}, \"02,June,2004\": {\"frequency\": 6563, \"value\": \"02,June,2004\"}, \"19,April,2003\": {\"frequency\": 133, \"value\": \"19,April,2003\"}, \"16,October,2002\": {\"frequency\": 115, \"value\": \"16,October,2002\"}, \"16,October,2003\": {\"frequency\": 445, \"value\": \"16,October,2003\"}, \"30,June,2004\": {\"frequency\": 3448, \"value\": \"30,June,2004\"}, \"30,June,2003\": {\"frequency\": 190, \"value\": \"30,June,2003\"}, \"19,January,2004\": {\"frequency\": 704, \"value\": \"19,January,2004\"}, \"02,March,2004\": {\"frequency\": 850, \"value\": \"02,March,2004\"}, \"19,January,2003\": {\"frequency\": 143, \"value\": \"19,January,2003\"}, \"28,August,2003\": {\"frequency\": 316, \"value\": \"28,August,2003\"}, \"28,August,2002\": {\"frequency\": 93, \"value\": \"28,August,2002\"}, \"07,June,2003\": {\"frequency\": 106, \"value\": \"07,June,2003\"}, \"15,April,2004\": {\"frequency\": 908, \"value\": \"15,April,2004\"}, \"13,February,2003\": {\"frequency\": 226, \"value\": \"13,February,2003\"}, \"13,February,2004\": {\"frequency\": 619, \"value\": \"13,February,2004\"}, \"05,November,2003\": {\"frequency\": 406, \"value\": \"05,November,2003\"}, \"05,November,2002\": {\"frequency\": 123, \"value\": \"05,November,2002\"}, \"22,May,2004\": {\"frequency\": 2251, \"value\": \"22,May,2004\"}, \"22,May,2003\": {\"frequency\": 242, \"value\": \"22,May,2003\"}, \"13,March,2004\": {\"frequency\": 518, \"value\": \"13,March,2004\"}, \"03,March,2003\": {\"frequency\": 185, \"value\": \"03,March,2003\"}, \"03,March,2004\": {\"frequency\": 741, \"value\": \"03,March,2004\"}, \"22,October,2003\": {\"frequency\": 468, \"value\": \"22,October,2003\"}, \"22,October,2002\": {\"frequency\": 95, \"value\": \"22,October,2002\"}, \"22,March,2003\": {\"frequency\": 128, \"value\": \"22,March,2003\"}, \"16,November,2003\": {\"frequency\": 451, \"value\": \"16,November,2003\"}, \"16,Maio,2004\": {\"frequency\": 237, \"value\": \"16,Maio,2004\"}, \"23,June,2004\": {\"frequency\": 4038, \"value\": \"23,June,2004\"}, \"22,March,2004\": {\"frequency\": 815, \"value\": \"22,March,2004\"}, \"26,September,2002\": {\"frequency\": 107, \"value\": \"26,September,2002\"}, \"26,September,2003\": {\"frequency\": 313, \"value\": \"26,September,2003\"}, \"03,August,2003\": {\"frequency\": 268, \"value\": \"03,August,2003\"}, \"13,March,2003\": {\"frequency\": 176, \"value\": \"13,March,2003\"}, \"28,November,2002\": {\"frequency\": 86, \"value\": \"28,November,2002\"}, \"28,November,2003\": {\"frequency\": 391, \"value\": \"28,November,2003\"}, \"12,April,2004\": {\"frequency\": 929, \"value\": \"12,April,2004\"}, \"30,January,2004\": {\"frequency\": 502, \"value\": \"30,January,2004\"}, \"12,April,2003\": {\"frequency\": 140, \"value\": \"12,April,2003\"}, \"02,juillet,2004\": {\"frequency\": 77, \"value\": \"02,juillet,2004\"}, \"18,February,2003\": {\"frequency\": 199, \"value\": \"18,February,2003\"}, \"03,August,2004\": {\"frequency\": 11852, \"value\": \"03,August,2004\"}, \"18,February,2004\": {\"frequency\": 794, \"value\": \"18,February,2004\"}, \"09,September,2003\": {\"frequency\": 402, \"value\": \"09,September,2003\"}, \"09,September,2002\": {\"frequency\": 87, \"value\": \"09,September,2002\"}, \"16,July,2004\": {\"frequency\": 4301, \"value\": \"16,July,2004\"}, \"02,February,2004\": {\"frequency\": 774, \"value\": \"02,February,2004\"}, \"30,August,2003\": {\"frequency\": 222, \"value\": \"30,August,2003\"}, \"02,February,2003\": {\"frequency\": 187, \"value\": \"02,February,2003\"}, \"06,May,2003\": {\"frequency\": 276, \"value\": \"06,May,2003\"}, \"03,October,2002\": {\"frequency\": 77, \"value\": \"03,October,2002\"}, \"13,July,2003\": {\"frequency\": 195, \"value\": \"13,July,2003\"}, \"08,April,2003\": {\"frequency\": 218, \"value\": \"08,April,2003\"}, \"06,May,2004\": {\"frequency\": 1055, \"value\": \"06,May,2004\"}, \"26,November,2002\": {\"frequency\": 97, \"value\": \"26,November,2002\"}, \"26,November,2003\": {\"frequency\": 407, \"value\": \"26,November,2003\"}, \"16,May,2003\": {\"frequency\": 244, \"value\": \"16,May,2003\"}, \"05,July,2003\": {\"frequency\": 156, \"value\": \"05,July,2003\"}, \"06,January,2004\": {\"frequency\": 523, \"value\": \"06,January,2004\"}, \"04,April,2004\": {\"frequency\": 750, \"value\": \"04,April,2004\"}, \"07,April,2004\": {\"frequency\": 820, \"value\": \"07,April,2004\"}, \"07,April,2003\": {\"frequency\": 848, \"value\": \"07,April,2003\"}, \"03,November,2002\": {\"frequency\": 95, \"value\": \"03,November,2002\"}, \"03,July,2003\": {\"frequency\": 278, \"value\": \"03,July,2003\"}, \"31,August,2003\": {\"frequency\": 222, \"value\": \"31,August,2003\"}, \"20,August,2003\": {\"frequency\": 391, \"value\": \"20,August,2003\"}, \"20,August,2002\": {\"frequency\": 129, \"value\": \"20,August,2002\"}, \"20,August,2004\": {\"frequency\": 1342, \"value\": \"20,August,2004\"}, \"15,January,2003\": {\"frequency\": 144, \"value\": \"15,January,2003\"}, \"11,August,2004\": {\"frequency\": 3871, \"value\": \"11,August,2004\"}, \"15,December,2003\": {\"frequency\": 573, \"value\": \"15,December,2003\"}, \"23,January,2004\": {\"frequency\": 544, \"value\": \"23,January,2004\"}, \"16,March,2003\": {\"frequency\": 169, \"value\": \"16,March,2003\"}, \"26,October,2003\": {\"frequency\": 390, \"value\": \"26,October,2003\"}, \"04,July,2004\": {\"frequency\": 4573, \"value\": \"04,July,2004\"}, \"04,July,2003\": {\"frequency\": 210, \"value\": \"04,July,2003\"}, \"29,December,2002\": {\"frequency\": 115, \"value\": \"29,December,2002\"}, \"14,March,2004\": {\"frequency\": 718, \"value\": \"14,March,2004\"}, \"01,August,2004\": {\"frequency\": 13261, \"value\": \"01,August,2004\"}, \"08,September,2003\": {\"frequency\": 336, \"value\": \"08,September,2003\"}, \"15,September,2002\": {\"frequency\": 84, \"value\": \"15,September,2002\"}, \"15,September,2003\": {\"frequency\": 358, \"value\": \"15,September,2003\"}, \"16,March,2004\": {\"frequency\": 753, \"value\": \"16,March,2004\"}, \"13,April,2004\": {\"frequency\": 963, \"value\": \"13,April,2004\"}, \"13,April,2003\": {\"frequency\": 196, \"value\": \"13,April,2003\"}, \"20,May,2003\": {\"frequency\": 278, \"value\": \"20,May,2003\"}, \"25,October,2002\": {\"frequency\": 73, \"value\": \"25,October,2002\"}, \"25,October,2003\": {\"frequency\": 303, \"value\": \"25,October,2003\"}, \"20,May,2004\": {\"frequency\": 3211, \"value\": \"20,May,2004\"}, \"25,April,2003\": {\"frequency\": 188, \"value\": \"25,April,2003\"}, \"05,February,2003\": {\"frequency\": 173, \"value\": \"05,February,2003\"}, \"05,February,2004\": {\"frequency\": 603, \"value\": \"05,February,2004\"}, \"25,April,2004\": {\"frequency\": 806, \"value\": \"25,April,2004\"}, \"21,February,2004\": {\"frequency\": 535, \"value\": \"21,February,2004\"}, \"21,February,2003\": {\"frequency\": 166, \"value\": \"21,February,2003\"}, \"15,January,2004\": {\"frequency\": 535, \"value\": \"15,January,2004\"}, \"11,September,2002\": {\"frequency\": 92, \"value\": \"11,September,2002\"}, \"11,September,2003\": {\"frequency\": 378, \"value\": \"11,September,2003\"}, \"29,October,2002\": {\"frequency\": 110, \"value\": \"29,October,2002\"}, \"29,October,2003\": {\"frequency\": 425, \"value\": \"29,October,2003\"}, \"02,agosto,2004\": {\"frequency\": 96, \"value\": \"02,agosto,2004\"}, \"28,March,2003\": {\"frequency\": 154, \"value\": \"28,March,2003\"}, \"31,March,2003\": {\"frequency\": 196, \"value\": \"31,March,2003\"}, \"28,March,2004\": {\"frequency\": 688, \"value\": \"28,March,2004\"}, \"06,September,2003\": {\"frequency\": 154, \"value\": \"06,September,2003\"}, \"10,December,2002\": {\"frequency\": 140, \"value\": \"10,December,2002\"}, \"10,December,2003\": {\"frequency\": 530, \"value\": \"10,December,2003\"}, \"29,December,2003\": {\"frequency\": 464, \"value\": \"29,December,2003\"}, \"08,October,2003\": {\"frequency\": 432, \"value\": \"08,October,2003\"}, \"08,October,2002\": {\"frequency\": 98, \"value\": \"08,October,2002\"}, \"03,May,2004\": {\"frequency\": 1195, \"value\": \"03,May,2004\"}, \"24,March,2004\": {\"frequency\": 874, \"value\": \"24,March,2004\"}, \"24,March,2003\": {\"frequency\": 252, \"value\": \"24,March,2003\"}, \"03,May,2003\": {\"frequency\": 168, \"value\": \"03,May,2003\"}, \"01,July,2004\": {\"frequency\": 6861, \"value\": \"01,July,2004\"}, \"10,April,2002\": {\"frequency\": 77, \"value\": \"10,April,2002\"}, \"10,April,2003\": {\"frequency\": 183, \"value\": \"10,April,2003\"}, \"29,August,2002\": {\"frequency\": 73, \"value\": \"29,August,2002\"}, \"05,September,2002\": {\"frequency\": 86, \"value\": \"05,September,2002\"}, \"10,April,2004\": {\"frequency\": 626, \"value\": \"10,April,2004\"}, \"06,December,2002\": {\"frequency\": 112, \"value\": \"06,December,2002\"}, \"18,November,2002\": {\"frequency\": 157, \"value\": \"18,November,2002\"}, \"09,May,2004\": {\"frequency\": 1234, \"value\": \"09,May,2004\"}, \"09,May,2003\": {\"frequency\": 197, \"value\": \"09,May,2003\"}, \"24,May,2003\": {\"frequency\": 147, \"value\": \"24,May,2003\"}, \"01,July,2003\": {\"frequency\": 322, \"value\": \"01,July,2003\"}, \"27,May,2003\": {\"frequency\": 271, \"value\": \"27,May,2003\"}, \"06,July,2004\": {\"frequency\": 5924, \"value\": \"06,July,2004\"}, \"22,July,2003\": {\"frequency\": 331, \"value\": \"22,July,2003\"}, \"29,April,2004\": {\"frequency\": 904, \"value\": \"29,April,2004\"}, \"25,Julho,2004\": {\"frequency\": 393, \"value\": \"25,Julho,2004\"}, \"24,June,2003\": {\"frequency\": 251, \"value\": \"24,June,2003\"}, \"24,June,2004\": {\"frequency\": 3986, \"value\": \"24,June,2004\"}, \"29,April,2003\": {\"frequency\": 289, \"value\": \"29,April,2003\"}, \"02,August,2003\": {\"frequency\": 180, \"value\": \"02,August,2003\"}, \"21,June,2003\": {\"frequency\": 156, \"value\": \"21,June,2003\"}, \"21,June,2004\": {\"frequency\": 4291, \"value\": \"21,June,2004\"}, \"09,February,2004\": {\"frequency\": 750, \"value\": \"09,February,2004\"}, \"17,September,2002\": {\"frequency\": 89, \"value\": \"17,September,2002\"}, \"17,September,2003\": {\"frequency\": 429, \"value\": \"17,September,2003\"}, \"17,February,2004\": {\"frequency\": 794, \"value\": \"17,February,2004\"}, \"11,July,2003\": {\"frequency\": 211, \"value\": \"11,July,2003\"}, \"11,May,2004\": {\"frequency\": 2556, \"value\": \"11,May,2004\"}, \"11,May,2003\": {\"frequency\": 215, \"value\": \"11,May,2003\"}, \"17,February,2002\": {\"frequency\": 235, \"value\": \"17,February,2002\"}, \"17,February,2003\": {\"frequency\": 168, \"value\": \"17,February,2003\"}, \"31,January,2003\": {\"frequency\": 91, \"value\": \"31,January,2003\"}, \"15,julio,2004\": {\"frequency\": 102, \"value\": \"15,julio,2004\"}, \"12,August,2002\": {\"frequency\": 99, \"value\": \"12,August,2002\"}, \"12,August,2003\": {\"frequency\": 335, \"value\": \"12,August,2003\"}, \"12,August,2004\": {\"frequency\": 3805, \"value\": \"12,August,2004\"}, \"31,January,2004\": {\"frequency\": 318, \"value\": \"31,January,2004\"}, \"26,December,2003\": {\"frequency\": 300, \"value\": \"26,December,2003\"}, \"04,March,2003\": {\"frequency\": 218, \"value\": \"04,March,2003\"}, \"04,March,2004\": {\"frequency\": 786, \"value\": \"04,March,2004\"}, \"11,June,2003\": {\"frequency\": 255, \"value\": \"11,June,2003\"}, \"11,June,2004\": {\"frequency\": 3213, \"value\": \"11,June,2004\"}, \"21,October,2002\": {\"frequency\": 123, \"value\": \"21,October,2002\"}, \"19,September,2003\": {\"frequency\": 305, \"value\": \"19,September,2003\"}, \"26,August,2002\": {\"frequency\": 81, \"value\": \"26,August,2002\"}, \"05,June,2003\": {\"frequency\": 217, \"value\": \"05,June,2003\"}, \"23,November,2003\": {\"frequency\": 399, \"value\": \"23,November,2003\"}, \"27,November,2003\": {\"frequency\": 402, \"value\": \"27,November,2003\"}, \"05,January,2004\": {\"frequency\": 498, \"value\": \"05,January,2004\"}, \"25,May,2003\": {\"frequency\": 164, \"value\": \"25,May,2003\"}, \"28,October,2003\": {\"frequency\": 436, \"value\": \"28,October,2003\"}, \"25,May,2004\": {\"frequency\": 2943, \"value\": \"25,May,2004\"}, \"14,June,2003\": {\"frequency\": 140, \"value\": \"14,June,2003\"}, \"14,June,2004\": {\"frequency\": 3561, \"value\": \"14,June,2004\"}, \"08,March,2004\": {\"frequency\": 769, \"value\": \"08,March,2004\"}, \"02,April,2003\": {\"frequency\": 216, \"value\": \"02,April,2003\"}, \"08,March,2003\": {\"frequency\": 145, \"value\": \"08,March,2003\"}, \"16,June,2003\": {\"frequency\": 253, \"value\": \"16,June,2003\"}, \"02,May,2004\": {\"frequency\": 891, \"value\": \"02,May,2004\"}, \"24,September,2002\": {\"frequency\": 123, \"value\": \"24,September,2002\"}, \"24,September,2003\": {\"frequency\": 368, \"value\": \"24,September,2003\"}, \"16,June,2004\": {\"frequency\": 3913, \"value\": \"16,June,2004\"}, \"01,August,2002\": {\"frequency\": 83, \"value\": \"01,August,2002\"}, \"01,August,2003\": {\"frequency\": 313, \"value\": \"01,August,2003\"}, \"19,October,2003\": {\"frequency\": 462, \"value\": \"19,October,2003\"}, \"12,July,2003\": {\"frequency\": 265, \"value\": \"12,July,2003\"}, \"16,August,2004\": {\"frequency\": 2448, \"value\": \"16,August,2004\"}, \"15,February,2003\": {\"frequency\": 135, \"value\": \"15,February,2003\"}, \"09,December,2003\": {\"frequency\": 552, \"value\": \"09,December,2003\"}, \"05,June,2004\": {\"frequency\": 2410, \"value\": \"05,June,2004\"}, \"15,February,2004\": {\"frequency\": 532, \"value\": \"15,February,2004\"}, \"16,August,2003\": {\"frequency\": 197, \"value\": \"16,August,2003\"}, \"15,June,2004\": {\"frequency\": 4679, \"value\": \"15,June,2004\"}, \"23,April,2003\": {\"frequency\": 263, \"value\": \"23,April,2003\"}, \"15,June,2003\": {\"frequency\": 185, \"value\": \"15,June,2003\"}, \"24,February,2004\": {\"frequency\": 719, \"value\": \"24,February,2004\"}, \"29,June,2003\": {\"frequency\": 273, \"value\": \"29,June,2003\"}, \"30,July,2004\": {\"frequency\": 4264, \"value\": \"30,July,2004\"}, \"26,June,2003\": {\"frequency\": 278, \"value\": \"26,June,2003\"}, \"30,July,2003\": {\"frequency\": 306, \"value\": \"30,July,2003\"}, \"17,November,2003\": {\"frequency\": 501, \"value\": \"17,November,2003\"}, \"24,April,2004\": {\"frequency\": 575, \"value\": \"24,April,2004\"}, \"04,January,2004\": {\"frequency\": 550, \"value\": \"04,January,2004\"}, \"04,January,2003\": {\"frequency\": 85, \"value\": \"04,January,2003\"}, \"09,Aprill,2004\": {\"frequency\": 114, \"value\": \"09,Aprill,2004\"}, \"21,March,2003\": {\"frequency\": 172, \"value\": \"21,March,2003\"}, \"29,June,2004\": {\"frequency\": 3680, \"value\": \"29,June,2004\"}, \"14,January,2003\": {\"frequency\": 165, \"value\": \"14,January,2003\"}, \"22,February,2004\": {\"frequency\": 586, \"value\": \"22,February,2004\"}, \"06,November,2003\": {\"frequency\": 464, \"value\": \"06,November,2003\"}, \"14,January,2004\": {\"frequency\": 535, \"value\": \"14,January,2004\"}, \"23,July,2003\": {\"frequency\": 296, \"value\": \"23,July,2003\"}, \"23,July,2002\": {\"frequency\": 73, \"value\": \"23,July,2002\"}, \"07,November,2003\": {\"frequency\": 369, \"value\": \"07,November,2003\"}, \"07,November,2002\": {\"frequency\": 105, \"value\": \"07,November,2002\"}, \"12,September,2003\": {\"frequency\": 278, \"value\": \"12,September,2003\"}, \"22,August,2003\": {\"frequency\": 314, \"value\": \"22,August,2003\"}, \"22,August,2002\": {\"frequency\": 85, \"value\": \"22,August,2002\"}, \"22,August,2004\": {\"frequency\": 876, \"value\": \"22,August,2004\"}, \"06,February,2003\": {\"frequency\": 199, \"value\": \"06,February,2003\"}, \"06,February,2004\": {\"frequency\": 550, \"value\": \"06,February,2004\"}, \"05,March,2003\": {\"frequency\": 193, \"value\": \"05,March,2003\"}, \"14,August,2004\": {\"frequency\": 2150, \"value\": \"14,August,2004\"}, \"14,August,2002\": {\"frequency\": 78, \"value\": \"14,August,2002\"}, \"14,August,2003\": {\"frequency\": 303, \"value\": \"14,August,2003\"}, \"14,February,2004\": {\"frequency\": 497, \"value\": \"14,February,2004\"}, \"05,March,2004\": {\"frequency\": 644, \"value\": \"05,March,2004\"}, \"28,January,2003\": {\"frequency\": 177, \"value\": \"28,January,2003\"}, \"28,January,2004\": {\"frequency\": 640, \"value\": \"28,January,2004\"}, \"08,April,2004\": {\"frequency\": 755, \"value\": \"08,April,2004\"}, \"20,March,2003\": {\"frequency\": 163, \"value\": \"20,March,2003\"}, \"10,October,2002\": {\"frequency\": 100, \"value\": \"10,October,2002\"}, \"10,October,2003\": {\"frequency\": 328, \"value\": \"10,October,2003\"}, \"23,April,2004\": {\"frequency\": 809, \"value\": \"23,April,2004\"}, \"20,March,2004\": {\"frequency\": 519, \"value\": \"20,March,2004\"}, \"02,December,2003\": {\"frequency\": 565, \"value\": \"02,December,2003\"}, \"02,December,2002\": {\"frequency\": 114, \"value\": \"02,December,2002\"}, \"21,junio,2004\": {\"frequency\": 145, \"value\": \"21,junio,2004\"}, \"14,February,2003\": {\"frequency\": 193, \"value\": \"14,February,2003\"}, \"22,September,2002\": {\"frequency\": 85, \"value\": \"22,September,2002\"}, \"22,September,2003\": {\"frequency\": 390, \"value\": \"22,September,2003\"}, \"22,July,2004\": {\"frequency\": 5592, \"value\": \"22,July,2004\"}, \"14,November,2003\": {\"frequency\": 444, \"value\": \"14,November,2003\"}, \"24,May,2004\": {\"frequency\": 3361, \"value\": \"24,May,2004\"}, \"07,May,2004\": {\"frequency\": 886, \"value\": \"07,May,2004\"}, \"22,July,2002\": {\"frequency\": 90, \"value\": \"22,July,2002\"}, \"01,July,2002\": {\"frequency\": 106, \"value\": \"01,July,2002\"}, \"17,August,2003\": {\"frequency\": 269, \"value\": \"17,August,2003\"}, \"17,August,2004\": {\"frequency\": 2283, \"value\": \"17,August,2004\"}, \"13,January,2003\": {\"frequency\": 144, \"value\": \"13,January,2003\"}, \"03,September,2003\": {\"frequency\": 366, \"value\": \"03,September,2003\"}, \"03,September,2002\": {\"frequency\": 102, \"value\": \"03,September,2002\"}, \"13,January,2004\": {\"frequency\": 594, \"value\": \"13,January,2004\"}, \"07,December,2002\": {\"frequency\": 69, \"value\": \"07,December,2002\"}, \"07,December,2003\": {\"frequency\": 373, \"value\": \"07,December,2003\"}, \"06,October,2003\": {\"frequency\": 539, \"value\": \"06,October,2003\"}, \"06,October,2002\": {\"frequency\": 83, \"value\": \"06,October,2002\"}, \"18,July,2002\": {\"frequency\": 81, \"value\": \"18,July,2002\"}, \"20,June,2003\": {\"frequency\": 212, \"value\": \"20,June,2003\"}, \"23,February,2003\": {\"frequency\": 151, \"value\": \"23,February,2003\"}, \"22,January,2004\": {\"frequency\": 676, \"value\": \"22,January,2004\"}, \"22,January,2003\": {\"frequency\": 154, \"value\": \"22,January,2003\"}, \"23,February,2004\": {\"frequency\": 893, \"value\": \"23,February,2004\"}}, \"size\": 681288}, \"gender\": {\"complete\": true, \"numeric\": false, \"num_unique\": 2, \"num_undefined\": 0, \"progress\": 1.0, \"frequent_items\": {\"male\": {\"frequency\": 9660, \"value\": \"male\"}, \"female\": {\"frequency\": 9660, \"value\": \"female\"}}, \"size\": 19320}, \"age\": {\"std\": 7.975283146062908, \"complete\": true, \"min\": 13.0, \"max\": 48.0, \"quantile\": [13.0, 13.0, 13.0, 13.0, 14.0, 14.0, 14.0, 14.0, 14.0, 14.0, 14.0, 15.0, 15.0, 15.0, 15.0, 15.0, 15.0, 15.0, 15.0, 15.0, 16.0, 16.0, 16.0, 16.0, 16.0, 16.0, 16.0, 16.0, 16.0, 16.0, 16.0, 17.0, 17.0, 17.0, 17.0, 17.0, 17.0, 17.0, 17.0, 17.0, 17.0, 17.0, 17.0, 23.0, 23.0, 23.0, 23.0, 23.0, 23.0, 23.0, 23.0, 23.0, 23.0, 23.0, 24.0, 24.0, 24.0, 24.0, 24.0, 24.0, 24.0, 24.0, 24.0, 25.0, 25.0, 25.0, 25.0, 25.0, 25.0, 25.0, 25.0, 25.0, 26.0, 26.0, 26.0, 26.0, 26.0, 26.0, 26.0, 27.0, 27.0, 27.0, 27.0, 27.0, 27.0, 33.0, 33.0, 34.0, 34.0, 35.0, 35.0, 36.0, 36.0, 37.0, 38.0, 39.0, 41.0, 42.0, 44.0, 46.0, 48.0], \"numeric\": true, \"num_unique\": 26, \"num_undefined\": 0, \"var\": 63.60514125987507, \"progress\": 1.0, \"mean\": 22.833799171842646, \"frequent_items\": {\"13\": {\"frequency\": 690, \"value\": 13}, \"14\": {\"frequency\": 1246, \"value\": 14}, \"15\": {\"frequency\": 1771, \"value\": 15}, \"16\": {\"frequency\": 2152, \"value\": 16}, \"17\": {\"frequency\": 2381, \"value\": 17}, \"23\": {\"frequency\": 2026, \"value\": 23}, \"24\": {\"frequency\": 1895, \"value\": 24}, \"25\": {\"frequency\": 1620, \"value\": 25}, \"26\": {\"frequency\": 1340, \"value\": 26}, \"27\": {\"frequency\": 1205, \"value\": 27}, \"33\": {\"frequency\": 464, \"value\": 33}, \"34\": {\"frequency\": 378, \"value\": 34}, \"35\": {\"frequency\": 338, \"value\": 35}, \"36\": {\"frequency\": 288, \"value\": 36}, \"37\": {\"frequency\": 259, \"value\": 37}, \"38\": {\"frequency\": 171, \"value\": 38}, \"39\": {\"frequency\": 152, \"value\": 39}, \"40\": {\"frequency\": 145, \"value\": 40}, \"41\": {\"frequency\": 139, \"value\": 41}, \"42\": {\"frequency\": 127, \"value\": 42}, \"43\": {\"frequency\": 116, \"value\": 43}, \"44\": {\"frequency\": 94, \"value\": 44}, \"45\": {\"frequency\": 103, \"value\": 45}, \"46\": {\"frequency\": 72, \"value\": 46}, \"47\": {\"frequency\": 71, \"value\": 47}, \"48\": {\"frequency\": 77, \"value\": 48}}, \"size\": 19320}, \"posts\": {\"complete\": true, \"numeric\": false, \"num_unique\": 609360, \"num_undefined\": 0, \"progress\": 1.0, \"frequent_items\": {\"\": {\"frequency\": 3218, \"value\": \"\"}, \"urlLink\": {\"frequency\": 1888, \"value\": \"urlLink\"}, \"urlLink       Sylvain's 40th Birthday May 2004\": {\"frequency\": 79, \"value\": \"urlLink ...\"}, \"...\": {\"frequency\": 58, \"value\": \"...\"}, \"Brought to you by   JPServicez.com: Smart bargain shopping  . Please CLICK on the \\\"TITLE\\\" to take up these promotions...   urlLink Site Feed\": {\"frequency\": 107, \"value\": \"Brought to you by ...\"}, \"test\": {\"frequency\": 55, \"value\": \"test\"}, \"urlLink    temple  urlLink\": {\"frequency\": 72, \"value\": \"urlLink    temple ...\"}, \"urlLink       urlLink\": {\"frequency\": 117, \"value\": \"urlLink ...\"}}, \"size\": 681288}, \"id\": {\"complete\": true, \"numeric\": false, \"num_unique\": 19305, \"num_undefined\": 0, \"progress\": 1.0, \"frequent_items\": {}, \"size\": 19320}, \"sign\": {\"complete\": true, \"numeric\": false, \"num_unique\": 12, \"num_undefined\": 0, \"progress\": 1.0, \"frequent_items\": {\"Sagittarius\": {\"frequency\": 1549, \"value\": \"Sagittarius\"}, \"Cancer\": {\"frequency\": 1722, \"value\": \"Cancer\"}, \"Gemini\": {\"frequency\": 1595, \"value\": \"Gemini\"}, \"Capricorn\": {\"frequency\": 1425, \"value\": \"Capricorn\"}, \"Aquarius\": {\"frequency\": 1474, \"value\": \"Aquarius\"}, \"Taurus\": {\"frequency\": 1645, \"value\": \"Taurus\"}, \"Leo\": {\"frequency\": 1619, \"value\": \"Leo\"}, \"Virgo\": {\"frequency\": 1783, \"value\": \"Virgo\"}, \"Scorpio\": {\"frequency\": 1631, \"value\": \"Scorpio\"}, \"Libra\": {\"frequency\": 1700, \"value\": \"Libra\"}, \"Aries\": {\"frequency\": 1597, \"value\": \"Aries\"}, \"Pisces\": {\"frequency\": 1580, \"value\": \"Pisces\"}}, \"size\": 19320}, \"industry\": {\"complete\": true, \"numeric\": false, \"num_unique\": 40, \"num_undefined\": 0, \"progress\": 1.0, \"frequent_items\": {\"LawEnforcement-Security\": {\"frequency\": 57, \"value\": \"LawEnforcement- ...\"}, \"HumanResources\": {\"frequency\": 94, \"value\": \"HumanResources\"}, \"Publishing\": {\"frequency\": 150, \"value\": \"Publishing\"}, \"indUnk\": {\"frequency\": 6827, \"value\": \"indUnk\"}, \"Arts\": {\"frequency\": 721, \"value\": \"Arts\"}, \"Environment\": {\"frequency\": 28, \"value\": \"Environment\"}, \"Religion\": {\"frequency\": 139, \"value\": \"Religion\"}, \"Internet\": {\"frequency\": 397, \"value\": \"Internet\"}, \"Transportation\": {\"frequency\": 91, \"value\": \"Transportation\"}, \"Government\": {\"frequency\": 236, \"value\": \"Government\"}, \"Automotive\": {\"frequency\": 54, \"value\": \"Automotive\"}, \"Maritime\": {\"frequency\": 17, \"value\": \"Maritime\"}, \"Chemicals\": {\"frequency\": 62, \"value\": \"Chemicals\"}, \"Construction\": {\"frequency\": 55, \"value\": \"Construction\"}, \"Student\": {\"frequency\": 5120, \"value\": \"Student\"}, \"Non-Profit\": {\"frequency\": 372, \"value\": \"Non-Profit\"}, \"Law\": {\"frequency\": 197, \"value\": \"Law\"}, \"Tourism\": {\"frequency\": 94, \"value\": \"Tourism\"}, \"BusinessServices\": {\"frequency\": 163, \"value\": \"BusinessServices\"}, \"Biotech\": {\"frequency\": 57, \"value\": \"Biotech\"}, \"Communications-Media\": {\"frequency\": 479, \"value\": \"Communications- ...\"}, \"Science\": {\"frequency\": 184, \"value\": \"Science\"}, \"InvestmentBanking\": {\"frequency\": 33, \"value\": \"InvestmentBanking\"}, \"Banking\": {\"frequency\": 112, \"value\": \"Banking\"}, \"Fashion\": {\"frequency\": 98, \"value\": \"Fashion\"}, \"Architecture\": {\"frequency\": 69, \"value\": \"Architecture\"}, \"Military\": {\"frequency\": 116, \"value\": \"Military\"}, \"Museums-Libraries\": {\"frequency\": 55, \"value\": \"Museums-Libraries\"}, \"Consulting\": {\"frequency\": 191, \"value\": \"Consulting\"}, \"Sports-Recreation\": {\"frequency\": 90, \"value\": \"Sports-Recreation\"}, \"Agriculture\": {\"frequency\": 36, \"value\": \"Agriculture\"}, \"Manufacturing\": {\"frequency\": 87, \"value\": \"Manufacturing\"}, \"Engineering\": {\"frequency\": 312, \"value\": \"Engineering\"}, \"Marketing\": {\"frequency\": 180, \"value\": \"Marketing\"}, \"Accounting\": {\"frequency\": 105, \"value\": \"Accounting\"}, \"Education\": {\"frequency\": 980, \"value\": \"Education\"}, \"Technology\": {\"frequency\": 943, \"value\": \"Technology\"}, \"Telecommunications\": {\"frequency\": 119, \"value\": \"Telecommunications\"}, \"RealEstate\": {\"frequency\": 55, \"value\": \"RealEstate\"}, \"Advertising\": {\"frequency\": 145, \"value\": \"Advertising\"}}, \"size\": 19320}}, \"selected_variable\": {\"name\": [\"sf\"], \"column_identifiers\": [\"dates\", \"gender\", \"age\", \"posts\", \"sign\", \"industry\", \"id\"], \"view_component\": \"Summary\", \"view_file\": \"sframe\", \"view_params\": {\"y\": null, \"x\": null, \"columns\": [\"age\", \"dates\", \"gender\", \"id\", \"industry\", \"posts\", \"sign\"], \"view\": null}, \"view_components\": [\"Summary\", \"Table\", \"Bar Chart\", \"Line Chart\", \"Scatter Plot\", \"Heat Map\", \"Plots\"], \"type\": \"SFrame\", \"columns\": [{\"dtype\": \"int\", \"name\": \"age\"}, {\"dtype\": \"list\", \"name\": \"dates\"}, {\"dtype\": \"str\", \"name\": \"gender\"}, {\"dtype\": \"str\", \"name\": \"id\"}, {\"dtype\": \"str\", \"name\": \"industry\"}, {\"dtype\": \"list\", \"name\": \"posts\"}, {\"dtype\": \"str\", \"name\": \"sign\"}], \"descriptives\": {\"rows\": 19320, \"columns\": 7}}, \"columns\": [{\"dtype\": \"int\", \"name\": \"age\"}, {\"dtype\": \"list\", \"name\": \"dates\"}, {\"dtype\": \"str\", \"name\": \"gender\"}, {\"dtype\": \"str\", \"name\": \"id\"}, {\"dtype\": \"str\", \"name\": \"industry\"}, {\"dtype\": \"list\", \"name\": \"posts\"}, {\"dtype\": \"str\", \"name\": \"sign\"}]}), e);});\n",
        "            })();\n",
        "        "
       ],
       "metadata": {},
       "output_type": "pyout",
       "prompt_number": 3,
       "text": [
        "<IPython.core.display.Javascript at 0x7f2c58072750>"
       ]
      }
     ],
     "prompt_number": 3
    },
    {
     "cell_type": "heading",
     "level": 2,
     "metadata": {},
     "source": [
      "<a id=\"word2vec\"></a>2. Training a Word2Vec Model"
     ]
    },
    {
     "cell_type": "markdown",
     "metadata": {},
     "source": [
      "After loading the blogs data into a SFrame object, the next step is to use the blog post texts and train a [Word2Vec](https://code.google.com/p/word2vec/) model. Without getting into too much details, Word2Vec learns the semantic relationship between words. For our purposes, it's okay to treat Word2Vec as a magical blackbox that takes words as input and returns a vector of numbers that represent the input word and its meaning. \n",
      "\n",
      "In this notebook, I use the [Gensim package](http://radimrehurek.com/gensim/models/word2vec.html) written by [Radim \u0158eh\u016f\u0159ek](https://twitter.com/radimrehurek) to train a Word2Vec model from the set of blogs. This section contains the code for constructing Word2Vec.  You can follow along and train your own model or just directly download the trained model ([file1](https://s3.amazonaws.com/dato-models/deep_text_learning/word2vec_model/blog_posts_300_c_40.word2vec), [file2](https://s3.amazonaws.com/dato-models/deep_text_learning/word2vec_model/blog_posts_300_c_40.word2vec.syn0.npy), [file3](https://s3.amazonaws.com/dato-models/deep_text_learning/word2vec_model/blog_posts_300_c_40.word2vec.syn1.npy)) and skip to the next section on creating & evaluating Machine Learning classification and regression models. \n",
      "\n",
      "First, I create a TrainSentences class that takes as input a directory with English text files and returns an iterator which can be used to split senetences into list of words. "
     ]
    },
    {
     "cell_type": "code",
     "collapsed": false,
     "input": [
      "import os\n",
      "import gensim\n",
      "import re\n",
      "import nltk\n",
      "from nltk.corpus import stopwords\n",
      "from bs4 import BeautifulSoup\n",
      "\n",
      "BASE_DIR = \"/home/graphlab_create/data/blogs\" # NOTE: Update BASE_DIR to your own directory path\n",
      "class TrainSentences(object):\n",
      "    \"\"\"\n",
      "    Iterator class that returns Sentences from texts files in a input directory\n",
      "    \"\"\"\n",
      "    RE_WIHTE_SPACES = re.compile(\"\\s+\")\n",
      "    STOP_WORDS = set(stopwords.words(\"english\"))\n",
      "    def __init__(self, dirname):\n",
      "        \"\"\"\n",
      "        Initialize a TrainSentences object with a input directory that contains text files for training\n",
      "        :param dirname: directory name which contains the text files        \n",
      "        \"\"\"\n",
      "        self.dirname = dirname\n",
      "\n",
      "    def __iter__(self):\n",
      "        \"\"\"\n",
      "        Sentences iterator that return sentences parsed from files in the input directory.\n",
      "        Each sentences is returned as list of words\n",
      "        \"\"\"\n",
      "        #First iterate  on all files in the input directory\n",
      "        for fname in os.listdir(self.dirname):\n",
      "            # read line from file (Without reading the entire file)\n",
      "            for line in file(os.path.join(self.dirname, fname), \"rb\"):\n",
      "                # split the read line into sentences using NLTK\n",
      "                for s in txt2sentences(line, is_html=True):\n",
      "                    # split the sentence into words using regex\n",
      "                    w =txt2words(s, lower=True, is_html=False, remove_stop_words=False,\n",
      "                                                 remove_none_english_chars=True)\n",
      "                    #skip short sentneces with less than 3 words\n",
      "                    if len(w) < 3:\n",
      "                        continue\n",
      "                    yield w\n",
      "\n",
      "def txt2sentences(txt, is_html=False, remove_none_english_chars=True):\n",
      "    \"\"\"\n",
      "    Split the English text into sentences using NLTK\n",
      "    :param txt: input text.\n",
      "    :param is_html: If True thenremove HTML tags using BeautifulSoup\n",
      "    :param remove_none_english_chars: if True then remove non-english chars from text\n",
      "    :return: string in which each line consists of single sentence from the original input text.\n",
      "    :rtype: str\n",
      "    \"\"\"\n",
      "    if is_html:\n",
      "        txt = BeautifulSoup(txt).get_text()\n",
      "    tokenizer = nltk.data.load('tokenizers/punkt/english.pickle')\n",
      "\n",
      "    # split text into sentences using nltk packages\n",
      "    for s in tokenizer.tokenize(txt):\n",
      "        if remove_none_english_chars:\n",
      "            #remove none English chars\n",
      "            s = re.sub(\"[^a-zA-Z]\", \" \", s)\n",
      "        yield s\n",
      "    \n",
      "def txt2words(txt, lower=True, is_html=False, remove_none_english_chars=True, remove_stop_words=True):\n",
      "    \"\"\"\n",
      "    Split text into words list\n",
      "    :param txt: the input text\n",
      "    :param lower: if to make the  text to lowercase or not.\n",
      "    :param is_html: If True then  remove HTML tags using BeautifulSoup\n",
      "    :param remove_none_english_chars: if True then remove non-english chars from text\n",
      "    :param remove_stop_words: if True then remove stop words from text\n",
      "    :return: words list create from the input text according to the input parameters.\n",
      "    :rtype: list\n",
      "    \"\"\"\n",
      "    if is_html:\n",
      "        txt = BeautifulSoup(txt).get_text()\n",
      "    if lower:\n",
      "        txt = txt.lower()\n",
      "    if remove_none_english_chars:\n",
      "        txt = re.sub(\"[^a-zA-Z]\", \" \", txt)\n",
      "\n",
      "    words = TrainSentences.RE_WIHTE_SPACES.split(txt.strip().lower())\n",
      "    if remove_stop_words:\n",
      "        #remove stop words from text\n",
      "        words = [w for w in words if w not in TrainSentences.STOP_WORDS]\n",
      "    return words"
     ],
     "language": "python",
     "metadata": {},
     "outputs": [],
     "prompt_number": 4
    },
    {
     "cell_type": "markdown",
     "metadata": {},
     "source": [
      "Now I create a 'sentences' object and train the Word2Vec model using Gensim. (This will take a while--about 40 minutes on my 8 core desktop with 24GB of RAM. It also generates a lot of output, of which we are only showing an excerpt here.) Feel free to go and grab lunch."
     ]
    },
    {
     "cell_type": "code",
     "collapsed": false,
     "input": [
      "sentences = TrainSentences(\"%s/txt\" % BASE_DIR)\n",
      "model = gensim.models.Word2Vec(sentences, size=300, workers=8, min_count=40)\n",
      "model.save(\"%s/blog_posts_300_c_40.word2vec\" % BASE_DIR)"
     ],
     "language": "python",
     "metadata": {},
     "outputs": [],
     "prompt_number": 5
    },
    {
     "cell_type": "markdown",
     "metadata": {},
     "source": [
      "Using mostly the default Word2Vec parameters, I construct a Word2Vec model that can map a word and to a vector of size 300. If you are intrested in constructing Word2Vec models faster and with more complex criteria, you can read more about it here: [Deep learning with word2vec and gensim](http://radimrehurek.com/2013/09/deep-learning-with-word2vec-and-gensim/),  [Deep learning with word2vec](http://radimrehurek.com/gensim/models/word2vec.html), and [Bag of words meets bags of popcorn](https://www.kaggle.com/c/word2vec-nlp-tutorial/details/part-2-word-vectors).\n",
      "\n",
      "Let's see if our model works. Let's check for what words the model considers the most similar to the words \"lol\" and \"gemini.\" Notice that in our pre-processing steps, all the words are converted to be in lowercase."
     ]
    },
    {
     "cell_type": "code",
     "collapsed": false,
     "input": [
      "model.most_similar(\"lol\")"
     ],
     "language": "python",
     "metadata": {},
     "outputs": [
      {
       "metadata": {},
       "output_type": "pyout",
       "prompt_number": 6,
       "text": [
        "[(u'haha', 0.7674974203109741),\n",
        " (u'lildevil', 0.720061182975769),\n",
        " (u'dynamitedg', 0.7186048030853271),\n",
        " (u'hahaha', 0.7165870666503906),\n",
        " (u'yea', 0.706267774105072),\n",
        " (u'fabityfabfab', 0.692556619644165),\n",
        " (u'hellokittylovzme', 0.6910575032234192),\n",
        " (u'shevy', 0.6903275847434998),\n",
        " (u'djkthegr', 0.6773291826248169),\n",
        " (u'sehne', 0.6644361615180969)]"
       ]
      }
     ],
     "prompt_number": 6
    },
    {
     "cell_type": "code",
     "collapsed": false,
     "input": [
      "model.most_similar(\"gemini\")"
     ],
     "language": "python",
     "metadata": {},
     "outputs": [
      {
       "metadata": {},
       "output_type": "pyout",
       "prompt_number": 7,
       "text": [
        "[(u'libra', 0.8335538506507874),\n",
        " (u'capricorn', 0.8181889057159424),\n",
        " (u'aquarius', 0.8059983849525452),\n",
        " (u'aries', 0.7940620183944702),\n",
        " (u'virgo', 0.7938823103904724),\n",
        " (u'scorpio', 0.7834067344665527),\n",
        " (u'pisces', 0.7768857479095459),\n",
        " (u'sagittarius', 0.7740199565887451),\n",
        " (u'taurus', 0.7478488683700562),\n",
        " (u'zodiac', 0.723747730255127)]"
       ]
      }
     ],
     "prompt_number": 7
    },
    {
     "cell_type": "markdown",
     "metadata": {},
     "source": [
      "Seems like the model works! The training process also saved the Word2Vec model on disk for later use. Now we are ready to use the trained model to analyze each blogger's posts and predict the blogger's attributes."
     ]
    },
    {
     "cell_type": "heading",
     "level": 2,
     "metadata": {},
     "source": [
      "<a id=\"classifier\"></a>3. Creating & Evaluating Classifiers"
     ]
    },
    {
     "cell_type": "markdown",
     "metadata": {},
     "source": [
      "Now we are ready to try classification. We'll build a few classifiers to predict both the gender and the age category of the blogger based on his or her posts. Using the output vectors of Word2Vec as input features, the classifier can get much better results than using a bag-of-words model.\n",
      "\n",
      "For those of you who skipped the previous section. You can download the trained Word2Vec model from here: [file1](https://s3.amazonaws.com/dato-models/deep_text_learning/word2vec_model/blog_posts_300_c_40.word2vec), [file2](https://s3.amazonaws.com/dato-models/deep_text_learning/word2vec_model/blog_posts_300_c_40.word2vec.syn0.npy), [file3](https://s3.amazonaws.com/dato-models/deep_text_learning/word2vec_model/blog_posts_300_c_40.word2vec.syn1.npy), and load using the following code."
     ]
    },
    {
     "cell_type": "code",
     "collapsed": false,
     "input": [
      "import gensim\n",
      "BASE_DIR = \"/home/graphlab_create/data/blogs\" # NOTE: Update BASE_DIR to your own directory path\n",
      "model_download_path = \"%s/blog_posts_300_c_40.word2vec\" % BASE_DIR\n",
      "model = gensim.models.Word2Vec.load(model_download_path)"
     ],
     "language": "python",
     "metadata": {},
     "outputs": [],
     "prompt_number": 8
    },
    {
     "cell_type": "markdown",
     "metadata": {},
     "source": [
      "If you skipped the previous sections, you'll also need to load the blog data as an SFrame object:"
     ]
    },
    {
     "cell_type": "code",
     "collapsed": false,
     "input": [
      "import graphlab as gl\n",
      "sframe_save_path = \"%s/blogs.sframe\" % BASE_DIR\n",
      "sf = gl.load_sframe(sframe_save_path)\n",
      "print sf.num_rows()"
     ],
     "language": "python",
     "metadata": {},
     "outputs": [
      {
       "output_type": "stream",
       "stream": "stdout",
       "text": [
        "19320\n"
       ]
      }
     ],
     "prompt_number": 9
    },
    {
     "cell_type": "heading",
     "level": 3,
     "metadata": {},
     "source": [
      "3.1 Feature engineering"
     ]
    },
    {
     "cell_type": "markdown",
     "metadata": {},
     "source": [
      "Before we can build the classifiers, we need to generate the necessary features. We'll benchmark the Word2Vec features against a simple alternative, n-gram features, which are also used in the [sentiment analysis notebook](https://dato.com/learn/gallery/notebooks/sentiment_classifier.html)."
     ]
    },
    {
     "cell_type": "code",
     "collapsed": false,
     "input": [
      "# first we join the posts list to a single string\n",
      "sf['posts'] = sf['posts'].apply(lambda posts:\"\\n\".join(posts)) \n",
      "\n",
      "# Construct Bag-of-Words model and evaluate it\n",
      "sf['1gram features'] = gl.text_analytics.count_ngrams(sf['posts'], 1)\n",
      "sf['2gram features'] = gl.text_analytics.count_ngrams(sf['posts'], 2)"
     ],
     "language": "python",
     "metadata": {},
     "outputs": [],
     "prompt_number": 10
    },
    {
     "cell_type": "markdown",
     "metadata": {},
     "source": [
      "Generating the Word2Vec average vectors requires four steps: \n",
      "\n",
      "1. Transfer each bloger's posts into a list of words. \n",
      "2. Use the Word2Vec model to map each word into its corresponding vector. (We'll do this only for words that are included in the Word2Vec model.)\n",
      "3. Calculate the average vector of all the word vectors. \n",
      "4. Lastly, we will use the average calaculate vector as input to our classfication algorithms. \n",
      "\n",
      "Below, we define the DeepTextAnalyzer object that converts text into its corresponding average vector representation."
     ]
    },
    {
     "cell_type": "code",
     "collapsed": false,
     "input": [
      "from numpy import average\n",
      "import graphlab as gl\n",
      "import numpy as np\n",
      "import gensim\n",
      "\n",
      "class DeepTextAnalyzer(object):\n",
      "    def __init__(self, word2vec_model):\n",
      "        \"\"\"\n",
      "        Construct a DeepTextAnalyzer using the input Word2Vec model\n",
      "        :param word2vec_model: a trained Word2Vec model\n",
      "        \"\"\"\n",
      "        self._model = word2vec_model\n",
      "\n",
      "    def txt2vectors(self,txt, is_html):\n",
      "        \"\"\"\n",
      "        Convert input text into an iterator that returns the corresponding vector representation of each\n",
      "        word in the text, if it exists in the Word2Vec model\n",
      "        :param txt: input text\n",
      "        :param is_html: if True, then extract the text from the input HTML\n",
      "        :return: iterator of vectors created from the words in the text using the Word2Vec model.\n",
      "        \"\"\"\n",
      "        words = txt2words(txt,is_html=is_html, lower=True, remove_none_english_chars=True)\n",
      "        words = [w for w in words if w in self._model]\n",
      "        if len(words) != 0:\n",
      "            for w in words:\n",
      "                yield self._model[w]\n",
      "\n",
      "\n",
      "    def txt2avg_vector(self, txt, is_html):\n",
      "        \"\"\"\n",
      "        Calculate the average vector representation of the input text\n",
      "        :param txt: input text\n",
      "        :param is_html: is the text is a HTML\n",
      "        :return the average vector of the vector representations of the words in the text  \n",
      "        \"\"\"\n",
      "        vectors = self.txt2vectors(txt,is_html=is_html)\n",
      "        vectors_sum = next(vectors, None)\n",
      "        if vectors_sum is None:\n",
      "            return None\n",
      "        count =1.0\n",
      "        for v in vectors:\n",
      "            count += 1\n",
      "            vectors_sum = np.add(vectors_sum,v)\n",
      "        \n",
      "        #calculate the average vector and replace +infy and -inf with numeric values \n",
      "        avg_vector = np.nan_to_num(vectors_sum/count)\n",
      "        return avg_vector"
     ],
     "language": "python",
     "metadata": {},
     "outputs": [],
     "prompt_number": 11
    },
    {
     "cell_type": "markdown",
     "metadata": {},
     "source": [
      "Using the DeepTextAnalyzer, we can calculate each blogger's average vector."
     ]
    },
    {
     "cell_type": "code",
     "collapsed": false,
     "input": [
      "dt = DeepTextAnalyzer(model)\n",
      "sf['vectors'] = sf['posts'].apply(lambda p: dt.txt2avg_vector(p, is_html=True))\n",
      "sf['vectors'].head(1)"
     ],
     "language": "python",
     "metadata": {},
     "outputs": [
      {
       "metadata": {},
       "output_type": "pyout",
       "prompt_number": 12,
       "text": [
        "dtype: array\n",
        "Rows: 1\n",
        "[array('d', [0.012604535557329655, 0.054879602044820786, 0.0904444083571434, 0.012575246393680573, -0.06448926031589508, 0.03523287549614906, -0.0017349873669445515, 0.037302080541849136, 0.019732296466827393, -0.0028380516450852156, -0.03617171570658684, -0.030211569741368294, 0.059265512973070145, -0.016376517713069916, -0.02428954467177391, 0.016346734017133713, -0.0006845878669992089, 0.029808631166815758, -0.001393423997797072, 0.01046839077025652, -0.0536954440176487, 0.020142750814557076, -0.032764650881290436, -0.0060912203043699265, -0.0073578255251049995, 0.014595184475183487, 0.0012583564966917038, -0.0525243915617466, -0.01746908202767372, 0.01896553672850132, 0.04609547555446625, -0.06341788172721863, -0.016633527353405952, 0.041018836200237274, -0.0489996001124382, -0.004209735430777073, -0.013284904882311821, 0.04584050551056862, -0.024157751351594925, -0.015318844467401505, -0.03572612628340721, 0.010020504705607891, 0.01933750882744789, 0.0471440814435482, -0.038565292954444885, -0.004639579448848963, 0.025136299431324005, 0.017895253375172615, -0.0074853147380054, -0.05658518150448799, 0.019308101385831833, -0.04762481153011322, 0.015183519572019577, 0.04126725718379021, 0.012069158256053925, 0.04616081342101097, -0.04652436450123787, -0.0350184291601181, 0.046059202402830124, 0.010615011677145958, -0.02820979431271553, 0.017745980992913246, -0.05776236206293106, 0.018051480874419212, -0.02307523787021637, 0.025938035920262337, -0.001170123927295208, 0.021539734676480293, 0.04912836104631424, 0.00330935581587255, -0.04921851307153702, 0.031874556094408035, 0.007241516839712858, -0.06860924512147903, 0.012496729381382465, 0.02692459151148796, 0.002778894267976284, -0.024367745965719223, -0.029117828235030174, 0.0026462916284799576, 0.0013245047302916646, -0.007550460752099752, 0.031065719202160835, 0.008026349358260632, -0.043550144881010056, -0.027642332017421722, 0.058655980974435806, 0.019528070464730263, 0.028870102018117905, 0.043329592794179916, 0.016563354060053825, 0.030260786414146423, -0.00636585196480155, 0.013522556982934475, 0.01302525494247675, -0.04023490101099014, -0.019169269129633904, 0.006410487927496433, -0.027096742764115334, 0.00826142355799675, -0.0011532100616022944, 0.012507018633186817, -0.0212711114436388, -0.08576739579439163, -0.023442767560482025, 0.04792207106947899, -0.011149311438202858, -0.04573160782456398, -0.019624322652816772, -0.05888773500919342, -0.018478894606232643, -0.007574104238301516, -0.02120867744088173, -0.012790458276867867, 0.04612373560667038, 0.0035052138846367598, 0.05190417915582657, 0.004082612693309784, 0.0070382775738835335, -0.012935448437929153, 0.02881212718784809, 0.03776417300105095, -0.05116482079029083, -0.07703803479671478, -0.015154514461755753, -0.01737312227487564, -0.012305397540330887, 0.0259209256619215, -0.059005577117204666, -0.002980702556669712, -0.0011761231580749154, -0.001604782184585929, 0.051239192485809326, -0.036717817187309265, 0.04146266728639603, 0.008646705187857151, -0.013771510683000088, -0.0031840838491916656, -0.022171122953295708, 0.012290295213460922, -0.02277674525976181, -0.0016936497995629907, 0.016646938398480415, 0.015758031979203224, -0.009412403218448162, 0.01396714523434639, -0.03505697101354599, -0.021226583048701286, 0.020337166264653206, -0.016492506489157677, -0.013801313005387783, 0.04836142808198929, -0.01688632182776928, -0.014864296652376652, 0.027103174477815628, 0.000841900531668216, 0.011327732354402542, 0.018413545563817024, 0.059501659125089645, 0.027884572744369507, 0.02568002976477146, 0.0023337737657129765, -0.005481530912220478, -0.03638114780187607, -0.036091599613428116, 0.051848117262125015, 0.016824305057525635, 0.10352840274572372, 0.009514165110886097, 0.016132302582263947, -0.05149019882082939, 0.008226466365158558, 0.04827508330345154, 0.06647384166717529, 0.00275649712421, 0.005567316431552172, 0.0016942773945629597, -0.004413999617099762, 0.016311438754200935, -0.030939340591430664, -0.0005547385080717504, -0.01593383215367794, 0.013364830054342747, -0.013141979463398457, 0.0011922522680833936, 0.006322520785033703, -0.0004896017489954829, -0.0028291114140301943, -0.009287447668612003, -0.021965233609080315, 0.03152938187122345, 0.00810872670263052, -0.028736872598528862, -0.023163029924035072, -0.03366544097661972, 0.020645910874009132, -0.03314598277211189, 0.03880348056554794, 0.009069174528121948, 0.00633469270542264, 0.09019562602043152, 0.04395481199026108, 0.021493952721357346, -0.0012203545775264502, -0.008003506809473038, 0.0005816234624944627, 0.027125393971800804, -0.05667264759540558, 0.038607753813266754, 0.04694390669465065, -0.00565087515860796, -0.024970751255750656, -0.020624076947569847, 0.011477457359433174, 0.0016564808320254087, -0.025250554084777832, -0.03610401600599289, 0.018454844132065773, -0.019847378134727478, 0.008955851197242737, 0.03807211294770241, -0.06424836069345474, -0.02729138359427452, -0.020875059068202972, -0.01452101580798626, -0.007545968517661095, 0.010136705823242664, -0.011983807198703289, 0.01491461880505085, -0.02777835913002491, -0.011003761552274227, -0.010576434433460236, -0.008059872314333916, 0.0036743979435414076, 0.03312287479639053, 0.03527246415615082, 0.0364689826965332, -0.0005058578681200743, -0.030745765194296837, 0.0609147809445858, 0.014962667599320412, 0.05409712344408035, 0.006046036258339882, -0.03300958499312401, -0.006111537106335163, -0.02362757734954357, -0.012275554239749908, 0.010423519648611546, -0.018905002623796463, 0.054251376539468765, -0.0059964340180158615, -0.05477603152394295, -0.022443506866693497, -0.0036348667927086353, -0.03470706194639206, -0.015869691967964172, -0.06002680957317352, -0.03329383209347725, -0.02543313056230545, -0.01381655689328909, -0.015787973999977112, -0.0037349367048591375, -0.03783893957734108, 0.00030305792461149395, 0.01221040915697813, 0.037274520844221115, 0.035005323588848114, -0.02690398320555687, -0.014468496665358543, 0.04189489781856537, 0.033100321888923645, -0.008360632695257664, 0.043549370020627975, -0.05221143364906311, -0.010840457864105701, 0.019972994923591614, -0.08662424981594086, -0.020530475303530693, 0.051277268677949905, -0.04399894177913666, -0.023578867316246033, 0.01965881511569023, -0.0009816517122089863, -0.017721623182296753, -0.018783023580908775, 0.024514226242899895, 0.031012779101729393, 0.033788781613111496, 0.022824862971901894, -0.023204617202281952, -0.010844551958143711, -0.04690912365913391, -0.010056046769022942, 0.017791585996747017, -0.03158311918377876, 0.0071300626732409, 0.0005410840385593474, 0.0021672432776540518, 0.031238645315170288, 0.12138962000608444])]"
       ]
      }
     ],
     "prompt_number": 12
    },
    {
     "cell_type": "markdown",
     "metadata": {},
     "source": [
      "Let's remove all rows with missing values from the SFrame and look at the results in GraphLab Canvas."
     ]
    },
    {
     "cell_type": "code",
     "collapsed": false,
     "input": [
      "sf = sf.dropna()\n",
      "print sf.column_names()"
     ],
     "language": "python",
     "metadata": {},
     "outputs": [
      {
       "output_type": "stream",
       "stream": "stdout",
       "text": [
        "['age', 'dates', 'gender', 'id', 'industry', 'posts', 'sign', '1gram features', '2gram features', 'vectors']\n"
       ]
      }
     ],
     "prompt_number": 13
    },
    {
     "cell_type": "markdown",
     "metadata": {},
     "source": [
      "Randomly split the data into a training set and a test set. Then train a classifier on the train set and evaluate it on the test set. SFrame operations are lazily evaluated. So the lambda apply and dropna operations that we called above are actually queued up. The random split operation forces the SFrame to materialize the results. So this operation will take a while, because it is only now computing the vector representation of each blogger's posts."
     ]
    },
    {
     "cell_type": "code",
     "collapsed": false,
     "input": [
      "train_set, test_set = sf.random_split(0.8, seed=5)"
     ],
     "language": "python",
     "metadata": {},
     "outputs": [],
     "prompt_number": 14
    },
    {
     "cell_type": "heading",
     "level": 3,
     "metadata": {},
     "source": [
      "3.2 Predicting blogger gender"
     ]
    },
    {
     "cell_type": "markdown",
     "metadata": {},
     "source": [
      "Okay, feature engineering is done! Let's see how well the single word counts (one-grams) work in predicting the blogger's gender."
     ]
    },
    {
     "cell_type": "code",
     "collapsed": false,
     "input": [
      "cls = gl.classifier.create(train_set, target='gender', features=['1gram features'])\n",
      "baseline_result = cls.evaluate(test_set)\n",
      "print baseline_result"
     ],
     "language": "python",
     "metadata": {},
     "outputs": [
      {
       "output_type": "stream",
       "stream": "stdout",
       "text": [
        "PROGRESS: Creating a validation set from 5 percent of training data. This may take a while.\n",
        "          You can set ``validation_set=None`` to disable validation tracking.\n",
        "\n",
        "PROGRESS: The following methods are available for this type of problem."
       ]
      },
      {
       "html": [
        "<pre>PROGRESS: Logistic regression:</pre>"
       ],
       "metadata": {},
       "output_type": "display_data",
       "text": [
        "PROGRESS: Logistic regression:"
       ]
      },
      {
       "html": [
        "<pre>PROGRESS: --------------------------------------------------------</pre>"
       ],
       "metadata": {},
       "output_type": "display_data",
       "text": [
        "PROGRESS: --------------------------------------------------------"
       ]
      },
      {
       "html": [
        "<pre>PROGRESS: Number of examples          : 14645</pre>"
       ],
       "metadata": {},
       "output_type": "display_data",
       "text": [
        "PROGRESS: Number of examples          : 14645"
       ]
      },
      {
       "html": [
        "<pre>PROGRESS: Number of classes           : 2</pre>"
       ],
       "metadata": {},
       "output_type": "display_data",
       "text": [
        "PROGRESS: Number of classes           : 2"
       ]
      },
      {
       "html": [
        "<pre>PROGRESS: Number of feature columns   : 1</pre>"
       ],
       "metadata": {},
       "output_type": "display_data",
       "text": [
        "PROGRESS: Number of feature columns   : 1"
       ]
      },
      {
       "html": [
        "<pre>PROGRESS: Number of unpacked features : 646395</pre>"
       ],
       "metadata": {},
       "output_type": "display_data",
       "text": [
        "PROGRESS: Number of unpacked features : 646395"
       ]
      },
      {
       "html": [
        "<pre>PROGRESS: Number of coefficients    : 667424</pre>"
       ],
       "metadata": {},
       "output_type": "display_data",
       "text": [
        "PROGRESS: Number of coefficients    : 667424"
       ]
      },
      {
       "html": [
        "<pre>PROGRESS: Starting L-BFGS</pre>"
       ],
       "metadata": {},
       "output_type": "display_data",
       "text": [
        "PROGRESS: Starting L-BFGS"
       ]
      },
      {
       "html": [
        "<pre>PROGRESS: --------------------------------------------------------</pre>"
       ],
       "metadata": {},
       "output_type": "display_data",
       "text": [
        "PROGRESS: --------------------------------------------------------"
       ]
      },
      {
       "html": [
        "<pre>PROGRESS: +-----------+----------+-----------+--------------+-------------------+---------------------+</pre>"
       ],
       "metadata": {},
       "output_type": "display_data",
       "text": [
        "PROGRESS: +-----------+----------+-----------+--------------+-------------------+---------------------+"
       ]
      },
      {
       "html": [
        "<pre>PROGRESS: | Iteration | Passes   | Step size | Elapsed Time | Training-accuracy | Validation-accuracy |</pre>"
       ],
       "metadata": {},
       "output_type": "display_data",
       "text": [
        "PROGRESS: | Iteration | Passes   | Step size | Elapsed Time | Training-accuracy | Validation-accuracy |"
       ]
      },
      {
       "html": [
        "<pre>PROGRESS: +-----------+----------+-----------+--------------+-------------------+---------------------+</pre>"
       ],
       "metadata": {},
       "output_type": "display_data",
       "text": [
        "PROGRESS: +-----------+----------+-----------+--------------+-------------------+---------------------+"
       ]
      },
      {
       "html": [
        "<pre>PROGRESS: | 1         | 3        | 1.000000  | 0.810433     | 0.950358          | 0.730469            |</pre>"
       ],
       "metadata": {},
       "output_type": "display_data",
       "text": [
        "PROGRESS: | 1         | 3        | 1.000000  | 0.810433     | 0.950358          | 0.730469            |"
       ]
      },
      {
       "html": [
        "<pre>PROGRESS: | 2         | 5        | 1.000000  | 1.539367     | 0.925982          | 0.660156            |</pre>"
       ],
       "metadata": {},
       "output_type": "display_data",
       "text": [
        "PROGRESS: | 2         | 5        | 1.000000  | 1.539367     | 0.925982          | 0.660156            |"
       ]
      },
      {
       "html": [
        "<pre>PROGRESS: | 3         | 6        | 1.000000  | 1.995312     | 0.968385          | 0.710938            |</pre>"
       ],
       "metadata": {},
       "output_type": "display_data",
       "text": [
        "PROGRESS: | 3         | 6        | 1.000000  | 1.995312     | 0.968385          | 0.710938            |"
       ]
      },
      {
       "html": [
        "<pre>PROGRESS: | 4         | 7        | 1.000000  | 2.436006     | 0.974053          | 0.704427            |</pre>"
       ],
       "metadata": {},
       "output_type": "display_data",
       "text": [
        "PROGRESS: | 4         | 7        | 1.000000  | 2.436006     | 0.974053          | 0.704427            |"
       ]
      },
      {
       "html": [
        "<pre>PROGRESS: | 5         | 8        | 1.000000  | 2.918556     | 0.986343          | 0.747396            |</pre>"
       ],
       "metadata": {},
       "output_type": "display_data",
       "text": [
        "PROGRESS: | 5         | 8        | 1.000000  | 2.918556     | 0.986343          | 0.747396            |"
       ]
      },
      {
       "html": [
        "<pre>PROGRESS: | 6         | 9        | 1.000000  | 3.359423     | 0.988119          | 0.750000            |</pre>"
       ],
       "metadata": {},
       "output_type": "display_data",
       "text": [
        "PROGRESS: | 6         | 9        | 1.000000  | 3.359423     | 0.988119          | 0.750000            |"
       ]
      },
      {
       "html": [
        "<pre>PROGRESS: | 10        | 13       | 1.000000  | 5.163912     | 0.990850          | 0.744792            |</pre>"
       ],
       "metadata": {},
       "output_type": "display_data",
       "text": [
        "PROGRESS: | 10        | 13       | 1.000000  | 5.163912     | 0.990850          | 0.744792            |"
       ]
      },
      {
       "html": [
        "<pre>PROGRESS: +-----------+----------+-----------+--------------+-------------------+---------------------+</pre>"
       ],
       "metadata": {},
       "output_type": "display_data",
       "text": [
        "PROGRESS: +-----------+----------+-----------+--------------+-------------------+---------------------+"
       ]
      },
      {
       "html": [
        "<pre>PROGRESS: SVM:</pre>"
       ],
       "metadata": {},
       "output_type": "display_data",
       "text": [
        "PROGRESS: SVM:"
       ]
      },
      {
       "html": [
        "<pre>PROGRESS: --------------------------------------------------------</pre>"
       ],
       "metadata": {},
       "output_type": "display_data",
       "text": [
        "PROGRESS: --------------------------------------------------------"
       ]
      },
      {
       "html": [
        "<pre>PROGRESS: Number of examples          : 14645</pre>"
       ],
       "metadata": {},
       "output_type": "display_data",
       "text": [
        "PROGRESS: Number of examples          : 14645"
       ]
      },
      {
       "html": [
        "<pre>PROGRESS: Number of classes           : 2</pre>"
       ],
       "metadata": {},
       "output_type": "display_data",
       "text": [
        "PROGRESS: Number of classes           : 2"
       ]
      },
      {
       "html": [
        "<pre>PROGRESS: Number of feature columns   : 1</pre>"
       ],
       "metadata": {},
       "output_type": "display_data",
       "text": [
        "PROGRESS: Number of feature columns   : 1"
       ]
      },
      {
       "html": [
        "<pre>PROGRESS: Number of unpacked features : 646395</pre>"
       ],
       "metadata": {},
       "output_type": "display_data",
       "text": [
        "PROGRESS: Number of unpacked features : 646395"
       ]
      },
      {
       "html": [
        "<pre>PROGRESS: Number of coefficients    : 667424</pre>"
       ],
       "metadata": {},
       "output_type": "display_data",
       "text": [
        "PROGRESS: Number of coefficients    : 667424"
       ]
      },
      {
       "html": [
        "<pre>PROGRESS: Starting L-BFGS</pre>"
       ],
       "metadata": {},
       "output_type": "display_data",
       "text": [
        "PROGRESS: Starting L-BFGS"
       ]
      },
      {
       "html": [
        "<pre>PROGRESS: --------------------------------------------------------</pre>"
       ],
       "metadata": {},
       "output_type": "display_data",
       "text": [
        "PROGRESS: --------------------------------------------------------"
       ]
      },
      {
       "html": [
        "<pre>PROGRESS: +-----------+----------+-----------+--------------+-------------------+---------------------+</pre>"
       ],
       "metadata": {},
       "output_type": "display_data",
       "text": [
        "PROGRESS: +-----------+----------+-----------+--------------+-------------------+---------------------+"
       ]
      },
      {
       "html": [
        "<pre>PROGRESS: | Iteration | Passes   | Step size | Elapsed Time | Training-accuracy | Validation-accuracy |</pre>"
       ],
       "metadata": {},
       "output_type": "display_data",
       "text": [
        "PROGRESS: | Iteration | Passes   | Step size | Elapsed Time | Training-accuracy | Validation-accuracy |"
       ]
      },
      {
       "html": [
        "<pre>PROGRESS: +-----------+----------+-----------+--------------+-------------------+---------------------+</pre>"
       ],
       "metadata": {},
       "output_type": "display_data",
       "text": [
        "PROGRESS: +-----------+----------+-----------+--------------+-------------------+---------------------+"
       ]
      },
      {
       "html": [
        "<pre>PROGRESS: | 1         | 3        | 1.000000  | 0.704964     | 0.950358          | 0.730469            |</pre>"
       ],
       "metadata": {},
       "output_type": "display_data",
       "text": [
        "PROGRESS: | 1         | 3        | 1.000000  | 0.704964     | 0.950358          | 0.730469            |"
       ]
      },
      {
       "html": [
        "<pre>PROGRESS: | 2         | 5        | 1.000000  | 1.285862     | 0.947422          | 0.679688            |</pre>"
       ],
       "metadata": {},
       "output_type": "display_data",
       "text": [
        "PROGRESS: | 2         | 5        | 1.000000  | 1.285862     | 0.947422          | 0.679688            |"
       ]
      },
      {
       "html": [
        "<pre>PROGRESS: | 3         | 6        | 1.000000  | 1.696845     | 0.978081          | 0.735677            |</pre>"
       ],
       "metadata": {},
       "output_type": "display_data",
       "text": [
        "PROGRESS: | 3         | 6        | 1.000000  | 1.696845     | 0.978081          | 0.735677            |"
       ]
      },
      {
       "html": [
        "<pre>PROGRESS: | 4         | 7        | 1.000000  | 2.129355     | 0.982656          | 0.726562            |</pre>"
       ],
       "metadata": {},
       "output_type": "display_data",
       "text": [
        "PROGRESS: | 4         | 7        | 1.000000  | 2.129355     | 0.982656          | 0.726562            |"
       ]
      },
      {
       "html": [
        "<pre>PROGRESS: | 5         | 8        | 1.000000  | 2.542319     | 0.989211          | 0.747396            |</pre>"
       ],
       "metadata": {},
       "output_type": "display_data",
       "text": [
        "PROGRESS: | 5         | 8        | 1.000000  | 2.542319     | 0.989211          | 0.747396            |"
       ]
      },
      {
       "html": [
        "<pre>PROGRESS: | 6         | 9        | 1.000000  | 2.933923     | 0.989484          | 0.730469            |</pre>"
       ],
       "metadata": {},
       "output_type": "display_data",
       "text": [
        "PROGRESS: | 6         | 9        | 1.000000  | 2.933923     | 0.989484          | 0.730469            |"
       ]
      },
      {
       "html": [
        "<pre>PROGRESS: | 10        | 13       | 1.000000  | 4.584358     | 0.992694          | 0.734375            |</pre>"
       ],
       "metadata": {},
       "output_type": "display_data",
       "text": [
        "PROGRESS: | 10        | 13       | 1.000000  | 4.584358     | 0.992694          | 0.734375            |"
       ]
      },
      {
       "html": [
        "<pre>PROGRESS: +-----------+----------+-----------+--------------+-------------------+---------------------+</pre>"
       ],
       "metadata": {},
       "output_type": "display_data",
       "text": [
        "PROGRESS: +-----------+----------+-----------+--------------+-------------------+---------------------+"
       ]
      },
      {
       "output_type": "stream",
       "stream": "stdout",
       "text": [
        "\n",
        "PROGRESS: LogisticClassifier, SVMClassifier\n",
        "PROGRESS: The returned model will be chosen according to validation accuracy.\n",
        "PROGRESS: Model selection based on validation accuracy:\n",
        "PROGRESS: ---------------------------------------------\n",
        "PROGRESS: LogisticClassifier              : 0.744792\n",
        "PROGRESS: SVMClassifier                   : 0.734375\n",
        "PROGRESS: ---------------------------------------------\n",
        "PROGRESS: Selecting LogisticClassifier based on validation set performance."
       ]
      },
      {
       "output_type": "stream",
       "stream": "stdout",
       "text": [
        "\n",
        "{'confusion_matrix': Columns:\n",
        "\ttarget_label\tstr\n",
        "\tpredicted_label\tstr\n",
        "\tcount\tint\n",
        "\n",
        "Rows: 4\n",
        "\n",
        "Data:\n",
        "+--------------+-----------------+-------+\n",
        "| target_label | predicted_label | count |\n",
        "+--------------+-----------------+-------+\n",
        "|    female    |      female     |  1668 |\n",
        "|    female    |       male      |  295  |\n",
        "|     male     |      female     |  732  |\n",
        "|     male     |       male      |  1204 |\n",
        "+--------------+-----------------+-------+\n",
        "[4 rows x 3 columns]\n",
        ", 'accuracy': 0.7365991279815337}"
       ]
      },
      {
       "output_type": "stream",
       "stream": "stdout",
       "text": [
        "\n"
       ]
      }
     ],
     "prompt_number": 15
    },
    {
     "cell_type": "markdown",
     "metadata": {},
     "source": [
      "That got us an accuracy of about 0.74. For kicks, we'll throw in the 2-gram features as well. This blows up the feature space to more than 13 million sparse features and makes the training much more expensive. (My desktop was unresponsive for a few minutes since the training took up all available memory.) The results are less than overwhelming. Granted, the classifier hasn't been properly tuned, and performance should improve with better hyperparameter settings. But tuning itself is a computationally intensive process. Also, as we'll see, the word2vec features provide clear gains, at a fraction of the computation cost."
     ]
    },
    {
     "cell_type": "code",
     "collapsed": false,
     "input": [
      "cls2 = gl.classifier.create(train_set, target='gender',features=['2gram features', '1gram features'] )\n",
      "ngram_result = cls2.evaluate(test_set)\n",
      "print ngram_result"
     ],
     "language": "python",
     "metadata": {},
     "outputs": [
      {
       "output_type": "stream",
       "stream": "stdout",
       "text": [
        "PROGRESS: Creating a validation set from 5 percent of training data. This may take a while.\n",
        "          You can set ``validation_set=None`` to disable validation tracking.\n",
        "\n",
        "PROGRESS: The following methods are available for this type of problem."
       ]
      },
      {
       "html": [
        "<pre>PROGRESS: Logistic regression:</pre>"
       ],
       "metadata": {},
       "output_type": "display_data",
       "text": [
        "PROGRESS: Logistic regression:"
       ]
      },
      {
       "html": [
        "<pre>PROGRESS: --------------------------------------------------------</pre>"
       ],
       "metadata": {},
       "output_type": "display_data",
       "text": [
        "PROGRESS: --------------------------------------------------------"
       ]
      },
      {
       "html": [
        "<pre>PROGRESS: Number of examples          : 14656</pre>"
       ],
       "metadata": {},
       "output_type": "display_data",
       "text": [
        "PROGRESS: Number of examples          : 14656"
       ]
      },
      {
       "html": [
        "<pre>PROGRESS: Number of classes           : 2</pre>"
       ],
       "metadata": {},
       "output_type": "display_data",
       "text": [
        "PROGRESS: Number of classes           : 2"
       ]
      },
      {
       "html": [
        "<pre>PROGRESS: Number of feature columns   : 2</pre>"
       ],
       "metadata": {},
       "output_type": "display_data",
       "text": [
        "PROGRESS: Number of feature columns   : 2"
       ]
      },
      {
       "html": [
        "<pre>PROGRESS: Number of unpacked features : 12887989</pre>"
       ],
       "metadata": {},
       "output_type": "display_data",
       "text": [
        "PROGRESS: Number of unpacked features : 12887989"
       ]
      },
      {
       "html": [
        "<pre>PROGRESS: Number of coefficients    : 13287908</pre>"
       ],
       "metadata": {},
       "output_type": "display_data",
       "text": [
        "PROGRESS: Number of coefficients    : 13287908"
       ]
      },
      {
       "html": [
        "<pre>PROGRESS: Starting L-BFGS</pre>"
       ],
       "metadata": {},
       "output_type": "display_data",
       "text": [
        "PROGRESS: Starting L-BFGS"
       ]
      },
      {
       "html": [
        "<pre>PROGRESS: --------------------------------------------------------</pre>"
       ],
       "metadata": {},
       "output_type": "display_data",
       "text": [
        "PROGRESS: --------------------------------------------------------"
       ]
      },
      {
       "html": [
        "<pre>PROGRESS: +-----------+----------+-----------+--------------+-------------------+---------------------+</pre>"
       ],
       "metadata": {},
       "output_type": "display_data",
       "text": [
        "PROGRESS: +-----------+----------+-----------+--------------+-------------------+---------------------+"
       ]
      },
      {
       "html": [
        "<pre>PROGRESS: | Iteration | Passes   | Step size | Elapsed Time | Training-accuracy | Validation-accuracy |</pre>"
       ],
       "metadata": {},
       "output_type": "display_data",
       "text": [
        "PROGRESS: | Iteration | Passes   | Step size | Elapsed Time | Training-accuracy | Validation-accuracy |"
       ]
      },
      {
       "html": [
        "<pre>PROGRESS: +-----------+----------+-----------+--------------+-------------------+---------------------+</pre>"
       ],
       "metadata": {},
       "output_type": "display_data",
       "text": [
        "PROGRESS: +-----------+----------+-----------+--------------+-------------------+---------------------+"
       ]
      },
      {
       "html": [
        "<pre>PROGRESS: | 1         | 4        | 1.000000  | 50.759790    | 0.993518          | 0.743725            |</pre>"
       ],
       "metadata": {},
       "output_type": "display_data",
       "text": [
        "PROGRESS: | 1         | 4        | 1.000000  | 50.759790    | 0.993518          | 0.743725            |"
       ]
      },
      {
       "html": [
        "<pre>PROGRESS: | 2         | 6        | 1.000000  | 71.944949    | 0.994678          | 0.749009            |</pre>"
       ],
       "metadata": {},
       "output_type": "display_data",
       "text": [
        "PROGRESS: | 2         | 6        | 1.000000  | 71.944949    | 0.994678          | 0.749009            |"
       ]
      },
      {
       "html": [
        "<pre>PROGRESS: | 3         | 7        | 1.000000  | 75.804266    | 0.994814          | 0.749009            |</pre>"
       ],
       "metadata": {},
       "output_type": "display_data",
       "text": [
        "PROGRESS: | 3         | 7        | 1.000000  | 75.804266    | 0.994814          | 0.749009            |"
       ]
      },
      {
       "html": [
        "<pre>PROGRESS: | 4         | 8        | 1.000000  | 79.621543    | 0.994883          | 0.754293            |</pre>"
       ],
       "metadata": {},
       "output_type": "display_data",
       "text": [
        "PROGRESS: | 4         | 8        | 1.000000  | 79.621543    | 0.994883          | 0.754293            |"
       ]
      },
      {
       "html": [
        "<pre>PROGRESS: | 5         | 9        | 1.000000  | 83.857531    | 0.996384          | 0.756935            |</pre>"
       ],
       "metadata": {},
       "output_type": "display_data",
       "text": [
        "PROGRESS: | 5         | 9        | 1.000000  | 83.857531    | 0.996384          | 0.756935            |"
       ]
      },
      {
       "html": [
        "<pre>PROGRESS: | 6         | 10       | 1.000000  | 89.148152    | 0.996725          | 0.752972            |</pre>"
       ],
       "metadata": {},
       "output_type": "display_data",
       "text": [
        "PROGRESS: | 6         | 10       | 1.000000  | 89.148152    | 0.996725          | 0.752972            |"
       ]
      },
      {
       "html": [
        "<pre>PROGRESS: | 7         | 11       | 1.000000  | 93.253768    | 0.996725          | 0.751651            |</pre>"
       ],
       "metadata": {},
       "output_type": "display_data",
       "text": [
        "PROGRESS: | 7         | 11       | 1.000000  | 93.253768    | 0.996725          | 0.751651            |"
       ]
      },
      {
       "html": [
        "<pre>PROGRESS: | 8         | 12       | 1.000000  | 97.345938    | 0.996588          | 0.745046            |</pre>"
       ],
       "metadata": {},
       "output_type": "display_data",
       "text": [
        "PROGRESS: | 8         | 12       | 1.000000  | 97.345938    | 0.996588          | 0.745046            |"
       ]
      },
      {
       "html": [
        "<pre>PROGRESS: | 9         | 13       | 1.000000  | 101.510659   | 0.996043          | 0.752972            |</pre>"
       ],
       "metadata": {},
       "output_type": "display_data",
       "text": [
        "PROGRESS: | 9         | 13       | 1.000000  | 101.510659   | 0.996043          | 0.752972            |"
       ]
      },
      {
       "html": [
        "<pre>PROGRESS: | 10        | 14       | 1.000000  | 105.875637   | 0.996930          | 0.758256            |</pre>"
       ],
       "metadata": {},
       "output_type": "display_data",
       "text": [
        "PROGRESS: | 10        | 14       | 1.000000  | 105.875637   | 0.996930          | 0.758256            |"
       ]
      },
      {
       "html": [
        "<pre>PROGRESS: +-----------+----------+-----------+--------------+-------------------+---------------------+</pre>"
       ],
       "metadata": {},
       "output_type": "display_data",
       "text": [
        "PROGRESS: +-----------+----------+-----------+--------------+-------------------+---------------------+"
       ]
      },
      {
       "html": [
        "<pre>PROGRESS: SVM:</pre>"
       ],
       "metadata": {},
       "output_type": "display_data",
       "text": [
        "PROGRESS: SVM:"
       ]
      },
      {
       "html": [
        "<pre>PROGRESS: --------------------------------------------------------</pre>"
       ],
       "metadata": {},
       "output_type": "display_data",
       "text": [
        "PROGRESS: --------------------------------------------------------"
       ]
      },
      {
       "html": [
        "<pre>PROGRESS: Number of examples          : 14656</pre>"
       ],
       "metadata": {},
       "output_type": "display_data",
       "text": [
        "PROGRESS: Number of examples          : 14656"
       ]
      },
      {
       "html": [
        "<pre>PROGRESS: Number of classes           : 2</pre>"
       ],
       "metadata": {},
       "output_type": "display_data",
       "text": [
        "PROGRESS: Number of classes           : 2"
       ]
      },
      {
       "html": [
        "<pre>PROGRESS: Number of feature columns   : 2</pre>"
       ],
       "metadata": {},
       "output_type": "display_data",
       "text": [
        "PROGRESS: Number of feature columns   : 2"
       ]
      },
      {
       "html": [
        "<pre>PROGRESS: Number of unpacked features : 12887989</pre>"
       ],
       "metadata": {},
       "output_type": "display_data",
       "text": [
        "PROGRESS: Number of unpacked features : 12887989"
       ]
      },
      {
       "html": [
        "<pre>PROGRESS: Number of coefficients    : 13287908</pre>"
       ],
       "metadata": {},
       "output_type": "display_data",
       "text": [
        "PROGRESS: Number of coefficients    : 13287908"
       ]
      },
      {
       "html": [
        "<pre>PROGRESS: Starting L-BFGS</pre>"
       ],
       "metadata": {},
       "output_type": "display_data",
       "text": [
        "PROGRESS: Starting L-BFGS"
       ]
      },
      {
       "html": [
        "<pre>PROGRESS: --------------------------------------------------------</pre>"
       ],
       "metadata": {},
       "output_type": "display_data",
       "text": [
        "PROGRESS: --------------------------------------------------------"
       ]
      },
      {
       "html": [
        "<pre>PROGRESS: +-----------+----------+-----------+--------------+-------------------+---------------------+</pre>"
       ],
       "metadata": {},
       "output_type": "display_data",
       "text": [
        "PROGRESS: +-----------+----------+-----------+--------------+-------------------+---------------------+"
       ]
      },
      {
       "html": [
        "<pre>PROGRESS: | Iteration | Passes   | Step size | Elapsed Time | Training-accuracy | Validation-accuracy |</pre>"
       ],
       "metadata": {},
       "output_type": "display_data",
       "text": [
        "PROGRESS: | Iteration | Passes   | Step size | Elapsed Time | Training-accuracy | Validation-accuracy |"
       ]
      },
      {
       "html": [
        "<pre>PROGRESS: +-----------+----------+-----------+--------------+-------------------+---------------------+</pre>"
       ],
       "metadata": {},
       "output_type": "display_data",
       "text": [
        "PROGRESS: +-----------+----------+-----------+--------------+-------------------+---------------------+"
       ]
      },
      {
       "html": [
        "<pre>PROGRESS: | 1         | 3        | 1.000000  | 97.441278    | 0.993518          | 0.743725            |</pre>"
       ],
       "metadata": {},
       "output_type": "display_data",
       "text": [
        "PROGRESS: | 1         | 3        | 1.000000  | 97.441278    | 0.993518          | 0.743725            |"
       ]
      },
      {
       "html": [
        "<pre>PROGRESS: | 2         | 5        | 1.000000  | 154.346597   | 0.994883          | 0.743725            |</pre>"
       ],
       "metadata": {},
       "output_type": "display_data",
       "text": [
        "PROGRESS: | 2         | 5        | 1.000000  | 154.346597   | 0.994883          | 0.743725            |"
       ]
      },
      {
       "html": [
        "<pre>PROGRESS: | 3         | 6        | 1.000000  | 171.045539   | 0.995633          | 0.745046            |</pre>"
       ],
       "metadata": {},
       "output_type": "display_data",
       "text": [
        "PROGRESS: | 3         | 6        | 1.000000  | 171.045539   | 0.995633          | 0.745046            |"
       ]
      },
      {
       "html": [
        "<pre>PROGRESS: | 4         | 7        | 1.000000  | 174.742157   | 0.995360          | 0.742404            |</pre>"
       ],
       "metadata": {},
       "output_type": "display_data",
       "text": [
        "PROGRESS: | 4         | 7        | 1.000000  | 174.742157   | 0.995360          | 0.742404            |"
       ]
      },
      {
       "html": [
        "<pre>PROGRESS: | 5         | 9        | 1.000000  | 201.992722   | 0.996043          | 0.743725            |</pre>"
       ],
       "metadata": {},
       "output_type": "display_data",
       "text": [
        "PROGRESS: | 5         | 9        | 1.000000  | 201.992722   | 0.996043          | 0.743725            |"
       ]
      },
      {
       "html": [
        "<pre>PROGRESS: | 6         | 10       | 1.000000  | 211.561595   | 0.995838          | 0.741083            |</pre>"
       ],
       "metadata": {},
       "output_type": "display_data",
       "text": [
        "PROGRESS: | 6         | 10       | 1.000000  | 211.561595   | 0.995838          | 0.741083            |"
       ]
      },
      {
       "html": [
        "<pre>PROGRESS: | 7         | 11       | 1.000000  | 215.532938   | 0.996452          | 0.745046            |</pre>"
       ],
       "metadata": {},
       "output_type": "display_data",
       "text": [
        "PROGRESS: | 7         | 11       | 1.000000  | 215.532938   | 0.996452          | 0.745046            |"
       ]
      },
      {
       "html": [
        "<pre>PROGRESS: | 8         | 12       | 1.000000  | 219.572237   | 0.996043          | 0.742404            |</pre>"
       ],
       "metadata": {},
       "output_type": "display_data",
       "text": [
        "PROGRESS: | 8         | 12       | 1.000000  | 219.572237   | 0.996043          | 0.742404            |"
       ]
      },
      {
       "html": [
        "<pre>PROGRESS: | 9         | 14       | 1.000000  | 242.171512   | 0.996043          | 0.742404            |</pre>"
       ],
       "metadata": {},
       "output_type": "display_data",
       "text": [
        "PROGRESS: | 9         | 14       | 1.000000  | 242.171512   | 0.996043          | 0.742404            |"
       ]
      },
      {
       "html": [
        "<pre>PROGRESS: | 10        | 15       | 1.000000  | 252.585340   | 0.996247          | 0.743725            |</pre>"
       ],
       "metadata": {},
       "output_type": "display_data",
       "text": [
        "PROGRESS: | 10        | 15       | 1.000000  | 252.585340   | 0.996247          | 0.743725            |"
       ]
      },
      {
       "html": [
        "<pre>PROGRESS: +-----------+----------+-----------+--------------+-------------------+---------------------+</pre>"
       ],
       "metadata": {},
       "output_type": "display_data",
       "text": [
        "PROGRESS: +-----------+----------+-----------+--------------+-------------------+---------------------+"
       ]
      },
      {
       "output_type": "stream",
       "stream": "stdout",
       "text": [
        "\n",
        "PROGRESS: LogisticClassifier, SVMClassifier\n",
        "PROGRESS: The returned model will be chosen according to validation accuracy.\n",
        "PROGRESS: Model selection based on validation accuracy:\n",
        "PROGRESS: ---------------------------------------------\n",
        "PROGRESS: LogisticClassifier              : 0.758256\n",
        "PROGRESS: SVMClassifier                   : 0.743725\n",
        "PROGRESS: ---------------------------------------------\n",
        "PROGRESS: Selecting LogisticClassifier based on validation set performance."
       ]
      },
      {
       "output_type": "stream",
       "stream": "stdout",
       "text": [
        "\n",
        "{'confusion_matrix': Columns:\n",
        "\ttarget_label\tstr\n",
        "\tpredicted_label\tstr\n",
        "\tcount\tint\n",
        "\n",
        "Rows: 4\n",
        "\n",
        "Data:\n",
        "+--------------+-----------------+-------+\n",
        "| target_label | predicted_label | count |\n",
        "+--------------+-----------------+-------+\n",
        "|    female    |      female     |  1669 |\n",
        "|    female    |       male      |  294  |\n",
        "|     male     |      female     |  660  |\n",
        "|     male     |       male      |  1276 |\n",
        "+--------------+-----------------+-------+\n",
        "[4 rows x 3 columns]\n",
        ", 'accuracy': 0.7553218774044627}"
       ]
      },
      {
       "output_type": "stream",
       "stream": "stdout",
       "text": [
        "\n"
       ]
      }
     ],
     "prompt_number": 16
    },
    {
     "cell_type": "markdown",
     "metadata": {},
     "source": [
      "The bag-of-words classifiers achieved an accuracy of roughly 0.74-0.75. Let's see what Word2Vec features can do. "
     ]
    },
    {
     "cell_type": "code",
     "collapsed": false,
     "input": [
      "cls3 = gl.classifier.create(train_set, target='gender',features=['vectors'])\n",
      "word2vec_result = cls3.evaluate(test_set)\n",
      "print word2vec_result"
     ],
     "language": "python",
     "metadata": {},
     "outputs": [
      {
       "output_type": "stream",
       "stream": "stdout",
       "text": [
        "PROGRESS: Creating a validation set from 5 percent of training data. This may take a while.\n",
        "          You can set ``validation_set=None`` to disable validation tracking.\n",
        "\n",
        "PROGRESS: The following methods are available for this type of problem."
       ]
      },
      {
       "html": [
        "<pre>PROGRESS: Logistic regression:</pre>"
       ],
       "metadata": {},
       "output_type": "display_data",
       "text": [
        "PROGRESS: Logistic regression:"
       ]
      },
      {
       "html": [
        "<pre>PROGRESS: --------------------------------------------------------</pre>"
       ],
       "metadata": {},
       "output_type": "display_data",
       "text": [
        "PROGRESS: --------------------------------------------------------"
       ]
      },
      {
       "html": [
        "<pre>PROGRESS: Number of examples          : 14652</pre>"
       ],
       "metadata": {},
       "output_type": "display_data",
       "text": [
        "PROGRESS: Number of examples          : 14652"
       ]
      },
      {
       "html": [
        "<pre>PROGRESS: Number of classes           : 2</pre>"
       ],
       "metadata": {},
       "output_type": "display_data",
       "text": [
        "PROGRESS: Number of classes           : 2"
       ]
      },
      {
       "html": [
        "<pre>PROGRESS: Number of feature columns   : 1</pre>"
       ],
       "metadata": {},
       "output_type": "display_data",
       "text": [
        "PROGRESS: Number of feature columns   : 1"
       ]
      },
      {
       "html": [
        "<pre>PROGRESS: Number of unpacked features : 300</pre>"
       ],
       "metadata": {},
       "output_type": "display_data",
       "text": [
        "PROGRESS: Number of unpacked features : 300"
       ]
      },
      {
       "html": [
        "<pre>PROGRESS: Number of coefficients    : 301</pre>"
       ],
       "metadata": {},
       "output_type": "display_data",
       "text": [
        "PROGRESS: Number of coefficients    : 301"
       ]
      },
      {
       "html": [
        "<pre>PROGRESS: Starting Newton Method</pre>"
       ],
       "metadata": {},
       "output_type": "display_data",
       "text": [
        "PROGRESS: Starting Newton Method"
       ]
      },
      {
       "html": [
        "<pre>PROGRESS: --------------------------------------------------------</pre>"
       ],
       "metadata": {},
       "output_type": "display_data",
       "text": [
        "PROGRESS: --------------------------------------------------------"
       ]
      },
      {
       "html": [
        "<pre>PROGRESS: +-----------+----------+--------------+-------------------+---------------------+</pre>"
       ],
       "metadata": {},
       "output_type": "display_data",
       "text": [
        "PROGRESS: +-----------+----------+--------------+-------------------+---------------------+"
       ]
      },
      {
       "html": [
        "<pre>PROGRESS: | Iteration | Passes   | Elapsed Time | Training-accuracy | Validation-accuracy |</pre>"
       ],
       "metadata": {},
       "output_type": "display_data",
       "text": [
        "PROGRESS: | Iteration | Passes   | Elapsed Time | Training-accuracy | Validation-accuracy |"
       ]
      },
      {
       "html": [
        "<pre>PROGRESS: +-----------+----------+--------------+-------------------+---------------------+</pre>"
       ],
       "metadata": {},
       "output_type": "display_data",
       "text": [
        "PROGRESS: +-----------+----------+--------------+-------------------+---------------------+"
       ]
      },
      {
       "html": [
        "<pre>PROGRESS: | 1         | 2        | 3.832028     | 0.795796          | 0.819974            |</pre>"
       ],
       "metadata": {},
       "output_type": "display_data",
       "text": [
        "PROGRESS: | 1         | 2        | 3.832028     | 0.795796          | 0.819974            |"
       ]
      },
      {
       "html": [
        "<pre>PROGRESS: | 2         | 3        | 5.833947     | 0.795796          | 0.812089            |</pre>"
       ],
       "metadata": {},
       "output_type": "display_data",
       "text": [
        "PROGRESS: | 2         | 3        | 5.833947     | 0.795796          | 0.812089            |"
       ]
      },
      {
       "html": [
        "<pre>PROGRESS: | 3         | 4        | 7.743807     | 0.796137          | 0.808147            |</pre>"
       ],
       "metadata": {},
       "output_type": "display_data",
       "text": [
        "PROGRESS: | 3         | 4        | 7.743807     | 0.796137          | 0.808147            |"
       ]
      },
      {
       "html": [
        "<pre>PROGRESS: | 4         | 5        | 9.687033     | 0.796137          | 0.809461            |</pre>"
       ],
       "metadata": {},
       "output_type": "display_data",
       "text": [
        "PROGRESS: | 4         | 5        | 9.687033     | 0.796137          | 0.809461            |"
       ]
      },
      {
       "html": [
        "<pre>PROGRESS: | 5         | 6        | 11.621431    | 0.796205          | 0.809461            |</pre>"
       ],
       "metadata": {},
       "output_type": "display_data",
       "text": [
        "PROGRESS: | 5         | 6        | 11.621431    | 0.796205          | 0.809461            |"
       ]
      },
      {
       "html": [
        "<pre>PROGRESS: +-----------+----------+--------------+-------------------+---------------------+</pre>"
       ],
       "metadata": {},
       "output_type": "display_data",
       "text": [
        "PROGRESS: +-----------+----------+--------------+-------------------+---------------------+"
       ]
      },
      {
       "html": [
        "<pre>PROGRESS: SVM:</pre>"
       ],
       "metadata": {},
       "output_type": "display_data",
       "text": [
        "PROGRESS: SVM:"
       ]
      },
      {
       "html": [
        "<pre>PROGRESS: --------------------------------------------------------</pre>"
       ],
       "metadata": {},
       "output_type": "display_data",
       "text": [
        "PROGRESS: --------------------------------------------------------"
       ]
      },
      {
       "html": [
        "<pre>PROGRESS: Number of examples          : 14652</pre>"
       ],
       "metadata": {},
       "output_type": "display_data",
       "text": [
        "PROGRESS: Number of examples          : 14652"
       ]
      },
      {
       "html": [
        "<pre>PROGRESS: Number of classes           : 2</pre>"
       ],
       "metadata": {},
       "output_type": "display_data",
       "text": [
        "PROGRESS: Number of classes           : 2"
       ]
      },
      {
       "html": [
        "<pre>PROGRESS: Number of feature columns   : 1</pre>"
       ],
       "metadata": {},
       "output_type": "display_data",
       "text": [
        "PROGRESS: Number of feature columns   : 1"
       ]
      },
      {
       "html": [
        "<pre>PROGRESS: Number of unpacked features : 300</pre>"
       ],
       "metadata": {},
       "output_type": "display_data",
       "text": [
        "PROGRESS: Number of unpacked features : 300"
       ]
      },
      {
       "html": [
        "<pre>PROGRESS: Number of coefficients    : 301</pre>"
       ],
       "metadata": {},
       "output_type": "display_data",
       "text": [
        "PROGRESS: Number of coefficients    : 301"
       ]
      },
      {
       "html": [
        "<pre>PROGRESS: Starting L-BFGS</pre>"
       ],
       "metadata": {},
       "output_type": "display_data",
       "text": [
        "PROGRESS: Starting L-BFGS"
       ]
      },
      {
       "html": [
        "<pre>PROGRESS: --------------------------------------------------------</pre>"
       ],
       "metadata": {},
       "output_type": "display_data",
       "text": [
        "PROGRESS: --------------------------------------------------------"
       ]
      },
      {
       "html": [
        "<pre>PROGRESS: +-----------+----------+-----------+--------------+-------------------+---------------------+</pre>"
       ],
       "metadata": {},
       "output_type": "display_data",
       "text": [
        "PROGRESS: +-----------+----------+-----------+--------------+-------------------+---------------------+"
       ]
      },
      {
       "html": [
        "<pre>PROGRESS: | Iteration | Passes   | Step size | Elapsed Time | Training-accuracy | Validation-accuracy |</pre>"
       ],
       "metadata": {},
       "output_type": "display_data",
       "text": [
        "PROGRESS: | Iteration | Passes   | Step size | Elapsed Time | Training-accuracy | Validation-accuracy |"
       ]
      },
      {
       "html": [
        "<pre>PROGRESS: +-----------+----------+-----------+--------------+-------------------+---------------------+</pre>"
       ],
       "metadata": {},
       "output_type": "display_data",
       "text": [
        "PROGRESS: +-----------+----------+-----------+--------------+-------------------+---------------------+"
       ]
      },
      {
       "html": [
        "<pre>PROGRESS: | 1         | 4        | 1.000000  | 0.192293     | 0.655269          | 0.667543            |</pre>"
       ],
       "metadata": {},
       "output_type": "display_data",
       "text": [
        "PROGRESS: | 1         | 4        | 1.000000  | 0.192293     | 0.655269          | 0.667543            |"
       ]
      },
      {
       "html": [
        "<pre>PROGRESS: | 2         | 6        | 1.000000  | 0.298776     | 0.665916          | 0.692510            |</pre>"
       ],
       "metadata": {},
       "output_type": "display_data",
       "text": [
        "PROGRESS: | 2         | 6        | 1.000000  | 0.298776     | 0.665916          | 0.692510            |"
       ]
      },
      {
       "html": [
        "<pre>PROGRESS: | 3         | 7        | 1.000000  | 0.369018     | 0.690145          | 0.699080            |</pre>"
       ],
       "metadata": {},
       "output_type": "display_data",
       "text": [
        "PROGRESS: | 3         | 7        | 1.000000  | 0.369018     | 0.690145          | 0.699080            |"
       ]
      },
      {
       "html": [
        "<pre>PROGRESS: | 4         | 8        | 1.000000  | 0.441306     | 0.700519          | 0.720105            |</pre>"
       ],
       "metadata": {},
       "output_type": "display_data",
       "text": [
        "PROGRESS: | 4         | 8        | 1.000000  | 0.441306     | 0.700519          | 0.720105            |"
       ]
      },
      {
       "html": [
        "<pre>PROGRESS: | 5         | 9        | 1.000000  | 0.506479     | 0.734302          | 0.758213            |</pre>"
       ],
       "metadata": {},
       "output_type": "display_data",
       "text": [
        "PROGRESS: | 5         | 9        | 1.000000  | 0.506479     | 0.734302          | 0.758213            |"
       ]
      },
      {
       "html": [
        "<pre>PROGRESS: | 6         | 10       | 1.000000  | 0.588495     | 0.723724          | 0.737188            |</pre>"
       ],
       "metadata": {},
       "output_type": "display_data",
       "text": [
        "PROGRESS: | 6         | 10       | 1.000000  | 0.588495     | 0.723724          | 0.737188            |"
       ]
      },
      {
       "html": [
        "<pre>PROGRESS: +-----------+----------+-----------+--------------+-------------------+---------------------+</pre>"
       ],
       "metadata": {},
       "output_type": "display_data",
       "text": [
        "PROGRESS: +-----------+----------+-----------+--------------+-------------------+---------------------+"
       ]
      },
      {
       "output_type": "stream",
       "stream": "stdout",
       "text": [
        "\n",
        "PROGRESS: LogisticClassifier, SVMClassifier\n",
        "PROGRESS: The returned model will be chosen according to validation accuracy.\n",
        "PROGRESS: Model selection based on validation accuracy:\n",
        "PROGRESS: ---------------------------------------------\n",
        "PROGRESS: LogisticClassifier              : 0.809461\n",
        "PROGRESS: SVMClassifier                   : 0.781866\n",
        "PROGRESS: ---------------------------------------------\n",
        "PROGRESS: Selecting LogisticClassifier based on validation set performance."
       ]
      },
      {
       "output_type": "stream",
       "stream": "stdout",
       "text": [
        "\n",
        "{'confusion_matrix': Columns:\n",
        "\ttarget_label\tstr\n",
        "\tpredicted_label\tstr\n",
        "\tcount\tint\n",
        "\n",
        "Rows: 4\n",
        "\n",
        "Data:\n",
        "+--------------+-----------------+-------+\n",
        "| target_label | predicted_label | count |\n",
        "+--------------+-----------------+-------+\n",
        "|    female    |      female     |  1572 |\n",
        "|    female    |       male      |  391  |\n",
        "|     male     |      female     |  408  |\n",
        "|     male     |       male      |  1528 |\n",
        "+--------------+-----------------+-------+\n",
        "[4 rows x 3 columns]\n",
        ", 'accuracy': 0.7950756604257502}"
       ]
      },
      {
       "output_type": "stream",
       "stream": "stdout",
       "text": [
        "\n"
       ]
      }
     ],
     "prompt_number": 17
    },
    {
     "cell_type": "markdown",
     "metadata": {},
     "source": [
      "And we got an accuracy of ~0.79. This accuracy for gender prediction that utilize only the author's blog posts is probably better than the results obtained by [Schler et al. 2006](http://www.cs.biu.ac.il/~schlerj/schler_springsymp06.pdf) (in order to actually prove that this results are better, we will need to add more tests. But this is a topic for another notebook). Let try to improve the results by training the classifier with some more features: the blogger's industry and age."
     ]
    },
    {
     "cell_type": "code",
     "collapsed": false,
     "input": [
      "cls4 = gl.classifier.create(train_set, target='gender', features=['vectors', 'industry', 'age'] )\n",
      "word2vec_industry_age_result = cls4.evaluate(test_set)\n",
      "print word2vec_industry_age_result"
     ],
     "language": "python",
     "metadata": {},
     "outputs": [
      {
       "output_type": "stream",
       "stream": "stdout",
       "text": [
        "PROGRESS: Creating a validation set from 5 percent of training data. This may take a while.\n",
        "          You can set ``validation_set=None`` to disable validation tracking.\n",
        "\n",
        "PROGRESS: The following methods are available for this type of problem."
       ]
      },
      {
       "html": [
        "<pre>PROGRESS: Logistic regression:</pre>"
       ],
       "metadata": {},
       "output_type": "display_data",
       "text": [
        "PROGRESS: Logistic regression:"
       ]
      },
      {
       "html": [
        "<pre>PROGRESS: --------------------------------------------------------</pre>"
       ],
       "metadata": {},
       "output_type": "display_data",
       "text": [
        "PROGRESS: --------------------------------------------------------"
       ]
      },
      {
       "html": [
        "<pre>PROGRESS: Number of examples          : 14650</pre>"
       ],
       "metadata": {},
       "output_type": "display_data",
       "text": [
        "PROGRESS: Number of examples          : 14650"
       ]
      },
      {
       "html": [
        "<pre>PROGRESS: Number of classes           : 2</pre>"
       ],
       "metadata": {},
       "output_type": "display_data",
       "text": [
        "PROGRESS: Number of classes           : 2"
       ]
      },
      {
       "html": [
        "<pre>PROGRESS: Number of feature columns   : 3</pre>"
       ],
       "metadata": {},
       "output_type": "display_data",
       "text": [
        "PROGRESS: Number of feature columns   : 3"
       ]
      },
      {
       "html": [
        "<pre>PROGRESS: Number of unpacked features : 302</pre>"
       ],
       "metadata": {},
       "output_type": "display_data",
       "text": [
        "PROGRESS: Number of unpacked features : 302"
       ]
      },
      {
       "html": [
        "<pre>PROGRESS: Number of coefficients    : 341</pre>"
       ],
       "metadata": {},
       "output_type": "display_data",
       "text": [
        "PROGRESS: Number of coefficients    : 341"
       ]
      },
      {
       "html": [
        "<pre>PROGRESS: Starting Newton Method</pre>"
       ],
       "metadata": {},
       "output_type": "display_data",
       "text": [
        "PROGRESS: Starting Newton Method"
       ]
      },
      {
       "html": [
        "<pre>PROGRESS: --------------------------------------------------------</pre>"
       ],
       "metadata": {},
       "output_type": "display_data",
       "text": [
        "PROGRESS: --------------------------------------------------------"
       ]
      },
      {
       "html": [
        "<pre>PROGRESS: +-----------+----------+--------------+-------------------+---------------------+</pre>"
       ],
       "metadata": {},
       "output_type": "display_data",
       "text": [
        "PROGRESS: +-----------+----------+--------------+-------------------+---------------------+"
       ]
      },
      {
       "html": [
        "<pre>PROGRESS: | Iteration | Passes   | Elapsed Time | Training-accuracy | Validation-accuracy |</pre>"
       ],
       "metadata": {},
       "output_type": "display_data",
       "text": [
        "PROGRESS: | Iteration | Passes   | Elapsed Time | Training-accuracy | Validation-accuracy |"
       ]
      },
      {
       "html": [
        "<pre>PROGRESS: +-----------+----------+--------------+-------------------+---------------------+</pre>"
       ],
       "metadata": {},
       "output_type": "display_data",
       "text": [
        "PROGRESS: +-----------+----------+--------------+-------------------+---------------------+"
       ]
      },
      {
       "html": [
        "<pre>PROGRESS: | 1         | 2        | 3.817053     | 0.802457          | 0.790301            |</pre>"
       ],
       "metadata": {},
       "output_type": "display_data",
       "text": [
        "PROGRESS: | 1         | 2        | 3.817053     | 0.802457          | 0.790301            |"
       ]
      },
      {
       "html": [
        "<pre>PROGRESS: | 2         | 3        | 5.930517     | 0.804573          | 0.790301            |</pre>"
       ],
       "metadata": {},
       "output_type": "display_data",
       "text": [
        "PROGRESS: | 2         | 3        | 5.930517     | 0.804573          | 0.790301            |"
       ]
      },
      {
       "html": [
        "<pre>PROGRESS: | 3         | 4        | 7.986661     | 0.804915          | 0.788991            |</pre>"
       ],
       "metadata": {},
       "output_type": "display_data",
       "text": [
        "PROGRESS: | 3         | 4        | 7.986661     | 0.804915          | 0.788991            |"
       ]
      },
      {
       "html": [
        "<pre>PROGRESS: | 4         | 5        | 10.060300    | 0.804846          | 0.787680            |</pre>"
       ],
       "metadata": {},
       "output_type": "display_data",
       "text": [
        "PROGRESS: | 4         | 5        | 10.060300    | 0.804846          | 0.787680            |"
       ]
      },
      {
       "html": [
        "<pre>PROGRESS: | 5         | 6        | 12.001943    | 0.804846          | 0.787680            |</pre>"
       ],
       "metadata": {},
       "output_type": "display_data",
       "text": [
        "PROGRESS: | 5         | 6        | 12.001943    | 0.804846          | 0.787680            |"
       ]
      },
      {
       "html": [
        "<pre>PROGRESS: +-----------+----------+--------------+-------------------+---------------------+</pre>"
       ],
       "metadata": {},
       "output_type": "display_data",
       "text": [
        "PROGRESS: +-----------+----------+--------------+-------------------+---------------------+"
       ]
      },
      {
       "html": [
        "<pre>PROGRESS: SVM:</pre>"
       ],
       "metadata": {},
       "output_type": "display_data",
       "text": [
        "PROGRESS: SVM:"
       ]
      },
      {
       "html": [
        "<pre>PROGRESS: --------------------------------------------------------</pre>"
       ],
       "metadata": {},
       "output_type": "display_data",
       "text": [
        "PROGRESS: --------------------------------------------------------"
       ]
      },
      {
       "html": [
        "<pre>PROGRESS: Number of examples          : 14650</pre>"
       ],
       "metadata": {},
       "output_type": "display_data",
       "text": [
        "PROGRESS: Number of examples          : 14650"
       ]
      },
      {
       "html": [
        "<pre>PROGRESS: Number of classes           : 2</pre>"
       ],
       "metadata": {},
       "output_type": "display_data",
       "text": [
        "PROGRESS: Number of classes           : 2"
       ]
      },
      {
       "html": [
        "<pre>PROGRESS: Number of feature columns   : 3</pre>"
       ],
       "metadata": {},
       "output_type": "display_data",
       "text": [
        "PROGRESS: Number of feature columns   : 3"
       ]
      },
      {
       "html": [
        "<pre>PROGRESS: Number of unpacked features : 302</pre>"
       ],
       "metadata": {},
       "output_type": "display_data",
       "text": [
        "PROGRESS: Number of unpacked features : 302"
       ]
      },
      {
       "html": [
        "<pre>PROGRESS: Number of coefficients    : 341</pre>"
       ],
       "metadata": {},
       "output_type": "display_data",
       "text": [
        "PROGRESS: Number of coefficients    : 341"
       ]
      },
      {
       "html": [
        "<pre>PROGRESS: Starting L-BFGS</pre>"
       ],
       "metadata": {},
       "output_type": "display_data",
       "text": [
        "PROGRESS: Starting L-BFGS"
       ]
      },
      {
       "html": [
        "<pre>PROGRESS: --------------------------------------------------------</pre>"
       ],
       "metadata": {},
       "output_type": "display_data",
       "text": [
        "PROGRESS: --------------------------------------------------------"
       ]
      },
      {
       "html": [
        "<pre>PROGRESS: +-----------+----------+-----------+--------------+-------------------+---------------------+</pre>"
       ],
       "metadata": {},
       "output_type": "display_data",
       "text": [
        "PROGRESS: +-----------+----------+-----------+--------------+-------------------+---------------------+"
       ]
      },
      {
       "html": [
        "<pre>PROGRESS: | Iteration | Passes   | Step size | Elapsed Time | Training-accuracy | Validation-accuracy |</pre>"
       ],
       "metadata": {},
       "output_type": "display_data",
       "text": [
        "PROGRESS: | Iteration | Passes   | Step size | Elapsed Time | Training-accuracy | Validation-accuracy |"
       ]
      },
      {
       "html": [
        "<pre>PROGRESS: +-----------+----------+-----------+--------------+-------------------+---------------------+</pre>"
       ],
       "metadata": {},
       "output_type": "display_data",
       "text": [
        "PROGRESS: +-----------+----------+-----------+--------------+-------------------+---------------------+"
       ]
      },
      {
       "html": [
        "<pre>PROGRESS: | 1         | 4        | 1.000000  | 0.154809     | 0.656451          | 0.668414            |</pre>"
       ],
       "metadata": {},
       "output_type": "display_data",
       "text": [
        "PROGRESS: | 1         | 4        | 1.000000  | 0.154809     | 0.656451          | 0.668414            |"
       ]
      },
      {
       "html": [
        "<pre>PROGRESS: | 2         | 6        | 1.000000  | 0.261841     | 0.669898          | 0.664482            |</pre>"
       ],
       "metadata": {},
       "output_type": "display_data",
       "text": [
        "PROGRESS: | 2         | 6        | 1.000000  | 0.261841     | 0.669898          | 0.664482            |"
       ]
      },
      {
       "html": [
        "<pre>PROGRESS: | 3         | 7        | 1.000000  | 0.340653     | 0.695563          | 0.686763            |</pre>"
       ],
       "metadata": {},
       "output_type": "display_data",
       "text": [
        "PROGRESS: | 3         | 7        | 1.000000  | 0.340653     | 0.695563          | 0.686763            |"
       ]
      },
      {
       "html": [
        "<pre>PROGRESS: | 4         | 8        | 1.000000  | 0.415740     | 0.705392          | 0.705111            |</pre>"
       ],
       "metadata": {},
       "output_type": "display_data",
       "text": [
        "PROGRESS: | 4         | 8        | 1.000000  | 0.415740     | 0.705392          | 0.705111            |"
       ]
      },
      {
       "html": [
        "<pre>PROGRESS: | 5         | 9        | 1.000000  | 0.485970     | 0.731126          | 0.712975            |</pre>"
       ],
       "metadata": {},
       "output_type": "display_data",
       "text": [
        "PROGRESS: | 5         | 9        | 1.000000  | 0.485970     | 0.731126          | 0.712975            |"
       ]
      },
      {
       "html": [
        "<pre>PROGRESS: | 6         | 10       | 1.000000  | 0.556509     | 0.743276          | 0.715596            |</pre>"
       ],
       "metadata": {},
       "output_type": "display_data",
       "text": [
        "PROGRESS: | 6         | 10       | 1.000000  | 0.556509     | 0.743276          | 0.715596            |"
       ]
      },
      {
       "html": [
        "<pre>PROGRESS: +-----------+----------+-----------+--------------+-------------------+---------------------+</pre>"
       ],
       "metadata": {},
       "output_type": "display_data",
       "text": [
        "PROGRESS: +-----------+----------+-----------+--------------+-------------------+---------------------+"
       ]
      },
      {
       "output_type": "stream",
       "stream": "stdout",
       "text": [
        "\n",
        "PROGRESS: LogisticClassifier, SVMClassifier\n",
        "PROGRESS: The returned model will be chosen according to validation accuracy.\n",
        "PROGRESS: Model selection based on validation accuracy:\n",
        "PROGRESS: ---------------------------------------------\n",
        "PROGRESS: LogisticClassifier              : 0.78768\n",
        "PROGRESS: SVMClassifier                   : 0.750983\n",
        "PROGRESS: ---------------------------------------------\n",
        "PROGRESS: Selecting LogisticClassifier based on validation set performance."
       ]
      },
      {
       "output_type": "stream",
       "stream": "stdout",
       "text": [
        "\n",
        "{'confusion_matrix': Columns:\n",
        "\ttarget_label\tstr\n",
        "\tpredicted_label\tstr\n",
        "\tcount\tint\n",
        "\n",
        "Rows: 4\n",
        "\n",
        "Data:\n",
        "+--------------+-----------------+-------+\n",
        "| target_label | predicted_label | count |\n",
        "+--------------+-----------------+-------+\n",
        "|    female    |      female     |  1589 |\n",
        "|    female    |       male      |  374  |\n",
        "|     male     |      female     |  404  |\n",
        "|     male     |       male      |  1532 |\n",
        "+--------------+-----------------+-------+\n",
        "[4 rows x 3 columns]\n",
        ", 'accuracy': 0.800461656835086}"
       ]
      },
      {
       "output_type": "stream",
       "stream": "stdout",
       "text": [
        "\n"
       ]
      }
     ],
     "prompt_number": 18
    },
    {
     "cell_type": "markdown",
     "metadata": {},
     "source": [
      "We got slighter better results with the additional features. We can use the SFrame to easily engineer additional features, such as the number of urls in the posts and the total number of posts."
     ]
    },
    {
     "cell_type": "code",
     "collapsed": false,
     "input": [
      "train_set['posts_length'] = train_set['posts'].apply(lambda p: len(p))\n",
      "test_set['posts_length'] = test_set['posts'].apply(lambda p: len(p))\n",
      "\n",
      "cls5 = gl.classifier.create(train_set, target='gender',features=['vectors', 'industry', 'age', 'posts_length'] )\n",
      "word2vec_industry_age_posts_lenth_result = cls5.evaluate(test_set)\n",
      "print word2vec_industry_age_posts_lenth_result"
     ],
     "language": "python",
     "metadata": {},
     "outputs": [
      {
       "output_type": "stream",
       "stream": "stdout",
       "text": [
        "PROGRESS: Creating a validation set from 5 percent of training data. This may take a while.\n",
        "          You can set ``validation_set=None`` to disable validation tracking.\n",
        "\n",
        "PROGRESS: The following methods are available for this type of problem."
       ]
      },
      {
       "html": [
        "<pre>PROGRESS: Logistic regression:</pre>"
       ],
       "metadata": {},
       "output_type": "display_data",
       "text": [
        "PROGRESS: Logistic regression:"
       ]
      },
      {
       "html": [
        "<pre>PROGRESS: --------------------------------------------------------</pre>"
       ],
       "metadata": {},
       "output_type": "display_data",
       "text": [
        "PROGRESS: --------------------------------------------------------"
       ]
      },
      {
       "html": [
        "<pre>PROGRESS: Number of examples          : 14733</pre>"
       ],
       "metadata": {},
       "output_type": "display_data",
       "text": [
        "PROGRESS: Number of examples          : 14733"
       ]
      },
      {
       "html": [
        "<pre>PROGRESS: Number of classes           : 2</pre>"
       ],
       "metadata": {},
       "output_type": "display_data",
       "text": [
        "PROGRESS: Number of classes           : 2"
       ]
      },
      {
       "html": [
        "<pre>PROGRESS: Number of feature columns   : 4</pre>"
       ],
       "metadata": {},
       "output_type": "display_data",
       "text": [
        "PROGRESS: Number of feature columns   : 4"
       ]
      },
      {
       "html": [
        "<pre>PROGRESS: Number of unpacked features : 303</pre>"
       ],
       "metadata": {},
       "output_type": "display_data",
       "text": [
        "PROGRESS: Number of unpacked features : 303"
       ]
      },
      {
       "html": [
        "<pre>PROGRESS: Number of coefficients    : 342</pre>"
       ],
       "metadata": {},
       "output_type": "display_data",
       "text": [
        "PROGRESS: Number of coefficients    : 342"
       ]
      },
      {
       "html": [
        "<pre>PROGRESS: Starting Newton Method</pre>"
       ],
       "metadata": {},
       "output_type": "display_data",
       "text": [
        "PROGRESS: Starting Newton Method"
       ]
      },
      {
       "html": [
        "<pre>PROGRESS: --------------------------------------------------------</pre>"
       ],
       "metadata": {},
       "output_type": "display_data",
       "text": [
        "PROGRESS: --------------------------------------------------------"
       ]
      },
      {
       "html": [
        "<pre>PROGRESS: +-----------+----------+--------------+-------------------+---------------------+</pre>"
       ],
       "metadata": {},
       "output_type": "display_data",
       "text": [
        "PROGRESS: +-----------+----------+--------------+-------------------+---------------------+"
       ]
      },
      {
       "html": [
        "<pre>PROGRESS: | Iteration | Passes   | Elapsed Time | Training-accuracy | Validation-accuracy |</pre>"
       ],
       "metadata": {},
       "output_type": "display_data",
       "text": [
        "PROGRESS: | Iteration | Passes   | Elapsed Time | Training-accuracy | Validation-accuracy |"
       ]
      },
      {
       "html": [
        "<pre>PROGRESS: +-----------+----------+--------------+-------------------+---------------------+</pre>"
       ],
       "metadata": {},
       "output_type": "display_data",
       "text": [
        "PROGRESS: +-----------+----------+--------------+-------------------+---------------------+"
       ]
      },
      {
       "html": [
        "<pre>PROGRESS: | 1         | 2        | 3.983127     | 0.802552          | 0.777941            |</pre>"
       ],
       "metadata": {},
       "output_type": "display_data",
       "text": [
        "PROGRESS: | 1         | 2        | 3.983127     | 0.802552          | 0.777941            |"
       ]
      },
      {
       "html": [
        "<pre>PROGRESS: | 2         | 3        | 5.999601     | 0.804181          | 0.783824            |</pre>"
       ],
       "metadata": {},
       "output_type": "display_data",
       "text": [
        "PROGRESS: | 2         | 3        | 5.999601     | 0.804181          | 0.783824            |"
       ]
      },
      {
       "html": [
        "<pre>PROGRESS: | 3         | 4        | 7.934816     | 0.803638          | 0.783824            |</pre>"
       ],
       "metadata": {},
       "output_type": "display_data",
       "text": [
        "PROGRESS: | 3         | 4        | 7.934816     | 0.803638          | 0.783824            |"
       ]
      },
      {
       "html": [
        "<pre>PROGRESS: | 4         | 5        | 9.944985     | 0.803502          | 0.783824            |</pre>"
       ],
       "metadata": {},
       "output_type": "display_data",
       "text": [
        "PROGRESS: | 4         | 5        | 9.944985     | 0.803502          | 0.783824            |"
       ]
      },
      {
       "html": [
        "<pre>PROGRESS: | 5         | 6        | 11.900313    | 0.803434          | 0.783824            |</pre>"
       ],
       "metadata": {},
       "output_type": "display_data",
       "text": [
        "PROGRESS: | 5         | 6        | 11.900313    | 0.803434          | 0.783824            |"
       ]
      },
      {
       "html": [
        "<pre>PROGRESS: +-----------+----------+--------------+-------------------+---------------------+</pre>"
       ],
       "metadata": {},
       "output_type": "display_data",
       "text": [
        "PROGRESS: +-----------+----------+--------------+-------------------+---------------------+"
       ]
      },
      {
       "html": [
        "<pre>PROGRESS: SVM:</pre>"
       ],
       "metadata": {},
       "output_type": "display_data",
       "text": [
        "PROGRESS: SVM:"
       ]
      },
      {
       "html": [
        "<pre>PROGRESS: --------------------------------------------------------</pre>"
       ],
       "metadata": {},
       "output_type": "display_data",
       "text": [
        "PROGRESS: --------------------------------------------------------"
       ]
      },
      {
       "html": [
        "<pre>PROGRESS: Number of examples          : 14733</pre>"
       ],
       "metadata": {},
       "output_type": "display_data",
       "text": [
        "PROGRESS: Number of examples          : 14733"
       ]
      },
      {
       "html": [
        "<pre>PROGRESS: Number of classes           : 2</pre>"
       ],
       "metadata": {},
       "output_type": "display_data",
       "text": [
        "PROGRESS: Number of classes           : 2"
       ]
      },
      {
       "html": [
        "<pre>PROGRESS: Number of feature columns   : 4</pre>"
       ],
       "metadata": {},
       "output_type": "display_data",
       "text": [
        "PROGRESS: Number of feature columns   : 4"
       ]
      },
      {
       "html": [
        "<pre>PROGRESS: Number of unpacked features : 303</pre>"
       ],
       "metadata": {},
       "output_type": "display_data",
       "text": [
        "PROGRESS: Number of unpacked features : 303"
       ]
      },
      {
       "html": [
        "<pre>PROGRESS: Number of coefficients    : 342</pre>"
       ],
       "metadata": {},
       "output_type": "display_data",
       "text": [
        "PROGRESS: Number of coefficients    : 342"
       ]
      },
      {
       "html": [
        "<pre>PROGRESS: Starting L-BFGS</pre>"
       ],
       "metadata": {},
       "output_type": "display_data",
       "text": [
        "PROGRESS: Starting L-BFGS"
       ]
      },
      {
       "html": [
        "<pre>PROGRESS: --------------------------------------------------------</pre>"
       ],
       "metadata": {},
       "output_type": "display_data",
       "text": [
        "PROGRESS: --------------------------------------------------------"
       ]
      },
      {
       "html": [
        "<pre>PROGRESS: +-----------+----------+-----------+--------------+-------------------+---------------------+</pre>"
       ],
       "metadata": {},
       "output_type": "display_data",
       "text": [
        "PROGRESS: +-----------+----------+-----------+--------------+-------------------+---------------------+"
       ]
      },
      {
       "html": [
        "<pre>PROGRESS: | Iteration | Passes   | Step size | Elapsed Time | Training-accuracy | Validation-accuracy |</pre>"
       ],
       "metadata": {},
       "output_type": "display_data",
       "text": [
        "PROGRESS: | Iteration | Passes   | Step size | Elapsed Time | Training-accuracy | Validation-accuracy |"
       ]
      },
      {
       "html": [
        "<pre>PROGRESS: +-----------+----------+-----------+--------------+-------------------+---------------------+</pre>"
       ],
       "metadata": {},
       "output_type": "display_data",
       "text": [
        "PROGRESS: +-----------+----------+-----------+--------------+-------------------+---------------------+"
       ]
      },
      {
       "html": [
        "<pre>PROGRESS: | 1         | 4        | 1.000000  | 0.182455     | 0.657639          | 0.630882            |</pre>"
       ],
       "metadata": {},
       "output_type": "display_data",
       "text": [
        "PROGRESS: | 1         | 4        | 1.000000  | 0.182455     | 0.657639          | 0.630882            |"
       ]
      },
      {
       "html": [
        "<pre>PROGRESS: | 2         | 6        | 1.000000  | 0.297339     | 0.670332          | 0.654412            |</pre>"
       ],
       "metadata": {},
       "output_type": "display_data",
       "text": [
        "PROGRESS: | 2         | 6        | 1.000000  | 0.297339     | 0.670332          | 0.654412            |"
       ]
      },
      {
       "html": [
        "<pre>PROGRESS: | 3         | 7        | 1.000000  | 0.367681     | 0.693749          | 0.676471            |</pre>"
       ],
       "metadata": {},
       "output_type": "display_data",
       "text": [
        "PROGRESS: | 3         | 7        | 1.000000  | 0.367681     | 0.693749          | 0.676471            |"
       ]
      },
      {
       "html": [
        "<pre>PROGRESS: | 4         | 8        | 1.000000  | 0.441621     | 0.705898          | 0.707353            |</pre>"
       ],
       "metadata": {},
       "output_type": "display_data",
       "text": [
        "PROGRESS: | 4         | 8        | 1.000000  | 0.441621     | 0.705898          | 0.707353            |"
       ]
      },
      {
       "html": [
        "<pre>PROGRESS: | 5         | 9        | 1.000000  | 0.514203     | 0.727822          | 0.719118            |</pre>"
       ],
       "metadata": {},
       "output_type": "display_data",
       "text": [
        "PROGRESS: | 5         | 9        | 1.000000  | 0.514203     | 0.727822          | 0.719118            |"
       ]
      },
      {
       "html": [
        "<pre>PROGRESS: | 6         | 10       | 1.000000  | 0.589245     | 0.742008          | 0.732353            |</pre>"
       ],
       "metadata": {},
       "output_type": "display_data",
       "text": [
        "PROGRESS: | 6         | 10       | 1.000000  | 0.589245     | 0.742008          | 0.732353            |"
       ]
      },
      {
       "html": [
        "<pre>PROGRESS: +-----------+----------+-----------+--------------+-------------------+---------------------+</pre>"
       ],
       "metadata": {},
       "output_type": "display_data",
       "text": [
        "PROGRESS: +-----------+----------+-----------+--------------+-------------------+---------------------+"
       ]
      },
      {
       "output_type": "stream",
       "stream": "stdout",
       "text": [
        "\n",
        "PROGRESS: LogisticClassifier, SVMClassifier\n",
        "PROGRESS: The returned model will be chosen according to validation accuracy.\n",
        "PROGRESS: Model selection based on validation accuracy:\n",
        "PROGRESS: ---------------------------------------------\n",
        "PROGRESS: LogisticClassifier              : 0.783824\n",
        "PROGRESS: SVMClassifier                   : 0.752941\n",
        "PROGRESS: ---------------------------------------------\n",
        "PROGRESS: Selecting LogisticClassifier based on validation set performance."
       ]
      },
      {
       "output_type": "stream",
       "stream": "stdout",
       "text": [
        "\n",
        "{'confusion_matrix': Columns:\n",
        "\ttarget_label\tstr\n",
        "\tpredicted_label\tstr\n",
        "\tcount\tint\n",
        "\n",
        "Rows: 4\n",
        "\n",
        "Data:\n",
        "+--------------+-----------------+-------+\n",
        "| target_label | predicted_label | count |\n",
        "+--------------+-----------------+-------+\n",
        "|    female    |      female     |  1580 |\n",
        "|    female    |       male      |  383  |\n",
        "|     male     |      female     |  396  |\n",
        "|     male     |       male      |  1540 |\n",
        "+--------------+-----------------+-------+\n",
        "[4 rows x 3 columns]\n",
        ", 'accuracy': 0.8002051808155938}"
       ]
      },
      {
       "output_type": "stream",
       "stream": "stdout",
       "text": [
        "\n"
       ]
      }
     ],
     "prompt_number": 19
    },
    {
     "cell_type": "markdown",
     "metadata": {},
     "source": [
      "We get pretty much the same results. Let us move on to predicting the blogger's age."
     ]
    },
    {
     "cell_type": "heading",
     "level": 3,
     "metadata": {},
     "source": [
      "3.2 Predicting blogger age"
     ]
    },
    {
     "cell_type": "markdown",
     "metadata": {},
     "source": [
      "Let's first look at some basic statistics of the bloggers' age using the show() function. "
     ]
    },
    {
     "cell_type": "code",
     "collapsed": false,
     "input": [
      "sf.show(['age'])"
     ],
     "language": "python",
     "metadata": {},
     "outputs": [
      {
       "javascript": [
        "$(\"head\").append($(\"<link/>\").attr({\n",
        "  rel:  \"stylesheet\",\n",
        "  type: \"text/css\",\n",
        "  href: \"//cdnjs.cloudflare.com/ajax/libs/font-awesome/4.1.0/css/font-awesome.min.css\"\n",
        "}));\n",
        "\n",
        "            // run this in a self-calling function to keep variables scoped per output cell\n",
        "            (function() {\n",
        "                define(\"common_util\",[\"d3\",\"dagre\",\"react\"],function(d3,dagre,React){\"use strict\";var pollIntervalThresholds=[[Math.pow(2,20),1e3],[Math.pow(2,27),5e3]];var pollIntervalScale=d3.scale.linear().domain(pollIntervalThresholds.map(function(a){return a[0]})).range(pollIntervalThresholds.map(function(a){return a[1]}));function assert(x){if(\"assert\"in console){console.assert(x)}else if(!x){var msg=\"assertion failed\";if(\"error\"in console){console.error(msg)}else if(\"log\"in console){console.log(msg)}if(\"trace\"in console){console.trace()}}}function formatNumber(n){if(n===null){return NaN}if(n<.001&&n>0||n>-.001&&n<0){return n.toFixed(4)}if(n>Math.pow(2,40)||n<-Math.pow(2,40)){return n.toPrecision(4)}return n}function merge(x1,x2,recursive){var ret={};for(var attr1 in x1){ret[attr1]=x1[attr1]}for(var attr2 in x2){if(recursive&&attr2 in ret){ret[attr2]=merge(ret[attr2],x2[attr2])}else{ret[attr2]=x2[attr2]}}return ret}function isSArrayImageType(column_descriptor){if(column_descriptor!==null&&typeof column_descriptor===\"object\"&&column_descriptor.type&&column_descriptor.type.toLowerCase()===\"image\"){return true}return false}var CanvasImage=React.createClass({displayName:\"CanvasImage\",draw:function(ctx){var data=this.props.data;var id=ctx.createImageData(this.props.width,this.props.height);var pixels=data.length/this.props.channels;for(var i=0;i<pixels*4;i+=4){var idx=i/4*this.props.channels;id.data[i]=data[idx];if(this.props.channels===1){id.data[i+1]=data[idx];id.data[i+2]=data[idx];id.data[i+3]=255}else{id.data[i+1]=data[idx+1];id.data[i+2]=data[idx+2];if(this.props.channels===3){id.data[i+3]=255}else{assert(this.props.channels===4);id.data[i+3]=data[idx+3]}}}ctx.putImageData(id,0,0)},componentDidMount:function(){var ctx=this.getDOMNode().getContext(\"2d\");this.draw(ctx)},componentDidUpdate:function(){var ctx=this.getDOMNode().getContext(\"2d\");ctx.clearRect(0,0,this.props.width,this.props.height);this.draw(ctx)},shouldComponentUpdate:function(nextProps,nextState){return nextProps.id!==this.props.id},render:function(){return React.DOM.canvas({style:this.props.style,width:this.props.width,height:this.props.height})}});return{assert:assert,merge:merge,partial:function(obj,keys,exclude){var ret={};if(exclude){Object.keys(obj).forEach(function(key){if(keys.indexOf(key)===-1){ret[key]=obj[key]}})}else{keys.forEach(function(key){ret[key]=obj[key]})}return ret},objectMap:function(obj,callback){var ret={};for(var key in obj){ret=merge(ret,callback(key,obj[key]))}return ret},tryGetProperty:function _tryGetProperty(obj,propName,defaultValue){if(typeof defaultValue===\"undefined\")defaultValue=null;if(propName==null)return defaultValue;if(obj==null)return defaultValue;if(typeof propName===\"string\"||typeof propName===\"number\"){if(!(propName in obj))return defaultValue;return obj[propName]}else{assert(Array.isArray(propName));var currentPropName=propName.shift();if(propName.length===0){return _tryGetProperty(obj,currentPropName,defaultValue)}else{return _tryGetProperty(_tryGetProperty(obj,currentPropName),propName,defaultValue)}}},deepCopy:function(o){return JSON.parse(JSON.stringify(o))},deepEquals:function _deepEquals(a,b,depth){if(typeof depth===\"undefined\"){depth=0}if(depth>500){assert(false);return false}if(typeof a===\"function\"&&typeof b===\"function\"){return true}if(typeof a!==typeof b)return false;if(Array.isArray(a)!==Array.isArray(b))return false;if(Array.isArray(a)){if(a.length!==b.length)return false;var ret=true;for(var i=0;i<a.length;i++){ret=ret&&_deepEquals(a[i],b[i],depth+1);if(!ret)return ret}return ret}if(typeof a===\"object\"){var keys={};for(var key in a){keys[key]=1}for(var key in b){if(!(key in keys))return false;keys[key]++}var ret=true;for(var key in keys){if(keys[key]!==2)return false;ret=ret&&_deepEquals(a[key],b[key],depth+1);if(!ret)return ret}return ret}return a===b},escapeURL:function(url){return url.replace(/ /g,\"%20\")},sortFrequentItems:function(frequent_items,count){var values=[];for(var key in frequent_items){values.push({key:key,value:frequent_items[key]})}values.sort(function(a,b){return b.value.frequency-a.value.frequency});return values.slice(0,count)},formatElapsed:function(ms){var d=new Date(ms);var pieces={hours:d.getUTCHours(),minutes:d.getUTCMinutes(),seconds:d.getUTCSeconds()};for(var key in pieces){var s=String(pieces[key]);if(s.length<2){s=\"0\"+s}pieces[key]=s}return pieces.hours+\":\"+pieces.minutes+\":\"+pieces.seconds},numberWithSuffix:function(i){if(i>100){return String(i)}var j=i%10;if(j===1&&i!==11){return i+\"st\"}if(j===2&&i!==12){return i+\"nd\"}if(j===3&&i!==13){return i+\"rd\"}return i+\"th\"},formatNumber:formatNumber,formatSArrayValue:function(value,rowHeight){var formattedValue=value;if(value===\"\"){formattedValue=\"''\"}else if(typeof value===\"number\"){formattedValue=formatNumber(value)}else if(isSArrayImageType(value)){var style={};if(rowHeight){style[\"maxHeight\"]=rowHeight}var data=value.value;if(value.format===\"raw\"){formattedValue=CanvasImage({alt:\"Image Content\",width:value.width,height:value.height,data:value.value,channels:value.channels,style:style,id:value.id})}else{formattedValue=React.DOM.img({alt:\"Image Content\",src:\"data:\"+value.value,style:style})}}return formattedValue},isSArrayImageType:isSArrayImageType,siPrefixToShortScale:function(prefix){var map={Y:\"septillion\",Z:\"sextillion\",E:\"quintillion\",P:\"quadrillion\",T:\"trillion\",G:\"billion\",M:\"million\",k:\"thousand\",h:\"hundred\",da:\"ten\",\"\":null,d:\"tenth\",c:\"hundredth\",m:\"thousandth\",\u00b5:\"millionth\",n:\"billionth\",p:\"trillionth\",f:\"quadrillionth\",a:\"quintillionth\",z:\"sextillionth\",y:\"septillionth\"};if(prefix in map){return map[prefix]}Util.assert(false);return null},getCookie:function(name){var r=document.cookie.match(\"\\\\b\"+name+\"=([^;]*)\\\\b\");return r?r[1]:undefined},getSketchPollInterval:function(rowCount){if(rowCount<pollIntervalThresholds[0][0]){return pollIntervalThresholds[0][1]}if(rowCount>pollIntervalThresholds[1][0]){return pollIntervalThresholds[1][1]}return pollIntervalScale(rowCount)},getColorFromNodeType:function(type){var color=\"\";if(type==\"Task\"){color=\"#b0007f\"}else if(type==\"input\"||type==\"output\"){color=\"#0a8cc4\"}else if(type==\"param\"){color=\"#85bd00\"}return color},getColorFromStatus:function(task_status,selected){var color=\"\";if(selected){return\"#ff5500\"}if(task_status==\"Completed\"){color=\"#0a8cc4\"}else if(task_status==\"Running\"){color=\"#85bd00\"}else if(task_status==\"Failed\"){color=\"#B80000\"}else{color=\"#B2B2B2\"}return color},getColorFromStatusHighlight:function(task_status){var color=\"\";if(task_status==\"Completed\"){color=\"#0a6ca4\"}else if(task_status==\"Running\"){color=\"#659d00\"}else if(task_status==\"Failed\"){color=\"#A80000\"}else{color=\"#A2A2A2\"}return color},getEdgeStrokeColor:function(selectedOrHover,selected){if(!selectedOrHover){return\"#B2B2B2\"}if(selected){return\"#727272\"}else{return\"#E2E2E2\"}},getDepGraphSelectedStrokeColor:function(){return\"#5e5555\"},dagreLayout:function(vertices,edges,vertexWidth,vertexHeight,edgesep,ranksep,dir){var g=new dagre.graphlib.Graph({directed:true});g.setGraph({});g.setDefaultEdgeLabel(function(){return{}});for(var i=0;i<vertices.length;i++){g.setNode(vertices[i].name,{label:String(vertices[i].name),width:vertexWidth,height:vertexHeight})}for(var i=0;i<edges.length;i++){g.setEdge(edges[i].source,edges[i].target)}if(edgesep<0&&ranksep<0){g.setGraph({rankdir:dir})}else if(edgesep>=0&&ranksep<0){g.setGraph({rankdir:dir,edgesep:edgesep})}else if(edgesep<0&&ranksep>=0){g.setGraph({rankdir:dir,ranksep:ranksep})}else{g.setGraph({rankdir:dir,edgesep:edgesep,ranksep:ranksep})}var layout=dagre.layout(g);var nodeElements=[],edgeElements=[],attr=null;g.nodes().forEach(function(v){for(var i=0;i<vertices.length;i++){if(vertices[i].name==v){attr=g.node(v);vertices[i][\"x\"]=attr.x;vertices[i][\"y\"]=attr.y}}});var edgeIdx=0,v,w,edge_attr;g.edges().forEach(function(e){v=g.node(e.v),w=g.node(e.w);edge_attr=g.edge(e);var points=[[v.x,v.y]];for(var i=0;i<edge_attr.points.length;i++){points.push([edge_attr.points[i].x,edge_attr.points[i].y])}points.push([w.x,w.y]);edges[edgeIdx++][\"points\"]=points});return{vertices:vertices,edges:edges}}}});\n",
        "define(\"common_controls\",[\"react\",\"page_layout\",\"common_util\",\"taskqueue\",\"jquery\",\"lodash\"],function(React,PageLayout,Util,TaskQueue,jQuery,_){\"use strict\";var Tooltip=React.createClass({displayName:\"Tooltip\",render:function(){var style={display:this.props.show?\"\":\"none\",top:this.props.y-50,left:this.props.x-150};return React.DOM.div({style:style,className:\"canvas-tooltip\"},this.props.data)}});var Modal=React.createClass({displayName:\"Modal\",doNothing:function(evt){evt.stopPropagation()},render:function(){var header=this.props.title?React.DOM.div({className:\"modal-header\"},React.DOM.button({type:\"button\",className:\"close\",onClick:this.props.closeModal},\"\u00d7\"),React.DOM.h4({className:\"modal-title\"},this.props.title)):null;var modalClass=\"modal-dialog \"+(this.props.additionalClass?this.props.additionalClass:\"\");return React.DOM.div({style:{color:\"black\"}},React.DOM.div({onClick:this.props.closeModal,className:\"modal fade\"+(this.props.open?\" in\":\"\"),style:{display:this.props.open?\"block\":\"none\"}},React.DOM.div({onClick:this.doNothing,className:modalClass},React.DOM.div({className:\"modal-content\"},header,React.DOM.div({className:\"modal-body\"},this.props.body)))),React.DOM.div({className:\"modal-backdrop fade \"+(this.props.open?\"in\":\"hidden\")}))}});var SizeToWindow={setWindowDimensions:function(){this.setState({windowHeight:$(window).height(),windowWidth:$(window).width()})},componentWillMount:function(){$(window).bind(\"resize\",this.setWindowDimensions)},componentWillUnmount:function(){$(window).unbind(\"resize\",this.setWindowDimensions)}};return{Button:React.createClass({displayName:\"Button\",getInitialState:function(){return{depressed:false}},getDefaultProps:function(){return{backgroundColor:\"#0a8cc4\",depressedColor:\"#005991\"}},mouseDown:function(){this.setState({depressed:true})},mouseUp:function(){this.setState({depressed:false})},click:function(evt){this.mouseUp();if(!this.props.disabled){return this.props.onClick(evt)}},render:function(){var style=Util.merge({display:\"inline-block\",paddingLeft:12,paddingRight:12,height:26,fontSize:12,color:\"white\",backgroundColor:this.state.depressed?this.props.depressedColor:this.props.backgroundColor,textTransform:\"uppercase\",textAlign:\"center\",textDecoration:\"none\",lineHeight:\"26px\",transition:\"background-color \"+(this.state.depressed?0:200)+\"ms linear\"},this.props.style);if(this.props.disabled){style.backgroundColor=\"grey\";style.cursor=\"not-allowed\"}return React.DOM.a({href:\"javascript:\",onClick:this.click,onMouseDown:this.mouseDown,onMouseUp:this.mouseUp,disabled:this.props.disabled,style:style},this.props.children)}}),Menu:{mixins:[SizeToWindow],getInitialState:function(){return{items:[],menuOpen:false,top:0,left:0}},itemClick:function(item,evt){evt.preventDefault();evt.stopPropagation();item.onClick(props.selected_variableevt)},openMenu:function(items,evt){this.setState({menuOpen:true,items:items,top:evt.clientY,left:evt.clientX})},closeMenu:function(){this.setState({menuOpen:false})},getMenu:function(){if(!this.state.menuOpen){return React.DOM.div(null)}return React.DOM.div(null,React.DOM.div({style:{position:\"fixed\",top:0,left:0,width:this.state.windowWidth,height:this.state.windowHeight,zIndex:40},onClick:this.closeMenu}),React.DOM.div({style:{position:\"fixed\",top:this.state.top,left:this.state.left,border:\"1px solid #ddd\",zIndex:41}},this.state.items.map(function(item,idx){return React.DOM.div({key:idx},React.DOM.a({href:\"javascript:\",onClick:this.itemClick.bind(this,item),style:{display:\"inline-block\",width:\"100%\",padding:4,backgroundColor:\"white\"}},item.label))}.bind(this))))}},Searchable:{getInitialState:function(){return{search_value:\"\"}},getSearchBox:function(placeholder,style){return React.DOM.input({type:\"search\",value:this.state.search_value,onChange:this.setSearchValue,placeholder:placeholder,style:style})},setSearchValue:function(evt){this.setState({search_value:evt.target.value})}},Slider:React.createClass({displayName:\"Slider\",render:function(){Util.assert(this.props.value>=this.props.min);Util.assert(this.props.value<=this.props.max);return React.DOM.div({className:\"canvas-slider\"},React.DOM.div({className:\"canvas-slider-label\"},this.props.label),React.DOM.div({className:\"canvas-slider-control\"},this.props.min,this.transferPropsTo(React.DOM.input({type:\"range\",name:\"canvas-slider-range\"})),this.props.max),React.DOM.div({className:\"canvas-slider-box\"},this.transferPropsTo(React.DOM.input({type:\"number\",name:\"canvas-slider-number\"}))))}}),SortableTable:React.createClass({displayName:\"SortableTable\",getValue:function(data,rowIdx,colIdx){var ret=null;if(rowIdx===null){if(this.props.sortable.indexOf(colIdx)!=-1){var className=\"fa fa-sort\";if(this.props.sortColumn===colIdx){if(this.props.types[colIdx]===\"number\"){className+=\"-numeric\"}else if(this.props.types[colIdx]===\"string\"){className+=\"-alpha\"}}if(this.props.sortColumn===colIdx&&this.props.sortDesc){className+=\"-desc\"}else if(this.props.sortColumn===colIdx){className+=\"-asc\"}ret=React.DOM.span(null,data[colIdx],React.DOM.a({onClick:this.sort.bind(this,colIdx),href:\"javascript:\"},React.DOM.i({className:className,style:{marginLeft:6,marginRight:6}})))}else{ret=data[colIdx]}}else{ret=data[rowIdx][colIdx]}return React.DOM.div({style:{padding:8,display:\"inline-block\"}},ret)},getDefaultProps:function(){return{sortable:[],sortColumn:null,sortDesc:false,renderTD:true}},copyProps:function(){return{data:Util.deepCopy(this.props.data),sortColumn:this.props.sortColumn,sortDesc:this.props.sortDesc}},sort:function(colIdx){var sortDesc=this.props.sortColumn===colIdx&&!this.props.sortDesc;this.props.onSort(colIdx,sortDesc)},render:function(){var data=Util.deepCopy(this.props.data);var sortDesc=this.props.sortDesc;data.sort(function(a,b){a=a[this.props.sortColumn];b=b[this.props.sortColumn];if(this.props.types[this.props.sortColumn]===\"number\"){if(a===\"n/a\"){a=null}if(b===\"n/a\"){b=null}}if(a===null){if(b===null){return 0}return 1}else if(b===null){return 1}else if(typeof a===\"number\"){return sortDesc?b-a:a-b}Util.assert(typeof a===\"string\");return sortDesc?b.localeCompare(a):a.localeCompare(b)}.bind(this));var getValue=this.getValue;if(\"getValue\"in this.props){getValue=this.props.getValue.bind(this)}return React.DOM.div({style:this.props.style},React.DOM.table({className:\"table table-bordered\",style:Util.merge({width:\"auto\",border:\"none\"},this.props.tableStyle)},React.DOM.thead(null,React.DOM.tr(null,this.props.headers.map(function(header,idx){return React.DOM.th({key:idx,style:{whiteSpace:\"nowrap\",verticalAlign:\"middle\",padding:0,border:\"none\"}},getValue(this.props.headers,null,idx))}.bind(this)))),React.DOM.tbody(null,data.map(function(row,rowIdx){return React.DOM.tr({key:rowIdx},row.map(function(col,colIdx){var ret=getValue(data,rowIdx,colIdx);if(this.props.renderTD){ret=React.DOM.td({style:{padding:0,verticalAlign:\"middle\",border:\"none\"},key:colIdx},ret)}return ret}.bind(this)))}.bind(this)))))}}),Tooltip:{getInitialState:function(){return{tooltip:{show:false,x:0,y:0,data:null,timeoutFn:null}}},tooltipMouseOver:function(data,evt){this.setState({tooltip:{show:false,x:evt.clientX,y:evt.clientY,data:data,timeoutFn:setTimeout(function(){this.setState({tooltip:Util.merge(this.state.tooltip,{show:true})})}.bind(this),400)}})},tooltipMouseOut:function(evt){clearTimeout(this.state.tooltip.timeoutFn);this.setState({tooltip:{show:false,timeoutFn:null}})},getTooltip:function(){return Tooltip({data:this.state.tooltip.data,x:this.state.tooltip.x,y:this.state.tooltip.y-20,show:this.state.tooltip.show})}},Modal:{getInitialState:function(){return{modal:{open:false}}},modalOpen:function(title,body,additionalClass){this.setState({modal:{open:true,title:title,body:body,additionalClass:additionalClass}})},modalClose:function(){this.setState({modal:{open:false}})},getModal:function(){return Modal({open:this.state.modal.open,closeModal:this.modalClose,title:this.state.modal.title,body:this.state.modal.body,additionalClass:Util.tryGetProperty(this.state.modal,\"additionalClass\",\"\")})}},SizeToWindow:SizeToWindow,Tabs:React.createClass({displayName:\"Tabs\",mixins:[SizeToWindow],getInitialState:function(){return{initialTab:this.props.initialTab,selectedTab:this.props.initialTab}},componentWillReceiveProps:function(nextProps){if(nextProps.initialTab!=this.state.initialTab){this.setState({initialTab:nextProps.initialTab,selectedTab:nextProps.initialTab})}},selectTab:function(tab,evt){var prev={};prev[this.state.selectedTab]=true;this.setState({selectedTab:tab})},render:function(){return React.DOM.div(null,React.DOM.ul({className:\"nav nav-tabs\",role:\"tablist\"},this.props.tabs.map(function(tab,idx){return React.DOM.li({key:idx,className:tab[0]===this.state.selectedTab?\"active\":\"\"},React.DOM.a({href:\"javascript:\",onClick:this.selectTab.bind(this,tab[0])},tab[0]))}.bind(this))),React.DOM.div({className:\"tab-content\",style:{overflow:\"auto\"}},this.props.tabs.map(function(row,idx){var tab=row[0];var tag=row[1];var tab_props={tab:{visible:tab===this.state.selectedTab}};return React.DOM.div({key:idx,className:\"tab-pane\"+(tab===this.state.selectedTab?\" active\":\"\")},React.DOM.div({className:\"canvas-view-main\"},tag(Util.merge(tab_props,Util.partial(this.props,[\"tabs\"],true)))))}.bind(this))))}}),AsyncState:{componentWillReceiveProps:function(nextProps){if(!Util.deepEquals(this.props,nextProps)){this.setState(this.getInitialState(nextProps),function(){this.updateAsyncState(nextProps)}.bind(this))}},addTask:function(task){this.tasks.push(task);TaskQueue.add(task)},cancelAllTasks:function(){this.tasks.forEach(function(task){task.cancel()});this.tasks=[]},componentDidMount:function(){this.tasks=[];this.updateAsyncState(this.props)},componentWillUnmount:function(){this.cancelAllTasks()}},SVG:{ellipse:React.createClass({displayName:\"ellipse\",render:function(){var d=\"M \"+(this.props.cx-this.props.rx)+\" \"+this.props.cy+\" a \"+this.props.rx+\" \"+this.props.ry+\" 0 1 0 \"+this.props.rx*2+\" 0 a \"+this.props.rx+\" \"+this.props.ry+\" 0 1 0 \"+-(this.props.rx*2)+\" 0\";return this.transferPropsTo(React.DOM.path({d:d}))}})}}});\n",
        "\"use strict\";define(\"logging\",[\"common_util\"],function(Util){\"use strict\";var g_log=[];function log(evt){g_log.push(Date.now());g_log.push(evt)}function reportMetric(metric,value,properties){Util.assert(typeof metric===\"string\");var data={metric:metric};if(value!=null){Util.assert(typeof value===\"number\");data[\"value\"]=String(value)}if(properties!=null){data[\"properties\"]=JSON.stringify(properties)}data[\"_xsrf\"]=Util.getCookie(\"_xsrf\");$.post(\"/metrics\",data)}return{log:log,get:function(){return g_log.slice()},reportMetric:reportMetric}});\n",
        "\"use strict\";define(\"state\",[\"common_util\"],function(Util){var listeners=[];return{addListener:function(l){listeners.push(l)},set:function(state){for(var i=0;i<listeners.length;i++){listeners[i].setState(state)}}}});\n",
        "define(\"page_layout\",[\"state\",\"common_util\"],function(State,Util){\"use strict\";var layout={colorbar_height:4,breadcrumb_height:55,column_selection_height:56,tab_height:42,left_nav_width:180,view_main_margin_left:20,view_main_margin_right:20,view_main_margin_bottom:20,view_main_padding_top:12,view_main_padding_bottom:12,view_main_content_padding_top:0,view_main_content_padding_bottom:0,table_column_header_height:44,table_nav_width:96,table_vertical_scroll_width:15,table_horizontal_scroll_height:15,view_main_padding_left:12,view_main_content_padding_left:0,view_main_content_padding_right:0,windowHeight:$(window).height(),windowWidth:$(window).width()};function viewportDimensions(){var docObject=window,prefix=\"inner\";if(!(\"innerWidth\"in window)){prefix=\"client\";docObject=document.documentElement||document.body}return{width:docObject[prefix+\"Width\"],height:docObject[prefix+\"Height\"]}}var PageLayout={contentWidth:function(){return viewportDimensions().width-(layout.left_nav_width+layout.view_main_margin_left+layout.view_main_padding_left+layout.view_main_content_padding_left+layout.view_main_content_padding_right+layout.view_main_margin_right)},contentHeight:function(){return viewportDimensions().height-(layout.breadcrumb_height+layout.column_selection_height+layout.tab_height+layout.view_main_padding_top+layout.view_main_padding_bottom+layout.view_main_margin_bottom)},tableWidth:function(){return PageLayout.contentWidth()-(layout.table_nav_width+layout.table_vertical_scroll_width)},tableHeight:function(){return PageLayout.contentHeight()-(layout.view_main_content_padding_top+layout.view_main_content_padding_bottom+layout.table_column_header_height+layout.table_horizontal_scroll_height)},setWindowDimensions:function(){layout.windowWidth=$(window).width();layout.windowHeight=$(window).height()},get:function(attr){if(attr in layout){return layout[attr]}else{return undefined}}};return PageLayout});\n",
        "define(\"taskqueue\",[\"common_util\",\"state\",\"logging\"],function(Util,State,Logging){\"use strict\";function Task(){this.canceled=false;this.startTime=null;this.endTime=null;this.fn_always=[];this.fn_done=[];this.fn_fail=[]}Task.prototype.toString=function(){return JSON.stringify({canceled:this.canceled,startTime:this.startTime,endTime:this.endTime})};Task.prototype.always=function(fn){this.fn_always.push(fn);return this};Task.prototype.done=function(fn){this.fn_done.push(fn);return this};Task.prototype.fail=function(fn){this.fn_fail.push(fn);return this};Task.prototype.progress=function(){return 0};Task.prototype.operation=function(){return\"\"};Task.prototype.running=function(){return this.startTime!=null&&this.endTime==null};Task.prototype.finished=function(){return this.startTime!=null&&this.endTime!=null};Task.prototype.elapsed=function(){if(this.finished()){return this.endTime-this.startTime}else if(this.running()){return Date.now()-this.startTime}else{return 0}};Task.prototype.run=function(){Util.assert(!this.finished());Util.assert(!this.running());this.startTime=Date.now()};Task.prototype.end=function(){this.endTime=Date.now();var applyAll=function(fnArray,args){fnArray.forEach(function(fn){fn.apply(this,args)}.bind(this))}.bind(this);if(!this.canceled){applyAll(this.fn_done,arguments)}else{applyAll(this.fn_fail,arguments)}applyAll(this.fn_always,arguments);setTimeout(processTasks,0)};Task.prototype.cancel=function(){if(!this.finished()){this.canceled=true;this.end.apply(this,arguments)}};function SingleTask(url,opName){Task.call(this);this.url=url;this.op=opName;this.request=null}SingleTask.prototype.toString=function(){return JSON.stringify({url:this.url,op:this.op,canceled:this.canceled,startTime:this.startTime,endTime:this.endTime})};SingleTask.prototype=new Task;SingleTask.prototype.cancel=function(){if(this.request!==null){this.request.abort()}Task.prototype.cancel.apply(this,arguments)};SingleTask.prototype.run=function(){Task.prototype.run.call(this);this.request=$.get(this.url).done(function(data){if(this.canceled){return}this.end(data)}.bind(this)).fail(function(){this.cancel.apply(this,arguments)}.bind(this))};SingleTask.prototype.operation=function(){return this.op};function ProgressTask(url,opName,progressFn,pollInterval){SingleTask.call(this,url,opName);this._progressFn=progressFn;this._progress=0;this._timeout=null;this._pollInterval=pollInterval}ProgressTask.prototype=new SingleTask;ProgressTask.prototype.run=function(){Task.prototype.run.call(this);var _this=this;update();function update(){$.get(_this.url).done(function(data){if(_this.canceled){return}_this._progressFn(data);if(data.complete){_this.end(data);_this._progress=1}else{_this._progress=data.progress;_this._timeout=setTimeout(update,this._pollInterval)}}.bind(_this)).fail(function(){this.cancel.apply(this,arguments)}.bind(_this))}};ProgressTask.prototype.progress=function(){return this._progress};ProgressTask.prototype.cancel=function(){clearTimeout(this._timeout);SingleTask.prototype.cancel.call(this)};function MultiTask(taskList){Task.call(this);this.tasks=taskList;this.currentTask=0}MultiTask.prototype=new Task;MultiTask.prototype.progress=function(){if(this.tasks.length===0){return 0}var pct=this.currentTask/this.tasks.length;if(this.tasks[this.currentTask]instanceof ProgressTask){pct+=this.tasks[this.currentTask].progress()/this.tasks.length}Util.assert(!isNaN(pct));return pct};MultiTask.prototype.operation=function(){return this.tasks.map(function(task){return task.operation()})};MultiTask.prototype.run=function(){Task.prototype.run.call(this);var _this=this;function step(){if(_this.canceled){return}if(_this.currentTask===_this.tasks.length){_this.end()}else if(_this.tasks[_this.currentTask].finished()){_this.currentTask++}else if(!_this.tasks[_this.currentTask].running()){_this.tasks[_this.currentTask].run()}if(!_this.finished()){requestAnimationFrame(step)}}step()};MultiTask.prototype.cancel=function(){for(var i=0;i<this.tasks.length;i++){this.tasks[i].cancel()}Task.prototype.cancel.call(this)};var previousProgress=0;var previousFinished=false;function processTasks(){if(g_tasks.length===0){return}if(g_tasks[0].running()){}else if(g_tasks[0].finished()){if(g_tasks.length>1){Logging.log(\"removing completed task\");var removed=g_tasks.shift();Logging.log(removed.toString());setTimeout(processTasks,0)}}else{Logging.log(\"starting new task\");Logging.log(g_tasks[0].toString());g_tasks[0].run()}var currentTask=g_tasks[0];var progress=currentTask.progress();var finished=currentTask.finished();if(progress!==previousProgress||finished!==previousFinished){previousProgress=progress;previousFinished=finished;State.set({task:{progress:progress,finished:finished}})}}function cancelAllTasks(){for(var i=0;i<g_tasks.length;i++){g_tasks[i].cancel()}}var g_tasks=[];return{add:function(task){g_tasks.push(task)},cancelAll:cancelAllTasks,start:function(){setInterval(processTasks,200)},Task:Task,SingleTask:SingleTask,ProgressTask:ProgressTask,MultiTask:MultiTask}});\n",
        "define(\"plot_frequency\",[\"react\",\"d3\",\"common_controls\",\"common_util\"],function(React,d3,Controls,Util){\"use strict\";return{Frequency:React.createClass({displayName:\"Frequency\",mixins:[Controls.Tooltip],getInitialState:function(){return{hover:null}},getDefaultProps:function(){return{aspectRatio:3,maxValues:30,width:152,onItemClick:null,highlightElement:null}},onMouseOver:function(idx,value,evt){this.tooltipMouseOver(React.DOM.span(null,Util.formatSArrayValue(value.value.value),\":\u00a0\",Util.formatNumber(value.value.frequency),\" (\",Util.formatNumber(value.value.frequency/this.props.data.size*100),\"%)\"),evt);this.setState({hover:idx});if(\"onItemHover\"in this.props){this.props.onItemHover(idx)}},onMouseOut:function(evt){this.tooltipMouseOut(evt);this.setState({hover:null});if(\"onItemHover\"in this.props){this.props.onItemHover(null)}},render:function(){var width=this.props.aspectRatio;var values=[];if(\"frequent_items\"in this.props.data&&Object.keys(this.props.data.frequent_items).length>0){values=Util.sortFrequentItems(this.props.data.frequent_items,this.props.maxValues)}else{values=[{key:\"\",value:0}]}var x=d3.scale.linear().domain([0,values.length]).range([0,width]);var y=d3.scale.linear().domain([0,values[0].value.frequency]).range([0,1]);var barWidth=width/values.length-.01*width;var viewBox=[0,0,width,1].join(\" \");var hover=\"hover\"in this.props?this.props.hover:this.state.hover;return React.DOM.div(null,React.DOM.svg({viewBox:viewBox,width:this.props.width,height:this.props.width/this.props.aspectRatio},values.map(function(value,idx){var opacity=this.props.highlightElement===null||this.props.highlightElement===value.key?1:.3;var onClickFn=this.props.disabled||this.props.onItemClick===null?null:this.props.onItemClick.bind(null,value.key);return React.DOM.g({key:idx},React.DOM.rect({width:barWidth,height:y(values[0].value.frequency),x:x(idx),y:1-y(values[0].value.frequency),onMouseOver:this.onMouseOver.bind(this,idx,value),onMouseOut:this.onMouseOut,fill:\"#fff\"}),React.DOM.rect({fill:hover===idx?\"#ff5500\":\"#0a8cc4\",width:barWidth,height:y(value.value.frequency),x:x(idx),y:1-y(value.value.frequency),onMouseOver:this.onMouseOver.bind(this,idx,value),onMouseOut:this.onMouseOut,onClick:onClickFn,style:{opacity:opacity,cursor:onClickFn===null?\"default\":\"pointer\",transition:\"opacity 0.3s ease\"}}))}.bind(this))),this.getTooltip())}})}});\n",
        "define(\"plot_bar\",[\"react\",\"d3\",\"jquery\",\"common_controls\",\"common_util\"],function(React,d3,jQuery,Controls,Util){\"use strict\";var FRAME_PADDING=75;var TICK_WIDTH=10;var TICK_HEIGHT=10;var PADDING_FRACTION=.25;var BAR_SPACING=5;var defaultNumericalFormatter=d3.format(\".3g\");var formatLabels=function(num,isMetrics){if(isMetrics){var d=new Date(num);var t=d3.time.format(\"%I %p\")(d);return d3.time.format(\"%I %p\")(d)}var intNum=parseInt(num,10);if(!isNaN(intNum)&&num/1e5<1){return num.toString()}var floatNum=parseFloat(num);var floatString=num.toFixed(5);if(!isNaN(floatNum)&&floatNum<1&&Number(floatString)!==0){return floatString}if(defaultNumericalFormatter(num).length>7){return d3.format(\".1g\")(num)}else{return defaultNumericalFormatter(num)}};var abbreviateLabel=function(string){if(string.length>5){string=string.substring(0,5);string=string.concat(\"...\")}return string};var BarRenderer=React.createClass({displayName:\"BarRenderer\",render:function(){var xScale=this.props.xScale;var yScale=this.props.yScale;var width=this.props.width;var height=this.props.height;var barData=this.props.barData;var bars=[];for(var i=0;i<barData.length;i++){var minVal=yScale.domain()[0];var maxVal=yScale.domain()[1];var xVal=FRAME_PADDING+xScale(i);var barTooltip=barData[i].name+\": \"+barData[i].value;if(minVal>=0){bars.push(React.DOM.rect({className:\"canvas-bar-barRect\",x:xVal,y:yScale(barData[i].value)+FRAME_PADDING,width:width/barData.length,height:yScale(minVal)-yScale(barData[i].value),key:i},React.DOM.title(null,\" \",barTooltip,\" \")))}else if(maxVal<=0){bars.push(React.DOM.rect({className:\"canvas-bar-barRect\",x:xVal,y:FRAME_PADDING,width:width/barData.length,height:yScale(barData[i].value),key:i},React.DOM.title(null,\" \",barTooltip,\" \")))}else if(barData[i].value>=0){bars.push(React.DOM.rect({className:\"canvas-bar-barRect\",x:xVal,y:yScale(barData[i].value)+FRAME_PADDING,width:width/barData.length,height:yScale(0)-yScale(barData[i].value),key:i},React.DOM.title(null,\" \",barTooltip,\" \")))}else{bars.push(React.DOM.rect({className:\"canvas-bar-barRect\",x:xVal,y:yScale(0)+FRAME_PADDING,width:width/barData.length,height:yScale(barData[i].value)-yScale(0),key:i},React.DOM.title(null,\" \",barTooltip,\" \")))}}return React.DOM.g(null,bars)}});var LabelRenderer=React.createClass({displayName:\"LabelRenderer\",render:function(){var width=this.props.width/this.props.barData.length;if(width<12){return React.DOM.g(null)}return React.DOM.g({transform:\"translate(\"+(FRAME_PADDING+width/2)+\",\"+(this.props.height+FRAME_PADDING*1.35-12)+\")\"},this.props.barData.map(function(bar,idx){return React.DOM.text({style:{textOverflow:\"ellipsis\",whiteSpace:\"nowrap\",overflow:\"hidden\"},fontSize:\"10\",y:\"3\",x:this.props.xScale(idx),color:\"#4b4b4b\",textAnchor:\"middle\",overflow:\"hidden\"},abbreviateLabel(bar.name))}.bind(this)))}});var AxisRenderer=React.createClass({displayName:\"AxisRenderer\",render:function(){var xScale=this.props.xScale;var yScale=this.props.yScale;var width=this.props.width;var height=this.props.height;var gridlinesVisible=this.props.gridlinesVisible;var barData=this.props.barData;var axisYVal=yScale(0);if(axisYVal<0){axisYVal=0}else if(axisYVal>height){axisYVal=height}axisYVal+=FRAME_PADDING;var gridlineVisibility=gridlinesVisible?\"visible\":\"hidden\";var xLinesAndLabels=[];for(var i=0;i<barData.length;i++){xLinesAndLabels.push(React.DOM.line({key:i,className:\"canvas-bar-ticks\",x1:FRAME_PADDING+xScale(i)+width/barData.length/2,x2:FRAME_PADDING+xScale(i)+width/barData.length/2,y1:height+FRAME_PADDING+TICK_HEIGHT/2,y2:height+FRAME_PADDING-TICK_HEIGHT/2},React.DOM.title(null,barData[i].name)))}var yLinesAndLabels=yScale.ticks().map(function(yValue,idx){return React.DOM.g({key:\"Yg-\"+idx},React.DOM.line({className:\"canvas-bar-gridlines\",x1:FRAME_PADDING,x2:width+FRAME_PADDING,y1:yScale(yValue)+FRAME_PADDING,y2:yScale(yValue)+FRAME_PADDING,key:\"Ygridline-\"+yValue,style:{visibility:gridlineVisibility}}),React.DOM.line({className:\"canvas-bar-ticks\",x1:FRAME_PADDING-TICK_WIDTH/2,x2:FRAME_PADDING+TICK_WIDTH/2,y1:yScale(yValue)+FRAME_PADDING,y2:yScale(yValue)+FRAME_PADDING,key:\"Yticks-\"+yValue}),React.DOM.text({className:\"canvas-bar-numLabel\",x:FRAME_PADDING/1.75,y:yScale(yValue)+FRAME_PADDING+4,key:\"YnumLabel-\"+yValue},formatLabels(yValue)))});return React.DOM.g(null,xLinesAndLabels,yLinesAndLabels,React.DOM.line({className:\"canvas-bar-axes\",x1:FRAME_PADDING,y1:axisYVal,x2:width+FRAME_PADDING,y2:axisYVal}),React.DOM.line({className:\"canvas-bar-axes\",x1:FRAME_PADDING,y1:FRAME_PADDING,x2:FRAME_PADDING,y2:height+FRAME_PADDING}))}});var AxisLabel=React.createClass({displayName:\"AxisLabel\",handleClick:function(evt){var selected_column=[this.props.plotName,this.props.name];this.props.selectVariable(selected_column)},render:function(){var link=this.props.ipython?this.props.name:React.DOM.a({href:\"javascript:\",onClick:this.handleClick},this.props.name);return React.DOM.span({className:\"canvas-scatter-axesLabel\",style:{position:\"absolute\",top:\"\"+this.props.y+\"px\",left:\"\"+this.props.x+\"px\",width:\"\"+this.props.width+\"px\"}},link)}});return{Bar:React.createClass({displayName:\"Bar\",getDefaultProps:function(){return{width:500,height:500,barData:[],extrema:{min:0,max:10},catLabel:\"\",numLabel:\"\"}},getInitialState:function(){return{gridlinesVisible:true,sortedBars:false,barsToDisplay:this.props.barData}},padExtrema:function(extrema){var originalDomain=extrema.max-extrema.min;var paddedExtrema={};paddedExtrema.min=extrema.min-PADDING_FRACTION*originalDomain;paddedExtrema.max=extrema.max+PADDING_FRACTION*originalDomain;if(extrema.min>=0&&paddedExtrema.min<0)paddedExtrema.min=0;if(extrema.max<=0&&paddedExtrema.max>0)paddedExtrema.max=0;return paddedExtrema},toggleGridlines:function(){this.setState({gridlinesVisible:!this.state.gridlinesVisible})},toggleSortedBars:function(){if(this.state.sortedBars){this.setState({barsToDisplay:this.props.barData})}else{var tempBars=$.extend(true,[],this.props.barData);tempBars.sort(function(bar1,bar2){return bar1.value-bar2.value});this.setState({barsToDisplay:tempBars})}this.setState({sortedBars:!this.state.sortedBars})},componentWillReceiveProps:function(nextProps){this.setState({barsToDisplay:nextProps.barData})},render:function(){var newExtrema=this.padExtrema(this.props.extrema);var min=newExtrema.min;var max=newExtrema.max;var xScale=d3.scale.linear().domain([0,this.props.barData.length]).range([0,this.props.width]);var yScale=d3.scale.linear().domain([min,max]).range([this.props.height,0]);return React.DOM.div({className:\"canvas-bar-frame\",style:{position:\"relative\"}},React.DOM.svg({className:\"canvas-bar-svgFrame\",width:this.props.width+2*FRAME_PADDING,height:this.props.height+2*FRAME_PADDING},React.DOM.rect({className:\"canvas-bar-rectFrame\",width:this.props.width,height:this.props.height,x:FRAME_PADDING,y:FRAME_PADDING}),AxisRenderer({xScale:xScale,yScale:yScale,width:this.props.width,height:this.props.height,barData:this.state.barsToDisplay,gridlinesVisible:this.state.gridlinesVisible}),BarRenderer({xScale:xScale,yScale:yScale,width:this.props.width,height:this.props.height,barData:this.state.barsToDisplay}),LabelRenderer({xScale:xScale,barData:this.state.barsToDisplay,height:this.props.height,width:this.props.width})),React.DOM.input({className:\"canvas-bar-toggleButton\",type:\"checkbox\",name:\"gridlineToggle\",onClick:this.toggleGridlines,style:{position:\"absolute\",top:\"\"+(this.props.height+2*FRAME_PADDING-25)/2+\"px\",left:\"\"+(this.props.width+1.5*FRAME_PADDING)+\"px\"}},React.DOM.p({className:\"canvas-bar-toggleLabel\",style:{position:\"absolute\",top:\"\"+(this.props.height+2*FRAME_PADDING-25)/2+\"px\",left:\"\"+(this.props.width+1.75*FRAME_PADDING)+\"px\"}},\"Toggle gridlines\")),React.DOM.input({className:\"canvas-bar-toggleButton\",type:\"checkbox\",name:\"sortedBarsToggle\",onClick:this.toggleSortedBars,style:{position:\"absolute\",top:\"\"+(this.props.height+2*FRAME_PADDING+25)/2+\"px\",left:\"\"+(this.props.width+1.5*FRAME_PADDING)+\"px\"}},React.DOM.p({className:\"canvas-bar-toggleLabel\",style:{position:\"absolute\",top:\"\"+(this.props.height+2*FRAME_PADDING+25)/2+\"px\",left:\"\"+(this.props.width+1.75*FRAME_PADDING)+\"px\"}},\"Toggle bar sorting\")),[{name:this.props.catLabel,x:FRAME_PADDING,y:this.props.height+FRAME_PADDING*1.5,width:this.props.width},{name:this.props.numLabel,x:0,y:FRAME_PADDING/2.5,width:\"auto\"}].map(function(axis,idx){return AxisLabel({key:idx,name:axis.name,selectVariable:this.props.selectVariable,plotName:this.props.plotName,x:axis.x,y:axis.y,width:axis.width,ipython:this.props.ipython})}.bind(this)))}})}});\n",
        "define(\"plot_box\",[\"react\",\"d3\",\"common_controls\",\"common_util\"],function(React,d3,Controls,Util){\"use strict\";return{BoxAndWhisker:React.createClass({displayName:\"BoxAndWhisker\",transformData:function(data,params,states){var quantile=data.quantile;var Q0=quantile[0];var Q1=quantile[25];var Q2=quantile[50];var Q3=quantile[75];var Q4=quantile[100];var IQR=Q3-Q1;var lowWhiskerValue=Math.max(Q0,Q1-1.5*IQR);var highWhiskerValue=Math.min(Q4,Q3+1.5*IQR);var lowOutlierValues=[];var highOutlierValues=[];for(var i=0;i<quantile.length;i++){if(quantile[i]<lowWhiskerValue){lowOutlierValues.push(quantile[i])}if(quantile[i]>highWhiskerValue){highOutlierValues.push(quantile[i])}}return{minValue:Q0,maxValue:Q4,lowOutliers:lowOutlierValues,highOutliers:highOutlierValues,lowWhisker:{low:lowWhiskerValue,high:Q1},highWhisker:{low:Q3,high:highWhiskerValue},lowBox:{low:Q1,high:Q2},highBox:{low:Q2,high:Q3},median:{value:Q2}}},calculateScales:function(data,params,states){var yScale=d3.scale.linear().domain([0,1]).range([0,params.height]);var xScale=d3.scale.linear().domain([params.minValue,params.maxValue]).range([10,params.width-10]);var heightScale=yScale;var widthScale=d3.scale.linear().domain([0,params.maxValue-params.minValue]).range([0,params.width-20]).clamp(true);return{x:xScale,y:yScale,width:widthScale,height:heightScale}},render:function(){var hasData=Util.tryGetProperty(this.props.data,\"quantile\",null)!==null;var isInsideSvg=Util.tryGetProperty(this.props,\"is_inside_svg\",false);if(!hasData){return isInsideSvg?React.DOM.div(null):React.DOM.g(null)}var width=Util.tryGetProperty(this.props,\"width\",152);if(this.props.vertical){width*=6}var height=width/6;var style={width:width,height:this.props.vertical?width:height};var transform=this.props.vertical?\"rotate(270deg) translateX(-\"+width+\"px) translateY(\"+width/4+\"px)\":\"\";var containerStyle=this.props.vertical?{transform:transform,\"-webkit-transform\":transform}:{};var params={width:width,height:height,maxValue:Util.tryGetProperty(this.props,\"max_value\",this.props.data.max),minValue:Util.tryGetProperty(this.props,\"min_value\",this.props.data.min)};var data=this.transformData(this.props.data,params,this.states);var scales=this.calculateScales(this.props.data,params,this.states);var viewBody=React.DOM.g({className:\"BoxAndWhisker\",style:containerStyle},React.DOM.g({className:\"lowOutliers\"},data.lowOutliers.map(function(d,idx){return React.DOM.circle({key:idx,cx:scales.x(d),cy:scales.y(.5),r:2.5,fill:\"#85bd00\"})})),React.DOM.g({className:\"lowWhisker\"},function(d){return React.DOM.g(null,React.DOM.line({x1:scales.x(d.low),x2:scales.x(d.low),y1:scales.y(0),y2:scales.y(1),className:\"canvas-boxplot-end\"}),React.DOM.line({x1:scales.x(d.low),x2:scales.x(d.high),y1:scales.y(.5),y2:scales.y(.5),className:\"canvas-boxplot-line\"}))}(data.lowWhisker)),React.DOM.g({className:\"lowBox\"},function(d){return React.DOM.rect({x:scales.x(d.low),width:scales.width(d.high-d.low),y:scales.y(.05),height:scales.height(.9),fill:\"#85bd00\"})}(data.lowBox)),React.DOM.g({className:\"median\"},function(d){return React.DOM.rect({x:scales.x(d.value)-.5,width:2,y:scales.y(.05),height:scales.height(.9),fill:\"#fff\"})}(data.median)),React.DOM.g({className:\"highBox\"},function(d){return React.DOM.rect({x:scales.x(d.low),width:scales.width(d.high-d.low),y:scales.y(.05),height:scales.height(.9),fill:\"#85bd00\"})}(data.highBox)),React.DOM.g({className:\"highWhisker\"},function(d){return React.DOM.g(null,React.DOM.line({x1:scales.x(d.high),x2:scales.x(d.high),y1:scales.y(0),y2:scales.y(1),className:\"canvas-boxplot-end\"}),React.DOM.line({x1:scales.x(d.low),x2:scales.x(d.high),y1:scales.y(.5),y2:scales.y(.5),className:\"canvas-boxplot-line\"}))}(data.highWhisker)),React.DOM.g({className:\"highOutliers\"},data.highOutliers.map(function(d,idx){return React.DOM.circle({key:idx,cx:scales.x(d),cy:scales.y(.5),r:2.5,fill:\"#85bd00\"})})));return isInsideSvg?viewBody:React.DOM.div({className:\"canvas-plot-boxandwhisker\"},React.DOM.svg({style:style},viewBody))}})}});\n",
        "define(\"plot_boxes\",[\"react\",\"d3\",\"plot_box\",\"common_controls\",\"common_util\"],function(React,d3,Plot,Controls,Util){\"use strict\";return{BoxAndWhiskerArray:React.createClass({displayName:\"BoxAndWhiskerArray\",mixins:[Controls.Tooltip],render:function(){var hasData=Util.tryGetProperty(this.props.data,\"quantile\",null)!==null;var isInsideSvg=Util.tryGetProperty(this.props,\"is_inside_svg\",false);if(!hasData){return isInsideSvg?React.DOM.div(null):React.DOM.g(null)}var width=Util.tryGetProperty(this.props,\"width\",152);var height=Util.tryGetProperty(this.props,\"height\",100);var subsketchCount=this.props.data.subsketch_keys.length;var subsketchWidth=width;var subsketchSpacing=height/subsketchCount;var subsketchHeight=subsketchSpacing-2;var style={width:width,height:height};var BoxAndWhisker=Plot.BoxAndWhisker;var viewBody=React.DOM.g({className:\"BoxAndWhiskerArray\"},this.props.data.subsketches.map(function(subsketch,i){return React.DOM.g({transform:\"translate(0,\"+(i*subsketchSpacing+1)+\")\"},BoxAndWhisker({data:subsketch,width:subsketchWidth,height:subsketchHeight,is_inside_svg:true,min_value:this.props.data.min,max_value:this.props.data.max}))},this));var tooltipOnMouseOver=this.tooltipMouseOver.bind(this,React.DOM.table({className:\"canvas-sframe-boxplot-tooltip\"},[0,1,2,25,50,75,98,99,100].map(function(q){var quantile=this.props.data.quantile;return React.DOM.tr({key:q},React.DOM.td(null,\"quantile(\",q/100,\"):\"),React.DOM.td(null,Util.formatNumber(quantile[q])))}.bind(this))));var tooltipOnMouseOut=this.tooltipMouseOut;return isInsideSvg?viewBody:React.DOM.div({className:\"canvas-plot-boxandwhiskerarray\"},React.DOM.svg({style:style,onMouseOver:tooltipOnMouseOver,onMouseOut:tooltipOnMouseOut},viewBody),this.getTooltip())}})}});\n",
        "define(\"plot_heatmap\",[\"react\",\"d3\",\"jquery\",\"common_controls\",\"common_util\"],function(React,d3,jQuery,Controls,Util){\"use strict\";var FRAME_PADDING=75;var TICK_WIDTH=10;var TICK_HEIGHT=10;var FRAME_THICKNESS=1;var formatLabels=function(num){if(d3.format(\".3g\")(num).length>7)return d3.format(\".1g\")(num);else return d3.format(\".3g\")(num)};function getRGB(binWeight,heatScale){var normalizedWeight=heatScale(binWeight);var red;var blue;var green;if(normalizedWeight<.5){red=0;blue=2*(1-2*normalizedWeight);if(blue>1)blue=1}else{blue=0;red=4*(normalizedWeight-.5);if(red>1)red=1}var distFromMiddle=Math.abs(normalizedWeight-.5);if(distFromMiddle<.25)green=1;else green=4*(.5-distFromMiddle);return[Math.floor(red*255),Math.floor(green*255),Math.floor(blue*255)]}function incrementAdjacentCells(array,incrementAmount,i,j){for(var iitr=i-1;iitr<=i+1;iitr++){if(iitr<0||iitr>=array.length)continue;for(var jitr=j-1;jitr<=j+1;jitr++){if(jitr<0||jitr>=array[i].length)continue;array[iitr][jitr]+=incrementAmount}}}var AxisLabel=React.createClass({displayName:\"AxisLabel\",handleClick:function(evt){var selected_column=[this.props.plotName,this.props.name];this.props.selectVariable(selected_column)},render:function(){var link=this.props.ipython?this.props.name:React.DOM.a({href:\"javascript:\",onClick:this.handleClick},this.props.name);return React.DOM.span({className:\"canvas-heatmap-axesLabel\",style:{position:\"absolute\",top:\"\"+this.props.y+\"px\",left:\"\"+this.props.x+\"px\",width:\"\"+this.props.width+\"px\"}},link)}});var CanvasFrame=React.createClass({displayName:\"CanvasFrame\",drawFrame:function(context){context.fillStyle=\"#444444\";context.fillRect(FRAME_PADDING,FRAME_PADDING,this.props.width,this.props.height);context.fillStyle=\"#0000FF\";context.fillRect(FRAME_THICKNESS+FRAME_PADDING,FRAME_THICKNESS+FRAME_PADDING,this.props.width-2*FRAME_THICKNESS,this.props.height-2*FRAME_THICKNESS)},drawTicksAndGrid:function(context){context.lineWidth=1;context.fillStyle=\"#333333\";for(var i=0;i<this.props.xScale.ticks().length;i++){var xValue=this.props.xScale.ticks()[i];if(this.props.gridlinesVisible){context.strokeStyle=\"#999999\";context.beginPath();context.moveTo(FRAME_PADDING+this.props.xScale(xValue),FRAME_PADDING);context.lineTo(FRAME_PADDING+this.props.xScale(xValue),FRAME_PADDING+this.props.height);context.stroke()}context.strokeStyle=\"#444444\";context.beginPath();context.moveTo(FRAME_PADDING+this.props.xScale(xValue),FRAME_PADDING+this.props.height-TICK_HEIGHT);context.lineTo(FRAME_PADDING+this.props.xScale(xValue),FRAME_PADDING+this.props.height+TICK_HEIGHT);context.stroke();context.font=\"12px Helvetica\";context.fillText(\"\"+formatLabels(xValue),FRAME_PADDING+this.props.xScale(xValue)-TICK_WIDTH/2,FRAME_PADDING+this.props.height+2*TICK_HEIGHT)}for(var i=0;i<this.props.yScale.ticks().length;i++){var yValue=this.props.yScale.ticks()[i];if(this.props.gridlinesVisible){context.strokeStyle=\"#999999\";context.beginPath();context.moveTo(FRAME_PADDING,FRAME_PADDING+this.props.yScale(yValue));context.lineTo(FRAME_PADDING+this.props.width,FRAME_PADDING+this.props.yScale(yValue));context.stroke()}context.strokeStyle=\"#444444\";context.beginPath();context.moveTo(FRAME_PADDING-TICK_WIDTH,FRAME_PADDING+this.props.yScale(yValue));context.lineTo(FRAME_PADDING+TICK_WIDTH,FRAME_PADDING+this.props.yScale(yValue));context.stroke();context.font=\"12px Helvetica\";context.fillText(\"\"+formatLabels(yValue),FRAME_PADDING/3,FRAME_PADDING+this.props.yScale(yValue))}},drawAxis:function(context){context.lineWidth=1;var axisXVal=this.props.xScale(0);if(axisXVal<0)axisXVal=0;else if(axisXVal>this.props.width)axisXVal=this.props.width;axisXVal+=FRAME_PADDING;context.strokeStyle=\"#222222\";context.beginPath();context.moveTo(axisXVal-1,FRAME_PADDING);context.lineTo(axisXVal-1,FRAME_PADDING+this.props.height);context.stroke();var axisYVal=this.props.yScale(0);if(axisYVal<0)axisYVal=0;else if(axisYVal>this.props.height)axisYVal=this.props.height;axisYVal+=FRAME_PADDING;context.strokeStyle=\"#222222\";context.beginPath();context.moveTo(FRAME_PADDING,axisYVal+1);context.lineTo(FRAME_PADDING+this.props.width,axisYVal+1);context.stroke()},drawBins:function(context){var binScreenWidth=this.props.xScale(this.props.binWidth)-this.props.xScale(0);var binScreenHeight=this.props.yScale(0)-this.props.yScale(this.props.binHeight);var maxWeight=Number.NEGATIVE_INFINITY;var minWeight=Number.POSITIVE_INFINITY;for(var i=0;i<this.props.bins.length;i++){for(var j=0;j<this.props.bins[i].length;j++){if(this.props.bins[i][j]>maxWeight)maxWeight=this.props.bins[i][j];if(this.props.bins[i][j]<minWeight)minWeight=this.props.bins[i][j]}}this.props.heatScale.domain([minWeight,maxWeight]).range([0,1]);if(this.props.heatScale.clamp()&&minWeight==0)this.props.heatScale.domain([1e-5,maxWeight]);for(var i=0;i<this.props.bins.length;i++){for(var j=0;j<this.props.bins[i].length;j++){var bin=this.props.bins[i][j];var xPos=this.props.xScale(this.props.binningDomain.minX+i*this.props.binWidth)+FRAME_PADDING;var yPos=this.props.yScale(this.props.binningDomain.maxY-j*this.props.binHeight)+FRAME_PADDING;if(xPos<FRAME_PADDING-binScreenWidth||xPos>FRAME_PADDING+this.props.width||yPos<FRAME_PADDING-binScreenHeight||yPos>FRAME_PADDING+this.props.height)continue;var binRenderWidth=binScreenWidth;var binRenderHeight=binScreenHeight;if(xPos<FRAME_PADDING)xPos=FRAME_PADDING;if(yPos>FRAME_PADDING+this.props.height-binScreenHeight)binRenderHeight=FRAME_PADDING+this.props.height-yPos;if(xPos>FRAME_PADDING+this.props.width-binScreenWidth)binRenderWidth=FRAME_PADDING+this.props.width-xPos;if(yPos<FRAME_PADDING)yPos=FRAME_PADDING;var rgb=getRGB(bin,this.props.heatScale);var rgbString=\"rgb(\"+rgb[0]+\",\"+rgb[1]+\",\"+rgb[2]+\")\";context.fillStyle=rgbString;context.fillRect(xPos,yPos,binRenderWidth,binRenderHeight)}}},drawGradientScale:function(context){var grd=context.createLinearGradient(this.props.width+FRAME_PADDING+5,75,this.props.width+FRAME_PADDING+30,275);grd.addColorStop(0,\"rgba(255, 0, 0, 1.000)\");grd.addColorStop(.25,\"rgba(255, 255, 0, 1.000)\");grd.addColorStop(.5,\"rgba(0, 255, 0, 1.000)\");grd.addColorStop(.75,\"rgba(0, 255, 255, 1.000)\");grd.addColorStop(1,\"rgba(0, 0, 255, 1.000)\");context.fillStyle=grd;context.fillRect(this.props.width+FRAME_PADDING+5,75,25,200);context.font=\"12px Helvetica\";context.strokeStyle=\"#444444\";context.fillStyle=\"#444444\";for(var i=0;i<3;i++){var colorWeight=i*.5;var pointWeight=this.props.heatScale.invert(colorWeight);if(isNaN(pointWeight)||pointWeight<1e-4){pointWeight=0}context.fillText(\"\"+formatLabels(pointWeight),this.props.width+FRAME_PADDING+30,(2-i)*100+75)}context.fillText(\"point density\",this.props.width+FRAME_PADDING,50)},draw:function(context){this.drawFrame(context);this.drawBins(context);this.drawTicksAndGrid(context);this.drawAxis(context);this.drawGradientScale(context)},componentDidMount:function(){var context=this.getDOMNode().getContext(\"2d\");this.draw(context)},componentDidUpdate:function(){var context=this.getDOMNode().getContext(\"2d\");context.clearRect(0,0,this.props.width+2*FRAME_PADDING,this.props.height+2*FRAME_PADDING);this.draw(context)},render:function(){return React.DOM.canvas({className:\"canvas-heatmap-canvas\",width:this.props.width+2*FRAME_PADDING,height:this.props.height+2*FRAME_PADDING})}});return{Heatmap:React.createClass({displayName:\"Heatmap\",getDefaultProps:function(){return{bins:[],binWidth:10,binHeight:10,width:500,height:500,extrema:{minX:0,maxX:10,minY:0,maxY:10},xLabel:\"\",yLabel:\"\",numValues:0}},getInitialState:function(){return{heatScale:d3.scale.linear(),gridlinesVisible:true,blurAmount:1,shouldShowBlur:true}},toggleGridlines:function(){this.setState({gridlinesVisible:!this.state.gridlinesVisible})},changeBlur:function(evt){var newBlurVal=evt.target.value;if(newBlurVal==0){this.setState({shouldShowBlur:false})}else{this.setState({shouldShowBlur:true})}this.setState({blurAmount:newBlurVal})},changeHeatFunction:function(event){var functionType=event.target.value;if(functionType==\"linear\")this.setState({heatScale:d3.scale.linear()});else if(functionType==\"log\")this.setState({heatScale:d3.scale.log().clamp(true)});else if(functionType==\"quadratic\")this.setState({heatScale:d3.scale.pow().exponent(2)});else if(functionType==\"sqrt\")this.setState({heatScale:d3.scale.sqrt()})},render:function(){var numIters=4;var alteredBins=$.extend(true,[],this.props.bins);if(this.state.shouldShowBlur){for(var k=0;k<numIters;k++){var incrementBins=$.extend(true,[],alteredBins);for(var i=0;i<alteredBins.length;i++){for(var j=0;j<alteredBins[i].length;j++){incrementAdjacentCells(alteredBins,this.state.blurAmount*incrementBins[i][j]/250,i,j)}}}var newNumValues=0;for(var i=0;i<alteredBins.length;i++){for(var j=0;j<alteredBins[i].length;j++){newNumValues+=alteredBins[i][j]}}var numCurrentValues=0;for(var i=0;i<this.props.bins.length;i++){for(var j=0;j<this.props.bins[i].length;j++){numCurrentValues+=this.props.bins[i][j]}}for(var i=0;i<alteredBins.length;i++){for(var j=0;j<alteredBins[i].length;j++){Math.round(alteredBins[i][j]*=numCurrentValues/newNumValues)}}}TICK_HEIGHT=this.props.height/50;TICK_WIDTH=this.props.width/50;var minX=this.props.domainToShow.minX;var minY=this.props.domainToShow.minY;var maxX=this.props.domainToShow.maxX;var maxY=this.props.domainToShow.maxY;var xScale=d3.scale.linear().domain([minX,maxX]).range([0,this.props.width]);var yScale=d3.scale.linear().domain([minY,maxY]).range([this.props.height,0]);var SliderControl=Controls.Slider;return React.DOM.div({className:\"canvas-heatmap-frame\"},CanvasFrame({className:\"canvas-heatmap-canvasFrame\",width:this.props.width,height:this.props.height,xScale:xScale,yScale:yScale,heatScale:this.state.heatScale,bins:alteredBins,originalBins:this.props.bins,binWidth:this.props.binWidth,binHeight:this.props.binHeight,binningDomain:this.props.extrema,numValues:this.props.numValues,gridlinesVisible:this.state.gridlinesVisible,shouldShowBlur:this.state.shouldShowBlur}),React.DOM.input({className:\"canvas-heatmap-toggleButton\",type:\"checkbox\",name:\"gridlineToggle\",onChange:this.toggleGridlines,style:{position:\"absolute\",top:\"\"+(this.props.height+2*FRAME_PADDING+25)/2+\"px\",left:\"\"+(this.props.width+2*FRAME_PADDING)+\"px\"}}),React.DOM.p({className:\"canvas-heatmap-toggleLabel\",style:{position:\"absolute\",top:\"\"+(this.props.height+2*FRAME_PADDING+25)/2+\"px\",left:\"\"+(this.props.width+2.25*FRAME_PADDING)+\"px\",width:\"200px\"}},\"Hide Gridlines\"),SliderControl({label:\"blur\",min:0,max:100,value:this.state.blurAmount,onChange:this.changeBlur}),React.DOM.select({className:\"canvas-heatmap-changeFunction\",type:\"checkbox\",name:\"functionSelect\",onChange:this.changeHeatFunction,style:{position:\"absolute\",top:\"\"+(this.props.height+2*FRAME_PADDING-25)/2+\"px\",left:\"\"+(this.props.width+2*FRAME_PADDING)+\"px\"}},React.DOM.option({value:\"linear\"},\"Linear\"),React.DOM.option({value:\"quadratic\"},\"Quadratic\"),React.DOM.option({value:\"sqrt\"},\"Square Root\"),React.DOM.option({value:\"log\"},\"Logarithmic\")),React.DOM.p({className:\"canvas-heatmap-toggleLabel\",style:{position:\"absolute\",top:\"\"+(this.props.height+2*FRAME_PADDING-75)/2+\"px\",left:\"\"+(this.props.width+2*FRAME_PADDING)+\"px\",width:\"200px\"}},\"Heat Scaling Function\"),[{name:this.props.xLabel,x:FRAME_PADDING,y:this.props.height+FRAME_PADDING*1.5,width:this.props.width},{name:this.props.yLabel,x:0,y:FRAME_PADDING/2.5,width:\"auto\"}].map(function(axis,idx){return AxisLabel({key:idx,name:axis.name,selectVariable:this.props.selectVariable,plotName:this.props.plotName,x:axis.x,y:axis.y,width:axis.width,ipython:this.props.ipython})}.bind(this)))}})}});\n",
        "define(\"plot_quantilehist\",[\"react\",\"d3\",\"common_controls\",\"common_util\"],function(React,d3,Controls,Util){\"use strict\";return{QuantileHistogram:React.createClass({displayName:\"QuantileHistogram\",mixins:[Controls.Tooltip],setScale:function(axis,evt){var scale=evt.target.value;var newScale={};newScale[axis]=scale;this.setState({scale:Util.merge(this.state.scale,newScale)})},setBinCount:function(evt){this.setState({binCount:Number(evt.target.value)})},getInitialState:function(){return{binCount:null,scale:{x:\"linear\",y:\"linear\"}}},render:function(){var quantile=this.props.quantile.slice();if(quantile.length===0){return React.DOM.div(null)}var width=500,height=500;var plotWidth=width*.75,plotHeight=height*.65;var plotX=width*.175,plotY=height*.175;var min=d3.min(quantile);var max=d3.max(quantile);var range=max-min;var xBinCount=this.state.binCount!=null?this.state.binCount:this.props.starting_bins;var binScale=d3.scale[this.state.scale.x]().domain([1,xBinCount+1]).range([min,max]);var bins=[];var idx=0;var bin=0;for(var i=0;i<xBinCount;i++){var binMin=binScale(i+1);var binMax=binScale(i+2);bin=0;while(idx<quantile.length-1&&d3.mean([quantile[idx],quantile[idx+1]])<=binMax){bin++,idx++}bins.push(bin)}Util.assert(d3.sum(bins)===quantile.length-1);var yBinCount=d3.max(bins);var scaleX=d3.scale.linear().domain([0,xBinCount]).range([plotX,plotX+plotWidth]);var scaleY=d3.scale.linear().domain([0,yBinCount]).range([plotY,plotY+plotHeight]);var scaleYforLabels=d3.scale.linear().domain([0,yBinCount*.01*this.props.rows]).range([plotY+plotHeight,plotY]);var xTicks=d3.range(bins.length+1);var yTicks=scaleYforLabels.ticks(7);var xLabelPrefix=d3.formatPrefix(max>2?max/2:max);var xLabelPrefixSymbol=Util.siPrefixToShortScale(xLabelPrefix.symbol);var xLabels=xTicks.map(function(x,idx){return{text:d3.round(xLabelPrefix.scale(binScale(x+1)),2),idx:idx}});while(xLabels.length>8){xLabels=xLabels.filter(function(item,idx){return idx%2==0})}var yLabelPrefixMax=yBinCount*.01*this.props.rows;var yLabelPrefix=d3.formatPrefix(yLabelPrefixMax>2?yLabelPrefixMax/2:yLabelPrefixMax);var yLabelPrefixSymbol=Util.siPrefixToShortScale(yLabelPrefix.symbol);var yLabels=yTicks.map(yLabelPrefix.scale);var squares=[];squares=squares.concat.apply(squares,bins.map(function(bin,idx){return d3.range(bin).map(function(y){return[String(scaleX(idx))+\"px\",String(scaleY(yBinCount-(y+1)))+\"px\"]}.bind(this))}.bind(this)));var SliderControl=Controls.Slider;var tooltipLine=function(currNum,nextNum){var curr=Util.formatNumber(currNum);var next=Util.formatNumber(nextNum);if(curr==next){return\" \"+curr}else{return\" between \"+curr+\" and \"+next}}.bind(this);return React.DOM.div({className:\"canvas-quantile-histogram\"},React.DOM.svg({style:{width:width,height:height},preserveAspectRatio:\"xMinYMin\"},squares.map(function(position,idx){return React.DOM.rect({className:\"bar\",key:idx,width:plotWidth/xBinCount,height:plotHeight/yBinCount,x:0,y:0,style:{transform:\"translate(\"+position.join(\", \")+\")\",\"-webkit-transform\":\"translate(\"+position.join(\", \")+\")\"},onMouseOver:this.tooltipMouseOver.bind(this,React.DOM.span(null,\"Rows between the \",Util.numberWithSuffix(idx),\" and \",Util.numberWithSuffix(idx+1),\" quantiles have values approximately \",tooltipLine(quantile[idx],quantile[idx+1]),\".\")),onMouseOut:this.tooltipMouseOut})}.bind(this)),React.DOM.rect({x:plotX,y:plotY,width:plotWidth,height:plotHeight,fill:\"none\",className:\"canvas-sarray-plot-axes\"}),xTicks.map(function(bin,idx){var x=scaleX(bin);var y=plotHeight+plotY;return React.DOM.line({key:idx,x1:x,x2:x,y1:y,y2:y+8,className:\"canvas-sarray-plot-axes\"})}.bind(this)),xLabels.map(function(label,idx){return React.DOM.text({key:idx,x:scaleX(label.idx),y:plotHeight+plotY+20,textAnchor:\"middle\",className:\"canvas-histogram-label\"},Util.formatNumber(label.text))}.bind(this)),yTicks.map(function(freq,idx){var y=scaleYforLabels(freq);return React.DOM.g({key:idx},React.DOM.line({x1:plotX-8,x2:plotX,y1:y,y2:y,className:\"canvas-sarray-plot-axes\"}),React.DOM.text({x:plotX-12,y:y+4,textAnchor:\"end\",className:\"canvas-histogram-label\"},Util.formatNumber(yLabels[idx])))}.bind(this)),React.DOM.text({x:plotX+plotWidth/2,y:40,textAnchor:\"middle\",className:\"canvas-histogram-title\"},\"Histogram of quantiles\"),React.DOM.text({x:plotX,y:plotY-28,textAnchor:\"end\",className:\"canvas-histogram-axis-title\"},\"Frequency\"),React.DOM.text({x:plotX,y:plotY-12,textAnchor:\"end\",className:\"canvas-histogram-axis-subtitle\"},yLabelPrefixSymbol?\"(in \"+yLabelPrefixSymbol+\"s)\":null)),React.DOM.div({className:\"canvas-histogram-x-axis\"},React.DOM.div(null,React.DOM.span(null,this.props.selected_column,\"\u00a0\")),React.DOM.div(null,xLabelPrefixSymbol?\"(in \"+xLabelPrefixSymbol+\"s)\":null)),SliderControl({label:\"bins\",min:2,max:100,value:xBinCount,onChange:this.setBinCount}),this.getTooltip())}})}});\n",
        "define(\"plot_graph\",[\"react\",\"d3\",\"dagre\",\"common_util\",\"common_controls\"],function(React,d3,dagre,Util,Controls){\"use strict\";var plotSize=600;var plotPadding=50;var Edge=React.createClass({displayName:\"Edge\",render:function(){var e=this.props.edge;var lines=[];for(var i=0;i<e.points.length-1;i++){var p1=e.points[i];var p2=e.points[i+1];var x1=this.props.scaleX(p1[0]);var y1=this.props.scaleY(p1[1]);var x2=this.props.scaleX(p2[0]);var y2=this.props.scaleY(p2[1]);var props={key:i,x1:x1,y1:y1,x2:x2,y2:y2,style:{stroke:this.props.ecolor,strokeWidth:this.props.ewidth}};var line=React.DOM.line(props);lines.push(line);if(this.props.arrows&&i==e.points.length-2){var dx=x2-x1;var dy=y2-y1;var m=dy/dx;var s=this.props.ewidth*5;var L=Math.sqrt(dx*dx+dy*dy);var f=s*2/L;var vertexOffset=(this.props.vertexRadius-2)/L;var p_tip=[x2-dx*vertexOffset,y2-dy*vertexOffset];var p_back=[p_tip[0]-dx*f,p_tip[1]-dy*f];var xOffset=Math.sqrt(s*s*(m*m)/(m*m+1));var yOffset=-1/m*xOffset;var p_left=[p_back[0]+xOffset,p_back[1]+yOffset];var p_right=[p_back[0]-xOffset,p_back[1]-yOffset];var points=[p_tip,p_left,p_right];points=points.map(function(p){return p.join(\",\")}).join(\" \");lines.push(React.DOM.polygon({key:\"arrow\",points:points,fill:this.props.ecolor,strokeWidth:0}))}}return React.DOM.g({onMouseOver:this.props.onMouseOver,onMouseOut:this.props.onMouseOut},lines)}});var Vertex=React.createClass({displayName:\"Vertex\",render:function(){var x1=this.props.scaleX(this.props.vertex.x);var y1=this.props.scaleY(this.props.vertex.y);Util.assert(x1>=0);Util.assert(y1>=0);var fill=this.props.vcolor;if(this.props.vertex.value in this.props.highlight){fill=this.props.highlight[this.props.vertex.value]}var props={onMouseOver:this.props.onMouseOver,onMouseOut:this.props.onMouseOut,r:this.props.vertexRadius,cx:x1,cy:y1,style:{fill:fill}};return React.DOM.circle(props)}});var Label=React.createClass({displayName:\"Label\",render:function(){return React.DOM.g(null,React.DOM.text({x:this.props.x,y:this.props.y,style:{textAnchor:\"middle\",fill:\"white\",stroke:\"white\",strokeWidth:5,opacity:.9}},this.props.text),React.DOM.text({x:this.props.x,y:this.props.y,style:{textAnchor:\"middle\",fill:\"black\"}},this.props.text))}});var layoutAlgorithms={forceDirected:function(vertices,edges){var force=d3.layout.force().nodes(vertices).links(edges).charge(-60).linkDistance(20).start();for(var i=0;force.alpha()>0&&i<1e3;i++){force.tick()}force.stop();force.links().map(function(e){e[\"points\"]=[[e.source.x,e.source.y],[e.target.x,e.target.y]]});return{vertices:force.nodes(),edges:force.links()}}};return{GraphLayout:React.createClass({displayName:\"GraphLayout\",statics:{layoutAlgorithms:layoutAlgorithms,layout:function(props){var getVertex=function(value){var vertex=props.vertices.indexOf(value);Util.assert(vertex!=-1);return vertex};return props.layoutAlgorithm(props.vertices.map(function(v,idx){return{value:v,label:props.vlabels!==null?props.vlabels[idx]:null}}),props.edges.map(function(e,idx){return{source:getVertex(e[0]),target:getVertex(e[1]),label:props.elabels!==null?props.elabels[idx]:null}}))}},getDefaultProps:function(){return{layoutAlgorithm:this.layoutAlgorithms.forceDirected}},getInitialState:function(){return{graph:this.constructor.layout(this.props),vertexHover:null,edgeHover:null}},componentWillReceiveProps:function(nextProps){this.setState({graph:this.constructor.layout(nextProps)})},onVertexMouseOver:function(vertex){this.setState({vertexHover:vertex})},onVertexMouseOut:function(){this.setState({vertexHover:null})},onEdgeMouseOver:function(edge){this.setState({edgeHover:edge})},onEdgeMouseOut:function(){this.setState({edgeHover:null})},render:function(){var vertexRadius=this.props.node_size;var graph=this.state.graph;var vx=graph.vertices.map(function(v){return v.x});var vy=graph.vertices.map(function(v){return v.y});var effectiveWidth=d3.max(vx)-d3.min(vx);var effectiveHeight=d3.max(vy)-d3.min(vy);var aspectRatio=effectiveWidth/effectiveHeight;var scaleX,_scaleY;if(aspectRatio>1){scaleX=d3.scale.linear().domain([d3.min(vx),d3.max(vx)]).range([plotPadding,plotSize-plotPadding]);_scaleY=d3.scale.linear().domain([d3.min(vy),d3.max(vy)]).range([plotPadding,(plotSize-plotPadding)/aspectRatio])}else{scaleX=d3.scale.linear().domain([d3.min(vx),d3.max(vx)]).range([plotPadding,(plotSize-plotPadding)*aspectRatio]);_scaleY=d3.scale.linear().domain([d3.min(vy),d3.max(vy)]).range([plotPadding,plotSize-plotPadding])}var vyScaledMax=d3.max(vy.map(_scaleY));var scaleY=function(y){return plotSize-plotPadding-(plotSize-2*plotPadding-vyScaledMax+_scaleY(y))};return React.DOM.div(null,React.DOM.svg({width:plotSize,height:plotSize},graph.edges.map(function(e,idx){return Edge({key:idx,edge:e,ewidth:this.props.ewidth,ecolor:this.props.ecolor,scaleX:scaleX,scaleY:scaleY,arrows:this.props.arrows,vertexRadius:vertexRadius,onMouseOver:this.onEdgeMouseOver.bind(null,idx),onMouseOut:this.onEdgeMouseOut})}.bind(this)),graph.vertices.map(function(n,idx){return Vertex({key:idx,vertex:n,vertexRadius:vertexRadius,vcolor:this.props.vcolor,highlight:this.props.highlight,scaleX:scaleX,scaleY:scaleY,onMouseOver:this.onVertexMouseOver.bind(null,idx),onMouseOut:this.onVertexMouseOut})}.bind(this)),this.props.elabels.map(function(label,idx){if(this.props.elabel_hover&&this.state.edgeHover!==idx){return null}return Label({key:idx,x:scaleX(d3.mean(graph.edges[idx].points.map(function(p){return p[0]}))),y:scaleY(d3.mean(graph.edges[idx].points.map(function(p){return p[1]}))),text:typeof label===\"number\"?Util.formatNumber(label):label})}.bind(this)),this.props.vlabels.map(function(label,idx){if(this.props.vlabel_hover&&this.state.vertexHover!==idx){return null}return Label({key:idx,x:scaleX(graph.vertices[idx].x)+this.props.h_offset*plotSize,y:scaleY(graph.vertices[idx].y)-this.props.v_offset*plotSize,v_offset:this.props.v_offset,h_offset:this.props.h_offset,text:typeof label===\"number\"?Util.formatNumber(label):label})}.bind(this))))}})}});\n",
        "define(\"plot_scatter\",[\"react\",\"d3\",\"jquery\",\"common_controls\",\"common_util\"],function(React,d3,jQuery,Controls,Util){\"use strict\";var LINE_GRAPH_THRESHOLD=1e3;var FRAME_PADDING=75;var FRAME_THICKNESS=1;var TICK_WIDTH=10;var TICK_HEIGHT=10;var PADDING_FRACTION=.01;var POINT_RADIUS=5;var SHIFT_DURATION=1;var SCROLL_DOMAIN_FRACTION=.9;var defaultNumericalFormatter=d3.format(\".3g\");var formatLabels=function(num,isMetrics){if(isMetrics){var d=new Date(num);var t=d3.time.format(\"%I %p\")(d);return d3.time.format(\"%I %p\")(d)}var intNum=parseInt(num,10);if(!isNaN(intNum)&&num/1e5<1){return num.toString()}var floatNum=parseFloat(num);var floatString=num.toFixed(5);if(!isNaN(floatNum)&&floatNum<1&&Number(floatString)!==0){return floatString}if(defaultNumericalFormatter(num).length>7)return d3.format(\".1g\")(num);else return defaultNumericalFormatter(num)};var PointsRenderer=React.createClass({displayName:\"PointsRenderer\",render:function(){var xScale=this.props.xScaleFunc;var yScale=this.props.yScaleFunc;var height=this.props.height;var width=this.props.width;var data=this.props.data;if(this.props.shouldShowLineGraph){data=Util.deepCopy(data);data.sort(function(point1,point2){return point1.x-point2.x})}function getOpacity(point,idx){if(xScale(point.x)<0||xScale(point.x)>width||yScale(point.y)<0||yScale(point.y)>height)return 0;else return 1}var pointNodes=null;if(!this.props.shouldShowLineGraph){pointNodes=data.map(function(point,idx){var xPos=xScale(point.x)+FRAME_PADDING;var yPos=yScale(point.y)+FRAME_PADDING;if(xPos<FRAME_PADDING)xPos=FRAME_PADDING-5;if(xPos>width+FRAME_PADDING)xPos=width+FRAME_PADDING+5;if(yPos<FRAME_PADDING)yPos=FRAME_PADDING-5;if(yPos>FRAME_PADDING+height)yPos=height+FRAME_PADDING+5;var key=idx;return React.DOM.circle({className:\"canvas-scatter-point\",cx:\"0\",cy:\"0\",style:{transform:\"translate(\"+xPos+\"px, \"+yPos+\"px)\",\"-webkit-transform\":\"translate(\"+xPos+\"px, \"+yPos+\"px)\",opacity:\"\"+getOpacity(point,idx)},r:POINT_RADIUS,key:key},React.DOM.title(null,\" \",\"(\"+point.x+\", \"+point.y+\")\",\" \"))})}var lines=[];if(this.props.shouldShowLineGraph){var previousX=null;var previousY=null;for(var i=0;i<data.length;i++){if(previousX!=null&&previousY!=null){var x1=xScale(previousX)+FRAME_PADDING;var y1=yScale(previousY)+FRAME_PADDING;var x2=xScale(data[i].x)+FRAME_PADDING;var y2=yScale(data[i].y)+FRAME_PADDING;var lineTooltip=\"(\"+previousX+\", \"+previousY+\") -> (\"+data[i].x+\", \"+data[i].y+\")\";var opacity=1;if(x2<FRAME_PADDING||x1>FRAME_PADDING+width)opacity=0;if(y1<FRAME_PADDING&&y2<FRAME_PADDING||y1>FRAME_PADDING+height&&y2>FRAME_PADDING+height)opacity=0;if(x1<FRAME_PADDING)x1=FRAME_PADDING;if(x1>FRAME_PADDING+width)x1=FRAME_PADDING+width;if(x2<FRAME_PADDING)x2=FRAME_PADDING;if(x2>FRAME_PADDING+width)x2=FRAME_PADDING+width;if(y1<FRAME_PADDING)y1=FRAME_PADDING;if(y1>FRAME_PADDING+height)y1=FRAME_PADDING+height;if(y2<FRAME_PADDING)y2=FRAME_PADDING;if(y2>FRAME_PADDING+height)y2=FRAME_PADDING+height;lines.push(React.DOM.line({className:\"canvas-scatter-lineGraph\",x1:x1,y1:y1,x2:x2,y2:y2,style:{opacity:opacity},key:i},React.DOM.title(null,\" \",lineTooltip,\" \")))}previousX=data[i].x;previousY=data[i].y}}return React.DOM.g(null,lines,pointNodes)}});var TrendlineRenderer=React.createClass({displayName:\"TrendlineRenderer\",render:function(){var width=this.props.width;var height=this.props.height;var coefficients=this.props.coefficients;var xScale=this.props.xScaleFunc;var yScale=this.props.yScaleFunc;if(coefficients.m==null||!this.props.trendlineVisible){return React.DOM.g(null,\" \")}var x1=FRAME_PADDING;var y1=FRAME_PADDING+yScale(xScale.invert(0)*coefficients.m+coefficients.b);var y2=FRAME_PADDING+yScale(xScale.invert(width)*coefficients.m+coefficients.b);var x2=width+FRAME_PADDING;if(y1<FRAME_PADDING){y1=FRAME_PADDING;x1=FRAME_PADDING+xScale((yScale.invert(0)-coefficients.b)/coefficients.m)}if(y1>height+FRAME_PADDING){y1=height+FRAME_PADDING;x1=FRAME_PADDING+xScale((yScale.invert(height)-coefficients.b)/coefficients.m)}if(y2<FRAME_PADDING){y2=FRAME_PADDING;x2=FRAME_PADDING+xScale((yScale.invert(0)-coefficients.b)/coefficients.m)}if(y2>height+FRAME_PADDING){y2=height+FRAME_PADDING;x2=FRAME_PADDING+xScale((yScale.invert(height)-coefficients.b)/coefficients.m)}var trendlineEquation=\"y = \"+coefficients.m+\"x + \"+coefficients.b;return React.DOM.g(null,React.DOM.line({className:\"canvas-scatter-trendline\",x1:x1,y1:y1,x2:x2,y2:y2},React.DOM.title(null,trendlineEquation)))}});var AxisRenderer=React.createClass({displayName:\"AxisRenderer\",render:function(){var isMetrics=this.props.isMetrics;var xScale=isMetrics?this.props.xTimeScaleFunc:this.props.xScaleFunc;var yScale=this.props.yScaleFunc;var width=this.props.width;var height=this.props.height;var gridlinesVisible=this.props.gridlinesVisible;var axisXVal=xScale(0);if(axisXVal<0){axisXVal=0}else if(axisXVal>width){axisXVal=width}axisXVal+=FRAME_PADDING;var axisYVal=yScale(0);if(axisYVal<0){axisYVal=0}else if(axisYVal>height){axisYVal=height}axisYVal+=FRAME_PADDING;var gridlineVisibility=gridlinesVisible?\"visible\":\"hidden\";var xTicks=isMetrics?xScale.ticks(d3.time.hour,2):xScale.ticks();var xLinesAndLabels=xTicks.map(function(xValue,idx){return React.DOM.g({key:\"Xg-\"+idx},React.DOM.line({className:\"canvas-scatter-gridlines\",x1:\"0\",x2:\"0\",y1:FRAME_PADDING,y2:height+FRAME_PADDING,key:\"Xgridline-\"+xValue,style:{transform:\"translate(\"+(xScale(xValue)+FRAME_PADDING)+\"px, \"+0+\"px)\",\"-webkit-transform\":\"translate(\"+(xScale(xValue)+FRAME_PADDING)+\"px, \"+0+\"px)\",\"transition-property\":\"transform\",\"-webkit-transition-property\":\"-webkit-transform\",\"transition-duration\":\"\"+SHIFT_DURATION+\"s\",\"-webkit-transition-duration\":\"\"+SHIFT_DURATION+\"s\",visibility:gridlineVisibility}}),React.DOM.line({className:\"canvas-scatter-ticks\",x1:\"0\",x2:\"0\",y1:height+FRAME_PADDING+TICK_HEIGHT/2,y2:height+FRAME_PADDING-TICK_HEIGHT/2,key:\"Xticks-\"+xValue,style:{transform:\"translate(\"+(xScale(xValue)+FRAME_PADDING)+\"px, \"+0+\"px)\",\"-webkit-transform\":\"translate(\"+(xScale(xValue)+FRAME_PADDING)+\"px, \"+0+\"px)\",\"transition-property\":\"transform\",\"-webkit-transition-property\":\"-webkit-transform\",\"-webkit-transition-duration\":\"\"+SHIFT_DURATION+\"s\",\"transition-duration\":\"\"+SHIFT_DURATION+\"s\"}}),React.DOM.text({className:\"canvas-scatter-numLabel\",x:xScale(xValue)+FRAME_PADDING,y:height+FRAME_PADDING*1.35,key:\"XnumLabel-\"+xValue},formatLabels(xValue,isMetrics)))});var yLinesAndLabels=yScale.ticks().map(function(yValue,idx){return React.DOM.g({key:\"Yg-\"+idx},React.DOM.line({className:\"canvas-scatter-gridlines\",x1:FRAME_PADDING,x2:width+FRAME_PADDING,y1:0,y2:0,key:\"Ygridline-\"+yValue,style:{transform:\"translate(\"+0+\"px, \"+(yScale(yValue)+FRAME_PADDING)+\"px)\",\"-webkit-transform\":\"translate(\"+0+\"px, \"+(yScale(yValue)+FRAME_PADDING)+\"px)\",\"transition-property\":\"transform\",\"-webkit-transition-property\":\"-webkit-transform\",\"transition-duration\":\"\"+SHIFT_DURATION+\"s\",\"-webkit-transition-duration\":\"\"+SHIFT_DURATION+\"s\",visibility:gridlineVisibility}}),React.DOM.line({className:\"canvas-scatter-ticks\",x1:FRAME_PADDING-TICK_WIDTH/2,x2:FRAME_PADDING+TICK_WIDTH/2,y1:0,y2:0,key:\"Yticks-\"+yValue,style:{transform:\"translate(\"+0+\"px, \"+(yScale(yValue)+FRAME_PADDING)+\"px)\",\"-webkit-transform\":\"translate(\"+0+\"px, \"+(yScale(yValue)+FRAME_PADDING)+\"px)\",\"transition-property\":\"transform\",\"-webkit-transition-property\":\"-webkit-transform\",\"-webkit-transition-duration\":\"\"+SHIFT_DURATION+\"s\",\"transition-duration\":\"\"+SHIFT_DURATION+\"s\"}}),React.DOM.text({className:\"canvas-scatter-numLabel\",x:FRAME_PADDING/1.75,y:yScale(yValue)+FRAME_PADDING+4,key:\"YnumLabel-\"+yValue},formatLabels(yValue,false)))});return React.DOM.g(null,xLinesAndLabels,yLinesAndLabels,React.DOM.line({className:\"canvas-scatter-axes\",x1:0,y1:FRAME_PADDING,x2:0,y2:height+FRAME_PADDING,style:{transform:\"translate(\"+axisXVal+\"px, \"+0+\"px)\",\"-webkit-transform\":\"translate(\"+axisXVal+\"px, \"+0+\"px)\",\"transition-property\":\"transform\",\"-webkit-transition-property\":\"-webkit-transform\",\"-webkit-transition-duration\":\"\"+SHIFT_DURATION+\"s\",\"transition-duration\":\"\"+SHIFT_DURATION+\"s\"}}),React.DOM.line({className:\"canvas-scatter-axes\",x1:FRAME_PADDING,y1:0,x2:width+FRAME_PADDING,y2:0,style:{transform:\"translate(\"+0+\"px, \"+axisYVal+\"px)\",\"-webkit-transform\":\"translate(\"+0+\"px, \"+axisYVal+\"px)\",\"transition-property\":\"transform\",\"-webkit-transition-property\":\"-webkit-transform\",\"-webkit-transition-duration\":\"\"+SHIFT_DURATION+\"s\",\"transition-duration\":\"\"+SHIFT_DURATION+\"s\"}}))}});var AxisLabel=React.createClass({displayName:\"AxisLabel\",handleClick:function(evt){var selected_column=[this.props.plotName,this.props.name];this.props.selectVariable(selected_column)},render:function(){var link=this.props.ipython?this.props.name:React.DOM.a({href:\"javascript:\",onClick:this.handleClick},this.props.name);return React.DOM.span({className:\"canvas-scatter-axesLabel\",style:{position:\"absolute\",top:\"\"+this.props.y+\"px\",left:\"\"+this.props.x+\"px\",width:\"\"+this.props.width+\"px\"}},link)}});return{Scatter:React.createClass({displayName:\"Scatter\",getDefaultProps:function(){return{width:500,height:500,data:[],extrema:{minX:0,maxX:10,minY:0,maxY:10},xLabel:\"\",yLabel:\"\",coefficients:{},lineGraph:false,isMetrics:false}},getInitialState:function(){var paddedExtrema=this.props.isMetrics?this.props.extrema:this.padExtrema(this.props.extrema);return{domainToShow:paddedExtrema,gridlinesVisible:true,trendlineVisible:this.props.isMetrics?false:true}},padExtrema:function(extrema){var originalDomain=extrema.maxX-extrema.minX;var originalRange=extrema.maxY-extrema.minY;var paddedExtrema={};paddedExtrema.minX=extrema.minX-PADDING_FRACTION*originalDomain;paddedExtrema.minY=extrema.minY-PADDING_FRACTION*originalRange;paddedExtrema.maxX=extrema.maxX+PADDING_FRACTION*originalDomain;paddedExtrema.maxY=extrema.maxY+PADDING_FRACTION*originalRange;return paddedExtrema},toggleTrendline:function(){this.setState({trendlineVisible:!this.state.trendlineVisible})},toggleGridlines:function(){this.setState({gridlinesVisible:!this.state.gridlinesVisible})},componentWillReceiveProps:function(nextProps){this.setState({domainToShow:nextProps.isMetrics?nextProps.extrema:this.padExtrema(nextProps.extrema)})},render:function(){TICK_HEIGHT=this.props.height/50;TICK_WIDTH=this.props.width/50;var minX=this.state.domainToShow.minX;var minY=this.state.domainToShow.minY;var maxX=this.state.domainToShow.maxX;var maxY=this.state.domainToShow.maxY;if(this.props.lineGraph){var range=maxY-minY;maxY+=range/4;var newMinY=minY-range/4;if(newMinY<0&&minY>=0){newMinY=0}if(newMinY>0&&newMinY-0<range/4){newMinY=0}minY=newMinY}var xScale=d3.scale.linear().domain([minX,maxX]).range([0,this.props.width]);var xTimeScale=d3.time.scale().domain([new Date(minX*1e3),new Date(maxX*1e3)]).range([0,this.props.width]);var yScale=d3.scale.linear().domain([minY,maxY]).range([this.props.height,0]);var trendlineButtonVisiblity=this.props.coefficients.m==null?\"hidden\":\"visible\";function wheelScrolled(e){if(this.props.isMetrics){return}e.preventDefault();var zoomScreenX=e.pageX-$(\".canvas-scatter-rectFrame\").offset().left;var zoomScreenY=e.pageY-$(\".canvas-scatter-rectFrame\").offset().top;if(zoomScreenX<0||zoomScreenX>this.props.width||zoomScreenY<0||zoomScreenY>this.props.height){return}var zoomValueX=xScale.invert(zoomScreenX);var zoomValueY=yScale.invert(zoomScreenY);if(e.deltaY<0){var newDomainXSize=(this.state.domainToShow.maxX-this.state.domainToShow.minX)*SCROLL_DOMAIN_FRACTION;var newDomainYSize=(this.state.domainToShow.maxY-this.state.domainToShow.minY)*SCROLL_DOMAIN_FRACTION;var newDomainToShow={};if(zoomValueX-newDomainXSize/2<this.state.domainToShow.minX){newDomainToShow.minX=this.state.domainToShow.minX;newDomainToShow.maxX=this.state.domainToShow.minX+newDomainXSize}else if(zoomValueX+newDomainXSize/2>this.state.domainToShow.maxX){newDomainToShow.maxX=this.state.domainToShow.maxX;newDomainToShow.minX=this.state.domainToShow.maxX-newDomainXSize}else{newDomainToShow.minX=zoomValueX-newDomainXSize/2;newDomainToShow.maxX=zoomValueX+newDomainXSize/2}if(zoomValueY-newDomainYSize/2<this.state.domainToShow.minY){newDomainToShow.minY=this.state.domainToShow.minY;newDomainToShow.maxY=this.state.domainToShow.minY+newDomainYSize}else if(zoomValueY+newDomainYSize/2>this.state.domainToShow.maxY){newDomainToShow.maxY=this.state.domainToShow.maxY;newDomainToShow.minY=this.state.domainToShow.maxY-newDomainYSize}else{newDomainToShow.minY=zoomValueY-newDomainYSize/2;newDomainToShow.maxY=zoomValueY+newDomainYSize/2}this.setState({domainToShow:newDomainToShow})}else{this.setState({domainToShow:this.padExtrema(this.props.extrema)})}}return React.DOM.div({className:\"canvas-scatter-frame\"},React.DOM.svg({className:\"canvas-scatter-svgFrame\",width:this.props.width+2*FRAME_PADDING,height:this.props.height+2*FRAME_PADDING,onWheel:wheelScrolled.bind(this)},React.DOM.rect({className:\"canvas-scatter-rectFrame\",width:this.props.width,height:this.props.height,x:FRAME_PADDING,y:FRAME_PADDING}),AxisRenderer({xScaleFunc:xScale,xTimeScaleFunc:xTimeScale,yScaleFunc:yScale,width:this.props.width,height:this.props.height,gridlinesVisible:this.state.gridlinesVisible,isMetrics:this.props.isMetrics}),TrendlineRenderer({xScaleFunc:xScale,yScaleFunc:yScale,width:this.props.width,height:this.props.height,coefficients:this.props.coefficients,trendlineVisible:this.state.trendlineVisible}),PointsRenderer({data:this.props.data,xScaleFunc:xScale,yScaleFunc:yScale,height:this.props.height,width:this.props.width,shouldShowLineGraph:this.props.lineGraph})),function(){if(!this.props.isMetrics){return React.DOM.div(null,React.DOM.input({className:\"canvas-scatter-toggleButton\",type:\"checkbox\",name:\"trendlineToggle\",onClick:this.toggleTrendline,style:{position:\"absolute\",top:\"\"+(this.props.height+2*FRAME_PADDING-25)/2+\"px\",left:\"\"+(this.props.width+1.5*FRAME_PADDING)+\"px\",visibility:trendlineButtonVisiblity}}),React.DOM.p({className:\"canvas-scatter-toggleLabel\",style:{position:\"absolute\",top:\"\"+(this.props.height+2*FRAME_PADDING-25)/2+\"px\",left:\"\"+(this.props.width+1.75*FRAME_PADDING)+\"px\",visibility:trendlineButtonVisiblity}},\"Toggle trendline\"),React.DOM.input({className:\"canvas-scatter-toggleButton\",type:\"checkbox\",name:\"gridlineToggle\",onClick:this.toggleGridlines,style:{position:\"absolute\",top:\"\"+(this.props.height+2*FRAME_PADDING+25)/2+\"px\",left:\"\"+(this.props.width+1.5*FRAME_PADDING)+\"px\"}}),React.DOM.p({className:\"canvas-scatter-toggleLabel\",style:{position:\"absolute\",top:\"\"+(this.props.height+2*FRAME_PADDING+25)/2+\"px\",left:\"\"+(this.props.width+1.75*FRAME_PADDING)+\"px\"}},\"Toggle gridlines\"))}}.bind(this),[{name:this.props.xLabel,x:FRAME_PADDING,y:this.props.height+FRAME_PADDING*1.5,width:this.props.width},{name:this.props.yLabel,x:0,y:FRAME_PADDING/2.5,width:\"auto\"}].map(function(axis,idx){return AxisLabel({key:idx,name:axis.name,selectVariable:this.props.selectVariable,plotName:this.props.plotName,x:axis.x,y:axis.y,width:axis.width,ipython:this.props.ipython})}.bind(this)))}})}});\n",
        "define(\"plots\",[\"common_util\",\"plot_frequency\",\"plot_box\",\"plot_boxes\",\"plot_quantilehist\",\"plot_graph\",\"plot_scatter\",\"plot_heatmap\",\"plot_bar\"],function(Util){\"use strict\";var ret={};var args=Array.prototype.slice.call(arguments,1);for(var i=0;i<args.length;i++){for(var j in args[i]){if(args[i].hasOwnProperty(j)){Util.assert(!(j in ret));ret[j]=args[i][j]}}}return ret});\n",
        "define(\"bar\",[\"react\",\"plots\",\"common_util\",\"taskqueue\",\"common_controls\"],function(React,Plots,Util,TaskQueue,Controls){\"use strict\";return{View:React.createClass({mixins:[Controls.AsyncState],getInitialState:function(props){if(!props){props=this.props}return{barData:props.ipython?props.barData:[],numLabel:props.selected_variable.view_params.y,catLabel:props.selected_variable.view_params.x,extrema:props.ipython?props.extrema:{},width:500,height:500}},updateAsyncState:function(nextProps){if(nextProps.selected_variable.descriptives.rows<=100){var pageTasks=[];pageTasks.push(new TaskQueue.SingleTask(\"/bar_values\",\".values()\").done(function(data){this.setState({barData:data[\"data\"]})}.bind(this)));pageTasks.push(new TaskQueue.SingleTask(\"/extrema\",\".extrema()\").done(function(data){this.setState({extrema:data})}.bind(this)));this.addTask(new TaskQueue.MultiTask(pageTasks))}},render:function(){if(this.props.selected_variable.descriptives.rows>100){return React.DOM.p(null,\"Bar charts can only be used on SFrames with fewer than 100 rows. You can use \",React.DOM.code(null,React.DOM.a({target:\"_blank\",href:\"https://dato.com/products/create/docs/generated/graphlab.SFrame.groupby.html#graphlab.SFrame.groupby\"},\"groupby\")),\" to aggregate the data in this SFrame to a suitable size for a bar chart, or choose a smaller SFrame.\")}if(this.state.barData.length==0||this.state.extrema.min==null){return React.DOM.div(null)}return Plots.Bar({barData:this.state.barData,catLabel:this.state.catLabel,numLabel:this.state.numLabel,extrema:this.state.extrema,width:this.state.width,height:this.state.height,selectVariable:this.props.selectVariable,ipython:this.props.ipython,plotName:this.props.selected_variable.name[0]})}})}});\n",
        "define(\"heatmap\",[\"react\",\"plots\",\"common_util\",\"taskqueue\",\"common_controls\"],function(React,Plots,Util,TaskQueue,Controls){\"use strict\";return{View:React.createClass({mixins:[Controls.AsyncState],getInitialState:function(props){if(!props){props=this.props}return{extrema:props.ipython?props.extrema:{},domainToShow:props.ipython?props.domainToShow:{},xLabel:props.selected_variable.view_params.x,yLabel:props.selected_variable.view_params.y,width:500,height:500,shouldShowStopDownload:false,pointsLoaded:props.ipython?props.pointsLoaded:0,binData:props.ipython?props:{}}},updateAsyncState:function(nextProps){this.setState({numValues:nextProps.selected_variable.descriptives.rows});var view_params=Util.tryGetProperty(nextProps,[\"selected_variable\",\"view_params\"]);var x=Util.tryGetProperty(view_params,\"x\");var y=Util.tryGetProperty(view_params,\"y\");if(x&&y){this.addTask(new TaskQueue.ProgressTask(\"/bins\",\".bins()\",function(data){this.setState({shouldShowStopDownload:!data[\"complete\"],binData:data,extrema:data[\"extrema\"],pointsLoaded:data[\"pointsLoaded\"],domainToShow:data[\"domainToShow\"]})}.bind(this)))}},cancelTasks:function(){this.cancelAllTasks();this.setState({shouldShowStopDownload:false})},render:function(){var plotToShow;var button=null;var pointsLoaded=null;var br=null;if(this.state.extrema.minX==null||this.state.domainToShow.minX==null||this.state.binData.bins==null)return React.DOM.div(null,\" \");plotToShow=Plots.Heatmap({bins:this.state.binData.bins,binWidth:this.state.binData.binWidth,binHeight:this.state.binData.binHeight,extrema:this.state.extrema,domainToShow:this.state.domainToShow,xLabel:this.state.xLabel,yLabel:this.state.yLabel,width:this.state.width,height:this.state.height,numValues:this.state.numValues,selectVariable:this.props.selectVariable,plotName:this.props.selected_variable.name[0],ipython:this.props.ipython});if(this.state.shouldShowStopDownload){pointsLoaded=React.DOM.p(null,\"Rows Loaded: \",this.state.pointsLoaded);button=React.DOM.button({className:\"canvas-scatter-stopDownloadButton\",type:\"button\",onClick:this.cancelTasks,style:{color:\"red\"}},\"Stop Retrieving Data\");br=React.DOM.br(null)}return React.DOM.div(null,pointsLoaded,button,br,React.DOM.div({className:\"canvas-scatter-title\",style:{width:\"\"+this.state.width,\"padding-left\":\"\"+(this.state.width-325)/2,\"margin-left\":\"\"+75}}),plotToShow)}})}});\n",
        "define(\"scatter\",[\"react\",\"plots\",\"common_util\",\"taskqueue\",\"common_controls\"],function(React,Plots,Util,TaskQueue,Controls){\"use strict\";var currentPageTask;var SCATTER_THRESHOLD=5e3;var View=React.createClass({displayName:\"View\",mixins:[Controls.AsyncState],getInitialState:function(props){if(!props){props=this.props}return{pointsList:props.ipython?props.pointsList:[],extrema:props.ipython?props.extrema:{},coefficients:props.ipython?props.coefficients:{},xLabel:props.selected_variable.view_params.x,yLabel:props.selected_variable.view_params.y,width:500,height:500}},updateAsyncState:function(props){if(props.selected_variable.descriptives.rows>SCATTER_THRESHOLD)return;this.updateData()},updateData:function(){var pageTasks=[];pageTasks.push(new TaskQueue.SingleTask(\"/scatter_values\",\".values()\").done(function(data){this.setState({pointsList:data[\"data\"]})}.bind(this)));pageTasks.push(new TaskQueue.SingleTask(\"/coefficients\",\".coefficients()\").done(function(data){this.setState({coefficients:data})}.bind(this)));pageTasks.push(new TaskQueue.SingleTask(\"/sketchvalues\",\".sketchvalues()\").done(function(data){this.setState({extrema:data})}.bind(this)));currentPageTask=new TaskQueue.MultiTask(pageTasks);this.addTask(currentPageTask)},getDefaultProps:function(){return{lineGraph:false}},render:function(){var unableToShowScatter=this.props.selected_variable.descriptives.rows>SCATTER_THRESHOLD;if(unableToShowScatter){return React.DOM.p(null,\"Scatter plots can only be used on SFrames with fewer than 5000 rows. You can use \",React.DOM.code(null,React.DOM.a({target:\"_blank\",href:\"https://dato.com/products/create/docs/generated/graphlab.SFrame.groupby.html#graphlab.SFrame.groupby\"},\"groupby\")),\" to aggregate the data in this SFrame to a suitable size, choose a smaller SFrame, or use a heat map.\")}var plotToShow;if(this.state.pointsList.length==0||this.state.extrema.minX==null)return React.DOM.div(null,\" \");plotToShow=Plots.Scatter({data:this.state.pointsList,extrema:this.state.extrema,xLabel:this.state.xLabel,yLabel:this.state.yLabel,width:this.state.width,height:this.state.height,coefficients:this.state.coefficients,selectVariable:this.props.selectVariable,plotName:this.props.selected_variable.name[0],lineGraph:this.props.lineGraph,ipython:this.props.ipython});return plotToShow}});return{\"Line Chart\":React.createClass({getDefaultProps:function(){return{lineGraph:true}},render:function(){if(this.props.selected_variable.descriptives.rows>500){return React.DOM.p(null,\"Line charts can only be used on SFrames with fewer than 500 rows. You can use \",React.DOM.code(null,React.DOM.a({target:\"_blank\",href:\"https://graphlab.com/products/create/docs/generated/graphlab.SFrame.groupby.html#graphlab.SFrame.groupby\"},\"groupby\")),\" to aggregate the data in this SFrame to a suitable size for a line chart, or choose a smaller SFrame.\")}return this.transferPropsTo(View())}}),View:View}});\n",
        "define(\"sframe\",[\"react\",\"plots\",\"page_layout\",\"common_util\",\"taskqueue\",\"common_controls\",\"logging\",\"jquery\",\"lodash\",\"d3\",\"scatter\",\"bar\",\"heatmap\",\"table\"],function(React,Plots,PageLayout,Util,TaskQueue,Controls,Logging,jQuery,_,d3,Scatter,Bar,HeatMap,Table){\"use strict\";var _getColumns=Table.TabularView.getColumns;var ColumnView=React.createClass({displayName:\"ColumnView\",mixins:[Controls.AsyncState,Controls.Menu,Controls.Searchable],getInitialState:function(props){if(!props){props=this.props}return{sortColumn:0,sortDesc:false,visibleColumns:props.selected_variable.view_params.columns}},getColumns:function(props){return Util.tryGetProperty(props.selected_variable,\"columns\",[])},updateAsyncState:function(nextProps){this.setState(this.getInitialState())},onSort:function(sortColumn,sortDesc){this.setState({sortColumn:sortColumn,sortDesc:sortDesc})},toggleColumn:function(col){var visibleIdx=this.state.visibleColumns.indexOf(col.name);var newColumns;if(visibleIdx===-1){newColumns=this.state.visibleColumns.slice().concat([col.name])}else{newColumns=this.state.visibleColumns.slice();newColumns.splice(visibleIdx,1)}this.setState({visibleColumns:newColumns})},setColumns:function(){$.post(\"/columns\",{columns:JSON.stringify(this.state.visibleColumns),_xsrf:Util.getCookie(\"_xsrf\")}).done(function(){this.props.modalClose()}.bind(this))},render:function(){var columns=this.getColumns(this.props);var visibleColumns=this.state.visibleColumns;var toggleFn=this.toggleColumn;var loading={};var headers=[\"Index\",\"Name\",\"Type\",\"\"];var data=columns.map(function(column,i){return[i,column.name,column.dtype,null]}.bind(this)).filter(function(row,i){if(this.state.search_value===\"\"){return true}var matches=false;row.forEach(function(val,idx,arr){if(String(val).toLocaleLowerCase().indexOf(this.state.search_value.toLocaleLowerCase())===0){matches=true}}.bind(this));return matches}.bind(this));var sortableRange=headers.length-1;var sortable=d3.range(sortableRange).filter(function(i){if(i in loading){return false}return true}.bind(this));return React.DOM.div({style:{position:\"relative\"}},React.DOM.div({style:{position:\"absolute\",top:0,right:0,zIndex:5e3}},React.DOM.a({href:\"javascript:\",onClick:this.props.modalClose},React.DOM.i({className:\"fa fa-times fa-lg\",style:{color:\"black\"}}))),React.DOM.div({className:\"container-fluid\",style:{color:\"black\"}},React.DOM.div({className:\"row\"},React.DOM.div({className:\"col-xs-6\"},React.DOM.h3(null,\"All Columns\"),React.DOM.div({style:{margin:\"14px 0px\"}},React.DOM.div({style:{display:\"inline-block\"}},this.getSearchBox(\"Search/Filter by Keyword\",{border:\"1px solid #dedede\",width:192,height:24,paddingLeft:10}))),Controls.SortableTable({headers:headers,types:[\"number\",\"string\",\"string\",null],data:data,sortable:sortable,sortColumn:this.state.sortColumn,sortDesc:this.state.sortDesc,onSort:this.onSort,style:{height:400,overflowY:\"scroll\",display:\"inline-block\",width:\"100%\"},tableStyle:{width:\"100%\"},renderTD:false,getValue:function(data,rowIdx,colIdx){if(rowIdx===null){var sortLink=null;if(this.props.sortable.indexOf(colIdx)!=-1){var className=\"fa fa-sort\";if(this.props.sortColumn===colIdx){if(this.props.types[colIdx]===\"number\"){className+=\"-numeric\"}else if(this.props.types[colIdx]===\"string\"){className+=\"-alpha\"}}if(this.props.sortColumn===colIdx&&this.props.sortDesc){className+=\"-desc\"}else if(this.props.sortColumn===colIdx){className+=\"-asc\"}sortLink=React.DOM.a({onClick:this.sort.bind(this,colIdx),href:\"javascript:\"},React.DOM.i({className:className,style:{marginLeft:6,marginRight:6,color:\"white\"}}))}return React.DOM.div({style:{paddingLeft:12,paddingRight:6,backgroundColor:\"#bbb\",color:\"white\",width:\"100%\",height:23,fontWeight:500,fontSize:12,lineHeight:\"23px\"}},data[colIdx],sortLink)}var style={borderLeft:\"1px solid #dedede\",lineHeight:\"40px\",height:40,paddingLeft:14,paddingRight:14};var tdStyle={padding:0,verticalAlign:\"middle\",border:\"none\"};var contents=colIdx===headers.length-1?React.DOM.a({href:\"javascript:\",onClick:toggleFn.bind(null,columns[data[rowIdx][0]])},visibleColumns.indexOf(data[rowIdx][1])!==-1?React.DOM.i({className:\"fa fa-eye\",style:{color:\"#0a8cc4\"}}):React.DOM.i({className:\"fa fa-eye-slash\",style:{color:\"#b8b8b8\"}})):data[rowIdx][colIdx];if(colIdx===0){style[\"paddingLeft\"]=30}if(rowIdx%2===0){style[\"backgroundColor\"]=\"#f7f7f7\"}if(colIdx===1){tdStyle[\"width\"]=\"100%\";style[\"position\"]=\"relative\";style[\"paddingLeft\"]=0;style[\"paddingRight\"]=0;contents=React.DOM.div({style:{position:\"absolute\",overflow:\"hidden\",textOverflow:\"ellipsis\",width:\"100%\",whiteSpace:\"nowrap\",margin:\"auto\",top:0,bottom:0,paddingLeft:14,paddingRight:14}},contents)}return React.DOM.td({style:tdStyle,key:colIdx},React.DOM.div({style:style},contents))}})),React.DOM.div({className:\"col-xs-6\"},React.DOM.h3(null,\"Visible Columns\"),React.DOM.p(null,\"Choose which columns will be available in the Summary, Table,\"+\" \"+\"and Plots tabs.\"),React.DOM.div({style:{backgroundColor:\"#f0f0f0\",width:\"100%\",padding:10,height:400,overflowY:\"scroll\",display:\"inline-block\"}},React.DOM.table(null,React.DOM.tbody(null,columns.map(function(col,idx){if(visibleColumns.indexOf(col.name)===-1){return null}return React.DOM.tr({key:idx,style:{backgroundColor:\"white\",width:\"100%\",height:38,marginTop:2,marginBottom:2,lineHeight:\"38px\"}},React.DOM.td({style:{width:\"50%\"}},React.DOM.span({style:{paddingLeft:16}},idx),React.DOM.span({style:{paddingLeft:28}},col.name)),React.DOM.td({style:{width:\"50%\"}},React.DOM.span(null,\"(\",col.dtype,\")\")),React.DOM.td({style:{width:38,borderLeft:\"1px solid #dedede\"}},React.DOM.a({href:\"javascript:\",onClick:toggleFn.bind(null,columns[idx])},React.DOM.i({className:\"fa fa-eye\",style:{color:\"#0a8cc4\",paddingLeft:8,paddingRight:8}}))))}.bind(this))))))),React.DOM.div({className:\"row\"},React.DOM.div({className:\"col-xs-12\"},React.DOM.div({style:{\"float\":\"right\"}},Controls.Button({onClick:this.setColumns,style:{width:130,marginTop:16}},\"View Columns\"))))))}});var SingleColumn=React.createClass({displayName:\"SingleColumn\",render:function(){var rows=Util.tryGetProperty(this.props.selected_variable,[\"descriptives\",\"rows\"],0);if(rows===0){return React.DOM.div(null,React.DOM.h5(null,\"No data in this column.\"))}var formatSArrayValue=_.memoize(Util.formatSArrayValue,JSON.stringify);var categorical=!Util.tryGetProperty(this.props.sketch,\"numeric\",false);var dtype=Util.tryGetProperty(this.props.column,\"dtype\");var summaryPlots=[];if(dtype===\"dict\"){var keysSketch=Util.tryGetProperty(this.props.sketch,\"keys\",{});var valuesSketch=Util.tryGetProperty(this.props.sketch,\"values\",{});var valuesNumeric=Util.tryGetProperty(valuesSketch,\"numeric\",false);var valueDescription=valuesNumeric?\"distribution of values (all keys):\":\"frequent items (all keys):\";summaryPlots.push(React.DOM.div({key:\"dict_summary\"},React.DOM.div({className:\"canvas-sframe-summary-plot-title\"},\"frequent keys:\"),SummaryPlot({data:keysSketch,categorical:!Util.tryGetProperty(keysSketch,\"numeric\",false),maxItems:5}),React.DOM.div({className:\"canvas-sframe-summary-plot-title\"},valueDescription),SummaryPlot({data:valuesSketch,categorical:!Util.tryGetProperty(valuesSketch,\"numeric\",false),width:32,vertical:true,maxItems:5})))}else if(dtype!==\"Image\"){var description=categorical?\"frequent items\":\"distribution of values\";if(dtype===\"list\"||dtype===\"array\"){description+=\" (all sub-columns)\"}summaryPlots.push(React.DOM.div({key:\"nondict_summary\"},React.DOM.div({className:\"canvas-sframe-summary-plot-title\"},description,\":\"),SummaryPlot({data:this.props.sketch,categorical:categorical,width:32,vertical:true,maxItems:12})))}else{var sampleImages=Util.tryGetProperty(this.props.sketch,\"samples\",[]);summaryPlots.push(React.DOM.div({key:\"nondict_summary\"},React.DOM.div({className:\"canvas-sframe-summary-plot-title\"},\"First 4 images:\"),sampleImages.map(function(image,i){var displayImage=formatSArrayValue(image,66);return React.DOM.div({style:{paddingBottom:\"4px\"}},displayImage)})))}var loading=!(\"complete\"in this.props.sketch)||!this.props.sketch.complete;var num_unique=dtype===\"dict\"?SummaryStatistic({name:\"unique keys (est.)\",value:Util.tryGetProperty(this.props.sketch,[\"keys\",\"num_unique\"]),loading:loading}):dtype!==\"Image\"?SummaryStatistic({name:\"num_unique (est.)\",value:this.props.sketch.num_unique,loading:loading}):null;var additionalStats=!categorical?[\"min\",\"max\",\"mean\",\"std\"].map(function(stat,idx){return SummaryStatistic({key:idx,name:stat,value:this.props.sketch[stat],loading:false})}.bind(this)):null;var num_undefined=dtype!==\"Image\"?SummaryStatistic({name:\"num_undefined\",value:this.props.sketch.num_undefined,loading:loading}):null;return React.DOM.div(null,React.DOM.table({className:\"canvas-sframe-inner-table\"},React.DOM.tbody(null,SummaryStatistic({name:\"dtype\",value:dtype}),num_unique,num_undefined,additionalStats)),summaryPlots)}});var ColumnFrequencyPlot=React.createClass({displayName:\"ColumnFrequencyPlot\",render:function(){if(!(\"frequent_items\"in this.props.data)||this.props.data.frequent_items.length===0){return React.DOM.div(null)}var width=176;var maxItems=Util.tryGetProperty(this.props,\"maxItems\",10);var sorted=Util.sortFrequentItems(this.props.data.frequent_items,maxItems);if(sorted.length===0){return React.DOM.div({className:\"canvas-sframe-summary-statistic-name\"},\"No values appear with \u2265 0.01% occurrence.\")}var scale=d3.scale.linear().domain([0,sorted[0].value.frequency]).range([0,width]);return React.DOM.div(null,React.DOM.table(null,React.DOM.tbody(null,sorted.map(function(pair,idx){var label=Util.formatSArrayValue(pair.value.value,20);return React.DOM.tr({key:idx},React.DOM.td({style:{position:\"relative\",width:width,height:22}},React.DOM.div({style:{position:\"absolute\",left:0,top:0,width:scale(pair.value.frequency),height:20,backgroundColor:\"rgba(133, 189, 0, 0.2)\"}}),React.DOM.div({style:{paddingLeft:8,paddingRight:8,width:width,height:20,overflow:\"hidden\",textOverflow:\"ellipsis\",whiteSpace:\"nowrap\"}},label)))}.bind(this)))))}});var SummaryPlot=React.createClass({displayName:\"SummaryPlot\",render:function(){var plot=this.props.categorical?ColumnFrequencyPlot():Plots.BoxAndWhisker();return React.DOM.div({className:\"canvas-sframe-column-plot\"},this.transferPropsTo(plot))}});var SummaryStatistic=React.createClass({displayName:\"SummaryStatistic\",render:function(){var value=this.props.value;if(this.props.loading){value=React.DOM.span({style:{position:\"relative\",marginLeft:30,marginRight:-10}},React.DOM.i({className:\"fa-li fa fa-spinner fa-spin\"}))}else if(typeof value===\"number\"){value=Util.formatNumber(value)}return React.DOM.tr(null,React.DOM.td({className:\"canvas-sframe-summary-statistic-name\"},this.props.name,\":\u00a0\"),React.DOM.td({className:\"canvas-sframe-summary-statistic-value\"},value))}});var SummaryView=React.createClass({displayName:\"SummaryView\",mixins:[Controls.AsyncState],getInitialState:function(props){if(!props){props=this.props}if(props.ipython===true){return{sketch:props.sketch,getColumns:_.memoize(_getColumns)}}return{sketch:{},getColumns:_.memoize(_getColumns)}},updateAsyncState:function(nextProps){if(Util.tryGetProperty(nextProps,[\"tab\",\"visible\"],undefined)===false){this.cancelAllTasks();return}this.setState({getColumns:_.memoize(_getColumns)},function(){var rows=Util.tryGetProperty(nextProps.selected_variable,[\"descriptives\",\"rows\"],0);if(rows!==0){this.addTask(new TaskQueue.SingleTask(\"/cached_sketches\",\"cached sketch summaries\").done(function(data){var sketch={};var pageTasks=[];this.state.getColumns(this.props).forEach(function(colObj,idx){var column=colObj.name;if(data[column]!==null){sketch[column]=data[column]}if(data[column]===null||!data[column].complete){var columnURL=Util.escapeURL(column);pageTasks.push(new TaskQueue.ProgressTask(\"/sketch/\"+columnURL,'[\"'+column+'\"].sketch_summary()',function(data){var sketch={};sketch[column]=data;this.setState({sketch:Util.merge(this.state.sketch,sketch)})}.bind(this),Util.getSketchPollInterval(rows)).fail(function(){if(this.canceled&&this.running()){$.get(\"/cancel_sketch/\"+columnURL)}}))}}.bind(this));this.setState({sketch:sketch},function(){this.addTask(new TaskQueue.MultiTask(pageTasks).always(function(){var metric=(this.canceled?\"page_task\":\"page_task.canceled\")+\".duration.ms\";Logging.reportMetric(metric,this.elapsed(),{operation:this.operation(),type:\"SFrame\"})}))}.bind(this))}.bind(this)))}}.bind(this))},render:function(){var columns=this.state.getColumns(this.props);var ipythonStyle=this.props.ipython?{\"overflow-x\":\"auto\",maxHeight:600}:{height:PageLayout.contentHeight(),width:PageLayout.contentWidth(),overflow:\"auto\"};return React.DOM.div({style:ipythonStyle},React.DOM.table({className:\"canvas canvas-sframe-table\"},React.DOM.thead(null,React.DOM.tr(null,columns.map(function(column){return React.DOM.th({key:column.name,className:\"padding\"},Table.Column({selectVariable:this.props.selectVariable,selected_variable:this.props.selected_variable,name:column.name,ipython:this.props.ipython}))}.bind(this)))),React.DOM.tbody(null,React.DOM.tr(null,columns.map(function(column){return React.DOM.td({key:column.name,className:\"padding\"},SingleColumn({sketch:Util.tryGetProperty(this.state.sketch,column.name,{}),column:column,selected_variable:this.props.selected_variable}))}.bind(this))))))}});var PlotAxisPicker=React.createClass({displayName:\"PlotAxisPicker\",render:function(){return this.transferPropsTo(React.DOM.div({style:{display:\"inline-block\",verticalAlign:\"top\",marginTop:15}},React.DOM.label(null,React.DOM.div(null,this.props.label),React.DOM.select({onChange:this.props.onSelect,value:this.props.selected},this.props.options.map(function(opt,idx){return React.DOM.option({key:idx,value:opt},opt)}.bind(this))))))}});var PlotCreator=React.createClass({displayName:\"PlotCreator\",statics:{plotTypes:[[\"Scatter Plot\",\"scatter\"],[\"Heat Map\",\"heatmap\"],[\"Bar Chart\",\"bar\"],[\"Line Chart\",\"line\"]]},getInitialState:function(props){if(!props){props=this.props}var view_params=props.selected_variable.view_params;var view=view_params.view;var columnsX=this.getColumns(\"x\",props);var columnsY=this.getColumns(\"y\",props);var ret={selectedPlotType:this.constructor.plotTypes[0],axis1:view_params[\"x\"],axis2:view_params[\"y\"]};if(view!=null){var selectedPlotType=_.find(this.constructor.plotTypes,function(t){return t[0]==view}.bind(this));if(selectedPlotType){ret.selectedPlotType=selectedPlotType}}if(!ret.axis1){ret.axis1=Util.tryGetProperty(columnsX,0)}if(!ret.axis2){ret.axis2=Util.tryGetProperty(columnsY,0)}return ret},componentWillReceiveProps:function(nextProps){if(!Util.deepEquals(this.props,nextProps)){this.setState(this.getInitialState(nextProps))}},selectPlotType:function(plotType){this.setState({selectedPlotType:plotType})},selectAxis:function(axis,evt){var newState={};newState[axis]=evt.target.value;this.setState(newState)},includeColumn:function(axis,col){var selectedPlotType=Util.tryGetProperty(this.state,\"selectedPlotType\",this.constructor.plotTypes[0])[0];if(axis===\"y\"||selectedPlotType===\"Scatter Plot\"||selectedPlotType===\"Line Chart\"||selectedPlotType===\"Heat Map\"){return col.dtype===\"int\"||col.dtype===\"float\"}else{Util.assert(axis===\"x\");Util.assert(selectedPlotType===\"Bar Chart\");return col.dtype===\"int\"||col.dtype===\"float\"||col.dtype===\"str\"}},getColumnName:function(col){return col.name},getColumns:function(axis,props){if(!props){props=this.props}return props.selected_variable.columns.filter(this.includeColumn.bind(this,axis)).map(this.getColumnName)},render:function(){return React.DOM.div({style:{height:86,borderBottom:\"1px solid #c5c5c5\"}},this.constructor.plotTypes.map(function(plotType,idx){var selected=plotType[0]==this.state.selectedPlotType[0];return React.DOM.a({key:idx,style:{paddingLeft:3,paddingRight:12,paddingTop:3,paddingBottom:0,display:\"inline-block\"},onClick:this.selectPlotType.bind(this,plotType),href:\"javascript:\"},React.DOM.img({src:\"/images/sframe_plot_\"+plotType[1]+\".png\",style:{marginBottom:4,border:selected?\"2px solid #ff5500\":\"2px solid transparent\",width:66,height:50}}),React.DOM.div({style:{fontSize:12,textAlign:\"center\",color:selected?\"#ff5500\":\"#0a8cc4\"}},plotType[0]))}.bind(this)),PlotAxisPicker({label:this.state.selectedPlotType[1]===\"geo\"?\"Latitude\":\"X axis\",options:this.getColumns(\"x\"),selected:this.state.axis1,onSelect:this.selectAxis.bind(this,\"axis1\"),style:{marginLeft:70}}),PlotAxisPicker({label:this.state.selectedPlotType[1]===\"geo\"?\"Longitude\":\"Y axis\",options:this.getColumns(\"y\"),selected:this.state.axis2,onSelect:this.selectAxis.bind(this,\"axis2\"),style:{marginLeft:20}}),Controls.Button({onClick:this.props.show.bind(null,this.state.selectedPlotType,this.state.axis1,this.state.axis2),disabled:!(this.state.axis1&&this.state.axis2),style:{marginTop:28,verticalAlign:\"top\",marginLeft:30}},\"Show\"))}});var PlotsView=React.createClass({displayName:\"PlotsView\",getInitialState:function(){return{plotType:null,col1:null,col2:null}},componentWillReceiveProps:function(nextProps){if(!Util.deepEquals(this.props.selected_variable.name,nextProps.selected_variable.name)||!Util.deepEquals(this.props.selected_variable.column_identifiers,nextProps.selected_variable.column_identifiers)){this.setState(this.getInitialState())}},show:function(plotType,col1,col2){this.setState({plotType:plotType,col1:col1,col2:col2},function(){$.post(\"/plot_params\",{view:plotType[0],col1:col1,col2:col2,col3:null,_xsrf:Util.getCookie(\"_xsrf\")})})},render:function(){var plot=null;var view=Util.tryGetProperty(this.props.selected_variable.view_params,\"view\");if(view!==null){plot={\"Bar Chart\":Bar.View,\"Line Chart\":Scatter[\"Line Chart\"],\"Scatter Plot\":Scatter.View,\"Heat Map\":HeatMap.View}[view];if(plot){plot=this.transferPropsTo(plot(null))}}var plotCreator=this.props.ipython?null:PlotCreator({show:this.show,selected_variable:this.props.selected_variable});return React.DOM.div(null,plotCreator,plot)}});var viewComponents={Summary:SummaryView,Table:Table.TabularView,Plots:PlotsView};var views=Object.keys(viewComponents).map(function(c){var viewComponent=viewComponents[c];return[c,React.createClass({render:function(){return React.DOM.div(null,viewComponent(this.props))}})]});viewComponents[\"View\"]=React.createClass({mixins:[Controls.Modal],openColumnPicker:function(){this.modalOpen(\"\",ColumnView({selectVariable:this.props.selectVariable,selected_variable:this.props.selected_variable,shown:this.props.selected_variable.view_params.columns,modalClose:this.modalClose}),\"modal-lg\")},shouldComponentUpdate:function(nextProps,nextState){var ret=!Util.deepEquals(this.props,nextProps)||!Util.deepEquals(this.state,nextState);return ret},render:function(){var Tabs=Controls.Tabs;return React.DOM.div(null,React.DOM.div({style:{marginRight:20,marginTop:10,marginBottom:20}},React.DOM.div({style:{display:\"inline-block\",marginRight:20}},\"Showing \",this.props.selected_variable.view_params.columns.length,\" of \",this.props.selected_variable.descriptives.columns,\" columns.\"),Controls.Button({onClick:this.openColumnPicker},React.DOM.i({className:\"fa fa-pencil\"}),\"\u00a0\"+\" \"+\"Select Visible Columns\")),Tabs({selectVariable:this.props.selectVariable,selected_variable:Util.merge(this.props.selected_variable,{columns:this.props.selected_variable.columns.filter(function(c){return this.props.selected_variable.view_params.columns.indexOf(c.name)!==-1}.bind(this))}),openColumnPicker:this.openColumnPicker,tabs:views,initialTab:this.props.selected_variable.view_component}),this.getModal())}});return viewComponents});\n",
        "define(\"sarray\",[\"react\",\"d3\",\"plots\",\"common_util\",\"taskqueue\",\"common_controls\",\"logging\"],function(React,d3,Plots,Util,TaskQueue,Controls,Logging){\"use strict\";var ImageView=React.createClass({displayName:\"ImageView\",mixins:[Controls.AsyncState,Controls.SizeToWindow],getInitialState:function(){return{images:this.props.ipython?this.props.rows:[]}},updateAsyncState:function(nextProps){var rows=Util.tryGetProperty(this.props.selected_variable,[\"descriptives\",\"rows\"],0);if(rows!==0){this.addTask(new TaskQueue.SingleTask(\"/rows/0/20\",\"get_rows\").done(function(data){this.setState({images:data.values})}.bind(this)))}},render:function(){var name=this.props.selected_variable.name;var selected_column=Array.isArray(name)?name[name.length-1]:name;var rows=Util.tryGetProperty(this.props.selected_variable,[\"descriptives\",\"rows\"],0);var header=\"All \"+String(rows)+\" images in \";if(rows>=20){header=\"The first 20 images in \"}return React.DOM.div({className:\"tab-content\",style:{\"max-width\":this.state.windowWidth-(190+50),\"max-height\":this.props.ipython?\"none\":this.state.windowHeight-(74+50),overflow:\"auto\"}},React.DOM.div({className:\"canvas canvas-view-main sarray\"},React.DOM.h3(null,header,\" \",React.DOM.em(null,selected_column)),this.state.images.map(function(image,idx){return React.DOM.div({key:idx,style:{padding:10,margin:10,border:\"1px solid #5e5555\",display:\"inline-block\"}},Util.formatSArrayValue(image,200))}.bind(this))))}});var CategoricalView=React.createClass({displayName:\"CategoricalView\",statics:{tabName:\"Categorical\"},getInitialState:function(){return{frequentItemsShown:30}},getDefaultProps:function(){return{show_title:true}},showMoreFrequentItems:function(){this.setState({frequentItemsShown:this.state.frequentItemsShown+30})},render:function(){var sketch=this.props.sketch;var frequent_items=Util.tryGetProperty(sketch,\"frequent_items\",[]);var showMoreLink=Object.keys(frequent_items).length>this.state.frequentItemsShown?React.DOM.div(null,React.DOM.a({href:\"javascript:\",onClick:this.showMoreFrequentItems},\"Show More\")):null;frequent_items=Util.sortFrequentItems(frequent_items,this.state.frequentItemsShown);var tableValues=frequent_items.map(function(item){return[Util.formatSArrayValue(item.value.value,26),Util.formatNumber(item.value.frequency),Util.formatNumber(item.value.frequency/sketch.size*100)+\"%\"]}.bind(this));var tableClasses=[\"table\",\"table-bordered\",\"table-condensed\",\"canvas-singlecolumn-table\"];var scaleX=d3.scale.linear().domain([0,d3.max(frequent_items.map(function(item){return item.value.frequency}))]).range([0,250]);var plotTitle=this.props.show_title?React.DOM.h3({style:{marginTop:0,marginBottom:20,height:28}},\"Most frequent items from \",React.DOM.em(null,this.props.selected_column)):null;var plotValue=frequent_items.length===0?React.DOM.span(null,\"No values appear with \u2265 0.01% occurrence.\"):React.DOM.table({className:tableClasses.join(\" \"),style:{borderRight:\"none\",borderBottom:\"none\"}},React.DOM.thead(null,React.DOM.tr(null,React.DOM.th(null,\"Value\"),React.DOM.th(null,\"Count\"),React.DOM.th(null,\"Percent\"))),React.DOM.tbody(null,tableValues.map(function(row,rowIdx){return React.DOM.tr({key:rowIdx},row.map(function(col,colIdx){return React.DOM.td({key:colIdx},col)}.bind(this)),React.DOM.td({style:{width:\"250px\",border:\"none\",padding:\"0px 0px 0px 5px\"}},React.DOM.div({style:{width:scaleX(frequent_items[rowIdx].value.frequency),height:26,backgroundColor:\"#85bd00\",transition:\"width 0.3s ease\"}})))}.bind(this))));return React.DOM.div({className:\"canvas-sarray-table categorical\"},plotTitle,plotValue,showMoreLink)}});var NumericView=React.createClass({displayName:\"NumericView\",statics:{tabName:\"Numeric\"},render:function(){var sketch=this.props.sketch;var rows=Util.tryGetProperty(this.props.selected_variable,[\"descriptives\",\"rows\"],0);var plot,tableValues;var quantile=Util.tryGetProperty(sketch,\"quantile\",[]);var starting_bins=Util.tryGetProperty(sketch,\"num_unique\",20);starting_bins=Math.max(2,Math.min(starting_bins,20));plot=Plots.QuantileHistogram({quantile:quantile,starting_bins:starting_bins,rows:rows,selected_column:this.props.selected_column});tableValues=[\"min\",\"max\",\"mean\",\"std\"].map(function(name){var ret=[name];if(name in sketch){ret.push(Util.formatNumber(sketch[name]))}else{ret.push(null)}return ret;return[name,Util.tryGetProperty(sketch,name)]}.bind(this)).concat([1,25,50,75,99].map(function(q){var ret=[\"quantile(\"+String(q/100)+\") (est.)\"];if(\"quantile\"in sketch&&sketch.quantile.length>0){ret.push(Util.formatNumber(sketch.quantile[q]))}else{ret.push(null)}return ret}.bind(this)));var tableClasses=[\"table\",\"table-striped\",\"table-bordered\",\"table-condensed\",\"canvas-singlecolumn-table\"];return React.DOM.div(null,React.DOM.div({className:\"canvas-singlecolumn-plot\"},plot),React.DOM.div({className:\"canvas-sarray-table numeric\"},React.DOM.table({className:tableClasses.join(\" \")},React.DOM.tbody(null,tableValues.map(function(row,rowIdx){return React.DOM.tr({key:rowIdx},row.map(function(col,colIdx){return React.DOM.td({key:colIdx},col)}.bind(this)))}.bind(this))))))}});var HasSubcolumns={getInitialState:function(){return{subcolumn:null,subsketch:null}},updateAsyncState:function(nextProps){this.setState({subcolumn:null,subsketch:null})},getSubsketch:function(subcol){this.setState({subcolumn:subcol});var task=new TaskQueue.ProgressTask(\"/subsketch/\"+subcol,\"sketch_summary().element_sub_sketch()\",function(data){this.setState({subsketch:data})}.bind(this),2e3);this.addTask(task.always(function(){var metric=(this.canceled?\"page_task\":\"page_task.canceled\")+\".duration.ms\";Logging.reportMetric(metric,this.elapsed(),{operation:this.operation(),type:\"SArray<dict>\"})}))},onItemClick:function(subcol){if(this.state.subcolumn===subcol){this.setState(this.getInitialState())}else{this.getSubsketch(subcol)}}};var DictView=React.createClass({displayName:\"DictView\",mixins:[Controls.AsyncState,HasSubcolumns],statics:{tabName:\"Dictionary\"},render:function(){var keyPlot=Plots.Frequency({data:Util.tryGetProperty(this.props.sketch,\"keys\",{}),width:600,aspectRatio:5,maxValues:50,onItemClick:this.onItemClick,highlightElement:this.state.subcolumn,disabled:this.props.ipython});var numericValues=Util.tryGetProperty(this.props.sketch,[\"values\",\"numeric\"],false);var valuePlot=numericValues?NumericView:CategoricalView;var valueSketch=this.state.subsketch===null?Util.tryGetProperty(this.props.sketch,\"values\",{}):this.state.subsketch;var valuePlotSource=this.state.subcolumn!=null?React.DOM.em(null,\" \",this.state.subcolumn):React.DOM.span(null,\" all keys\");var valuePlotTitle=numericValues?React.DOM.span(null,\"Distribution of values from\"):React.DOM.span(null,\"Most frequent values from\");return React.DOM.div(null,React.DOM.h3({style:{marginTop:0,marginBottom:20,height:28}},\"Most frequent keys from \",React.DOM.em(null,this.props.selected_column),\", sorted by frequency\"),keyPlot,React.DOM.hr(null),React.DOM.h3({style:{marginTop:30,marginBottom:20,height:28}},valuePlotTitle,valuePlotSource),this.transferPropsTo(valuePlot({sketch:valueSketch,show_title:false})))}});var ListView=React.createClass({displayName:\"ListView\",statics:{tabName:\"List\"},render:function(){return React.DOM.div(null,React.DOM.h3({style:{marginTop:0,marginBottom:20,height:28}},React.DOM.span(null,\"Most frequent values in \",React.DOM.em(null,this.props.selected_column),\" \",React.DOM.small(null,\"(aggregated across all sub-columns)\"))),this.transferPropsTo(CategoricalView({show_title:false})))}});var ArrayView=React.createClass({displayName:\"ArrayView\",mixins:[Controls.AsyncState,HasSubcolumns],statics:{tabName:\"Array\"},onSelect:function(evt){var subcol=evt.target.value;if(subcol===\"all (aggregate)\"){this.setState(this.getInitialState())}else{this.getSubsketch(subcol)}},render:function(){var sketch=this.state.subsketch===null?this.props.sketch:this.state.subsketch;return React.DOM.div(null,React.DOM.h3({style:{marginTop:0,marginBottom:20,height:28}},React.DOM.span(null,\"Distribution of values in \",React.DOM.em(null,this.props.selected_column),\",\"+\" \"+\"all sub-columns (aggregate)\")),this.transferPropsTo(NumericView({sketch:sketch})))}});var SArrayView=React.createClass({displayName:\"SArrayView\",mixins:[Controls.AsyncState,Controls.SizeToWindow],getInitialState:function(props){if(!props){props=this.props}if(props.ipython==true){return{sketch:props.sketch}}return{sketch:{}}},updateAsyncState:function(nextProps){var pageTasks=[];var rows=Util.tryGetProperty(this.props.selected_variable,[\"descriptives\",\"rows\"],0);if(rows!==0){pageTasks.push(new TaskQueue.ProgressTask(\"/sketch/\",\"sketch_summary()\",function(data){this.setState({sketch:data})}.bind(this),Util.getSketchPollInterval(rows)).fail(function(){if(this.canceled){$.get(\"/cancel_sketch\")}}));this.addTask(new TaskQueue.MultiTask(pageTasks).always(function(){var metric=(this.canceled?\"page_task\":\"page_task.canceled\")+\".duration.ms\";Logging.reportMetric(metric,this.elapsed(),{operation:this.operation(),type:\"SArray\"})}))}},render:function(){var rows=Util.tryGetProperty(this.props.selected_variable,[\"descriptives\",\"rows\"],0);if(rows===0){return React.DOM.div(null,React.DOM.h5(null,\"No data in this column.\"))}var name=this.props.selected_variable.name;var selected_column=Array.isArray(name)?name[name.length-1]:name;var view=this.props.view;var viewInstance=this.transferPropsTo(view({sketch:this.state.sketch,selected_column:selected_column}));return React.DOM.div({className:\"tab-content\",style:{\"max-width\":this.state.windowWidth-(190+50),\"max-height\":this.props.ipython?\"none\":this.state.windowHeight-(74+50),overflow:\"auto\"}},React.DOM.div({className:\"canvas canvas-view-main sarray\"},viewInstance))}});var SArrayViewWrapper=function(view){return React.createClass({render:function(){return this.transferPropsTo(SArrayView({view:view}))}})};var viewComponents={Categorical:SArrayViewWrapper(CategoricalView),Numeric:SArrayViewWrapper(NumericView),Dictionary:SArrayViewWrapper(DictView),Array:SArrayViewWrapper(ArrayView),List:SArrayViewWrapper(ListView),Images:ImageView};viewComponents[\"View\"]=React.createClass({render:function(){var Tabs=Controls.Tabs;var views=this.props.selected_variable.view_components.map(function(c){return[c,viewComponents[c]]}.bind(this));return Tabs({selectVariable:this.props.selectVariable,selected_variable:this.props.selected_variable,tabs:views,initialTab:this.props.selected_variable.view_component})}});return viewComponents});\n",
        "define(\"sgraph\",[\"react\",\"plots\",\"common_util\",\"taskqueue\",\"common_controls\",\"d3\",\"logging\"],function(React,Plots,Util,TaskQueue,Controls,d3,Logging){\"use strict\";return{View:React.createClass({displayName:\"View\",mixins:[Controls.AsyncState,Controls.SizeToWindow],getInitialState:function(props){if(!props){props=this.props}if(props.ipython){return{vertices:Util.tryGetProperty(props,\"vertices\",[]),vertices_labels:Util.tryGetProperty(props,\"vertices_labels\",[]),edges:Util.tryGetProperty(props,\"edges\",[]),edges_labels:Util.tryGetProperty(props,\"edges_labels\",[]),layoutAlgorithm:\"forceDirected\",positions:Util.tryGetProperty(props,\"positions\",[]),error_type:Util.tryGetProperty(props,\"error_type\",0),error_msg:Util.tryGetProperty(props,\"error_msg\",[])}}return{vertices:[],vertices_labels:[],edges:[],edges_labels:[],layoutAlgorithm:\"forceDirected\",positions:null,error_type:0,error_msg:\"\"}},customLayout:function(vertices,edges){return{vertices:vertices.map(function(v,idx){return Util.merge(v,{x:this.state.positions.x[idx],y:this.state.positions.y[idx]})}.bind(this)),edges:edges.map(function(e){return Util.merge(e,{points:[[this.state.positions.x[e.source],this.state.positions.y[e.source]],[this.state.positions.x[e.target],this.state.positions.y[e.target]]]})}.bind(this))}},setLayoutAlgorithm:function(evt){var algo=evt.target.value;this.setState({layoutAlgorithm:algo})},getLayoutAlgorithm:function(){if(this.state.layoutAlgorithm in Plots.GraphLayout.layoutAlgorithms){return Plots.GraphLayout.layoutAlgorithms[this.state.layoutAlgorithm]}return this.customLayout},shouldComponentUpdate:function(nextProps,nextState){return!Util.deepEquals(this.props,nextProps)||!Util.deepEquals(this.state,nextState)},updateAsyncState:function(nextProps){var pageTasks=[];[\"vertices\",\"edges\"].forEach(function(name){pageTasks.push(new TaskQueue.SingleTask(\"/\"+name,\"get_\"+name+\"()\").done(function(n,data){var st={};st[n]=data.values;if(data.labels!==null){st[n+\"_labels\"]=data.labels}if(n===\"vertices\"){st.positions=data.positions;if(data.positions!==null){st.layoutAlgorithm=JSON.stringify(data.positions.names)}}this.setState(st)}.bind(this,name)).fail(function(jqxhr,type,error){if(typeof jqxhr!==\"undefined\"&&jqxhr.status==413){this.setState({error_type:413,error_msg:error})}}.bind(this)))}.bind(this));this.addTask(new TaskQueue.MultiTask(pageTasks).always(function(){var metric=(this.canceled?\"page_task\":\"page_task.canceled\")+\".duration.ms\";Logging.reportMetric(metric,this.elapsed(),{operation:this.operation(),type:\"SGraph\"})}))},get_color:function(rgb_triple){return d3.rgb(rgb_triple[0]*255,rgb_triple[1]*255,rgb_triple[2]*255).toString()},scale_node_size:function(){return this.props.selected_variable.view_params.node_size/37.5},render:function(){if(this.state.vertices.length===0){if(this.state.error_type!==0){return React.DOM.div({className:\"alert alert-info\"},this.state.error_msg)}return React.DOM.div(null)}var getHighlightColors=function(){var ret={};for(var k in this.props.selected_variable.view_params.highlight){ret[k]=this.get_color(this.props.selected_variable.view_params.highlight[k])}return ret}.bind(this);var getParamColor=function(view_param){var rgb_triple=this.props.selected_variable.view_params[view_param];return this.get_color(rgb_triple)}.bind(this);var graph=Plots.GraphLayout(Util.merge({vertices:this.state.vertices,edges:this.state.edges,vlabels:this.state.vertices_labels!==null?this.state.vertices_labels:[],vcolor:getParamColor(\"vcolor\"),highlight:getHighlightColors(),node_size:this.scale_node_size(),elabels:this.state.edges_labels!==null?this.state.edges_labels:[],ecolor:getParamColor(\"ecolor\"),layoutAlgorithm:this.getLayoutAlgorithm()},Util.partial(this.props.selected_variable.view_params,[\"vlabel_hover\",\"elabel_hover\",\"ewidth\",\"v_offset\",\"h_offset\",\"arrows\"])));var defaultLayoutAlgo=this.state.positions===null?\"forceDirected\":JSON.stringify(this.state.positions.names);return React.DOM.div({className:\"tab-content\",style:{\"max-width\":this.state.windowWidth-(190+50),\"max-height\":this.props.ipython?\"none\":this.state.windowHeight-(74+50),overflow:\"auto\"}},React.DOM.div({className:\"canvas canvas-view-main sgraph\"},React.DOM.div({className:\"canvas-singlecolumn-plot\"},this.state.positions===null?null:React.DOM.div(null,React.DOM.label({htmlFor:\"canvas-sgraph-layout-selector\"},\"Layout algorithm:\u00a0\"),React.DOM.select({defaultValue:defaultLayoutAlgo,onChange:this.setLayoutAlgorithm},React.DOM.option({value:\"forceDirected\"},\"Force-directed\"),React.DOM.option({value:JSON.stringify(this.state.positions.names)},JSON.stringify(this.state.positions.names)))),graph)))}})}});\n",
        "define(\"table\",[\"react\",\"page_layout\",\"common_util\",\"taskqueue\",\"common_controls\",\"logging\",\"jquery\",\"lodash\",\"d3\",\"bowser\"],function(React,PageLayout,Util,TaskQueue,Controls,Logging,jQuery,_,d3,Bowser){\"use strict\";var cursors={grab:Bowser.webkit?\"-webkit-grab\":\"grab\",grabbing:Bowser.webkit?\"-webkit-grabbing\":\"grabbing\"};var _getColumns=function(props){var allColumns=Util.tryGetProperty(props.selected_variable,\"columns\",[]);var columnOrder=Util.tryGetProperty(props.selected_variable,[\"view_params\",\"columns\"],[]);return _(allColumns).filter(function(column){return columnOrder.indexOf(column.name)!==-1}).sortBy(function(column){return columnOrder.indexOf(column.name)}).value()};var _getColumnWidth=function(dtype){return{\"int\":150,\"float\":150,str:260,dict:260,list:260,array:260,Image:140,datetime:220}[dtype]};var _getTableWidth=function(columns,minWidth){return columns.reduce(function(prev,col){return prev+_getColumnWidth(col.dtype)},minWidth+1)};var Column=React.createClass({displayName:\"Column\",handleClick:function(evt){var selected_column=this.props.selected_variable.name.concat([this.props.name]);this.props.selectVariable(selected_column)},render:function(){var getColumnName=function(){if(this.props.ipython){return this.props.name}else{return React.DOM.a({href:\"javascript:\",onClick:this.handleClick,className:\"canvas-sframe-column-title\"},this.props.name)}}.bind(this);return React.DOM.div({className:\"canvas-sframe-column-header\",style:this.props.style},getColumnName())}});var DocScroller=React.createClass({displayName:\"DocScroller\",getInitialState:function(){return{dragOffsetPosition:0,dragStartPosition:null,dragPosition:0}},getDefaultProps:function(){return{onDragEnd:function(){},dragPosition:0,totalRows:0,pageHeight:0,totalHeight:0,height:0,width:0,visualPadding:0,marginTop:0}},componentWillMount:function(){this.setState({dragPosition:this.props.dragPosition||0})},render:function(){var docScrollerDragStart=function(evt){evt.preventDefault();evt.stopPropagation();this.setState({dragStartPosition:evt.clientY})}.bind(this);var _docScrollerDrag=function(evt){if(this.state.dragStartPosition===null){return null}var diff=evt.clientY-this.state.dragStartPosition;var newOffset=Math.min(this.props.height-this.props.pageHeight,Math.max(0,this.state.dragPosition+diff));return newOffset}.bind(this);var docScrollerDrag=function(evt){if(this.state.dragStartPosition!==null){evt.preventDefault();evt.stopPropagation();this.setState({dragOffsetPosition:_docScrollerDrag(evt)})}}.bind(this);var docScrollerDragEnd=function(evt){evt.preventDefault();evt.stopPropagation();if(this.state.dragStartPosition!==null){var newOffset=_docScrollerDrag(evt);this.props.onDragEnd(newOffset);this.setState({dragStartPosition:null,dragOffsetPosition:newOffset,dragPosition:newOffset})}}.bind(this);var docScrollerClick=function(evt){if(this.state.dragStartPosition===null){evt.preventDefault();evt.stopPropagation();var offset=Math.max(0,evt.clientY-$(evt.currentTarget).offset().top-this.props.pageHeight/2);var newOffset=Math.min(this.props.height-this.props.pageHeight,offset);this.props.onDragEnd(offset);this.setState({dragOffsetPosition:newOffset})}else{docScrollerDragEnd(evt)}}.bind(this);var docScrollerPoints=[[0,this.state.dragOffsetPosition],[0,this.state.dragOffsetPosition+this.props.pageHeight+this.props.visualPadding],[50,this.props.totalHeight+this.props.marginTop+this.props.visualPadding],[50,this.props.marginTop]];var notScrollable=this.props.totalRows<=this.props.threshold;var docScrollerRectColor=notScrollable?\"#dfe0e1\":\"#85bd00\";if(this.props.width===0){return null}else{return React.DOM.div({style:{width:this.props.width}},React.DOM.div({style:{paddingTop:5},className:\"canvas-docscroller-label\"},\"0\"),React.DOM.svg({style:{width:10,height:this.props.height}},d3.range(10).map(function(i){var y=i/9*this.props.height;return React.DOM.line({key:i,x1:4,x2:10,y1:y,y2:y,stroke:\"#dfe0e1\",strokeWidth:2})}.bind(this))),React.DOM.div({style:{width:36,height:this.props.height+this.props.visualPadding,display:\"inline-block\",cursor:notScrollable?\"auto\":\"pointer\",position:\"relative\"},onMouseMove:docScrollerDrag,onMouseLeave:docScrollerDragEnd,onClick:docScrollerClick},React.DOM.svg({style:{position:\"absolute\",top:0,left:0,width:36,height:this.props.height}},React.DOM.rect({x:0,y:this.state.dragOffsetPosition,width:36,height:this.props.pageHeight+this.props.visualPadding,fill:\"#d9e3cd\",style:{opacity:notScrollable?0:1}}),d3.range(this.props.height/5).map(function(y){return d3.range(5).map(function(x){var fill=\"#dfe0e1\";if(y*5>=this.state.dragOffsetPosition&&y*5+4<=this.state.dragOffsetPosition+this.props.pageHeight){fill=docScrollerRectColor}return React.DOM.rect({key:String(x)+\"_\"+String(y),x:6+x*5,y:y*5,width:4,height:4,fill:fill})}.bind(this))}.bind(this))),React.DOM.div({style:{position:\"absolute\",top:this.state.dragOffsetPosition,left:0,width:36,height:this.props.pageHeight+this.props.visualPadding,cursor:notScrollable?\"auto\":this.state.dragStartPosition!==null?cursors.grabbing:cursors.grab},onMouseDown:docScrollerDragStart})),React.DOM.svg({style:{width:50,height:this.props.height+this.props.visualPadding+10,display:\"inline-block\",verticalAlign:\"top\",opacity:notScrollable?0:1}},React.DOM.linearGradient({id:\"docScrollerGradient\"},React.DOM.stop({offset:\"0%\",style:{stopColor:\"#d9e3cd\"}}),React.DOM.stop({offset:\"100%\",style:{stopColor:\"#f0f4ec\"}})),React.DOM.polygon({points:docScrollerPoints.map(function(xy){return xy.join(\",\")}).join(\" \"),style:{fill:\"url(#docScrollerGradient)\"}})),React.DOM.div({style:{marginTop:-10},className:\"canvas-docscroller-label\"},Util.formatNumber(this.props.totalRows-1)))}}});var RowView=React.createClass({displayName:\"RowView\",getDefaultProps:function(){return{columns:[],data:[],dimensions:{},rowHeight:38,imageRowHeight:50+16,headerHeight:PageLayout.get(\"table_column_header_height\"),highlight:false,onClick:function(){},formatter:function(i){return i}}},statics:{highlightStyle:{backgroundColor:\"rgba(255, 85, 0, 0.2)\"},getHeaderCellStyle:function(height,styleToMerge){var defaultStyle={height:height-2,minHeight:height-2,maxHeight:height-2};if(typeof styleToMerge==\"object\"){return Util.merge(defaultStyle,styleToMerge)}return defaultStyle},getCellStyle:_.memoize(function(styleToMerge,highlight){var cellStyle={overflow:\"hidden\",textAlign:\"left\"};if(highlight){cellStyle=Util.merge(RowView.highlightStyle,cellStyle)}if(typeof styleToMerge==\"object\"){return Util.merge(cellStyle,styleToMerge)}return cellStyle},function(s,h){return JSON.stringify({s:s,h:h})}),getCellContentStyle:_.memoize(function(styleToMerge){return Util.merge({padding:\"5px 5px 5px 15px\"},styleToMerge||{})},function(s){return JSON.stringify({s:s})})},getRowHeaderHTML:function(rowIndex,rowHeight){var cellStyle={color:\"#85bd00\",fontWeight:300,paddingLeft:3,height:rowHeight};if(this.props.highlight){cellStyle=Util.merge(RowView.highlightStyle,cellStyle)}return React.DOM.td({style:cellStyle},Util.formatNumber(rowIndex))},render:function(){var i=this.props.number;var row=this.props.data;var header=this.getRowHeaderHTML(i,this.props.rowHeight);var formattedValue,margin;var cellStyle=RowView.getCellStyle({},this.props.highlight);var rowHTML;if(row&&row.length<this.props.columns.length){row=this.props.columns.map(function(col,idx){return row[idx]||null})}if(row===undefined){rowHTML=this.props.columns.map(function(col,index){return React.DOM.td({className:\"padding canvas-sframe-table-head-value\"})}.bind(this))}else{rowHTML=React.DOM.div(null,header,row.map(function(value,j){formattedValue=this.props.formatter(value,this.props.rowHeight);margin=Util.isSArrayImageType(value)?{margin:\"0 auto\"}:null;return React.DOM.td({key:j,className:\"padding canvas-sframe-table-head-value\",style:cellStyle},React.DOM.div({style:RowView.getCellContentStyle(margin)},formattedValue))}.bind(this)))}return React.DOM.tr({key:i,className:\"canvas-sframe-table-head-row\",onClick:this.props.onClick},rowHTML)}});var TabularView=React.createClass({displayName:\"TabularView\",mixins:[Controls.AsyncState,Controls.SizeToWindow],statics:{getColumns:_getColumns},getDefaultProps:function(){return{rowHeight:38,imageRowHeight:50+16,headerHeight:PageLayout.get(\"table_column_header_height\"),rowsToFetch:300}},getInitialState:function(){return{rows:[],rowStart:0,scrollTop:0,scrollLeft:0,currentTask:null,taskTimeout:null,pageOffset:0,highlightRow:null,getColumnWidth:_.memoize(_getColumnWidth),getColumns:_.memoize(_getColumns),getTableWidth:_.memoize(_getTableWidth)}},updateAsyncState:function(nextProps){this.setState({getColumnWidth:_.memoize(_getColumnWidth),getColumns:_.memoize(_getColumns),getTableWidth:_.memoize(_getTableWidth)},function(){var pageTasks=[];if(Util.tryGetProperty(nextProps.selected_variable,[\"descriptives\",\"rows\"],0)!==0){pageTasks.push(new TaskQueue.SingleTask(\"/rows/\"+String(this.state.rowStart)+\"/\"+String(this.props.rowsToFetch+this.state.rowStart),\".head()\").done(function(data){this.setState({rows:data.values})}.bind(this)));this.addTask(new TaskQueue.MultiTask(pageTasks).always(function(){var metric=(this.canceled?\"page_task\":\"page_task.canceled\")+\".duration.ms\";Logging.reportMetric(metric,this.elapsed(),{operation:this.operation(),type:\"SFrame\"})}))}}.bind(this))},scrollTable:function(evt){var scrollTop=$(evt.target).scrollTop();var scrollLeft=$(evt.target).scrollLeft();this.setState({scrollTop:scrollTop,scrollLeft:scrollLeft})},docScrollTable:function(newOffset){this.setState({pageOffset:newOffset})},componentDidUpdate:function(prevProps,prevState){if(this.state.scrollTop!==prevState.scrollTop||this.state.pageOffset!==prevState.pageOffset){var node=this.refs.tableScrollContainer.getDOMNode();$(node).scrollTop(this.state.scrollTop);$(node).scrollLeft(this.state.scrollLeft);this.updateTable()}},updateTable:function(){var newDimensions=this.getDimensions();if(newDimensions.currentRowStart>this.state.rowStart+this.props.rowsToFetch-50||Math.max(newDimensions.currentRowStart-5,0)<this.state.rowStart){var newStart=Math.max(newDimensions.currentRowStart-50,0);if(newStart!==this.state.rowStart){var task=new TaskQueue.SingleTask(\"/rows/\"+String(newStart)+\"/\"+String(newStart+this.props.rowsToFetch)).done(function(data){this.setState({rows:data.values,rowStart:newStart,currentTask:null})}.bind(this)).fail(function(){this.setState({currentTask:null})}.bind(this));if(this.state.taskTimeout!==null){clearTimeout(this.state.taskTimeout)}if(this.state.currentTask!==null){this.state.currentTask.cancel()}this.setState({currentTask:task,taskTimeout:setTimeout(function(){task.run()},200)})}}},getDimensions:function(scrollTop,pageOffset){if(typeof scrollTop===\"undefined\"){scrollTop=this.state.scrollTop}if(typeof pageOffset===\"undefined\"){pageOffset=this.state.pageOffset}var totalRows=Util.tryGetProperty(this.props.selected_variable,[\"descriptives\",\"rows\"],0);var docScrollerThreshold=1e5;var docScrollerWidth=PageLayout.get(\"table_nav_width\");var elementHeight=PageLayout.tableHeight();var columnHeaderHeight=this.props.headerHeight;var docScrollerHeight=elementHeight-24-10;var docScrollerPageHeight=Math.min(1,docScrollerThreshold/totalRows)*docScrollerHeight;var docScrollerVisualPadding=Math.max(0,10-docScrollerPageHeight);var elementWidth=PageLayout.tableWidth();var columns=this.state.getColumns(this.props);var rowHeight=columns.some(function(col){return col.dtype===\"Image\"})?this.props.imageRowHeight:this.props.rowHeight;var rowsInView=Math.min(totalRows,docScrollerThreshold);var currentPageStart=Math.ceil(pageOffset/docScrollerHeight*totalRows);var currentRowStart=currentPageStart+Math.floor(scrollTop/rowHeight);currentRowStart-=currentRowStart%2;var rowsVisible=Math.ceil(elementHeight/rowHeight)+3;var currentRowEnd=currentRowStart+rowsVisible;var fillerAbove=Math.min(rowsVisible,this.state.rowStart-currentRowStart);var fillerBelow=Math.min(rowsVisible,currentRowEnd-(this.state.rowStart+this.props.rowsToFetch));var heightAbove=(currentRowStart-currentPageStart)*rowHeight;var heightBelow=Math.max(0,(rowsInView-(currentRowEnd-currentPageStart))*rowHeight);var rowHeaderWidth=18+Math.floor(10*Math.log(totalRows)/Math.LN10);var tableWidth=Math.min(elementWidth,this.state.getTableWidth(columns,rowHeaderWidth+1));return{elementHeight:elementHeight,currentRowStart:currentRowStart,currentRowEnd:currentRowEnd,fillerAbove:fillerAbove,fillerBelow:fillerBelow,heightAbove:heightAbove,heightBelow:heightBelow,rowHeaderWidth:rowHeaderWidth,tableWidth:tableWidth,docScrollerWidth:docScrollerWidth,docScrollerHeight:docScrollerHeight,docScrollerPageHeight:docScrollerPageHeight,docScrollerVisualPadding:docScrollerVisualPadding,rowsInView:rowsInView,columnHeaderHeight:columnHeaderHeight,rowHeight:rowHeight,totalRows:totalRows,docScrollerThreshold:docScrollerThreshold}},highlightRow:function(idx){if(idx===this.state.highlightRow){idx=null}this.setState({highlightRow:idx})},onDocScroll:function(newPageOffset){this.setState({pageOffset:newPageOffset})},goToRowChange:function(evt){var value=null;var dimensions=this.getDimensions();try{value=parseInt(this.refs.goToRow.getDOMNode().value,10)}catch(e){return}var dimensions=this.getDimensions();var maxValueForPageOffset=dimensions.totalRows-dimensions.rowsInView;var scrollOffset=0;if(value<0){value=dimensions.totalRows+value}else if(value>dimensions.totalRows-1){value=dimensions.totalRows-1}var pageOffset=value/dimensions.totalRows*dimensions.docScrollerHeight;if(value>maxValueForPageOffset){var scrollForward=value-maxValueForPageOffset;pageOffset=maxValueForPageOffset/dimensions.totalRows*dimensions.docScrollerHeight;scrollOffset=scrollForward/dimensions.rowsInView*(dimensions.rowsInView*dimensions.rowHeight)}this.setState({scrollTop:scrollOffset,pageOffset:pageOffset})},render:function(){var dimensions=this.getDimensions();var columns=this.state.getColumns(this.props);var formatSArrayValue=_.memoize(Util.formatSArrayValue,JSON.stringify);var goToRowHeight=20;var goToRowGreyBorder=\"1px solid #dedede\";var goToRow=React.DOM.div({style:{width:dimensions.docScrollerWidth,height:goToRowHeight}},React.DOM.input({id:\"goToRow\",ref:\"goToRow\",style:{width:69,height:goToRowHeight,borderLeft:goToRowGreyBorder,borderTop:goToRowGreyBorder,borderBottom:goToRowGreyBorder,borderRight:\"none\",paddingLeft:5},type:\"number\",placeholder:\"row #\"}),React.DOM.a({style:{display:\"inline-block\",width:27,height:goToRowHeight,backgroundColor:\"#85bd41\",color:\"white\",textTransform:\"uppercase\",verticalAlign:\"top\",textDecoration:\"none\",lineHeight:String(goToRowHeight)+\"px\",textAlign:\"center\",fontSize:11},href:\"javascript:\",onClick:this.goToRowChange.bind(this)},\"Go\"));var headerTableWidth=dimensions.tableWidth-dimensions.rowHeaderWidth;var requestedRowsAreLoaded=this.state.rows[dimensions.currentRowStart-this.state.rowStart]!==undefined;var emptyRow=columns.map(function(col){return null});var loadingOverlay=!requestedRowsAreLoaded?React.DOM.div({\"class\":\"sframe-table-overlay\",style:{position:\"absolute\",top:0,left:dimensions.docScrollerWidth+dimensions.rowHeaderWidth,height:dimensions.columnHeaderHeight,width:headerTableWidth,zIndex:100,backgroundColor:\"#333\",opacity:.8,verticalAlign:\"middle\",textAlign:\"center\"}},React.DOM.span({style:{display:\"inline-block\",fontSize:\"24px\",color:\"#efefef\"}},\"Loading...\")):null;return React.DOM.div({className:\"canvas sframe\",style:{width:PageLayout.contentWidth(),zIndex:1,position:\"relative\"}},React.DOM.div({style:{\"float\":\"left\"}},goToRow,DocScroller({width:dimensions.docScrollerWidth,height:dimensions.docScrollerHeight,pageHeight:dimensions.docScrollerPageHeight,totalHeight:dimensions.elementHeight,visualPadding:dimensions.docScrollerVisualPadding,totalRows:dimensions.totalRows,dragPosition:this.state.pageOffset,marginTop:dimensions.columnHeaderHeight-goToRowHeight-18,onDragEnd:this.docScrollTable.bind(this)})),loadingOverlay,React.DOM.div({style:{overflow:\"hidden\"}},React.DOM.div({className:\"canvas-sframe-table-header\",style:{overflow:\"hidden\",marginLeft:dimensions.rowHeaderWidth,height:dimensions.columnHeaderHeight,width:headerTableWidth}},React.DOM.table({className:\"sframe-table table table-striped\",style:{marginBottom:0,marginLeft:-this.state.scrollLeft,width:dimensions.tableWidth-dimensions.rowHeaderWidth,tableLayout:\"fixed\"}},React.DOM.thead(null,React.DOM.tr(null,columns.map(function(col,idx){var handleClick=function(c){var selected_column=this.props.selected_variable.name.concat([c.name]);this.props.selectVariable(selected_column)}.bind(this,col);return React.DOM.th({key:idx,style:RowView.getHeaderCellStyle(dimensions.columnHeaderHeight,{width:this.state.getColumnWidth(col.dtype)})},Column({name:col.name,selected_variable:this.props.selected_variable,selectVariable:this.props.selectVariable}))}.bind(this))))))),React.DOM.div({id:\"tableArea\",style:{overflow:\"hidden\",marginLeft:dimensions.docScrollerWidth},onScroll:this.scrollTable,ref:\"tableArea\"},React.DOM.div({style:{position:\"relative\",overflowY:\"scroll\",height:PageLayout.tableHeight()+1,width:dimensions.tableWidth,borderLeft:\"1px solid #EEE\",borderRight:\"1px solid #EEE\",borderBottom:\"1px solid #EEE\"},ref:\"tableScrollContainer\"},React.DOM.div({style:{marginTop:dimensions.heightAbove,marginBottom:dimensions.heightBelow}},React.DOM.table({className:\"sframe-table table-striped\",style:{tableLayout:\"fixed\",overflowX:\"hidden\",width:dimensions.tableWidth}},React.DOM.thead(null,React.DOM.th({style:{width:dimensions.rowHeaderWidth}}),columns.map(function(col){return React.DOM.th({style:{width:this.state.getColumnWidth(col.dtype)}})}.bind(this))),React.DOM.tbody(null,d3.range(dimensions.fillerAbove).map(function(i){return RowView({columns:columns,number:i+dimensions.currentRowStart})}),this.state.rows.slice(dimensions.currentRowStart-this.state.rowStart,dimensions.currentRowEnd-this.state.rowStart).map(function(row,i){var rowNumber=i+dimensions.currentRowStart;return RowView({columns:columns,onClick:this.highlightRow.bind(this,rowNumber),highlight:this.state.highlightRow===rowNumber,number:rowNumber,data:row,formatter:formatSArrayValue,rowHeight:dimensions.rowHeight,imageRowHeight:dimensions.imageRowHeight})}.bind(this)),d3.range(dimensions.fillerBelow).map(function(i){return RowView({columns:columns,number:i+dimensions.currentRowStart})})))))))}});return{TabularView:TabularView,Column:Column}});\n",
        "\n",
        "                \n",
        "            var s = document.createElement('style');\n",
        "            s.appendChild(document.createTextNode(\"html, body, #canvas-page, .canvas-body-container {  height: 100%;}.canvas {  font-family: 'Helvetica Neue', Helvetica, 'Liberation Sans', Arial, sans-serif;}body.canvas {  background-color: #5a6378;  color: white;}t.modal-content {  color: black;}.canvas-header-container {  width: 100%;  position: relative;  height: 4px;}.canvas-body-container {  display: table;  width: 100%;}.canvas-header {  background-color: white;  width: 100%;  height: 60px;  line-height: 60px;  padding-left: 15px;  padding-right: 15px;  font-size: 24px;  font-weight: 300;  letter-spacing: 1px;}.canvas-leftnav {  display: table-cell;  width: 180px;  min-width: 180px;  vertical-align: top;  background-color: #393f4f;  margin-bottom: 78px;}.canvas-title {  font-size: 14px;  height: 40px;  line-height: 40px;  text-align: center;  color: #9c9c9c;  background-color: #2f2b2b;  margin-top: 0px;  margin-bottom: 0px;  letter-spacing: 2px;  font-weight: 300;}.canvas-title > .canvas-brand {  color: #747b8e;  text-transform: uppercase;  letter-spacing: 3px;}.canvas-main {  margin-left: 230px;  margin-right: 15px;  vertical-align: top;  display: table-cell;}.canvas-progressbar.progress {  height: 55px;  border-radius: 0px;  box-shadow: none;  -webkit-box-shadow: none;  background-color: #5a6378;  position: relative;  margin-bottom: 0px;  padding-left: 20px;}.canvas-progressbar.progress > .progress-bar {  background-color: #bad98d;  box-shadow: none;  -webkit-box-shadow: none;  position: absolute;}.canvas-progressbar-contents {  position: absolute;  width: 100%;}.canvas-breadcrumb {  font-size: 24px;  height: 40px;  line-height: 50px;  padding-left: 20px;  color: white;  display:inline-block;  left: 15px;  font-weight: 300;}.canvas-breadcrumb .active {  display: inline-block;}.canvas-descriptives {  display:inline-block;  color: white;  font-size: 12px;  font-weight: 700;  position: absolute;  right: 60px;  top: 8px;}.canvas-descriptives .label {  font-weight: 300;  margin-left: 15px;  color: white;  height: 40px;  line-height: 40px;  font-size: 12px;  text-transform: capitalize;}.canvas-tabcontents {  overflow: auto;}.canvas-sframe-table-header {  background-color: #0a8cc4;}.canvas-sframe-column-header {  background-color: #0a8cc4;  overflow: hidden;  font-size: 16px;  font-weight: 300;  color: white;  text-align: left;}.canvas-sframe-column-title {  display: block;  overflow: hidden;  white-space: nowrap;  text-overflow: ellipsis;  width: 100%;  padding: 11px 11px 11px 15px;}a.canvas-sframe-column-title,a.canvas-sframe-column-title:hover,a.canvas-sframe-column-title:active {  color: white;  text-decoration: underline;}.canvas-sframe-table {  max-width: none;  table-layout: fixed;  background-color: white;  color: black;  margin: 12px;}.canvas-sframe-table th.padding,.canvas-sframe-table td.padding {  width: 192px;  min-width: 192px;  padding: 1px 8px;  border-right: 4px solid #f3f3f3;  vertical-align: top;}.canvas-sframe-table-head-label {  font-weight: 500;  text-transform: capitalize;  display: block;  font-size: 12px;}.canvas-sframe-table tr.canvas-sframe-table-head-row:nth-child(odd) {  background-color: #fafafa;}.canvas-sframe-table td.padding.canvas-sframe-table-head-value {  font-size: 12px;  padding-top: 4px;  padding-bottom: 4px;}.canvas-sframe-inner-table {  width: 100%;  margin-top: 10px;  margin-bottom: 12px;}.canvas-sframe-summary-statistic-name {  font-size: 12px;  height: 25px;}.canvas-sframe-summary-statistic-value {  font-size: 18px;  font-weight: 300;  text-align: right;}.canvas-quantile-histogram {  position: relative;}rect.bar {  fill: #85bd00;}rect.bar:hover {  fill: #ff5500;}.canvas-quantile-histogram .bar {  stroke: #fff;  stroke-width: 1px;  transition-property: transform;  -webkit-transition-property: -webkit-transform;  transition-duration: 0.3s;}.canvas-singlecolumn-table {  max-width: 650px;  font-size: 12px;}.canvas-sarray-table {  display: inline-block;  vertical-align: top;  margin: 115px 30px 30px 0px;}.canvas-sarray-table.categorical {  margin: 0px;  max-width: 650px;}.canvas-sarray-table.categorical table tr {  height: 28px;}.canvas-singlecolumn-plot {  display: inline-block;  vertical-align: top;  width: 560px;}.canvas-histogram-label {  font-size: 11px;  fill: #777;}.canvas-histogram-title {  font-size: 18px;  fill: black;}.canvas-histogram-axis-title {  font-size: 14px;  fill: #777;}.canvas-histogram-axis-subtitle {  font-size: 12px;  fill: #777;}.canvas-boxplot-line {  stroke: #85bd00;  stroke-width: 1;  stroke-dasharray: 0.2, 0.08;}.canvas-boxplot-end {  stroke: #85bd00;  stroke-width: 0.5;}.canvas-sframe-boxplot-tooltip td+td {  text-align: right;  padding-left: 12px;}.canvas-statusbar .alert {  margin-bottom: 0px;  border-radius: 0px;  padding: 10px;}.canvas-statusbar .alert .close {  right: 0px;}.canvas-statusbar-stack-trace-link {  display: inline;}.canvas-logo {  height: 60px;}.canvas-logo,.canvas-feedback {  position: absolute;  bottom: 0px;  left: 0px;  height: 78px;  vertical-align: middle;  display: inline-block;  padding: 15px 25px;}.canvas-feedback > img {  width: 60px;  height: 39px;  display: inline-block;}.canvas-feedback-button {  line-height: 14px;  font-size: 12px;  color: white;  vertical-align: middle;  margin-left: 8px;  display: inline-block;}.canvas-feedback-button:active,.canvas-feedback-button:hover,.canvas-feedback-button:focus {  color: white;}.canvas-header-colorbar > div {  width: 20%;  height: 4px;  position: absolute;  top: 0px;}.canvas-header-glcreate {  color: #0a8cc4;}.canvas-feedback-form {  width: 100%;  padding: 10px;  font-size: 13px;  line-height: 13px;}.canvas-feedback-form label {  font-weight: 300;  margin-bottom: 0px;}.canvas-feedback-log-area {  margin-bottom: 12px;  line-height: 20px;}.canvas-feedback-log-radios {  margin-left: 30px;}.canvas-feedback-log-radios span+span {  margin-left: 20px;}.canvas-feedback-log-radios input[type=\\\"radio\\\"] {  margin-left: 6px;}.canvas-feedback-form textarea,.canvas-feedback-form input[type=\\\"email\\\"] {  width: 100%;  padding: 10px 20px;  color: black;}.canvas-feedback-form textarea {  min-height: 118px;  margin-bottom: 24px;}.canvas-feedback-form input[type=\\\"email\\\"] {  margin-top: 8px;}.canvas-form-buttons {  margin-top: 26px;  width: 100%;}.canvas-form-buttons a {  display: inline-block;  width: 170px;  text-align: center;  text-transform: uppercase;  font-size: 22px;  line-height: 38px;}.canvas-form-buttons a+a {  margin-left: 30px;}.canvas-form-buttons a:active,.canvas-form-buttons a:hover {  text-decoration: none;}.canvas-form-submit:hover,.canvas-form-submit:active,.canvas-form-submit:focus,.canvas-form-submit {  color: white;  background-color: #0a8cc4;}.canvas-form-cancel:hover,.canvas-form-cancel:active,.canvas-form-cancel:focus,.canvas-form-cancel {  color: #2b2b2b;  background-color: #c5c5c5;}.canvas-view-main {  background-color: white;  color: black;  padding: 12px 0 12px 12px;}.canvas-view-main.sarray {  padding: 20px 40px;}.canvas-view-main.sgraph {  padding: 20px 40px;}.canvas-plot-boxandwhisker {  text-align: center;}.canvas-plot-boxandwhiskerarray {  text-align: center;}.canvas-sarray-plot-axes {  stroke: #777;  stroke-width: 1px;}.canvas-histogram-x-axis {  font-size: 14px;  color: #777;  position: absolute;  top: 450px;  left: 85px;  width: 376px;  text-align: center;}.canvas-slider {  background-color: #f9f9f9;  padding: 6px;  margin-left: 90px;  width: 376px;}.canvas-slider-label {  text-transform: uppercase;}.canvas-slider > div {  display: inline-block;  vertical-align: middle;  color: #777;}.canvas-slider > div+div {  margin-left: 6px;}.canvas-slider-control > span,.canvas-slider-control > input {  display: inline-block;  vertical-align: middle;}.canvas-slider-control > span {  margin-left: 6px;  margin-right: 6px;}.canvas-slider-control > input {  width: 196px;}.canvas-tooltip {  position: fixed;  width: 300px;  background-color: #ff5400;  font-size: 12px;  text-align: center;  color: white;  padding: 4px 8px;}.canvas-tooltip:after {content: ' ';  height: 0;  position: absolute;  width: 0;  border: 10px solid transparent;  border-top-color: #ff5400;  top: 100%;  left: 50%;  margin-left: -10px;}.canvas-scatter-axes{  stroke:#85bd00;  stroke-width:3;}.canvas-scatter-ticks{  stroke: #444444;  stroke-width:1;}.canvas-scatter-gridlines{  stroke:rgb(0,0,0);  stroke-width: 1px;  opacity: .15;}.canvas-scatter-rectFrame{  fill-opacity: 0;  stroke-width: 1;  stroke: #444444;}.canvas-scatter-axesLabel{  text-anchor: middle;}.canvas-scatter-numLabel{  text-anchor: middle;  font-size: 10px;  fill: #4B4B4B;}.canvas-scatter-point:hover{  fill: #ff5500;}.canvas-scatter-point{    -webkit-transition: fill .15s, opacity .5s ease, -webkit-transform 1s ease; /* For Safari 3.1 to 6.0 */    transition: fill .15s, opacity .5s ease, transform 1s ease;    stroke-width: 0;    fill: #0a8cc4;}.canvas-scatter-trendline:hover{  stroke: #ff5500;}.canvas-scatter-trendline{  stroke:rgb(0,0,0);  stroke-width: 3;  stroke: #b0007f;  -webkit-transition: stroke .15s; /* For Safari 3.1 to 6.0 */  transition: stroke .15s;}.canvas-scatter-toggle{  fill: blue;  stroke: blue;  stroke-width: 1;  width: 75;}.canvas-scatter-frame{  background-color: #FFFFFF;  position: relative;}.canvas-scatter-axesLabel{  text-align: center;}.canvas-scatter-labelSelect{  width: 150px;  height: 75px;}.canvas-scatter-title{  font-size: 20px;}.canvas-scatter-toggleLabel{  color: #444444;}.canvas-scatter-lineGraph:hover{  stroke: #ff5500;}.canvas-scatter-lineGraph{  stroke-width: 2;  stroke: #5e5555;}.canvas-heatmap-axesLabel{  text-align: center;}.canvas-heatmap-toggleLabel{  color: #444444;}.canvas-heatmap-bin{  fill-opacity: 1;  stroke-width: 0;}.canvas-heatmap-frame{  position: relative;  background-color: #FFFFFF;}.canvas-bar-rectFrame{  fill-opacity: 0;  stroke-width: 1;  stroke: #444444;}.canvas-bar-ticks{  stroke: #444444;  stroke-width:1;}.canvas-bar-ticks:hover{  stroke: #ff5500;}.canvas-bar-gridlines{  stroke:rgb(0,0,0);  stroke-width: 2px;  opacity: .15;}.canvas-bar-numLabel{  text-anchor: middle;  font-size: 10px;  fill: #4B4B4B;}.canvas-bar-textLabel{  text-anchor: middle;  font-size: 10px;  fill: #4B4B4B;}.canvas-bar-axes{  stroke:#85bd00;  stroke-width:2;}.canvas-bar-frame{  position: relative;  background-color: #FFFFFF;}.canvas-bar-barRect:hover{  fill: #ff5500;}.canvas-bar-toggleLabel{  color: #444444;}.canvas-bar-barRect{    stroke-width: 1;    stroke: #555555;    fill: #0a8cc4;}.canvas-map-frame{  position: relative;}.canvas-map-canvas{  cursor: -moz-zoom-in;  cursor: -webkit-zoom-in;  cursor: zoom-in;  position: absolute;  top: 0px;  left: 0px;}.canvas-map-mapContainer{  position: relative;}.canvas-map-outerContainer{  color: black;}.canvas-choropleth-outerFrame{  color: black;}.canvas-densityMap-outerFrame{  color: black;}.canvas-densityMap.frame{  position: relative;}.canvas-densityMap-canvas{  cursor: -moz-zoom-in;  cursor: -webkit-zoom-in;  cursor: zoom-in;  position: absolute;  top: 0px;  left: 0px;}.canvas-densityMap-mapContainer{  position: relative;}.canvas-densityMap-map{  position: absolute;  top: 0px;  left: 0px;}.canvas .nav-tabs {  border-bottom: 0;}.canvas .nav-tabs>li {  margin-bottom: 0px;}.canvas .nav-tabs>li>a {  border-radius: 0;  background-color: #dedede;}.canvas .nav-tabs>li.active>a, .nav-tabs>li.active>a:hover, .nav-tabs>li.active>a:focus {  background-color: white;}.sframe-table.table>thead>tr>th {  border-bottom: 0;  text-align: center;  background-color: #0a8cc4;  border-left: 3px solid white;  border-right: 3px solid white;  padding: 0px;}.sframe-table.table>thead>tr>th,.sframe-table.table>tbody>tr>th,.sframe-table.table>tfoot>tr>th,.sframe-table.table>thead>tr>td,.sframe-table.table>tbody>tr>td,.sframe-table.table>tfoot>tr>td {  border-top: 0;  border-bottom: 0;  border-left: 0;  border-right: 2px solid #eaeaea;}.sframe-table.table>thead>tr>th a,.sframe-table.table>thead>tr>th a:active,.sframe-table.table>thead>tr>th a:hover {  text-decoration: underline;  color: white;  font-weight: 300;  font-size: 16px;}.sframe-table.table-striped>tbody>tr:nth-child(odd)>td,.sframe-table.table-striped>tbody>tr:nth-child(odd)>th {  background-color: #fafafa;}.canvas .tab-content {  background-color: white;}.canvas-docscroller-label {  color: #85bd00;  width: 56px;  height: 24px;  text-align: center;}.canvas-sframe-summary-plot-title {  font-size: 14px;  margin-bottom: 8px;  margin-top: 8px;}/* artifact css */.canvas-stage-table {  color : #000;  background-color: white;  max-width: none;  margin-bottom:30px;}.canvas-stage-title {  color : #000;  padding-top : 15px;  margin-left : 30px;  margin-right : 30px;  font-weight : 400;  font-size : 20px;}.canvas-stage-graph {  margin-top : 10px;  margin-bottom: 10px;  margin-left : 10px;  margin-right : 10px;  background-color: white;  max-width: none;}.canvas-stage-info {  color : #000;  margin-left : 50px;  margin-right : 50px;}.canvas-stage-code {  margin-left : 50px;  margin-right : 70px;  margin-top : 10px;  margin-bottom: 20px;  padding-bottom: 20px;}.canvas-task-param-name {  color : #b0007f;  font-weight : 500;}table.canvas-task-param-table th {  border : 1px solid #c5c5c5;  padding : 5px;  vertical-align : top;  background-color : #5e5555;  color : #ffffff;  text-align : left;  font-weight : 500;  font-size : 14px;}table.canvas-task-param-table td {  border : 1px solid #c5c5c5;  padding : 5px;  vertical-align : top;  font-weight : 450;  font-size : 14px;}table.canvas-task-param-table td:nth-child(1) {  width:35%;}table.canvas-task-param-table td:nth-child(2) {  width:40%;}table.canvas-task-param-table td:nth-child(3) {  width:25%;}table.canvas-task-param-table {  color : #000;  margin-top : 10px;  max-width : 550px;  min-width : 350px;  border : 1px solid #c5c5c5;}.canvas-task-gantt-label {  font-size: 10px;  fill: #777;  word-wrap: break-word;}table.canvas-task-param-table {  color : #000;  margin-top : 10px;  max-width : 550px;  min-width : 350px;  border-collapse: separate;  border-spacing:2px;}table.canvas-task-gantt-table th {  color : #000;  padding : 5px;  vertical-align : top;  text-align : left;  min-height : 25px;}table.canvas-task-gantt-table td {  color : #000;  padding : 5px;  vertical-align : top;  font-size : 13px;  font-weight : 450;  margin-top : 5px;  margin-bottom : 5px;}table.canvas-task-gantt-table td:nth-child(1) {  width:20%;  max-width: 300px;}table.canvas-task-gantt-table td:nth-child(2) {  width:80%;}table.canvas-task-gantt-table tr {  width:100%;}table.canvas-task-gantt-table {  width: 100%;}.canvas-task-gantt-axes {  stroke: #000;  stroke-width: 1.5px;}.canvas-gantt-label {  font-size: 11px;  fill: #000;}.canvas-gantt-chart {  position: relative;  display: table;  max-width: 95%;}.canvas-task-views {  min-height : 250px;  max-height : 1300px;  min-width : 700px;  /*max-width : 1000px;*/  overflow-x : auto;  overflow-y : auto;  margin-left : 50px;  margin-right : 50px;  /*border-bottom : 1px solid #0a8cc4;*/}.canvas-task-tab {  width : 900px;  height : 36px;  text-align : center;  margin-left : 50px;  font-weight : 450;  clear : both;}.canvas-task-tab-element {  padding-top : 8px;  padding-bottom : 10px;  width : 120px;  height : 36px;  color : #000;  float : left;  /*cursor : pointer;*/  text-align: left;  font-size: 20px;  /*border-left : 1px solid #c5c5c5;  border-top-left-radius:0.5em;  border-top-right-radius:0.5em;*/}.canvas-task-status-container {  margin-left : 58px;  margin-bottom : 20px;}.canvas-task-status {  padding-top : 8px;  padding-bottom : 10px;  /*background-color : #0a8cc4;*/  width : 80px;  height : 36px;  margin-left: 10px;  color : #000;  float : left;  text-align : center;}.canvas-task-status-fa {  padding-top : 8px;  padding-bottom : 10px;  width : 80px;  height : 36px;  color : #000;  float : left;  text-align : left;}.canvas-task-info {  margin-left : 50px;  margin-right : 50px;  padding-left : 25px;  /*border-top : 1px solid #0a8cc4;*/  /*border-bottom : 1px solid #0a8cc4;*/  max-width : 1000px;  padding-top : 25px;  padding-bottom : 35px;}.no-select{   user-select: none;   -o-user-select:none;   -moz-user-select: none;   -khtml-user-select: none;   -webkit-user-select: none;}.pointer {  cursor : pointer;}.task-graph {  /*background-color : #f5f5f5;*/}.canvas-fa-index {  z-index : 10;  font-size: 16px;}.task-graph-container {  /*background-color : #f5f5f5;*/  position: relative;}.canvas-job-title {  margin-left: 50px;  margin-top: 15px;  font-size: 20px;  font-weight: 450;}.canvas-task-view-border {  border-top : 1px solid #0a8cc4;}.canvas-job-container {  margin-top : 5px;  margin-left: 20px;  margin-right : 20px;  color : #000;}.canvas-job-running-column {  cursor : pointer;  border-top : 1px solid #0a8cc4;}.canvas-job-running-val {  padding-top : 5px;  padding-bottom : 5px;  color : #000;  font-size : 13px;  font-weight : 400;  float : left;  text-align : left;}.canvas-job-running-val.starttime {  padding-left: 5px;  width : 160px;}.canvas-job-running-val.name {  padding-left: 5px;  width : 300px;}.canvas-job-running-val.status {  padding-left: 5px;  width : 100px;}.canvas-job-running-val.type {  padding-left: 5px;  width : 160px;}.canvas-job-history-container {  color : #000;  font-size : 14px;  font-weight : 450;  float : left;  text-align : left;  width : 100%;}.canvas-job-history-val {  color : #000;  font-size : 14px;  font-weight : 450;  float : left;  text-align : left;  height : 40px;}.canvas-job-history-container:nth-child(even) {  background-color : #f5f5f5;}.canvas-job-history-val.starttime {  padding-top : 8px;  padding-bottom : 5px;  padding-left: 15px;  width : 20%;  border-right : 1px solid #e0e0e0;}.canvas-job-history-val.name {  padding-top : 8px;  padding-bottom : 5px;  padding-left: 15px;  width : 30%;  border-right : 1px solid #e0e0e0;}.canvas-job-history-val.endtime {  padding-top : 8px;  padding-bottom : 5px;  padding-left: 10px;  width : 16%;  border-right : 1px solid #e0e0e0;}.canvas-job-history-val.duration {  padding-top : 8px;  padding-bottom : 5px;  padding-left: 10px;  width : 14%;}.canvas-job-history-val.status {  padding-top : 8px;  padding-bottom : 5px;  padding-left: 5px;  width : 14%;  border-right : 1px solid #e0e0e0;}.canvas-job-history-val.type {  padding-top : 8px;  padding-bottom : 5px;  padding-left: 10px;  width : 20%;  border-left : 1px solid #e0e0e0;}.canvas-job-title-val {  padding-top : 5px;  padding-bottom : 5px;  color : #000;  font-size : 16px;  font-weight : 500;  float : left;  text-align : left;  width : 100%;}.canvas-job-title-val.starttime {  padding-left: 15px;  width : 20%;}.canvas-job-title-val.name {  padding-left: 15px;  width : 30%;}.canvas-job-title-val.endtime {  padding-left: 10px;  width : 16%;}.canvas-job-title-val.duration {  padding-left: 10px;  width : 14%;}.canvas-job-title-val.status {  padding-left: 5px;  width : 14%;}.canvas-job-title-val.type {  padding-left: 10px;  width : 20%;}table.canvas-job-list {  padding: 10px;  background-color: #fff;  width: 100%;}table.canvas-job-list tr {  width: 100%;}table.canvas-job-list tr:nth-child(even) {  background-color : #f9f9f9;}table.canvas-job-list th {  padding-top : 15px;  padding-bottom : 5px;  color : #000;  font-size : 16px;  font-weight : 500;  float : left;  text-align : left;  width : 100%;  height: 50px;}table.canvas-job-list th:nth-child(1) {  padding-left: 40px;  width : 14%;}table.canvas-job-list th:nth-child(2) {  padding-left: 15px;  width : 30%;}table.canvas-job-list th:nth-child(3) {  padding-left: 10px;  width : 20%;}table.canvas-job-list th:nth-child(4) {  padding-left: 15px;  width : 20%;}table.canvas-job-list th:nth-child(5) {  padding-left: 10px;  width : 14%;}table.canvas-job-list td {  color : #000;  font-size : 14px;  font-weight : 450;  float : left;  text-align : left;  height : 50px;}table.canvas-job-list td:nth-child(1) {  padding-top : 12px;  padding-bottom : 5px;  padding-left: 15px;  width : 14%;  border-right : 2px solid #eeeeee;}table.canvas-job-list td:nth-child(2) {  padding-top : 8px;  padding-bottom : 5px;  padding-left: 15px;  width : 30%;  border-right : 2px solid #eeeeee;}table.canvas-job-list td:nth-child(3) {  padding-top : 12px;  padding-bottom : 5px;  padding-left: 10px;  width : 20%;  border-right : 2px solid #eeeeee;}table.canvas-job-list td:nth-child(4) {  padding-top : 8px;  padding-bottom : 5px;  padding-left: 15px;  width : 20%;}table.canvas-job-list td:nth-child(5) {  border-left : 2px solid #eeeeee;  padding-top : 12px;  padding-bottom : 5px;  padding-left: 10px;  width : 14%;}.canvas-job-statusbox {  margin-top : 2px;  margin-left : 2px;  padding-left : 5px;  padding-top : 5px;  padding-bottom : 5px;  height : 30px;  max-width : 120px;}.canvas-job-tab {  height : 30px;  text-align : center;  margin-left : 50px;  font-weight : 450;  clear : both;}.canvas-job-tab-element {  padding-top : 8px;  width : 100px;  height : 30px;  color : #000;  float : left;  cursor : pointer;  text-align: center;  font-size: 13px;  margin-right: -1px;  border-left : 1px solid #c5c5c5;  border-top : 1px solid #c5c5c5;  border-right : 1px solid #c5c5c5;}.canvas-job-wrapper {  border-left : 1px solid #c5c5c5;  border-top : 1px solid #c5c5c5;  border-right : 1px solid #c5c5c5;  border-bottom : 1px solid #c5c5c5;  margin-left : 50px;  padding-right : 25px;  margin-right : 50px;  padding-left : 25px;  padding-right : 25px;  min-width : 800px;  padding-top : 25px;  padding-bottom : 35px;  margin-top : -1px;}.canvas-task-graph {  margin-top : 10px;  margin-bottom: 10px;  margin-left : 10px;  margin-right : 10px;  background-color: white;  max-width: none;  float: left;}.canvas-task-info-table {  margin-left : 20px;  margin-right : 30px;  padding-top : 20px;}.canvas-task-status-header {  font-size: 16px;  margin-bottom: 2px;}.canvas-task-info-header {  height: 28px;  padding-top: 2px;  font-size : 16px;  margin-bottom: 2px;  border-bottom: 1px solid #fff;  background-color: #eeeeee;  color: #000;  padding-left: 10px;}.canvas-task-info-type {  font-size : 14px;  font-weight: 400;}.canvas-task-info-val-wrapper {  padding-left: 5px;  background-color: #f8f8f8;  font-size : 16px;  font-weight: 400;}.canvas-task-info-val-input {  padding-left : 10px;  width : 200px;  font-size : 14px;}.canvas-task-info-val-input-inner {  padding-left : 10px;  width : 180px;  font-size : 14px;}.canvas-task-info-val-param {  padding-left : 10px;  width : 200px;  font-size : 14px;}.canvas-task-info-val-param:nth-of-type(odd) {  background-color : #f5f5f5;}.canvas-task-info-val-output {  padding-left : 10px;  width : 200px;  font-size : 14px;}.canvas-task-info-val-output:nth-of-type(odd) {  background-color : #f5f5f5;}table.canvas-task-table th {  padding-top: 5px;  padding-bottom: 5px;  text-align : left;  font-weight : 500;  font-size : 16px;}table.canvas-task-table tr {}table.canvas-task-table td {  padding-top: 8px;  padding-bottom: 10px;  font-weight : 450;  font-size : 14px;}table.canvas-task-table td:nth-child(1) {  width:15%;  padding-left: 5px;}table.canvas-task-table td:nth-child(2) {  width:40%;  padding-left: 15px;}table.canvas-task-table td:nth-child(3) {  width:25%;  padding-left: 10px;}table.canvas-task-table td:nth-child(4) {  width:20%;  padding-left: 10px;}table.canvas-task-table th:nth-child(1) {  width:15%;  padding-left: 25px;}table.canvas-task-table th:nth-child(2) {  width:40%;  padding-left: 25px;}table.canvas-task-table th:nth-child(3) {  width:25%;  padding-left: 10px;}table.canvas-task-table th:nth-child(4) {  width:20%;  padding-left: 10px;}table.canvas-task-table {  color : #000;  width: 100%;}table.canvas-task-table-outer {  color : #000;  width: 100%;}table.canvas-task-table-outer tr {  width: 100%;  height: 100%;}table.canvas-task-table-outer td {}table.canvas-task-table-outer tr:nth-child(even) {  background-color : #f5f5f5;}.circle-index {  color: #fff;  text-align: center;  width:20px;  height:20px;  border-radius:10px;  float: left;}.canvas-task-wrapper {  background-color: #fff;  border-top : 1px solid #c5c5c5;  border-bottom : 1px solid #c5c5c5;  padding-right : 25px;  padding-left : 25px;  min-width : 600px;  padding-top : 25px;  padding-bottom : 35px;}.canvas-task-display {  color : #000;  background-color: white;  max-width: none;  border-left : 29px solid #f8f8f8;}.canvas-task-table-container {  margin-left : 10px;  margin-right : 10px;  background-color: white;  max-width: none;  float: left;}.canvas-log-title {  text-align: left;}.canvas-log-data {  text-align: right;}.canvas-log-button {  color: #0a8cc4;}.canvas-log-button:hover,focus {  color: #ff5500;}.canvas-task-label-text {  font-size: 12px;  font-weight: 400;}.canvas-task-label-code {  fill: #fff;  font-weight: 400;  font-size: 16px;}.canvas-dep-graph-task-circle {  fill: #fff;  font-size: 14px;  font-weight: 400;}.canvas-job-timeline-container {  width: 100%;  padding-left: 20px;  padding-right: 20px;}.canvas-task-timeline-table-title {  padding-top: 15px;  padding-left: 40px;  font-size: 18px;  font-weight: 300;  color: #6d7485;  height: 50px;}table.canvas-task-timeline-table-outer {  width: 100%;  background-color: #fff;}table.canvas-task-timeline-table-outer tr {  min-width: 800px;  max-height: 40px;  border-bottom: 2px solid #fff;}table.canvas-task-timeline-table-outer td {  max-height: 40px;  min-height: 40px;  padding-left: 15px;  padding-right: 15px;}table.canvas-task-timeline-table {  width: 100%;}table.canvas-task-timeline-table tr {  min-width: 800px;  max-height: 40px;  background-color: #f8f8f8;  border-bottom: 0px solid #fff;}table.canvas-task-timeline-table th {  height: 40px;}table.canvas-task-timeline-table th:nth-child(1) {  padding-left: 8px;  max-width:30px;  min-width:30px;  border-right: 1px solid #fff;}table.canvas-task-timeline-table th:nth-child(2) {  font-size: 16px;  width:250px;  min-width:250px;  border-right: 1px solid #fff;}table.canvas-task-timeline-table th:nth-child(3) {  width:25px;  min-width:25px;}table.canvas-task-timeline-table td {  max-height: 40px;  padding: 0px;}table.canvas-task-timeline-table td:nth-child(1) {  padding-left: 8px;  max-width:30px;  min-width:30px;  background-color: #f8f8f8;  border-right: 2px solid #fff;}table.canvas-task-timeline-table td:nth-child(2) {  width:250px;  font-size: 14px;  min-width:250px;  background-color: #f8f8f8;}table.canvas-task-timeline-table td:nth-child(3) {  width:20px;  font-size: 14px;  min-width:20px;  background-color: #f8f8f8;  border-right: 2px solid #fff;}table.canvas-task-timeline-table td:nth-child(4) {  font-size:0px;  line-height: 0;  min-width:25px;  background-color: #eeeeee;}.canvas-timeline-time-info {  font-size: 12px;  font-weight: 500;  color: #5e5555;}.canvas-timeline-time-val {  font-size: 13px;  font-weight: 400;  color: #000;  margin-bottom: 10px;}.canvas-task-timeline-task-running {  -webkit-animation-name: blinker;  -webkit-animation-duration: 1s;  -webkit-animation-timing-function: linear;  -webkit-animation-iteration-count: infinite;  -moz-animation-name: blinker;  -moz-animation-duration: 1s;  -moz-animation-timing-function: linear;  -moz-animation-iteration-count: infinite;  animation-name: blinker;  animation-duration: 1s;  animation-timing-function: linear;  animation-iteration-count: infinite;}@-moz-keyframes blinker {  0% { opacity: 1.0; }  50% { opacity: 0.0; }  100% { opacity: 1.0; }}@-webkit-keyframes blinker {  0% { opacity: 1.0; }  50% { opacity: 0.0; }  100% { opacity: 1.0; }}@keyframes blinker {  0% { opacity: 1.0; }  50% { opacity: 0.0; }  100% { opacity: 1.0; }}.canvas-task-progressbar.progress {  height: 40px;  border-radius: 0px;  box-shadow: none;  -webkit-box-shadow: none;  background-color: #85bd00;  position: relative;  margin-bottom: 0px;  top:0px;}.canvas-task-progressbar.progress > .progress-bar {  background-color: #85bd00;  box-shadow: none;  -webkit-box-shadow: none;  position: absolute;}.canvas-job-info-label {  color: #0a8cc4;}.canvas-job-info-container {  padding-left: 20px;  padding-right: 20px;}.canvas-job-log-container {  background-color: #fff;  padding: 20px;}.canvas-job-log-viewer {  width: 100%;}table.canvas-task-status-table {  width: 100%;  background-color: #f8f8f8;}table.canvas-task-status-table tr {  height: 40px;  font-size: 14px;  font-weight: 400px;}table.canvas-task-status-table tr:nth-child(even) {  background-color : #f3f3f3;}table.canvas-task-status-table th {  padding-top: 5px;  padding-left: 20px;  font-size: 16px;  font-weight: 500;}table.canvas-task-status-table th:nth-child(1) {  padding-left: 45px;}table.canvas-task-status-table td {  padding-left: 20px;  font-size: 14px;  font-weight: 400px;  text-align: left;  padding-right: 10px;}table.canvas-task-status-table td:nth-child(1) {  width: 18%;}table.canvas-task-status-table td:nth-child(2) {  width: 65%;}table.canvas-task-status-table td:nth-child(3) {  width: 17%;}table.canvas-job-info-table {  width: 100%;  background-color: #fff;}table.canvas-job-info-table tr {  height: 40px;  font-size: 18px;}table.canvas-job-info-table tr:nth-child(even) {  background-color : #f8f8f8;}table.canvas-job-info-table td:nth-child(1) {  font-size: 15px;  text-align: left;  font-weight: 400;  padding-left: 40px;  width: 18%;}table.canvas-job-info-table td:nth-child(2) {  text-align: left;  font-weight: 400;  width: 60%;  font-size: 15px;}table.canvas-job-info-table td:nth-child(3) {  text-align: left;  font-weight: 300;  width: 26%;  font-size: 17px;}table.canvas-job-info-table td:nth-child(4) {  text-align: left;  font-size: 14px;  font-weight: 400;  width: 6%;}.canvas-job-info-list {  text-align: left;  font-size: 15px;  font-weight: 400;  padding-left: 20px;  padding-right: 20px;  padding-top: 5px;  padding-bottom: 5px;}.canvas-job-task-header {  height: 40px;  padding-top: 10px;  padding-bottom: 10px;  padding-left: 20px;  padding-right: 20px;  margin-bottom: 10px;}.canvas-job-timeline-header {  width: 100%;  background-color: #c5c5c5;  height: 40px;}.canvas-job-timeline-title {  padding-top: 6px;  padding-left: 10px;  background-color: #c5c5c5;  font-size: 20px;  height: 40px;  width: 15%;  font-weight: 300;  float: left;  color: #fff;}.canvas-job-timeline-status {  text-align: right;  padding-top: 10px;  padding-left: 15px;  padding-right: 15px;  background-color: #d8d8d8;  color: #fff;  float: right;  height: 40px;  font-size: 16px;  font-weight: 300;  max-width: 240px;  min-width: 160px;}.canvas-ps-dashboard {  background-color: #fff;  color: #000;}table.canvas-ps-list-table {  padding-left:50px;  padding-right: 50px;  width: 100%;  background-color: #fff;}table.canvas-ps-list-table tr{  padding-top: 10px;  height: 40px;  width: 100%;}table.canvas-ps-list-table tr:nth-child(even) {  background-color : #f9f9f9;}table.canvas-ps-list-table th {  padding-top : 15px;  padding-bottom : 5px;  color : #000;  font-size : 16px;  font-weight : 500;  text-align : left;  height: 50px;}table.canvas-ps-list-table th:nth-child(1) {  padding-left: 40px;  text-align: left;  width: 40%;}table.canvas-ps-list-table th:nth-child(2) {  text-align: left;  width: 40%;  padding-left: 20px;}table.canvas-ps-list-table th:nth-child(3) {  text-align: left;  width: 20%;  padding-left: 20px;}table.canvas-ps-list-table td {  color : #000;  font-size : 15px;  font-weight : 400;  text-align : left;  height : 40px;}table.canvas-ps-list-table td:nth-child(1) {  text-align: left;  padding-left: 40px;  width: 40%;  padding-top : 8px;  padding-bottom : 5px;  border-right : 2px solid #eeeeee;}table.canvas-ps-list-table td:nth-child(2) {  text-align: left;  width: 40%;  padding-left: 20px;  padding-top : 8px;  padding-bottom : 5px;  border-right : 2px solid #eeeeee;}table.canvas-ps-list-table td:nth-child(3) {  text-align: left;  width: 20%;  padding-left: 20px;  padding-top : 8px;  padding-bottom : 5px;}.canvas-ps-list-title {  margin-top: 5px;  margin-left: 20px;  font-size : 26px;  font-weight: 300;  padding-left: 20px;  padding-bottom: 5px;  color: #0a8cc4;}.canvas-ps-metrics-container {  padding-top: 20px;  padding-right: 55px;  float: right;  color: #ff5500;  font-size: 14px;  font-weight: 400;}.canvas-ps-info-container {  min-height: 238px;  margin-bottom: 15px;}table.canvas-ps-info-table {  margin-left: 20px;  margin-right: 30px;  margin-top: 5px;}table.canvas-ps-info-table tr{  padding-top: 10px;  height: 30px;}table.canvas-ps-info-table td:nth-child(1) {  padding-left: 20px;  font-weight: 300;  font-size: 17px;  vertical-align: top;}table.canvas-ps-info-table td:nth-child(2) {  width: 20px;  text-align: center;  font-size: 17px;  vertical-align: top;}table.canvas-ps-info-table td:nth-child(3) {  padding-left: 10px;  text-align: left;  font-size: 16px;  font-weight: 400;  vertical-align: top;}.canvas-ps-deployed-objects {  margin-bottom: 30px;}.canvas-ps-deployed-title {  margin-top: 5px;  font-size : 18px;  font-weight: 400;  padding-bottom: 5px;  padding-left: 20px;  padding-bottom: 5px;  color: #2e2e2e;}table.canvas-ps-deployed-table {  min-width: 700px;}table.canvas-ps-deployed-table tr{  padding-top: 10px;  padding-left: 20px;  height: 40px;  width: 100%;}table.canvas-ps-deployed-table tr:nth-child(even) {  background-color : #f9f9f9;}table.canvas-ps-deployed-table th:nth-child(1) {  padding-left: 20px;  width: 80%;  font-size: 16px;  font-weight: 400;}table.canvas-ps-deployed-table th:nth-child(2) {  padding-left: 20px;  width: 20%;  font-size: 16px;  font-weight: 400;}table.canvas-ps-deployed-table td:nth-child(1) {  padding-left: 20px;  width: 80%;  font-size: 15px;  font-weight: 400;  border-right : 2px solid #eeeeee;}table.canvas-ps-deployed-table td:nth-child(2) {  padding-left: 20px;  width: 20%;  font-size: 15px;  font-weight: 400;}table.canvas-ps-pending-table {  min-width: 700px;}table.canvas-ps-pending-table tr{  padding-top: 10px;  padding-left: 20px;  height: 40px;  width: 100%;}table.canvas-ps-pending-table tr:nth-child(even) {  background-color : #f9f9f9;}table.canvas-ps-pending-table th:nth-child(1) {  padding-left: 20px;  width: 60%;  font-size: 16px;  font-weight: 400;}table.canvas-ps-pending-table th:nth-child(2) {  padding-left: 20px;  width: 20%;  font-size: 16px;  font-weight: 400;}table.canvas-ps-pending-table th:nth-child(3) {  padding-left: 20px;  width: 20%;  font-size: 16px;  font-weight: 400;}table.canvas-ps-pending-table td:nth-child(1) {  padding-left: 20px;  width: 60%;  font-size: 15px;  font-weight: 400;  border-right : 2px solid #eeeeee;}table.canvas-ps-pending-table td:nth-child(2) {  width: 20%;  padding-left: 20px;  font-size: 15px;  font-weight: 400;  border-right : 2px solid #eeeeee;}table.canvas-ps-pending-table td:nth-child(3) {  width: 20%;  padding-left: 20px;  font-size: 15px;  font-weight: 400;}.canvas-ps-tab {  height : 40px;  text-align : center;  margin-left : 40px;  font-weight : 450;  clear : both;  min-width: 360px;}.canvas-ps-tab-element {  padding-top : 8px;  width : 180px;  height : 40px;  color : #000;  float : left;  cursor : pointer;  text-align: center;  font-size: 15px;  font-weight: 400;  margin-right: -1px;  border-left : 1px solid #dedede;  border-top : 1px solid #dedede;  border-right : 1px solid #dedede;}.canvas-ps-wrapper {  border-left : 1px solid #dedede;  border-top : 1px solid #dedede;  border-right : 1px solid #dedede;  border-bottom : 1px solid #dedede;  margin-left : 40px;  padding-right : 25px;  margin-right : 50px;  padding-left : 25px;  padding-right : 25px;  min-width : 800px;  padding-top : 25px;  padding-bottom : 35px;  margin-top : -1px;  margin-bottom: 10px;}.canvas-ps-query-dropdown {  -webkit-border-radius: 0;  -moz-border-radius: 0;  border-radius: 0;}.canvas-ps-query-model-name {  font-size: 18px;  font-weight: 300;}.canvas-ps-query-model-bar {  font-size: 18px;  font-weight: 300;  color: #fff;  padding-left: 15px;  padding-top: 5px;  height: 35px;  background-color: #c5c5c5;  width:100%;  -webkit-border-radius: 0;  -moz-border-radius: 0;  border-radius: 0;}.canvas-ps-query-textarea-input {  width: 100%;  overflow: auto;  resize: none;  -webkit-border-radius: 0;  -moz-border-radius: 0;  border-radius: 0;}.canvas-ps-query-textarea-result {  width: 100%;  height: 334px;  overflow: auto;  background-color: #f5f5f5;}.canvas-ps-query-area-wrapper {  width: 100%;}.canvas-ps-query-error {  clear: both;  font-size: 12px;  font-weight: 500;  color: #B80000;  height: 10px;  margin-bottom: 15px;  margin-top: -10px;}.canvas-link {  color: #0a8cc4;  text-decoration: underline;}.canvas-link:hover,focus {  color: #ff5500;}.canvas-link.active {  color: #ff5500;}\"));\n",
        "            document.head.appendChild(s);\n",
        "        \n",
        "\n",
        "                require.config({\n",
        "                    'paths': {\"react\": \"//dato.com/files/canvas/1.1/js/vendor/react/react-with-addons.min\", \"topojson\": \"//dato.com/files/canvas/1.1/js/vendor/topojson/topojson.min\", \"react-bootstrap\": \"//dato.com/files/canvas/1.1/js/vendor/react-bootstrap/react-bootstrap.min\", \"bowser\": \"//dato.com/files/canvas/1.1/js/vendor/bowser/bowser.min\", \"hljs\": \"//dato.com/files/canvas/1.1/js/vendor/hljs/highlight.pack\", \"dagre\": \"//dato.com/files/canvas/1.1/js/vendor/dagre/dagre.min\", \"bootstrap\": \"//dato.com/files/canvas/1.1/js/vendor/bootstrap/bootstrap.min\", \"d3\": \"//dato.com/files/canvas/1.1/js/vendor/d3/d3.min\", \"lodash\": \"//dato.com/files/canvas/1.1/js/vendor/lodash/lodash.min\"}\n",
        "                });\n",
        "\n",
        "                // figure out whether we are in IPython Notebook or HTML output\n",
        "                // in the case of HTML output (nbconvert) we need to output to our own <script>\n",
        "                // tag's parent element. In the case of a real IPython Notebook we\n",
        "                // can use the provided \"element\" variable.\n",
        "                var e = null;\n",
        "                if (typeof element == 'undefined') {\n",
        "                    var scripts = document.getElementsByTagName('script');\n",
        "                    var thisScriptTag = scripts[scripts.length-1];\n",
        "                    var parentDiv = thisScriptTag.parentNode;\n",
        "                    e = document.createElement('div');\n",
        "                    parentDiv.appendChild(e);\n",
        "                } else {\n",
        "                    e = element[0];\n",
        "                }\n",
        "\n",
        "                require(['react', 'sframe'], function(React, Component) {React.renderComponent(Component.Summary({\"ipython\": true, \"sketch\": {\"age\": {\"std\": 7.975283146062908, \"complete\": true, \"min\": 13.0, \"max\": 48.0, \"quantile\": [13.0, 13.0, 13.0, 13.0, 14.0, 14.0, 14.0, 14.0, 14.0, 14.0, 14.0, 15.0, 15.0, 15.0, 15.0, 15.0, 15.0, 15.0, 15.0, 15.0, 16.0, 16.0, 16.0, 16.0, 16.0, 16.0, 16.0, 16.0, 16.0, 16.0, 16.0, 17.0, 17.0, 17.0, 17.0, 17.0, 17.0, 17.0, 17.0, 17.0, 17.0, 17.0, 17.0, 23.0, 23.0, 23.0, 23.0, 23.0, 23.0, 23.0, 23.0, 23.0, 23.0, 23.0, 24.0, 24.0, 24.0, 24.0, 24.0, 24.0, 24.0, 24.0, 24.0, 25.0, 25.0, 25.0, 25.0, 25.0, 25.0, 25.0, 25.0, 25.0, 26.0, 26.0, 26.0, 26.0, 26.0, 26.0, 26.0, 27.0, 27.0, 27.0, 27.0, 27.0, 27.0, 33.0, 33.0, 34.0, 34.0, 35.0, 35.0, 36.0, 36.0, 37.0, 38.0, 39.0, 41.0, 42.0, 44.0, 46.0, 48.0], \"numeric\": true, \"num_unique\": 26, \"num_undefined\": 0, \"var\": 63.60514125987507, \"progress\": 1.0, \"mean\": 22.833799171842646, \"frequent_items\": {\"13\": {\"frequency\": 690, \"value\": 13}, \"14\": {\"frequency\": 1246, \"value\": 14}, \"15\": {\"frequency\": 1771, \"value\": 15}, \"16\": {\"frequency\": 2152, \"value\": 16}, \"17\": {\"frequency\": 2381, \"value\": 17}, \"23\": {\"frequency\": 2026, \"value\": 23}, \"24\": {\"frequency\": 1895, \"value\": 24}, \"25\": {\"frequency\": 1620, \"value\": 25}, \"26\": {\"frequency\": 1340, \"value\": 26}, \"27\": {\"frequency\": 1205, \"value\": 27}, \"33\": {\"frequency\": 464, \"value\": 33}, \"34\": {\"frequency\": 378, \"value\": 34}, \"35\": {\"frequency\": 338, \"value\": 35}, \"36\": {\"frequency\": 288, \"value\": 36}, \"37\": {\"frequency\": 259, \"value\": 37}, \"38\": {\"frequency\": 171, \"value\": 38}, \"39\": {\"frequency\": 152, \"value\": 39}, \"40\": {\"frequency\": 145, \"value\": 40}, \"41\": {\"frequency\": 139, \"value\": 41}, \"42\": {\"frequency\": 127, \"value\": 42}, \"43\": {\"frequency\": 116, \"value\": 43}, \"44\": {\"frequency\": 94, \"value\": 44}, \"45\": {\"frequency\": 103, \"value\": 45}, \"46\": {\"frequency\": 72, \"value\": 46}, \"47\": {\"frequency\": 71, \"value\": 47}, \"48\": {\"frequency\": 77, \"value\": 48}}, \"size\": 19320}}, \"selected_variable\": {\"name\": [\"sf\"], \"column_identifiers\": [\"age\"], \"view_component\": \"Summary\", \"view_file\": \"sframe\", \"view_params\": {\"y\": null, \"x\": null, \"columns\": [\"age\"], \"view\": null}, \"view_components\": [\"Summary\", \"Table\", \"Bar Chart\", \"Line Chart\", \"Scatter Plot\", \"Heat Map\", \"Plots\"], \"type\": \"SFrame\", \"columns\": [{\"dtype\": \"int\", \"name\": \"age\"}, {\"dtype\": \"list\", \"name\": \"dates\"}, {\"dtype\": \"str\", \"name\": \"gender\"}, {\"dtype\": \"str\", \"name\": \"id\"}, {\"dtype\": \"str\", \"name\": \"industry\"}, {\"dtype\": \"list\", \"name\": \"posts\"}, {\"dtype\": \"str\", \"name\": \"sign\"}], \"descriptives\": {\"rows\": 19320, \"columns\": 7}}, \"columns\": [{\"dtype\": \"int\", \"name\": \"age\"}, {\"dtype\": \"list\", \"name\": \"dates\"}, {\"dtype\": \"str\", \"name\": \"gender\"}, {\"dtype\": \"str\", \"name\": \"id\"}, {\"dtype\": \"str\", \"name\": \"industry\"}, {\"dtype\": \"list\", \"name\": \"posts\"}, {\"dtype\": \"str\", \"name\": \"sign\"}]}), e);});\n",
        "            })();\n",
        "        "
       ],
       "metadata": {},
       "output_type": "pyout",
       "prompt_number": 20,
       "text": [
        "<IPython.core.display.Javascript at 0x7f2c2339ea10>"
       ]
      }
     ],
     "prompt_number": 20
    },
    {
     "cell_type": "markdown",
     "metadata": {},
     "source": [
      "Notice that the bloggers are between from 13 to 48 years old, with an average of about 23. To predict a blogger's age we can use both classification and regression. A regression model can estimate the actual age, whereas a classifier can predict the age group of the blogger. Lets start by constructing a regression model."
     ]
    },
    {
     "cell_type": "heading",
     "level": 4,
     "metadata": {},
     "source": [
      "3.2.1 Regression Models"
     ]
    },
    {
     "cell_type": "markdown",
     "metadata": {},
     "source": [
      "Constructing a regression model form using the regression toolkit is really straight forward. We can try both linear regression and boosted trees regression. We'll use only the Word2Vec features."
     ]
    },
    {
     "cell_type": "code",
     "collapsed": false,
     "input": [
      "linear_model = gl.linear_regression.create(train_set, target='age',features=['vectors'])\n",
      "linear_model.evaluate(test_set)"
     ],
     "language": "python",
     "metadata": {},
     "outputs": [
      {
       "html": [
        "<pre>PROGRESS: Linear regression:</pre>"
       ],
       "metadata": {},
       "output_type": "display_data",
       "text": [
        "PROGRESS: Linear regression:"
       ]
      },
      {
       "html": [
        "<pre>PROGRESS: --------------------------------------------------------</pre>"
       ],
       "metadata": {},
       "output_type": "display_data",
       "text": [
        "PROGRESS: --------------------------------------------------------"
       ]
      },
      {
       "html": [
        "<pre>PROGRESS: Number of examples          : 14642</pre>"
       ],
       "metadata": {},
       "output_type": "display_data",
       "text": [
        "PROGRESS: Number of examples          : 14642"
       ]
      },
      {
       "html": [
        "<pre>PROGRESS: Number of features          : 1</pre>"
       ],
       "metadata": {},
       "output_type": "display_data",
       "text": [
        "PROGRESS: Number of features          : 1"
       ]
      },
      {
       "html": [
        "<pre>PROGRESS: Number of unpacked features : 300</pre>"
       ],
       "metadata": {},
       "output_type": "display_data",
       "text": [
        "PROGRESS: Number of unpacked features : 300"
       ]
      },
      {
       "html": [
        "<pre>PROGRESS: Number of coefficients    : 301</pre>"
       ],
       "metadata": {},
       "output_type": "display_data",
       "text": [
        "PROGRESS: Number of coefficients    : 301"
       ]
      },
      {
       "html": [
        "<pre>PROGRESS: Starting Newton Method</pre>"
       ],
       "metadata": {},
       "output_type": "display_data",
       "text": [
        "PROGRESS: Starting Newton Method"
       ]
      },
      {
       "html": [
        "<pre>PROGRESS: --------------------------------------------------------</pre>"
       ],
       "metadata": {},
       "output_type": "display_data",
       "text": [
        "PROGRESS: --------------------------------------------------------"
       ]
      },
      {
       "html": [
        "<pre>PROGRESS: +-----------+----------+--------------+---------------+-----------------+--------------------+----------------------+</pre>"
       ],
       "metadata": {},
       "output_type": "display_data",
       "text": [
        "PROGRESS: +-----------+----------+--------------+---------------+-----------------+--------------------+----------------------+"
       ]
      },
      {
       "html": [
        "<pre>PROGRESS: | Iteration | Passes   | Elapsed Time | Training-rmse | Validation-rmse | Training-max_error | Validation-max_error |</pre>"
       ],
       "metadata": {},
       "output_type": "display_data",
       "text": [
        "PROGRESS: | Iteration | Passes   | Elapsed Time | Training-rmse | Validation-rmse | Training-max_error | Validation-max_error |"
       ]
      },
      {
       "html": [
        "<pre>PROGRESS: +-----------+----------+--------------+---------------+-----------------+--------------------+----------------------+</pre>"
       ],
       "metadata": {},
       "output_type": "display_data",
       "text": [
        "PROGRESS: +-----------+----------+--------------+---------------+-----------------+--------------------+----------------------+"
       ]
      },
      {
       "html": [
        "<pre>PROGRESS: | 1         | 2        | 1.397436     | 26.083441     | 27.646445       | 5.591975           | 5.852079             |</pre>"
       ],
       "metadata": {},
       "output_type": "display_data",
       "text": [
        "PROGRESS: | 1         | 2        | 1.397436     | 26.083441     | 27.646445       | 5.591975           | 5.852079             |"
       ]
      },
      {
       "html": [
        "<pre>PROGRESS: +-----------+----------+--------------+---------------+-----------------+--------------------+----------------------+</pre>"
       ],
       "metadata": {},
       "output_type": "display_data",
       "text": [
        "PROGRESS: +-----------+----------+--------------+---------------+-----------------+--------------------+----------------------+"
       ]
      },
      {
       "output_type": "stream",
       "stream": "stdout",
       "text": [
        "PROGRESS: Creating a validation set from 5 percent of training data. This may take a while.\n",
        "          You can set ``validation_set=None`` to disable validation tracking.\n",
        "\n"
       ]
      },
      {
       "metadata": {},
       "output_type": "pyout",
       "prompt_number": 21,
       "text": [
        "{'max_error': 30.03233650607854, 'rmse': 5.741340607284524}"
       ]
      }
     ],
     "prompt_number": 21
    },
    {
     "cell_type": "code",
     "collapsed": false,
     "input": [
      "boosted_tree_model = gl.boosted_trees_regression.create(train_set, target='age',features=['vectors']) \n",
      "boosted_tree_model.evaluate(test_set)"
     ],
     "language": "python",
     "metadata": {},
     "outputs": [
      {
       "html": [
        "<pre>PROGRESS: Boosted trees regression:</pre>"
       ],
       "metadata": {},
       "output_type": "display_data",
       "text": [
        "PROGRESS: Boosted trees regression:"
       ]
      },
      {
       "html": [
        "<pre>PROGRESS: --------------------------------------------------------</pre>"
       ],
       "metadata": {},
       "output_type": "display_data",
       "text": [
        "PROGRESS: --------------------------------------------------------"
       ]
      },
      {
       "html": [
        "<pre>PROGRESS: Number of examples          : 15413</pre>"
       ],
       "metadata": {},
       "output_type": "display_data",
       "text": [
        "PROGRESS: Number of examples          : 15413"
       ]
      },
      {
       "html": [
        "<pre>PROGRESS: Number of features          : 1</pre>"
       ],
       "metadata": {},
       "output_type": "display_data",
       "text": [
        "PROGRESS: Number of features          : 1"
       ]
      },
      {
       "html": [
        "<pre>PROGRESS: Number of unpacked features : 300</pre>"
       ],
       "metadata": {},
       "output_type": "display_data",
       "text": [
        "PROGRESS: Number of unpacked features : 300"
       ]
      },
      {
       "html": [
        "<pre>PROGRESS: Starting Boosted Trees</pre>"
       ],
       "metadata": {},
       "output_type": "display_data",
       "text": [
        "PROGRESS: Starting Boosted Trees"
       ]
      },
      {
       "html": [
        "<pre>PROGRESS: --------------------------------------------------------</pre>"
       ],
       "metadata": {},
       "output_type": "display_data",
       "text": [
        "PROGRESS: --------------------------------------------------------"
       ]
      },
      {
       "html": [
        "<pre>PROGRESS:   Iter        RMSE Elapsed time</pre>"
       ],
       "metadata": {},
       "output_type": "display_data",
       "text": [
        "PROGRESS:   Iter        RMSE Elapsed time"
       ]
      },
      {
       "html": [
        "<pre>PROGRESS:      0   1.722e+01        0.48s</pre>"
       ],
       "metadata": {},
       "output_type": "display_data",
       "text": [
        "PROGRESS:      0   1.722e+01        0.48s"
       ]
      },
      {
       "html": [
        "<pre>PROGRESS:      1   1.280e+01        0.66s</pre>"
       ],
       "metadata": {},
       "output_type": "display_data",
       "text": [
        "PROGRESS:      1   1.280e+01        0.66s"
       ]
      },
      {
       "html": [
        "<pre>PROGRESS:      2   9.879e+00        0.89s</pre>"
       ],
       "metadata": {},
       "output_type": "display_data",
       "text": [
        "PROGRESS:      2   9.879e+00        0.89s"
       ]
      },
      {
       "html": [
        "<pre>PROGRESS:      3   8.019e+00        1.05s</pre>"
       ],
       "metadata": {},
       "output_type": "display_data",
       "text": [
        "PROGRESS:      3   8.019e+00        1.05s"
       ]
      },
      {
       "html": [
        "<pre>PROGRESS:      4   6.847e+00        1.21s</pre>"
       ],
       "metadata": {},
       "output_type": "display_data",
       "text": [
        "PROGRESS:      4   6.847e+00        1.21s"
       ]
      },
      {
       "html": [
        "<pre>PROGRESS:      5   6.137e+00        1.38s</pre>"
       ],
       "metadata": {},
       "output_type": "display_data",
       "text": [
        "PROGRESS:      5   6.137e+00        1.38s"
       ]
      },
      {
       "html": [
        "<pre>PROGRESS:      6   5.696e+00        1.54s</pre>"
       ],
       "metadata": {},
       "output_type": "display_data",
       "text": [
        "PROGRESS:      6   5.696e+00        1.54s"
       ]
      },
      {
       "html": [
        "<pre>PROGRESS:      7   5.407e+00        1.87s</pre>"
       ],
       "metadata": {},
       "output_type": "display_data",
       "text": [
        "PROGRESS:      7   5.407e+00        1.87s"
       ]
      },
      {
       "html": [
        "<pre>PROGRESS:      8   5.202e+00        2.05s</pre>"
       ],
       "metadata": {},
       "output_type": "display_data",
       "text": [
        "PROGRESS:      8   5.202e+00        2.05s"
       ]
      },
      {
       "html": [
        "<pre>PROGRESS:      9   5.048e+00        2.22s</pre>"
       ],
       "metadata": {},
       "output_type": "display_data",
       "text": [
        "PROGRESS:      9   5.048e+00        2.22s"
       ]
      },
      {
       "metadata": {},
       "output_type": "pyout",
       "prompt_number": 22,
       "text": [
        "{'max_error': 28.603580384618983, 'rmse': 6.124479850206823}"
       ]
      }
     ],
     "prompt_number": 22
    },
    {
     "cell_type": "markdown",
     "metadata": {},
     "source": [
      "RMSE measures the average number of years by which the estimate is off from the real age. The linear regression model performed better in terms of RMSE than the boosted trees model. It is important to note that some of these blogs are written over time duration of years. Therefore, it can be hard to predict the blogger's exact age. It may be better to instead classify the blogger's age group using classification models."
     ]
    },
    {
     "cell_type": "heading",
     "level": 4,
     "metadata": {},
     "source": [
      "3.2.2 Classfication Models"
     ]
    },
    {
     "cell_type": "markdown",
     "metadata": {},
     "source": [
      "Similar to [Schler et al. 2006](http://www.cs.biu.ac.il/~schlerj/schler_springsymp06.pdf), we divide bloggers in our dataset into one of three age categories: 10s (13-17), 20s (23-27), and 30s (33-42). \n",
      "\n",
      "We remove from the SFrame the bloggers that are out side of these age category."
     ]
    },
    {
     "cell_type": "code",
     "collapsed": false,
     "input": [
      "valid_age = range(13,18) + range(23,28) + range(33,43)\n",
      "sf_age_categories = sf.filter_by(valid_age, 'age')"
     ],
     "language": "python",
     "metadata": {},
     "outputs": [],
     "prompt_number": 23
    },
    {
     "cell_type": "code",
     "collapsed": false,
     "input": [
      "def get_age_category(age):\n",
      "    if 13 <= age <=17:\n",
      "        return \"10s\"\n",
      "    elif 23 <= age <= 27:\n",
      "        return \"20s\"\n",
      "    elif 33 <= age <= 42:\n",
      "        return \"30s\"    \n",
      "    return None\n",
      "        \n",
      "sf['age_category'] = sf['age'].apply(lambda age: get_age_category(age))\n",
      "sf_age_categories = sf.dropna() # remove blogger without age category\n",
      "print sf_age_categories.num_rows()"
     ],
     "language": "python",
     "metadata": {},
     "outputs": [
      {
       "output_type": "stream",
       "stream": "stdout",
       "text": [
        "18780\n"
       ]
      }
     ],
     "prompt_number": 24
    },
    {
     "cell_type": "markdown",
     "metadata": {},
     "source": [
      "Now let's construct and evaluate an age category classfication model:"
     ]
    },
    {
     "cell_type": "code",
     "collapsed": false,
     "input": [
      "train_set2, test_set2 = sf_age_categories.random_split(0.8, seed=5)\n",
      "cls = gl.classifier.create(train_set2, target='age_category', features=['vectors'])\n",
      "age_categoy_result = cls.evaluate(test_set2)\n",
      "print age_categoy_result"
     ],
     "language": "python",
     "metadata": {},
     "outputs": [
      {
       "output_type": "stream",
       "stream": "stdout",
       "text": [
        "PROGRESS: Creating a validation set from 5 percent of training data. This may take a while.\n",
        "          You can set ``validation_set=None`` to disable validation tracking.\n",
        "\n",
        "PROGRESS: The following methods are available for this type of problem."
       ]
      },
      {
       "html": [
        "<pre>PROGRESS: Boosted trees classifier:</pre>"
       ],
       "metadata": {},
       "output_type": "display_data",
       "text": [
        "PROGRESS: Boosted trees classifier:"
       ]
      },
      {
       "html": [
        "<pre>PROGRESS: --------------------------------------------------------</pre>"
       ],
       "metadata": {},
       "output_type": "display_data",
       "text": [
        "PROGRESS: --------------------------------------------------------"
       ]
      },
      {
       "html": [
        "<pre>PROGRESS: Number of examples          : 14208</pre>"
       ],
       "metadata": {},
       "output_type": "display_data",
       "text": [
        "PROGRESS: Number of examples          : 14208"
       ]
      },
      {
       "html": [
        "<pre>PROGRESS: Number of classes           : 3</pre>"
       ],
       "metadata": {},
       "output_type": "display_data",
       "text": [
        "PROGRESS: Number of classes           : 3"
       ]
      },
      {
       "html": [
        "<pre>PROGRESS: Number of feature columns   : 1</pre>"
       ],
       "metadata": {},
       "output_type": "display_data",
       "text": [
        "PROGRESS: Number of feature columns   : 1"
       ]
      },
      {
       "html": [
        "<pre>PROGRESS: Number of unpacked features : 300</pre>"
       ],
       "metadata": {},
       "output_type": "display_data",
       "text": [
        "PROGRESS: Number of unpacked features : 300"
       ]
      },
      {
       "html": [
        "<pre>PROGRESS: Starting Boosted Trees</pre>"
       ],
       "metadata": {},
       "output_type": "display_data",
       "text": [
        "PROGRESS: Starting Boosted Trees"
       ]
      },
      {
       "html": [
        "<pre>PROGRESS: --------------------------------------------------------</pre>"
       ],
       "metadata": {},
       "output_type": "display_data",
       "text": [
        "PROGRESS: --------------------------------------------------------"
       ]
      },
      {
       "html": [
        "<pre>PROGRESS:   Iter      Accuracy          Elapsed time</pre>"
       ],
       "metadata": {},
       "output_type": "display_data",
       "text": [
        "PROGRESS:   Iter      Accuracy          Elapsed time"
       ]
      },
      {
       "html": [
        "<pre>PROGRESS:         (training) (validation)</pre>"
       ],
       "metadata": {},
       "output_type": "display_data",
       "text": [
        "PROGRESS:         (training) (validation)"
       ]
      },
      {
       "html": [
        "<pre>PROGRESS:      0   7.319e-01   6.486e-01        0.84s</pre>"
       ],
       "metadata": {},
       "output_type": "display_data",
       "text": [
        "PROGRESS:      0   7.319e-01   6.486e-01        0.84s"
       ]
      },
      {
       "html": [
        "<pre>PROGRESS:      1   7.493e-01   6.641e-01        1.10s</pre>"
       ],
       "metadata": {},
       "output_type": "display_data",
       "text": [
        "PROGRESS:      1   7.493e-01   6.641e-01        1.10s"
       ]
      },
      {
       "html": [
        "<pre>PROGRESS:      2   7.601e-01   6.538e-01        1.53s</pre>"
       ],
       "metadata": {},
       "output_type": "display_data",
       "text": [
        "PROGRESS:      2   7.601e-01   6.538e-01        1.53s"
       ]
      },
      {
       "html": [
        "<pre>PROGRESS:      3   7.695e-01   6.628e-01        1.79s</pre>"
       ],
       "metadata": {},
       "output_type": "display_data",
       "text": [
        "PROGRESS:      3   7.695e-01   6.628e-01        1.79s"
       ]
      },
      {
       "html": [
        "<pre>PROGRESS:      4   7.817e-01   6.641e-01        2.05s</pre>"
       ],
       "metadata": {},
       "output_type": "display_data",
       "text": [
        "PROGRESS:      4   7.817e-01   6.641e-01        2.05s"
       ]
      },
      {
       "html": [
        "<pre>PROGRESS:      5   7.898e-01   6.615e-01        2.32s</pre>"
       ],
       "metadata": {},
       "output_type": "display_data",
       "text": [
        "PROGRESS:      5   7.898e-01   6.615e-01        2.32s"
       ]
      },
      {
       "html": [
        "<pre>PROGRESS:      6   7.984e-01   6.602e-01        2.58s</pre>"
       ],
       "metadata": {},
       "output_type": "display_data",
       "text": [
        "PROGRESS:      6   7.984e-01   6.602e-01        2.58s"
       ]
      },
      {
       "html": [
        "<pre>PROGRESS:      7   8.079e-01   6.731e-01        2.84s</pre>"
       ],
       "metadata": {},
       "output_type": "display_data",
       "text": [
        "PROGRESS:      7   8.079e-01   6.731e-01        2.84s"
       ]
      },
      {
       "html": [
        "<pre>PROGRESS:      8   8.141e-01   6.654e-01        3.12s</pre>"
       ],
       "metadata": {},
       "output_type": "display_data",
       "text": [
        "PROGRESS:      8   8.141e-01   6.654e-01        3.12s"
       ]
      },
      {
       "html": [
        "<pre>PROGRESS:      9   8.237e-01   6.705e-01        3.53s</pre>"
       ],
       "metadata": {},
       "output_type": "display_data",
       "text": [
        "PROGRESS:      9   8.237e-01   6.705e-01        3.53s"
       ]
      },
      {
       "html": [
        "<pre>PROGRESS: Logistic regression:</pre>"
       ],
       "metadata": {},
       "output_type": "display_data",
       "text": [
        "PROGRESS: Logistic regression:"
       ]
      },
      {
       "html": [
        "<pre>PROGRESS: --------------------------------------------------------</pre>"
       ],
       "metadata": {},
       "output_type": "display_data",
       "text": [
        "PROGRESS: --------------------------------------------------------"
       ]
      },
      {
       "html": [
        "<pre>PROGRESS: Number of examples          : 14208</pre>"
       ],
       "metadata": {},
       "output_type": "display_data",
       "text": [
        "PROGRESS: Number of examples          : 14208"
       ]
      },
      {
       "html": [
        "<pre>PROGRESS: Number of classes           : 3</pre>"
       ],
       "metadata": {},
       "output_type": "display_data",
       "text": [
        "PROGRESS: Number of classes           : 3"
       ]
      },
      {
       "html": [
        "<pre>PROGRESS: Number of feature columns   : 1</pre>"
       ],
       "metadata": {},
       "output_type": "display_data",
       "text": [
        "PROGRESS: Number of feature columns   : 1"
       ]
      },
      {
       "html": [
        "<pre>PROGRESS: Number of unpacked features : 300</pre>"
       ],
       "metadata": {},
       "output_type": "display_data",
       "text": [
        "PROGRESS: Number of unpacked features : 300"
       ]
      },
      {
       "html": [
        "<pre>PROGRESS: Number of coefficients    : 602</pre>"
       ],
       "metadata": {},
       "output_type": "display_data",
       "text": [
        "PROGRESS: Number of coefficients    : 602"
       ]
      },
      {
       "html": [
        "<pre>PROGRESS: Starting L-BFGS</pre>"
       ],
       "metadata": {},
       "output_type": "display_data",
       "text": [
        "PROGRESS: Starting L-BFGS"
       ]
      },
      {
       "html": [
        "<pre>PROGRESS: --------------------------------------------------------</pre>"
       ],
       "metadata": {},
       "output_type": "display_data",
       "text": [
        "PROGRESS: --------------------------------------------------------"
       ]
      },
      {
       "html": [
        "<pre>PROGRESS: +-----------+----------+-----------+--------------+-------------------+---------------------+</pre>"
       ],
       "metadata": {},
       "output_type": "display_data",
       "text": [
        "PROGRESS: +-----------+----------+-----------+--------------+-------------------+---------------------+"
       ]
      },
      {
       "html": [
        "<pre>PROGRESS: | Iteration | Passes   | Step size | Elapsed Time | Training-accuracy | Validation-accuracy |</pre>"
       ],
       "metadata": {},
       "output_type": "display_data",
       "text": [
        "PROGRESS: | Iteration | Passes   | Step size | Elapsed Time | Training-accuracy | Validation-accuracy |"
       ]
      },
      {
       "html": [
        "<pre>PROGRESS: +-----------+----------+-----------+--------------+-------------------+---------------------+</pre>"
       ],
       "metadata": {},
       "output_type": "display_data",
       "text": [
        "PROGRESS: +-----------+----------+-----------+--------------+-------------------+---------------------+"
       ]
      },
      {
       "html": [
        "<pre>PROGRESS: | 1         | 3        | 1.000000  | 0.160432     | 0.485783          | 0.504505            |</pre>"
       ],
       "metadata": {},
       "output_type": "display_data",
       "text": [
        "PROGRESS: | 1         | 3        | 1.000000  | 0.160432     | 0.485783          | 0.504505            |"
       ]
      },
      {
       "html": [
        "<pre>PROGRESS: | 2         | 5        | 1.000000  | 0.293274     | 0.643088          | 0.624196            |</pre>"
       ],
       "metadata": {},
       "output_type": "display_data",
       "text": [
        "PROGRESS: | 2         | 5        | 1.000000  | 0.293274     | 0.643088          | 0.624196            |"
       ]
      },
      {
       "html": [
        "<pre>PROGRESS: | 3         | 6        | 1.000000  | 0.384782     | 0.626689          | 0.577864            |</pre>"
       ],
       "metadata": {},
       "output_type": "display_data",
       "text": [
        "PROGRESS: | 3         | 6        | 1.000000  | 0.384782     | 0.626689          | 0.577864            |"
       ]
      },
      {
       "html": [
        "<pre>PROGRESS: | 4         | 7        | 1.000000  | 0.478458     | 0.671171          | 0.620335            |</pre>"
       ],
       "metadata": {},
       "output_type": "display_data",
       "text": [
        "PROGRESS: | 4         | 7        | 1.000000  | 0.478458     | 0.671171          | 0.620335            |"
       ]
      },
      {
       "html": [
        "<pre>PROGRESS: | 5         | 8        | 1.000000  | 0.568476     | 0.660825          | 0.622909            |</pre>"
       ],
       "metadata": {},
       "output_type": "display_data",
       "text": [
        "PROGRESS: | 5         | 8        | 1.000000  | 0.568476     | 0.660825          | 0.622909            |"
       ]
      },
      {
       "html": [
        "<pre>PROGRESS: | 6         | 9        | 1.000000  | 0.655969     | 0.681236          | 0.638353            |</pre>"
       ],
       "metadata": {},
       "output_type": "display_data",
       "text": [
        "PROGRESS: | 6         | 9        | 1.000000  | 0.655969     | 0.681236          | 0.638353            |"
       ]
      },
      {
       "html": [
        "<pre>PROGRESS: | 10        | 13       | 1.000000  | 0.988998     | 0.716005          | 0.671815            |</pre>"
       ],
       "metadata": {},
       "output_type": "display_data",
       "text": [
        "PROGRESS: | 10        | 13       | 1.000000  | 0.988998     | 0.716005          | 0.671815            |"
       ]
      },
      {
       "html": [
        "<pre>PROGRESS: +-----------+----------+-----------+--------------+-------------------+---------------------+</pre>"
       ],
       "metadata": {},
       "output_type": "display_data",
       "text": [
        "PROGRESS: +-----------+----------+-----------+--------------+-------------------+---------------------+"
       ]
      },
      {
       "output_type": "stream",
       "stream": "stdout",
       "text": [
        "\n",
        "PROGRESS: BoostedTreesClassifier, LogisticClassifier\n",
        "PROGRESS: The returned model will be chosen according to validation accuracy.\n",
        "PROGRESS: Model selection based on validation accuracy:\n",
        "PROGRESS: ---------------------------------------------\n",
        "PROGRESS: BoostedTreesClassifier          : 0.670527670528\n",
        "PROGRESS: LogisticClassifier              : 0.671815\n",
        "PROGRESS: ---------------------------------------------\n",
        "PROGRESS: Selecting LogisticClassifier based on validation set performance."
       ]
      },
      {
       "output_type": "stream",
       "stream": "stdout",
       "text": [
        "\n",
        "{'confusion_matrix': Columns:\n",
        "\ttarget_label\tstr\n",
        "\tpredicted_label\tstr\n",
        "\tcount\tint\n",
        "\n",
        "Rows: 9\n",
        "\n",
        "Data:\n",
        "+--------------+-----------------+-------+\n",
        "| target_label | predicted_label | count |\n",
        "+--------------+-----------------+-------+\n",
        "|     10s      |       10s       |  1293 |\n",
        "|     10s      |       20s       |  337  |\n",
        "|     10s      |       30s       |   29  |\n",
        "|     20s      |       10s       |  221  |\n",
        "|     20s      |       20s       |  1365 |\n",
        "|     20s      |       30s       |   39  |\n",
        "|     30s      |       10s       |   37  |\n",
        "|     30s      |       20s       |  437  |\n",
        "|     30s      |       30s       |   37  |\n",
        "+--------------+-----------------+-------+\n",
        "[9 rows x 3 columns]\n",
        ", 'accuracy': 0.7101449275362319}"
       ]
      },
      {
       "output_type": "stream",
       "stream": "stdout",
       "text": [
        "\n"
       ]
      }
     ],
     "prompt_number": 25
    },
    {
     "cell_type": "markdown",
     "metadata": {},
     "source": [
      "This shows that the features derived from Word2Vec can be used to predict the age category of a blogger with an accuracy of about 0.71.\n"
     ]
    },
    {
     "cell_type": "heading",
     "level": 2,
     "metadata": {},
     "source": [
      "4. Where to Go From Here"
     ]
    },
    {
     "cell_type": "markdown",
     "metadata": {},
     "source": [
      "In this notebook, we demonstrate that deep learning can generate useful features for predicting the gender and age of a blogger based on his or her blog post content. If you want to continue to explore this dataset yourself, there are a lot more that can be done. You can try to predict a blogger's astrological sign using his or her blogs. (I didn't succeed in building a prediction model that works better than random prediction. But you might!) You can try to predict a blogger's professional industry. You can also train the Word2Vec model on a different text corpus such as Wikipedia, and see if that gives you better results. We hope that the methods and code presented in this notebook can assist you to solve other text analysis tasks."
     ]
    },
    {
     "cell_type": "heading",
     "level": 2,
     "metadata": {},
     "source": [
      "5. Further Reading"
     ]
    },
    {
     "cell_type": "markdown",
     "metadata": {},
     "source": [
      "Further reading material:\n",
      "- [Schler et al. 2006](http://www.cs.biu.ac.il/~schlerj/schler_springsymp06.pdf)\n",
      "- [Word2Vec](https://code.google.com/p/word2vec/)\n",
      "- [Gensim Word2Vec Model](http://radimrehurek.com/gensim/models/word2vec.html)\n",
      "- [Deep learning with word2vec and gensim](http://radimrehurek.com/2013/09/deep-learning-with-word2vec-and-gensim/)\n",
      "- [Deep learning with word2vec](http://radimrehurek.com/gensim/models/word2vec.html)\n",
      "- [Bag of words meets bags of popcorn](https://www.kaggle.com/c/word2vec-nlp-tutorial/details/part-2-word-vectors)\n",
      "- [Five-line sentiment analysis classifier](https://dato.com/learn/gallery/notebooks/sentiment_classifier.html)\n"
     ]
    },
    {
     "cell_type": "code",
     "collapsed": false,
     "input": [],
     "language": "python",
     "metadata": {},
     "outputs": []
    }
   ],
   "metadata": {}
  }
 ]
}