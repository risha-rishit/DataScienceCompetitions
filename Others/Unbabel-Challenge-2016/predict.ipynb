{
 "cells": [
  {
   "cell_type": "markdown",
   "metadata": {},
   "source": [
    "# SVM"
   ]
  },
  {
   "cell_type": "code",
   "execution_count": 2,
   "metadata": {
    "collapsed": true
   },
   "outputs": [],
   "source": [
    "import pickle\n",
    "with open('SVM_filename_1.pkl', 'rb') as fid:\n",
    "    clf2 = pickle.load(fid)\n"
   ]
  },
  {
   "cell_type": "markdown",
   "metadata": {},
   "source": [
    "# Random Forest"
   ]
  },
  {
   "cell_type": "code",
   "execution_count": 3,
   "metadata": {
    "collapsed": true
   },
   "outputs": [],
   "source": [
    "with open('RandomForest_filename_1.pkl', 'rb') as fid:\n",
    "    rndforest = pickle.load(fid)"
   ]
  },
  {
   "cell_type": "code",
   "execution_count": 4,
   "metadata": {
    "collapsed": true
   },
   "outputs": [],
   "source": [
    "import nltk\n",
    "#nltk.download()\n",
    "import pandas as pd\n",
    "import matplotlib.pyplot as plt\n",
    "import seaborn as sns\n",
    "import sklearn\n",
    "import string"
   ]
  },
  {
   "cell_type": "code",
   "execution_count": 5,
   "metadata": {
    "collapsed": false
   },
   "outputs": [],
   "source": [
    "messages = pd.read_table(\"data/test_example.txt\", header=None, names=['label', 'message'])"
   ]
  },
  {
   "cell_type": "code",
   "execution_count": 6,
   "metadata": {
    "collapsed": false
   },
   "outputs": [
    {
     "name": "stdout",
     "output_type": "stream",
     "text": [
      "   label                                            message\n",
      "_    NaN  La noticia de WhatsApp , aplicación de mensaje...\n",
      "_    NaN  En cualquier caso , aunque la respeto mucho Fr...\n",
      "_    NaN  Entre los 320 individuos de actuación son el m...\n",
      "_    NaN  Tal vez ella vaya a tomar aunque sea alguno de...\n",
      "_    NaN  Ella ha hecho mucho por las mujeres en la músi...\n"
     ]
    }
   ],
   "source": [
    "print(messages.head())"
   ]
  },
  {
   "cell_type": "code",
   "execution_count": 7,
   "metadata": {
    "collapsed": true
   },
   "outputs": [],
   "source": [
    "def text_process(mess):\n",
    "    \"\"\"\n",
    "    Takes in a string of text, then performs the following:\n",
    "    1. Remove all punctuation\n",
    "    2. Remove all stopwords\n",
    "    3. Returns a list of the cleaned text\n",
    "    \"\"\"\n",
    "    # Check characters to see if they are in punctuation\n",
    "    nopunc = [char for char in mess if char not in string.punctuation]\n",
    "\n",
    "    # Join the characters again to form the string.\n",
    "    nopunc = ''.join(nopunc)\n",
    "    \n",
    "    #In Python, searching a set is much faster than searching\n",
    "    #   a list, so convert the stop words to a set\n",
    "    #stops = set(stopwords.words(\"spanish\"))  \n",
    "    \n",
    "    # Now just remove any stopwords\n",
    "    #return [word.lower() for word in nopunc.split() if word.lower() not in stops]\n",
    "    return [word.lower() for word in nopunc.split()]"
   ]
  },
  {
   "cell_type": "code",
   "execution_count": 8,
   "metadata": {
    "collapsed": false
   },
   "outputs": [],
   "source": [
    "# Check to make sure its working\n",
    "processed_sentences = messages['message'].apply(text_process)"
   ]
  },
  {
   "cell_type": "code",
   "execution_count": 9,
   "metadata": {
    "collapsed": true
   },
   "outputs": [],
   "source": [
    "def pos_features(sentence, sentence_pos, i):\n",
    "    features = {}\n",
    "\n",
    "    #features[\"word\"] = sentence[i]\n",
    "    features[\"word-pos\"] = sentence_pos[i][1]\n",
    "\n",
    "    if i == 0:\n",
    "     #   features[\"prev-word\"] = \"<START>\"\n",
    "        features[\"prev-word-pos\"] = \"<START>\"\n",
    "    else:\n",
    "      #  features[\"prev-word\"] = sentence[i-1]\n",
    "        features[\"prev-word-pos\"] = sentence_pos[i-1][1]\n",
    "\n",
    "    if i == len(sentence) - 1:\n",
    "       # features[\"next-word\"] = \"<END>\"\n",
    "        features[\"next-word-pos\"] = \"<END>\"\n",
    "    else:\n",
    "        #features[\"next-word\"] = sentence[i+1]\n",
    "        features[\"next-word-pos\"] = sentence_pos[i+1][1]\n",
    "\n",
    "    return features"
   ]
  },
  {
   "cell_type": "code",
   "execution_count": 10,
   "metadata": {
    "collapsed": true
   },
   "outputs": [],
   "source": [
    "def create_features(sentences):\n",
    "    features = []\n",
    "    for index, sentence in sentences.iteritems():\n",
    "        sentence_pos = nltk.pos_tag(sentence)\n",
    "        for i, word in enumerate(sentence):\n",
    "            #print(sentence, word, i)\n",
    "            features.append([pos_features(sentence, sentence_pos, i), 1])\n",
    "    return features"
   ]
  },
  {
   "cell_type": "code",
   "execution_count": 11,
   "metadata": {
    "collapsed": false
   },
   "outputs": [],
   "source": [
    "features = create_features(processed_sentences)"
   ]
  },
  {
   "cell_type": "code",
   "execution_count": 12,
   "metadata": {
    "collapsed": false
   },
   "outputs": [
    {
     "name": "stdout",
     "output_type": "stream",
     "text": [
      "[[{'word-pos': 'NN', 'prev-word-pos': '<START>', 'next-word-pos': 'FW'}, 1], [{'word-pos': 'FW', 'prev-word-pos': 'NN', 'next-word-pos': 'FW'}, 1], [{'word-pos': 'FW', 'prev-word-pos': 'FW', 'next-word-pos': 'FW'}, 1], [{'word-pos': 'FW', 'prev-word-pos': 'FW', 'next-word-pos': 'FW'}, 1], [{'word-pos': 'FW', 'prev-word-pos': 'FW', 'next-word-pos': 'FW'}, 1], [{'word-pos': 'FW', 'prev-word-pos': 'FW', 'next-word-pos': 'FW'}, 1], [{'word-pos': 'FW', 'prev-word-pos': 'FW', 'next-word-pos': 'FW'}, 1], [{'word-pos': 'FW', 'prev-word-pos': 'FW', 'next-word-pos': 'FW'}, 1], [{'word-pos': 'FW', 'prev-word-pos': 'FW', 'next-word-pos': 'FW'}, 1], [{'word-pos': 'FW', 'prev-word-pos': 'FW', 'next-word-pos': 'FW'}, 1], [{'word-pos': 'FW', 'prev-word-pos': 'FW', 'next-word-pos': 'NN'}, 1], [{'word-pos': 'NN', 'prev-word-pos': 'FW', 'next-word-pos': 'NN'}, 1], [{'word-pos': 'NN', 'prev-word-pos': 'NN', 'next-word-pos': 'NN'}, 1], [{'word-pos': 'NN', 'prev-word-pos': 'NN', 'next-word-pos': 'VBD'}, 1], [{'word-pos': 'VBD', 'prev-word-pos': 'NN', 'next-word-pos': 'CD'}, 1], [{'word-pos': 'CD', 'prev-word-pos': 'VBD', 'next-word-pos': 'IN'}, 1], [{'word-pos': 'IN', 'prev-word-pos': 'CD', 'next-word-pos': 'NN'}, 1], [{'word-pos': 'NN', 'prev-word-pos': 'IN', 'next-word-pos': 'NN'}, 1], [{'word-pos': 'NN', 'prev-word-pos': 'NN', 'next-word-pos': 'NN'}, 1], [{'word-pos': 'NN', 'prev-word-pos': 'NN', 'next-word-pos': 'JJ'}, 1]]\n"
     ]
    }
   ],
   "source": [
    "print(features[:20])"
   ]
  },
  {
   "cell_type": "code",
   "execution_count": 15,
   "metadata": {
    "collapsed": false
   },
   "outputs": [],
   "source": [
    "from sklearn.feature_extraction import DictVectorizer\n",
    " \n",
    "vec = DictVectorizer()\n",
    "X = vec.fit_transform([item[0] for item in features])"
   ]
  },
  {
   "cell_type": "code",
   "execution_count": 16,
   "metadata": {
    "collapsed": false
   },
   "outputs": [
    {
     "data": {
      "text/plain": [
       "[\"next-word-pos=''\",\n",
       " 'next-word-pos=<END>',\n",
       " 'next-word-pos=CC',\n",
       " 'next-word-pos=CD',\n",
       " 'next-word-pos=DT',\n",
       " 'next-word-pos=EX',\n",
       " 'next-word-pos=FW',\n",
       " 'next-word-pos=IN',\n",
       " 'next-word-pos=JJ',\n",
       " 'next-word-pos=JJR',\n",
       " 'next-word-pos=JJS',\n",
       " 'next-word-pos=MD',\n",
       " 'next-word-pos=NN',\n",
       " 'next-word-pos=NNP']"
      ]
     },
     "execution_count": 16,
     "metadata": {},
     "output_type": "execute_result"
    }
   ],
   "source": [
    "vec.get_feature_names()[1:15]"
   ]
  },
  {
   "cell_type": "code",
   "execution_count": 20,
   "metadata": {
    "collapsed": true
   },
   "outputs": [],
   "source": [
    "predicts_rnd = rndforest.predict(X)\n"
   ]
  },
  {
   "cell_type": "code",
   "execution_count": 30,
   "metadata": {
    "collapsed": false
   },
   "outputs": [
    {
     "name": "stdout",
     "output_type": "stream",
     "text": [
      "428351\n",
      "(16892, 2)\n"
     ]
    }
   ],
   "source": [
    "print(len(predicts_rnd))\n",
    "print(messages.shape)"
   ]
  },
  {
   "cell_type": "code",
   "execution_count": 28,
   "metadata": {
    "collapsed": false
   },
   "outputs": [
    {
     "name": "stdout",
     "output_type": "stream",
     "text": [
      "[1 0 0 ..., 0 0 1]\n",
      "(428351, 101)\n",
      "  (0, 7)\t1.0\n",
      "  (0, 36)\t1.0\n",
      "  (0, 80)\t1.0\n",
      "  (1, 7)\t1.0\n",
      "  (1, 47)\t1.0\n",
      "  (1, 74)\t1.0\n",
      "  (2, 7)\t1.0\n",
      "  (2, 41)\t1.0\n",
      "  (2, 74)\t1.0\n",
      "  (3, 7)\t1.0\n",
      "  (3, 41)\t1.0\n",
      "  (3, 74)\t1.0\n",
      "  (4, 7)\t1.0\n",
      "  (4, 41)\t1.0\n",
      "  (4, 74)\t1.0\n",
      "  (5, 7)\t1.0\n",
      "  (5, 41)\t1.0\n",
      "  (5, 74)\t1.0\n",
      "  (6, 7)\t1.0\n",
      "  (6, 41)\t1.0\n",
      "  (6, 74)\t1.0\n",
      "  (7, 7)\t1.0\n",
      "  (7, 41)\t1.0\n",
      "  (7, 74)\t1.0\n",
      "  (8, 7)\t1.0\n",
      "  :\t:\n",
      "  (41, 77)\t1.0\n",
      "  (42, 13)\t1.0\n",
      "  (42, 44)\t1.0\n",
      "  (42, 80)\t1.0\n",
      "  (43, 7)\t1.0\n",
      "  (43, 47)\t1.0\n",
      "  (43, 80)\t1.0\n",
      "  (44, 13)\t1.0\n",
      "  (44, 47)\t1.0\n",
      "  (44, 74)\t1.0\n",
      "  (45, 13)\t1.0\n",
      "  (45, 41)\t1.0\n",
      "  (45, 80)\t1.0\n",
      "  (46, 26)\t1.0\n",
      "  (46, 47)\t1.0\n",
      "  (46, 80)\t1.0\n",
      "  (47, 9)\t1.0\n",
      "  (47, 47)\t1.0\n",
      "  (47, 93)\t1.0\n",
      "  (48, 13)\t1.0\n",
      "  (48, 60)\t1.0\n",
      "  (48, 76)\t1.0\n",
      "  (49, 13)\t1.0\n",
      "  (49, 43)\t1.0\n",
      "  (49, 80)\t1.0\n"
     ]
    }
   ],
   "source": [
    "print(predicts_rnd)\n",
    "print(X.shape)\n",
    "print(X[:50])"
   ]
  },
  {
   "cell_type": "code",
   "execution_count": null,
   "metadata": {
    "collapsed": true
   },
   "outputs": [],
   "source": [
    "predicts_svm = clf2.predict(X)"
   ]
  },
  {
   "cell_type": "code",
   "execution_count": 14,
   "metadata": {
    "collapsed": true
   },
   "outputs": [],
   "source": [
    "predicts_rnd_forest = rndforest.predict(X)"
   ]
  },
  {
   "cell_type": "code",
   "execution_count": 20,
   "metadata": {
    "collapsed": false
   },
   "outputs": [],
   "source": [
    "results = pd.DataFrame()\n",
    "results['message'] = messages['message']"
   ]
  },
  {
   "cell_type": "code",
   "execution_count": 32,
   "metadata": {
    "collapsed": false
   },
   "outputs": [
    {
     "name": "stdout",
     "output_type": "stream",
     "text": [
      "(1, 101)\n",
      "16893\n",
      "428351\n"
     ]
    }
   ],
   "source": [
    "print(X[0].shape)\n",
    "print(len(results))\n",
    "print(len(predicts_rnd_forest))"
   ]
  },
  {
   "cell_type": "code",
   "execution_count": 33,
   "metadata": {
    "collapsed": false
   },
   "outputs": [
    {
     "name": "stdout",
     "output_type": "stream",
     "text": [
      "[1 0 0 ..., 0 0 1]\n"
     ]
    }
   ],
   "source": [
    "print(predicts_rnd_forest)"
   ]
  },
  {
   "cell_type": "code",
   "execution_count": null,
   "metadata": {
    "collapsed": false
   },
   "outputs": [],
   "source": [
    "results['label'] = predicts_rnd_forest"
   ]
  },
  {
   "cell_type": "code",
   "execution_count": null,
   "metadata": {
    "collapsed": false
   },
   "outputs": [],
   "source": [
    "print(vec.inverse_transform(X))\n",
    "print(results.head())"
   ]
  },
  {
   "cell_type": "code",
   "execution_count": null,
   "metadata": {
    "collapsed": true
   },
   "outputs": [],
   "source": [
    "results.to_csv('results_RuiMendes.txt', sep='\\t')"
   ]
  },
  {
   "cell_type": "code",
   "execution_count": null,
   "metadata": {
    "collapsed": true
   },
   "outputs": [],
   "source": []
  }
 ],
 "metadata": {
  "kernelspec": {
   "display_name": "Python 3",
   "language": "python",
   "name": "python3"
  },
  "language_info": {
   "codemirror_mode": {
    "name": "ipython",
    "version": 3
   },
   "file_extension": ".py",
   "mimetype": "text/x-python",
   "name": "python",
   "nbconvert_exporter": "python",
   "pygments_lexer": "ipython3",
   "version": "3.4.5"
  }
 },
 "nbformat": 4,
 "nbformat_minor": 0
}
