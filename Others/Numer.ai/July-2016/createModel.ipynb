{
 "cells": [
  {
   "cell_type": "code",
   "execution_count": null,
   "metadata": {
    "collapsed": true
   },
   "outputs": [],
   "source": []
  },
  {
   "cell_type": "code",
   "execution_count": null,
   "metadata": {
    "collapsed": true
   },
   "outputs": [],
   "source": [
    "import numpy as np # linear algebra\n",
    "import pandas as pd # data processing, CSV file I/O (e.g. pd.read_csv)\n",
    "from datetime import datetime"
   ]
  },
  {
   "cell_type": "code",
   "execution_count": null,
   "metadata": {
    "collapsed": true
   },
   "outputs": [],
   "source": [
    "def loadTrainAndTestDatasets():\n",
    "        train_df = pd.read_csv(\"data/numerai_training_data.csv\")\n",
    "        test_df = pd.read_csv(\"data/numerai_tournament_data.csv\")\n",
    "        \n",
    "        return train_df, test_df"
   ]
  },
  {
   "cell_type": "code",
   "execution_count": null,
   "metadata": {
    "collapsed": true
   },
   "outputs": [],
   "source": [
    "def prepareDatasets(train_df, test_df):\n",
    "    \n",
    "    print('-- Transformation step has begun --- ')\n",
    "    \n",
    "    train_outcome = train_df[\"target\"]\n",
    "    \n",
    "    train = train_df\n",
    "    train.drop([\"target\"], axis=1, inplace=True)\n",
    "    \n",
    "    test = test_df\n",
    "    test.drop([\"t_id\"], axis=1, inplace=True)\n",
    "    \n",
    "    print('-- Transformation step has finished --- ')\n",
    "    \n",
    "    return train_outcome, train, test"
   ]
  },
  {
   "cell_type": "markdown",
   "metadata": {},
   "source": [
    "## Cross-validation"
   ]
  },
  {
   "cell_type": "code",
   "execution_count": null,
   "metadata": {
    "collapsed": true
   },
   "outputs": [],
   "source": [
    "from sklearn.ensemble import RandomForestClassifier\n",
    "from sklearn.cross_validation import train_test_split\n",
    "from sklearn.metrics import classification_report, accuracy_score, log_loss\n",
    "\n",
    "def calculateCVMetrics(train, train_outcome, model):\n",
    "    \n",
    "    X_train, X_val, y_train, y_val = train_test_split(train, train_outcome, test_size=0.3)\n",
    "    model.fit(X_train, y_train)\n",
    "    clf_probs = model.predict_proba(X_val)\n",
    "    print('Log Loss metric')\n",
    "    print(log_loss(y_val, clf_probs))"
   ]
  },
  {
   "cell_type": "markdown",
   "metadata": {},
   "source": [
    "## Create predictions and submission file"
   ]
  },
  {
   "cell_type": "code",
   "execution_count": null,
   "metadata": {
    "collapsed": true
   },
   "outputs": [],
   "source": [
    "def makePredictions(model, test):\n",
    "    return model.predict_proba(test)"
   ]
  },
  {
   "cell_type": "code",
   "execution_count": null,
   "metadata": {
    "collapsed": false
   },
   "outputs": [],
   "source": [
    "def createCSVSubmissionFile(predictions, fileName):\n",
    "    \n",
    "    results = pd.read_csv(\"submissions/example_predictions.csv\")\n",
    "    \n",
    "    results['probability'] = predictions[:,1]\n",
    "    results.to_csv(\"submissions/\" + fileName, index=False)"
   ]
  },
  {
   "cell_type": "markdown",
   "metadata": {},
   "source": [
    "# RUN ALL STEPS"
   ]
  },
  {
   "cell_type": "code",
   "execution_count": null,
   "metadata": {
    "collapsed": true
   },
   "outputs": [],
   "source": [
    "train_df, test_df = loadTrainAndTestDatasets()"
   ]
  },
  {
   "cell_type": "code",
   "execution_count": null,
   "metadata": {
    "collapsed": false
   },
   "outputs": [],
   "source": [
    "train_outcome, train, test = prepareDatasets(train_df, test_df)"
   ]
  },
  {
   "cell_type": "code",
   "execution_count": null,
   "metadata": {
    "collapsed": false
   },
   "outputs": [],
   "source": [
    "import xgboost as xgb\n",
    "from xgboost.sklearn import XGBClassifier\n",
    "modelXGB = XGBClassifier(n_estimators=5000, learning_rate = 0.001, max_depth=6, subsample=0.7, \n",
    "        #colsample_bytree = 0.7, # gamma = 0.7, # max_delta_step=0.1, \n",
    "        #reg_lambda = 4, # min_child_weight=50, \n",
    "        #seed = seed, \n",
    "                        ) \n",
    "#modelXGB = XGBClassifier() \n",
    "    \n",
    "modelXGB.fit(train, train_outcome, eval_metric='mlogloss',)\n",
    "calculateCVMetrics(train, train_outcome, modelXGB)"
   ]
  },
  {
   "cell_type": "code",
   "execution_count": null,
   "metadata": {
    "collapsed": false
   },
   "outputs": [],
   "source": [
    "predictionsXGBoost = makePredictions(modelXGB, test)"
   ]
  },
  {
   "cell_type": "code",
   "execution_count": null,
   "metadata": {
    "collapsed": false
   },
   "outputs": [],
   "source": [
    "predictionsXGBoost[:10]"
   ]
  },
  {
   "cell_type": "code",
   "execution_count": null,
   "metadata": {
    "collapsed": true
   },
   "outputs": [],
   "source": [
    "from datetime import datetime\n",
    "now = datetime.now().strftime(\"%Y%m%d-%H%M%S\")\n",
    "fileName = \"submission_\" + now + \".csv\"\n",
    "createCSVSubmissionFile(predictionsXGBoost, fileName)"
   ]
  },
  {
   "cell_type": "code",
   "execution_count": null,
   "metadata": {
    "collapsed": false,
    "scrolled": true
   },
   "outputs": [],
   "source": [
    "train.head()"
   ]
  },
  {
   "cell_type": "code",
   "execution_count": null,
   "metadata": {
    "collapsed": true
   },
   "outputs": [],
   "source": [
    "t = pd.read_csv(\"data/numerai_tournament_data.csv\")"
   ]
  },
  {
   "cell_type": "code",
   "execution_count": null,
   "metadata": {
    "collapsed": false
   },
   "outputs": [],
   "source": [
    "from sklearn.neighbors import KNeighborsClassifier\n",
    "from sklearn.svm import SVC\n",
    "from sklearn.tree import DecisionTreeClassifier\n",
    "from sklearn.ensemble import RandomForestClassifier, AdaBoostClassifier, GradientBoostingClassifier, VotingClassifier\n",
    "from sklearn.naive_bayes import GaussianNB\n",
    "from sklearn.discriminant_analysis import QuadraticDiscriminantAnalysis\n",
    "from sklearn.linear_model import LogisticRegression, SGDClassifier\n",
    "classifiers = [\n",
    "    ##KNeighborsClassifier(100), #0.695473316697\n",
    "    ##SVC(max_iter=1000, probability=True, kernel='rbf', degree=20), #0.693252664625\n",
    "    ##DecisionTreeClassifier(max_depth=3),   #0.692021496037\n",
    "    RandomForestClassifier(max_depth=5, n_estimators=100), #0.69200677508\n",
    "    ##AdaBoostClassifier(), #0.693078393931\n",
    "    ##GaussianNB(), #0.700521295321\n",
    "    ##QuadraticDiscriminantAnalysis(), #0.695140853024\n",
    "    ##LogisticRegression(),  #0.691223229661\n",
    "    #LogisticRegression()\n",
    "    ##GradientBoostingClassifier() #0.691897373977\n",
    "    ##GradientBoostingClassifier(learning_rate=0.05, min_samples_split=50, max_depth=8) #0.694131149586\n",
    "    # GradientBoostingClassifier(learning_rate=0.005, n_estimators=3000, min_samples_split=600, min_samples_leaf=30, max_depth=12, subsample=0.85)\n",
    "]"
   ]
  },
  {
   "cell_type": "code",
   "execution_count": null,
   "metadata": {
    "collapsed": false
   },
   "outputs": [],
   "source": [
    "for classifier in classifiers:\n",
    "    \n",
    "    model = classifier\n",
    "    \n",
    "    model.fit(train, train_outcome)\n",
    "    calculateCVMetrics(train, train_outcome, model)"
   ]
  },
  {
   "cell_type": "code",
   "execution_count": null,
   "metadata": {
    "collapsed": true
   },
   "outputs": [],
   "source": []
  },
  {
   "cell_type": "code",
   "execution_count": null,
   "metadata": {
    "collapsed": true
   },
   "outputs": [],
   "source": []
  },
  {
   "cell_type": "code",
   "execution_count": null,
   "metadata": {
    "collapsed": false
   },
   "outputs": [],
   "source": [
    "from sklearn.grid_search import GridSearchCV\n",
    "rfc = RandomForestClassifier(n_jobs=4)\n",
    "param_grid = { \n",
    "    'n_estimators': [100, 500, 1000],\n",
    "    'max_depth' : [3, 5, 8]\n",
    "}\n",
    "model = GridSearchCV(estimator=rfc, param_grid=param_grid, cv=10, n_jobs=4)"
   ]
  },
  {
   "cell_type": "code",
   "execution_count": null,
   "metadata": {
    "collapsed": false
   },
   "outputs": [],
   "source": [
    "model.fit(train, train_outcome)\n",
    "calculateCVMetrics(train, train_outcome, model)\n"
   ]
  },
  {
   "cell_type": "code",
   "execution_count": null,
   "metadata": {
    "collapsed": true
   },
   "outputs": [],
   "source": [
    "predictions = makePredictions(model, test)\n",
    "\n",
    "from datetime import datetime\n",
    "now = datetime.now().strftime(\"%Y%m%d-%H%M%S\")\n",
    "fileName = \"submission_\" + now + \".csv\"\n",
    "createCSVSubmissionFile(predictions, fileName)"
   ]
  },
  {
   "cell_type": "code",
   "execution_count": null,
   "metadata": {
    "collapsed": false
   },
   "outputs": [],
   "source": [
    "model.best_estimator_"
   ]
  },
  {
   "cell_type": "code",
   "execution_count": null,
   "metadata": {
    "collapsed": true
   },
   "outputs": [],
   "source": []
  },
  {
   "cell_type": "markdown",
   "metadata": {},
   "source": [
    "### TESTING FEATURE SELECTION"
   ]
  },
  {
   "cell_type": "code",
   "execution_count": null,
   "metadata": {
    "collapsed": false
   },
   "outputs": [],
   "source": [
    "model.feature_importances_"
   ]
  },
  {
   "cell_type": "code",
   "execution_count": null,
   "metadata": {
    "collapsed": false
   },
   "outputs": [],
   "source": [
    "from sklearn.feature_selection import SelectFromModel\n",
    "new_model = SelectFromModel(model, prefit=True)\n",
    "X_new = new_model.transform(train)\n",
    "new_model.fit(X_new, train_outcome)\n",
    "calculateCVMetrics(X_new, train_outcome, new_model)\n"
   ]
  },
  {
   "cell_type": "code",
   "execution_count": null,
   "metadata": {
    "collapsed": true
   },
   "outputs": [],
   "source": [
    "Y_new = new_model.transform(test)\n",
    "predictions = makePredictions(new_model, Y_new)\n",
    "\n",
    "from datetime import datetime\n",
    "now = datetime.now().strftime(\"%Y%m%d-%H%M%S\")\n",
    "fileName = \"submission_\" + now + \".csv\"\n",
    "createCSVSubmissionFile(predictions, fileName)"
   ]
  }
 ],
 "metadata": {
  "kernelspec": {
   "display_name": "Python 3",
   "language": "python",
   "name": "python3"
  },
  "language_info": {
   "codemirror_mode": {
    "name": "ipython",
    "version": 3
   },
   "file_extension": ".py",
   "mimetype": "text/x-python",
   "name": "python",
   "nbconvert_exporter": "python",
   "pygments_lexer": "ipython3",
   "version": "3.4.5"
  }
 },
 "nbformat": 4,
 "nbformat_minor": 0
}
