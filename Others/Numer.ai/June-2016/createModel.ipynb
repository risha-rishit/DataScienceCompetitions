{
 "cells": [
  {
   "cell_type": "code",
   "execution_count": null,
   "metadata": {
    "collapsed": true
   },
   "outputs": [],
   "source": []
  },
  {
   "cell_type": "code",
   "execution_count": 1,
   "metadata": {
    "collapsed": true
   },
   "outputs": [],
   "source": [
    "import numpy as np # linear algebra\n",
    "import pandas as pd # data processing, CSV file I/O (e.g. pd.read_csv)\n",
    "from datetime import datetime"
   ]
  },
  {
   "cell_type": "code",
   "execution_count": 2,
   "metadata": {
    "collapsed": true
   },
   "outputs": [],
   "source": [
    "def loadTrainAndTestDatasets():\n",
    "        train_df = pd.read_csv(\"data/numerai_training_data.csv\")\n",
    "        test_df = pd.read_csv(\"data/numerai_tournament_data.csv\")\n",
    "        \n",
    "        return train_df, test_df"
   ]
  },
  {
   "cell_type": "code",
   "execution_count": 3,
   "metadata": {
    "collapsed": true
   },
   "outputs": [],
   "source": [
    "def prepareDatasets(train_df, test_df):\n",
    "    \n",
    "    print('-- Transformation step has begun --- ')\n",
    "    \n",
    "    train_outcome = train_df[\"target\"]\n",
    "    \n",
    "    train = train_df\n",
    "    train.drop([\"target\"], axis=1, inplace=True)\n",
    "    \n",
    "    test = test_df\n",
    "    test.drop([\"t_id\"], axis=1, inplace=True)\n",
    "    \n",
    "    print('-- Transformation step has finished --- ')\n",
    "    \n",
    "    return train_outcome, train, test"
   ]
  },
  {
   "cell_type": "markdown",
   "metadata": {},
   "source": [
    "## Cross-validation"
   ]
  },
  {
   "cell_type": "code",
   "execution_count": 4,
   "metadata": {
    "collapsed": true
   },
   "outputs": [],
   "source": [
    "from sklearn.ensemble import RandomForestClassifier\n",
    "from sklearn.cross_validation import train_test_split\n",
    "from sklearn.metrics import classification_report, accuracy_score, log_loss\n",
    "\n",
    "def calculateCVMetrics(train, train_outcome, model):\n",
    "    \n",
    "    X_train, X_val, y_train, y_val = train_test_split(train, train_outcome, test_size=0.3)\n",
    "    model.fit(X_train, y_train)\n",
    "    clf_probs = model.predict_proba(X_val)\n",
    "    print('Log Loss metric')\n",
    "    print(log_loss(y_val, clf_probs))"
   ]
  },
  {
   "cell_type": "markdown",
   "metadata": {},
   "source": [
    "## Create predictions and submission file"
   ]
  },
  {
   "cell_type": "code",
   "execution_count": 5,
   "metadata": {
    "collapsed": true
   },
   "outputs": [],
   "source": [
    "def makePredictions(model, test):\n",
    "    return model.predict_proba(test)"
   ]
  },
  {
   "cell_type": "code",
   "execution_count": 6,
   "metadata": {
    "collapsed": false
   },
   "outputs": [],
   "source": [
    "def createCSVSubmissionFile(predictions, fileName):\n",
    "    \n",
    "    results = pd.read_csv(\"submissions/example_predictions.csv\")\n",
    "    \n",
    "    results['probability'] = predictions[:,1]\n",
    "    results.to_csv(\"submissions/\" + fileName, index=False)"
   ]
  },
  {
   "cell_type": "markdown",
   "metadata": {},
   "source": [
    "# RUN ALL STEPS"
   ]
  },
  {
   "cell_type": "code",
   "execution_count": 7,
   "metadata": {
    "collapsed": true
   },
   "outputs": [],
   "source": [
    "train_df, test_df = loadTrainAndTestDatasets()"
   ]
  },
  {
   "cell_type": "code",
   "execution_count": 8,
   "metadata": {
    "collapsed": false
   },
   "outputs": [
    {
     "name": "stdout",
     "output_type": "stream",
     "text": [
      "-- Transformation step has begun --- \n",
      "-- Transformation step has finished --- \n"
     ]
    }
   ],
   "source": [
    "train_outcome, train, test = prepareDatasets(train_df, test_df)"
   ]
  },
  {
   "cell_type": "code",
   "execution_count": 31,
   "metadata": {
    "collapsed": false
   },
   "outputs": [
    {
     "name": "stdout",
     "output_type": "stream",
     "text": [
      "Log Loss metric\n",
      "0.692719283598\n"
     ]
    }
   ],
   "source": [
    "import xgboost as xgb\n",
    "from xgboost.sklearn import XGBClassifier\n",
    "modelXGB = XGBClassifier(n_estimators=5000, learning_rate = 0.001, max_depth=6, subsample=0.7, \n",
    "        #colsample_bytree = 0.7, # gamma = 0.7, # max_delta_step=0.1, \n",
    "        #reg_lambda = 4, # min_child_weight=50, \n",
    "        #seed = seed, \n",
    "                        ) \n",
    "#modelXGB = XGBClassifier() \n",
    "    \n",
    "modelXGB.fit(train, train_outcome, eval_metric='mlogloss',)\n",
    "calculateCVMetrics(train, train_outcome, modelXGB)"
   ]
  },
  {
   "cell_type": "code",
   "execution_count": 32,
   "metadata": {
    "collapsed": false
   },
   "outputs": [],
   "source": [
    "predictionsXGBoost = makePredictions(modelXGB, test)"
   ]
  },
  {
   "cell_type": "code",
   "execution_count": 33,
   "metadata": {
    "collapsed": false
   },
   "outputs": [
    {
     "data": {
      "text/plain": [
       "array([[ 0.46221948,  0.53778052],\n",
       "       [ 0.44475436,  0.55524564],\n",
       "       [ 0.42980969,  0.57019031],\n",
       "       [ 0.50341177,  0.4965882 ],\n",
       "       [ 0.42915457,  0.57084543],\n",
       "       [ 0.46705002,  0.53294998],\n",
       "       [ 0.44288737,  0.55711263],\n",
       "       [ 0.474774  ,  0.525226  ],\n",
       "       [ 0.56255424,  0.43744573],\n",
       "       [ 0.52497959,  0.47502044]], dtype=float32)"
      ]
     },
     "execution_count": 33,
     "metadata": {},
     "output_type": "execute_result"
    }
   ],
   "source": [
    "predictionsXGBoost[:10]"
   ]
  },
  {
   "cell_type": "code",
   "execution_count": 34,
   "metadata": {
    "collapsed": true
   },
   "outputs": [],
   "source": [
    "from datetime import datetime\n",
    "now = datetime.now().strftime(\"%Y%m%d-%H%M%S\")\n",
    "fileName = \"submission_\" + now + \".csv\"\n",
    "createCSVSubmissionFile(predictionsXGBoost, fileName)"
   ]
  },
  {
   "cell_type": "code",
   "execution_count": null,
   "metadata": {
    "collapsed": false,
    "scrolled": true
   },
   "outputs": [],
   "source": [
    "train.head()"
   ]
  },
  {
   "cell_type": "code",
   "execution_count": null,
   "metadata": {
    "collapsed": true
   },
   "outputs": [],
   "source": [
    "t = pd.read_csv(\"data/numerai_tournament_data.csv\")"
   ]
  },
  {
   "cell_type": "code",
   "execution_count": 39,
   "metadata": {
    "collapsed": false
   },
   "outputs": [],
   "source": [
    "from sklearn.neighbors import KNeighborsClassifier\n",
    "from sklearn.svm import SVC\n",
    "from sklearn.tree import DecisionTreeClassifier\n",
    "from sklearn.ensemble import RandomForestClassifier, AdaBoostClassifier, GradientBoostingClassifier, VotingClassifier\n",
    "from sklearn.naive_bayes import GaussianNB\n",
    "from sklearn.discriminant_analysis import QuadraticDiscriminantAnalysis\n",
    "from sklearn.linear_model import LogisticRegression, SGDClassifier\n",
    "classifiers = [\n",
    "    ##KNeighborsClassifier(100), #0.695473316697\n",
    "    ##SVC(max_iter=1000, probability=True, kernel='rbf', degree=20), #0.693252664625\n",
    "    ##DecisionTreeClassifier(max_depth=3),   #0.692021496037\n",
    "    RandomForestClassifier(max_depth=5, n_estimators=100), #0.69200677508\n",
    "    ##AdaBoostClassifier(), #0.693078393931\n",
    "    ##GaussianNB(), #0.700521295321\n",
    "    ##QuadraticDiscriminantAnalysis(), #0.695140853024\n",
    "    ##LogisticRegression(),  #0.691223229661\n",
    "    #LogisticRegression()\n",
    "    ##GradientBoostingClassifier() #0.691897373977\n",
    "    ##GradientBoostingClassifier(learning_rate=0.05, min_samples_split=50, max_depth=8) #0.694131149586\n",
    "    # GradientBoostingClassifier(learning_rate=0.005, n_estimators=3000, min_samples_split=600, min_samples_leaf=30, max_depth=12, subsample=0.85)\n",
    "]"
   ]
  },
  {
   "cell_type": "code",
   "execution_count": 40,
   "metadata": {
    "collapsed": false
   },
   "outputs": [
    {
     "name": "stdout",
     "output_type": "stream",
     "text": [
      "Log Loss metric\n",
      "0.69169577635\n"
     ]
    }
   ],
   "source": [
    "for classifier in classifiers:\n",
    "    \n",
    "    model = classifier\n",
    "    \n",
    "    model.fit(train, train_outcome)\n",
    "    calculateCVMetrics(train, train_outcome, model)"
   ]
  },
  {
   "cell_type": "code",
   "execution_count": null,
   "metadata": {
    "collapsed": true
   },
   "outputs": [],
   "source": []
  },
  {
   "cell_type": "code",
   "execution_count": null,
   "metadata": {
    "collapsed": true
   },
   "outputs": [],
   "source": []
  },
  {
   "cell_type": "code",
   "execution_count": 46,
   "metadata": {
    "collapsed": false
   },
   "outputs": [],
   "source": [
    "from sklearn.grid_search import GridSearchCV\n",
    "rfc = RandomForestClassifier(n_jobs=4)\n",
    "param_grid = { \n",
    "    'n_estimators': [100, 500, 1000],\n",
    "    'max_depth' : [3, 5, 8]\n",
    "}\n",
    "model = GridSearchCV(estimator=rfc, param_grid=param_grid, cv=10, n_jobs=4)"
   ]
  },
  {
   "cell_type": "code",
   "execution_count": null,
   "metadata": {
    "collapsed": false
   },
   "outputs": [
    {
     "name": "stderr",
     "output_type": "stream",
     "text": [
      "[Parallel(n_jobs=1)]: Done  49 tasks       | elapsed:    3.2s\n",
      "[Parallel(n_jobs=1)]: Done  49 tasks       | elapsed:    3.4s\n",
      "[Parallel(n_jobs=1)]: Done  49 tasks       | elapsed:    3.6s\n",
      "[Parallel(n_jobs=1)]: Done  49 tasks       | elapsed:    3.6s\n",
      "[Parallel(n_jobs=1)]: Done 100 out of 100 | elapsed:    7.3s finished\n",
      "[Parallel(n_jobs=1)]: Done 100 out of 100 | elapsed:    7.3s finished\n",
      "[Parallel(n_jobs=1)]: Done  49 tasks       | elapsed:    0.0s\n",
      "[Parallel(n_jobs=1)]: Done  49 tasks       | elapsed:    0.1s\n",
      "[Parallel(n_jobs=1)]: Done 100 out of 100 | elapsed:    0.1s finished\n",
      "[Parallel(n_jobs=1)]: Done 100 out of 100 | elapsed:    0.1s finished\n",
      "[Parallel(n_jobs=1)]: Done 100 out of 100 | elapsed:    7.5s finished\n",
      "[Parallel(n_jobs=1)]: Done  49 tasks       | elapsed:    0.0s\n",
      "[Parallel(n_jobs=1)]: Done 100 out of 100 | elapsed:    0.1s finished\n",
      "[Parallel(n_jobs=1)]: Done 100 out of 100 | elapsed:    7.6s finished\n",
      "[Parallel(n_jobs=1)]: Done  49 tasks       | elapsed:    0.0s\n",
      "[Parallel(n_jobs=1)]: Done 100 out of 100 | elapsed:    0.1s finished\n",
      "[Parallel(n_jobs=1)]: Done  49 tasks       | elapsed:    3.2s\n",
      "[Parallel(n_jobs=1)]: Done  49 tasks       | elapsed:    3.2s\n",
      "[Parallel(n_jobs=1)]: Done  49 tasks       | elapsed:    3.3s\n",
      "[Parallel(n_jobs=1)]: Done  49 tasks       | elapsed:    3.2s\n",
      "[Parallel(n_jobs=1)]: Done 100 out of 100 | elapsed:    6.6s finished\n",
      "[Parallel(n_jobs=1)]: Done  49 tasks       | elapsed:    0.1s\n",
      "[Parallel(n_jobs=1)]: Done 100 out of 100 | elapsed:    0.1s finished\n",
      "[Parallel(n_jobs=1)]: Done 100 out of 100 | elapsed:    6.7s finished\n",
      "[Parallel(n_jobs=1)]: Done 100 out of 100 | elapsed:    7.0s finished\n",
      "[Parallel(n_jobs=1)]: Done  49 tasks       | elapsed:    0.0s\n",
      "[Parallel(n_jobs=1)]: Done  49 tasks       | elapsed:    0.0s\n",
      "[Parallel(n_jobs=1)]: Done 100 out of 100 | elapsed:    0.1s finished\n",
      "[Parallel(n_jobs=1)]: Done 100 out of 100 | elapsed:    7.1s finished\n",
      "[Parallel(n_jobs=1)]: Done 100 out of 100 | elapsed:    0.1s finished\n",
      "[Parallel(n_jobs=1)]: Done  49 tasks       | elapsed:    0.0s\n",
      "[Parallel(n_jobs=1)]: Done 100 out of 100 | elapsed:    0.1s finished\n",
      "[Parallel(n_jobs=1)]: Done  49 tasks       | elapsed:    4.0s\n",
      "[Parallel(n_jobs=1)]: Done  49 tasks       | elapsed:    3.7s\n",
      "[Parallel(n_jobs=1)]: Done  49 tasks       | elapsed:    4.1s\n",
      "[Parallel(n_jobs=1)]: Done  49 tasks       | elapsed:    4.0s\n",
      "[Parallel(n_jobs=1)]: Done 100 out of 100 | elapsed:    7.6s finished\n",
      "[Parallel(n_jobs=1)]: Done  49 tasks       | elapsed:    0.0s\n",
      "[Parallel(n_jobs=1)]: Done 100 out of 100 | elapsed:    0.1s finished\n",
      "[Parallel(n_jobs=1)]: Done 100 out of 100 | elapsed:    7.7s finished\n",
      "[Parallel(n_jobs=1)]: Done  49 tasks       | elapsed:    0.1s\n",
      "[Parallel(n_jobs=1)]: Done 100 out of 100 | elapsed:    0.1s finished\n",
      "[Parallel(n_jobs=1)]: Done  49 tasks       | elapsed:    5.6s\n",
      "[Parallel(n_jobs=1)]: Done  49 tasks       | elapsed:    5.7s\n",
      "[Parallel(n_jobs=1)]: Done 199 tasks       | elapsed:   17.6s\n",
      "[Parallel(n_jobs=1)]: Done 199 tasks       | elapsed:   18.2s\n",
      "[Parallel(n_jobs=1)]: Done 199 tasks       | elapsed:   20.1s\n",
      "[Parallel(n_jobs=1)]: Done 199 tasks       | elapsed:   20.5s\n",
      "[Parallel(n_jobs=1)]: Done 449 tasks       | elapsed:   41.5s\n",
      "[Parallel(n_jobs=1)]: Done 449 tasks       | elapsed:   43.7s\n",
      "[Parallel(n_jobs=1)]: Done 500 out of 500 | elapsed:   46.2s finished\n",
      "[Parallel(n_jobs=1)]: Done  49 tasks       | elapsed:    0.0s\n",
      "[Parallel(n_jobs=1)]: Done 199 tasks       | elapsed:    0.2s\n",
      "[Parallel(n_jobs=1)]: Done 449 tasks       | elapsed:    0.6s\n",
      "[Parallel(n_jobs=1)]: Done 500 out of 500 | elapsed:    0.7s finished\n",
      "[Parallel(n_jobs=1)]: Done 500 out of 500 | elapsed:   47.5s finished\n",
      "[Parallel(n_jobs=1)]: Done  49 tasks       | elapsed:    0.0s\n",
      "[Parallel(n_jobs=1)]: Done 199 tasks       | elapsed:    0.2s\n",
      "[Parallel(n_jobs=1)]: Done 449 tasks       | elapsed:    1.3s\n",
      "[Parallel(n_jobs=1)]: Done 500 out of 500 | elapsed:    1.3s finished\n",
      "[Parallel(n_jobs=1)]: Done 449 tasks       | elapsed:   41.6s\n",
      "[Parallel(n_jobs=1)]: Done 449 tasks       | elapsed:   42.3s\n",
      "[Parallel(n_jobs=1)]: Done  49 tasks       | elapsed:    3.7s\n",
      "[Parallel(n_jobs=1)]: Done 500 out of 500 | elapsed:   45.9s finished\n",
      "[Parallel(n_jobs=1)]: Done  49 tasks       | elapsed:    0.0s\n",
      "[Parallel(n_jobs=1)]: Done 199 tasks       | elapsed:    0.2s\n",
      "[Parallel(n_jobs=1)]: Done 500 out of 500 | elapsed:   45.7s finished\n",
      "[Parallel(n_jobs=1)]: Done  49 tasks       | elapsed:    0.0s\n",
      "[Parallel(n_jobs=1)]: Done  49 tasks       | elapsed:    4.6s\n",
      "[Parallel(n_jobs=1)]: Done 449 tasks       | elapsed:    0.4s\n",
      "[Parallel(n_jobs=1)]: Done 199 tasks       | elapsed:    0.4s\n",
      "[Parallel(n_jobs=1)]: Done 500 out of 500 | elapsed:    0.6s finished\n",
      "[Parallel(n_jobs=1)]: Done 449 tasks       | elapsed:    0.7s\n",
      "[Parallel(n_jobs=1)]: Done 500 out of 500 | elapsed:    1.6s finished\n",
      "[Parallel(n_jobs=1)]: Done  49 tasks       | elapsed:    4.5s\n",
      "[Parallel(n_jobs=1)]: Done  49 tasks       | elapsed:    3.5s\n",
      "[Parallel(n_jobs=1)]: Done 199 tasks       | elapsed:   13.8s\n",
      "[Parallel(n_jobs=1)]: Done 199 tasks       | elapsed:   16.0s\n",
      "[Parallel(n_jobs=1)]: Done 199 tasks       | elapsed:   15.2s\n",
      "[Parallel(n_jobs=1)]: Done 199 tasks       | elapsed:   14.2s\n",
      "[Parallel(n_jobs=1)]: Done 449 tasks       | elapsed:   32.3s\n",
      "[Parallel(n_jobs=1)]: Done 500 out of 500 | elapsed:   35.7s finished\n",
      "[Parallel(n_jobs=1)]: Done  49 tasks       | elapsed:    0.0s\n",
      "[Parallel(n_jobs=1)]: Done 199 tasks       | elapsed:    0.2s\n",
      "[Parallel(n_jobs=1)]: Done 449 tasks       | elapsed:    0.3s\n",
      "[Parallel(n_jobs=1)]: Done 500 out of 500 | elapsed:    0.4s finished\n",
      "[Parallel(n_jobs=1)]: Done 449 tasks       | elapsed:   35.4s\n",
      "[Parallel(n_jobs=1)]: Done  49 tasks       | elapsed:    3.5s\n",
      "[Parallel(n_jobs=1)]: Done 449 tasks       | elapsed:   32.9s\n",
      "[Parallel(n_jobs=1)]: Done 500 out of 500 | elapsed:   39.5s finished\n",
      "[Parallel(n_jobs=1)]: Done  49 tasks       | elapsed:    0.0s\n",
      "[Parallel(n_jobs=1)]: Done 199 tasks       | elapsed:    0.2s\n",
      "[Parallel(n_jobs=1)]: Done 449 tasks       | elapsed:   33.0s\n",
      "[Parallel(n_jobs=1)]: Done 449 tasks       | elapsed:    0.4s\n",
      "[Parallel(n_jobs=1)]: Done 500 out of 500 | elapsed:    0.4s finished\n",
      "[Parallel(n_jobs=1)]: Done 500 out of 500 | elapsed:   36.3s finished\n",
      "[Parallel(n_jobs=1)]: Done  49 tasks       | elapsed:    0.0s\n",
      "[Parallel(n_jobs=1)]: Done 199 tasks       | elapsed:    0.2s\n",
      "[Parallel(n_jobs=1)]: Done 449 tasks       | elapsed:    0.3s\n",
      "[Parallel(n_jobs=1)]: Done 500 out of 500 | elapsed:    0.4s finished\n",
      "[Parallel(n_jobs=1)]: Done 500 out of 500 | elapsed:   36.4s finished\n",
      "[Parallel(n_jobs=1)]: Done  49 tasks       | elapsed:    0.0s\n",
      "[Parallel(n_jobs=1)]: Done 199 tasks       | elapsed:    0.1s\n",
      "[Parallel(n_jobs=1)]: Done 449 tasks       | elapsed:    0.3s\n",
      "[Parallel(n_jobs=1)]: Done 500 out of 500 | elapsed:    0.4s finished\n",
      "[Parallel(n_jobs=1)]: Done  49 tasks       | elapsed:    3.3s\n",
      "[Parallel(n_jobs=1)]: Done  49 tasks       | elapsed:    4.0s\n",
      "[Parallel(n_jobs=1)]: Done  49 tasks       | elapsed:    4.0s\n",
      "[Parallel(n_jobs=1)]: Done 199 tasks       | elapsed:   14.3s\n",
      "[Parallel(n_jobs=1)]: Done 199 tasks       | elapsed:   13.7s\n",
      "[Parallel(n_jobs=1)]: Done 199 tasks       | elapsed:   15.1s\n",
      "[Parallel(n_jobs=1)]: Done 199 tasks       | elapsed:   14.6s\n",
      "[Parallel(n_jobs=1)]: Done 449 tasks       | elapsed:   32.4s\n",
      "[Parallel(n_jobs=1)]: Done 500 out of 500 | elapsed:   36.5s finished\n",
      "[Parallel(n_jobs=1)]: Done  49 tasks       | elapsed:    0.0s\n",
      "[Parallel(n_jobs=1)]: Done 199 tasks       | elapsed:    0.2s\n",
      "[Parallel(n_jobs=1)]: Done 449 tasks       | elapsed:    0.3s\n",
      "[Parallel(n_jobs=1)]: Done 500 out of 500 | elapsed:    0.4s finished\n",
      "[Parallel(n_jobs=1)]: Done 449 tasks       | elapsed:   32.0s\n",
      "[Parallel(n_jobs=1)]: Done  49 tasks       | elapsed:    3.9s\n",
      "[Parallel(n_jobs=1)]: Done 500 out of 500 | elapsed:   36.0s finished\n",
      "[Parallel(n_jobs=1)]: Done  49 tasks       | elapsed:    0.0s\n",
      "[Parallel(n_jobs=1)]: Done 199 tasks       | elapsed:    0.1s\n",
      "[Parallel(n_jobs=1)]: Done 449 tasks       | elapsed:   32.2s\n",
      "[Parallel(n_jobs=1)]: Done 449 tasks       | elapsed:    0.3s\n",
      "[Parallel(n_jobs=1)]: Done 500 out of 500 | elapsed:    0.4s finished\n",
      "[Parallel(n_jobs=1)]: Done 449 tasks       | elapsed:   33.8s\n",
      "[Parallel(n_jobs=1)]: Done  49 tasks       | elapsed:    4.0s\n",
      "[Parallel(n_jobs=1)]: Done 199 tasks       | elapsed:   17.5s\n",
      "[Parallel(n_jobs=1)]: Done 199 tasks       | elapsed:   17.5s\n",
      "[Parallel(n_jobs=1)]: Done 799 tasks       | elapsed:  1.1min\n",
      "[Parallel(n_jobs=1)]: Done 799 tasks       | elapsed:  1.1min\n",
      "[Parallel(n_jobs=1)]: Done 449 tasks       | elapsed:   41.8s\n",
      "[Parallel(n_jobs=1)]: Done 449 tasks       | elapsed:   43.5s\n",
      "[Parallel(n_jobs=1)]: Done 1000 out of 1000 | elapsed:  1.4min finished\n",
      "[Parallel(n_jobs=1)]: Done  49 tasks       | elapsed:    0.0s\n",
      "[Parallel(n_jobs=1)]: Done 199 tasks       | elapsed:    0.2s\n",
      "[Parallel(n_jobs=1)]: Done 449 tasks       | elapsed:    0.5s\n",
      "[Parallel(n_jobs=1)]: Done 1000 out of 1000 | elapsed:  1.4min finished\n",
      "[Parallel(n_jobs=1)]: Done  49 tasks       | elapsed:    0.1s\n",
      "[Parallel(n_jobs=1)]: Done 799 tasks       | elapsed:    1.5s\n",
      "[Parallel(n_jobs=1)]: Done 199 tasks       | elapsed:    0.2s\n",
      "[Parallel(n_jobs=1)]: Done 449 tasks       | elapsed:    0.4s\n",
      "[Parallel(n_jobs=1)]: Done 1000 out of 1000 | elapsed:    2.1s finished\n",
      "[Parallel(n_jobs=1)]: Done 799 tasks       | elapsed:    0.8s\n",
      "[Parallel(n_jobs=1)]: Done 1000 out of 1000 | elapsed:    1.1s finished\n",
      "[Parallel(n_jobs=1)]: Done  49 tasks       | elapsed:    5.7s\n",
      "[Parallel(n_jobs=1)]: Done  49 tasks       | elapsed:    5.7s\n",
      "[Parallel(n_jobs=1)]: Done 799 tasks       | elapsed:  1.2min\n",
      "[Parallel(n_jobs=1)]: Done 199 tasks       | elapsed:   18.7s\n",
      "[Parallel(n_jobs=1)]: Done 199 tasks       | elapsed:   19.4s\n",
      "[Parallel(n_jobs=1)]: Done 799 tasks       | elapsed:  1.3min\n",
      "[Parallel(n_jobs=1)]: Done 1000 out of 1000 | elapsed:  1.5min finished\n",
      "[Parallel(n_jobs=1)]: Done  49 tasks       | elapsed:    0.1s\n",
      "[Parallel(n_jobs=1)]: Done 199 tasks       | elapsed:    0.2s\n",
      "[Parallel(n_jobs=1)]: Done 449 tasks       | elapsed:    0.5s\n",
      "[Parallel(n_jobs=1)]: Done 799 tasks       | elapsed:    1.1s\n",
      "[Parallel(n_jobs=1)]: Done 1000 out of 1000 | elapsed:    1.5s finished\n",
      "[Parallel(n_jobs=1)]: Done  49 tasks       | elapsed:    4.0s\n",
      "[Parallel(n_jobs=1)]: Done 1000 out of 1000 | elapsed:  1.6min finished\n",
      "[Parallel(n_jobs=1)]: Done  49 tasks       | elapsed:    0.1s\n",
      "[Parallel(n_jobs=1)]: Done 199 tasks       | elapsed:    0.2s\n",
      "[Parallel(n_jobs=1)]: Done 449 tasks       | elapsed:    0.5s\n",
      "[Parallel(n_jobs=1)]: Done 799 tasks       | elapsed:    0.9s\n",
      "[Parallel(n_jobs=1)]: Done 1000 out of 1000 | elapsed:    1.2s finished\n",
      "[Parallel(n_jobs=1)]: Done 449 tasks       | elapsed:   41.8s\n",
      "[Parallel(n_jobs=1)]: Done 449 tasks       | elapsed:   42.4s\n",
      "[Parallel(n_jobs=1)]: Done  49 tasks       | elapsed:    3.9s\n",
      "[Parallel(n_jobs=1)]: Done 199 tasks       | elapsed:   17.3s\n",
      "[Parallel(n_jobs=1)]: Done 199 tasks       | elapsed:   15.1s\n",
      "[Parallel(n_jobs=1)]: Done 799 tasks       | elapsed:  1.2min\n",
      "[Parallel(n_jobs=1)]: Done 799 tasks       | elapsed:  1.2min\n",
      "[Parallel(n_jobs=1)]: Done 449 tasks       | elapsed:   37.2s\n",
      "[Parallel(n_jobs=1)]: Done 449 tasks       | elapsed:   36.6s\n",
      "[Parallel(n_jobs=1)]: Done 1000 out of 1000 | elapsed:  1.5min finished\n",
      "[Parallel(n_jobs=1)]: Done  49 tasks       | elapsed:    0.1s\n",
      "[Parallel(n_jobs=1)]: Done 199 tasks       | elapsed:    0.2s\n",
      "[Parallel(n_jobs=1)]: Done 449 tasks       | elapsed:    0.4s\n",
      "[Parallel(n_jobs=1)]: Done 1000 out of 1000 | elapsed:  1.5min finished\n",
      "[Parallel(n_jobs=1)]: Done  49 tasks       | elapsed:    0.0s\n",
      "[Parallel(n_jobs=1)]: Done 799 tasks       | elapsed:    0.8s\n",
      "[Parallel(n_jobs=1)]: Done 199 tasks       | elapsed:    0.2s\n",
      "[Parallel(n_jobs=1)]: Done 1000 out of 1000 | elapsed:    1.0s finished\n",
      "[Parallel(n_jobs=1)]: Done 449 tasks       | elapsed:    0.4s\n",
      "[Parallel(n_jobs=1)]: Done 799 tasks       | elapsed:    0.7s\n",
      "[Parallel(n_jobs=1)]: Done 1000 out of 1000 | elapsed:    0.9s finished\n",
      "[Parallel(n_jobs=1)]: Done  49 tasks       | elapsed:    4.0s\n",
      "[Parallel(n_jobs=1)]: Done  49 tasks       | elapsed:    5.3s\n",
      "[Parallel(n_jobs=1)]: Done 799 tasks       | elapsed:  1.1min\n",
      "[Parallel(n_jobs=1)]: Done 199 tasks       | elapsed:   16.7s\n",
      "[Parallel(n_jobs=1)]: Done 199 tasks       | elapsed:   18.1s\n",
      "[Parallel(n_jobs=1)]: Done 799 tasks       | elapsed:  1.1min\n",
      "[Parallel(n_jobs=1)]: Done 1000 out of 1000 | elapsed:  1.4min finished\n",
      "[Parallel(n_jobs=1)]: Done  49 tasks       | elapsed:    0.1s\n",
      "[Parallel(n_jobs=1)]: Done 199 tasks       | elapsed:    0.2s\n",
      "[Parallel(n_jobs=1)]: Done 449 tasks       | elapsed:    0.5s\n",
      "[Parallel(n_jobs=1)]: Done 799 tasks       | elapsed:    0.8s\n",
      "[Parallel(n_jobs=1)]: Done 1000 out of 1000 | elapsed:    1.0s finished\n",
      "[Parallel(n_jobs=1)]: Done 1000 out of 1000 | elapsed:  1.4min finished\n",
      "[Parallel(n_jobs=1)]: Done  49 tasks       | elapsed:    0.0s\n",
      "[Parallel(n_jobs=1)]: Done 199 tasks       | elapsed:    0.1s\n",
      "[Parallel(n_jobs=1)]: Done 449 tasks       | elapsed:    0.4s\n",
      "[Parallel(n_jobs=1)]: Done 449 tasks       | elapsed:   36.7s\n",
      "[Parallel(n_jobs=1)]: Done 799 tasks       | elapsed:    0.7s\n",
      "[Parallel(n_jobs=1)]: Done 1000 out of 1000 | elapsed:    0.9s finished\n",
      "[Parallel(n_jobs=1)]: Done  49 tasks       | elapsed:    6.0s\n",
      "[Parallel(n_jobs=1)]: Done 449 tasks       | elapsed:   37.8s\n",
      "[Parallel(n_jobs=1)]: Done  49 tasks       | elapsed:    6.5s\n",
      "[Parallel(n_jobs=1)]: Done 100 out of 100 | elapsed:   12.7s finished\n",
      "[Parallel(n_jobs=1)]: Done  49 tasks       | elapsed:    0.0s\n",
      "[Parallel(n_jobs=1)]: Done 100 out of 100 | elapsed:    0.1s finished\n",
      "[Parallel(n_jobs=1)]: Done 100 out of 100 | elapsed:   12.3s finished\n",
      "[Parallel(n_jobs=1)]: Done  49 tasks       | elapsed:    0.0s\n",
      "[Parallel(n_jobs=1)]: Done 100 out of 100 | elapsed:    0.1s finished\n",
      "[Parallel(n_jobs=1)]: Done  49 tasks       | elapsed:    5.8s\n",
      "[Parallel(n_jobs=1)]: Done  49 tasks       | elapsed:    6.0s\n",
      "[Parallel(n_jobs=1)]: Done 100 out of 100 | elapsed:   12.1s finished\n",
      "[Parallel(n_jobs=1)]: Done  49 tasks       | elapsed:    0.0s\n",
      "[Parallel(n_jobs=1)]: Done 100 out of 100 | elapsed:    0.1s finished\n",
      "[Parallel(n_jobs=1)]: Done 100 out of 100 | elapsed:   12.6s finished\n",
      "[Parallel(n_jobs=1)]: Done  49 tasks       | elapsed:    0.0s\n",
      "[Parallel(n_jobs=1)]: Done 100 out of 100 | elapsed:    0.1s finished\n",
      "[Parallel(n_jobs=1)]: Done  49 tasks       | elapsed:    6.3s\n",
      "[Parallel(n_jobs=1)]: Done 799 tasks       | elapsed:  1.1min\n",
      "[Parallel(n_jobs=1)]: Done 799 tasks       | elapsed:  1.1min\n",
      "[Parallel(n_jobs=1)]: Done  49 tasks       | elapsed:    5.1s\n",
      "[Parallel(n_jobs=1)]: Done 100 out of 100 | elapsed:   11.6s finished\n",
      "[Parallel(n_jobs=1)]: Done  49 tasks       | elapsed:    0.0s\n",
      "[Parallel(n_jobs=1)]: Done 100 out of 100 | elapsed:    0.1s finished\n",
      "[Parallel(n_jobs=1)]: Done 100 out of 100 | elapsed:   10.6s finished\n",
      "[Parallel(n_jobs=1)]: Done  49 tasks       | elapsed:    0.0s\n",
      "[Parallel(n_jobs=1)]: Done 100 out of 100 | elapsed:    0.1s finished\n",
      "[Parallel(n_jobs=1)]: Done  49 tasks       | elapsed:    5.3s\n",
      "[Parallel(n_jobs=1)]: Done 1000 out of 1000 | elapsed:  1.3min finished\n",
      "[Parallel(n_jobs=1)]: Done  49 tasks       | elapsed:    0.0s\n",
      "[Parallel(n_jobs=1)]: Done 199 tasks       | elapsed:    0.1s\n",
      "[Parallel(n_jobs=1)]: Done 449 tasks       | elapsed:    0.3s\n",
      "[Parallel(n_jobs=1)]: Done 799 tasks       | elapsed:    0.5s\n",
      "[Parallel(n_jobs=1)]: Done 1000 out of 1000 | elapsed:    0.7s finished\n",
      "[Parallel(n_jobs=1)]: Done  49 tasks       | elapsed:    5.3s\n",
      "[Parallel(n_jobs=1)]: Done 100 out of 100 | elapsed:   10.8s finished\n",
      "[Parallel(n_jobs=1)]: Done  49 tasks       | elapsed:    0.0s\n",
      "[Parallel(n_jobs=1)]: Done 100 out of 100 | elapsed:    0.1s finished\n",
      "[Parallel(n_jobs=1)]: Done 1000 out of 1000 | elapsed:  1.3min finished\n",
      "[Parallel(n_jobs=1)]: Done  49 tasks       | elapsed:    0.0s\n",
      "[Parallel(n_jobs=1)]: Done 199 tasks       | elapsed:    0.1s\n",
      "[Parallel(n_jobs=1)]: Done 449 tasks       | elapsed:    0.3s\n",
      "[Parallel(n_jobs=1)]: Done 799 tasks       | elapsed:    0.6s\n",
      "[Parallel(n_jobs=1)]: Done 1000 out of 1000 | elapsed:    0.7s finished\n",
      "[Parallel(n_jobs=1)]: Done  49 tasks       | elapsed:    5.3s\n",
      "[Parallel(n_jobs=1)]: Done 100 out of 100 | elapsed:   10.6s finished\n",
      "[Parallel(n_jobs=1)]: Done  49 tasks       | elapsed:    0.0s\n",
      "[Parallel(n_jobs=1)]: Done 100 out of 100 | elapsed:    0.1s finished\n",
      "[Parallel(n_jobs=1)]: Done  49 tasks       | elapsed:    5.2s\n",
      "[Parallel(n_jobs=1)]: Done  49 tasks       | elapsed:    5.1s\n",
      "[Parallel(n_jobs=1)]: Done 100 out of 100 | elapsed:   10.6s finished\n",
      "[Parallel(n_jobs=1)]: Done  49 tasks       | elapsed:    0.0s\n",
      "[Parallel(n_jobs=1)]: Done 100 out of 100 | elapsed:    0.1s finished\n",
      "[Parallel(n_jobs=1)]: Done 100 out of 100 | elapsed:   10.5s finished\n",
      "[Parallel(n_jobs=1)]: Done  49 tasks       | elapsed:    0.1s\n",
      "[Parallel(n_jobs=1)]: Done  49 tasks       | elapsed:    5.1s\n",
      "[Parallel(n_jobs=1)]: Done 100 out of 100 | elapsed:    0.1s finished\n",
      "[Parallel(n_jobs=1)]: Done  49 tasks       | elapsed:    5.1s\n",
      "[Parallel(n_jobs=1)]: Done  49 tasks       | elapsed:    4.9s\n",
      "[Parallel(n_jobs=1)]: Done 199 tasks       | elapsed:   20.7s\n",
      "[Parallel(n_jobs=1)]: Done 199 tasks       | elapsed:   20.9s\n",
      "[Parallel(n_jobs=1)]: Done 199 tasks       | elapsed:   20.6s\n",
      "[Parallel(n_jobs=1)]: Done 199 tasks       | elapsed:   20.3s\n",
      "[Parallel(n_jobs=1)]: Done 449 tasks       | elapsed:   48.1s\n",
      "[Parallel(n_jobs=1)]: Done 449 tasks       | elapsed:   49.5s\n",
      "[Parallel(n_jobs=1)]: Done 500 out of 500 | elapsed:   54.6s finished\n",
      "[Parallel(n_jobs=1)]: Done  49 tasks       | elapsed:    0.1s\n",
      "[Parallel(n_jobs=1)]: Done 199 tasks       | elapsed:    0.2s\n",
      "[Parallel(n_jobs=1)]: Done 449 tasks       | elapsed:    0.4s\n",
      "[Parallel(n_jobs=1)]: Done 500 out of 500 | elapsed:    0.5s finished\n",
      "[Parallel(n_jobs=1)]: Done 449 tasks       | elapsed:   49.4s\n",
      "[Parallel(n_jobs=1)]: Done 449 tasks       | elapsed:   48.6s\n",
      "[Parallel(n_jobs=1)]: Done 500 out of 500 | elapsed:   55.2s finished\n",
      "[Parallel(n_jobs=1)]: Done  49 tasks       | elapsed:    0.0s\n",
      "[Parallel(n_jobs=1)]: Done 199 tasks       | elapsed:    0.2s\n",
      "[Parallel(n_jobs=1)]: Done 449 tasks       | elapsed:    0.4s\n",
      "[Parallel(n_jobs=1)]: Done 500 out of 500 | elapsed:    0.5s finished\n",
      "[Parallel(n_jobs=1)]: Done  49 tasks       | elapsed:    5.4s\n",
      "[Parallel(n_jobs=1)]: Done 500 out of 500 | elapsed:   54.1s finished\n",
      "[Parallel(n_jobs=1)]: Done 500 out of 500 | elapsed:   55.0s finished\n",
      "[Parallel(n_jobs=1)]: Done  49 tasks       | elapsed:    0.0s\n",
      "[Parallel(n_jobs=1)]: Done  49 tasks       | elapsed:    0.0s\n",
      "[Parallel(n_jobs=1)]: Done 199 tasks       | elapsed:    0.2s\n",
      "[Parallel(n_jobs=1)]: Done 199 tasks       | elapsed:    0.2s\n",
      "[Parallel(n_jobs=1)]: Done 449 tasks       | elapsed:    0.4s\n",
      "[Parallel(n_jobs=1)]: Done 449 tasks       | elapsed:    0.4s\n",
      "[Parallel(n_jobs=1)]: Done 500 out of 500 | elapsed:    0.4s finished\n",
      "[Parallel(n_jobs=1)]: Done 500 out of 500 | elapsed:    0.5s finished\n",
      "[Parallel(n_jobs=1)]: Done  49 tasks       | elapsed:    5.5s\n",
      "[Parallel(n_jobs=1)]: Done  49 tasks       | elapsed:    5.9s\n",
      "[Parallel(n_jobs=1)]: Done  49 tasks       | elapsed:    6.2s\n",
      "[Parallel(n_jobs=1)]: Done 199 tasks       | elapsed:   23.6s\n",
      "[Parallel(n_jobs=1)]: Done 199 tasks       | elapsed:   23.6s\n",
      "[Parallel(n_jobs=1)]: Done 199 tasks       | elapsed:   23.8s\n",
      "[Parallel(n_jobs=1)]: Done 199 tasks       | elapsed:   24.2s\n"
     ]
    }
   ],
   "source": [
    "model.fit(train, train_outcome)\n",
    "calculateCVMetrics(train, train_outcome, model)\n"
   ]
  },
  {
   "cell_type": "code",
   "execution_count": 45,
   "metadata": {
    "collapsed": true
   },
   "outputs": [],
   "source": [
    "predictions = makePredictions(model, test)\n",
    "\n",
    "from datetime import datetime\n",
    "now = datetime.now().strftime(\"%Y%m%d-%H%M%S\")\n",
    "fileName = \"submission_\" + now + \".csv\"\n",
    "createCSVSubmissionFile(predictions, fileName)"
   ]
  },
  {
   "cell_type": "code",
   "execution_count": null,
   "metadata": {
    "collapsed": false
   },
   "outputs": [],
   "source": [
    "model.best_estimator_"
   ]
  },
  {
   "cell_type": "code",
   "execution_count": null,
   "metadata": {
    "collapsed": true
   },
   "outputs": [],
   "source": []
  },
  {
   "cell_type": "markdown",
   "metadata": {},
   "source": [
    "### TESTING FEATURE SELECTION"
   ]
  },
  {
   "cell_type": "code",
   "execution_count": 44,
   "metadata": {
    "collapsed": false
   },
   "outputs": [
    {
     "data": {
      "text/plain": [
       "array([ 0.0339017 ,  0.05916888,  0.02903521,  0.03310291,  0.03963424,\n",
       "        0.03137447,  0.0303895 ,  0.02958126,  0.02954537,  0.05504999,\n",
       "        0.06498488,  0.03716954,  0.04618844,  0.06361075,  0.08634508,\n",
       "        0.08078569,  0.07468124,  0.032105  ,  0.0275825 ,  0.05248419,\n",
       "        0.06327914])"
      ]
     },
     "execution_count": 44,
     "metadata": {},
     "output_type": "execute_result"
    }
   ],
   "source": [
    "model.feature_importances_"
   ]
  },
  {
   "cell_type": "code",
   "execution_count": null,
   "metadata": {
    "collapsed": false
   },
   "outputs": [],
   "source": [
    "from sklearn.feature_selection import SelectFromModel\n",
    "new_model = SelectFromModel(model, prefit=True)\n",
    "X_new = new_model.transform(train)\n",
    "new_model.fit(X_new, train_outcome)\n",
    "calculateCVMetrics(X_new, train_outcome, new_model)\n"
   ]
  },
  {
   "cell_type": "code",
   "execution_count": null,
   "metadata": {
    "collapsed": true
   },
   "outputs": [],
   "source": [
    "Y_new = new_model.transform(test)\n",
    "predictions = makePredictions(new_model, Y_new)\n",
    "\n",
    "from datetime import datetime\n",
    "now = datetime.now().strftime(\"%Y%m%d-%H%M%S\")\n",
    "fileName = \"submission_\" + now + \".csv\"\n",
    "createCSVSubmissionFile(predictions, fileName)"
   ]
  }
 ],
 "metadata": {
  "kernelspec": {
   "display_name": "Python 3",
   "language": "python",
   "name": "python3"
  },
  "language_info": {
   "codemirror_mode": {
    "name": "ipython",
    "version": 3
   },
   "file_extension": ".py",
   "mimetype": "text/x-python",
   "name": "python",
   "nbconvert_exporter": "python",
   "pygments_lexer": "ipython3",
   "version": "3.4.5"
  }
 },
 "nbformat": 4,
 "nbformat_minor": 0
}
