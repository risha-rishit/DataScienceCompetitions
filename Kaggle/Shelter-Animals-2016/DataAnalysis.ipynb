{
 "cells": [
  {
   "cell_type": "markdown",
   "metadata": {
    "collapsed": true
   },
   "source": [
    "# Shelter Competition\n",
    "\n",
    "https://www.kaggle.com/c/shelter-animal-outcomes\n",
    "\n",
    "1. Variable Identification\n",
    "2. Univariate Analysis\n",
    "3. Bi-variate Analysis\n",
    "    * Cross tabs\n",
    "    * Transform to numeric and check correlation (ToDo)\n",
    "4. Missing values treatment (ToDo)\n",
    "5. Outlier treatment (ToDo)"
   ]
  },
  {
   "cell_type": "code",
   "execution_count": 3,
   "metadata": {
    "collapsed": false
   },
   "outputs": [
    {
     "name": "stderr",
     "output_type": "stream",
     "text": [
      "/home/ruimendes/conda/envs/data-science-3/lib/python3.4/site-packages/matplotlib/__init__.py:872: UserWarning: axes.color_cycle is deprecated and replaced with axes.prop_cycle; please use the latter.\n",
      "  warnings.warn(self.msg_depr % (key, alt_key))\n"
     ]
    }
   ],
   "source": [
    "import pandas as pd\n",
    "import matplotlib.pyplot as plt\n",
    "%matplotlib inline\n",
    "\n",
    "import seaborn as sns"
   ]
  },
  {
   "cell_type": "code",
   "execution_count": 4,
   "metadata": {
    "collapsed": false
   },
   "outputs": [],
   "source": [
    "trainData = pd.read_csv('data/train.csv')\n",
    "testData = pd.read_csv('data/train.csv')\n",
    "\n",
    "all_data = pd.concat([trainData, testData])"
   ]
  },
  {
   "cell_type": "code",
   "execution_count": 7,
   "metadata": {
    "collapsed": false
   },
   "outputs": [
    {
     "data": {
      "text/plain": [
       "'2016-02-21 19:17:00'"
      ]
     },
     "execution_count": 7,
     "metadata": {},
     "output_type": "execute_result"
    }
   ],
   "source": [
    "all_data['DateTime'].max()"
   ]
  },
  {
   "cell_type": "code",
   "execution_count": 83,
   "metadata": {
    "collapsed": false
   },
   "outputs": [
    {
     "data": {
      "text/html": [
       "<div>\n",
       "<table border=\"1\" class=\"dataframe\">\n",
       "  <thead>\n",
       "    <tr style=\"text-align: right;\">\n",
       "      <th></th>\n",
       "      <th>AnimalID</th>\n",
       "      <th>Name</th>\n",
       "      <th>DateTime</th>\n",
       "      <th>OutcomeType</th>\n",
       "      <th>OutcomeSubtype</th>\n",
       "      <th>AnimalType</th>\n",
       "      <th>SexuponOutcome</th>\n",
       "      <th>AgeuponOutcome</th>\n",
       "      <th>Breed</th>\n",
       "      <th>Color</th>\n",
       "    </tr>\n",
       "  </thead>\n",
       "  <tbody>\n",
       "    <tr>\n",
       "      <th>0</th>\n",
       "      <td>A671945</td>\n",
       "      <td>Hambone</td>\n",
       "      <td>2014-02-12 18:22:00</td>\n",
       "      <td>Return_to_owner</td>\n",
       "      <td>NaN</td>\n",
       "      <td>Dog</td>\n",
       "      <td>Neutered Male</td>\n",
       "      <td>1 year</td>\n",
       "      <td>Shetland Sheepdog Mix</td>\n",
       "      <td>Brown/White</td>\n",
       "    </tr>\n",
       "    <tr>\n",
       "      <th>1</th>\n",
       "      <td>A656520</td>\n",
       "      <td>Emily</td>\n",
       "      <td>2013-10-13 12:44:00</td>\n",
       "      <td>Euthanasia</td>\n",
       "      <td>Suffering</td>\n",
       "      <td>Cat</td>\n",
       "      <td>Spayed Female</td>\n",
       "      <td>1 year</td>\n",
       "      <td>Domestic Shorthair Mix</td>\n",
       "      <td>Cream Tabby</td>\n",
       "    </tr>\n",
       "    <tr>\n",
       "      <th>2</th>\n",
       "      <td>A686464</td>\n",
       "      <td>Pearce</td>\n",
       "      <td>2015-01-31 12:28:00</td>\n",
       "      <td>Adoption</td>\n",
       "      <td>Foster</td>\n",
       "      <td>Dog</td>\n",
       "      <td>Neutered Male</td>\n",
       "      <td>2 years</td>\n",
       "      <td>Pit Bull Mix</td>\n",
       "      <td>Blue/White</td>\n",
       "    </tr>\n",
       "  </tbody>\n",
       "</table>\n",
       "</div>"
      ],
      "text/plain": [
       "  AnimalID     Name             DateTime      OutcomeType OutcomeSubtype  \\\n",
       "0  A671945  Hambone  2014-02-12 18:22:00  Return_to_owner            NaN   \n",
       "1  A656520    Emily  2013-10-13 12:44:00       Euthanasia      Suffering   \n",
       "2  A686464   Pearce  2015-01-31 12:28:00         Adoption         Foster   \n",
       "\n",
       "  AnimalType SexuponOutcome AgeuponOutcome                   Breed  \\\n",
       "0        Dog  Neutered Male         1 year   Shetland Sheepdog Mix   \n",
       "1        Cat  Spayed Female         1 year  Domestic Shorthair Mix   \n",
       "2        Dog  Neutered Male        2 years            Pit Bull Mix   \n",
       "\n",
       "         Color  \n",
       "0  Brown/White  \n",
       "1  Cream Tabby  \n",
       "2   Blue/White  "
      ]
     },
     "execution_count": 83,
     "metadata": {},
     "output_type": "execute_result"
    }
   ],
   "source": [
    "trainData.head(3)"
   ]
  },
  {
   "cell_type": "code",
   "execution_count": 84,
   "metadata": {
    "collapsed": false
   },
   "outputs": [],
   "source": [
    "#trainData.describe()"
   ]
  },
  {
   "cell_type": "code",
   "execution_count": 6,
   "metadata": {
    "collapsed": false
   },
   "outputs": [
    {
     "data": {
      "text/plain": [
       "Black/White                    2824\n",
       "Black                          2292\n",
       "Brown Tabby                    1635\n",
       "Brown Tabby/White               940\n",
       "White                           931\n",
       "Brown/White                     884\n",
       "Orange Tabby                    841\n",
       "Tan/White                       773\n",
       "Tricolor                        752\n",
       "Blue/White                      702\n",
       "Black/Tan                       672\n",
       "White/Black                     643\n",
       "Brown                           639\n",
       "Tan                             628\n",
       "White/Brown                     569\n",
       "Tortie                          530\n",
       "Calico                          517\n",
       "Orange Tabby/White              455\n",
       "Blue                            450\n",
       "Brown Brindle/White             450\n",
       "Black/Brown                     436\n",
       "Blue Tabby                      433\n",
       "White/Tan                       389\n",
       "Red                             337\n",
       "Torbie                          335\n",
       "Brown/Black                     333\n",
       "Red/White                       331\n",
       "Blue Tabby/White                241\n",
       "Brown Brindle                   232\n",
       "Chocolate/White                 224\n",
       "                               ... \n",
       "Brown Merle/Tan                   1\n",
       "Red/Silver                        1\n",
       "Brown/Silver                      1\n",
       "Gold/Tan                          1\n",
       "Brown Brindle/Brown Brindle       1\n",
       "Calico/Blue Cream                 1\n",
       "Tortie/Black Smoke                1\n",
       "Red Merle/Tan                     1\n",
       "Ruddy/Cream                       1\n",
       "Tricolor/Calico                   1\n",
       "Calico/Blue Tabby                 1\n",
       "Brown Tiger/White                 1\n",
       "Blue Smoke/Brown                  1\n",
       "Black Tabby/Orange                1\n",
       "White/Brown Tiger                 1\n",
       "Blue Cream/Buff                   1\n",
       "Lynx Point/Brown Tabby            1\n",
       "Brown/Brown Merle                 1\n",
       "Fawn/Brown                        1\n",
       "Chocolate/Cream                   1\n",
       "Red/Blue                          1\n",
       "Pink                              1\n",
       "Tortie Point/White                1\n",
       "Red Tick/Brown Merle              1\n",
       "Tan/Tricolor                      1\n",
       "Brown/Blue Smoke                  1\n",
       "Brown Brindle/Blue Cream          1\n",
       "Black Brindle/Black               1\n",
       "Gray/Red                          1\n",
       "Torbie/Calico                     1\n",
       "Name: Color, dtype: int64"
      ]
     },
     "execution_count": 6,
     "metadata": {},
     "output_type": "execute_result"
    }
   ],
   "source": [
    "trainData['Color'].value_counts()"
   ]
  },
  {
   "cell_type": "code",
   "execution_count": 11,
   "metadata": {
    "collapsed": false
   },
   "outputs": [
    {
     "data": {
      "text/plain": [
       "(26729, 10)"
      ]
     },
     "execution_count": 11,
     "metadata": {},
     "output_type": "execute_result"
    }
   ],
   "source": [
    "trainData.shape"
   ]
  },
  {
   "cell_type": "markdown",
   "metadata": {},
   "source": [
    "#### Missing values"
   ]
  },
  {
   "cell_type": "code",
   "execution_count": 8,
   "metadata": {
    "collapsed": false
   },
   "outputs": [
    {
     "name": "stdout",
     "output_type": "stream",
     "text": [
      "AnimalID              0\n",
      "Name               7691\n",
      "DateTime              0\n",
      "OutcomeType           0\n",
      "OutcomeSubtype    13612\n",
      "AnimalType            0\n",
      "SexuponOutcome        1\n",
      "AgeuponOutcome       18\n",
      "Breed                 0\n",
      "Color                 0\n",
      "dtype: int64\n"
     ]
    }
   ],
   "source": [
    "print(trainData.apply(lambda x: sum(x.isnull().values), axis = 0))"
   ]
  },
  {
   "cell_type": "markdown",
   "metadata": {},
   "source": [
    "## Univariate Analysis"
   ]
  },
  {
   "cell_type": "markdown",
   "metadata": {},
   "source": [
    "#### AnimalID\n",
    "\n",
    "- discard"
   ]
  },
  {
   "cell_type": "markdown",
   "metadata": {},
   "source": [
    "#### Name\n",
    "\n",
    "- create new feature (has_name)"
   ]
  },
  {
   "cell_type": "code",
   "execution_count": 40,
   "metadata": {
    "collapsed": false
   },
   "outputs": [],
   "source": [
    "nameVar = trainData['Name']"
   ]
  },
  {
   "cell_type": "code",
   "execution_count": 77,
   "metadata": {
    "collapsed": false
   },
   "outputs": [
    {
     "name": "stdout",
     "output_type": "stream",
     "text": [
      "count     19038\n",
      "unique     6374\n",
      "top         Max\n",
      "freq        136\n",
      "Name: Name, dtype: object\n",
      "Missing:  28.7739907965%\n"
     ]
    }
   ],
   "source": [
    "print(nameVar.describe())\n",
    "print('Missing: ', str(nameVar.isnull().sum()/nameVar.shape[0] * 100) + '%')"
   ]
  },
  {
   "cell_type": "code",
   "execution_count": 78,
   "metadata": {
    "collapsed": false
   },
   "outputs": [
    {
     "data": {
      "text/plain": [
       "Max         136\n",
       "Bella       135\n",
       "Charlie     107\n",
       "Daisy       106\n",
       "Lucy         94\n",
       "Buddy        87\n",
       "Princess     86\n",
       "Rocky        85\n",
       "Luna         68\n",
       "Jack         66\n",
       "Name: Name, dtype: int64"
      ]
     },
     "execution_count": 78,
     "metadata": {},
     "output_type": "execute_result"
    }
   ],
   "source": [
    "nameVar.value_counts()[:10]"
   ]
  },
  {
   "cell_type": "code",
   "execution_count": 8,
   "metadata": {
    "collapsed": false
   },
   "outputs": [
    {
     "data": {
      "text/plain": [
       "0    19038\n",
       "1     7691\n",
       "Name: has_name, dtype: int64"
      ]
     },
     "execution_count": 8,
     "metadata": {},
     "output_type": "execute_result"
    }
   ],
   "source": [
    "trainData[\"has_name\"]=trainData['Name'].apply(lambda e : 1 if pd.isnull(e) else 0 )\n",
    "trainData[\"has_name\"].value_counts()"
   ]
  },
  {
   "cell_type": "markdown",
   "metadata": {},
   "source": [
    "#### DateTime\n",
    "\n",
    "- transform datetime to days\n",
    "- normalize between 0 and 1"
   ]
  },
  {
   "cell_type": "code",
   "execution_count": 23,
   "metadata": {
    "collapsed": true
   },
   "outputs": [],
   "source": [
    "dateTimeVar = trainData['DateTime']"
   ]
  },
  {
   "cell_type": "code",
   "execution_count": 38,
   "metadata": {
    "collapsed": false
   },
   "outputs": [
    {
     "name": "stdout",
     "output_type": "stream",
     "text": [
      "count                   26729\n",
      "unique                  22918\n",
      "top       2015-08-11 00:00:00\n",
      "freq                       19\n",
      "Name: DateTime, dtype: object\n",
      "0\n"
     ]
    }
   ],
   "source": [
    "print(dateTimeVar.describe())\n",
    "print('Missing: ', str(dateTimeVar.isnull().sum()/dateTimeVar.shape[0] * 100) + '%')"
   ]
  },
  {
   "cell_type": "code",
   "execution_count": 43,
   "metadata": {
    "collapsed": false
   },
   "outputs": [
    {
     "name": "stdout",
     "output_type": "stream",
     "text": [
      "MIN: 2013-10-01 09:31:00\n",
      "MAX: 2016-02-21 19:17:00\n"
     ]
    }
   ],
   "source": [
    "print('MIN:', dateTimeVar.min())\n",
    "print('MAX:', dateTimeVar.max())"
   ]
  },
  {
   "cell_type": "code",
   "execution_count": 12,
   "metadata": {
    "collapsed": true
   },
   "outputs": [],
   "source": [
    "def agetodays(x):\n",
    "        try:\n",
    "            y = x.split()\n",
    "        except:\n",
    "            return None \n",
    "        if 'year' in y[1]:\n",
    "            return float(y[0]) * 365\n",
    "        elif 'month' in y[1]:\n",
    "            return float(y[0]) * (365/12)\n",
    "        elif 'week' in y[1]:\n",
    "            return float(y[0]) * 7\n",
    "        elif 'day' in y[1]:\n",
    "            return float(y[0])"
   ]
  },
  {
   "cell_type": "code",
   "execution_count": 19,
   "metadata": {
    "collapsed": false
   },
   "outputs": [],
   "source": [
    "trainData['AgeInDays'] = trainData['AgeuponOutcome'].map(agetodays)\n",
    "trainData.loc[(trainData['AgeInDays'].isnull()),'AgeInDays'] = trainData['AgeInDays'].median()\n",
    "#print(trainData['AgeInDays'])"
   ]
  },
  {
   "cell_type": "code",
   "execution_count": 24,
   "metadata": {
    "collapsed": false
   },
   "outputs": [
    {
     "name": "stderr",
     "output_type": "stream",
     "text": [
      "/home/ruimendes/conda/envs/Kaggle-Shelter/lib/python3.5/site-packages/sklearn/preprocessing/data.py:324: DeprecationWarning: Passing 1d arrays as data is deprecated in 0.17 and will raise ValueError in 0.19. Reshape your data either using X.reshape(-1, 1) if your data has a single feature or X.reshape(1, -1) if it contains a single sample.\n",
      "  warnings.warn(DEPRECATION_MSG_1D, DeprecationWarning)\n",
      "/home/ruimendes/conda/envs/Kaggle-Shelter/lib/python3.5/site-packages/sklearn/preprocessing/data.py:359: DeprecationWarning: Passing 1d arrays as data is deprecated in 0.17 and will raise ValueError in 0.19. Reshape your data either using X.reshape(-1, 1) if your data has a single feature or X.reshape(1, -1) if it contains a single sample.\n",
      "  warnings.warn(DEPRECATION_MSG_1D, DeprecationWarning)\n"
     ]
    }
   ],
   "source": [
    "from sklearn import preprocessing\n",
    "min_max_scaler = preprocessing.MinMaxScaler()\n",
    "x_scaled = min_max_scaler.fit_transform(trainData['AgeInDays'])\n",
    "df_normalized = pd.DataFrame(x_scaled)\n",
    "trainData['AgeInDays'] = df_normalized.values\n",
    "#trainData['AgeInDays']"
   ]
  },
  {
   "cell_type": "markdown",
   "metadata": {},
   "source": [
    "#### OutcomeType"
   ]
  },
  {
   "cell_type": "code",
   "execution_count": 24,
   "metadata": {
    "collapsed": true
   },
   "outputs": [],
   "source": [
    "outcomeTypeVar = trainData['OutcomeType']"
   ]
  },
  {
   "cell_type": "code",
   "execution_count": 44,
   "metadata": {
    "collapsed": false
   },
   "outputs": [
    {
     "name": "stdout",
     "output_type": "stream",
     "text": [
      "count        26729\n",
      "unique           5\n",
      "top       Adoption\n",
      "freq         10769\n",
      "Name: OutcomeType, dtype: object\n",
      "0\n"
     ]
    }
   ],
   "source": [
    "print(outcomeTypeVar.describe())\n",
    "print('Missing: ', str(outcomeTypeVar.isnull().sum()/outcomeTypeVar.shape[0] * 100) + '%')"
   ]
  },
  {
   "cell_type": "code",
   "execution_count": 103,
   "metadata": {
    "collapsed": false
   },
   "outputs": [
    {
     "data": {
      "text/plain": [
       "<matplotlib.axes._subplots.AxesSubplot at 0x7f476ac17208>"
      ]
     },
     "execution_count": 103,
     "metadata": {},
     "output_type": "execute_result"
    },
    {
     "data": {
      "image/png": "[encoded data removed]",
      "text/plain": [
       "<matplotlib.figure.Figure at 0x7f476ac23c50>"
      ]
     },
     "metadata": {},
     "output_type": "display_data"
    }
   ],
   "source": [
    "sns.countplot(x=\"OutcomeType\",data=trainData)"
   ]
  },
  {
   "cell_type": "markdown",
   "metadata": {},
   "source": [
    "#### OutcomeSubtype"
   ]
  },
  {
   "cell_type": "code",
   "execution_count": 25,
   "metadata": {
    "collapsed": true
   },
   "outputs": [],
   "source": [
    "outcomeSubtypeVar = trainData['OutcomeSubtype']"
   ]
  },
  {
   "cell_type": "code",
   "execution_count": 57,
   "metadata": {
    "collapsed": false
   },
   "outputs": [
    {
     "name": "stdout",
     "output_type": "stream",
     "text": [
      "count       13117\n",
      "unique         16\n",
      "top       Partner\n",
      "freq         7816\n",
      "Name: OutcomeSubtype, dtype: object\n",
      "Missing:  50.9259605672%\n"
     ]
    }
   ],
   "source": [
    "print(outcomeSubtypeVar.describe())\n",
    "print('Missing: ', str(outcomeSubtypeVar.isnull().sum()/outcomeSubtypeVar.shape[0] * 100) + '%')"
   ]
  },
  {
   "cell_type": "code",
   "execution_count": 59,
   "metadata": {
    "collapsed": false
   },
   "outputs": [
    {
     "data": {
      "text/plain": [
       "<matplotlib.axes._subplots.AxesSubplot at 0x7f477a463358>"
      ]
     },
     "execution_count": 59,
     "metadata": {},
     "output_type": "execute_result"
    },
    {
     "data": {
      "image/png": "[encoded data removed]",
      "text/plain": [
       "<matplotlib.figure.Figure at 0x7f477aa00a20>"
      ]
     },
     "metadata": {},
     "output_type": "display_data"
    }
   ],
   "source": [
    "outcomeSubtypeVar.value_counts().plot(kind='bar')"
   ]
  },
  {
   "cell_type": "markdown",
   "metadata": {},
   "source": [
    "#### AnimalType"
   ]
  },
  {
   "cell_type": "code",
   "execution_count": 26,
   "metadata": {
    "collapsed": true
   },
   "outputs": [],
   "source": [
    "animalTypeVar = trainData['AnimalType']"
   ]
  },
  {
   "cell_type": "code",
   "execution_count": 60,
   "metadata": {
    "collapsed": false
   },
   "outputs": [
    {
     "name": "stdout",
     "output_type": "stream",
     "text": [
      "count     26729\n",
      "unique        2\n",
      "top         Dog\n",
      "freq      15595\n",
      "Name: AnimalType, dtype: object\n",
      "Missing:  0.0%\n"
     ]
    }
   ],
   "source": [
    "print(animalTypeVar.describe())\n",
    "print('Missing: ', str(animalTypeVar.isnull().sum()/animalTypeVar.shape[0] * 100) + '%')"
   ]
  },
  {
   "cell_type": "code",
   "execution_count": 61,
   "metadata": {
    "collapsed": false
   },
   "outputs": [
    {
     "data": {
      "text/plain": [
       "<matplotlib.axes._subplots.AxesSubplot at 0x7f4779ee79e8>"
      ]
     },
     "execution_count": 61,
     "metadata": {},
     "output_type": "execute_result"
    },
    {
     "data": {
      "image/png": "[encoded data removed]",
      "text/plain": [
       "<matplotlib.figure.Figure at 0x7f477a0c0a20>"
      ]
     },
     "metadata": {},
     "output_type": "display_data"
    }
   ],
   "source": [
    "animalTypeVar.value_counts().plot(kind='bar')"
   ]
  },
  {
   "cell_type": "markdown",
   "metadata": {},
   "source": [
    "#### SexuponOutcome\n",
    "\n",
    "- fill nulls with the mode\n",
    "- new feature: is_spayed_or_neutered"
   ]
  },
  {
   "cell_type": "code",
   "execution_count": 27,
   "metadata": {
    "collapsed": true
   },
   "outputs": [],
   "source": [
    "sexuponOutcomeVar = trainData['SexuponOutcome']"
   ]
  },
  {
   "cell_type": "code",
   "execution_count": 62,
   "metadata": {
    "collapsed": false
   },
   "outputs": [
    {
     "name": "stdout",
     "output_type": "stream",
     "text": [
      "count             26728\n",
      "unique                5\n",
      "top       Neutered Male\n",
      "freq               9779\n",
      "Name: SexuponOutcome, dtype: object\n",
      "Missing:  0.00374125481687%\n"
     ]
    }
   ],
   "source": [
    "print(sexuponOutcomeVar.describe())\n",
    "print('Missing: ', str(sexuponOutcomeVar.isnull().sum()/sexuponOutcomeVar.shape[0] * 100) + '%')"
   ]
  },
  {
   "cell_type": "code",
   "execution_count": 82,
   "metadata": {
    "collapsed": false
   },
   "outputs": [
    {
     "name": "stdout",
     "output_type": "stream",
     "text": [
      "Neutered Male    9779\n",
      "Spayed Female    8820\n",
      "Intact Male      3525\n",
      "Intact Female    3511\n",
      "Unknown          1093\n",
      "Name: SexuponOutcome, dtype: int64\n"
     ]
    },
    {
     "data": {
      "text/plain": [
       "<matplotlib.axes._subplots.AxesSubplot at 0x7f476ae1fc18>"
      ]
     },
     "execution_count": 82,
     "metadata": {},
     "output_type": "execute_result"
    },
    {
     "data": {
      "image/png": "[encoded data removed]",
      "text/plain": [
       "<matplotlib.figure.Figure at 0x7f476afd20f0>"
      ]
     },
     "metadata": {},
     "output_type": "display_data"
    }
   ],
   "source": [
    "print(sexuponOutcomeVar.value_counts())\n",
    "sexuponOutcomeVar.value_counts().plot(kind='bar')"
   ]
  },
  {
   "cell_type": "code",
   "execution_count": null,
   "metadata": {
    "collapsed": true
   },
   "outputs": [],
   "source": []
  },
  {
   "cell_type": "code",
   "execution_count": 42,
   "metadata": {
    "collapsed": false
   },
   "outputs": [
    {
     "data": {
      "text/plain": [
       "0        Neutered Male\n",
       "1        Spayed Female\n",
       "2        Neutered Male\n",
       "3          Intact Male\n",
       "4        Neutered Male\n",
       "5        Intact Female\n",
       "6          Intact Male\n",
       "7              Unknown\n",
       "8        Spayed Female\n",
       "9        Spayed Female\n",
       "10             Unknown\n",
       "11       Spayed Female\n",
       "12       Neutered Male\n",
       "13       Neutered Male\n",
       "14       Neutered Male\n",
       "15       Neutered Male\n",
       "16         Intact Male\n",
       "17       Intact Female\n",
       "18       Intact Female\n",
       "19       Neutered Male\n",
       "20         Intact Male\n",
       "21       Spayed Female\n",
       "22       Spayed Female\n",
       "23       Neutered Male\n",
       "24       Neutered Male\n",
       "25       Intact Female\n",
       "26       Spayed Female\n",
       "27       Spayed Female\n",
       "28       Spayed Female\n",
       "29       Neutered Male\n",
       "             ...      \n",
       "26699    Neutered Male\n",
       "26700      Intact Male\n",
       "26701    Intact Female\n",
       "26702    Spayed Female\n",
       "26703    Neutered Male\n",
       "26704    Intact Female\n",
       "26705    Intact Female\n",
       "26706    Spayed Female\n",
       "26707          Unknown\n",
       "26708    Neutered Male\n",
       "26709    Spayed Female\n",
       "26710    Intact Female\n",
       "26711    Intact Female\n",
       "26712    Neutered Male\n",
       "26713    Intact Female\n",
       "26714    Spayed Female\n",
       "26715    Spayed Female\n",
       "26716    Neutered Male\n",
       "26717    Spayed Female\n",
       "26718    Neutered Male\n",
       "26719          Unknown\n",
       "26720    Spayed Female\n",
       "26721    Spayed Female\n",
       "26722      Intact Male\n",
       "26723    Neutered Male\n",
       "26724      Intact Male\n",
       "26725    Spayed Female\n",
       "26726    Neutered Male\n",
       "26727      Intact Male\n",
       "26728      Intact Male\n",
       "Name: SexuponOutcome, dtype: object"
      ]
     },
     "execution_count": 42,
     "metadata": {},
     "output_type": "execute_result"
    }
   ],
   "source": [
    "trainData.loc[(trainData['SexuponOutcome'].isnull()),'SexuponOutcome'] = trainData['SexuponOutcome'].mode()\n",
    "trainData['SexuponOutcome']"
   ]
  },
  {
   "cell_type": "markdown",
   "metadata": {},
   "source": [
    "#### AgeuponOutcome\n",
    "\n",
    "- transform to days\n",
    "- fill nulls (median)\n",
    "- normalize between 0 and 1"
   ]
  },
  {
   "cell_type": "code",
   "execution_count": 28,
   "metadata": {
    "collapsed": true
   },
   "outputs": [],
   "source": [
    "ageuponOutcomeVar = trainData['AgeuponOutcome']"
   ]
  },
  {
   "cell_type": "code",
   "execution_count": 65,
   "metadata": {
    "collapsed": false
   },
   "outputs": [
    {
     "name": "stdout",
     "output_type": "stream",
     "text": [
      "count      26711\n",
      "unique        44\n",
      "top       1 year\n",
      "freq        3969\n",
      "Name: AgeuponOutcome, dtype: object\n",
      "Missing:  0.0673425867036%\n"
     ]
    }
   ],
   "source": [
    "print(ageuponOutcomeVar.describe())\n",
    "print('Missing: ', str(ageuponOutcomeVar.isnull().sum()/ageuponOutcomeVar.shape[0] * 100) + '%')"
   ]
  },
  {
   "cell_type": "code",
   "execution_count": 79,
   "metadata": {
    "collapsed": false
   },
   "outputs": [
    {
     "data": {
      "text/plain": [
       "<matplotlib.axes._subplots.AxesSubplot at 0x7f47700649e8>"
      ]
     },
     "execution_count": 79,
     "metadata": {},
     "output_type": "execute_result"
    },
    {
     "data": {
      "image/png": "[encoded data removed]",
      "text/plain": [
       "<matplotlib.figure.Figure at 0x7f477004e7f0>"
      ]
     },
     "metadata": {},
     "output_type": "display_data"
    }
   ],
   "source": [
    "ageuponOutcomeVar.value_counts().plot(kind='bar', figsize=(15,5))"
   ]
  },
  {
   "cell_type": "markdown",
   "metadata": {},
   "source": [
    "#### Breed\n",
    "\n",
    "- extract new features: \n",
    "  * hair (short, medium, long)\n",
    "  * is_mix \n",
    "      - (data[\"is_mix\"]=data['Breed'].apply(lambda e : '1' if \"Mix\" in e else '0' ))\n",
    "      - data.loc[data.Breed.str.contains(\"Mix\"),\"mix\"]=1\n",
    "      - data.loc[~data.Breed.str.contains(\"Mix\"),\"mix\"]=0"
   ]
  },
  {
   "cell_type": "code",
   "execution_count": 29,
   "metadata": {
    "collapsed": true
   },
   "outputs": [],
   "source": [
    "breedVar = trainData['Breed']"
   ]
  },
  {
   "cell_type": "code",
   "execution_count": 67,
   "metadata": {
    "collapsed": false
   },
   "outputs": [
    {
     "name": "stdout",
     "output_type": "stream",
     "text": [
      "count                      26729\n",
      "unique                      1380\n",
      "top       Domestic Shorthair Mix\n",
      "freq                        8810\n",
      "Name: Breed, dtype: object\n",
      "Missing:  0.0%\n"
     ]
    }
   ],
   "source": [
    "print(breedVar.describe())\n",
    "print('Missing: ', str(breedVar.isnull().sum()/breedVar.shape[0] * 100) + '%')"
   ]
  },
  {
   "cell_type": "code",
   "execution_count": 75,
   "metadata": {
    "collapsed": false
   },
   "outputs": [
    {
     "data": {
      "text/plain": [
       "<matplotlib.axes._subplots.AxesSubplot at 0x7f4770aeab00>"
      ]
     },
     "execution_count": 75,
     "metadata": {},
     "output_type": "execute_result"
    },
    {
     "data": {
      "image/png": "[encoded data removed]",
      "text/plain": [
       "<matplotlib.figure.Figure at 0x7f4770b39ac8>"
      ]
     },
     "metadata": {},
     "output_type": "display_data"
    }
   ],
   "source": [
    "breedVar.value_counts()[0:20].plot(kind='bar', figsize=(15,3))"
   ]
  },
  {
   "cell_type": "markdown",
   "metadata": {},
   "source": [
    "#### Color\n",
    "\n",
    "- split colors and transform in columns (binarize for each color)"
   ]
  },
  {
   "cell_type": "code",
   "execution_count": 30,
   "metadata": {
    "collapsed": true
   },
   "outputs": [],
   "source": [
    "colorVar = trainData['Color']"
   ]
  },
  {
   "cell_type": "code",
   "execution_count": 80,
   "metadata": {
    "collapsed": false
   },
   "outputs": [
    {
     "name": "stdout",
     "output_type": "stream",
     "text": [
      "count           26729\n",
      "unique            366\n",
      "top       Black/White\n",
      "freq             2824\n",
      "Name: Color, dtype: object\n",
      "Missing:  0.0%\n"
     ]
    }
   ],
   "source": [
    "print(colorVar.describe())\n",
    "print('Missing: ', str(colorVar.isnull().sum()/colorVar.shape[0] * 100) + '%')"
   ]
  },
  {
   "cell_type": "code",
   "execution_count": 81,
   "metadata": {
    "collapsed": false
   },
   "outputs": [
    {
     "data": {
      "text/plain": [
       "<matplotlib.axes._subplots.AxesSubplot at 0x7f476aeb5828>"
      ]
     },
     "execution_count": 81,
     "metadata": {},
     "output_type": "execute_result"
    },
    {
     "data": {
      "image/png": "[encoded data removed]",
      "text/plain": [
       "<matplotlib.figure.Figure at 0x7f476afb50f0>"
      ]
     },
     "metadata": {},
     "output_type": "display_data"
    }
   ],
   "source": [
    "colorVar.value_counts()[0:20].plot(kind='bar', figsize=(15,3))"
   ]
  },
  {
   "cell_type": "code",
   "execution_count": null,
   "metadata": {
    "collapsed": true
   },
   "outputs": [],
   "source": [
    "trainData['Color'].apply(lambda e : "
   ]
  },
  {
   "cell_type": "code",
   "execution_count": 40,
   "metadata": {
    "collapsed": false
   },
   "outputs": [
    {
     "data": {
      "text/html": [
       "<div>\n",
       "<table border=\"1\" class=\"dataframe\">\n",
       "  <thead>\n",
       "    <tr style=\"text-align: right;\">\n",
       "      <th></th>\n",
       "      <th>has_multiple_colors</th>\n",
       "      <th>Color</th>\n",
       "    </tr>\n",
       "  </thead>\n",
       "  <tbody>\n",
       "    <tr>\n",
       "      <th>0</th>\n",
       "      <td>1</td>\n",
       "      <td>Brown/White</td>\n",
       "    </tr>\n",
       "    <tr>\n",
       "      <th>1</th>\n",
       "      <td>0</td>\n",
       "      <td>Cream Tabby</td>\n",
       "    </tr>\n",
       "    <tr>\n",
       "      <th>2</th>\n",
       "      <td>1</td>\n",
       "      <td>Blue/White</td>\n",
       "    </tr>\n",
       "    <tr>\n",
       "      <th>3</th>\n",
       "      <td>0</td>\n",
       "      <td>Blue Cream</td>\n",
       "    </tr>\n",
       "    <tr>\n",
       "      <th>4</th>\n",
       "      <td>0</td>\n",
       "      <td>Tan</td>\n",
       "    </tr>\n",
       "    <tr>\n",
       "      <th>5</th>\n",
       "      <td>1</td>\n",
       "      <td>Black/Tan</td>\n",
       "    </tr>\n",
       "    <tr>\n",
       "      <th>6</th>\n",
       "      <td>0</td>\n",
       "      <td>Blue Tabby</td>\n",
       "    </tr>\n",
       "    <tr>\n",
       "      <th>7</th>\n",
       "      <td>0</td>\n",
       "      <td>Brown Tabby</td>\n",
       "    </tr>\n",
       "    <tr>\n",
       "      <th>8</th>\n",
       "      <td>1</td>\n",
       "      <td>Red/White</td>\n",
       "    </tr>\n",
       "    <tr>\n",
       "      <th>9</th>\n",
       "      <td>0</td>\n",
       "      <td>White</td>\n",
       "    </tr>\n",
       "    <tr>\n",
       "      <th>10</th>\n",
       "      <td>0</td>\n",
       "      <td>Black</td>\n",
       "    </tr>\n",
       "    <tr>\n",
       "      <th>11</th>\n",
       "      <td>0</td>\n",
       "      <td>Silver</td>\n",
       "    </tr>\n",
       "    <tr>\n",
       "      <th>12</th>\n",
       "      <td>0</td>\n",
       "      <td>Brown</td>\n",
       "    </tr>\n",
       "    <tr>\n",
       "      <th>13</th>\n",
       "      <td>1</td>\n",
       "      <td>Black/Red</td>\n",
       "    </tr>\n",
       "    <tr>\n",
       "      <th>14</th>\n",
       "      <td>1</td>\n",
       "      <td>White/Cream</td>\n",
       "    </tr>\n",
       "    <tr>\n",
       "      <th>15</th>\n",
       "      <td>1</td>\n",
       "      <td>Orange Tabby/White</td>\n",
       "    </tr>\n",
       "    <tr>\n",
       "      <th>16</th>\n",
       "      <td>0</td>\n",
       "      <td>Brown Tabby</td>\n",
       "    </tr>\n",
       "    <tr>\n",
       "      <th>17</th>\n",
       "      <td>1</td>\n",
       "      <td>Brown/White</td>\n",
       "    </tr>\n",
       "    <tr>\n",
       "      <th>18</th>\n",
       "      <td>0</td>\n",
       "      <td>White</td>\n",
       "    </tr>\n",
       "    <tr>\n",
       "      <th>19</th>\n",
       "      <td>0</td>\n",
       "      <td>Black</td>\n",
       "    </tr>\n",
       "    <tr>\n",
       "      <th>20</th>\n",
       "      <td>1</td>\n",
       "      <td>Black/White</td>\n",
       "    </tr>\n",
       "    <tr>\n",
       "      <th>21</th>\n",
       "      <td>0</td>\n",
       "      <td>White</td>\n",
       "    </tr>\n",
       "    <tr>\n",
       "      <th>22</th>\n",
       "      <td>1</td>\n",
       "      <td>Brown Brindle/White</td>\n",
       "    </tr>\n",
       "    <tr>\n",
       "      <th>23</th>\n",
       "      <td>1</td>\n",
       "      <td>Brown/White</td>\n",
       "    </tr>\n",
       "    <tr>\n",
       "      <th>24</th>\n",
       "      <td>1</td>\n",
       "      <td>Black/Brown</td>\n",
       "    </tr>\n",
       "    <tr>\n",
       "      <th>25</th>\n",
       "      <td>0</td>\n",
       "      <td>Orange Tabby</td>\n",
       "    </tr>\n",
       "    <tr>\n",
       "      <th>26</th>\n",
       "      <td>1</td>\n",
       "      <td>Chocolate/White</td>\n",
       "    </tr>\n",
       "    <tr>\n",
       "      <th>27</th>\n",
       "      <td>1</td>\n",
       "      <td>White/Tan</td>\n",
       "    </tr>\n",
       "    <tr>\n",
       "      <th>28</th>\n",
       "      <td>1</td>\n",
       "      <td>Cream Tabby/White</td>\n",
       "    </tr>\n",
       "    <tr>\n",
       "      <th>29</th>\n",
       "      <td>0</td>\n",
       "      <td>Blue</td>\n",
       "    </tr>\n",
       "    <tr>\n",
       "      <th>...</th>\n",
       "      <td>...</td>\n",
       "      <td>...</td>\n",
       "    </tr>\n",
       "    <tr>\n",
       "      <th>26699</th>\n",
       "      <td>1</td>\n",
       "      <td>White/Black</td>\n",
       "    </tr>\n",
       "    <tr>\n",
       "      <th>26700</th>\n",
       "      <td>1</td>\n",
       "      <td>Tan/Cream</td>\n",
       "    </tr>\n",
       "    <tr>\n",
       "      <th>26701</th>\n",
       "      <td>1</td>\n",
       "      <td>White/Black</td>\n",
       "    </tr>\n",
       "    <tr>\n",
       "      <th>26702</th>\n",
       "      <td>0</td>\n",
       "      <td>Lynx Point</td>\n",
       "    </tr>\n",
       "    <tr>\n",
       "      <th>26703</th>\n",
       "      <td>0</td>\n",
       "      <td>Seal Point</td>\n",
       "    </tr>\n",
       "    <tr>\n",
       "      <th>26704</th>\n",
       "      <td>1</td>\n",
       "      <td>White/Black</td>\n",
       "    </tr>\n",
       "    <tr>\n",
       "      <th>26705</th>\n",
       "      <td>0</td>\n",
       "      <td>Tortie</td>\n",
       "    </tr>\n",
       "    <tr>\n",
       "      <th>26706</th>\n",
       "      <td>0</td>\n",
       "      <td>Black</td>\n",
       "    </tr>\n",
       "    <tr>\n",
       "      <th>26707</th>\n",
       "      <td>0</td>\n",
       "      <td>Brown Tabby</td>\n",
       "    </tr>\n",
       "    <tr>\n",
       "      <th>26708</th>\n",
       "      <td>1</td>\n",
       "      <td>White/Brown</td>\n",
       "    </tr>\n",
       "    <tr>\n",
       "      <th>26709</th>\n",
       "      <td>1</td>\n",
       "      <td>Sable/Buff</td>\n",
       "    </tr>\n",
       "    <tr>\n",
       "      <th>26710</th>\n",
       "      <td>1</td>\n",
       "      <td>Brown/Black</td>\n",
       "    </tr>\n",
       "    <tr>\n",
       "      <th>26711</th>\n",
       "      <td>0</td>\n",
       "      <td>Buff</td>\n",
       "    </tr>\n",
       "    <tr>\n",
       "      <th>26712</th>\n",
       "      <td>1</td>\n",
       "      <td>Chocolate/Tan</td>\n",
       "    </tr>\n",
       "    <tr>\n",
       "      <th>26713</th>\n",
       "      <td>0</td>\n",
       "      <td>Tortie</td>\n",
       "    </tr>\n",
       "    <tr>\n",
       "      <th>26714</th>\n",
       "      <td>0</td>\n",
       "      <td>Orange Tabby</td>\n",
       "    </tr>\n",
       "    <tr>\n",
       "      <th>26715</th>\n",
       "      <td>1</td>\n",
       "      <td>Black/White</td>\n",
       "    </tr>\n",
       "    <tr>\n",
       "      <th>26716</th>\n",
       "      <td>1</td>\n",
       "      <td>White/Black</td>\n",
       "    </tr>\n",
       "    <tr>\n",
       "      <th>26717</th>\n",
       "      <td>0</td>\n",
       "      <td>Black</td>\n",
       "    </tr>\n",
       "    <tr>\n",
       "      <th>26718</th>\n",
       "      <td>1</td>\n",
       "      <td>Black/Tricolor</td>\n",
       "    </tr>\n",
       "    <tr>\n",
       "      <th>26719</th>\n",
       "      <td>1</td>\n",
       "      <td>Brown Tabby/White</td>\n",
       "    </tr>\n",
       "    <tr>\n",
       "      <th>26720</th>\n",
       "      <td>0</td>\n",
       "      <td>Brown Tabby</td>\n",
       "    </tr>\n",
       "    <tr>\n",
       "      <th>26721</th>\n",
       "      <td>0</td>\n",
       "      <td>Black</td>\n",
       "    </tr>\n",
       "    <tr>\n",
       "      <th>26722</th>\n",
       "      <td>0</td>\n",
       "      <td>Orange Tabby</td>\n",
       "    </tr>\n",
       "    <tr>\n",
       "      <th>26723</th>\n",
       "      <td>1</td>\n",
       "      <td>Blue/White</td>\n",
       "    </tr>\n",
       "    <tr>\n",
       "      <th>26724</th>\n",
       "      <td>1</td>\n",
       "      <td>Brown Tabby/White</td>\n",
       "    </tr>\n",
       "    <tr>\n",
       "      <th>26725</th>\n",
       "      <td>0</td>\n",
       "      <td>Brown Tabby</td>\n",
       "    </tr>\n",
       "    <tr>\n",
       "      <th>26726</th>\n",
       "      <td>1</td>\n",
       "      <td>White/Tan</td>\n",
       "    </tr>\n",
       "    <tr>\n",
       "      <th>26727</th>\n",
       "      <td>0</td>\n",
       "      <td>Black</td>\n",
       "    </tr>\n",
       "    <tr>\n",
       "      <th>26728</th>\n",
       "      <td>1</td>\n",
       "      <td>Brown Tabby/White</td>\n",
       "    </tr>\n",
       "  </tbody>\n",
       "</table>\n",
       "<p>26729 rows × 2 columns</p>\n",
       "</div>"
      ],
      "text/plain": [
       "      has_multiple_colors                Color\n",
       "0                       1          Brown/White\n",
       "1                       0          Cream Tabby\n",
       "2                       1           Blue/White\n",
       "3                       0           Blue Cream\n",
       "4                       0                  Tan\n",
       "5                       1            Black/Tan\n",
       "6                       0           Blue Tabby\n",
       "7                       0          Brown Tabby\n",
       "8                       1            Red/White\n",
       "9                       0                White\n",
       "10                      0                Black\n",
       "11                      0               Silver\n",
       "12                      0                Brown\n",
       "13                      1            Black/Red\n",
       "14                      1          White/Cream\n",
       "15                      1   Orange Tabby/White\n",
       "16                      0          Brown Tabby\n",
       "17                      1          Brown/White\n",
       "18                      0                White\n",
       "19                      0                Black\n",
       "20                      1          Black/White\n",
       "21                      0                White\n",
       "22                      1  Brown Brindle/White\n",
       "23                      1          Brown/White\n",
       "24                      1          Black/Brown\n",
       "25                      0         Orange Tabby\n",
       "26                      1      Chocolate/White\n",
       "27                      1            White/Tan\n",
       "28                      1    Cream Tabby/White\n",
       "29                      0                 Blue\n",
       "...                   ...                  ...\n",
       "26699                   1          White/Black\n",
       "26700                   1            Tan/Cream\n",
       "26701                   1          White/Black\n",
       "26702                   0           Lynx Point\n",
       "26703                   0           Seal Point\n",
       "26704                   1          White/Black\n",
       "26705                   0               Tortie\n",
       "26706                   0                Black\n",
       "26707                   0          Brown Tabby\n",
       "26708                   1          White/Brown\n",
       "26709                   1           Sable/Buff\n",
       "26710                   1          Brown/Black\n",
       "26711                   0                 Buff\n",
       "26712                   1        Chocolate/Tan\n",
       "26713                   0               Tortie\n",
       "26714                   0         Orange Tabby\n",
       "26715                   1          Black/White\n",
       "26716                   1          White/Black\n",
       "26717                   0                Black\n",
       "26718                   1       Black/Tricolor\n",
       "26719                   1    Brown Tabby/White\n",
       "26720                   0          Brown Tabby\n",
       "26721                   0                Black\n",
       "26722                   0         Orange Tabby\n",
       "26723                   1           Blue/White\n",
       "26724                   1    Brown Tabby/White\n",
       "26725                   0          Brown Tabby\n",
       "26726                   1            White/Tan\n",
       "26727                   0                Black\n",
       "26728                   1    Brown Tabby/White\n",
       "\n",
       "[26729 rows x 2 columns]"
      ]
     },
     "execution_count": 40,
     "metadata": {},
     "output_type": "execute_result"
    }
   ],
   "source": [
    "trainData['has_multiple_colors'] = trainData['Color'].apply(lambda e : 1 if len(str(e).split('/')) > 1 else '0' )\n",
    "cenas = trainData[['has_multiple_colors', 'Color']]\n",
    "cenas"
   ]
  },
  {
   "cell_type": "markdown",
   "metadata": {},
   "source": [
    "## Bi-variate Analysis\n",
    "\n",
    "Name, DateTime, OutcomeType, OutcomeSubtype, AnimalType, SexuponOutcome, AgeuponOutcome, Breed, Color"
   ]
  },
  {
   "cell_type": "code",
   "execution_count": 86,
   "metadata": {
    "collapsed": false
   },
   "outputs": [
    {
     "data": {
      "text/html": [
       "<div>\n",
       "<table border=\"1\" class=\"dataframe\">\n",
       "  <thead>\n",
       "    <tr style=\"text-align: right;\">\n",
       "      <th>OutcomeSubtype</th>\n",
       "      <th>Aggressive</th>\n",
       "      <th>At Vet</th>\n",
       "      <th>Barn</th>\n",
       "      <th>Behavior</th>\n",
       "      <th>Court/Investigation</th>\n",
       "      <th>Enroute</th>\n",
       "      <th>Foster</th>\n",
       "      <th>In Foster</th>\n",
       "      <th>In Kennel</th>\n",
       "      <th>In Surgery</th>\n",
       "      <th>Medical</th>\n",
       "      <th>Offsite</th>\n",
       "      <th>Partner</th>\n",
       "      <th>Rabies Risk</th>\n",
       "      <th>SCRP</th>\n",
       "      <th>Suffering</th>\n",
       "    </tr>\n",
       "    <tr>\n",
       "      <th>OutcomeType</th>\n",
       "      <th></th>\n",
       "      <th></th>\n",
       "      <th></th>\n",
       "      <th></th>\n",
       "      <th></th>\n",
       "      <th></th>\n",
       "      <th></th>\n",
       "      <th></th>\n",
       "      <th></th>\n",
       "      <th></th>\n",
       "      <th></th>\n",
       "      <th></th>\n",
       "      <th></th>\n",
       "      <th></th>\n",
       "      <th></th>\n",
       "      <th></th>\n",
       "    </tr>\n",
       "  </thead>\n",
       "  <tbody>\n",
       "    <tr>\n",
       "      <th>Adoption</th>\n",
       "      <td>0</td>\n",
       "      <td>0</td>\n",
       "      <td>1</td>\n",
       "      <td>0</td>\n",
       "      <td>0</td>\n",
       "      <td>0</td>\n",
       "      <td>1800</td>\n",
       "      <td>0</td>\n",
       "      <td>0</td>\n",
       "      <td>0</td>\n",
       "      <td>0</td>\n",
       "      <td>165</td>\n",
       "      <td>0</td>\n",
       "      <td>0</td>\n",
       "      <td>0</td>\n",
       "      <td>0</td>\n",
       "    </tr>\n",
       "    <tr>\n",
       "      <th>Died</th>\n",
       "      <td>0</td>\n",
       "      <td>4</td>\n",
       "      <td>0</td>\n",
       "      <td>0</td>\n",
       "      <td>0</td>\n",
       "      <td>8</td>\n",
       "      <td>0</td>\n",
       "      <td>52</td>\n",
       "      <td>114</td>\n",
       "      <td>3</td>\n",
       "      <td>0</td>\n",
       "      <td>0</td>\n",
       "      <td>0</td>\n",
       "      <td>0</td>\n",
       "      <td>0</td>\n",
       "      <td>0</td>\n",
       "    </tr>\n",
       "    <tr>\n",
       "      <th>Euthanasia</th>\n",
       "      <td>320</td>\n",
       "      <td>0</td>\n",
       "      <td>0</td>\n",
       "      <td>86</td>\n",
       "      <td>6</td>\n",
       "      <td>0</td>\n",
       "      <td>0</td>\n",
       "      <td>0</td>\n",
       "      <td>0</td>\n",
       "      <td>0</td>\n",
       "      <td>66</td>\n",
       "      <td>0</td>\n",
       "      <td>0</td>\n",
       "      <td>74</td>\n",
       "      <td>0</td>\n",
       "      <td>1002</td>\n",
       "    </tr>\n",
       "    <tr>\n",
       "      <th>Transfer</th>\n",
       "      <td>0</td>\n",
       "      <td>0</td>\n",
       "      <td>1</td>\n",
       "      <td>0</td>\n",
       "      <td>0</td>\n",
       "      <td>0</td>\n",
       "      <td>0</td>\n",
       "      <td>0</td>\n",
       "      <td>0</td>\n",
       "      <td>0</td>\n",
       "      <td>0</td>\n",
       "      <td>0</td>\n",
       "      <td>7816</td>\n",
       "      <td>0</td>\n",
       "      <td>1599</td>\n",
       "      <td>0</td>\n",
       "    </tr>\n",
       "  </tbody>\n",
       "</table>\n",
       "</div>"
      ],
      "text/plain": [
       "OutcomeSubtype  Aggressive  At Vet  Barn  Behavior  Court/Investigation  \\\n",
       "OutcomeType                                                               \n",
       "Adoption                 0       0     1         0                    0   \n",
       "Died                     0       4     0         0                    0   \n",
       "Euthanasia             320       0     0        86                    6   \n",
       "Transfer                 0       0     1         0                    0   \n",
       "\n",
       "OutcomeSubtype  Enroute  Foster  In Foster  In Kennel  In Surgery  Medical  \\\n",
       "OutcomeType                                                                  \n",
       "Adoption              0    1800          0          0           0        0   \n",
       "Died                  8       0         52        114           3        0   \n",
       "Euthanasia            0       0          0          0           0       66   \n",
       "Transfer              0       0          0          0           0        0   \n",
       "\n",
       "OutcomeSubtype  Offsite  Partner  Rabies Risk  SCRP  Suffering  \n",
       "OutcomeType                                                     \n",
       "Adoption            165        0            0     0          0  \n",
       "Died                  0        0            0     0          0  \n",
       "Euthanasia            0        0           74     0       1002  \n",
       "Transfer              0     7816            0  1599          0  "
      ]
     },
     "execution_count": 86,
     "metadata": {},
     "output_type": "execute_result"
    }
   ],
   "source": [
    "# Table of OutcomeSubtype vs OutcomeSubtype\n",
    "OutcomeType_class_1 = pd.crosstab(index=trainData[\"OutcomeType\"], \n",
    "                            columns=trainData[\"OutcomeSubtype\"])\n",
    "\n",
    "OutcomeType_class_1"
   ]
  },
  {
   "cell_type": "code",
   "execution_count": 104,
   "metadata": {
    "collapsed": false
   },
   "outputs": [
    {
     "data": {
      "text/html": [
       "<div>\n",
       "<table border=\"1\" class=\"dataframe\">\n",
       "  <thead>\n",
       "    <tr style=\"text-align: right;\">\n",
       "      <th>AnimalType</th>\n",
       "      <th>Cat</th>\n",
       "      <th>Dog</th>\n",
       "    </tr>\n",
       "    <tr>\n",
       "      <th>OutcomeType</th>\n",
       "      <th></th>\n",
       "      <th></th>\n",
       "    </tr>\n",
       "  </thead>\n",
       "  <tbody>\n",
       "    <tr>\n",
       "      <th>Adoption</th>\n",
       "      <td>4272</td>\n",
       "      <td>6497</td>\n",
       "    </tr>\n",
       "    <tr>\n",
       "      <th>Died</th>\n",
       "      <td>147</td>\n",
       "      <td>50</td>\n",
       "    </tr>\n",
       "    <tr>\n",
       "      <th>Euthanasia</th>\n",
       "      <td>710</td>\n",
       "      <td>845</td>\n",
       "    </tr>\n",
       "    <tr>\n",
       "      <th>Return_to_owner</th>\n",
       "      <td>500</td>\n",
       "      <td>4286</td>\n",
       "    </tr>\n",
       "    <tr>\n",
       "      <th>Transfer</th>\n",
       "      <td>5505</td>\n",
       "      <td>3917</td>\n",
       "    </tr>\n",
       "  </tbody>\n",
       "</table>\n",
       "</div>"
      ],
      "text/plain": [
       "AnimalType        Cat   Dog\n",
       "OutcomeType                \n",
       "Adoption         4272  6497\n",
       "Died              147    50\n",
       "Euthanasia        710   845\n",
       "Return_to_owner   500  4286\n",
       "Transfer         5505  3917"
      ]
     },
     "execution_count": 104,
     "metadata": {},
     "output_type": "execute_result"
    }
   ],
   "source": [
    "# Table of OutcomeSubtype vs AnimalType\n",
    "OutcomeType_class_2 = pd.crosstab(index=trainData[\"OutcomeType\"], \n",
    "                            columns=trainData[\"AnimalType\"])\n",
    "\n",
    "OutcomeType_class_2"
   ]
  },
  {
   "cell_type": "code",
   "execution_count": 105,
   "metadata": {
    "collapsed": false
   },
   "outputs": [
    {
     "data": {
      "text/html": [
       "<div>\n",
       "<table border=\"1\" class=\"dataframe\">\n",
       "  <thead>\n",
       "    <tr style=\"text-align: right;\">\n",
       "      <th>SexuponOutcome</th>\n",
       "      <th>Intact Female</th>\n",
       "      <th>Intact Male</th>\n",
       "      <th>Neutered Male</th>\n",
       "      <th>Spayed Female</th>\n",
       "      <th>Unknown</th>\n",
       "    </tr>\n",
       "    <tr>\n",
       "      <th>OutcomeType</th>\n",
       "      <th></th>\n",
       "      <th></th>\n",
       "      <th></th>\n",
       "      <th></th>\n",
       "      <th></th>\n",
       "    </tr>\n",
       "  </thead>\n",
       "  <tbody>\n",
       "    <tr>\n",
       "      <th>Adoption</th>\n",
       "      <td>203</td>\n",
       "      <td>158</td>\n",
       "      <td>5222</td>\n",
       "      <td>5186</td>\n",
       "      <td>0</td>\n",
       "    </tr>\n",
       "    <tr>\n",
       "      <th>Died</th>\n",
       "      <td>56</td>\n",
       "      <td>79</td>\n",
       "      <td>19</td>\n",
       "      <td>18</td>\n",
       "      <td>25</td>\n",
       "    </tr>\n",
       "    <tr>\n",
       "      <th>Euthanasia</th>\n",
       "      <td>401</td>\n",
       "      <td>477</td>\n",
       "      <td>344</td>\n",
       "      <td>232</td>\n",
       "      <td>101</td>\n",
       "    </tr>\n",
       "    <tr>\n",
       "      <th>Return_to_owner</th>\n",
       "      <td>301</td>\n",
       "      <td>477</td>\n",
       "      <td>2247</td>\n",
       "      <td>1748</td>\n",
       "      <td>12</td>\n",
       "    </tr>\n",
       "    <tr>\n",
       "      <th>Transfer</th>\n",
       "      <td>2550</td>\n",
       "      <td>2334</td>\n",
       "      <td>1947</td>\n",
       "      <td>1636</td>\n",
       "      <td>955</td>\n",
       "    </tr>\n",
       "  </tbody>\n",
       "</table>\n",
       "</div>"
      ],
      "text/plain": [
       "SexuponOutcome   Intact Female  Intact Male  Neutered Male  Spayed Female  \\\n",
       "OutcomeType                                                                 \n",
       "Adoption                   203          158           5222           5186   \n",
       "Died                        56           79             19             18   \n",
       "Euthanasia                 401          477            344            232   \n",
       "Return_to_owner            301          477           2247           1748   \n",
       "Transfer                  2550         2334           1947           1636   \n",
       "\n",
       "SexuponOutcome   Unknown  \n",
       "OutcomeType               \n",
       "Adoption               0  \n",
       "Died                  25  \n",
       "Euthanasia           101  \n",
       "Return_to_owner       12  \n",
       "Transfer             955  "
      ]
     },
     "execution_count": 105,
     "metadata": {},
     "output_type": "execute_result"
    }
   ],
   "source": [
    "# Table of OutcomeSubtype vs SexuponOutcome\n",
    "OutcomeType_class_3 = pd.crosstab(index=trainData[\"OutcomeType\"], \n",
    "                            columns=trainData[\"SexuponOutcome\"])\n",
    "\n",
    "OutcomeType_class_3"
   ]
  },
  {
   "cell_type": "code",
   "execution_count": 115,
   "metadata": {
    "collapsed": false
   },
   "outputs": [
    {
     "data": {
      "text/html": [
       "<div>\n",
       "<table border=\"1\" class=\"dataframe\">\n",
       "  <thead>\n",
       "    <tr style=\"text-align: right;\">\n",
       "      <th>AgeuponOutcome</th>\n",
       "      <th>0 years</th>\n",
       "      <th>1 day</th>\n",
       "      <th>1 month</th>\n",
       "      <th>1 week</th>\n",
       "      <th>1 weeks</th>\n",
       "      <th>1 year</th>\n",
       "      <th>10 months</th>\n",
       "      <th>10 years</th>\n",
       "      <th>11 months</th>\n",
       "      <th>11 years</th>\n",
       "      <th>...</th>\n",
       "      <th>6 days</th>\n",
       "      <th>6 months</th>\n",
       "      <th>6 years</th>\n",
       "      <th>7 months</th>\n",
       "      <th>7 years</th>\n",
       "      <th>8 months</th>\n",
       "      <th>8 years</th>\n",
       "      <th>9 months</th>\n",
       "      <th>9 years</th>\n",
       "      <th>All</th>\n",
       "    </tr>\n",
       "    <tr>\n",
       "      <th>OutcomeType</th>\n",
       "      <th></th>\n",
       "      <th></th>\n",
       "      <th></th>\n",
       "      <th></th>\n",
       "      <th></th>\n",
       "      <th></th>\n",
       "      <th></th>\n",
       "      <th></th>\n",
       "      <th></th>\n",
       "      <th></th>\n",
       "      <th></th>\n",
       "      <th></th>\n",
       "      <th></th>\n",
       "      <th></th>\n",
       "      <th></th>\n",
       "      <th></th>\n",
       "      <th></th>\n",
       "      <th></th>\n",
       "      <th></th>\n",
       "      <th></th>\n",
       "      <th></th>\n",
       "    </tr>\n",
       "  </thead>\n",
       "  <tbody>\n",
       "    <tr>\n",
       "      <th>Adoption</th>\n",
       "      <td>0</td>\n",
       "      <td>0</td>\n",
       "      <td>444</td>\n",
       "      <td>0</td>\n",
       "      <td>0</td>\n",
       "      <td>1623</td>\n",
       "      <td>238</td>\n",
       "      <td>108</td>\n",
       "      <td>80</td>\n",
       "      <td>32</td>\n",
       "      <td>...</td>\n",
       "      <td>0</td>\n",
       "      <td>291</td>\n",
       "      <td>204</td>\n",
       "      <td>139</td>\n",
       "      <td>151</td>\n",
       "      <td>205</td>\n",
       "      <td>166</td>\n",
       "      <td>94</td>\n",
       "      <td>86</td>\n",
       "      <td>10769</td>\n",
       "    </tr>\n",
       "    <tr>\n",
       "      <th>Died</th>\n",
       "      <td>1</td>\n",
       "      <td>2</td>\n",
       "      <td>48</td>\n",
       "      <td>3</td>\n",
       "      <td>3</td>\n",
       "      <td>13</td>\n",
       "      <td>1</td>\n",
       "      <td>9</td>\n",
       "      <td>0</td>\n",
       "      <td>0</td>\n",
       "      <td>...</td>\n",
       "      <td>4</td>\n",
       "      <td>2</td>\n",
       "      <td>0</td>\n",
       "      <td>2</td>\n",
       "      <td>3</td>\n",
       "      <td>0</td>\n",
       "      <td>1</td>\n",
       "      <td>0</td>\n",
       "      <td>1</td>\n",
       "      <td>197</td>\n",
       "    </tr>\n",
       "    <tr>\n",
       "      <th>Euthanasia</th>\n",
       "      <td>2</td>\n",
       "      <td>0</td>\n",
       "      <td>131</td>\n",
       "      <td>6</td>\n",
       "      <td>6</td>\n",
       "      <td>184</td>\n",
       "      <td>6</td>\n",
       "      <td>69</td>\n",
       "      <td>2</td>\n",
       "      <td>14</td>\n",
       "      <td>...</td>\n",
       "      <td>0</td>\n",
       "      <td>17</td>\n",
       "      <td>53</td>\n",
       "      <td>8</td>\n",
       "      <td>41</td>\n",
       "      <td>9</td>\n",
       "      <td>51</td>\n",
       "      <td>9</td>\n",
       "      <td>38</td>\n",
       "      <td>1553</td>\n",
       "    </tr>\n",
       "    <tr>\n",
       "      <th>Return_to_owner</th>\n",
       "      <td>0</td>\n",
       "      <td>6</td>\n",
       "      <td>11</td>\n",
       "      <td>0</td>\n",
       "      <td>0</td>\n",
       "      <td>732</td>\n",
       "      <td>51</td>\n",
       "      <td>156</td>\n",
       "      <td>34</td>\n",
       "      <td>62</td>\n",
       "      <td>...</td>\n",
       "      <td>0</td>\n",
       "      <td>47</td>\n",
       "      <td>251</td>\n",
       "      <td>32</td>\n",
       "      <td>217</td>\n",
       "      <td>50</td>\n",
       "      <td>199</td>\n",
       "      <td>54</td>\n",
       "      <td>113</td>\n",
       "      <td>4786</td>\n",
       "    </tr>\n",
       "    <tr>\n",
       "      <th>Transfer</th>\n",
       "      <td>19</td>\n",
       "      <td>58</td>\n",
       "      <td>647</td>\n",
       "      <td>137</td>\n",
       "      <td>162</td>\n",
       "      <td>1417</td>\n",
       "      <td>161</td>\n",
       "      <td>104</td>\n",
       "      <td>50</td>\n",
       "      <td>18</td>\n",
       "      <td>...</td>\n",
       "      <td>46</td>\n",
       "      <td>231</td>\n",
       "      <td>162</td>\n",
       "      <td>107</td>\n",
       "      <td>119</td>\n",
       "      <td>138</td>\n",
       "      <td>119</td>\n",
       "      <td>67</td>\n",
       "      <td>50</td>\n",
       "      <td>9406</td>\n",
       "    </tr>\n",
       "    <tr>\n",
       "      <th>All</th>\n",
       "      <td>22</td>\n",
       "      <td>66</td>\n",
       "      <td>1281</td>\n",
       "      <td>146</td>\n",
       "      <td>171</td>\n",
       "      <td>3969</td>\n",
       "      <td>457</td>\n",
       "      <td>446</td>\n",
       "      <td>166</td>\n",
       "      <td>126</td>\n",
       "      <td>...</td>\n",
       "      <td>50</td>\n",
       "      <td>588</td>\n",
       "      <td>670</td>\n",
       "      <td>288</td>\n",
       "      <td>531</td>\n",
       "      <td>402</td>\n",
       "      <td>536</td>\n",
       "      <td>224</td>\n",
       "      <td>288</td>\n",
       "      <td>26711</td>\n",
       "    </tr>\n",
       "  </tbody>\n",
       "</table>\n",
       "<p>6 rows × 45 columns</p>\n",
       "</div>"
      ],
      "text/plain": [
       "AgeuponOutcome   0 years  1 day  1 month  1 week  1 weeks  1 year  10 months  \\\n",
       "OutcomeType                                                                    \n",
       "Adoption               0      0      444       0        0    1623        238   \n",
       "Died                   1      2       48       3        3      13          1   \n",
       "Euthanasia             2      0      131       6        6     184          6   \n",
       "Return_to_owner        0      6       11       0        0     732         51   \n",
       "Transfer              19     58      647     137      162    1417        161   \n",
       "All                   22     66     1281     146      171    3969        457   \n",
       "\n",
       "AgeuponOutcome   10 years  11 months  11 years  ...    6 days  6 months  \\\n",
       "OutcomeType                                     ...                       \n",
       "Adoption              108         80        32  ...         0       291   \n",
       "Died                    9          0         0  ...         4         2   \n",
       "Euthanasia             69          2        14  ...         0        17   \n",
       "Return_to_owner       156         34        62  ...         0        47   \n",
       "Transfer              104         50        18  ...        46       231   \n",
       "All                   446        166       126  ...        50       588   \n",
       "\n",
       "AgeuponOutcome   6 years  7 months  7 years  8 months  8 years  9 months  \\\n",
       "OutcomeType                                                                \n",
       "Adoption             204       139      151       205      166        94   \n",
       "Died                   0         2        3         0        1         0   \n",
       "Euthanasia            53         8       41         9       51         9   \n",
       "Return_to_owner      251        32      217        50      199        54   \n",
       "Transfer             162       107      119       138      119        67   \n",
       "All                  670       288      531       402      536       224   \n",
       "\n",
       "AgeuponOutcome   9 years    All  \n",
       "OutcomeType                      \n",
       "Adoption              86  10769  \n",
       "Died                   1    197  \n",
       "Euthanasia            38   1553  \n",
       "Return_to_owner      113   4786  \n",
       "Transfer              50   9406  \n",
       "All                  288  26711  \n",
       "\n",
       "[6 rows x 45 columns]"
      ]
     },
     "execution_count": 115,
     "metadata": {},
     "output_type": "execute_result"
    }
   ],
   "source": [
    "# Table of OutcomeSubtype vs AgeuponOutcome\n",
    "OutcomeType_class_4 = pd.crosstab(index=trainData[\"OutcomeType\"], \n",
    "                            columns=trainData[\"AgeuponOutcome\"], margins=True)\n",
    "\n",
    "OutcomeType_class_4"
   ]
  },
  {
   "cell_type": "code",
   "execution_count": 116,
   "metadata": {
    "collapsed": false
   },
   "outputs": [
    {
     "data": {
      "text/html": [
       "<div>\n",
       "<table border=\"1\" class=\"dataframe\">\n",
       "  <thead>\n",
       "    <tr style=\"text-align: right;\">\n",
       "      <th>Breed</th>\n",
       "      <th>Abyssinian Mix</th>\n",
       "      <th>Affenpinscher Mix</th>\n",
       "      <th>Afghan Hound Mix</th>\n",
       "      <th>Airedale Terrier</th>\n",
       "      <th>Airedale Terrier Mix</th>\n",
       "      <th>Airedale Terrier/Labrador Retriever</th>\n",
       "      <th>Airedale Terrier/Miniature Schnauzer</th>\n",
       "      <th>Akita</th>\n",
       "      <th>Akita Mix</th>\n",
       "      <th>Akita/Australian Cattle Dog</th>\n",
       "      <th>...</th>\n",
       "      <th>Yorkshire Terrier/Dachshund Wirehair</th>\n",
       "      <th>Yorkshire Terrier/Maltese</th>\n",
       "      <th>Yorkshire Terrier/Miniature Poodle</th>\n",
       "      <th>Yorkshire Terrier/Miniature Schnauzer</th>\n",
       "      <th>Yorkshire Terrier/Norfolk Terrier</th>\n",
       "      <th>Yorkshire Terrier/Parson Russell Terrier</th>\n",
       "      <th>Yorkshire Terrier/Pomeranian</th>\n",
       "      <th>Yorkshire Terrier/Rat Terrier</th>\n",
       "      <th>Yorkshire Terrier/Toy Poodle</th>\n",
       "      <th>All</th>\n",
       "    </tr>\n",
       "    <tr>\n",
       "      <th>OutcomeType</th>\n",
       "      <th></th>\n",
       "      <th></th>\n",
       "      <th></th>\n",
       "      <th></th>\n",
       "      <th></th>\n",
       "      <th></th>\n",
       "      <th></th>\n",
       "      <th></th>\n",
       "      <th></th>\n",
       "      <th></th>\n",
       "      <th></th>\n",
       "      <th></th>\n",
       "      <th></th>\n",
       "      <th></th>\n",
       "      <th></th>\n",
       "      <th></th>\n",
       "      <th></th>\n",
       "      <th></th>\n",
       "      <th></th>\n",
       "      <th></th>\n",
       "      <th></th>\n",
       "    </tr>\n",
       "  </thead>\n",
       "  <tbody>\n",
       "    <tr>\n",
       "      <th>Adoption</th>\n",
       "      <td>2</td>\n",
       "      <td>4</td>\n",
       "      <td>0</td>\n",
       "      <td>0</td>\n",
       "      <td>1</td>\n",
       "      <td>0</td>\n",
       "      <td>1</td>\n",
       "      <td>2</td>\n",
       "      <td>4</td>\n",
       "      <td>1</td>\n",
       "      <td>...</td>\n",
       "      <td>0</td>\n",
       "      <td>1</td>\n",
       "      <td>5</td>\n",
       "      <td>4</td>\n",
       "      <td>1</td>\n",
       "      <td>1</td>\n",
       "      <td>1</td>\n",
       "      <td>3</td>\n",
       "      <td>0</td>\n",
       "      <td>10769</td>\n",
       "    </tr>\n",
       "    <tr>\n",
       "      <th>Died</th>\n",
       "      <td>0</td>\n",
       "      <td>0</td>\n",
       "      <td>0</td>\n",
       "      <td>0</td>\n",
       "      <td>0</td>\n",
       "      <td>0</td>\n",
       "      <td>0</td>\n",
       "      <td>0</td>\n",
       "      <td>0</td>\n",
       "      <td>0</td>\n",
       "      <td>...</td>\n",
       "      <td>0</td>\n",
       "      <td>0</td>\n",
       "      <td>0</td>\n",
       "      <td>0</td>\n",
       "      <td>0</td>\n",
       "      <td>0</td>\n",
       "      <td>0</td>\n",
       "      <td>0</td>\n",
       "      <td>0</td>\n",
       "      <td>197</td>\n",
       "    </tr>\n",
       "    <tr>\n",
       "      <th>Euthanasia</th>\n",
       "      <td>0</td>\n",
       "      <td>0</td>\n",
       "      <td>0</td>\n",
       "      <td>0</td>\n",
       "      <td>0</td>\n",
       "      <td>0</td>\n",
       "      <td>0</td>\n",
       "      <td>1</td>\n",
       "      <td>0</td>\n",
       "      <td>0</td>\n",
       "      <td>...</td>\n",
       "      <td>0</td>\n",
       "      <td>2</td>\n",
       "      <td>0</td>\n",
       "      <td>0</td>\n",
       "      <td>0</td>\n",
       "      <td>0</td>\n",
       "      <td>0</td>\n",
       "      <td>0</td>\n",
       "      <td>0</td>\n",
       "      <td>1555</td>\n",
       "    </tr>\n",
       "    <tr>\n",
       "      <th>Return_to_owner</th>\n",
       "      <td>0</td>\n",
       "      <td>2</td>\n",
       "      <td>1</td>\n",
       "      <td>0</td>\n",
       "      <td>2</td>\n",
       "      <td>0</td>\n",
       "      <td>0</td>\n",
       "      <td>0</td>\n",
       "      <td>5</td>\n",
       "      <td>0</td>\n",
       "      <td>...</td>\n",
       "      <td>0</td>\n",
       "      <td>0</td>\n",
       "      <td>3</td>\n",
       "      <td>1</td>\n",
       "      <td>0</td>\n",
       "      <td>0</td>\n",
       "      <td>0</td>\n",
       "      <td>0</td>\n",
       "      <td>1</td>\n",
       "      <td>4786</td>\n",
       "    </tr>\n",
       "    <tr>\n",
       "      <th>Transfer</th>\n",
       "      <td>0</td>\n",
       "      <td>0</td>\n",
       "      <td>0</td>\n",
       "      <td>1</td>\n",
       "      <td>2</td>\n",
       "      <td>1</td>\n",
       "      <td>0</td>\n",
       "      <td>0</td>\n",
       "      <td>2</td>\n",
       "      <td>0</td>\n",
       "      <td>...</td>\n",
       "      <td>1</td>\n",
       "      <td>1</td>\n",
       "      <td>4</td>\n",
       "      <td>3</td>\n",
       "      <td>0</td>\n",
       "      <td>0</td>\n",
       "      <td>0</td>\n",
       "      <td>1</td>\n",
       "      <td>0</td>\n",
       "      <td>9422</td>\n",
       "    </tr>\n",
       "    <tr>\n",
       "      <th>All</th>\n",
       "      <td>2</td>\n",
       "      <td>6</td>\n",
       "      <td>1</td>\n",
       "      <td>1</td>\n",
       "      <td>5</td>\n",
       "      <td>1</td>\n",
       "      <td>1</td>\n",
       "      <td>3</td>\n",
       "      <td>11</td>\n",
       "      <td>1</td>\n",
       "      <td>...</td>\n",
       "      <td>1</td>\n",
       "      <td>4</td>\n",
       "      <td>12</td>\n",
       "      <td>8</td>\n",
       "      <td>1</td>\n",
       "      <td>1</td>\n",
       "      <td>1</td>\n",
       "      <td>4</td>\n",
       "      <td>1</td>\n",
       "      <td>26729</td>\n",
       "    </tr>\n",
       "  </tbody>\n",
       "</table>\n",
       "<p>6 rows × 1381 columns</p>\n",
       "</div>"
      ],
      "text/plain": [
       "Breed            Abyssinian Mix  Affenpinscher Mix  Afghan Hound Mix  \\\n",
       "OutcomeType                                                            \n",
       "Adoption                      2                  4                 0   \n",
       "Died                          0                  0                 0   \n",
       "Euthanasia                    0                  0                 0   \n",
       "Return_to_owner               0                  2                 1   \n",
       "Transfer                      0                  0                 0   \n",
       "All                           2                  6                 1   \n",
       "\n",
       "Breed            Airedale Terrier  Airedale Terrier Mix  \\\n",
       "OutcomeType                                               \n",
       "Adoption                        0                     1   \n",
       "Died                            0                     0   \n",
       "Euthanasia                      0                     0   \n",
       "Return_to_owner                 0                     2   \n",
       "Transfer                        1                     2   \n",
       "All                             1                     5   \n",
       "\n",
       "Breed            Airedale Terrier/Labrador Retriever  \\\n",
       "OutcomeType                                            \n",
       "Adoption                                           0   \n",
       "Died                                               0   \n",
       "Euthanasia                                         0   \n",
       "Return_to_owner                                    0   \n",
       "Transfer                                           1   \n",
       "All                                                1   \n",
       "\n",
       "Breed            Airedale Terrier/Miniature Schnauzer  Akita  Akita Mix  \\\n",
       "OutcomeType                                                               \n",
       "Adoption                                            1      2          4   \n",
       "Died                                                0      0          0   \n",
       "Euthanasia                                          0      1          0   \n",
       "Return_to_owner                                     0      0          5   \n",
       "Transfer                                            0      0          2   \n",
       "All                                                 1      3         11   \n",
       "\n",
       "Breed            Akita/Australian Cattle Dog  ...    \\\n",
       "OutcomeType                                   ...     \n",
       "Adoption                                   1  ...     \n",
       "Died                                       0  ...     \n",
       "Euthanasia                                 0  ...     \n",
       "Return_to_owner                            0  ...     \n",
       "Transfer                                   0  ...     \n",
       "All                                        1  ...     \n",
       "\n",
       "Breed            Yorkshire Terrier/Dachshund Wirehair  \\\n",
       "OutcomeType                                             \n",
       "Adoption                                            0   \n",
       "Died                                                0   \n",
       "Euthanasia                                          0   \n",
       "Return_to_owner                                     0   \n",
       "Transfer                                            1   \n",
       "All                                                 1   \n",
       "\n",
       "Breed            Yorkshire Terrier/Maltese  \\\n",
       "OutcomeType                                  \n",
       "Adoption                                 1   \n",
       "Died                                     0   \n",
       "Euthanasia                               2   \n",
       "Return_to_owner                          0   \n",
       "Transfer                                 1   \n",
       "All                                      4   \n",
       "\n",
       "Breed            Yorkshire Terrier/Miniature Poodle  \\\n",
       "OutcomeType                                           \n",
       "Adoption                                          5   \n",
       "Died                                              0   \n",
       "Euthanasia                                        0   \n",
       "Return_to_owner                                   3   \n",
       "Transfer                                          4   \n",
       "All                                              12   \n",
       "\n",
       "Breed            Yorkshire Terrier/Miniature Schnauzer  \\\n",
       "OutcomeType                                              \n",
       "Adoption                                             4   \n",
       "Died                                                 0   \n",
       "Euthanasia                                           0   \n",
       "Return_to_owner                                      1   \n",
       "Transfer                                             3   \n",
       "All                                                  8   \n",
       "\n",
       "Breed            Yorkshire Terrier/Norfolk Terrier  \\\n",
       "OutcomeType                                          \n",
       "Adoption                                         1   \n",
       "Died                                             0   \n",
       "Euthanasia                                       0   \n",
       "Return_to_owner                                  0   \n",
       "Transfer                                         0   \n",
       "All                                              1   \n",
       "\n",
       "Breed            Yorkshire Terrier/Parson Russell Terrier  \\\n",
       "OutcomeType                                                 \n",
       "Adoption                                                1   \n",
       "Died                                                    0   \n",
       "Euthanasia                                              0   \n",
       "Return_to_owner                                         0   \n",
       "Transfer                                                0   \n",
       "All                                                     1   \n",
       "\n",
       "Breed            Yorkshire Terrier/Pomeranian  Yorkshire Terrier/Rat Terrier  \\\n",
       "OutcomeType                                                                    \n",
       "Adoption                                    1                              3   \n",
       "Died                                        0                              0   \n",
       "Euthanasia                                  0                              0   \n",
       "Return_to_owner                             0                              0   \n",
       "Transfer                                    0                              1   \n",
       "All                                         1                              4   \n",
       "\n",
       "Breed            Yorkshire Terrier/Toy Poodle    All  \n",
       "OutcomeType                                           \n",
       "Adoption                                    0  10769  \n",
       "Died                                        0    197  \n",
       "Euthanasia                                  0   1555  \n",
       "Return_to_owner                             1   4786  \n",
       "Transfer                                    0   9422  \n",
       "All                                         1  26729  \n",
       "\n",
       "[6 rows x 1381 columns]"
      ]
     },
     "execution_count": 116,
     "metadata": {},
     "output_type": "execute_result"
    }
   ],
   "source": [
    "# Table of OutcomeSubtype vs Breed\n",
    "OutcomeType_class_5 = pd.crosstab(index=trainData[\"OutcomeType\"], \n",
    "                            columns=trainData[\"Breed\"], margins=True)\n",
    "\n",
    "OutcomeType_class_5"
   ]
  },
  {
   "cell_type": "code",
   "execution_count": 117,
   "metadata": {
    "collapsed": false
   },
   "outputs": [
    {
     "data": {
      "text/html": [
       "<div>\n",
       "<table border=\"1\" class=\"dataframe\">\n",
       "  <thead>\n",
       "    <tr style=\"text-align: right;\">\n",
       "      <th>Color</th>\n",
       "      <th>Agouti</th>\n",
       "      <th>Agouti/Brown Tabby</th>\n",
       "      <th>Apricot</th>\n",
       "      <th>Apricot/Brown</th>\n",
       "      <th>Apricot/White</th>\n",
       "      <th>Black</th>\n",
       "      <th>Black Brindle</th>\n",
       "      <th>Black Brindle/Black</th>\n",
       "      <th>Black Brindle/Brown</th>\n",
       "      <th>Black Brindle/Brown Brindle</th>\n",
       "      <th>...</th>\n",
       "      <th>White/Yellow Brindle</th>\n",
       "      <th>Yellow</th>\n",
       "      <th>Yellow Brindle</th>\n",
       "      <th>Yellow Brindle/Blue</th>\n",
       "      <th>Yellow Brindle/Tan</th>\n",
       "      <th>Yellow Brindle/White</th>\n",
       "      <th>Yellow/Black</th>\n",
       "      <th>Yellow/White</th>\n",
       "      <th>Yellow/Yellow</th>\n",
       "      <th>All</th>\n",
       "    </tr>\n",
       "    <tr>\n",
       "      <th>OutcomeType</th>\n",
       "      <th></th>\n",
       "      <th></th>\n",
       "      <th></th>\n",
       "      <th></th>\n",
       "      <th></th>\n",
       "      <th></th>\n",
       "      <th></th>\n",
       "      <th></th>\n",
       "      <th></th>\n",
       "      <th></th>\n",
       "      <th></th>\n",
       "      <th></th>\n",
       "      <th></th>\n",
       "      <th></th>\n",
       "      <th></th>\n",
       "      <th></th>\n",
       "      <th></th>\n",
       "      <th></th>\n",
       "      <th></th>\n",
       "      <th></th>\n",
       "      <th></th>\n",
       "    </tr>\n",
       "  </thead>\n",
       "  <tbody>\n",
       "    <tr>\n",
       "      <th>Adoption</th>\n",
       "      <td>0</td>\n",
       "      <td>1</td>\n",
       "      <td>8</td>\n",
       "      <td>0</td>\n",
       "      <td>1</td>\n",
       "      <td>843</td>\n",
       "      <td>8</td>\n",
       "      <td>0</td>\n",
       "      <td>1</td>\n",
       "      <td>0</td>\n",
       "      <td>...</td>\n",
       "      <td>2</td>\n",
       "      <td>60</td>\n",
       "      <td>6</td>\n",
       "      <td>1</td>\n",
       "      <td>0</td>\n",
       "      <td>9</td>\n",
       "      <td>1</td>\n",
       "      <td>16</td>\n",
       "      <td>0</td>\n",
       "      <td>10769</td>\n",
       "    </tr>\n",
       "    <tr>\n",
       "      <th>Died</th>\n",
       "      <td>0</td>\n",
       "      <td>0</td>\n",
       "      <td>0</td>\n",
       "      <td>0</td>\n",
       "      <td>0</td>\n",
       "      <td>20</td>\n",
       "      <td>0</td>\n",
       "      <td>0</td>\n",
       "      <td>0</td>\n",
       "      <td>0</td>\n",
       "      <td>...</td>\n",
       "      <td>0</td>\n",
       "      <td>0</td>\n",
       "      <td>0</td>\n",
       "      <td>0</td>\n",
       "      <td>0</td>\n",
       "      <td>0</td>\n",
       "      <td>0</td>\n",
       "      <td>1</td>\n",
       "      <td>0</td>\n",
       "      <td>197</td>\n",
       "    </tr>\n",
       "    <tr>\n",
       "      <th>Euthanasia</th>\n",
       "      <td>0</td>\n",
       "      <td>0</td>\n",
       "      <td>0</td>\n",
       "      <td>0</td>\n",
       "      <td>0</td>\n",
       "      <td>145</td>\n",
       "      <td>2</td>\n",
       "      <td>0</td>\n",
       "      <td>0</td>\n",
       "      <td>1</td>\n",
       "      <td>...</td>\n",
       "      <td>0</td>\n",
       "      <td>6</td>\n",
       "      <td>0</td>\n",
       "      <td>0</td>\n",
       "      <td>0</td>\n",
       "      <td>4</td>\n",
       "      <td>0</td>\n",
       "      <td>3</td>\n",
       "      <td>0</td>\n",
       "      <td>1555</td>\n",
       "    </tr>\n",
       "    <tr>\n",
       "      <th>Return_to_owner</th>\n",
       "      <td>1</td>\n",
       "      <td>0</td>\n",
       "      <td>6</td>\n",
       "      <td>1</td>\n",
       "      <td>1</td>\n",
       "      <td>312</td>\n",
       "      <td>5</td>\n",
       "      <td>1</td>\n",
       "      <td>1</td>\n",
       "      <td>0</td>\n",
       "      <td>...</td>\n",
       "      <td>2</td>\n",
       "      <td>78</td>\n",
       "      <td>2</td>\n",
       "      <td>0</td>\n",
       "      <td>1</td>\n",
       "      <td>2</td>\n",
       "      <td>0</td>\n",
       "      <td>13</td>\n",
       "      <td>1</td>\n",
       "      <td>4786</td>\n",
       "    </tr>\n",
       "    <tr>\n",
       "      <th>Transfer</th>\n",
       "      <td>0</td>\n",
       "      <td>0</td>\n",
       "      <td>7</td>\n",
       "      <td>1</td>\n",
       "      <td>1</td>\n",
       "      <td>972</td>\n",
       "      <td>5</td>\n",
       "      <td>0</td>\n",
       "      <td>1</td>\n",
       "      <td>0</td>\n",
       "      <td>...</td>\n",
       "      <td>0</td>\n",
       "      <td>41</td>\n",
       "      <td>4</td>\n",
       "      <td>0</td>\n",
       "      <td>0</td>\n",
       "      <td>2</td>\n",
       "      <td>0</td>\n",
       "      <td>10</td>\n",
       "      <td>0</td>\n",
       "      <td>9422</td>\n",
       "    </tr>\n",
       "    <tr>\n",
       "      <th>All</th>\n",
       "      <td>1</td>\n",
       "      <td>1</td>\n",
       "      <td>21</td>\n",
       "      <td>2</td>\n",
       "      <td>3</td>\n",
       "      <td>2292</td>\n",
       "      <td>20</td>\n",
       "      <td>1</td>\n",
       "      <td>3</td>\n",
       "      <td>1</td>\n",
       "      <td>...</td>\n",
       "      <td>4</td>\n",
       "      <td>185</td>\n",
       "      <td>12</td>\n",
       "      <td>1</td>\n",
       "      <td>1</td>\n",
       "      <td>17</td>\n",
       "      <td>1</td>\n",
       "      <td>43</td>\n",
       "      <td>1</td>\n",
       "      <td>26729</td>\n",
       "    </tr>\n",
       "  </tbody>\n",
       "</table>\n",
       "<p>6 rows × 367 columns</p>\n",
       "</div>"
      ],
      "text/plain": [
       "Color            Agouti  Agouti/Brown Tabby  Apricot  Apricot/Brown  \\\n",
       "OutcomeType                                                           \n",
       "Adoption              0                   1        8              0   \n",
       "Died                  0                   0        0              0   \n",
       "Euthanasia            0                   0        0              0   \n",
       "Return_to_owner       1                   0        6              1   \n",
       "Transfer              0                   0        7              1   \n",
       "All                   1                   1       21              2   \n",
       "\n",
       "Color            Apricot/White  Black  Black Brindle  Black Brindle/Black  \\\n",
       "OutcomeType                                                                 \n",
       "Adoption                     1    843              8                    0   \n",
       "Died                         0     20              0                    0   \n",
       "Euthanasia                   0    145              2                    0   \n",
       "Return_to_owner              1    312              5                    1   \n",
       "Transfer                     1    972              5                    0   \n",
       "All                          3   2292             20                    1   \n",
       "\n",
       "Color            Black Brindle/Brown  Black Brindle/Brown Brindle  ...    \\\n",
       "OutcomeType                                                        ...     \n",
       "Adoption                           1                            0  ...     \n",
       "Died                               0                            0  ...     \n",
       "Euthanasia                         0                            1  ...     \n",
       "Return_to_owner                    1                            0  ...     \n",
       "Transfer                           1                            0  ...     \n",
       "All                                3                            1  ...     \n",
       "\n",
       "Color            White/Yellow Brindle  Yellow  Yellow Brindle  \\\n",
       "OutcomeType                                                     \n",
       "Adoption                            2      60               6   \n",
       "Died                                0       0               0   \n",
       "Euthanasia                          0       6               0   \n",
       "Return_to_owner                     2      78               2   \n",
       "Transfer                            0      41               4   \n",
       "All                                 4     185              12   \n",
       "\n",
       "Color            Yellow Brindle/Blue  Yellow Brindle/Tan  \\\n",
       "OutcomeType                                                \n",
       "Adoption                           1                   0   \n",
       "Died                               0                   0   \n",
       "Euthanasia                         0                   0   \n",
       "Return_to_owner                    0                   1   \n",
       "Transfer                           0                   0   \n",
       "All                                1                   1   \n",
       "\n",
       "Color            Yellow Brindle/White  Yellow/Black  Yellow/White  \\\n",
       "OutcomeType                                                         \n",
       "Adoption                            9             1            16   \n",
       "Died                                0             0             1   \n",
       "Euthanasia                          4             0             3   \n",
       "Return_to_owner                     2             0            13   \n",
       "Transfer                            2             0            10   \n",
       "All                                17             1            43   \n",
       "\n",
       "Color            Yellow/Yellow    All  \n",
       "OutcomeType                            \n",
       "Adoption                     0  10769  \n",
       "Died                         0    197  \n",
       "Euthanasia                   0   1555  \n",
       "Return_to_owner              1   4786  \n",
       "Transfer                     0   9422  \n",
       "All                          1  26729  \n",
       "\n",
       "[6 rows x 367 columns]"
      ]
     },
     "execution_count": 117,
     "metadata": {},
     "output_type": "execute_result"
    }
   ],
   "source": [
    "# Table of OutcomeSubtype vs Color\n",
    "OutcomeType_class_6 = pd.crosstab(index=trainData[\"OutcomeType\"], \n",
    "                            columns=trainData[\"Color\"], margins=True)\n",
    "\n",
    "OutcomeType_class_6"
   ]
  }
 ],
 "metadata": {
  "kernelspec": {
   "display_name": "Python 3",
   "language": "python",
   "name": "python3"
  },
  "language_info": {
   "codemirror_mode": {
    "name": "ipython",
    "version": 3
   },
   "file_extension": ".py",
   "mimetype": "text/x-python",
   "name": "python",
   "nbconvert_exporter": "python",
   "pygments_lexer": "ipython3",
   "version": "3.4.5"
  }
 },
 "nbformat": 4,
 "nbformat_minor": 0
}
